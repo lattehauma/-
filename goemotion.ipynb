{
  "nbformat": 4,
  "nbformat_minor": 0,
  "metadata": {
    "colab": {
      "name": "final과제.ipynb의 사본",
      "provenance": [],
      "collapsed_sections": [],
      "mount_file_id": "1LobUu5-8Ubu6ORiJ2speL_-1PAnXUY0S",
      "authorship_tag": "ABX9TyNDxsl8BxeOB6IhfJkF83Ot",
      "include_colab_link": true
    },
    "kernelspec": {
      "name": "python3",
      "display_name": "Python 3"
    },
    "language_info": {
      "name": "python"
    },
    "widgets": {
      "application/vnd.jupyter.widget-state+json": {
        "6f397fa4b7a9460b87350cd978025509": {
          "model_module": "@jupyter-widgets/controls",
          "model_name": "HBoxModel",
          "state": {
            "_view_name": "HBoxView",
            "_dom_classes": [],
            "_model_name": "HBoxModel",
            "_view_module": "@jupyter-widgets/controls",
            "_model_module_version": "1.5.0",
            "_view_count": null,
            "_view_module_version": "1.5.0",
            "box_style": "",
            "layout": "IPY_MODEL_cf68c89e4c25483fbc159bd0a18b6e5b",
            "_model_module": "@jupyter-widgets/controls",
            "children": [
              "IPY_MODEL_23a887f28b3140dbb2d07cb8b58cec61",
              "IPY_MODEL_5b7799481373400a81c3282ab019a4ac"
            ]
          },
          "model_module_version": "1.5.0"
        },
        "cf68c89e4c25483fbc159bd0a18b6e5b": {
          "model_module": "@jupyter-widgets/base",
          "model_name": "LayoutModel",
          "state": {
            "_view_name": "LayoutView",
            "grid_template_rows": null,
            "right": null,
            "justify_content": null,
            "_view_module": "@jupyter-widgets/base",
            "overflow": null,
            "_model_module_version": "1.2.0",
            "_view_count": null,
            "flex_flow": null,
            "width": null,
            "min_width": null,
            "border": null,
            "align_items": null,
            "bottom": null,
            "_model_module": "@jupyter-widgets/base",
            "top": null,
            "grid_column": null,
            "overflow_y": null,
            "overflow_x": null,
            "grid_auto_flow": null,
            "grid_area": null,
            "grid_template_columns": null,
            "flex": null,
            "_model_name": "LayoutModel",
            "justify_items": null,
            "grid_row": null,
            "max_height": null,
            "align_content": null,
            "visibility": null,
            "align_self": null,
            "height": null,
            "min_height": null,
            "padding": null,
            "grid_auto_rows": null,
            "grid_gap": null,
            "max_width": null,
            "order": null,
            "_view_module_version": "1.2.0",
            "grid_template_areas": null,
            "object_position": null,
            "object_fit": null,
            "grid_auto_columns": null,
            "margin": null,
            "display": null,
            "left": null
          },
          "model_module_version": "1.2.0"
        },
        "23a887f28b3140dbb2d07cb8b58cec61": {
          "model_module": "@jupyter-widgets/controls",
          "model_name": "FloatProgressModel",
          "state": {
            "_view_name": "ProgressView",
            "style": "IPY_MODEL_f276c12193aa4a6ca0c9c45690799f04",
            "_dom_classes": [],
            "description": "Dl Completed...: 100%",
            "_model_name": "FloatProgressModel",
            "bar_style": "success",
            "max": 1,
            "_view_module": "@jupyter-widgets/controls",
            "_model_module_version": "1.5.0",
            "value": 1,
            "_view_count": null,
            "_view_module_version": "1.5.0",
            "orientation": "horizontal",
            "min": 0,
            "description_tooltip": null,
            "_model_module": "@jupyter-widgets/controls",
            "layout": "IPY_MODEL_c07ff971a4d04cadb5a3e74e73b625a3"
          },
          "model_module_version": "1.5.0"
        },
        "5b7799481373400a81c3282ab019a4ac": {
          "model_module": "@jupyter-widgets/controls",
          "model_name": "HTMLModel",
          "state": {
            "_view_name": "HTMLView",
            "style": "IPY_MODEL_7c25079a91ca40f085f46422f940cfb5",
            "_dom_classes": [],
            "description": "",
            "_model_name": "HTMLModel",
            "placeholder": "​",
            "_view_module": "@jupyter-widgets/controls",
            "_model_module_version": "1.5.0",
            "value": " 3/3 [00:01&lt;00:00,  1.96 url/s]",
            "_view_count": null,
            "_view_module_version": "1.5.0",
            "description_tooltip": null,
            "_model_module": "@jupyter-widgets/controls",
            "layout": "IPY_MODEL_bcfff34f39104b749fb336385f6fcb53"
          },
          "model_module_version": "1.5.0"
        },
        "f276c12193aa4a6ca0c9c45690799f04": {
          "model_module": "@jupyter-widgets/controls",
          "model_name": "ProgressStyleModel",
          "state": {
            "_view_name": "StyleView",
            "_model_name": "ProgressStyleModel",
            "description_width": "initial",
            "_view_module": "@jupyter-widgets/base",
            "_model_module_version": "1.5.0",
            "_view_count": null,
            "_view_module_version": "1.2.0",
            "bar_color": null,
            "_model_module": "@jupyter-widgets/controls"
          },
          "model_module_version": "1.5.0"
        },
        "c07ff971a4d04cadb5a3e74e73b625a3": {
          "model_module": "@jupyter-widgets/base",
          "model_name": "LayoutModel",
          "state": {
            "_view_name": "LayoutView",
            "grid_template_rows": null,
            "right": null,
            "justify_content": null,
            "_view_module": "@jupyter-widgets/base",
            "overflow": null,
            "_model_module_version": "1.2.0",
            "_view_count": null,
            "flex_flow": null,
            "width": null,
            "min_width": null,
            "border": null,
            "align_items": null,
            "bottom": null,
            "_model_module": "@jupyter-widgets/base",
            "top": null,
            "grid_column": null,
            "overflow_y": null,
            "overflow_x": null,
            "grid_auto_flow": null,
            "grid_area": null,
            "grid_template_columns": null,
            "flex": null,
            "_model_name": "LayoutModel",
            "justify_items": null,
            "grid_row": null,
            "max_height": null,
            "align_content": null,
            "visibility": null,
            "align_self": null,
            "height": null,
            "min_height": null,
            "padding": null,
            "grid_auto_rows": null,
            "grid_gap": null,
            "max_width": null,
            "order": null,
            "_view_module_version": "1.2.0",
            "grid_template_areas": null,
            "object_position": null,
            "object_fit": null,
            "grid_auto_columns": null,
            "margin": null,
            "display": null,
            "left": null
          },
          "model_module_version": "1.2.0"
        },
        "7c25079a91ca40f085f46422f940cfb5": {
          "model_module": "@jupyter-widgets/controls",
          "model_name": "DescriptionStyleModel",
          "state": {
            "_view_name": "StyleView",
            "_model_name": "DescriptionStyleModel",
            "description_width": "",
            "_view_module": "@jupyter-widgets/base",
            "_model_module_version": "1.5.0",
            "_view_count": null,
            "_view_module_version": "1.2.0",
            "_model_module": "@jupyter-widgets/controls"
          },
          "model_module_version": "1.5.0"
        },
        "bcfff34f39104b749fb336385f6fcb53": {
          "model_module": "@jupyter-widgets/base",
          "model_name": "LayoutModel",
          "state": {
            "_view_name": "LayoutView",
            "grid_template_rows": null,
            "right": null,
            "justify_content": null,
            "_view_module": "@jupyter-widgets/base",
            "overflow": null,
            "_model_module_version": "1.2.0",
            "_view_count": null,
            "flex_flow": null,
            "width": null,
            "min_width": null,
            "border": null,
            "align_items": null,
            "bottom": null,
            "_model_module": "@jupyter-widgets/base",
            "top": null,
            "grid_column": null,
            "overflow_y": null,
            "overflow_x": null,
            "grid_auto_flow": null,
            "grid_area": null,
            "grid_template_columns": null,
            "flex": null,
            "_model_name": "LayoutModel",
            "justify_items": null,
            "grid_row": null,
            "max_height": null,
            "align_content": null,
            "visibility": null,
            "align_self": null,
            "height": null,
            "min_height": null,
            "padding": null,
            "grid_auto_rows": null,
            "grid_gap": null,
            "max_width": null,
            "order": null,
            "_view_module_version": "1.2.0",
            "grid_template_areas": null,
            "object_position": null,
            "object_fit": null,
            "grid_auto_columns": null,
            "margin": null,
            "display": null,
            "left": null
          },
          "model_module_version": "1.2.0"
        },
        "51f57b23a3364356bfdefd7fb4e30be7": {
          "model_module": "@jupyter-widgets/controls",
          "model_name": "HBoxModel",
          "state": {
            "_view_name": "HBoxView",
            "_dom_classes": [],
            "_model_name": "HBoxModel",
            "_view_module": "@jupyter-widgets/controls",
            "_model_module_version": "1.5.0",
            "_view_count": null,
            "_view_module_version": "1.5.0",
            "box_style": "",
            "layout": "IPY_MODEL_13ffaddd835842b6a78dca3f0c45f8de",
            "_model_module": "@jupyter-widgets/controls",
            "children": [
              "IPY_MODEL_99bd425580d54fbebd26335635593575",
              "IPY_MODEL_35ac000ce38a4effbdc7f2d85648bada"
            ]
          },
          "model_module_version": "1.5.0"
        },
        "13ffaddd835842b6a78dca3f0c45f8de": {
          "model_module": "@jupyter-widgets/base",
          "model_name": "LayoutModel",
          "state": {
            "_view_name": "LayoutView",
            "grid_template_rows": null,
            "right": null,
            "justify_content": null,
            "_view_module": "@jupyter-widgets/base",
            "overflow": null,
            "_model_module_version": "1.2.0",
            "_view_count": null,
            "flex_flow": null,
            "width": null,
            "min_width": null,
            "border": null,
            "align_items": null,
            "bottom": null,
            "_model_module": "@jupyter-widgets/base",
            "top": null,
            "grid_column": null,
            "overflow_y": null,
            "overflow_x": null,
            "grid_auto_flow": null,
            "grid_area": null,
            "grid_template_columns": null,
            "flex": null,
            "_model_name": "LayoutModel",
            "justify_items": null,
            "grid_row": null,
            "max_height": null,
            "align_content": null,
            "visibility": null,
            "align_self": null,
            "height": null,
            "min_height": null,
            "padding": null,
            "grid_auto_rows": null,
            "grid_gap": null,
            "max_width": null,
            "order": null,
            "_view_module_version": "1.2.0",
            "grid_template_areas": null,
            "object_position": null,
            "object_fit": null,
            "grid_auto_columns": null,
            "margin": null,
            "display": null,
            "left": null
          },
          "model_module_version": "1.2.0"
        },
        "99bd425580d54fbebd26335635593575": {
          "model_module": "@jupyter-widgets/controls",
          "model_name": "FloatProgressModel",
          "state": {
            "_view_name": "ProgressView",
            "style": "IPY_MODEL_949b25ce32974839a91b4d4aff60f9c6",
            "_dom_classes": [],
            "description": "Dl Size...: ",
            "_model_name": "FloatProgressModel",
            "bar_style": "success",
            "max": 1,
            "_view_module": "@jupyter-widgets/controls",
            "_model_module_version": "1.5.0",
            "value": 1,
            "_view_count": null,
            "_view_module_version": "1.5.0",
            "orientation": "horizontal",
            "min": 0,
            "description_tooltip": null,
            "_model_module": "@jupyter-widgets/controls",
            "layout": "IPY_MODEL_85ade55f4ab64383ad08e34d6c23c59a"
          },
          "model_module_version": "1.5.0"
        },
        "35ac000ce38a4effbdc7f2d85648bada": {
          "model_module": "@jupyter-widgets/controls",
          "model_name": "HTMLModel",
          "state": {
            "_view_name": "HTMLView",
            "style": "IPY_MODEL_ea21a1bc0ec341ec96421e982ccdb9cb",
            "_dom_classes": [],
            "description": "",
            "_model_name": "HTMLModel",
            "placeholder": "​",
            "_view_module": "@jupyter-widgets/controls",
            "_model_module_version": "1.5.0",
            "value": " 3/? [00:01&lt;00:00,  2.04 MiB/s]",
            "_view_count": null,
            "_view_module_version": "1.5.0",
            "description_tooltip": null,
            "_model_module": "@jupyter-widgets/controls",
            "layout": "IPY_MODEL_b1cbaebea2f04028847e370b3e2113b6"
          },
          "model_module_version": "1.5.0"
        },
        "949b25ce32974839a91b4d4aff60f9c6": {
          "model_module": "@jupyter-widgets/controls",
          "model_name": "ProgressStyleModel",
          "state": {
            "_view_name": "StyleView",
            "_model_name": "ProgressStyleModel",
            "description_width": "initial",
            "_view_module": "@jupyter-widgets/base",
            "_model_module_version": "1.5.0",
            "_view_count": null,
            "_view_module_version": "1.2.0",
            "bar_color": null,
            "_model_module": "@jupyter-widgets/controls"
          },
          "model_module_version": "1.5.0"
        },
        "85ade55f4ab64383ad08e34d6c23c59a": {
          "model_module": "@jupyter-widgets/base",
          "model_name": "LayoutModel",
          "state": {
            "_view_name": "LayoutView",
            "grid_template_rows": null,
            "right": null,
            "justify_content": null,
            "_view_module": "@jupyter-widgets/base",
            "overflow": null,
            "_model_module_version": "1.2.0",
            "_view_count": null,
            "flex_flow": null,
            "width": null,
            "min_width": null,
            "border": null,
            "align_items": null,
            "bottom": null,
            "_model_module": "@jupyter-widgets/base",
            "top": null,
            "grid_column": null,
            "overflow_y": null,
            "overflow_x": null,
            "grid_auto_flow": null,
            "grid_area": null,
            "grid_template_columns": null,
            "flex": null,
            "_model_name": "LayoutModel",
            "justify_items": null,
            "grid_row": null,
            "max_height": null,
            "align_content": null,
            "visibility": null,
            "align_self": null,
            "height": null,
            "min_height": null,
            "padding": null,
            "grid_auto_rows": null,
            "grid_gap": null,
            "max_width": null,
            "order": null,
            "_view_module_version": "1.2.0",
            "grid_template_areas": null,
            "object_position": null,
            "object_fit": null,
            "grid_auto_columns": null,
            "margin": null,
            "display": null,
            "left": null
          },
          "model_module_version": "1.2.0"
        },
        "ea21a1bc0ec341ec96421e982ccdb9cb": {
          "model_module": "@jupyter-widgets/controls",
          "model_name": "DescriptionStyleModel",
          "state": {
            "_view_name": "StyleView",
            "_model_name": "DescriptionStyleModel",
            "description_width": "",
            "_view_module": "@jupyter-widgets/base",
            "_model_module_version": "1.5.0",
            "_view_count": null,
            "_view_module_version": "1.2.0",
            "_model_module": "@jupyter-widgets/controls"
          },
          "model_module_version": "1.5.0"
        },
        "b1cbaebea2f04028847e370b3e2113b6": {
          "model_module": "@jupyter-widgets/base",
          "model_name": "LayoutModel",
          "state": {
            "_view_name": "LayoutView",
            "grid_template_rows": null,
            "right": null,
            "justify_content": null,
            "_view_module": "@jupyter-widgets/base",
            "overflow": null,
            "_model_module_version": "1.2.0",
            "_view_count": null,
            "flex_flow": null,
            "width": null,
            "min_width": null,
            "border": null,
            "align_items": null,
            "bottom": null,
            "_model_module": "@jupyter-widgets/base",
            "top": null,
            "grid_column": null,
            "overflow_y": null,
            "overflow_x": null,
            "grid_auto_flow": null,
            "grid_area": null,
            "grid_template_columns": null,
            "flex": null,
            "_model_name": "LayoutModel",
            "justify_items": null,
            "grid_row": null,
            "max_height": null,
            "align_content": null,
            "visibility": null,
            "align_self": null,
            "height": null,
            "min_height": null,
            "padding": null,
            "grid_auto_rows": null,
            "grid_gap": null,
            "max_width": null,
            "order": null,
            "_view_module_version": "1.2.0",
            "grid_template_areas": null,
            "object_position": null,
            "object_fit": null,
            "grid_auto_columns": null,
            "margin": null,
            "display": null,
            "left": null
          },
          "model_module_version": "1.2.0"
        },
        "b833957cd9ad4813a3abe2443fe9154e": {
          "model_module": "@jupyter-widgets/controls",
          "model_name": "HBoxModel",
          "state": {
            "_view_name": "HBoxView",
            "_dom_classes": [],
            "_model_name": "HBoxModel",
            "_view_module": "@jupyter-widgets/controls",
            "_model_module_version": "1.5.0",
            "_view_count": null,
            "_view_module_version": "1.5.0",
            "box_style": "",
            "layout": "IPY_MODEL_2417940e608f4215ab49875dd4401b68",
            "_model_module": "@jupyter-widgets/controls",
            "children": [
              "IPY_MODEL_e47aa06eb4734f74825cbd6cf3d8a8b1",
              "IPY_MODEL_5a1ed3228694416aa75dda70e2102ab0"
            ]
          },
          "model_module_version": "1.5.0"
        },
        "2417940e608f4215ab49875dd4401b68": {
          "model_module": "@jupyter-widgets/base",
          "model_name": "LayoutModel",
          "state": {
            "_view_name": "LayoutView",
            "grid_template_rows": null,
            "right": null,
            "justify_content": null,
            "_view_module": "@jupyter-widgets/base",
            "overflow": null,
            "_model_module_version": "1.2.0",
            "_view_count": null,
            "flex_flow": null,
            "width": null,
            "min_width": null,
            "border": null,
            "align_items": null,
            "bottom": null,
            "_model_module": "@jupyter-widgets/base",
            "top": null,
            "grid_column": null,
            "overflow_y": null,
            "overflow_x": null,
            "grid_auto_flow": null,
            "grid_area": null,
            "grid_template_columns": null,
            "flex": null,
            "_model_name": "LayoutModel",
            "justify_items": null,
            "grid_row": null,
            "max_height": null,
            "align_content": null,
            "visibility": null,
            "align_self": null,
            "height": null,
            "min_height": null,
            "padding": null,
            "grid_auto_rows": null,
            "grid_gap": null,
            "max_width": null,
            "order": null,
            "_view_module_version": "1.2.0",
            "grid_template_areas": null,
            "object_position": null,
            "object_fit": null,
            "grid_auto_columns": null,
            "margin": null,
            "display": null,
            "left": null
          },
          "model_module_version": "1.2.0"
        },
        "e47aa06eb4734f74825cbd6cf3d8a8b1": {
          "model_module": "@jupyter-widgets/controls",
          "model_name": "FloatProgressModel",
          "state": {
            "_view_name": "ProgressView",
            "style": "IPY_MODEL_6c45a8a8115b47f4ae76aa38cdec9eb0",
            "_dom_classes": [],
            "description": "",
            "_model_name": "FloatProgressModel",
            "bar_style": "info",
            "max": 1,
            "_view_module": "@jupyter-widgets/controls",
            "_model_module_version": "1.5.0",
            "value": 1,
            "_view_count": null,
            "_view_module_version": "1.5.0",
            "orientation": "horizontal",
            "min": 0,
            "description_tooltip": null,
            "_model_module": "@jupyter-widgets/controls",
            "layout": "IPY_MODEL_c7fddb23e4ea40b7a105a480b6c85526"
          },
          "model_module_version": "1.5.0"
        },
        "5a1ed3228694416aa75dda70e2102ab0": {
          "model_module": "@jupyter-widgets/controls",
          "model_name": "HTMLModel",
          "state": {
            "_view_name": "HTMLView",
            "style": "IPY_MODEL_18e7ff065f5b4006afd225b331a22fc6",
            "_dom_classes": [],
            "description": "",
            "_model_name": "HTMLModel",
            "placeholder": "​",
            "_view_module": "@jupyter-widgets/controls",
            "_model_module_version": "1.5.0",
            "value": " 43410/0 [01:16&lt;00:00, 502.30 examples/s]",
            "_view_count": null,
            "_view_module_version": "1.5.0",
            "description_tooltip": null,
            "_model_module": "@jupyter-widgets/controls",
            "layout": "IPY_MODEL_0cb652b492784e1eb7106fee7af81732"
          },
          "model_module_version": "1.5.0"
        },
        "6c45a8a8115b47f4ae76aa38cdec9eb0": {
          "model_module": "@jupyter-widgets/controls",
          "model_name": "ProgressStyleModel",
          "state": {
            "_view_name": "StyleView",
            "_model_name": "ProgressStyleModel",
            "description_width": "initial",
            "_view_module": "@jupyter-widgets/base",
            "_model_module_version": "1.5.0",
            "_view_count": null,
            "_view_module_version": "1.2.0",
            "bar_color": null,
            "_model_module": "@jupyter-widgets/controls"
          },
          "model_module_version": "1.5.0"
        },
        "c7fddb23e4ea40b7a105a480b6c85526": {
          "model_module": "@jupyter-widgets/base",
          "model_name": "LayoutModel",
          "state": {
            "_view_name": "LayoutView",
            "grid_template_rows": null,
            "right": null,
            "justify_content": null,
            "_view_module": "@jupyter-widgets/base",
            "overflow": null,
            "_model_module_version": "1.2.0",
            "_view_count": null,
            "flex_flow": null,
            "width": null,
            "min_width": null,
            "border": null,
            "align_items": null,
            "bottom": null,
            "_model_module": "@jupyter-widgets/base",
            "top": null,
            "grid_column": null,
            "overflow_y": null,
            "overflow_x": null,
            "grid_auto_flow": null,
            "grid_area": null,
            "grid_template_columns": null,
            "flex": null,
            "_model_name": "LayoutModel",
            "justify_items": null,
            "grid_row": null,
            "max_height": null,
            "align_content": null,
            "visibility": null,
            "align_self": null,
            "height": null,
            "min_height": null,
            "padding": null,
            "grid_auto_rows": null,
            "grid_gap": null,
            "max_width": null,
            "order": null,
            "_view_module_version": "1.2.0",
            "grid_template_areas": null,
            "object_position": null,
            "object_fit": null,
            "grid_auto_columns": null,
            "margin": null,
            "display": null,
            "left": null
          },
          "model_module_version": "1.2.0"
        },
        "18e7ff065f5b4006afd225b331a22fc6": {
          "model_module": "@jupyter-widgets/controls",
          "model_name": "DescriptionStyleModel",
          "state": {
            "_view_name": "StyleView",
            "_model_name": "DescriptionStyleModel",
            "description_width": "",
            "_view_module": "@jupyter-widgets/base",
            "_model_module_version": "1.5.0",
            "_view_count": null,
            "_view_module_version": "1.2.0",
            "_model_module": "@jupyter-widgets/controls"
          },
          "model_module_version": "1.5.0"
        },
        "0cb652b492784e1eb7106fee7af81732": {
          "model_module": "@jupyter-widgets/base",
          "model_name": "LayoutModel",
          "state": {
            "_view_name": "LayoutView",
            "grid_template_rows": null,
            "right": null,
            "justify_content": null,
            "_view_module": "@jupyter-widgets/base",
            "overflow": null,
            "_model_module_version": "1.2.0",
            "_view_count": null,
            "flex_flow": null,
            "width": null,
            "min_width": null,
            "border": null,
            "align_items": null,
            "bottom": null,
            "_model_module": "@jupyter-widgets/base",
            "top": null,
            "grid_column": null,
            "overflow_y": null,
            "overflow_x": null,
            "grid_auto_flow": null,
            "grid_area": null,
            "grid_template_columns": null,
            "flex": null,
            "_model_name": "LayoutModel",
            "justify_items": null,
            "grid_row": null,
            "max_height": null,
            "align_content": null,
            "visibility": null,
            "align_self": null,
            "height": null,
            "min_height": null,
            "padding": null,
            "grid_auto_rows": null,
            "grid_gap": null,
            "max_width": null,
            "order": null,
            "_view_module_version": "1.2.0",
            "grid_template_areas": null,
            "object_position": null,
            "object_fit": null,
            "grid_auto_columns": null,
            "margin": null,
            "display": null,
            "left": null
          },
          "model_module_version": "1.2.0"
        },
        "395fad65bf76422c999cf2aa2f741232": {
          "model_module": "@jupyter-widgets/controls",
          "model_name": "HBoxModel",
          "state": {
            "_view_name": "HBoxView",
            "_dom_classes": [],
            "_model_name": "HBoxModel",
            "_view_module": "@jupyter-widgets/controls",
            "_model_module_version": "1.5.0",
            "_view_count": null,
            "_view_module_version": "1.5.0",
            "box_style": "",
            "layout": "IPY_MODEL_407b71151c9a4ef4ad27cdadefd536ee",
            "_model_module": "@jupyter-widgets/controls",
            "children": [
              "IPY_MODEL_0346c40cb0c8415f90c89cd607fb4ce0",
              "IPY_MODEL_45393b6a1f8643e8afa262fd3afec005"
            ]
          },
          "model_module_version": "1.5.0"
        },
        "407b71151c9a4ef4ad27cdadefd536ee": {
          "model_module": "@jupyter-widgets/base",
          "model_name": "LayoutModel",
          "state": {
            "_view_name": "LayoutView",
            "grid_template_rows": null,
            "right": null,
            "justify_content": null,
            "_view_module": "@jupyter-widgets/base",
            "overflow": null,
            "_model_module_version": "1.2.0",
            "_view_count": null,
            "flex_flow": null,
            "width": null,
            "min_width": null,
            "border": null,
            "align_items": null,
            "bottom": null,
            "_model_module": "@jupyter-widgets/base",
            "top": null,
            "grid_column": null,
            "overflow_y": null,
            "overflow_x": null,
            "grid_auto_flow": null,
            "grid_area": null,
            "grid_template_columns": null,
            "flex": null,
            "_model_name": "LayoutModel",
            "justify_items": null,
            "grid_row": null,
            "max_height": null,
            "align_content": null,
            "visibility": null,
            "align_self": null,
            "height": null,
            "min_height": null,
            "padding": null,
            "grid_auto_rows": null,
            "grid_gap": null,
            "max_width": null,
            "order": null,
            "_view_module_version": "1.2.0",
            "grid_template_areas": null,
            "object_position": null,
            "object_fit": null,
            "grid_auto_columns": null,
            "margin": null,
            "display": null,
            "left": null
          },
          "model_module_version": "1.2.0"
        },
        "0346c40cb0c8415f90c89cd607fb4ce0": {
          "model_module": "@jupyter-widgets/controls",
          "model_name": "FloatProgressModel",
          "state": {
            "_view_name": "ProgressView",
            "style": "IPY_MODEL_675dd6599be4455c9aa31eed42320a31",
            "_dom_classes": [],
            "description": " 68%",
            "_model_name": "FloatProgressModel",
            "bar_style": "danger",
            "max": 43410,
            "_view_module": "@jupyter-widgets/controls",
            "_model_module_version": "1.5.0",
            "value": 29516,
            "_view_count": null,
            "_view_module_version": "1.5.0",
            "orientation": "horizontal",
            "min": 0,
            "description_tooltip": null,
            "_model_module": "@jupyter-widgets/controls",
            "layout": "IPY_MODEL_d7ac40f971f249248a70161d4657ef12"
          },
          "model_module_version": "1.5.0"
        },
        "45393b6a1f8643e8afa262fd3afec005": {
          "model_module": "@jupyter-widgets/controls",
          "model_name": "HTMLModel",
          "state": {
            "_view_name": "HTMLView",
            "style": "IPY_MODEL_debac88ff609438c8cb4f475a7df1ebb",
            "_dom_classes": [],
            "description": "",
            "_model_name": "HTMLModel",
            "placeholder": "​",
            "_view_module": "@jupyter-widgets/controls",
            "_model_module_version": "1.5.0",
            "value": " 29516/43410 [00:00&lt;00:00, 22009.54 examples/s]",
            "_view_count": null,
            "_view_module_version": "1.5.0",
            "description_tooltip": null,
            "_model_module": "@jupyter-widgets/controls",
            "layout": "IPY_MODEL_e460c12b820f468b984d874de0aaa034"
          },
          "model_module_version": "1.5.0"
        },
        "675dd6599be4455c9aa31eed42320a31": {
          "model_module": "@jupyter-widgets/controls",
          "model_name": "ProgressStyleModel",
          "state": {
            "_view_name": "StyleView",
            "_model_name": "ProgressStyleModel",
            "description_width": "initial",
            "_view_module": "@jupyter-widgets/base",
            "_model_module_version": "1.5.0",
            "_view_count": null,
            "_view_module_version": "1.2.0",
            "bar_color": null,
            "_model_module": "@jupyter-widgets/controls"
          },
          "model_module_version": "1.5.0"
        },
        "d7ac40f971f249248a70161d4657ef12": {
          "model_module": "@jupyter-widgets/base",
          "model_name": "LayoutModel",
          "state": {
            "_view_name": "LayoutView",
            "grid_template_rows": null,
            "right": null,
            "justify_content": null,
            "_view_module": "@jupyter-widgets/base",
            "overflow": null,
            "_model_module_version": "1.2.0",
            "_view_count": null,
            "flex_flow": null,
            "width": null,
            "min_width": null,
            "border": null,
            "align_items": null,
            "bottom": null,
            "_model_module": "@jupyter-widgets/base",
            "top": null,
            "grid_column": null,
            "overflow_y": null,
            "overflow_x": null,
            "grid_auto_flow": null,
            "grid_area": null,
            "grid_template_columns": null,
            "flex": null,
            "_model_name": "LayoutModel",
            "justify_items": null,
            "grid_row": null,
            "max_height": null,
            "align_content": null,
            "visibility": null,
            "align_self": null,
            "height": null,
            "min_height": null,
            "padding": null,
            "grid_auto_rows": null,
            "grid_gap": null,
            "max_width": null,
            "order": null,
            "_view_module_version": "1.2.0",
            "grid_template_areas": null,
            "object_position": null,
            "object_fit": null,
            "grid_auto_columns": null,
            "margin": null,
            "display": null,
            "left": null
          },
          "model_module_version": "1.2.0"
        },
        "debac88ff609438c8cb4f475a7df1ebb": {
          "model_module": "@jupyter-widgets/controls",
          "model_name": "DescriptionStyleModel",
          "state": {
            "_view_name": "StyleView",
            "_model_name": "DescriptionStyleModel",
            "description_width": "",
            "_view_module": "@jupyter-widgets/base",
            "_model_module_version": "1.5.0",
            "_view_count": null,
            "_view_module_version": "1.2.0",
            "_model_module": "@jupyter-widgets/controls"
          },
          "model_module_version": "1.5.0"
        },
        "e460c12b820f468b984d874de0aaa034": {
          "model_module": "@jupyter-widgets/base",
          "model_name": "LayoutModel",
          "state": {
            "_view_name": "LayoutView",
            "grid_template_rows": null,
            "right": null,
            "justify_content": null,
            "_view_module": "@jupyter-widgets/base",
            "overflow": null,
            "_model_module_version": "1.2.0",
            "_view_count": null,
            "flex_flow": null,
            "width": null,
            "min_width": null,
            "border": null,
            "align_items": null,
            "bottom": null,
            "_model_module": "@jupyter-widgets/base",
            "top": null,
            "grid_column": null,
            "overflow_y": null,
            "overflow_x": null,
            "grid_auto_flow": null,
            "grid_area": null,
            "grid_template_columns": null,
            "flex": null,
            "_model_name": "LayoutModel",
            "justify_items": null,
            "grid_row": null,
            "max_height": null,
            "align_content": null,
            "visibility": null,
            "align_self": null,
            "height": null,
            "min_height": null,
            "padding": null,
            "grid_auto_rows": null,
            "grid_gap": null,
            "max_width": null,
            "order": null,
            "_view_module_version": "1.2.0",
            "grid_template_areas": null,
            "object_position": null,
            "object_fit": null,
            "grid_auto_columns": null,
            "margin": null,
            "display": null,
            "left": null
          },
          "model_module_version": "1.2.0"
        },
        "24522b6bb87b43fe939ca0062b3e8bfb": {
          "model_module": "@jupyter-widgets/controls",
          "model_name": "HBoxModel",
          "state": {
            "_view_name": "HBoxView",
            "_dom_classes": [],
            "_model_name": "HBoxModel",
            "_view_module": "@jupyter-widgets/controls",
            "_model_module_version": "1.5.0",
            "_view_count": null,
            "_view_module_version": "1.5.0",
            "box_style": "",
            "layout": "IPY_MODEL_4ffd96dc48d7453ea99105b1f67d3c0c",
            "_model_module": "@jupyter-widgets/controls",
            "children": [
              "IPY_MODEL_d19e3703914d45d4a2448647bffd6e5c",
              "IPY_MODEL_7c9c8f2685a243a88d82029733b9d8da"
            ]
          },
          "model_module_version": "1.5.0"
        },
        "4ffd96dc48d7453ea99105b1f67d3c0c": {
          "model_module": "@jupyter-widgets/base",
          "model_name": "LayoutModel",
          "state": {
            "_view_name": "LayoutView",
            "grid_template_rows": null,
            "right": null,
            "justify_content": null,
            "_view_module": "@jupyter-widgets/base",
            "overflow": null,
            "_model_module_version": "1.2.0",
            "_view_count": null,
            "flex_flow": null,
            "width": null,
            "min_width": null,
            "border": null,
            "align_items": null,
            "bottom": null,
            "_model_module": "@jupyter-widgets/base",
            "top": null,
            "grid_column": null,
            "overflow_y": null,
            "overflow_x": null,
            "grid_auto_flow": null,
            "grid_area": null,
            "grid_template_columns": null,
            "flex": null,
            "_model_name": "LayoutModel",
            "justify_items": null,
            "grid_row": null,
            "max_height": null,
            "align_content": null,
            "visibility": null,
            "align_self": null,
            "height": null,
            "min_height": null,
            "padding": null,
            "grid_auto_rows": null,
            "grid_gap": null,
            "max_width": null,
            "order": null,
            "_view_module_version": "1.2.0",
            "grid_template_areas": null,
            "object_position": null,
            "object_fit": null,
            "grid_auto_columns": null,
            "margin": null,
            "display": null,
            "left": null
          },
          "model_module_version": "1.2.0"
        },
        "d19e3703914d45d4a2448647bffd6e5c": {
          "model_module": "@jupyter-widgets/controls",
          "model_name": "FloatProgressModel",
          "state": {
            "_view_name": "ProgressView",
            "style": "IPY_MODEL_a0d67d5111794b78b64e46f65a3e4826",
            "_dom_classes": [],
            "description": "",
            "_model_name": "FloatProgressModel",
            "bar_style": "info",
            "max": 1,
            "_view_module": "@jupyter-widgets/controls",
            "_model_module_version": "1.5.0",
            "value": 1,
            "_view_count": null,
            "_view_module_version": "1.5.0",
            "orientation": "horizontal",
            "min": 0,
            "description_tooltip": null,
            "_model_module": "@jupyter-widgets/controls",
            "layout": "IPY_MODEL_b75f34788625469ea6e797806b5d9be2"
          },
          "model_module_version": "1.5.0"
        },
        "7c9c8f2685a243a88d82029733b9d8da": {
          "model_module": "@jupyter-widgets/controls",
          "model_name": "HTMLModel",
          "state": {
            "_view_name": "HTMLView",
            "style": "IPY_MODEL_d983819ad5dd4bdbb51d967581e387c8",
            "_dom_classes": [],
            "description": "",
            "_model_name": "HTMLModel",
            "placeholder": "​",
            "_view_module": "@jupyter-widgets/controls",
            "_model_module_version": "1.5.0",
            "value": " 5426/0 [00:09&lt;00:00, 732.85 examples/s]",
            "_view_count": null,
            "_view_module_version": "1.5.0",
            "description_tooltip": null,
            "_model_module": "@jupyter-widgets/controls",
            "layout": "IPY_MODEL_ce45ea814fd94096975bf412cee1d74b"
          },
          "model_module_version": "1.5.0"
        },
        "a0d67d5111794b78b64e46f65a3e4826": {
          "model_module": "@jupyter-widgets/controls",
          "model_name": "ProgressStyleModel",
          "state": {
            "_view_name": "StyleView",
            "_model_name": "ProgressStyleModel",
            "description_width": "initial",
            "_view_module": "@jupyter-widgets/base",
            "_model_module_version": "1.5.0",
            "_view_count": null,
            "_view_module_version": "1.2.0",
            "bar_color": null,
            "_model_module": "@jupyter-widgets/controls"
          },
          "model_module_version": "1.5.0"
        },
        "b75f34788625469ea6e797806b5d9be2": {
          "model_module": "@jupyter-widgets/base",
          "model_name": "LayoutModel",
          "state": {
            "_view_name": "LayoutView",
            "grid_template_rows": null,
            "right": null,
            "justify_content": null,
            "_view_module": "@jupyter-widgets/base",
            "overflow": null,
            "_model_module_version": "1.2.0",
            "_view_count": null,
            "flex_flow": null,
            "width": null,
            "min_width": null,
            "border": null,
            "align_items": null,
            "bottom": null,
            "_model_module": "@jupyter-widgets/base",
            "top": null,
            "grid_column": null,
            "overflow_y": null,
            "overflow_x": null,
            "grid_auto_flow": null,
            "grid_area": null,
            "grid_template_columns": null,
            "flex": null,
            "_model_name": "LayoutModel",
            "justify_items": null,
            "grid_row": null,
            "max_height": null,
            "align_content": null,
            "visibility": null,
            "align_self": null,
            "height": null,
            "min_height": null,
            "padding": null,
            "grid_auto_rows": null,
            "grid_gap": null,
            "max_width": null,
            "order": null,
            "_view_module_version": "1.2.0",
            "grid_template_areas": null,
            "object_position": null,
            "object_fit": null,
            "grid_auto_columns": null,
            "margin": null,
            "display": null,
            "left": null
          },
          "model_module_version": "1.2.0"
        },
        "d983819ad5dd4bdbb51d967581e387c8": {
          "model_module": "@jupyter-widgets/controls",
          "model_name": "DescriptionStyleModel",
          "state": {
            "_view_name": "StyleView",
            "_model_name": "DescriptionStyleModel",
            "description_width": "",
            "_view_module": "@jupyter-widgets/base",
            "_model_module_version": "1.5.0",
            "_view_count": null,
            "_view_module_version": "1.2.0",
            "_model_module": "@jupyter-widgets/controls"
          },
          "model_module_version": "1.5.0"
        },
        "ce45ea814fd94096975bf412cee1d74b": {
          "model_module": "@jupyter-widgets/base",
          "model_name": "LayoutModel",
          "state": {
            "_view_name": "LayoutView",
            "grid_template_rows": null,
            "right": null,
            "justify_content": null,
            "_view_module": "@jupyter-widgets/base",
            "overflow": null,
            "_model_module_version": "1.2.0",
            "_view_count": null,
            "flex_flow": null,
            "width": null,
            "min_width": null,
            "border": null,
            "align_items": null,
            "bottom": null,
            "_model_module": "@jupyter-widgets/base",
            "top": null,
            "grid_column": null,
            "overflow_y": null,
            "overflow_x": null,
            "grid_auto_flow": null,
            "grid_area": null,
            "grid_template_columns": null,
            "flex": null,
            "_model_name": "LayoutModel",
            "justify_items": null,
            "grid_row": null,
            "max_height": null,
            "align_content": null,
            "visibility": null,
            "align_self": null,
            "height": null,
            "min_height": null,
            "padding": null,
            "grid_auto_rows": null,
            "grid_gap": null,
            "max_width": null,
            "order": null,
            "_view_module_version": "1.2.0",
            "grid_template_areas": null,
            "object_position": null,
            "object_fit": null,
            "grid_auto_columns": null,
            "margin": null,
            "display": null,
            "left": null
          },
          "model_module_version": "1.2.0"
        },
        "15463ae82b5f4ec9a5d6a05deed25045": {
          "model_module": "@jupyter-widgets/controls",
          "model_name": "HBoxModel",
          "state": {
            "_view_name": "HBoxView",
            "_dom_classes": [],
            "_model_name": "HBoxModel",
            "_view_module": "@jupyter-widgets/controls",
            "_model_module_version": "1.5.0",
            "_view_count": null,
            "_view_module_version": "1.5.0",
            "box_style": "",
            "layout": "IPY_MODEL_0a8c2d2423a0436a8d273c322805ff2a",
            "_model_module": "@jupyter-widgets/controls",
            "children": [
              "IPY_MODEL_dcf017e2aa454417bf4a9aa7c0d9035c",
              "IPY_MODEL_3070ffbad03444069084a8f7f3c69b2d"
            ]
          },
          "model_module_version": "1.5.0"
        },
        "0a8c2d2423a0436a8d273c322805ff2a": {
          "model_module": "@jupyter-widgets/base",
          "model_name": "LayoutModel",
          "state": {
            "_view_name": "LayoutView",
            "grid_template_rows": null,
            "right": null,
            "justify_content": null,
            "_view_module": "@jupyter-widgets/base",
            "overflow": null,
            "_model_module_version": "1.2.0",
            "_view_count": null,
            "flex_flow": null,
            "width": null,
            "min_width": null,
            "border": null,
            "align_items": null,
            "bottom": null,
            "_model_module": "@jupyter-widgets/base",
            "top": null,
            "grid_column": null,
            "overflow_y": null,
            "overflow_x": null,
            "grid_auto_flow": null,
            "grid_area": null,
            "grid_template_columns": null,
            "flex": null,
            "_model_name": "LayoutModel",
            "justify_items": null,
            "grid_row": null,
            "max_height": null,
            "align_content": null,
            "visibility": null,
            "align_self": null,
            "height": null,
            "min_height": null,
            "padding": null,
            "grid_auto_rows": null,
            "grid_gap": null,
            "max_width": null,
            "order": null,
            "_view_module_version": "1.2.0",
            "grid_template_areas": null,
            "object_position": null,
            "object_fit": null,
            "grid_auto_columns": null,
            "margin": null,
            "display": null,
            "left": null
          },
          "model_module_version": "1.2.0"
        },
        "dcf017e2aa454417bf4a9aa7c0d9035c": {
          "model_module": "@jupyter-widgets/controls",
          "model_name": "FloatProgressModel",
          "state": {
            "_view_name": "ProgressView",
            "style": "IPY_MODEL_4da3e62b0f3846f8ae81b72d567fe617",
            "_dom_classes": [],
            "description": "  0%",
            "_model_name": "FloatProgressModel",
            "bar_style": "danger",
            "max": 5426,
            "_view_module": "@jupyter-widgets/controls",
            "_model_module_version": "1.5.0",
            "value": 0,
            "_view_count": null,
            "_view_module_version": "1.5.0",
            "orientation": "horizontal",
            "min": 0,
            "description_tooltip": null,
            "_model_module": "@jupyter-widgets/controls",
            "layout": "IPY_MODEL_b5d21d90e3344b5f817f1358c1083c56"
          },
          "model_module_version": "1.5.0"
        },
        "3070ffbad03444069084a8f7f3c69b2d": {
          "model_module": "@jupyter-widgets/controls",
          "model_name": "HTMLModel",
          "state": {
            "_view_name": "HTMLView",
            "style": "IPY_MODEL_14469b5696b44636b4d356777c9cd790",
            "_dom_classes": [],
            "description": "",
            "_model_name": "HTMLModel",
            "placeholder": "​",
            "_view_module": "@jupyter-widgets/controls",
            "_model_module_version": "1.5.0",
            "value": " 0/5426 [00:00&lt;?, ? examples/s]",
            "_view_count": null,
            "_view_module_version": "1.5.0",
            "description_tooltip": null,
            "_model_module": "@jupyter-widgets/controls",
            "layout": "IPY_MODEL_0d8b587e992b4164987f04a4391c159d"
          },
          "model_module_version": "1.5.0"
        },
        "4da3e62b0f3846f8ae81b72d567fe617": {
          "model_module": "@jupyter-widgets/controls",
          "model_name": "ProgressStyleModel",
          "state": {
            "_view_name": "StyleView",
            "_model_name": "ProgressStyleModel",
            "description_width": "initial",
            "_view_module": "@jupyter-widgets/base",
            "_model_module_version": "1.5.0",
            "_view_count": null,
            "_view_module_version": "1.2.0",
            "bar_color": null,
            "_model_module": "@jupyter-widgets/controls"
          },
          "model_module_version": "1.5.0"
        },
        "b5d21d90e3344b5f817f1358c1083c56": {
          "model_module": "@jupyter-widgets/base",
          "model_name": "LayoutModel",
          "state": {
            "_view_name": "LayoutView",
            "grid_template_rows": null,
            "right": null,
            "justify_content": null,
            "_view_module": "@jupyter-widgets/base",
            "overflow": null,
            "_model_module_version": "1.2.0",
            "_view_count": null,
            "flex_flow": null,
            "width": null,
            "min_width": null,
            "border": null,
            "align_items": null,
            "bottom": null,
            "_model_module": "@jupyter-widgets/base",
            "top": null,
            "grid_column": null,
            "overflow_y": null,
            "overflow_x": null,
            "grid_auto_flow": null,
            "grid_area": null,
            "grid_template_columns": null,
            "flex": null,
            "_model_name": "LayoutModel",
            "justify_items": null,
            "grid_row": null,
            "max_height": null,
            "align_content": null,
            "visibility": null,
            "align_self": null,
            "height": null,
            "min_height": null,
            "padding": null,
            "grid_auto_rows": null,
            "grid_gap": null,
            "max_width": null,
            "order": null,
            "_view_module_version": "1.2.0",
            "grid_template_areas": null,
            "object_position": null,
            "object_fit": null,
            "grid_auto_columns": null,
            "margin": null,
            "display": null,
            "left": null
          },
          "model_module_version": "1.2.0"
        },
        "14469b5696b44636b4d356777c9cd790": {
          "model_module": "@jupyter-widgets/controls",
          "model_name": "DescriptionStyleModel",
          "state": {
            "_view_name": "StyleView",
            "_model_name": "DescriptionStyleModel",
            "description_width": "",
            "_view_module": "@jupyter-widgets/base",
            "_model_module_version": "1.5.0",
            "_view_count": null,
            "_view_module_version": "1.2.0",
            "_model_module": "@jupyter-widgets/controls"
          },
          "model_module_version": "1.5.0"
        },
        "0d8b587e992b4164987f04a4391c159d": {
          "model_module": "@jupyter-widgets/base",
          "model_name": "LayoutModel",
          "state": {
            "_view_name": "LayoutView",
            "grid_template_rows": null,
            "right": null,
            "justify_content": null,
            "_view_module": "@jupyter-widgets/base",
            "overflow": null,
            "_model_module_version": "1.2.0",
            "_view_count": null,
            "flex_flow": null,
            "width": null,
            "min_width": null,
            "border": null,
            "align_items": null,
            "bottom": null,
            "_model_module": "@jupyter-widgets/base",
            "top": null,
            "grid_column": null,
            "overflow_y": null,
            "overflow_x": null,
            "grid_auto_flow": null,
            "grid_area": null,
            "grid_template_columns": null,
            "flex": null,
            "_model_name": "LayoutModel",
            "justify_items": null,
            "grid_row": null,
            "max_height": null,
            "align_content": null,
            "visibility": null,
            "align_self": null,
            "height": null,
            "min_height": null,
            "padding": null,
            "grid_auto_rows": null,
            "grid_gap": null,
            "max_width": null,
            "order": null,
            "_view_module_version": "1.2.0",
            "grid_template_areas": null,
            "object_position": null,
            "object_fit": null,
            "grid_auto_columns": null,
            "margin": null,
            "display": null,
            "left": null
          },
          "model_module_version": "1.2.0"
        },
        "0b67823d2e7d43f596ca81e0efb267e3": {
          "model_module": "@jupyter-widgets/controls",
          "model_name": "HBoxModel",
          "state": {
            "_view_name": "HBoxView",
            "_dom_classes": [],
            "_model_name": "HBoxModel",
            "_view_module": "@jupyter-widgets/controls",
            "_model_module_version": "1.5.0",
            "_view_count": null,
            "_view_module_version": "1.5.0",
            "box_style": "",
            "layout": "IPY_MODEL_80208e3a94b14e5fb95eb7a1a6224c74",
            "_model_module": "@jupyter-widgets/controls",
            "children": [
              "IPY_MODEL_215937caca5f43e6b10943caa37b61ef",
              "IPY_MODEL_a1e68d02d9dc4616a200b2e2882e9aa0"
            ]
          },
          "model_module_version": "1.5.0"
        },
        "80208e3a94b14e5fb95eb7a1a6224c74": {
          "model_module": "@jupyter-widgets/base",
          "model_name": "LayoutModel",
          "state": {
            "_view_name": "LayoutView",
            "grid_template_rows": null,
            "right": null,
            "justify_content": null,
            "_view_module": "@jupyter-widgets/base",
            "overflow": null,
            "_model_module_version": "1.2.0",
            "_view_count": null,
            "flex_flow": null,
            "width": null,
            "min_width": null,
            "border": null,
            "align_items": null,
            "bottom": null,
            "_model_module": "@jupyter-widgets/base",
            "top": null,
            "grid_column": null,
            "overflow_y": null,
            "overflow_x": null,
            "grid_auto_flow": null,
            "grid_area": null,
            "grid_template_columns": null,
            "flex": null,
            "_model_name": "LayoutModel",
            "justify_items": null,
            "grid_row": null,
            "max_height": null,
            "align_content": null,
            "visibility": null,
            "align_self": null,
            "height": null,
            "min_height": null,
            "padding": null,
            "grid_auto_rows": null,
            "grid_gap": null,
            "max_width": null,
            "order": null,
            "_view_module_version": "1.2.0",
            "grid_template_areas": null,
            "object_position": null,
            "object_fit": null,
            "grid_auto_columns": null,
            "margin": null,
            "display": null,
            "left": null
          },
          "model_module_version": "1.2.0"
        },
        "215937caca5f43e6b10943caa37b61ef": {
          "model_module": "@jupyter-widgets/controls",
          "model_name": "FloatProgressModel",
          "state": {
            "_view_name": "ProgressView",
            "style": "IPY_MODEL_d5a02c314c3b4e5e9eae960e95927c9f",
            "_dom_classes": [],
            "description": "",
            "_model_name": "FloatProgressModel",
            "bar_style": "info",
            "max": 1,
            "_view_module": "@jupyter-widgets/controls",
            "_model_module_version": "1.5.0",
            "value": 1,
            "_view_count": null,
            "_view_module_version": "1.5.0",
            "orientation": "horizontal",
            "min": 0,
            "description_tooltip": null,
            "_model_module": "@jupyter-widgets/controls",
            "layout": "IPY_MODEL_1a8cea035e0645ee9f5f114db38a8dfe"
          },
          "model_module_version": "1.5.0"
        },
        "a1e68d02d9dc4616a200b2e2882e9aa0": {
          "model_module": "@jupyter-widgets/controls",
          "model_name": "HTMLModel",
          "state": {
            "_view_name": "HTMLView",
            "style": "IPY_MODEL_d12ab3ca504f4b03bfd46a01b9b35b83",
            "_dom_classes": [],
            "description": "",
            "_model_name": "HTMLModel",
            "placeholder": "​",
            "_view_module": "@jupyter-widgets/controls",
            "_model_module_version": "1.5.0",
            "value": " 5427/0 [00:09&lt;00:00, 567.65 examples/s]",
            "_view_count": null,
            "_view_module_version": "1.5.0",
            "description_tooltip": null,
            "_model_module": "@jupyter-widgets/controls",
            "layout": "IPY_MODEL_35ed866918514aea9703151259a3b268"
          },
          "model_module_version": "1.5.0"
        },
        "d5a02c314c3b4e5e9eae960e95927c9f": {
          "model_module": "@jupyter-widgets/controls",
          "model_name": "ProgressStyleModel",
          "state": {
            "_view_name": "StyleView",
            "_model_name": "ProgressStyleModel",
            "description_width": "initial",
            "_view_module": "@jupyter-widgets/base",
            "_model_module_version": "1.5.0",
            "_view_count": null,
            "_view_module_version": "1.2.0",
            "bar_color": null,
            "_model_module": "@jupyter-widgets/controls"
          },
          "model_module_version": "1.5.0"
        },
        "1a8cea035e0645ee9f5f114db38a8dfe": {
          "model_module": "@jupyter-widgets/base",
          "model_name": "LayoutModel",
          "state": {
            "_view_name": "LayoutView",
            "grid_template_rows": null,
            "right": null,
            "justify_content": null,
            "_view_module": "@jupyter-widgets/base",
            "overflow": null,
            "_model_module_version": "1.2.0",
            "_view_count": null,
            "flex_flow": null,
            "width": null,
            "min_width": null,
            "border": null,
            "align_items": null,
            "bottom": null,
            "_model_module": "@jupyter-widgets/base",
            "top": null,
            "grid_column": null,
            "overflow_y": null,
            "overflow_x": null,
            "grid_auto_flow": null,
            "grid_area": null,
            "grid_template_columns": null,
            "flex": null,
            "_model_name": "LayoutModel",
            "justify_items": null,
            "grid_row": null,
            "max_height": null,
            "align_content": null,
            "visibility": null,
            "align_self": null,
            "height": null,
            "min_height": null,
            "padding": null,
            "grid_auto_rows": null,
            "grid_gap": null,
            "max_width": null,
            "order": null,
            "_view_module_version": "1.2.0",
            "grid_template_areas": null,
            "object_position": null,
            "object_fit": null,
            "grid_auto_columns": null,
            "margin": null,
            "display": null,
            "left": null
          },
          "model_module_version": "1.2.0"
        },
        "d12ab3ca504f4b03bfd46a01b9b35b83": {
          "model_module": "@jupyter-widgets/controls",
          "model_name": "DescriptionStyleModel",
          "state": {
            "_view_name": "StyleView",
            "_model_name": "DescriptionStyleModel",
            "description_width": "",
            "_view_module": "@jupyter-widgets/base",
            "_model_module_version": "1.5.0",
            "_view_count": null,
            "_view_module_version": "1.2.0",
            "_model_module": "@jupyter-widgets/controls"
          },
          "model_module_version": "1.5.0"
        },
        "35ed866918514aea9703151259a3b268": {
          "model_module": "@jupyter-widgets/base",
          "model_name": "LayoutModel",
          "state": {
            "_view_name": "LayoutView",
            "grid_template_rows": null,
            "right": null,
            "justify_content": null,
            "_view_module": "@jupyter-widgets/base",
            "overflow": null,
            "_model_module_version": "1.2.0",
            "_view_count": null,
            "flex_flow": null,
            "width": null,
            "min_width": null,
            "border": null,
            "align_items": null,
            "bottom": null,
            "_model_module": "@jupyter-widgets/base",
            "top": null,
            "grid_column": null,
            "overflow_y": null,
            "overflow_x": null,
            "grid_auto_flow": null,
            "grid_area": null,
            "grid_template_columns": null,
            "flex": null,
            "_model_name": "LayoutModel",
            "justify_items": null,
            "grid_row": null,
            "max_height": null,
            "align_content": null,
            "visibility": null,
            "align_self": null,
            "height": null,
            "min_height": null,
            "padding": null,
            "grid_auto_rows": null,
            "grid_gap": null,
            "max_width": null,
            "order": null,
            "_view_module_version": "1.2.0",
            "grid_template_areas": null,
            "object_position": null,
            "object_fit": null,
            "grid_auto_columns": null,
            "margin": null,
            "display": null,
            "left": null
          },
          "model_module_version": "1.2.0"
        },
        "e708b286e30749528c7f0bff625ee9be": {
          "model_module": "@jupyter-widgets/controls",
          "model_name": "HBoxModel",
          "state": {
            "_view_name": "HBoxView",
            "_dom_classes": [],
            "_model_name": "HBoxModel",
            "_view_module": "@jupyter-widgets/controls",
            "_model_module_version": "1.5.0",
            "_view_count": null,
            "_view_module_version": "1.5.0",
            "box_style": "",
            "layout": "IPY_MODEL_ab3a811b58554bed8a3574cef54b72eb",
            "_model_module": "@jupyter-widgets/controls",
            "children": [
              "IPY_MODEL_698265bd8af7424190067ee1a8afefc2",
              "IPY_MODEL_1b19a3566bef488f8cd12942658f1f49"
            ]
          },
          "model_module_version": "1.5.0"
        },
        "ab3a811b58554bed8a3574cef54b72eb": {
          "model_module": "@jupyter-widgets/base",
          "model_name": "LayoutModel",
          "state": {
            "_view_name": "LayoutView",
            "grid_template_rows": null,
            "right": null,
            "justify_content": null,
            "_view_module": "@jupyter-widgets/base",
            "overflow": null,
            "_model_module_version": "1.2.0",
            "_view_count": null,
            "flex_flow": null,
            "width": null,
            "min_width": null,
            "border": null,
            "align_items": null,
            "bottom": null,
            "_model_module": "@jupyter-widgets/base",
            "top": null,
            "grid_column": null,
            "overflow_y": null,
            "overflow_x": null,
            "grid_auto_flow": null,
            "grid_area": null,
            "grid_template_columns": null,
            "flex": null,
            "_model_name": "LayoutModel",
            "justify_items": null,
            "grid_row": null,
            "max_height": null,
            "align_content": null,
            "visibility": null,
            "align_self": null,
            "height": null,
            "min_height": null,
            "padding": null,
            "grid_auto_rows": null,
            "grid_gap": null,
            "max_width": null,
            "order": null,
            "_view_module_version": "1.2.0",
            "grid_template_areas": null,
            "object_position": null,
            "object_fit": null,
            "grid_auto_columns": null,
            "margin": null,
            "display": null,
            "left": null
          },
          "model_module_version": "1.2.0"
        },
        "698265bd8af7424190067ee1a8afefc2": {
          "model_module": "@jupyter-widgets/controls",
          "model_name": "FloatProgressModel",
          "state": {
            "_view_name": "ProgressView",
            "style": "IPY_MODEL_5716e3c8b2594a43a01ea042a2c73ba5",
            "_dom_classes": [],
            "description": "  0%",
            "_model_name": "FloatProgressModel",
            "bar_style": "danger",
            "max": 5427,
            "_view_module": "@jupyter-widgets/controls",
            "_model_module_version": "1.5.0",
            "value": 0,
            "_view_count": null,
            "_view_module_version": "1.5.0",
            "orientation": "horizontal",
            "min": 0,
            "description_tooltip": null,
            "_model_module": "@jupyter-widgets/controls",
            "layout": "IPY_MODEL_c752ad8085094393a831148ae9cf1972"
          },
          "model_module_version": "1.5.0"
        },
        "1b19a3566bef488f8cd12942658f1f49": {
          "model_module": "@jupyter-widgets/controls",
          "model_name": "HTMLModel",
          "state": {
            "_view_name": "HTMLView",
            "style": "IPY_MODEL_0c71fb4ac9a64229b798f447997b167a",
            "_dom_classes": [],
            "description": "",
            "_model_name": "HTMLModel",
            "placeholder": "​",
            "_view_module": "@jupyter-widgets/controls",
            "_model_module_version": "1.5.0",
            "value": " 0/5427 [00:00&lt;?, ? examples/s]",
            "_view_count": null,
            "_view_module_version": "1.5.0",
            "description_tooltip": null,
            "_model_module": "@jupyter-widgets/controls",
            "layout": "IPY_MODEL_f88feb8058f34e84bca656cb5b5755b6"
          },
          "model_module_version": "1.5.0"
        },
        "5716e3c8b2594a43a01ea042a2c73ba5": {
          "model_module": "@jupyter-widgets/controls",
          "model_name": "ProgressStyleModel",
          "state": {
            "_view_name": "StyleView",
            "_model_name": "ProgressStyleModel",
            "description_width": "initial",
            "_view_module": "@jupyter-widgets/base",
            "_model_module_version": "1.5.0",
            "_view_count": null,
            "_view_module_version": "1.2.0",
            "bar_color": null,
            "_model_module": "@jupyter-widgets/controls"
          },
          "model_module_version": "1.5.0"
        },
        "c752ad8085094393a831148ae9cf1972": {
          "model_module": "@jupyter-widgets/base",
          "model_name": "LayoutModel",
          "state": {
            "_view_name": "LayoutView",
            "grid_template_rows": null,
            "right": null,
            "justify_content": null,
            "_view_module": "@jupyter-widgets/base",
            "overflow": null,
            "_model_module_version": "1.2.0",
            "_view_count": null,
            "flex_flow": null,
            "width": null,
            "min_width": null,
            "border": null,
            "align_items": null,
            "bottom": null,
            "_model_module": "@jupyter-widgets/base",
            "top": null,
            "grid_column": null,
            "overflow_y": null,
            "overflow_x": null,
            "grid_auto_flow": null,
            "grid_area": null,
            "grid_template_columns": null,
            "flex": null,
            "_model_name": "LayoutModel",
            "justify_items": null,
            "grid_row": null,
            "max_height": null,
            "align_content": null,
            "visibility": null,
            "align_self": null,
            "height": null,
            "min_height": null,
            "padding": null,
            "grid_auto_rows": null,
            "grid_gap": null,
            "max_width": null,
            "order": null,
            "_view_module_version": "1.2.0",
            "grid_template_areas": null,
            "object_position": null,
            "object_fit": null,
            "grid_auto_columns": null,
            "margin": null,
            "display": null,
            "left": null
          },
          "model_module_version": "1.2.0"
        },
        "0c71fb4ac9a64229b798f447997b167a": {
          "model_module": "@jupyter-widgets/controls",
          "model_name": "DescriptionStyleModel",
          "state": {
            "_view_name": "StyleView",
            "_model_name": "DescriptionStyleModel",
            "description_width": "",
            "_view_module": "@jupyter-widgets/base",
            "_model_module_version": "1.5.0",
            "_view_count": null,
            "_view_module_version": "1.2.0",
            "_model_module": "@jupyter-widgets/controls"
          },
          "model_module_version": "1.5.0"
        },
        "f88feb8058f34e84bca656cb5b5755b6": {
          "model_module": "@jupyter-widgets/base",
          "model_name": "LayoutModel",
          "state": {
            "_view_name": "LayoutView",
            "grid_template_rows": null,
            "right": null,
            "justify_content": null,
            "_view_module": "@jupyter-widgets/base",
            "overflow": null,
            "_model_module_version": "1.2.0",
            "_view_count": null,
            "flex_flow": null,
            "width": null,
            "min_width": null,
            "border": null,
            "align_items": null,
            "bottom": null,
            "_model_module": "@jupyter-widgets/base",
            "top": null,
            "grid_column": null,
            "overflow_y": null,
            "overflow_x": null,
            "grid_auto_flow": null,
            "grid_area": null,
            "grid_template_columns": null,
            "flex": null,
            "_model_name": "LayoutModel",
            "justify_items": null,
            "grid_row": null,
            "max_height": null,
            "align_content": null,
            "visibility": null,
            "align_self": null,
            "height": null,
            "min_height": null,
            "padding": null,
            "grid_auto_rows": null,
            "grid_gap": null,
            "max_width": null,
            "order": null,
            "_view_module_version": "1.2.0",
            "grid_template_areas": null,
            "object_position": null,
            "object_fit": null,
            "grid_auto_columns": null,
            "margin": null,
            "display": null,
            "left": null
          },
          "model_module_version": "1.2.0"
        },
        "ab3edf31f1e6414cb154a72953bdd079": {
          "model_module": "@jupyter-widgets/controls",
          "model_name": "HBoxModel",
          "state": {
            "_view_name": "HBoxView",
            "_dom_classes": [],
            "_model_name": "HBoxModel",
            "_view_module": "@jupyter-widgets/controls",
            "_model_module_version": "1.5.0",
            "_view_count": null,
            "_view_module_version": "1.5.0",
            "box_style": "",
            "layout": "IPY_MODEL_22760798ec3d472aa1a6a92fa7c4e9da",
            "_model_module": "@jupyter-widgets/controls",
            "children": [
              "IPY_MODEL_7af424d51f804eaea353b3526e0dd635",
              "IPY_MODEL_59e13643e62e4b7f96b71822b05e8e79"
            ]
          },
          "model_module_version": "1.5.0"
        },
        "22760798ec3d472aa1a6a92fa7c4e9da": {
          "model_module": "@jupyter-widgets/base",
          "model_name": "LayoutModel",
          "state": {
            "_view_name": "LayoutView",
            "grid_template_rows": null,
            "right": null,
            "justify_content": null,
            "_view_module": "@jupyter-widgets/base",
            "overflow": null,
            "_model_module_version": "1.2.0",
            "_view_count": null,
            "flex_flow": null,
            "width": null,
            "min_width": null,
            "border": null,
            "align_items": null,
            "bottom": null,
            "_model_module": "@jupyter-widgets/base",
            "top": null,
            "grid_column": null,
            "overflow_y": null,
            "overflow_x": null,
            "grid_auto_flow": null,
            "grid_area": null,
            "grid_template_columns": null,
            "flex": null,
            "_model_name": "LayoutModel",
            "justify_items": null,
            "grid_row": null,
            "max_height": null,
            "align_content": null,
            "visibility": null,
            "align_self": null,
            "height": null,
            "min_height": null,
            "padding": null,
            "grid_auto_rows": null,
            "grid_gap": null,
            "max_width": null,
            "order": null,
            "_view_module_version": "1.2.0",
            "grid_template_areas": null,
            "object_position": null,
            "object_fit": null,
            "grid_auto_columns": null,
            "margin": null,
            "display": null,
            "left": null
          },
          "model_module_version": "1.2.0"
        },
        "7af424d51f804eaea353b3526e0dd635": {
          "model_module": "@jupyter-widgets/controls",
          "model_name": "FloatProgressModel",
          "state": {
            "_view_name": "ProgressView",
            "style": "IPY_MODEL_369d60a450b04259bf3879850f2a871e",
            "_dom_classes": [],
            "description": "Dl Completed...: 100%",
            "_model_name": "FloatProgressModel",
            "bar_style": "success",
            "max": 1,
            "_view_module": "@jupyter-widgets/controls",
            "_model_module_version": "1.5.0",
            "value": 1,
            "_view_count": null,
            "_view_module_version": "1.5.0",
            "orientation": "horizontal",
            "min": 0,
            "description_tooltip": null,
            "_model_module": "@jupyter-widgets/controls",
            "layout": "IPY_MODEL_07b5bd9c1b024a9281a2cc122522bbda"
          },
          "model_module_version": "1.5.0"
        },
        "59e13643e62e4b7f96b71822b05e8e79": {
          "model_module": "@jupyter-widgets/controls",
          "model_name": "HTMLModel",
          "state": {
            "_view_name": "HTMLView",
            "style": "IPY_MODEL_ab4e3dca30524955a0b013aa40722ebc",
            "_dom_classes": [],
            "description": "",
            "_model_name": "HTMLModel",
            "placeholder": "​",
            "_view_module": "@jupyter-widgets/controls",
            "_model_module_version": "1.5.0",
            "value": " 3/3 [00:01&lt;00:00,  1.78 url/s]",
            "_view_count": null,
            "_view_module_version": "1.5.0",
            "description_tooltip": null,
            "_model_module": "@jupyter-widgets/controls",
            "layout": "IPY_MODEL_36661d1783624ed1af32216828cfc25d"
          },
          "model_module_version": "1.5.0"
        },
        "369d60a450b04259bf3879850f2a871e": {
          "model_module": "@jupyter-widgets/controls",
          "model_name": "ProgressStyleModel",
          "state": {
            "_view_name": "StyleView",
            "_model_name": "ProgressStyleModel",
            "description_width": "initial",
            "_view_module": "@jupyter-widgets/base",
            "_model_module_version": "1.5.0",
            "_view_count": null,
            "_view_module_version": "1.2.0",
            "bar_color": null,
            "_model_module": "@jupyter-widgets/controls"
          },
          "model_module_version": "1.5.0"
        },
        "07b5bd9c1b024a9281a2cc122522bbda": {
          "model_module": "@jupyter-widgets/base",
          "model_name": "LayoutModel",
          "state": {
            "_view_name": "LayoutView",
            "grid_template_rows": null,
            "right": null,
            "justify_content": null,
            "_view_module": "@jupyter-widgets/base",
            "overflow": null,
            "_model_module_version": "1.2.0",
            "_view_count": null,
            "flex_flow": null,
            "width": null,
            "min_width": null,
            "border": null,
            "align_items": null,
            "bottom": null,
            "_model_module": "@jupyter-widgets/base",
            "top": null,
            "grid_column": null,
            "overflow_y": null,
            "overflow_x": null,
            "grid_auto_flow": null,
            "grid_area": null,
            "grid_template_columns": null,
            "flex": null,
            "_model_name": "LayoutModel",
            "justify_items": null,
            "grid_row": null,
            "max_height": null,
            "align_content": null,
            "visibility": null,
            "align_self": null,
            "height": null,
            "min_height": null,
            "padding": null,
            "grid_auto_rows": null,
            "grid_gap": null,
            "max_width": null,
            "order": null,
            "_view_module_version": "1.2.0",
            "grid_template_areas": null,
            "object_position": null,
            "object_fit": null,
            "grid_auto_columns": null,
            "margin": null,
            "display": null,
            "left": null
          },
          "model_module_version": "1.2.0"
        },
        "ab4e3dca30524955a0b013aa40722ebc": {
          "model_module": "@jupyter-widgets/controls",
          "model_name": "DescriptionStyleModel",
          "state": {
            "_view_name": "StyleView",
            "_model_name": "DescriptionStyleModel",
            "description_width": "",
            "_view_module": "@jupyter-widgets/base",
            "_model_module_version": "1.5.0",
            "_view_count": null,
            "_view_module_version": "1.2.0",
            "_model_module": "@jupyter-widgets/controls"
          },
          "model_module_version": "1.5.0"
        },
        "36661d1783624ed1af32216828cfc25d": {
          "model_module": "@jupyter-widgets/base",
          "model_name": "LayoutModel",
          "state": {
            "_view_name": "LayoutView",
            "grid_template_rows": null,
            "right": null,
            "justify_content": null,
            "_view_module": "@jupyter-widgets/base",
            "overflow": null,
            "_model_module_version": "1.2.0",
            "_view_count": null,
            "flex_flow": null,
            "width": null,
            "min_width": null,
            "border": null,
            "align_items": null,
            "bottom": null,
            "_model_module": "@jupyter-widgets/base",
            "top": null,
            "grid_column": null,
            "overflow_y": null,
            "overflow_x": null,
            "grid_auto_flow": null,
            "grid_area": null,
            "grid_template_columns": null,
            "flex": null,
            "_model_name": "LayoutModel",
            "justify_items": null,
            "grid_row": null,
            "max_height": null,
            "align_content": null,
            "visibility": null,
            "align_self": null,
            "height": null,
            "min_height": null,
            "padding": null,
            "grid_auto_rows": null,
            "grid_gap": null,
            "max_width": null,
            "order": null,
            "_view_module_version": "1.2.0",
            "grid_template_areas": null,
            "object_position": null,
            "object_fit": null,
            "grid_auto_columns": null,
            "margin": null,
            "display": null,
            "left": null
          },
          "model_module_version": "1.2.0"
        },
        "1e2a0ce8cadf4dea92b3e1bf926beae4": {
          "model_module": "@jupyter-widgets/controls",
          "model_name": "HBoxModel",
          "state": {
            "_view_name": "HBoxView",
            "_dom_classes": [],
            "_model_name": "HBoxModel",
            "_view_module": "@jupyter-widgets/controls",
            "_model_module_version": "1.5.0",
            "_view_count": null,
            "_view_module_version": "1.5.0",
            "box_style": "",
            "layout": "IPY_MODEL_4875ee15fe7f46ea8ae32b3045376c52",
            "_model_module": "@jupyter-widgets/controls",
            "children": [
              "IPY_MODEL_ad20b9162f60434bbfb4290c64deb678",
              "IPY_MODEL_a2f4ac60b77244019e7df33b3a1baf0f"
            ]
          },
          "model_module_version": "1.5.0"
        },
        "4875ee15fe7f46ea8ae32b3045376c52": {
          "model_module": "@jupyter-widgets/base",
          "model_name": "LayoutModel",
          "state": {
            "_view_name": "LayoutView",
            "grid_template_rows": null,
            "right": null,
            "justify_content": null,
            "_view_module": "@jupyter-widgets/base",
            "overflow": null,
            "_model_module_version": "1.2.0",
            "_view_count": null,
            "flex_flow": null,
            "width": null,
            "min_width": null,
            "border": null,
            "align_items": null,
            "bottom": null,
            "_model_module": "@jupyter-widgets/base",
            "top": null,
            "grid_column": null,
            "overflow_y": null,
            "overflow_x": null,
            "grid_auto_flow": null,
            "grid_area": null,
            "grid_template_columns": null,
            "flex": null,
            "_model_name": "LayoutModel",
            "justify_items": null,
            "grid_row": null,
            "max_height": null,
            "align_content": null,
            "visibility": null,
            "align_self": null,
            "height": null,
            "min_height": null,
            "padding": null,
            "grid_auto_rows": null,
            "grid_gap": null,
            "max_width": null,
            "order": null,
            "_view_module_version": "1.2.0",
            "grid_template_areas": null,
            "object_position": null,
            "object_fit": null,
            "grid_auto_columns": null,
            "margin": null,
            "display": null,
            "left": null
          },
          "model_module_version": "1.2.0"
        },
        "ad20b9162f60434bbfb4290c64deb678": {
          "model_module": "@jupyter-widgets/controls",
          "model_name": "FloatProgressModel",
          "state": {
            "_view_name": "ProgressView",
            "style": "IPY_MODEL_2ff66f55fd934ed3a5e58e9570a87410",
            "_dom_classes": [],
            "description": "Dl Size...: ",
            "_model_name": "FloatProgressModel",
            "bar_style": "success",
            "max": 1,
            "_view_module": "@jupyter-widgets/controls",
            "_model_module_version": "1.5.0",
            "value": 1,
            "_view_count": null,
            "_view_module_version": "1.5.0",
            "orientation": "horizontal",
            "min": 0,
            "description_tooltip": null,
            "_model_module": "@jupyter-widgets/controls",
            "layout": "IPY_MODEL_301a5a8afb4d459c9913cac680359ac7"
          },
          "model_module_version": "1.5.0"
        },
        "a2f4ac60b77244019e7df33b3a1baf0f": {
          "model_module": "@jupyter-widgets/controls",
          "model_name": "HTMLModel",
          "state": {
            "_view_name": "HTMLView",
            "style": "IPY_MODEL_119d4aa76ee343d5a4b305cf14cfbdb0",
            "_dom_classes": [],
            "description": "",
            "_model_name": "HTMLModel",
            "placeholder": "​",
            "_view_module": "@jupyter-widgets/controls",
            "_model_module_version": "1.5.0",
            "value": " 3/? [00:01&lt;00:00,  1.84 MiB/s]",
            "_view_count": null,
            "_view_module_version": "1.5.0",
            "description_tooltip": null,
            "_model_module": "@jupyter-widgets/controls",
            "layout": "IPY_MODEL_df22f5561e874ad4b984422eeab53e54"
          },
          "model_module_version": "1.5.0"
        },
        "2ff66f55fd934ed3a5e58e9570a87410": {
          "model_module": "@jupyter-widgets/controls",
          "model_name": "ProgressStyleModel",
          "state": {
            "_view_name": "StyleView",
            "_model_name": "ProgressStyleModel",
            "description_width": "initial",
            "_view_module": "@jupyter-widgets/base",
            "_model_module_version": "1.5.0",
            "_view_count": null,
            "_view_module_version": "1.2.0",
            "bar_color": null,
            "_model_module": "@jupyter-widgets/controls"
          },
          "model_module_version": "1.5.0"
        },
        "301a5a8afb4d459c9913cac680359ac7": {
          "model_module": "@jupyter-widgets/base",
          "model_name": "LayoutModel",
          "state": {
            "_view_name": "LayoutView",
            "grid_template_rows": null,
            "right": null,
            "justify_content": null,
            "_view_module": "@jupyter-widgets/base",
            "overflow": null,
            "_model_module_version": "1.2.0",
            "_view_count": null,
            "flex_flow": null,
            "width": null,
            "min_width": null,
            "border": null,
            "align_items": null,
            "bottom": null,
            "_model_module": "@jupyter-widgets/base",
            "top": null,
            "grid_column": null,
            "overflow_y": null,
            "overflow_x": null,
            "grid_auto_flow": null,
            "grid_area": null,
            "grid_template_columns": null,
            "flex": null,
            "_model_name": "LayoutModel",
            "justify_items": null,
            "grid_row": null,
            "max_height": null,
            "align_content": null,
            "visibility": null,
            "align_self": null,
            "height": null,
            "min_height": null,
            "padding": null,
            "grid_auto_rows": null,
            "grid_gap": null,
            "max_width": null,
            "order": null,
            "_view_module_version": "1.2.0",
            "grid_template_areas": null,
            "object_position": null,
            "object_fit": null,
            "grid_auto_columns": null,
            "margin": null,
            "display": null,
            "left": null
          },
          "model_module_version": "1.2.0"
        },
        "119d4aa76ee343d5a4b305cf14cfbdb0": {
          "model_module": "@jupyter-widgets/controls",
          "model_name": "DescriptionStyleModel",
          "state": {
            "_view_name": "StyleView",
            "_model_name": "DescriptionStyleModel",
            "description_width": "",
            "_view_module": "@jupyter-widgets/base",
            "_model_module_version": "1.5.0",
            "_view_count": null,
            "_view_module_version": "1.2.0",
            "_model_module": "@jupyter-widgets/controls"
          },
          "model_module_version": "1.5.0"
        },
        "df22f5561e874ad4b984422eeab53e54": {
          "model_module": "@jupyter-widgets/base",
          "model_name": "LayoutModel",
          "state": {
            "_view_name": "LayoutView",
            "grid_template_rows": null,
            "right": null,
            "justify_content": null,
            "_view_module": "@jupyter-widgets/base",
            "overflow": null,
            "_model_module_version": "1.2.0",
            "_view_count": null,
            "flex_flow": null,
            "width": null,
            "min_width": null,
            "border": null,
            "align_items": null,
            "bottom": null,
            "_model_module": "@jupyter-widgets/base",
            "top": null,
            "grid_column": null,
            "overflow_y": null,
            "overflow_x": null,
            "grid_auto_flow": null,
            "grid_area": null,
            "grid_template_columns": null,
            "flex": null,
            "_model_name": "LayoutModel",
            "justify_items": null,
            "grid_row": null,
            "max_height": null,
            "align_content": null,
            "visibility": null,
            "align_self": null,
            "height": null,
            "min_height": null,
            "padding": null,
            "grid_auto_rows": null,
            "grid_gap": null,
            "max_width": null,
            "order": null,
            "_view_module_version": "1.2.0",
            "grid_template_areas": null,
            "object_position": null,
            "object_fit": null,
            "grid_auto_columns": null,
            "margin": null,
            "display": null,
            "left": null
          },
          "model_module_version": "1.2.0"
        },
        "7579564c6da4481a959be926e485aa33": {
          "model_module": "@jupyter-widgets/controls",
          "model_name": "HBoxModel",
          "state": {
            "_view_name": "HBoxView",
            "_dom_classes": [],
            "_model_name": "HBoxModel",
            "_view_module": "@jupyter-widgets/controls",
            "_model_module_version": "1.5.0",
            "_view_count": null,
            "_view_module_version": "1.5.0",
            "box_style": "",
            "layout": "IPY_MODEL_6afbad8688054f1d813120fa86e35708",
            "_model_module": "@jupyter-widgets/controls",
            "children": [
              "IPY_MODEL_f18a3a8bb1a342b882aafa92744bc19d",
              "IPY_MODEL_a478f6319f054acc86b2b641fbac82ca"
            ]
          },
          "model_module_version": "1.5.0"
        },
        "6afbad8688054f1d813120fa86e35708": {
          "model_module": "@jupyter-widgets/base",
          "model_name": "LayoutModel",
          "state": {
            "_view_name": "LayoutView",
            "grid_template_rows": null,
            "right": null,
            "justify_content": null,
            "_view_module": "@jupyter-widgets/base",
            "overflow": null,
            "_model_module_version": "1.2.0",
            "_view_count": null,
            "flex_flow": null,
            "width": null,
            "min_width": null,
            "border": null,
            "align_items": null,
            "bottom": null,
            "_model_module": "@jupyter-widgets/base",
            "top": null,
            "grid_column": null,
            "overflow_y": null,
            "overflow_x": null,
            "grid_auto_flow": null,
            "grid_area": null,
            "grid_template_columns": null,
            "flex": null,
            "_model_name": "LayoutModel",
            "justify_items": null,
            "grid_row": null,
            "max_height": null,
            "align_content": null,
            "visibility": null,
            "align_self": null,
            "height": null,
            "min_height": null,
            "padding": null,
            "grid_auto_rows": null,
            "grid_gap": null,
            "max_width": null,
            "order": null,
            "_view_module_version": "1.2.0",
            "grid_template_areas": null,
            "object_position": null,
            "object_fit": null,
            "grid_auto_columns": null,
            "margin": null,
            "display": null,
            "left": null
          },
          "model_module_version": "1.2.0"
        },
        "f18a3a8bb1a342b882aafa92744bc19d": {
          "model_module": "@jupyter-widgets/controls",
          "model_name": "FloatProgressModel",
          "state": {
            "_view_name": "ProgressView",
            "style": "IPY_MODEL_d1933cc276584e16a86d3edf61d56f9e",
            "_dom_classes": [],
            "description": "",
            "_model_name": "FloatProgressModel",
            "bar_style": "info",
            "max": 1,
            "_view_module": "@jupyter-widgets/controls",
            "_model_module_version": "1.5.0",
            "value": 1,
            "_view_count": null,
            "_view_module_version": "1.5.0",
            "orientation": "horizontal",
            "min": 0,
            "description_tooltip": null,
            "_model_module": "@jupyter-widgets/controls",
            "layout": "IPY_MODEL_6d67eaef495b4b06830584525d2bc956"
          },
          "model_module_version": "1.5.0"
        },
        "a478f6319f054acc86b2b641fbac82ca": {
          "model_module": "@jupyter-widgets/controls",
          "model_name": "HTMLModel",
          "state": {
            "_view_name": "HTMLView",
            "style": "IPY_MODEL_8165e052076a425b9c574646aaeeef17",
            "_dom_classes": [],
            "description": "",
            "_model_name": "HTMLModel",
            "placeholder": "​",
            "_view_module": "@jupyter-widgets/controls",
            "_model_module_version": "1.5.0",
            "value": " 43410/0 [01:19&lt;00:00, 481.68 examples/s]",
            "_view_count": null,
            "_view_module_version": "1.5.0",
            "description_tooltip": null,
            "_model_module": "@jupyter-widgets/controls",
            "layout": "IPY_MODEL_7fc9ee583e13477d87a2ac50f5aedb6f"
          },
          "model_module_version": "1.5.0"
        },
        "d1933cc276584e16a86d3edf61d56f9e": {
          "model_module": "@jupyter-widgets/controls",
          "model_name": "ProgressStyleModel",
          "state": {
            "_view_name": "StyleView",
            "_model_name": "ProgressStyleModel",
            "description_width": "initial",
            "_view_module": "@jupyter-widgets/base",
            "_model_module_version": "1.5.0",
            "_view_count": null,
            "_view_module_version": "1.2.0",
            "bar_color": null,
            "_model_module": "@jupyter-widgets/controls"
          },
          "model_module_version": "1.5.0"
        },
        "6d67eaef495b4b06830584525d2bc956": {
          "model_module": "@jupyter-widgets/base",
          "model_name": "LayoutModel",
          "state": {
            "_view_name": "LayoutView",
            "grid_template_rows": null,
            "right": null,
            "justify_content": null,
            "_view_module": "@jupyter-widgets/base",
            "overflow": null,
            "_model_module_version": "1.2.0",
            "_view_count": null,
            "flex_flow": null,
            "width": null,
            "min_width": null,
            "border": null,
            "align_items": null,
            "bottom": null,
            "_model_module": "@jupyter-widgets/base",
            "top": null,
            "grid_column": null,
            "overflow_y": null,
            "overflow_x": null,
            "grid_auto_flow": null,
            "grid_area": null,
            "grid_template_columns": null,
            "flex": null,
            "_model_name": "LayoutModel",
            "justify_items": null,
            "grid_row": null,
            "max_height": null,
            "align_content": null,
            "visibility": null,
            "align_self": null,
            "height": null,
            "min_height": null,
            "padding": null,
            "grid_auto_rows": null,
            "grid_gap": null,
            "max_width": null,
            "order": null,
            "_view_module_version": "1.2.0",
            "grid_template_areas": null,
            "object_position": null,
            "object_fit": null,
            "grid_auto_columns": null,
            "margin": null,
            "display": null,
            "left": null
          },
          "model_module_version": "1.2.0"
        },
        "8165e052076a425b9c574646aaeeef17": {
          "model_module": "@jupyter-widgets/controls",
          "model_name": "DescriptionStyleModel",
          "state": {
            "_view_name": "StyleView",
            "_model_name": "DescriptionStyleModel",
            "description_width": "",
            "_view_module": "@jupyter-widgets/base",
            "_model_module_version": "1.5.0",
            "_view_count": null,
            "_view_module_version": "1.2.0",
            "_model_module": "@jupyter-widgets/controls"
          },
          "model_module_version": "1.5.0"
        },
        "7fc9ee583e13477d87a2ac50f5aedb6f": {
          "model_module": "@jupyter-widgets/base",
          "model_name": "LayoutModel",
          "state": {
            "_view_name": "LayoutView",
            "grid_template_rows": null,
            "right": null,
            "justify_content": null,
            "_view_module": "@jupyter-widgets/base",
            "overflow": null,
            "_model_module_version": "1.2.0",
            "_view_count": null,
            "flex_flow": null,
            "width": null,
            "min_width": null,
            "border": null,
            "align_items": null,
            "bottom": null,
            "_model_module": "@jupyter-widgets/base",
            "top": null,
            "grid_column": null,
            "overflow_y": null,
            "overflow_x": null,
            "grid_auto_flow": null,
            "grid_area": null,
            "grid_template_columns": null,
            "flex": null,
            "_model_name": "LayoutModel",
            "justify_items": null,
            "grid_row": null,
            "max_height": null,
            "align_content": null,
            "visibility": null,
            "align_self": null,
            "height": null,
            "min_height": null,
            "padding": null,
            "grid_auto_rows": null,
            "grid_gap": null,
            "max_width": null,
            "order": null,
            "_view_module_version": "1.2.0",
            "grid_template_areas": null,
            "object_position": null,
            "object_fit": null,
            "grid_auto_columns": null,
            "margin": null,
            "display": null,
            "left": null
          },
          "model_module_version": "1.2.0"
        },
        "7e34efaefa4f40b5890714fa3b71225e": {
          "model_module": "@jupyter-widgets/controls",
          "model_name": "HBoxModel",
          "state": {
            "_view_name": "HBoxView",
            "_dom_classes": [],
            "_model_name": "HBoxModel",
            "_view_module": "@jupyter-widgets/controls",
            "_model_module_version": "1.5.0",
            "_view_count": null,
            "_view_module_version": "1.5.0",
            "box_style": "",
            "layout": "IPY_MODEL_ccd48fad012a459ba57004c8c64f9c1d",
            "_model_module": "@jupyter-widgets/controls",
            "children": [
              "IPY_MODEL_ecd151403b1b471eb875c987a671964e",
              "IPY_MODEL_38e0652c74814892bf766f7b260cec24"
            ]
          },
          "model_module_version": "1.5.0"
        },
        "ccd48fad012a459ba57004c8c64f9c1d": {
          "model_module": "@jupyter-widgets/base",
          "model_name": "LayoutModel",
          "state": {
            "_view_name": "LayoutView",
            "grid_template_rows": null,
            "right": null,
            "justify_content": null,
            "_view_module": "@jupyter-widgets/base",
            "overflow": null,
            "_model_module_version": "1.2.0",
            "_view_count": null,
            "flex_flow": null,
            "width": null,
            "min_width": null,
            "border": null,
            "align_items": null,
            "bottom": null,
            "_model_module": "@jupyter-widgets/base",
            "top": null,
            "grid_column": null,
            "overflow_y": null,
            "overflow_x": null,
            "grid_auto_flow": null,
            "grid_area": null,
            "grid_template_columns": null,
            "flex": null,
            "_model_name": "LayoutModel",
            "justify_items": null,
            "grid_row": null,
            "max_height": null,
            "align_content": null,
            "visibility": null,
            "align_self": null,
            "height": null,
            "min_height": null,
            "padding": null,
            "grid_auto_rows": null,
            "grid_gap": null,
            "max_width": null,
            "order": null,
            "_view_module_version": "1.2.0",
            "grid_template_areas": null,
            "object_position": null,
            "object_fit": null,
            "grid_auto_columns": null,
            "margin": null,
            "display": null,
            "left": null
          },
          "model_module_version": "1.2.0"
        },
        "ecd151403b1b471eb875c987a671964e": {
          "model_module": "@jupyter-widgets/controls",
          "model_name": "FloatProgressModel",
          "state": {
            "_view_name": "ProgressView",
            "style": "IPY_MODEL_41ee792ab71441d28b51db25302ddeb9",
            "_dom_classes": [],
            "description": " 47%",
            "_model_name": "FloatProgressModel",
            "bar_style": "danger",
            "max": 43410,
            "_view_module": "@jupyter-widgets/controls",
            "_model_module_version": "1.5.0",
            "value": 20410,
            "_view_count": null,
            "_view_module_version": "1.5.0",
            "orientation": "horizontal",
            "min": 0,
            "description_tooltip": null,
            "_model_module": "@jupyter-widgets/controls",
            "layout": "IPY_MODEL_6451b187af564126b961a9c0671f5b80"
          },
          "model_module_version": "1.5.0"
        },
        "38e0652c74814892bf766f7b260cec24": {
          "model_module": "@jupyter-widgets/controls",
          "model_name": "HTMLModel",
          "state": {
            "_view_name": "HTMLView",
            "style": "IPY_MODEL_299726d10fcc45ed9148f666460723f1",
            "_dom_classes": [],
            "description": "",
            "_model_name": "HTMLModel",
            "placeholder": "​",
            "_view_module": "@jupyter-widgets/controls",
            "_model_module_version": "1.5.0",
            "value": " 20410/43410 [00:00&lt;00:40, 570.93 examples/s]",
            "_view_count": null,
            "_view_module_version": "1.5.0",
            "description_tooltip": null,
            "_model_module": "@jupyter-widgets/controls",
            "layout": "IPY_MODEL_0ab0d83a12994c099e631339540a6631"
          },
          "model_module_version": "1.5.0"
        },
        "41ee792ab71441d28b51db25302ddeb9": {
          "model_module": "@jupyter-widgets/controls",
          "model_name": "ProgressStyleModel",
          "state": {
            "_view_name": "StyleView",
            "_model_name": "ProgressStyleModel",
            "description_width": "initial",
            "_view_module": "@jupyter-widgets/base",
            "_model_module_version": "1.5.0",
            "_view_count": null,
            "_view_module_version": "1.2.0",
            "bar_color": null,
            "_model_module": "@jupyter-widgets/controls"
          },
          "model_module_version": "1.5.0"
        },
        "6451b187af564126b961a9c0671f5b80": {
          "model_module": "@jupyter-widgets/base",
          "model_name": "LayoutModel",
          "state": {
            "_view_name": "LayoutView",
            "grid_template_rows": null,
            "right": null,
            "justify_content": null,
            "_view_module": "@jupyter-widgets/base",
            "overflow": null,
            "_model_module_version": "1.2.0",
            "_view_count": null,
            "flex_flow": null,
            "width": null,
            "min_width": null,
            "border": null,
            "align_items": null,
            "bottom": null,
            "_model_module": "@jupyter-widgets/base",
            "top": null,
            "grid_column": null,
            "overflow_y": null,
            "overflow_x": null,
            "grid_auto_flow": null,
            "grid_area": null,
            "grid_template_columns": null,
            "flex": null,
            "_model_name": "LayoutModel",
            "justify_items": null,
            "grid_row": null,
            "max_height": null,
            "align_content": null,
            "visibility": null,
            "align_self": null,
            "height": null,
            "min_height": null,
            "padding": null,
            "grid_auto_rows": null,
            "grid_gap": null,
            "max_width": null,
            "order": null,
            "_view_module_version": "1.2.0",
            "grid_template_areas": null,
            "object_position": null,
            "object_fit": null,
            "grid_auto_columns": null,
            "margin": null,
            "display": null,
            "left": null
          },
          "model_module_version": "1.2.0"
        },
        "299726d10fcc45ed9148f666460723f1": {
          "model_module": "@jupyter-widgets/controls",
          "model_name": "DescriptionStyleModel",
          "state": {
            "_view_name": "StyleView",
            "_model_name": "DescriptionStyleModel",
            "description_width": "",
            "_view_module": "@jupyter-widgets/base",
            "_model_module_version": "1.5.0",
            "_view_count": null,
            "_view_module_version": "1.2.0",
            "_model_module": "@jupyter-widgets/controls"
          },
          "model_module_version": "1.5.0"
        },
        "0ab0d83a12994c099e631339540a6631": {
          "model_module": "@jupyter-widgets/base",
          "model_name": "LayoutModel",
          "state": {
            "_view_name": "LayoutView",
            "grid_template_rows": null,
            "right": null,
            "justify_content": null,
            "_view_module": "@jupyter-widgets/base",
            "overflow": null,
            "_model_module_version": "1.2.0",
            "_view_count": null,
            "flex_flow": null,
            "width": null,
            "min_width": null,
            "border": null,
            "align_items": null,
            "bottom": null,
            "_model_module": "@jupyter-widgets/base",
            "top": null,
            "grid_column": null,
            "overflow_y": null,
            "overflow_x": null,
            "grid_auto_flow": null,
            "grid_area": null,
            "grid_template_columns": null,
            "flex": null,
            "_model_name": "LayoutModel",
            "justify_items": null,
            "grid_row": null,
            "max_height": null,
            "align_content": null,
            "visibility": null,
            "align_self": null,
            "height": null,
            "min_height": null,
            "padding": null,
            "grid_auto_rows": null,
            "grid_gap": null,
            "max_width": null,
            "order": null,
            "_view_module_version": "1.2.0",
            "grid_template_areas": null,
            "object_position": null,
            "object_fit": null,
            "grid_auto_columns": null,
            "margin": null,
            "display": null,
            "left": null
          },
          "model_module_version": "1.2.0"
        },
        "035720a756c14c449d7dbeaffab05114": {
          "model_module": "@jupyter-widgets/controls",
          "model_name": "HBoxModel",
          "state": {
            "_view_name": "HBoxView",
            "_dom_classes": [],
            "_model_name": "HBoxModel",
            "_view_module": "@jupyter-widgets/controls",
            "_model_module_version": "1.5.0",
            "_view_count": null,
            "_view_module_version": "1.5.0",
            "box_style": "",
            "layout": "IPY_MODEL_356f333b8e994e148923e426cf373c33",
            "_model_module": "@jupyter-widgets/controls",
            "children": [
              "IPY_MODEL_e5dcb75bec13455e91e1ea37ab1885ae",
              "IPY_MODEL_23386766907848a69ee04b03c0bd0743"
            ]
          },
          "model_module_version": "1.5.0"
        },
        "356f333b8e994e148923e426cf373c33": {
          "model_module": "@jupyter-widgets/base",
          "model_name": "LayoutModel",
          "state": {
            "_view_name": "LayoutView",
            "grid_template_rows": null,
            "right": null,
            "justify_content": null,
            "_view_module": "@jupyter-widgets/base",
            "overflow": null,
            "_model_module_version": "1.2.0",
            "_view_count": null,
            "flex_flow": null,
            "width": null,
            "min_width": null,
            "border": null,
            "align_items": null,
            "bottom": null,
            "_model_module": "@jupyter-widgets/base",
            "top": null,
            "grid_column": null,
            "overflow_y": null,
            "overflow_x": null,
            "grid_auto_flow": null,
            "grid_area": null,
            "grid_template_columns": null,
            "flex": null,
            "_model_name": "LayoutModel",
            "justify_items": null,
            "grid_row": null,
            "max_height": null,
            "align_content": null,
            "visibility": null,
            "align_self": null,
            "height": null,
            "min_height": null,
            "padding": null,
            "grid_auto_rows": null,
            "grid_gap": null,
            "max_width": null,
            "order": null,
            "_view_module_version": "1.2.0",
            "grid_template_areas": null,
            "object_position": null,
            "object_fit": null,
            "grid_auto_columns": null,
            "margin": null,
            "display": null,
            "left": null
          },
          "model_module_version": "1.2.0"
        },
        "e5dcb75bec13455e91e1ea37ab1885ae": {
          "model_module": "@jupyter-widgets/controls",
          "model_name": "FloatProgressModel",
          "state": {
            "_view_name": "ProgressView",
            "style": "IPY_MODEL_5023c1045da8429b8b393a18e2b22d35",
            "_dom_classes": [],
            "description": "",
            "_model_name": "FloatProgressModel",
            "bar_style": "info",
            "max": 1,
            "_view_module": "@jupyter-widgets/controls",
            "_model_module_version": "1.5.0",
            "value": 1,
            "_view_count": null,
            "_view_module_version": "1.5.0",
            "orientation": "horizontal",
            "min": 0,
            "description_tooltip": null,
            "_model_module": "@jupyter-widgets/controls",
            "layout": "IPY_MODEL_ac71c6607f104aaea87e8154110198e0"
          },
          "model_module_version": "1.5.0"
        },
        "23386766907848a69ee04b03c0bd0743": {
          "model_module": "@jupyter-widgets/controls",
          "model_name": "HTMLModel",
          "state": {
            "_view_name": "HTMLView",
            "style": "IPY_MODEL_bb1e9bbfbe714ebfa864630717b6f116",
            "_dom_classes": [],
            "description": "",
            "_model_name": "HTMLModel",
            "placeholder": "​",
            "_view_module": "@jupyter-widgets/controls",
            "_model_module_version": "1.5.0",
            "value": " 5426/0 [00:10&lt;00:00, 652.89 examples/s]",
            "_view_count": null,
            "_view_module_version": "1.5.0",
            "description_tooltip": null,
            "_model_module": "@jupyter-widgets/controls",
            "layout": "IPY_MODEL_439a1e97f60243f481df636801f34c43"
          },
          "model_module_version": "1.5.0"
        },
        "5023c1045da8429b8b393a18e2b22d35": {
          "model_module": "@jupyter-widgets/controls",
          "model_name": "ProgressStyleModel",
          "state": {
            "_view_name": "StyleView",
            "_model_name": "ProgressStyleModel",
            "description_width": "initial",
            "_view_module": "@jupyter-widgets/base",
            "_model_module_version": "1.5.0",
            "_view_count": null,
            "_view_module_version": "1.2.0",
            "bar_color": null,
            "_model_module": "@jupyter-widgets/controls"
          },
          "model_module_version": "1.5.0"
        },
        "ac71c6607f104aaea87e8154110198e0": {
          "model_module": "@jupyter-widgets/base",
          "model_name": "LayoutModel",
          "state": {
            "_view_name": "LayoutView",
            "grid_template_rows": null,
            "right": null,
            "justify_content": null,
            "_view_module": "@jupyter-widgets/base",
            "overflow": null,
            "_model_module_version": "1.2.0",
            "_view_count": null,
            "flex_flow": null,
            "width": null,
            "min_width": null,
            "border": null,
            "align_items": null,
            "bottom": null,
            "_model_module": "@jupyter-widgets/base",
            "top": null,
            "grid_column": null,
            "overflow_y": null,
            "overflow_x": null,
            "grid_auto_flow": null,
            "grid_area": null,
            "grid_template_columns": null,
            "flex": null,
            "_model_name": "LayoutModel",
            "justify_items": null,
            "grid_row": null,
            "max_height": null,
            "align_content": null,
            "visibility": null,
            "align_self": null,
            "height": null,
            "min_height": null,
            "padding": null,
            "grid_auto_rows": null,
            "grid_gap": null,
            "max_width": null,
            "order": null,
            "_view_module_version": "1.2.0",
            "grid_template_areas": null,
            "object_position": null,
            "object_fit": null,
            "grid_auto_columns": null,
            "margin": null,
            "display": null,
            "left": null
          },
          "model_module_version": "1.2.0"
        },
        "bb1e9bbfbe714ebfa864630717b6f116": {
          "model_module": "@jupyter-widgets/controls",
          "model_name": "DescriptionStyleModel",
          "state": {
            "_view_name": "StyleView",
            "_model_name": "DescriptionStyleModel",
            "description_width": "",
            "_view_module": "@jupyter-widgets/base",
            "_model_module_version": "1.5.0",
            "_view_count": null,
            "_view_module_version": "1.2.0",
            "_model_module": "@jupyter-widgets/controls"
          },
          "model_module_version": "1.5.0"
        },
        "439a1e97f60243f481df636801f34c43": {
          "model_module": "@jupyter-widgets/base",
          "model_name": "LayoutModel",
          "state": {
            "_view_name": "LayoutView",
            "grid_template_rows": null,
            "right": null,
            "justify_content": null,
            "_view_module": "@jupyter-widgets/base",
            "overflow": null,
            "_model_module_version": "1.2.0",
            "_view_count": null,
            "flex_flow": null,
            "width": null,
            "min_width": null,
            "border": null,
            "align_items": null,
            "bottom": null,
            "_model_module": "@jupyter-widgets/base",
            "top": null,
            "grid_column": null,
            "overflow_y": null,
            "overflow_x": null,
            "grid_auto_flow": null,
            "grid_area": null,
            "grid_template_columns": null,
            "flex": null,
            "_model_name": "LayoutModel",
            "justify_items": null,
            "grid_row": null,
            "max_height": null,
            "align_content": null,
            "visibility": null,
            "align_self": null,
            "height": null,
            "min_height": null,
            "padding": null,
            "grid_auto_rows": null,
            "grid_gap": null,
            "max_width": null,
            "order": null,
            "_view_module_version": "1.2.0",
            "grid_template_areas": null,
            "object_position": null,
            "object_fit": null,
            "grid_auto_columns": null,
            "margin": null,
            "display": null,
            "left": null
          },
          "model_module_version": "1.2.0"
        },
        "77195fe6504e46cdbe87afd518940213": {
          "model_module": "@jupyter-widgets/controls",
          "model_name": "HBoxModel",
          "state": {
            "_view_name": "HBoxView",
            "_dom_classes": [],
            "_model_name": "HBoxModel",
            "_view_module": "@jupyter-widgets/controls",
            "_model_module_version": "1.5.0",
            "_view_count": null,
            "_view_module_version": "1.5.0",
            "box_style": "",
            "layout": "IPY_MODEL_9eb0d0e2dd0b465297c87db0383a3d3e",
            "_model_module": "@jupyter-widgets/controls",
            "children": [
              "IPY_MODEL_935ba09760824f46b8ce94ba05e0366f",
              "IPY_MODEL_37f2340f37e647419df7a723df13c6c7"
            ]
          },
          "model_module_version": "1.5.0"
        },
        "9eb0d0e2dd0b465297c87db0383a3d3e": {
          "model_module": "@jupyter-widgets/base",
          "model_name": "LayoutModel",
          "state": {
            "_view_name": "LayoutView",
            "grid_template_rows": null,
            "right": null,
            "justify_content": null,
            "_view_module": "@jupyter-widgets/base",
            "overflow": null,
            "_model_module_version": "1.2.0",
            "_view_count": null,
            "flex_flow": null,
            "width": null,
            "min_width": null,
            "border": null,
            "align_items": null,
            "bottom": null,
            "_model_module": "@jupyter-widgets/base",
            "top": null,
            "grid_column": null,
            "overflow_y": null,
            "overflow_x": null,
            "grid_auto_flow": null,
            "grid_area": null,
            "grid_template_columns": null,
            "flex": null,
            "_model_name": "LayoutModel",
            "justify_items": null,
            "grid_row": null,
            "max_height": null,
            "align_content": null,
            "visibility": null,
            "align_self": null,
            "height": null,
            "min_height": null,
            "padding": null,
            "grid_auto_rows": null,
            "grid_gap": null,
            "max_width": null,
            "order": null,
            "_view_module_version": "1.2.0",
            "grid_template_areas": null,
            "object_position": null,
            "object_fit": null,
            "grid_auto_columns": null,
            "margin": null,
            "display": null,
            "left": null
          },
          "model_module_version": "1.2.0"
        },
        "935ba09760824f46b8ce94ba05e0366f": {
          "model_module": "@jupyter-widgets/controls",
          "model_name": "FloatProgressModel",
          "state": {
            "_view_name": "ProgressView",
            "style": "IPY_MODEL_c16c6955cfb3441da5b77f3c9e194dd3",
            "_dom_classes": [],
            "description": "  0%",
            "_model_name": "FloatProgressModel",
            "bar_style": "danger",
            "max": 5426,
            "_view_module": "@jupyter-widgets/controls",
            "_model_module_version": "1.5.0",
            "value": 0,
            "_view_count": null,
            "_view_module_version": "1.5.0",
            "orientation": "horizontal",
            "min": 0,
            "description_tooltip": null,
            "_model_module": "@jupyter-widgets/controls",
            "layout": "IPY_MODEL_f843371dbd414ccd9f7d49714e24f765"
          },
          "model_module_version": "1.5.0"
        },
        "37f2340f37e647419df7a723df13c6c7": {
          "model_module": "@jupyter-widgets/controls",
          "model_name": "HTMLModel",
          "state": {
            "_view_name": "HTMLView",
            "style": "IPY_MODEL_349e29dcfc2747ac9b2e2792748d2ba6",
            "_dom_classes": [],
            "description": "",
            "_model_name": "HTMLModel",
            "placeholder": "​",
            "_view_module": "@jupyter-widgets/controls",
            "_model_module_version": "1.5.0",
            "value": " 0/5426 [00:00&lt;?, ? examples/s]",
            "_view_count": null,
            "_view_module_version": "1.5.0",
            "description_tooltip": null,
            "_model_module": "@jupyter-widgets/controls",
            "layout": "IPY_MODEL_4b7fb62946054ff6af9a9586ff1acb9a"
          },
          "model_module_version": "1.5.0"
        },
        "c16c6955cfb3441da5b77f3c9e194dd3": {
          "model_module": "@jupyter-widgets/controls",
          "model_name": "ProgressStyleModel",
          "state": {
            "_view_name": "StyleView",
            "_model_name": "ProgressStyleModel",
            "description_width": "initial",
            "_view_module": "@jupyter-widgets/base",
            "_model_module_version": "1.5.0",
            "_view_count": null,
            "_view_module_version": "1.2.0",
            "bar_color": null,
            "_model_module": "@jupyter-widgets/controls"
          },
          "model_module_version": "1.5.0"
        },
        "f843371dbd414ccd9f7d49714e24f765": {
          "model_module": "@jupyter-widgets/base",
          "model_name": "LayoutModel",
          "state": {
            "_view_name": "LayoutView",
            "grid_template_rows": null,
            "right": null,
            "justify_content": null,
            "_view_module": "@jupyter-widgets/base",
            "overflow": null,
            "_model_module_version": "1.2.0",
            "_view_count": null,
            "flex_flow": null,
            "width": null,
            "min_width": null,
            "border": null,
            "align_items": null,
            "bottom": null,
            "_model_module": "@jupyter-widgets/base",
            "top": null,
            "grid_column": null,
            "overflow_y": null,
            "overflow_x": null,
            "grid_auto_flow": null,
            "grid_area": null,
            "grid_template_columns": null,
            "flex": null,
            "_model_name": "LayoutModel",
            "justify_items": null,
            "grid_row": null,
            "max_height": null,
            "align_content": null,
            "visibility": null,
            "align_self": null,
            "height": null,
            "min_height": null,
            "padding": null,
            "grid_auto_rows": null,
            "grid_gap": null,
            "max_width": null,
            "order": null,
            "_view_module_version": "1.2.0",
            "grid_template_areas": null,
            "object_position": null,
            "object_fit": null,
            "grid_auto_columns": null,
            "margin": null,
            "display": null,
            "left": null
          },
          "model_module_version": "1.2.0"
        },
        "349e29dcfc2747ac9b2e2792748d2ba6": {
          "model_module": "@jupyter-widgets/controls",
          "model_name": "DescriptionStyleModel",
          "state": {
            "_view_name": "StyleView",
            "_model_name": "DescriptionStyleModel",
            "description_width": "",
            "_view_module": "@jupyter-widgets/base",
            "_model_module_version": "1.5.0",
            "_view_count": null,
            "_view_module_version": "1.2.0",
            "_model_module": "@jupyter-widgets/controls"
          },
          "model_module_version": "1.5.0"
        },
        "4b7fb62946054ff6af9a9586ff1acb9a": {
          "model_module": "@jupyter-widgets/base",
          "model_name": "LayoutModel",
          "state": {
            "_view_name": "LayoutView",
            "grid_template_rows": null,
            "right": null,
            "justify_content": null,
            "_view_module": "@jupyter-widgets/base",
            "overflow": null,
            "_model_module_version": "1.2.0",
            "_view_count": null,
            "flex_flow": null,
            "width": null,
            "min_width": null,
            "border": null,
            "align_items": null,
            "bottom": null,
            "_model_module": "@jupyter-widgets/base",
            "top": null,
            "grid_column": null,
            "overflow_y": null,
            "overflow_x": null,
            "grid_auto_flow": null,
            "grid_area": null,
            "grid_template_columns": null,
            "flex": null,
            "_model_name": "LayoutModel",
            "justify_items": null,
            "grid_row": null,
            "max_height": null,
            "align_content": null,
            "visibility": null,
            "align_self": null,
            "height": null,
            "min_height": null,
            "padding": null,
            "grid_auto_rows": null,
            "grid_gap": null,
            "max_width": null,
            "order": null,
            "_view_module_version": "1.2.0",
            "grid_template_areas": null,
            "object_position": null,
            "object_fit": null,
            "grid_auto_columns": null,
            "margin": null,
            "display": null,
            "left": null
          },
          "model_module_version": "1.2.0"
        },
        "f9b2f945218d4f849bb617a1a1bf2a57": {
          "model_module": "@jupyter-widgets/controls",
          "model_name": "HBoxModel",
          "state": {
            "_view_name": "HBoxView",
            "_dom_classes": [],
            "_model_name": "HBoxModel",
            "_view_module": "@jupyter-widgets/controls",
            "_model_module_version": "1.5.0",
            "_view_count": null,
            "_view_module_version": "1.5.0",
            "box_style": "",
            "layout": "IPY_MODEL_6872d8679c1d46ddb81d738e5f40d6cf",
            "_model_module": "@jupyter-widgets/controls",
            "children": [
              "IPY_MODEL_5015ba204dfe44b0985bd1f23abb75d2",
              "IPY_MODEL_98061887bcf9459d8981aa643da45267"
            ]
          },
          "model_module_version": "1.5.0"
        },
        "6872d8679c1d46ddb81d738e5f40d6cf": {
          "model_module": "@jupyter-widgets/base",
          "model_name": "LayoutModel",
          "state": {
            "_view_name": "LayoutView",
            "grid_template_rows": null,
            "right": null,
            "justify_content": null,
            "_view_module": "@jupyter-widgets/base",
            "overflow": null,
            "_model_module_version": "1.2.0",
            "_view_count": null,
            "flex_flow": null,
            "width": null,
            "min_width": null,
            "border": null,
            "align_items": null,
            "bottom": null,
            "_model_module": "@jupyter-widgets/base",
            "top": null,
            "grid_column": null,
            "overflow_y": null,
            "overflow_x": null,
            "grid_auto_flow": null,
            "grid_area": null,
            "grid_template_columns": null,
            "flex": null,
            "_model_name": "LayoutModel",
            "justify_items": null,
            "grid_row": null,
            "max_height": null,
            "align_content": null,
            "visibility": null,
            "align_self": null,
            "height": null,
            "min_height": null,
            "padding": null,
            "grid_auto_rows": null,
            "grid_gap": null,
            "max_width": null,
            "order": null,
            "_view_module_version": "1.2.0",
            "grid_template_areas": null,
            "object_position": null,
            "object_fit": null,
            "grid_auto_columns": null,
            "margin": null,
            "display": null,
            "left": null
          },
          "model_module_version": "1.2.0"
        },
        "5015ba204dfe44b0985bd1f23abb75d2": {
          "model_module": "@jupyter-widgets/controls",
          "model_name": "FloatProgressModel",
          "state": {
            "_view_name": "ProgressView",
            "style": "IPY_MODEL_1d7a8c951e8f447f832e2d4cebb84e9a",
            "_dom_classes": [],
            "description": "",
            "_model_name": "FloatProgressModel",
            "bar_style": "info",
            "max": 1,
            "_view_module": "@jupyter-widgets/controls",
            "_model_module_version": "1.5.0",
            "value": 1,
            "_view_count": null,
            "_view_module_version": "1.5.0",
            "orientation": "horizontal",
            "min": 0,
            "description_tooltip": null,
            "_model_module": "@jupyter-widgets/controls",
            "layout": "IPY_MODEL_27c5aa5527614cd58eeab64de042d04d"
          },
          "model_module_version": "1.5.0"
        },
        "98061887bcf9459d8981aa643da45267": {
          "model_module": "@jupyter-widgets/controls",
          "model_name": "HTMLModel",
          "state": {
            "_view_name": "HTMLView",
            "style": "IPY_MODEL_b218333b7668471b841f80cd73070f8f",
            "_dom_classes": [],
            "description": "",
            "_model_name": "HTMLModel",
            "placeholder": "​",
            "_view_module": "@jupyter-widgets/controls",
            "_model_module_version": "1.5.0",
            "value": " 5427/0 [00:09&lt;00:00, 574.35 examples/s]",
            "_view_count": null,
            "_view_module_version": "1.5.0",
            "description_tooltip": null,
            "_model_module": "@jupyter-widgets/controls",
            "layout": "IPY_MODEL_18f4ae03cf72409498eb3ab5297b47e3"
          },
          "model_module_version": "1.5.0"
        },
        "1d7a8c951e8f447f832e2d4cebb84e9a": {
          "model_module": "@jupyter-widgets/controls",
          "model_name": "ProgressStyleModel",
          "state": {
            "_view_name": "StyleView",
            "_model_name": "ProgressStyleModel",
            "description_width": "initial",
            "_view_module": "@jupyter-widgets/base",
            "_model_module_version": "1.5.0",
            "_view_count": null,
            "_view_module_version": "1.2.0",
            "bar_color": null,
            "_model_module": "@jupyter-widgets/controls"
          },
          "model_module_version": "1.5.0"
        },
        "27c5aa5527614cd58eeab64de042d04d": {
          "model_module": "@jupyter-widgets/base",
          "model_name": "LayoutModel",
          "state": {
            "_view_name": "LayoutView",
            "grid_template_rows": null,
            "right": null,
            "justify_content": null,
            "_view_module": "@jupyter-widgets/base",
            "overflow": null,
            "_model_module_version": "1.2.0",
            "_view_count": null,
            "flex_flow": null,
            "width": null,
            "min_width": null,
            "border": null,
            "align_items": null,
            "bottom": null,
            "_model_module": "@jupyter-widgets/base",
            "top": null,
            "grid_column": null,
            "overflow_y": null,
            "overflow_x": null,
            "grid_auto_flow": null,
            "grid_area": null,
            "grid_template_columns": null,
            "flex": null,
            "_model_name": "LayoutModel",
            "justify_items": null,
            "grid_row": null,
            "max_height": null,
            "align_content": null,
            "visibility": null,
            "align_self": null,
            "height": null,
            "min_height": null,
            "padding": null,
            "grid_auto_rows": null,
            "grid_gap": null,
            "max_width": null,
            "order": null,
            "_view_module_version": "1.2.0",
            "grid_template_areas": null,
            "object_position": null,
            "object_fit": null,
            "grid_auto_columns": null,
            "margin": null,
            "display": null,
            "left": null
          },
          "model_module_version": "1.2.0"
        },
        "b218333b7668471b841f80cd73070f8f": {
          "model_module": "@jupyter-widgets/controls",
          "model_name": "DescriptionStyleModel",
          "state": {
            "_view_name": "StyleView",
            "_model_name": "DescriptionStyleModel",
            "description_width": "",
            "_view_module": "@jupyter-widgets/base",
            "_model_module_version": "1.5.0",
            "_view_count": null,
            "_view_module_version": "1.2.0",
            "_model_module": "@jupyter-widgets/controls"
          },
          "model_module_version": "1.5.0"
        },
        "18f4ae03cf72409498eb3ab5297b47e3": {
          "model_module": "@jupyter-widgets/base",
          "model_name": "LayoutModel",
          "state": {
            "_view_name": "LayoutView",
            "grid_template_rows": null,
            "right": null,
            "justify_content": null,
            "_view_module": "@jupyter-widgets/base",
            "overflow": null,
            "_model_module_version": "1.2.0",
            "_view_count": null,
            "flex_flow": null,
            "width": null,
            "min_width": null,
            "border": null,
            "align_items": null,
            "bottom": null,
            "_model_module": "@jupyter-widgets/base",
            "top": null,
            "grid_column": null,
            "overflow_y": null,
            "overflow_x": null,
            "grid_auto_flow": null,
            "grid_area": null,
            "grid_template_columns": null,
            "flex": null,
            "_model_name": "LayoutModel",
            "justify_items": null,
            "grid_row": null,
            "max_height": null,
            "align_content": null,
            "visibility": null,
            "align_self": null,
            "height": null,
            "min_height": null,
            "padding": null,
            "grid_auto_rows": null,
            "grid_gap": null,
            "max_width": null,
            "order": null,
            "_view_module_version": "1.2.0",
            "grid_template_areas": null,
            "object_position": null,
            "object_fit": null,
            "grid_auto_columns": null,
            "margin": null,
            "display": null,
            "left": null
          },
          "model_module_version": "1.2.0"
        },
        "a12cd5ea07434a48a1ef025c0b8f22b0": {
          "model_module": "@jupyter-widgets/controls",
          "model_name": "HBoxModel",
          "state": {
            "_view_name": "HBoxView",
            "_dom_classes": [],
            "_model_name": "HBoxModel",
            "_view_module": "@jupyter-widgets/controls",
            "_model_module_version": "1.5.0",
            "_view_count": null,
            "_view_module_version": "1.5.0",
            "box_style": "",
            "layout": "IPY_MODEL_45647295c7ff44f98c2a1c6200d2faba",
            "_model_module": "@jupyter-widgets/controls",
            "children": [
              "IPY_MODEL_9c3b5b986f8e4c6886c1e1fca6c5f20f",
              "IPY_MODEL_e15b2bba0cc84417bdeb22933db87f46"
            ]
          },
          "model_module_version": "1.5.0"
        },
        "45647295c7ff44f98c2a1c6200d2faba": {
          "model_module": "@jupyter-widgets/base",
          "model_name": "LayoutModel",
          "state": {
            "_view_name": "LayoutView",
            "grid_template_rows": null,
            "right": null,
            "justify_content": null,
            "_view_module": "@jupyter-widgets/base",
            "overflow": null,
            "_model_module_version": "1.2.0",
            "_view_count": null,
            "flex_flow": null,
            "width": null,
            "min_width": null,
            "border": null,
            "align_items": null,
            "bottom": null,
            "_model_module": "@jupyter-widgets/base",
            "top": null,
            "grid_column": null,
            "overflow_y": null,
            "overflow_x": null,
            "grid_auto_flow": null,
            "grid_area": null,
            "grid_template_columns": null,
            "flex": null,
            "_model_name": "LayoutModel",
            "justify_items": null,
            "grid_row": null,
            "max_height": null,
            "align_content": null,
            "visibility": null,
            "align_self": null,
            "height": null,
            "min_height": null,
            "padding": null,
            "grid_auto_rows": null,
            "grid_gap": null,
            "max_width": null,
            "order": null,
            "_view_module_version": "1.2.0",
            "grid_template_areas": null,
            "object_position": null,
            "object_fit": null,
            "grid_auto_columns": null,
            "margin": null,
            "display": null,
            "left": null
          },
          "model_module_version": "1.2.0"
        },
        "9c3b5b986f8e4c6886c1e1fca6c5f20f": {
          "model_module": "@jupyter-widgets/controls",
          "model_name": "FloatProgressModel",
          "state": {
            "_view_name": "ProgressView",
            "style": "IPY_MODEL_03bdef9c68744dfa835f1003f518616a",
            "_dom_classes": [],
            "description": "  0%",
            "_model_name": "FloatProgressModel",
            "bar_style": "danger",
            "max": 5427,
            "_view_module": "@jupyter-widgets/controls",
            "_model_module_version": "1.5.0",
            "value": 0,
            "_view_count": null,
            "_view_module_version": "1.5.0",
            "orientation": "horizontal",
            "min": 0,
            "description_tooltip": null,
            "_model_module": "@jupyter-widgets/controls",
            "layout": "IPY_MODEL_14b35abb1b5646329264d0023054dc71"
          },
          "model_module_version": "1.5.0"
        },
        "e15b2bba0cc84417bdeb22933db87f46": {
          "model_module": "@jupyter-widgets/controls",
          "model_name": "HTMLModel",
          "state": {
            "_view_name": "HTMLView",
            "style": "IPY_MODEL_c1e0370dfee94e39b76c3f83eb59fce1",
            "_dom_classes": [],
            "description": "",
            "_model_name": "HTMLModel",
            "placeholder": "​",
            "_view_module": "@jupyter-widgets/controls",
            "_model_module_version": "1.5.0",
            "value": " 0/5427 [00:00&lt;?, ? examples/s]",
            "_view_count": null,
            "_view_module_version": "1.5.0",
            "description_tooltip": null,
            "_model_module": "@jupyter-widgets/controls",
            "layout": "IPY_MODEL_60cfc1bf5dde4c48afea6d237bb9c2a9"
          },
          "model_module_version": "1.5.0"
        },
        "03bdef9c68744dfa835f1003f518616a": {
          "model_module": "@jupyter-widgets/controls",
          "model_name": "ProgressStyleModel",
          "state": {
            "_view_name": "StyleView",
            "_model_name": "ProgressStyleModel",
            "description_width": "initial",
            "_view_module": "@jupyter-widgets/base",
            "_model_module_version": "1.5.0",
            "_view_count": null,
            "_view_module_version": "1.2.0",
            "bar_color": null,
            "_model_module": "@jupyter-widgets/controls"
          },
          "model_module_version": "1.5.0"
        },
        "14b35abb1b5646329264d0023054dc71": {
          "model_module": "@jupyter-widgets/base",
          "model_name": "LayoutModel",
          "state": {
            "_view_name": "LayoutView",
            "grid_template_rows": null,
            "right": null,
            "justify_content": null,
            "_view_module": "@jupyter-widgets/base",
            "overflow": null,
            "_model_module_version": "1.2.0",
            "_view_count": null,
            "flex_flow": null,
            "width": null,
            "min_width": null,
            "border": null,
            "align_items": null,
            "bottom": null,
            "_model_module": "@jupyter-widgets/base",
            "top": null,
            "grid_column": null,
            "overflow_y": null,
            "overflow_x": null,
            "grid_auto_flow": null,
            "grid_area": null,
            "grid_template_columns": null,
            "flex": null,
            "_model_name": "LayoutModel",
            "justify_items": null,
            "grid_row": null,
            "max_height": null,
            "align_content": null,
            "visibility": null,
            "align_self": null,
            "height": null,
            "min_height": null,
            "padding": null,
            "grid_auto_rows": null,
            "grid_gap": null,
            "max_width": null,
            "order": null,
            "_view_module_version": "1.2.0",
            "grid_template_areas": null,
            "object_position": null,
            "object_fit": null,
            "grid_auto_columns": null,
            "margin": null,
            "display": null,
            "left": null
          },
          "model_module_version": "1.2.0"
        },
        "c1e0370dfee94e39b76c3f83eb59fce1": {
          "model_module": "@jupyter-widgets/controls",
          "model_name": "DescriptionStyleModel",
          "state": {
            "_view_name": "StyleView",
            "_model_name": "DescriptionStyleModel",
            "description_width": "",
            "_view_module": "@jupyter-widgets/base",
            "_model_module_version": "1.5.0",
            "_view_count": null,
            "_view_module_version": "1.2.0",
            "_model_module": "@jupyter-widgets/controls"
          },
          "model_module_version": "1.5.0"
        },
        "60cfc1bf5dde4c48afea6d237bb9c2a9": {
          "model_module": "@jupyter-widgets/base",
          "model_name": "LayoutModel",
          "state": {
            "_view_name": "LayoutView",
            "grid_template_rows": null,
            "right": null,
            "justify_content": null,
            "_view_module": "@jupyter-widgets/base",
            "overflow": null,
            "_model_module_version": "1.2.0",
            "_view_count": null,
            "flex_flow": null,
            "width": null,
            "min_width": null,
            "border": null,
            "align_items": null,
            "bottom": null,
            "_model_module": "@jupyter-widgets/base",
            "top": null,
            "grid_column": null,
            "overflow_y": null,
            "overflow_x": null,
            "grid_auto_flow": null,
            "grid_area": null,
            "grid_template_columns": null,
            "flex": null,
            "_model_name": "LayoutModel",
            "justify_items": null,
            "grid_row": null,
            "max_height": null,
            "align_content": null,
            "visibility": null,
            "align_self": null,
            "height": null,
            "min_height": null,
            "padding": null,
            "grid_auto_rows": null,
            "grid_gap": null,
            "max_width": null,
            "order": null,
            "_view_module_version": "1.2.0",
            "grid_template_areas": null,
            "object_position": null,
            "object_fit": null,
            "grid_auto_columns": null,
            "margin": null,
            "display": null,
            "left": null
          },
          "model_module_version": "1.2.0"
        }
      }
    }
  },
  "cells": [
    {
      "cell_type": "markdown",
      "metadata": {
        "id": "view-in-github",
        "colab_type": "text"
      },
      "source": [
        "<a href=\"https://colab.research.google.com/github/lattehauma/-/blob/main/goemotion.ipynb\" target=\"_parent\"><img src=\"https://colab.research.google.com/assets/colab-badge.svg\" alt=\"Open In Colab\"/></a>"
      ]
    },
    {
      "cell_type": "code",
      "metadata": {
        "id": "j0fcgCTTNc01"
      },
      "source": [
        "import tensorflow as tf\n",
        "import tensorflow_datasets as tfds\n",
        "import numpy as np\n",
        "import pandas as pd"
      ],
      "execution_count": null,
      "outputs": []
    },
    {
      "cell_type": "code",
      "metadata": {
        "id": "N4d9ce4VKOfn",
        "colab": {
          "base_uri": "https://localhost:8080/",
          "height": 350,
          "referenced_widgets": [
            "6f397fa4b7a9460b87350cd978025509",
            "cf68c89e4c25483fbc159bd0a18b6e5b",
            "23a887f28b3140dbb2d07cb8b58cec61",
            "5b7799481373400a81c3282ab019a4ac",
            "f276c12193aa4a6ca0c9c45690799f04",
            "c07ff971a4d04cadb5a3e74e73b625a3",
            "7c25079a91ca40f085f46422f940cfb5",
            "bcfff34f39104b749fb336385f6fcb53",
            "51f57b23a3364356bfdefd7fb4e30be7",
            "13ffaddd835842b6a78dca3f0c45f8de",
            "99bd425580d54fbebd26335635593575",
            "35ac000ce38a4effbdc7f2d85648bada",
            "949b25ce32974839a91b4d4aff60f9c6",
            "85ade55f4ab64383ad08e34d6c23c59a",
            "ea21a1bc0ec341ec96421e982ccdb9cb",
            "b1cbaebea2f04028847e370b3e2113b6",
            "b833957cd9ad4813a3abe2443fe9154e",
            "2417940e608f4215ab49875dd4401b68",
            "e47aa06eb4734f74825cbd6cf3d8a8b1",
            "5a1ed3228694416aa75dda70e2102ab0",
            "6c45a8a8115b47f4ae76aa38cdec9eb0",
            "c7fddb23e4ea40b7a105a480b6c85526",
            "18e7ff065f5b4006afd225b331a22fc6",
            "0cb652b492784e1eb7106fee7af81732",
            "395fad65bf76422c999cf2aa2f741232",
            "407b71151c9a4ef4ad27cdadefd536ee",
            "0346c40cb0c8415f90c89cd607fb4ce0",
            "45393b6a1f8643e8afa262fd3afec005",
            "675dd6599be4455c9aa31eed42320a31",
            "d7ac40f971f249248a70161d4657ef12",
            "debac88ff609438c8cb4f475a7df1ebb",
            "e460c12b820f468b984d874de0aaa034",
            "24522b6bb87b43fe939ca0062b3e8bfb",
            "4ffd96dc48d7453ea99105b1f67d3c0c",
            "d19e3703914d45d4a2448647bffd6e5c",
            "7c9c8f2685a243a88d82029733b9d8da",
            "a0d67d5111794b78b64e46f65a3e4826",
            "b75f34788625469ea6e797806b5d9be2",
            "d983819ad5dd4bdbb51d967581e387c8",
            "ce45ea814fd94096975bf412cee1d74b",
            "15463ae82b5f4ec9a5d6a05deed25045",
            "0a8c2d2423a0436a8d273c322805ff2a",
            "dcf017e2aa454417bf4a9aa7c0d9035c",
            "3070ffbad03444069084a8f7f3c69b2d",
            "4da3e62b0f3846f8ae81b72d567fe617",
            "b5d21d90e3344b5f817f1358c1083c56",
            "14469b5696b44636b4d356777c9cd790",
            "0d8b587e992b4164987f04a4391c159d",
            "0b67823d2e7d43f596ca81e0efb267e3",
            "80208e3a94b14e5fb95eb7a1a6224c74",
            "215937caca5f43e6b10943caa37b61ef",
            "a1e68d02d9dc4616a200b2e2882e9aa0",
            "d5a02c314c3b4e5e9eae960e95927c9f",
            "1a8cea035e0645ee9f5f114db38a8dfe",
            "d12ab3ca504f4b03bfd46a01b9b35b83",
            "35ed866918514aea9703151259a3b268",
            "e708b286e30749528c7f0bff625ee9be",
            "ab3a811b58554bed8a3574cef54b72eb",
            "698265bd8af7424190067ee1a8afefc2",
            "1b19a3566bef488f8cd12942658f1f49",
            "5716e3c8b2594a43a01ea042a2c73ba5",
            "c752ad8085094393a831148ae9cf1972",
            "0c71fb4ac9a64229b798f447997b167a",
            "f88feb8058f34e84bca656cb5b5755b6"
          ]
        },
        "outputId": "c4414eff-e48e-4b51-9023-6ca79a8992fb"
      },
      "source": [
        "ds, info=tfds.load('goemotions',with_info=True)"
      ],
      "execution_count": null,
      "outputs": [
        {
          "output_type": "stream",
          "text": [
            "\u001b[1mDownloading and preparing dataset goemotions/0.1.0 (download: 4.19 MiB, generated: 32.25 MiB, total: 36.44 MiB) to /root/tensorflow_datasets/goemotions/0.1.0...\u001b[0m\n"
          ],
          "name": "stdout"
        },
        {
          "output_type": "display_data",
          "data": {
            "application/vnd.jupyter.widget-view+json": {
              "model_id": "6f397fa4b7a9460b87350cd978025509",
              "version_minor": 0,
              "version_major": 2
            },
            "text/plain": [
              "HBox(children=(FloatProgress(value=1.0, bar_style='info', description='Dl Completed...', max=1.0, style=Progre…"
            ]
          },
          "metadata": {
            "tags": []
          }
        },
        {
          "output_type": "display_data",
          "data": {
            "application/vnd.jupyter.widget-view+json": {
              "model_id": "51f57b23a3364356bfdefd7fb4e30be7",
              "version_minor": 0,
              "version_major": 2
            },
            "text/plain": [
              "HBox(children=(FloatProgress(value=1.0, bar_style='info', description='Dl Size...', max=1.0, style=ProgressSty…"
            ]
          },
          "metadata": {
            "tags": []
          }
        },
        {
          "output_type": "stream",
          "text": [
            "\n",
            "\n",
            "\n",
            "\n"
          ],
          "name": "stdout"
        },
        {
          "output_type": "display_data",
          "data": {
            "application/vnd.jupyter.widget-view+json": {
              "model_id": "b833957cd9ad4813a3abe2443fe9154e",
              "version_minor": 0,
              "version_major": 2
            },
            "text/plain": [
              "HBox(children=(FloatProgress(value=1.0, bar_style='info', max=1.0), HTML(value='')))"
            ]
          },
          "metadata": {
            "tags": []
          }
        },
        {
          "output_type": "stream",
          "text": [
            "\rShuffling and writing examples to /root/tensorflow_datasets/goemotions/0.1.0.incompleteLGYOJ1/goemotions-train.tfrecord\n"
          ],
          "name": "stdout"
        },
        {
          "output_type": "display_data",
          "data": {
            "application/vnd.jupyter.widget-view+json": {
              "model_id": "395fad65bf76422c999cf2aa2f741232",
              "version_minor": 0,
              "version_major": 2
            },
            "text/plain": [
              "HBox(children=(FloatProgress(value=0.0, max=43410.0), HTML(value='')))"
            ]
          },
          "metadata": {
            "tags": []
          }
        },
        {
          "output_type": "stream",
          "text": [
            "\r"
          ],
          "name": "stdout"
        },
        {
          "output_type": "display_data",
          "data": {
            "application/vnd.jupyter.widget-view+json": {
              "model_id": "24522b6bb87b43fe939ca0062b3e8bfb",
              "version_minor": 0,
              "version_major": 2
            },
            "text/plain": [
              "HBox(children=(FloatProgress(value=1.0, bar_style='info', max=1.0), HTML(value='')))"
            ]
          },
          "metadata": {
            "tags": []
          }
        },
        {
          "output_type": "stream",
          "text": [
            "\rShuffling and writing examples to /root/tensorflow_datasets/goemotions/0.1.0.incompleteLGYOJ1/goemotions-validation.tfrecord\n"
          ],
          "name": "stdout"
        },
        {
          "output_type": "display_data",
          "data": {
            "application/vnd.jupyter.widget-view+json": {
              "model_id": "15463ae82b5f4ec9a5d6a05deed25045",
              "version_minor": 0,
              "version_major": 2
            },
            "text/plain": [
              "HBox(children=(FloatProgress(value=0.0, max=5426.0), HTML(value='')))"
            ]
          },
          "metadata": {
            "tags": []
          }
        },
        {
          "output_type": "display_data",
          "data": {
            "application/vnd.jupyter.widget-view+json": {
              "model_id": "0b67823d2e7d43f596ca81e0efb267e3",
              "version_minor": 0,
              "version_major": 2
            },
            "text/plain": [
              "HBox(children=(FloatProgress(value=1.0, bar_style='info', max=1.0), HTML(value='')))"
            ]
          },
          "metadata": {
            "tags": []
          }
        },
        {
          "output_type": "stream",
          "text": [
            "\rShuffling and writing examples to /root/tensorflow_datasets/goemotions/0.1.0.incompleteLGYOJ1/goemotions-test.tfrecord\n"
          ],
          "name": "stdout"
        },
        {
          "output_type": "display_data",
          "data": {
            "application/vnd.jupyter.widget-view+json": {
              "model_id": "e708b286e30749528c7f0bff625ee9be",
              "version_minor": 0,
              "version_major": 2
            },
            "text/plain": [
              "HBox(children=(FloatProgress(value=0.0, max=5427.0), HTML(value='')))"
            ]
          },
          "metadata": {
            "tags": []
          }
        },
        {
          "output_type": "stream",
          "text": [
            "\u001b[1mDataset goemotions downloaded and prepared to /root/tensorflow_datasets/goemotions/0.1.0. Subsequent calls will reuse this data.\u001b[0m\n",
            "\r"
          ],
          "name": "stdout"
        }
      ]
    },
    {
      "cell_type": "code",
      "metadata": {
        "id": "_R4a9DaJFpIr",
        "colab": {
          "base_uri": "https://localhost:8080/",
          "height": 350,
          "referenced_widgets": [
            "ab3edf31f1e6414cb154a72953bdd079",
            "22760798ec3d472aa1a6a92fa7c4e9da",
            "7af424d51f804eaea353b3526e0dd635",
            "59e13643e62e4b7f96b71822b05e8e79",
            "369d60a450b04259bf3879850f2a871e",
            "07b5bd9c1b024a9281a2cc122522bbda",
            "ab4e3dca30524955a0b013aa40722ebc",
            "36661d1783624ed1af32216828cfc25d",
            "1e2a0ce8cadf4dea92b3e1bf926beae4",
            "4875ee15fe7f46ea8ae32b3045376c52",
            "ad20b9162f60434bbfb4290c64deb678",
            "a2f4ac60b77244019e7df33b3a1baf0f",
            "2ff66f55fd934ed3a5e58e9570a87410",
            "301a5a8afb4d459c9913cac680359ac7",
            "119d4aa76ee343d5a4b305cf14cfbdb0",
            "df22f5561e874ad4b984422eeab53e54",
            "7579564c6da4481a959be926e485aa33",
            "6afbad8688054f1d813120fa86e35708",
            "f18a3a8bb1a342b882aafa92744bc19d",
            "a478f6319f054acc86b2b641fbac82ca",
            "d1933cc276584e16a86d3edf61d56f9e",
            "6d67eaef495b4b06830584525d2bc956",
            "8165e052076a425b9c574646aaeeef17",
            "7fc9ee583e13477d87a2ac50f5aedb6f",
            "7e34efaefa4f40b5890714fa3b71225e",
            "ccd48fad012a459ba57004c8c64f9c1d",
            "ecd151403b1b471eb875c987a671964e",
            "38e0652c74814892bf766f7b260cec24",
            "41ee792ab71441d28b51db25302ddeb9",
            "6451b187af564126b961a9c0671f5b80",
            "299726d10fcc45ed9148f666460723f1",
            "0ab0d83a12994c099e631339540a6631",
            "035720a756c14c449d7dbeaffab05114",
            "356f333b8e994e148923e426cf373c33",
            "e5dcb75bec13455e91e1ea37ab1885ae",
            "23386766907848a69ee04b03c0bd0743",
            "5023c1045da8429b8b393a18e2b22d35",
            "ac71c6607f104aaea87e8154110198e0",
            "bb1e9bbfbe714ebfa864630717b6f116",
            "439a1e97f60243f481df636801f34c43",
            "77195fe6504e46cdbe87afd518940213",
            "9eb0d0e2dd0b465297c87db0383a3d3e",
            "935ba09760824f46b8ce94ba05e0366f",
            "37f2340f37e647419df7a723df13c6c7",
            "c16c6955cfb3441da5b77f3c9e194dd3",
            "f843371dbd414ccd9f7d49714e24f765",
            "349e29dcfc2747ac9b2e2792748d2ba6",
            "4b7fb62946054ff6af9a9586ff1acb9a",
            "f9b2f945218d4f849bb617a1a1bf2a57",
            "6872d8679c1d46ddb81d738e5f40d6cf",
            "5015ba204dfe44b0985bd1f23abb75d2",
            "98061887bcf9459d8981aa643da45267",
            "1d7a8c951e8f447f832e2d4cebb84e9a",
            "27c5aa5527614cd58eeab64de042d04d",
            "b218333b7668471b841f80cd73070f8f",
            "18f4ae03cf72409498eb3ab5297b47e3",
            "a12cd5ea07434a48a1ef025c0b8f22b0",
            "45647295c7ff44f98c2a1c6200d2faba",
            "9c3b5b986f8e4c6886c1e1fca6c5f20f",
            "e15b2bba0cc84417bdeb22933db87f46",
            "03bdef9c68744dfa835f1003f518616a",
            "14b35abb1b5646329264d0023054dc71",
            "c1e0370dfee94e39b76c3f83eb59fce1",
            "60cfc1bf5dde4c48afea6d237bb9c2a9"
          ]
        },
        "outputId": "006540ec-964b-4a91-a641-46a8b6985679"
      },
      "source": [
        "train=tfds.load(\"goemotions\",split='train')\n",
        "validation=tfds.load(\"goemotions\",split='validation')\n",
        "test=tfds.load(\"goemotions\",split='test')"
      ],
      "execution_count": null,
      "outputs": [
        {
          "output_type": "stream",
          "text": [
            "\u001b[1mDownloading and preparing dataset goemotions/0.1.0 (download: 4.19 MiB, generated: 32.25 MiB, total: 36.44 MiB) to /root/tensorflow_datasets/goemotions/0.1.0...\u001b[0m\n"
          ],
          "name": "stdout"
        },
        {
          "output_type": "display_data",
          "data": {
            "application/vnd.jupyter.widget-view+json": {
              "model_id": "ab3edf31f1e6414cb154a72953bdd079",
              "version_minor": 0,
              "version_major": 2
            },
            "text/plain": [
              "HBox(children=(FloatProgress(value=1.0, bar_style='info', description='Dl Completed...', max=1.0, style=Progre…"
            ]
          },
          "metadata": {
            "tags": []
          }
        },
        {
          "output_type": "display_data",
          "data": {
            "application/vnd.jupyter.widget-view+json": {
              "model_id": "1e2a0ce8cadf4dea92b3e1bf926beae4",
              "version_minor": 0,
              "version_major": 2
            },
            "text/plain": [
              "HBox(children=(FloatProgress(value=1.0, bar_style='info', description='Dl Size...', max=1.0, style=ProgressSty…"
            ]
          },
          "metadata": {
            "tags": []
          }
        },
        {
          "output_type": "stream",
          "text": [
            "\n",
            "\n",
            "\n",
            "\n"
          ],
          "name": "stdout"
        },
        {
          "output_type": "display_data",
          "data": {
            "application/vnd.jupyter.widget-view+json": {
              "model_id": "7579564c6da4481a959be926e485aa33",
              "version_minor": 0,
              "version_major": 2
            },
            "text/plain": [
              "HBox(children=(FloatProgress(value=1.0, bar_style='info', max=1.0), HTML(value='')))"
            ]
          },
          "metadata": {
            "tags": []
          }
        },
        {
          "output_type": "stream",
          "text": [
            "\rShuffling and writing examples to /root/tensorflow_datasets/goemotions/0.1.0.incompleteWG2MJF/goemotions-train.tfrecord\n"
          ],
          "name": "stdout"
        },
        {
          "output_type": "display_data",
          "data": {
            "application/vnd.jupyter.widget-view+json": {
              "model_id": "7e34efaefa4f40b5890714fa3b71225e",
              "version_minor": 0,
              "version_major": 2
            },
            "text/plain": [
              "HBox(children=(FloatProgress(value=0.0, max=43410.0), HTML(value='')))"
            ]
          },
          "metadata": {
            "tags": []
          }
        },
        {
          "output_type": "stream",
          "text": [
            "\r"
          ],
          "name": "stdout"
        },
        {
          "output_type": "display_data",
          "data": {
            "application/vnd.jupyter.widget-view+json": {
              "model_id": "035720a756c14c449d7dbeaffab05114",
              "version_minor": 0,
              "version_major": 2
            },
            "text/plain": [
              "HBox(children=(FloatProgress(value=1.0, bar_style='info', max=1.0), HTML(value='')))"
            ]
          },
          "metadata": {
            "tags": []
          }
        },
        {
          "output_type": "stream",
          "text": [
            "\rShuffling and writing examples to /root/tensorflow_datasets/goemotions/0.1.0.incompleteWG2MJF/goemotions-validation.tfrecord\n"
          ],
          "name": "stdout"
        },
        {
          "output_type": "display_data",
          "data": {
            "application/vnd.jupyter.widget-view+json": {
              "model_id": "77195fe6504e46cdbe87afd518940213",
              "version_minor": 0,
              "version_major": 2
            },
            "text/plain": [
              "HBox(children=(FloatProgress(value=0.0, max=5426.0), HTML(value='')))"
            ]
          },
          "metadata": {
            "tags": []
          }
        },
        {
          "output_type": "stream",
          "text": [
            "\r"
          ],
          "name": "stdout"
        },
        {
          "output_type": "display_data",
          "data": {
            "application/vnd.jupyter.widget-view+json": {
              "model_id": "f9b2f945218d4f849bb617a1a1bf2a57",
              "version_minor": 0,
              "version_major": 2
            },
            "text/plain": [
              "HBox(children=(FloatProgress(value=1.0, bar_style='info', max=1.0), HTML(value='')))"
            ]
          },
          "metadata": {
            "tags": []
          }
        },
        {
          "output_type": "stream",
          "text": [
            "Shuffling and writing examples to /root/tensorflow_datasets/goemotions/0.1.0.incompleteWG2MJF/goemotions-test.tfrecord\n"
          ],
          "name": "stdout"
        },
        {
          "output_type": "display_data",
          "data": {
            "application/vnd.jupyter.widget-view+json": {
              "model_id": "a12cd5ea07434a48a1ef025c0b8f22b0",
              "version_minor": 0,
              "version_major": 2
            },
            "text/plain": [
              "HBox(children=(FloatProgress(value=0.0, max=5427.0), HTML(value='')))"
            ]
          },
          "metadata": {
            "tags": []
          }
        },
        {
          "output_type": "stream",
          "text": [
            "\u001b[1mDataset goemotions downloaded and prepared to /root/tensorflow_datasets/goemotions/0.1.0. Subsequent calls will reuse this data.\u001b[0m\n",
            "\r"
          ],
          "name": "stdout"
        }
      ]
    },
    {
      "cell_type": "code",
      "metadata": {
        "id": "eUrBthbKNFMY"
      },
      "source": [
        "train_ds=tfds.as_dataframe(train)"
      ],
      "execution_count": null,
      "outputs": []
    },
    {
      "cell_type": "code",
      "metadata": {
        "id": "m4crxryqvfII"
      },
      "source": [
        "validation_ds=tfds.as_dataframe(validation)\n",
        "test_ds=tfds.as_dataframe(test)"
      ],
      "execution_count": null,
      "outputs": []
    },
    {
      "cell_type": "code",
      "metadata": {
        "colab": {
          "base_uri": "https://localhost:8080/",
          "height": 360
        },
        "id": "-ag9w3os5Mf-",
        "outputId": "8512ed75-4f84-460a-8768-30bb15b56181"
      },
      "source": [
        "test_ds.head(5)"
      ],
      "execution_count": null,
      "outputs": [
        {
          "output_type": "execute_result",
          "data": {
            "text/html": [
              "<div>\n",
              "<style scoped>\n",
              "    .dataframe tbody tr th:only-of-type {\n",
              "        vertical-align: middle;\n",
              "    }\n",
              "\n",
              "    .dataframe tbody tr th {\n",
              "        vertical-align: top;\n",
              "    }\n",
              "\n",
              "    .dataframe thead th {\n",
              "        text-align: right;\n",
              "    }\n",
              "</style>\n",
              "<table border=\"1\" class=\"dataframe\">\n",
              "  <thead>\n",
              "    <tr style=\"text-align: right;\">\n",
              "      <th></th>\n",
              "      <th>admiration</th>\n",
              "      <th>amusement</th>\n",
              "      <th>anger</th>\n",
              "      <th>annoyance</th>\n",
              "      <th>approval</th>\n",
              "      <th>caring</th>\n",
              "      <th>comment_text</th>\n",
              "      <th>confusion</th>\n",
              "      <th>curiosity</th>\n",
              "      <th>desire</th>\n",
              "      <th>disappointment</th>\n",
              "      <th>disapproval</th>\n",
              "      <th>disgust</th>\n",
              "      <th>embarrassment</th>\n",
              "      <th>excitement</th>\n",
              "      <th>fear</th>\n",
              "      <th>gratitude</th>\n",
              "      <th>grief</th>\n",
              "      <th>joy</th>\n",
              "      <th>love</th>\n",
              "      <th>nervousness</th>\n",
              "      <th>neutral</th>\n",
              "      <th>optimism</th>\n",
              "      <th>pride</th>\n",
              "      <th>realization</th>\n",
              "      <th>relief</th>\n",
              "      <th>remorse</th>\n",
              "      <th>sadness</th>\n",
              "      <th>surprise</th>\n",
              "    </tr>\n",
              "  </thead>\n",
              "  <tbody>\n",
              "    <tr>\n",
              "      <th>0</th>\n",
              "      <td>False</td>\n",
              "      <td>False</td>\n",
              "      <td>False</td>\n",
              "      <td>False</td>\n",
              "      <td>True</td>\n",
              "      <td>False</td>\n",
              "      <td>b\"You're right, thanks for pointing that out, ...</td>\n",
              "      <td>False</td>\n",
              "      <td>False</td>\n",
              "      <td>False</td>\n",
              "      <td>False</td>\n",
              "      <td>False</td>\n",
              "      <td>False</td>\n",
              "      <td>False</td>\n",
              "      <td>False</td>\n",
              "      <td>False</td>\n",
              "      <td>True</td>\n",
              "      <td>False</td>\n",
              "      <td>False</td>\n",
              "      <td>False</td>\n",
              "      <td>False</td>\n",
              "      <td>False</td>\n",
              "      <td>False</td>\n",
              "      <td>False</td>\n",
              "      <td>False</td>\n",
              "      <td>False</td>\n",
              "      <td>False</td>\n",
              "      <td>False</td>\n",
              "      <td>False</td>\n",
              "    </tr>\n",
              "    <tr>\n",
              "      <th>1</th>\n",
              "      <td>False</td>\n",
              "      <td>False</td>\n",
              "      <td>False</td>\n",
              "      <td>False</td>\n",
              "      <td>False</td>\n",
              "      <td>False</td>\n",
              "      <td>b'Molon labe!!!'</td>\n",
              "      <td>False</td>\n",
              "      <td>False</td>\n",
              "      <td>False</td>\n",
              "      <td>False</td>\n",
              "      <td>False</td>\n",
              "      <td>False</td>\n",
              "      <td>False</td>\n",
              "      <td>False</td>\n",
              "      <td>False</td>\n",
              "      <td>False</td>\n",
              "      <td>False</td>\n",
              "      <td>False</td>\n",
              "      <td>False</td>\n",
              "      <td>False</td>\n",
              "      <td>True</td>\n",
              "      <td>False</td>\n",
              "      <td>False</td>\n",
              "      <td>False</td>\n",
              "      <td>False</td>\n",
              "      <td>False</td>\n",
              "      <td>False</td>\n",
              "      <td>False</td>\n",
              "    </tr>\n",
              "    <tr>\n",
              "      <th>2</th>\n",
              "      <td>False</td>\n",
              "      <td>False</td>\n",
              "      <td>False</td>\n",
              "      <td>False</td>\n",
              "      <td>False</td>\n",
              "      <td>False</td>\n",
              "      <td>b'So this is what edging feels like'</td>\n",
              "      <td>False</td>\n",
              "      <td>False</td>\n",
              "      <td>False</td>\n",
              "      <td>False</td>\n",
              "      <td>False</td>\n",
              "      <td>False</td>\n",
              "      <td>False</td>\n",
              "      <td>False</td>\n",
              "      <td>False</td>\n",
              "      <td>False</td>\n",
              "      <td>False</td>\n",
              "      <td>False</td>\n",
              "      <td>False</td>\n",
              "      <td>False</td>\n",
              "      <td>True</td>\n",
              "      <td>False</td>\n",
              "      <td>False</td>\n",
              "      <td>False</td>\n",
              "      <td>False</td>\n",
              "      <td>False</td>\n",
              "      <td>False</td>\n",
              "      <td>False</td>\n",
              "    </tr>\n",
              "    <tr>\n",
              "      <th>3</th>\n",
              "      <td>False</td>\n",
              "      <td>False</td>\n",
              "      <td>False</td>\n",
              "      <td>False</td>\n",
              "      <td>False</td>\n",
              "      <td>False</td>\n",
              "      <td>b'Just speak with a Sheffield accent lmao'</td>\n",
              "      <td>False</td>\n",
              "      <td>False</td>\n",
              "      <td>False</td>\n",
              "      <td>False</td>\n",
              "      <td>False</td>\n",
              "      <td>False</td>\n",
              "      <td>False</td>\n",
              "      <td>False</td>\n",
              "      <td>False</td>\n",
              "      <td>False</td>\n",
              "      <td>False</td>\n",
              "      <td>False</td>\n",
              "      <td>False</td>\n",
              "      <td>False</td>\n",
              "      <td>True</td>\n",
              "      <td>False</td>\n",
              "      <td>False</td>\n",
              "      <td>False</td>\n",
              "      <td>False</td>\n",
              "      <td>False</td>\n",
              "      <td>False</td>\n",
              "      <td>False</td>\n",
              "    </tr>\n",
              "    <tr>\n",
              "      <th>4</th>\n",
              "      <td>False</td>\n",
              "      <td>False</td>\n",
              "      <td>False</td>\n",
              "      <td>False</td>\n",
              "      <td>False</td>\n",
              "      <td>False</td>\n",
              "      <td>b'My husband and I have been circling the drai...</td>\n",
              "      <td>False</td>\n",
              "      <td>False</td>\n",
              "      <td>False</td>\n",
              "      <td>False</td>\n",
              "      <td>False</td>\n",
              "      <td>False</td>\n",
              "      <td>False</td>\n",
              "      <td>False</td>\n",
              "      <td>False</td>\n",
              "      <td>False</td>\n",
              "      <td>False</td>\n",
              "      <td>False</td>\n",
              "      <td>False</td>\n",
              "      <td>False</td>\n",
              "      <td>False</td>\n",
              "      <td>False</td>\n",
              "      <td>False</td>\n",
              "      <td>False</td>\n",
              "      <td>False</td>\n",
              "      <td>False</td>\n",
              "      <td>True</td>\n",
              "      <td>False</td>\n",
              "    </tr>\n",
              "  </tbody>\n",
              "</table>\n",
              "</div>"
            ],
            "text/plain": [
              "   admiration  amusement  anger  annoyance  ...  relief  remorse sadness  surprise\n",
              "0       False      False  False      False  ...   False    False   False     False\n",
              "1       False      False  False      False  ...   False    False   False     False\n",
              "2       False      False  False      False  ...   False    False   False     False\n",
              "3       False      False  False      False  ...   False    False   False     False\n",
              "4       False      False  False      False  ...   False    False    True     False\n",
              "\n",
              "[5 rows x 29 columns]"
            ]
          },
          "metadata": {
            "tags": []
          },
          "execution_count": 31
        }
      ]
    },
    {
      "cell_type": "code",
      "metadata": {
        "id": "_AaLAZamRvym"
      },
      "source": [
        "y_train1=train_ds.drop('comment_text',axis=1)\n",
        "y_val1=validation_ds.drop('comment_text',axis=1)\n",
        "y_test1=test_ds.drop('comment_text',axis=1)"
      ],
      "execution_count": null,
      "outputs": []
    },
    {
      "cell_type": "code",
      "metadata": {
        "id": "kLt5KsoNTezS"
      },
      "source": [
        "for i in range(0,43410):\n",
        "  for j in range(0,28):\n",
        "    if y_train1.iloc[i,j]==False:\n",
        "      y_train1.iloc[i,j]=0\n",
        "    else:\n",
        "      y_train1.iloc[i,j]=1"
      ],
      "execution_count": null,
      "outputs": []
    },
    {
      "cell_type": "code",
      "metadata": {
        "id": "yyDAaGSIyMed"
      },
      "source": [
        "for i in range(0,5427):\n",
        "  for j in range(0,28):\n",
        "    if y_test1.iloc[i,j]==False:\n",
        "      y_test1.iloc[i,j]=0\n",
        "    else:\n",
        "      y_test1.iloc[i,j]=1"
      ],
      "execution_count": null,
      "outputs": []
    },
    {
      "cell_type": "code",
      "metadata": {
        "id": "fthM6T7AyT-6"
      },
      "source": [
        "for i in range(0,5426):\n",
        "  for j in range(0,28):\n",
        "    if y_val1.iloc[i,j]==False:\n",
        "      y_val1.iloc[i,j]=0\n",
        "    else:\n",
        "      y_val1.iloc[i,j]=1"
      ],
      "execution_count": null,
      "outputs": []
    },
    {
      "cell_type": "code",
      "metadata": {
        "colab": {
          "base_uri": "https://localhost:8080/"
        },
        "id": "nVKNdGk2V6-9",
        "outputId": "6e1ba823-f42e-44f5-9806-205d1101b651"
      },
      "source": [
        "y_train= y_train1.to_numpy()\n",
        "y_test= y_test1.to_numpy()\n",
        "y_val= y_val1.to_numpy()\n",
        "print(sum(y_train[0]))"
      ],
      "execution_count": null,
      "outputs": [
        {
          "output_type": "stream",
          "text": [
            "1\n"
          ],
          "name": "stdout"
        }
      ]
    },
    {
      "cell_type": "code",
      "metadata": {
        "id": "TizFi1HTsiAv"
      },
      "source": [
        "x=0\n",
        "for i in range(0,5426):\n",
        "  if sum(y_test[i])>=2:\n",
        "    x = x+1"
      ],
      "execution_count": null,
      "outputs": []
    },
    {
      "cell_type": "code",
      "metadata": {
        "colab": {
          "base_uri": "https://localhost:8080/"
        },
        "id": "Sk3wcdR0svyE",
        "outputId": "06a66a59-9dbd-43e3-f692-a76486907e02"
      },
      "source": [
        "x"
      ],
      "execution_count": null,
      "outputs": [
        {
          "output_type": "execute_result",
          "data": {
            "text/plain": [
              "837"
            ]
          },
          "metadata": {
            "tags": []
          },
          "execution_count": 45
        }
      ]
    },
    {
      "cell_type": "code",
      "metadata": {
        "colab": {
          "base_uri": "https://localhost:8080/"
        },
        "id": "nBiFhxPQbnV-",
        "outputId": "0c0c77b0-5470-4f15-9e9a-3a328e58c768"
      },
      "source": [
        "y_train"
      ],
      "execution_count": null,
      "outputs": [
        {
          "output_type": "execute_result",
          "data": {
            "text/plain": [
              "array([[0, 0, 0, ..., 0, 0, 0],\n",
              "       [1, 0, 0, ..., 0, 0, 0],\n",
              "       [0, 0, 0, ..., 0, 1, 0],\n",
              "       ...,\n",
              "       [0, 0, 0, ..., 0, 0, 0],\n",
              "       [0, 0, 0, ..., 0, 0, 0],\n",
              "       [0, 0, 0, ..., 0, 0, 0]], dtype=object)"
            ]
          },
          "metadata": {
            "tags": []
          },
          "execution_count": 12
        }
      ]
    },
    {
      "cell_type": "code",
      "metadata": {
        "id": "65lL2TvDb5Mj"
      },
      "source": [
        "x_train1=train_ds['comment_text']\n",
        "x_val1=validation_ds['comment_text']\n",
        "x_test1=test_ds['comment_text']"
      ],
      "execution_count": null,
      "outputs": []
    },
    {
      "cell_type": "code",
      "metadata": {
        "colab": {
          "base_uri": "https://localhost:8080/"
        },
        "id": "3bmjpn7adLmz",
        "outputId": "af9d0f4c-4758-4faa-c887-92d70b1f6c94"
      },
      "source": [
        "x_train=x_train1.tolist()\n",
        "x_test=x_test1.tolist()\n",
        "x_val=x_val1.tolist()\n",
        "x_train[1:10]"
      ],
      "execution_count": null,
      "outputs": [
        {
          "output_type": "execute_result",
          "data": {
            "text/plain": [
              "[b'This is actually awesome.',\n",
              " b\"People really spend more than $10 in an app game? I mean an actual video game I can understand but that's just...sad\",\n",
              " b'I grew up on the other side of Ama but live in Tulia now. I will have some El Burrito for you',\n",
              " b'What the problem? I mean, steak? Good. Doughnuts? Good!! I don\\xe2\\x80\\x99t see an issue. ',\n",
              " b'I second disagreeing that they are awesome.',\n",
              " b'fucking fuck fuck',\n",
              " b'Yes. Exactly. Anything non [NAME] belongs in the trash. Glad you agree.',\n",
              " b\"West Hartford, CT. Unfortunately it's not religious. Thank you for the response.\",\n",
              " b'Same thing happened to me last year ended horribly']"
            ]
          },
          "metadata": {
            "tags": []
          },
          "execution_count": 11
        }
      ]
    },
    {
      "cell_type": "code",
      "metadata": {
        "colab": {
          "base_uri": "https://localhost:8080/"
        },
        "id": "iS9PU__69TlW",
        "outputId": "8ae02168-c87b-4d2e-e83b-cc988083d84b"
      },
      "source": [
        "ay_train=[]\n",
        "ax_train=[]\n",
        "for i in range(0,len(y_train)):\n",
        "  if sum(y_train[i])==1:\n",
        "    ay_train.append(y_train[i])\n",
        "    ax_train.append(x_train[i])\n",
        "ay_test=[]\n",
        "ax_test=[]\n",
        "for i in range(0,len(y_test)):\n",
        "  if sum(y_test[i])==1:\n",
        "    ay_test.append(y_test[i])\n",
        "    ax_test.append(x_test[i])\n",
        "ay_val=[]\n",
        "ax_val=[]\n",
        "for i in range(0,len(y_val)):\n",
        "  if sum(y_val[i])==1:\n",
        "    ay_val.append(y_val[i])\n",
        "    ax_val.append(x_val[i])\n",
        "\n",
        "print(len(ay_train))\n",
        "print(len(ax_train))\n",
        "print(len(ay_test))\n",
        "print(len(ax_test))\n",
        "print(len(ay_val))\n",
        "print(len(ax_val))"
      ],
      "execution_count": null,
      "outputs": [
        {
          "output_type": "stream",
          "text": [
            "36308\n",
            "36308\n",
            "4590\n",
            "4590\n",
            "4548\n",
            "4548\n"
          ],
          "name": "stdout"
        }
      ]
    },
    {
      "cell_type": "code",
      "metadata": {
        "colab": {
          "base_uri": "https://localhost:8080/"
        },
        "id": "JxGl_hyj-Uga",
        "outputId": "ae9887ec-4d69-48bf-af86-597123d6cae0"
      },
      "source": [
        "len(ax_train)"
      ],
      "execution_count": null,
      "outputs": [
        {
          "output_type": "execute_result",
          "data": {
            "text/plain": [
              "36308"
            ]
          },
          "metadata": {
            "tags": []
          },
          "execution_count": 50
        }
      ]
    },
    {
      "cell_type": "code",
      "metadata": {
        "colab": {
          "base_uri": "https://localhost:8080/"
        },
        "id": "60B9JJl-dYqe",
        "outputId": "3f079e3d-1105-44b0-bb9b-1e061108d0d0"
      },
      "source": [
        "from tensorflow.keras.preprocessing.text import Tokenizer\n",
        "from tensorflow.keras.preprocessing import sequence\n",
        "tokenizer=Tokenizer(num_words=10000)\n",
        "tokenizer.fit_on_texts([x.decode('utf-8') for x in ax_train] )\n",
        "word_id=tokenizer.word_index\n",
        "print(word_id)\n",
        "seq1=tokenizer.texts_to_sequences([x.decode('utf-8') for x in ax_train])\n",
        "seq2=tokenizer.texts_to_sequences([x.decode('utf-8') for x in ax_test])\n",
        "seq3=tokenizer.texts_to_sequences([x.decode('utf-8') for x in ax_val])\n",
        "x_train_fin=sequence.pad_sequences(seq1, maxlen=50)\n",
        "x_test_fin=sequence.pad_sequences(seq2, maxlen=50)\n",
        "x_val_fin=sequence.pad_sequences(seq3, maxlen=50)"
      ],
      "execution_count": null,
      "outputs": [
        {
          "output_type": "stream",
          "text": [
            "{'the': 1, 'i': 2, 'to': 3, 'a': 4, 'you': 5, 'and': 6, 'is': 7, 'name': 8, 'that': 9, 'it': 10, 'of': 11, 'this': 12, 'in': 13, 'for': 14, 'was': 15, 'not': 16, 'my': 17, 'but': 18, 'be': 19, 'on': 20, 'just': 21, 'have': 22, 'so': 23, 'like': 24, 'are': 25, 'with': 26, 'they': 27, 'me': 28, 'your': 29, 'he': 30, 'what': 31, 'if': 32, 'as': 33, 'at': 34, 'no': 35, 'all': 36, 'about': 37, \"it's\": 38, 'do': 39, 'one': 40, 'get': 41, 'people': 42, \"i'm\": 43, 'we': 44, 'would': 45, 'love': 46, 'can': 47, 'how': 48, 'out': 49, 'good': 50, 'up': 51, 'from': 52, 'an': 53, 'or': 54, 'she': 55, \"don't\": 56, 'think': 57, 'know': 58, 'when': 59, 'really': 60, 'there': 61, 'too': 62, 'more': 63, 'her': 64, 'him': 65, 'his': 66, 'them': 67, 'now': 68, 'will': 69, 'time': 70, 'has': 71, 'some': 72, 'see': 73, 'thanks': 74, 'lol': 75, \"that's\": 76, 'because': 77, 'who': 78, 'still': 79, 'much': 80, 'even': 81, 'why': 82, 'had': 83, 'only': 84, 'their': 85, 'go': 86, 'well': 87, 'thank': 88, 'by': 89, 'got': 90, 'oh': 91, 'than': 92, 'been': 93, 'i’m': 94, 'right': 95, 'did': 96, 'here': 97, 'then': 98, 'way': 99, 'yeah': 100, 'being': 101, 'want': 102, 'it’s': 103, \"you're\": 104, 'make': 105, 'very': 106, 'never': 107, 'should': 108, 'bad': 109, 'man': 110, 'back': 111, 'going': 112, 'were': 113, 'also': 114, 'thing': 115, 'feel': 116, 'great': 117, 'better': 118, 'could': 119, 'don’t': 120, 'say': 121, 'same': 122, 'other': 123, 'those': 124, 'any': 125, 'hope': 126, 'someone': 127, 'actually': 128, 'sorry': 129, 'sure': 130, 'pretty': 131, 'game': 132, 'something': 133, 'need': 134, 'thought': 135, 'am': 136, 'though': 137, 'first': 138, 'guy': 139, 'looks': 140, 'off': 141, 'that’s': 142, 'after': 143, 'look': 144, 'day': 145, 'always': 146, \"didn't\": 147, 'over': 148, 'best': 149, \"can't\": 150, 'its': 151, 'yes': 152, 'us': 153, 'these': 154, 'take': 155, 'mean': 156, \"i've\": 157, 'makes': 158, 'into': 159, 'years': 160, 'year': 161, 'most': 162, 'our': 163, 'does': 164, 'said': 165, 'work': 166, 'happy': 167, 'maybe': 168, 'made': 169, 'down': 170, 'post': 171, '2': 172, \"he's\": 173, 'new': 174, 'where': 175, 'probably': 176, 'before': 177, 'life': 178, 'things': 179, 'last': 180, 'getting': 181, \"doesn't\": 182, 'old': 183, 'ever': 184, 'fuck': 185, 'damn': 186, 'nice': 187, 'every': 188, 'wow': 189, 'many': 190, 'find': 191, 'point': 192, 'everyone': 193, 'dude': 194, 'anything': 195, 'glad': 196, 'you’re': 197, 'little': 198, 'keep': 199, 'lot': 200, 'long': 201, '3': 202, 'try': 203, 'wrong': 204, 'doing': 205, 'hard': 206, '1': 207, 'real': 208, 'hate': 209, 'help': 210, 'give': 211, 'stop': 212, 'play': 213, 'person': 214, 'tell': 215, 'wish': 216, 'use': 217, 'least': 218, 'nothing': 219, 'read': 220, 'shit': 221, 'seen': 222, 'trying': 223, 'fun': 224, 'enough': 225, 'guys': 226, \"isn't\": 227, 'cool': 228, 'while': 229, 'again': 230, 'which': 231, \"i'd\": 232, 'come': 233, 'anyone': 234, 'around': 235, 'might': 236, 'believe': 237, 'ok': 238, 'comment': 239, 'both': 240, 'fucking': 241, 'sub': 242, \"they're\": 243, 'please': 244, 'haha': 245, 'true': 246, 'another': 247, 'r': 248, \"i'll\": 249, 'wait': 250, 'sounds': 251, 'big': 252, 'already': 253, 'two': 254, 'having': 255, 'definitely': 256, 'gonna': 257, 'since': 258, 'next': 259, 'money': 260, 'put': 261, 'team': 262, 'until': 263, 'amazing': 264, 'guess': 265, 'friend': 266, 'show': 267, 'such': 268, 'let': 269, 'else': 270, 'seems': 271, '5': 272, 'problem': 273, 'weird': 274, 'funny': 275, 'awesome': 276, 'yourself': 277, 'kids': 278, 'part': 279, 'looking': 280, 'dont': 281, 'saying': 282, 'remember': 283, 'didn’t': 284, 'reason': 285, 'kind': 286, 'understand': 287, 'live': 288, 'through': 289, 'far': 290, 'few': 291, 'season': 292, 'gets': 293, 'ago': 294, 'without': 295, 'idea': 296, 'used': 297, 'watch': 298, 'stupid': 299, 'sad': 300, 'call': 301, 'interesting': 302, 'can’t': 303, 'im': 304, 'luck': 305, 'done': 306, 'yet': 307, 'hear': 308, 'place': 309, 'job': 310, 'agree': 311, 'must': 312, 'he’s': 313, 'literally': 314, 'u': 315, 'video': 316, 'hell': 317, 'end': 318, 'own': 319, 'world': 320, 'care': 321, 'everything': 322, 'friends': 323, 'left': 324, 'happened': 325, \"there's\": 326, 'away': 327, 'different': 328, 'exactly': 329, 'once': 330, 'bit': 331, 'saw': 332, 'kid': 333, 'i’ve': 334, 'lmao': 335, 'talking': 336, 'went': 337, 'against': 338, 'joke': 339, 'heard': 340, 'girl': 341, 'making': 342, 'reddit': 343, 'imagine': 344, 'either': 345, 'start': 346, '10': 347, 'women': 348, 'high': 349, 'times': 350, 'may': 351, 'home': 352, 'second': 353, 'stuff': 354, 'almost': 355, 'honestly': 356, \"she's\": 357, 'surprised': 358, 'favorite': 359, 'whole': 360, 'less': 361, 'needs': 362, 'head': 363, 'op': 364, 's': 365, 'fact': 366, 'talk': 367, 'face': 368, 'news': 369, 'myself': 370, 'playing': 371, 'story': 372, 'hey': 373, 'ah': 374, 'poor': 375, 'ask': 376, 'came': 377, 'today': 378, 'mind': 379, 'absolutely': 380, 'stay': 381, 'days': 382, 'change': 383, 'enjoy': 384, 'games': 385, 'sense': 386, 'free': 387, 'coming': 388, '4': 389, 'wanted': 390, 'okay': 391, 'school': 392, 'men': 393, 'beautiful': 394, 'terrible': 395, 'worst': 396, 'lost': 397, 'taking': 398, 'win': 399, 'mom': 400, \"wasn't\": 401, \"wouldn't\": 402, 'family': 403, 'omg': 404, 'doesn’t': 405, 'took': 406, 'super': 407, 'leave': 408, 'worse': 409, 'top': 410, 'found': 411, '”': 412, 'thinking': 413, 'kinda': 414, \"we're\": 415, 'close': 416, 'sometimes': 417, 'sex': 418, 'hit': 419, 'wonder': 420, 'fan': 421, 'thats': 422, 'word': 423, 'question': 424, 'happen': 425, 'wants': 426, 'crazy': 427, 'gotta': 428, 'seem': 429, 'night': 430, 'instead': 431, 'cute': 432, 'comments': 433, 'watching': 434, 'woman': 435, 'religion': 436, 'says': 437, 'feels': 438, 'told': 439, 'miss': 440, 'god': 441, 'check': 442, 'half': 443, 'tho': 444, \"won't\": 445, 'called': 446, 'matter': 447, 'car': 448, 'cause': 449, 'between': 450, 'pay': 451, 'able': 452, 'feeling': 453, '0': 454, 'means': 455, '6': 456, 'fine': 457, 'they’re': 458, 'side': 459, 'shot': 460, 'i’d': 461, 'welcome': 462, 'full': 463, 'move': 464, 'together': 465, 'week': 466, 'baby': 467, 'totally': 468, 'knew': 469, 'support': 470, 'using': 471, 'sucks': 472, 'players': 473, 'dog': 474, 'seeing': 475, 'especially': 476, 'buy': 477, 'kill': 478, 'child': 479, 'rather': 480, 'under': 481, 'run': 482, \"aren't\": 483, 'i’ll': 484, 'curious': 485, 'd': 486, 'ones': 487, 'hot': 488, 'edit': 489, 'eat': 490, 'completely': 491, 'deal': 492, 'tried': 493, 'food': 494, 'worth': 495, 'movie': 496, 'dumb': 497, 'each': 498, 'happens': 499, 'isn’t': 500, 'words': 501, 'rest': 502, 'lose': 503, 'thread': 504, 'bro': 505, 'case': 506, 'works': 507, 'awful': 508, 'forgot': 509, 'state': 510, 'seriously': 511, 'meant': 512, 'nah': 513, 'open': 514, 'loved': 515, 'laugh': 516, \"let's\": 517, 'easy': 518, 'opinion': 519, 'goes': 520, 'single': 521, 'quite': 522, 'boy': 523, 'government': 524, \"what's\": 525, 'anymore': 526, 'moment': 527, 'sound': 528, \"haven't\": 529, 'couple': 530, 'sweet': 531, 'phone': 532, 'hurt': 533, 'self': 534, 'ya': 535, 'dead': 536, 'line': 537, 'comes': 538, 'appreciate': 539, 'picture': 540, 'horrible': 541, 'posted': 542, 'fair': 543, 'alone': 544, 'chance': 545, 'age': 546, 'fake': 547, 'course': 548, 'worry': 549, 'except': 550, 'obviously': 551, 'usually': 552, 'die': 553, 'future': 554, 'wife': 555, '100': 556, 'hours': 557, 'started': 558, 'break': 559, 'issue': 560, 'advice': 561, 'internet': 562, 'tbh': 563, 'months': 564, 'become': 565, 'ass': 566, 'house': 567, 'realize': 568, 'others': 569, 'parents': 570, 'fight': 571, 'past': 572, 'reading': 573, 'possible': 574, 'perfect': 575, 'looked': 576, 'serious': 577, 'nobody': 578, \"you've\": 579, '20': 580, 'finally': 581, 'fans': 582, 'racist': 583, 'mine': 584, 'played': 585, 'experience': 586, 'entire': 587, 'she’s': 588, 'country': 589, 'level': 590, 'working': 591, 'idk': 592, 'hopefully': 593, 'low': 594, '7': 595, 'loves': 596, 'link': 597, 'there’s': 598, 'basically': 599, 'holy': 600, 'article': 601, 'water': 602, 'young': 603, 'shame': 604, 'huge': 605, 'soon': 606, 'excited': 607, 'pick': 608, 'answer': 609, 'missed': 610, 'number': 611, 'unless': 612, 'bring': 613, 'cant': 614, 'heart': 615, 'non': 616, 'clearly': 617, 'situation': 618, 'anyway': 619, 'children': 620, 'hand': 621, 'needed': 622, 'giving': 623, 'disgusting': 624, 'meme': 625, 'dad': 626, 'minutes': 627, 'often': 628, 'body': 629, 'gold': 630, '30': 631, 'takes': 632, 'human': 633, 'relationship': 634, 'death': 635, 'cat': 636, 'living': 637, 'normal': 638, 'knows': 639, 'history': 640, 'three': 641, 'player': 642, 'subreddit': 643, 'turn': 644, 'forget': 645, 'mother': 646, 'posts': 647, 'unfortunately': 648, 'felt': 649, 'cold': 650, 'brother': 651, 'liked': 652, 'strong': 653, 'control': 654, 'pain': 655, 'late': 656, 'outside': 657, 'beat': 658, 'title': 659, 'type': 660, '8': 661, 'likely': 662, 'cake': 663, 'girls': 664, 'gave': 665, 'actual': 666, 'account': 667, 'episode': 668, 'mad': 669, 'later': 670, 'vote': 671, 'hair': 672, 'afraid': 673, 'scared': 674, 'music': 675, 'gone': 676, 'whatever': 677, 'tonight': 678, 'room': 679, 'sign': 680, 'hoping': 681, 'calling': 682, 'eyes': 683, 'date': 684, 'during': 685, 'sick': 686, 'red': 687, 'system': 688, 'yep': 689, 'similar': 690, 'white': 691, 'safe': 692, 'wasn’t': 693, 'police': 694, 'expect': 695, 'gun': 696, 'fast': 697, 'crying': 698, 'watched': 699, 'response': 700, 'youtube': 701, '9': 702, 'hilarious': 703, 'deserve': 704, 'wanna': 705, 'ball': 706, 'asking': 707, 'small': 708, 'straight': 709, 'running': 710, 'power': 711, 'learn': 712, 'angry': 713, 'sort': 714, 'pass': 715, 'given': 716, 'character': 717, 'huh': 718, 'difference': 719, 'ha': 720, '15': 721, 'area': 722, 'weeks': 723, 'shut': 724, 'argument': 725, 'mate': 726, 'shows': 727, 'song': 728, 'interested': 729, 'idiot': 730, 'month': 731, 'congrats': 732, 'bet': 733, 'stand': 734, 'book': 735, 'likes': 736, 'we’re': 737, 'ugly': 738, 'yea': 739, 'points': 740, 'important': 741, 'explain': 742, 'confused': 743, 'based': 744, 'correct': 745, 'party': 746, 'cut': 747, 'hahaha': 748, 'themselves': 749, 'america': 750, \"you'll\": 751, 'posting': 752, 'sharing': 753, 'ready': 754, 'ugh': 755, 'son': 756, 'front': 757, 'truly': 758, '😂': 759, 'early': 760, 'cheers': 761, 'hands': 762, 'source': 763, 'city': 764, 'listen': 765, 'black': 766, 'save': 767, 'fire': 768, 'imo': 769, 'waiting': 770, 'trade': 771, 'drive': 772, 'troll': 773, \"couldn't\": 774, 'sadly': 775, 'behind': 776, 'share': 777, 'hour': 778, 'didnt': 779, 'doubt': 780, 'killed': 781, 'died': 782, 'taken': 783, 'creepy': 784, 'apparently': 785, 'class': 786, 'proud': 787, 'brain': 788, 'law': 789, 'league': 790, 'wall': 791, 'telling': 792, 'noticed': 793, 'thinks': 794, 'group': 795, 'wouldn’t': 796, 'longer': 797, 'twitter': 798, 'reply': 799, 'nope': 800, 'act': 801, 'himself': 802, 'worried': 803, 'forward': 804, 'asked': 805, 'alright': 806, 'anti': 807, 'attention': 808, 'ridiculous': 809, 'issues': 810, 'original': 811, 'lots': 812, 'paid': 813, 'boys': 814, 'add': 815, 'eating': 816, 'lucky': 817, 'choice': 818, 'reminds': 819, 'mostly': 820, 'truth': 821, 'yup': 822, 'o': 823, 'store': 824, 'crap': 825, 'near': 826, 'trust': 827, 'killing': 828, 'vs': 829, 'cry': 830, 'forever': 831, 'buddy': 832, 'older': 833, 'drop': 834, 'business': 835, 'gives': 836, 'won’t': 837, 'gotten': 838, 'honest': 839, 'bottom': 840, 'term': 841, 'ex': 842, 'doctor': 843, 'due': 844, 'extremely': 845, 'losing': 846, 'wondering': 847, \"shouldn't\": 848, 'haven’t': 849, 'personally': 850, 'middle': 851, 'wonderful': 852, 'short': 853, 'guns': 854, 'pizza': 855, 'hi': 856, 'political': 857, 'hold': 858, 'yesterday': 859, 'morning': 860, 'clear': 861, 'sleep': 862, 'loss': 863, 'college': 864, 'common': 865, 'road': 866, 'surprise': 867, 'assume': 868, 'changed': 869, 'inside': 870, 'double': 871, 'dare': 872, 'reality': 873, 'stick': 874, 'piece': 875, 'username': 876, 'exact': 877, 'service': 878, 'videos': 879, 'spend': 880, 'legal': 881, 'speak': 882, 'goal': 883, 'suck': 884, 'scene': 885, 'insane': 886, \"you'd\": 887, 'alive': 888, 'upvote': 889, 'downvoted': 890, 'thoughts': 891, 'main': 892, 'example': 893, 'supposed': 894, 'hug': 895, 'respect': 896, 'considering': 897, 'drink': 898, 'blame': 899, 'tv': 900, 'banned': 901, 'bunch': 902, '12': 903, 'turned': 904, 'somewhere': 905, 'quick': 906, 'laughed': 907, 'send': 908, 'order': 909, 'community': 910, 'fall': 911, 'disappointed': 912, 'rich': 913, 'what’s': 914, 'canada': 915, 'etc': 916, 'mental': 917, 'smile': 918, 'amount': 919, 'set': 920, 'murder': 921, 'bed': 922, 'general': 923, 'laughing': 924, 'kept': 925, 'leaving': 926, 'incredibly': 927, 'aren’t': 928, 'special': 929, 'society': 930, 'removed': 931, 'company': 932, 'pic': 933, 'social': 934, 'online': 935, 'plan': 936, 'won': 937, 'option': 938, 'everybody': 939, 'ice': 940, 'cringe': 941, 'husband': 942, 'ended': 943, 'simply': 944, 'illegal': 945, 'above': 946, 'paying': 947, 'pissed': 948, 'figure': 949, 'list': 950, 'lives': 951, 'problems': 952, 'step': 953, 'odd': 954, 'simple': 955, 'biggest': 956, 'married': 957, 'round': 958, 'information': 959, 'zero': 960, 'public': 961, 'decent': 962, 'rule': 963, 'evidence': 964, 'walk': 965, 'exist': 966, 'office': 967, 'skin': 968, 'series': 969, 'president': 970, 'football': 971, 'position': 972, 'catch': 973, 'toxic': 974, 'info': 975, 'somehow': 976, 'allowed': 977, 'bud': 978, 'sentence': 979, 'dream': 980, 'fellow': 981, 'trash': 982, 'throw': 983, 'along': 984, 'follow': 985, 'claim': 986, 'fault': 987, 'hurts': 988, 'jealous': 989, '2nd': 990, 'google': 991, 'fat': 992, 'wearing': 993, \"they'll\": 994, 'easily': 995, 'interest': 996, 'blood': 997, 'photo': 998, 'helps': 999, 'facts': 1000, 'fantastic': 1001, 'scary': 1002, 'clean': 1003, 'otherwise': 1004, 'prefer': 1005, 'doesnt': 1006, '50': 1007, 'starting': 1008, 'dark': 1009, 'cannot': 1010, 'agreed': 1011, 'annoying': 1012, 'attack': 1013, 'drunk': 1014, 'town': 1015, 'science': 1016, 'reference': 1017, 'gross': 1018, 'driving': 1019, 'birthday': 1020, 'space': 1021, 'disagree': 1022, 'bless': 1023, 'p': 1024, 'lady': 1025, 'garbage': 1026, 'couldn’t': 1027, 'avoid': 1028, 'father': 1029, 'pull': 1030, 'happening': 1031, 'awkward': 1032, 'none': 1033, 'twice': 1034, 'fit': 1035, 'worked': 1036, 't': 1037, 'mouth': 1038, 'within': 1039, 'shocked': 1040, 'broken': 1041, 'places': 1042, 'realized': 1043, 'random': 1044, 'teams': 1045, 'ignorant': 1046, 'mr': 1047, 'message': 1048, 'report': 1049, 'media': 1050, 'eye': 1051, 'genuinely': 1052, \"hasn't\": 1053, 'focus': 1054, '40': 1055, 'drugs': 1056, 'regret': 1057, 'attractive': 1058, 'excuse': 1059, 'barely': 1060, 'write': 1061, 'health': 1062, 'minute': 1063, 'smh': 1064, 'wear': 1065, 'dating': 1066, 'putting': 1067, 'certainly': 1068, 'rights': 1069, 'version': 1070, 'let’s': 1071, 'grow': 1072, 'upset': 1073, '11': 1074, 'missing': 1075, 'questions': 1076, 'knowing': 1077, 'related': 1078, 'lie': 1079, 'earth': 1080, 'sexual': 1081, 'dogs': 1082, 'quality': 1083, 'met': 1084, 'extra': 1085, 'trouble': 1086, 'hugs': 1087, 'af': 1088, 'choose': 1089, 'third': 1090, 'fighting': 1091, 'price': 1092, 'obvious': 1093, 'yo': 1094, 'healthy': 1095, 'uh': 1096, 'cost': 1097, 'strange': 1098, 'currently': 1099, 'slow': 1100, 'feelings': 1101, 'context': 1102, '25': 1103, 'porn': 1104, 'tip': 1105, 'blue': 1106, 'reaction': 1107, 'fear': 1108, 'hang': 1109, 'shoot': 1110, 'star': 1111, 'facebook': 1112, 'expensive': 1113, 'pro': 1114, 'tired': 1115, 'defense': 1116, 'yours': 1117, 'plus': 1118, 'positive': 1119, 'compared': 1120, 'form': 1121, 'certain': 1122, 'eh': 1123, 'cats': 1124, 'average': 1125, 'known': 1126, 'conversation': 1127, 'expected': 1128, 'boring': 1129, 'million': 1130, 'tomorrow': 1131, 'aware': 1132, 'recently': 1133, 'admit': 1134, 'taste': 1135, 'mistake': 1136, 'contract': 1137, 'war': 1138, 'loud': 1139, 'breaking': 1140, 'text': 1141, 'learned': 1142, 'beer': 1143, 'hated': 1144, 'plenty': 1145, 'weed': 1146, 'expecting': 1147, 'fix': 1148, 'lets': 1149, 'loving': 1150, 'downvote': 1151, 'complete': 1152, 'sitting': 1153, 'offer': 1154, 'numbers': 1155, 'cops': 1156, 'effort': 1157, 'specific': 1158, 'e': 1159, 'view': 1160, 'bought': 1161, 'mentioned': 1162, 'multiple': 1163, 'final': 1164, 'easier': 1165, 'difficult': 1166, 'accurate': 1167, 'burn': 1168, 'memes': 1169, 'sell': 1170, 'waste': 1171, 'walking': 1172, 'btw': 1173, 'app': 1174, 'notice': 1175, 'ahead': 1176, 'classic': 1177, 'logic': 1178, 'silly': 1179, 'saved': 1180, 'characters': 1181, 'dangerous': 1182, 'mention': 1183, 'politics': 1184, 'lovely': 1185, 'english': 1186, 'match': 1187, 'sent': 1188, 'consider': 1189, 'however': 1190, 'action': 1191, \"they've\": 1192, 'balls': 1193, 'bigger': 1194, 'depends': 1195, '16': 1196, 'girlfriend': 1197, 'solid': 1198, 'keeps': 1199, 'busy': 1200, 'rules': 1201, 'touch': 1202, 'jokes': 1203, 'voice': 1204, 'anyways': 1205, 'available': 1206, 'added': 1207, 'force': 1208, 'stranger': 1209, 'anywhere': 1210, 'light': 1211, 'moving': 1212, 'congratulations': 1213, 'karma': 1214, 'you’ve': 1215, 'cancer': 1216, 'absolute': 1217, 'enjoyed': 1218, 'tough': 1219, 'contact': 1220, 'door': 1221, 'tax': 1222, 'anxiety': 1223, 'content': 1224, 'market': 1225, 'bar': 1226, 'finish': 1227, 'soul': 1228, 'art': 1229, 'spent': 1230, 'highly': 1231, 'turns': 1232, 'uncomfortable': 1233, 'ways': 1234, 'legit': 1235, 'draft': 1236, 'x': 1237, 'uk': 1238, 'cheap': 1239, 'brought': 1240, 'career': 1241, 'wtf': 1242, 'ad': 1243, 'lack': 1244, 'hearing': 1245, 'books': 1246, 'painful': 1247, 'somebody': 1248, 'reasons': 1249, '18': 1250, 'slightly': 1251, 'cover': 1252, 'itself': 1253, 'tears': 1254, 'younger': 1255, 'personal': 1256, 'ground': 1257, 'teacher': 1258, 'plays': 1259, 'rare': 1260, 'idiots': 1261, 'hes': 1262, 'states': 1263, \"we'll\": 1264, 'pure': 1265, 'hates': 1266, 'sister': 1267, '2019': 1268, 'n': 1269, 'block': 1270, 'checked': 1271, 'indeed': 1272, 'abuse': 1273, '“i': 1274, 'sit': 1275, 'favourite': 1276, 'green': 1277, 'opinions': 1278, 'earlier': 1279, 'hero': 1280, 'winning': 1281, 'statement': 1282, 'born': 1283, 'dropped': 1284, 'understanding': 1285, 'cares': 1286, 'period': 1287, 'medical': 1288, 'showing': 1289, 'build': 1290, 'faith': 1291, 'rape': 1292, 'race': 1293, 'till': 1294, 'coach': 1295, 'calm': 1296, 'higher': 1297, 'helpful': 1298, '14': 1299, 'stuck': 1300, 'research': 1301, 'spot': 1302, 'across': 1303, 'considered': 1304, 'false': 1305, 'return': 1306, 'ive': 1307, 'partner': 1308, 'page': 1309, 'private': 1310, 'south': 1311, 'weight': 1312, 'terrifying': 1313, 'ending': 1314, 'harder': 1315, 'sir': 1316, 'therapy': 1317, 'lead': 1318, 'boyfriend': 1319, 'traffic': 1320, 'playoffs': 1321, 'shirt': 1322, 'holding': 1323, 'deep': 1324, 'despite': 1325, 'stopped': 1326, 'behavior': 1327, 'badly': 1328, 'quit': 1329, \"y'all\": 1330, 'stories': 1331, 'jail': 1332, 'daughter': 1333, 'channel': 1334, 'american': 1335, 'shoes': 1336, 'proof': 1337, 'per': 1338, 'humans': 1339, 'f': 1340, 'train': 1341, 'parent': 1342, 'visit': 1343, 'moved': 1344, 'weekend': 1345, 'adorable': 1346, 'animals': 1347, 'you’ll': 1348, 'credit': 1349, 'court': 1350, 'songs': 1351, 'careful': 1352, 'fucked': 1353, 'style': 1354, 'throwing': 1355, 'embarrassing': 1356, 'hello': 1357, 'language': 1358, 'caught': 1359, 'finding': 1360, 'seconds': 1361, 'value': 1362, 'accept': 1363, 'damage': 1364, 'steal': 1365, 'drug': 1366, 'sending': 1367, 'queen': 1368, 'decision': 1369, 'b': 1370, 'reasonable': 1371, 'bullshit': 1372, 'snow': 1373, 'helped': 1374, 'bot': 1375, 'keeping': 1376, 'mess': 1377, 'jerk': 1378, 'several': 1379, 'although': 1380, 'regardless': 1381, 'subs': 1382, 'hat': 1383, 'ignore': 1384, \"weren't\": 1385, 'worries': 1386, 'card': 1387, 'opposite': 1388, 'starts': 1389, 'neither': 1390, 'lord': 1391, '000': 1392, 'incredible': 1393, 'buying': 1394, 'join': 1395, 'caused': 1396, 'excellent': 1397, 'popular': 1398, 'involved': 1399, 'negative': 1400, 'professional': 1401, 'jersey': 1402, \"it'll\": 1403, 'effect': 1404, 'em': 1405, 'create': 1406, 'exists': 1407, 'calls': 1408, 'box': 1409, 'note': 1410, 'rid': 1411, 'air': 1412, 'protect': 1413, 'dear': 1414, 'seemed': 1415, 'church': 1416, \"we've\": 1417, 'evil': 1418, 'large': 1419, 'constantly': 1420, 'deserves': 1421, 'risk': 1422, 'roll': 1423, 'shitty': 1424, 'grew': 1425, 'west': 1426, 'la': 1427, 'pretend': 1428, 'smell': 1429, 'deleted': 1430, 'folks': 1431, 'prove': 1432, 'magic': 1433, 'massive': 1434, 'smart': 1435, 'key': 1436, 'nearly': 1437, 'treat': 1438, 'listening': 1439, 'cuz': 1440, 'taxes': 1441, 'count': 1442, 'screen': 1443, 'trip': 1444, 'besides': 1445, 'color': 1446, 'instagram': 1447, 'handle': 1448, 'adult': 1449, 'summer': 1450, 'movies': 1451, 'process': 1452, 'meet': 1453, 'broke': 1454, 'local': 1455, 'five': 1456, 'speaking': 1457, 'injury': 1458, 'lawyer': 1459, \"ain't\": 1460, 'ironic': 1461, 'prison': 1462, 'record': 1463, 'towards': 1464, 'pictures': 1465, 'entirely': 1466, 'wholesome': 1467, 'floor': 1468, 'challenge': 1469, 'complain': 1470, 'sake': 1471, 'pm': 1472, 'mode': 1473, 'wont': 1474, 'emotional': 1475, 'quickly': 1476, 'ur': 1477, 'basketball': 1478, 'shooting': 1479, 'eventually': 1480, 'cheese': 1481, 'terms': 1482, 'foot': 1483, 'xd': 1484, 'ends': 1485, 'yikes': 1486, 'restaurant': 1487, 'land': 1488, 'range': 1489, 'image': 1490, 'beyond': 1491, 'test': 1492, 'kidding': 1493, 'site': 1494, 'standard': 1495, 'names': 1496, 'dumbass': 1497, 'countries': 1498, 'delete': 1499, \"'\": 1500, 'warm': 1501, 'attempt': 1502, 'decided': 1503, 'cars': 1504, 'laws': 1505, 'oil': 1506, 'eu': 1507, 'created': 1508, 'brilliant': 1509, 'knowledge': 1510, 'carry': 1511, 'meaning': 1512, 'release': 1513, 'feet': 1514, 'jobs': 1515, \"here's\": 1516, 'greatest': 1517, 'assuming': 1518, 'upvotes': 1519, 'sexy': 1520, 'writing': 1521, 'l': 1522, 'winter': 1523, 'rate': 1524, 'cheating': 1525, 'lived': 1526, 'discussion': 1527, 'continue': 1528, 'offended': 1529, 'apart': 1530, 'fired': 1531, 'ill': 1532, 'insurance': 1533, 'wild': 1534, 'confirm': 1535, 'feed': 1536, 'decide': 1537, 'pathetic': 1538, 'truck': 1539, 'wins': 1540, 'regular': 1541, 'bs': 1542, 'bear': 1543, 'learning': 1544, 'album': 1545, 'racism': 1546, 'id': 1547, 'pregnant': 1548, 'pet': 1549, 'netflix': 1550, 'china': 1551, 'written': 1552, 'gender': 1553, 'piss': 1554, 'bitch': 1555, 'board': 1556, 'rip': 1557, 'proper': 1558, 'according': 1559, 'suddenly': 1560, 'ruined': 1561, 'orange': 1562, 'qb': 1563, 'shots': 1564, 'penis': 1565, 'bowl': 1566, 'afford': 1567, 'fell': 1568, 'marriage': 1569, 'definition': 1570, 'personality': 1571, 'whenever': 1572, 'update': 1573, 'four': 1574, 'adults': 1575, 'wake': 1576, 'push': 1577, 'flair': 1578, 'sports': 1579, 'perfectly': 1580, 'population': 1581, 'gorgeous': 1582, 'concerned': 1583, 'technically': 1584, 'surely': 1585, 'north': 1586, 'rock': 1587, '1st': 1588, 'chicken': 1589, 'dr': 1590, 'repost': 1591, '3rd': 1592, 'apologies': 1593, 'coffee': 1594, 'park': 1595, 'search': 1596, 'culture': 1597, 'fail': 1598, 'crime': 1599, 'nasty': 1600, 'lines': 1601, 'mod': 1602, 'herself': 1603, 'property': 1604, 'further': 1605, 'hockey': 1606, 'daily': 1607, 'brave': 1608, 'claims': 1609, '❤️': 1610, 'generally': 1611, '“': 1612, '24': 1613, 'rn': 1614, 'lying': 1615, 'paper': 1616, 'enjoying': 1617, 'makeup': 1618, 'falling': 1619, 'russian': 1620, 'irony': 1621, 'extreme': 1622, \"who's\": 1623, 'willing': 1624, 'education': 1625, 'defend': 1626, 'meat': 1627, 'below': 1628, 'replace': 1629, 'voted': 1630, 'golden': 1631, 'rough': 1632, 'fixed': 1633, 'recommend': 1634, 'complaining': 1635, 'offense': 1636, 'alt': 1637, 'mobile': 1638, 'figured': 1639, 'voting': 1640, 'acting': 1641, 'hide': 1642, 'directly': 1643, 'suggest': 1644, 'horror': 1645, 'perspective': 1646, 'arm': 1647, 'satire': 1648, 'lmfao': 1649, 'asshole': 1650, 'florida': 1651, 'map': 1652, 'speech': 1653, 'legend': 1654, 'necessary': 1655, 'dollars': 1656, 'named': 1657, 're': 1658, 'secret': 1659, 'success': 1660, 'potential': 1661, 'pc': 1662, '4th': 1663, 'street': 1664, 'possibly': 1665, 'result': 1666, 'fish': 1667, 'interview': 1668, 'energy': 1669, 'yellow': 1670, 'freaking': 1671, 'remindme': 1672, 'pack': 1673, 'votes': 1674, 'band': 1675, 'moves': 1676, 'swear': 1677, 'impressive': 1678, 'purpose': 1679, 'cup': 1680, 'election': 1681, 'moron': 1682, 'federal': 1683, 'drag': 1684, 'ignorance': 1685, 'existed': 1686, 'seasons': 1687, 'everywhere': 1688, 'happiness': 1689, 'rude': 1690, \"he'll\": 1691, 'military': 1692, 'chicago': 1693, 'natural': 1694, 'ideas': 1695, 'm': 1696, 'jump': 1697, 'legs': 1698, 'usa': 1699, 'female': 1700, 'nightmare': 1701, 'fresh': 1702, 'babies': 1703, 'opportunity': 1704, 'letting': 1705, 'supporters': 1706, 'views': 1707, 'ring': 1708, 'animal': 1709, 'attitude': 1710, 'teach': 1711, 'genius': 1712, 'physically': 1713, 'chat': 1714, 'cash': 1715, 'plot': 1716, 'wing': 1717, 'event': 1718, 'impressed': 1719, 'model': 1720, 'finished': 1721, 'ability': 1722, 'accident': 1723, 'clue': 1724, 'vegan': 1725, '60': 1726, 'dirty': 1727, 'tend': 1728, '90': 1729, 'speed': 1730, '17': 1731, 'christmas': 1732, 'photos': 1733, 'heavy': 1734, 'forced': 1735, 'quote': 1736, 'flying': 1737, 'liberals': 1738, 'gift': 1739, 'wise': 1740, 'shouldn’t': 1741, 'lately': 1742, 'advantage': 1743, 'showed': 1744, 'specifically': 1745, 'bother': 1746, 'pre': 1747, 'skills': 1748, 'whether': 1749, 'steps': 1750, 'guessing': 1751, 'signed': 1752, 'impossible': 1753, 'responding': 1754, 'explanation': 1755, 'responsible': 1756, 'relevant': 1757, 'shes': 1758, 'track': 1759, 'mixed': 1760, 'retarded': 1761, 'wars': 1762, 'lower': 1763, 'hitting': 1764, 'whoever': 1765, 'shock': 1766, 'press': 1767, 'background': 1768, 'results': 1769, 'user': 1770, 'major': 1771, 'including': 1772, \"they'd\": 1773, \"people's\": 1774, 'hmm': 1775, 'confidence': 1776, 'failed': 1777, 'students': 1778, 'trick': 1779, 'matters': 1780, 'def': 1781, 'isnt': 1782, 'flag': 1783, 'suit': 1784, 'theory': 1785, 'total': 1786, 'aw': 1787, 'judge': 1788, 'covered': 1789, 'current': 1790, 'field': 1791, 'butt': 1792, 'tank': 1793, 'trolling': 1794, 'disappointing': 1795, 'net': 1796, 'foreign': 1797, 'switch': 1798, 'heads': 1799, 'base': 1800, 'memory': 1801, 'pray': 1802, 'relationships': 1803, 'split': 1804, 'glass': 1805, 'epic': 1806, 'guilty': 1807, 'delicious': 1808, 'ten': 1809, 'lesson': 1810, 'provide': 1811, 'spending': 1812, 'fantasy': 1813, 'socialism': 1814, 'episodes': 1815, 'peace': 1816, 'everytime': 1817, 'prime': 1818, 'error': 1819, 'stealing': 1820, 'hospital': 1821, 'valid': 1822, 'circle': 1823, 'mass': 1824, 'overall': 1825, 'standing': 1826, 'website': 1827, 'stream': 1828, 'drama': 1829, 'dallas': 1830, 'parties': 1831, 'tree': 1832, 'chill': 1833, 'anybody': 1834, 'table': 1835, 'british': 1836, 'performance': 1837, '13': 1838, 'min': 1839, 'freedom': 1840, 'particular': 1841, 'lies': 1842, 'wanting': 1843, 'argue': 1844, 'building': 1845, 'properly': 1846, 'bench': 1847, 'program': 1848, 'wasnt': 1849, '2018': 1850, 'role': 1851, 'staying': 1852, 'cross': 1853, 'majority': 1854, 'innocent': 1855, 'study': 1856, 'refuse': 1857, 'puts': 1858, '2016': 1859, 'remind': 1860, 'reach': 1861, 'security': 1862, 'desperate': 1863, 'therapist': 1864, 'dislike': 1865, 'brutal': 1866, \"he'd\": 1867, 'remove': 1868, 'tiny': 1869, 'screw': 1870, 'pointing': 1871, 'fully': 1872, 'handsome': 1873, 'changing': 1874, 'owner': 1875, 'hire': 1876, 'tall': 1877, 'club': 1878, 'recent': 1879, 'allow': 1880, 'poster': 1881, 'referring': 1882, 'destroy': 1883, '19': 1884, 'concept': 1885, 'arms': 1886, 'dunno': 1887, 'bank': 1888, 'bottle': 1889, 'kills': 1890, 'mirror': 1891, 'brings': 1892, 'tool': 1893, 'rent': 1894, 'stars': 1895, 'conservative': 1896, 'pop': 1897, 'aww': 1898, 'instantly': 1899, 'hungry': 1900, 'boat': 1901, 'size': 1902, 'bag': 1903, 'ruin': 1904, 'lunch': 1905, '21': 1906, 'salt': 1907, 'crowd': 1908, 'loser': 1909, 'universe': 1910, 'draw': 1911, 'student': 1912, 'target': 1913, 'accidentally': 1914, 'center': 1915, 'email': 1916, 'moments': 1917, 'weak': 1918, 'tells': 1919, 'gas': 1920, 'turning': 1921, 'chances': 1922, 'screaming': 1923, 'levels': 1924, 'managed': 1925, 'bastard': 1926, 'physical': 1927, 'depressing': 1928, 'bill': 1929, 'nfl': 1930, 'asleep': 1931, 'shower': 1932, 'w': 1933, 'perhaps': 1934, 'options': 1935, 'dinner': 1936, 'would’ve': 1937, 'memories': 1938, 'abusive': 1939, 'machine': 1940, 'curiosity': 1941, 'apply': 1942, \"would've\": 1943, 'nervous': 1944, 'helping': 1945, 'suggestion': 1946, 'yay': 1947, 'joking': 1948, 'wouldnt': 1949, 'wrote': 1950, 'scam': 1951, 'ton': 1952, 'tweet': 1953, '35': 1954, 'pressure': 1955, 'becoming': 1956, 'comfortable': 1957, 'uncle': 1958, 'sees': 1959, 'charge': 1960, 'hits': 1961, 'camera': 1962, 'oof': 1963, 'clothes': 1964, 'links': 1965, 'filled': 1966, 'anger': 1967, 'became': 1968, 'downvotes': 1969, 'implying': 1970, 'suppose': 1971, 'impact': 1972, 'youre': 1973, 'degree': 1974, 'hole': 1975, 'nuts': 1976, 'flat': 1977, 'unfortunate': 1978, 'film': 1979, 'closer': 1980, 'anime': 1981, 'active': 1982, 'familiar': 1983, 'generation': 1984, 'ahhh': 1985, 'meeting': 1986, 'failure': 1987, 'gif': 1988, 'ship': 1989, 'outta': 1990, 'blind': 1991, 'injured': 1992, 'ride': 1993, 'til': 1994, '500': 1995, 'bizarre': 1996, 'defensive': 1997, 'sexist': 1998, 'include': 1999, 'cheaper': 2000, 'stupidity': 2001, 'bruh': 2002, 'giant': 2003, 'relate': 2004, 'border': 2005, 'ban': 2006, 'ashamed': 2007, 'hence': 2008, 'monster': 2009, 'male': 2010, 'unexpected': 2011, 'sold': 2012, 'explaining': 2013, 'drinking': 2014, 'lazy': 2015, 'suffering': 2016, 'joy': 2017, 'lonely': 2018, 'supporting': 2019, 'score': 2020, 'pants': 2021, 'thrown': 2022, 'upon': 2023, 'useless': 2024, '2020': 2025, 'individual': 2026, 'russia': 2027, 'ladies': 2028, 'ireland': 2029, 'attacked': 2030, 'bathroom': 2031, 'beauty': 2032, 'king': 2033, 'east': 2034, 'changes': 2035, 'selfish': 2036, 'dudes': 2037, 'mid': 2038, 'commercial': 2039, 'basic': 2040, 'toilet': 2041, 'arent': 2042, 'dance': 2043, \"she'll\": 2044, 'passed': 2045, 'anxious': 2046, 'data': 2047, 'dm': 2048, 'pics': 2049, 'hasn’t': 2050, 'milk': 2051, 'billion': 2052, 'phones': 2053, 'goddamn': 2054, 'brown': 2055, 'cop': 2056, 'horse': 2057, 'sides': 2058, 'unpopular': 2059, 'danger': 2060, 'pot': 2061, 'pushing': 2062, 'heck': 2063, 'apologize': 2064, 'ears': 2065, 'gay': 2066, 'insult': 2067, 'survive': 2068, 'battle': 2069, 'friendly': 2070, 'bus': 2071, 'drivers': 2072, 'wash': 2073, 'liberal': 2074, 'breaks': 2075, 'dry': 2076, 'humor': 2077, 'understood': 2078, 'crush': 2079, 'smoking': 2080, 'island': 2081, 'meal': 2082, 'talent': 2083, 'petty': 2084, 'precious': 2085, 'um': 2086, 'glorious': 2087, 'goodness': 2088, 'costs': 2089, 'concern': 2090, 'faces': 2091, 'french': 2092, 'raise': 2093, 'affect': 2094, 'driver': 2095, 'uber': 2096, 'capitalism': 2097, 'nose': 2098, 'stole': 2099, 'dress': 2100, 'cakeday': 2101, 'feeding': 2102, 'solution': 2103, '🤣': 2104, 'phrase': 2105, 'former': 2106, 'filming': 2107, 'dreams': 2108, 'k': 2109, 'pleasure': 2110, 'arrested': 2111, 'remain': 2112, 'debate': 2113, 'normally': 2114, 'goals': 2115, 'hardly': 2116, 'elected': 2117, 'dying': 2118, 'master': 2119, 'c': 2120, 'income': 2121, 'millions': 2122, 'edge': 2123, 'violent': 2124, 'neck': 2125, 'nonsense': 2126, 'appreciated': 2127, 'communism': 2128, 'destroyed': 2129, 'describe': 2130, 'modern': 2131, 'poorly': 2132, 'organization': 2133, 'incels': 2134, 'reminder': 2135, 'typical': 2136, 'heat': 2137, 'teeth': 2138, 'fruit': 2139, 'ate': 2140, 'emotions': 2141, 'seat': 2142, 'discord': 2143, 'fuckin': 2144, 'crack': 2145, 'stands': 2146, 'saving': 2147, 'customers': 2148, 'growing': 2149, 'reminded': 2150, 'fairly': 2151, 'healthcare': 2152, 'wondered': 2153, 'religious': 2154, 'policy': 2155, 'trump': 2156, 'linked': 2157, 'bored': 2158, 'honey': 2159, 'talked': 2160, 'previous': 2161, 'sauce': 2162, 'window': 2163, 'divorce': 2164, 'solo': 2165, 'campaign': 2166, 'onto': 2167, 'rain': 2168, 'six': 2169, 'abortion': 2170, 'nature': 2171, \"hadn't\": 2172, 'army': 2173, 'underrated': 2174, 'australia': 2175, 'knife': 2176, 'deserved': 2177, 'raped': 2178, 'luckily': 2179, 'playoff': 2180, 'mins': 2181, 'runs': 2182, 'gods': 2183, 'cruel': 2184, 'nowhere': 2185, 'woke': 2186, 'cream': 2187, 'button': 2188, 'entitled': 2189, 'leg': 2190, 'planet': 2191, 'mods': 2192, 'commenting': 2193, 'stomach': 2194, 'asap': 2195, 'frame': 2196, 'downtown': 2197, 'fly': 2198, 'rookie': 2199, 'plastic': 2200, 'downvoting': 2201, 'actions': 2202, 'depression': 2203, '🤔': 2204, 'disorder': 2205, 'promise': 2206, 'immediately': 2207, 'gym': 2208, 'decisions': 2209, 'violence': 2210, 'comic': 2211, 'bf': 2212, 'progress': 2213, 'wedding': 2214, 'sleeping': 2215, 'matches': 2216, 'depressed': 2217, 'scum': 2218, 'chose': 2219, 'cutting': 2220, 'bloody': 2221, 'boss': 2222, 'surprising': 2223, 'threw': 2224, 'breath': 2225, 'respond': 2226, 'texas': 2227, 'heaven': 2228, 'triggered': 2229, 'bringing': 2230, 'tag': 2231, 'design': 2232, 'corporate': 2233, 'apple': 2234, 'workers': 2235, 'rise': 2236, 'tf': 2237, 'following': 2238, 'products': 2239, 'praying': 2240, 'bread': 2241, 'bite': 2242, 'conservatives': 2243, 'proven': 2244, 'patient': 2245, 'delusional': 2246, 'sea': 2247, 'amazon': 2248, 'virgin': 2249, 'horrifying': 2250, 'prices': 2251, 'bc': 2252, 'embarrassed': 2253, 'ran': 2254, 'cast': 2255, 'benefit': 2256, 'stops': 2257, 'owners': 2258, 'significant': 2259, 'drawing': 2260, 'pls': 2261, 'stopping': 2262, 'justice': 2263, 'planning': 2264, 'he’d': 2265, 'attracted': 2266, 'birth': 2267, 'gm': 2268, 'messed': 2269, 'fingers': 2270, 'offensive': 2271, 'v': 2272, 'picked': 2273, 'usual': 2274, 'grown': 2275, 'topic': 2276, 'insight': 2277, 'recognize': 2278, 'feminism': 2279, '5th': 2280, 'counter': 2281, 'refs': 2282, 'intense': 2283, 'metal': 2284, 'kicked': 2285, 'ironically': 2286, 'ahh': 2287, 'clip': 2288, 'threads': 2289, 'fbi': 2290, 'kick': 2291, 'famous': 2292, 'separate': 2293, 'united': 2294, 'aside': 2295, 'standards': 2296, 'national': 2297, 'gotcha': 2298, 'prepared': 2299, 'via': 2300, 'freak': 2301, 'iq': 2302, 'propaganda': 2303, 'combat': 2304, 'pink': 2305, 'brand': 2306, 'hype': 2307, 'documentary': 2308, 'kiss': 2309, 'lights': 2310, 'assault': 2311, 'possibility': 2312, 'sarcasm': 2313, 'boi': 2314, 'staff': 2315, 'salty': 2316, 'crisis': 2317, '1000': 2318, 'gf': 2319, 'talented': 2320, 'cap': 2321, 'bomb': 2322, 'gop': 2323, 'whats': 2324, 'marry': 2325, 'woah': 2326, 'consent': 2327, 'university': 2328, 'location': 2329, 'shop': 2330, 'confirmed': 2331, 'provided': 2332, 'uses': 2333, 'beginning': 2334, 'fool': 2335, 'anytime': 2336, 'realise': 2337, 'democracy': 2338, 'sources': 2339, 'horribly': 2340, 'cried': 2341, 'situations': 2342, 'profit': 2343, 'suffer': 2344, \"could've\": 2345, 'warning': 2346, 'beach': 2347, 'annoyed': 2348, 'attacks': 2349, 'lane': 2350, 'bears': 2351, 'travel': 2352, 'homeless': 2353, '22': 2354, 'irl': 2355, 'checks': 2356, 'ain’t': 2357, 'who’s': 2358, 'march': 2359, 'load': 2360, 'comedy': 2361, 'bye': 2362, 'unique': 2363, 'theme': 2364, 'alot': 2365, 'insults': 2366, 'plate': 2367, 'mentally': 2368, 'minimum': 2369, 'employees': 2370, 'useful': 2371, 'tinder': 2372, 'solve': 2373, 'hatred': 2374, 'bay': 2375, 'aim': 2376, 'cities': 2377, 'you’d': 2378, 'wide': 2379, 'illness': 2380, 'slowly': 2381, 'legitimate': 2382, 'mark': 2383, 'edgy': 2384, 'shutdown': 2385, 'dig': 2386, 'bullet': 2387, 'criminal': 2388, 'killer': 2389, 'hah': 2390, 'revenge': 2391, 'meh': 2392, 'sarcastic': 2393, 'ooh': 2394, 'wishing': 2395, 'screenshot': 2396, '99': 2397, \"someone's\": 2398, 'trolls': 2399, 'pulling': 2400, 'aggressive': 2401, 'tea': 2402, 'blow': 2403, 'egg': 2404, 'passing': 2405, 'hopes': 2406, 'roads': 2407, 'nor': 2408, 'pretending': 2409, 'dc': 2410, 'corrected': 2411, 'offseason': 2412, 'frustrating': 2413, 'union': 2414, 'appears': 2415, 'talks': 2416, 'plant': 2417, 'weather': 2418, 'incel': 2419, 'decades': 2420, 'socialist': 2421, 'corner': 2422, 'sensitive': 2423, 'celebrate': 2424, 'nyc': 2425, 'held': 2426, 'scream': 2427, 'minor': 2428, 'profile': 2429, 'begin': 2430, 'insecure': 2431, 'mountain': 2432, 'sky': 2433, 'tries': 2434, 'required': 2435, 'surgery': 2436, 'burned': 2437, 'yelling': 2438, 'sun': 2439, 'climate': 2440, 'choices': 2441, 'seek': 2442, 'olds': 2443, 'acts': 2444, 'gg': 2445, 'detroit': 2446, 'strangers': 2447, 'mediocre': 2448, 'groups': 2449, 'havent': 2450, 'guard': 2451, 'lakers': 2452, 'condition': 2453, 'bug': 2454, 'podcast': 2455, 'snake': 2456, 'amazed': 2457, 'analogy': 2458, 'financial': 2459, 'g': 2460, 'grade': 2461, 'jeez': 2462, 'budget': 2463, 'nba': 2464, 'ultimate': 2465, 'training': 2466, 'material': 2467, 'weapon': 2468, 'rage': 2469, 'harassment': 2470, 'closed': 2471, 'injuries': 2472, 'lied': 2473, 'reminding': 2474, 'bridge': 2475, 'masculinity': 2476, 'edited': 2477, 'effective': 2478, 'escape': 2479, 'whoa': 2480, 'whose': 2481, 'disturbing': 2482, 'it’ll': 2483, 'flex': 2484, 'conspiracy': 2485, 'designed': 2486, 'birds': 2487, 'dang': 2488, 'bitter': 2489, 'tier': 2490, '“the': 2491, 'purple': 2492, 'smoke': 2493, 'mask': 2494, 'laid': 2495, 'plans': 2496, 'we’ve': 2497, 'ripped': 2498, '80': 2499, 'ye': 2500, 'fetish': 2501, 'mistakes': 2502, 'becomes': 2503, 'identity': 2504, 'debt': 2505, 'loses': 2506, 'socially': 2507, 'lock': 2508, 'blew': 2509, 'adding': 2510, 'wine': 2511, 'fill': 2512, 'serve': 2513, 'native': 2514, 'trigger': 2515, 'vid': 2516, 'pulled': 2517, '’': 2518, 'donate': 2519, 'badass': 2520, 'bike': 2521, 'cursed': 2522, 'roster': 2523, 'entertaining': 2524, 'pointless': 2525, 'valuable': 2526, 'ourselves': 2527, 'forcing': 2528, \"that'd\": 2529, 'row': 2530, 'justify': 2531, 'limit': 2532, 'daddy': 2533, 'faster': 2534, 'opening': 2535, 'doctors': 2536, 'mix': 2537, 'bitcoin': 2538, 'they’ve': 2539, 'rams': 2540, 'services': 2541, 'everyday': 2542, 'soft': 2543, 'practice': 2544, 'clarification': 2545, 'details': 2546, 'holiday': 2547, 'somewhat': 2548, 'articles': 2549, 'treated': 2550, 'tongue': 2551, \"that'll\": 2552, 'reported': 2553, 'sooo': 2554, 'finds': 2555, 'canadian': 2556, 'ffs': 2557, 'punch': 2558, 'murdered': 2559, 'democrats': 2560, 'cheat': 2561, 'legally': 2562, 'powerful': 2563, 'progressive': 2564, 'explains': 2565, 'tweets': 2566, 'silver': 2567, 'theres': 2568, 'civil': 2569, 'improve': 2570, 'project': 2571, 'strike': 2572, 'released': 2573, 'member': 2574, 'distance': 2575, 'hunting': 2576, 'belongs': 2577, 'chief': 2578, 'actively': 2579, 'enemy': 2580, 'journey': 2581, 'skip': 2582, 'independent': 2583, 'species': 2584, 'empathy': 2585, 'nazi': 2586, 'thousand': 2587, 'utah': 2588, 'defending': 2589, 'smaller': 2590, 'cookies': 2591, 'members': 2592, 'humanity': 2593, 'strength': 2594, 'caring': 2595, 'mindset': 2596, 'addiction': 2597, 'listened': 2598, 'accepted': 2599, 'wage': 2600, 'obsessed': 2601, 'competitive': 2602, 'baseball': 2603, 'honor': 2604, 'minority': 2605, 'fancy': 2606, 'grandma': 2607, 'equal': 2608, 'realizing': 2609, 'picking': 2610, 'coast': 2611, 'leader': 2612, 'quarter': 2613, 'relief': 2614, 'spelling': 2615, 'stats': 2616, 'disease': 2617, 'disappointment': 2618, 'comeback': 2619, 'prevent': 2620, 'effects': 2621, 'absurd': 2622, 'chuckle': 2623, 'douche': 2624, 'spin': 2625, 'bible': 2626, 'toy': 2627, 'remotely': 2628, 'particularly': 2629, 'commit': 2630, 'ear': 2631, 'officer': 2632, 'volume': 2633, '😍': 2634, 'exciting': 2635, 'locked': 2636, 'highlights': 2637, 'wealth': 2638, 'gain': 2639, 'wasting': 2640, 'unironically': 2641, 'quiet': 2642, 'blows': 2643, 'stress': 2644, 'bothered': 2645, 'official': 2646, 'loose': 2647, 'elsewhere': 2648, 'fortnite': 2649, 'tight': 2650, 'comparing': 2651, 'killers': 2652, 'fyi': 2653, 'instant': 2654, 'scenario': 2655, 'necessarily': 2656, 'hmmm': 2657, 'parts': 2658, 'brexit': 2659, 'windows': 2660, 'misleading': 2661, 'heavily': 2662, 'patch': 2663, 'victim': 2664, 'spam': 2665, 'believing': 2666, 'stunning': 2667, 'competition': 2668, 'blocked': 2669, 'alcohol': 2670, 'insulting': 2671, 'coaching': 2672, 'delivery': 2673, 'falls': 2674, '70': 2675, 'seats': 2676, 'england': 2677, 'pump': 2678, 'reverse': 2679, 'sentences': 2680, 'neat': 2681, 'hidden': 2682, 'clapped': 2683, 'bucks': 2684, \"it'd\": 2685, 'rolling': 2686, 'leafs': 2687, 'thx': 2688, 'europe': 2689, 'click': 2690, 'hardest': 2691, 'bell': 2692, 'marketing': 2693, 'console': 2694, 'meds': 2695, 'bait': 2696, 'described': 2697, 'crimes': 2698, 'sport': 2699, 'relax': 2700, 'oops': 2701, 'shoulder': 2702, 'twist': 2703, 'equally': 2704, 'here’s': 2705, 'gaming': 2706, 'lil': 2707, 'smash': 2708, '27': 2709, 'iirc': 2710, 'manage': 2711, 'irrelevant': 2712, 'present': 2713, 'increase': 2714, 'juicy': 2715, 'childhood': 2716, 'empire': 2717, 'aunt': 2718, 'review': 2719, 'hating': 2720, 'shite': 2721, 'ontario': 2722, 'lips': 2723, 'walked': 2724, '200': 2725, 'rejected': 2726, 'comparison': 2727, 'pieces': 2728, 'intelligent': 2729, 'guilt': 2730, 'dems': 2731, 'file': 2732, 'feminist': 2733, 'meta': 2734, 'tips': 2735, 'direction': 2736, 'whining': 2737, 'aha': 2738, 'nowadays': 2739, '😊': 2740, 'autism': 2741, 'un': 2742, 'throws': 2743, 'drives': 2744, 'pasta': 2745, 'discuss': 2746, 'bang': 2747, 'hill': 2748, 'narrative': 2749, 'experienced': 2750, 'stayed': 2751, 'tape': 2752, 'saints': 2753, 'dollar': 2754, 'fascism': 2755, 'coincidence': 2756, 'bots': 2757, 'nights': 2758, 'glasses': 2759, 'disney': 2760, 'swing': 2761, 'st': 2762, 'accent': 2763, 'explained': 2764, 'creative': 2765, 'unit': 2766, 'unlike': 2767, 'types': 2768, 'candidate': 2769, 'chinese': 2770, 'ticket': 2771, 'winner': 2772, 'differently': 2773, 'thus': 2774, 'saturday': 2775, 'germany': 2776, 'depth': 2777, 'repeat': 2778, 'sacrifice': 2779, 'status': 2780, 'dodged': 2781, 'goat': 2782, 'stock': 2783, 'artist': 2784, 'supportive': 2785, '45': 2786, 'plane': 2787, 'rank': 2788, 'skins': 2789, 'utterly': 2790, 'station': 2791, 'january': 2792, 'mum': 2793, 'combo': 2794, 'ordered': 2795, 'beliefs': 2796, 'threat': 2797, 'empty': 2798, 'wind': 2799, 'labour': 2800, 'convinced': 2801, 'meth': 2802, 'h': 2803, 'damnit': 2804, 'awhile': 2805, 'y’all': 2806, 'areas': 2807, 'pats': 2808, 'generic': 2809, '26': 2810, 'rush': 2811, 'charged': 2812, 'ig': 2813, 'convince': 2814, 'india': 2815, 'experiences': 2816, 'steam': 2817, 'successful': 2818, 'owned': 2819, 'liar': 2820, 'japan': 2821, 'fascinating': 2822, 'scored': 2823, 'toddler': 2824, 'judging': 2825, 'scotland': 2826, 'century': 2827, 'turkey': 2828, 'scenes': 2829, 'beta': 2830, 'favor': 2831, 'struggle': 2832, 'confusing': 2833, 'menu': 2834, 'fox': 2835, 'correctly': 2836, 'cooking': 2837, 'vibe': 2838, 'chick': 2839, 'skill': 2840, 'server': 2841, 'toronto': 2842, 'elite': 2843, 'stone': 2844, 'suspect': 2845, 'popcorn': 2846, 'honesty': 2847, 'butter': 2848, 'we’ll': 2849, 'optimistic': 2850, 'funnier': 2851, 'nail': 2852, 'worker': 2853, 'arguments': 2854, 'access': 2855, 'york': 2856, 'compliment': 2857, 'smells': 2858, 'picks': 2859, 'de': 2860, 'among': 2861, 'wings': 2862, 'replying': 2863, 'eyebrows': 2864, 'assumed': 2865, 'ignoring': 2866, 'confusion': 2867, 'invite': 2868, 'international': 2869, 'pair': 2870, 'bumper': 2871, 'ppl': 2872, 'arguing': 2873, 'lay': 2874, 'atheist': 2875, 'ny': 2876, 'smug': 2877, \"she'd\": 2878, 'decade': 2879, 'checking': 2880, 'nurse': 2881, 'agent': 2882, 'pride': 2883, 'tone': 2884, 'worthless': 2885, 'prayers': 2886, 'worrying': 2887, 'developed': 2888, 'ham': 2889, 'browns': 2890, 'opened': 2891, 'address': 2892, 'loop': 2893, 'dropping': 2894, 'weren’t': 2895, 'upvoted': 2896, 'raised': 2897, 'people’s': 2898, 'yeh': 2899, 'companies': 2900, 'equivalent': 2901, 'moral': 2902, 'sand': 2903, 'burning': 2904, 'rap': 2905, 'miserable': 2906, 'welp': 2907, 'barrel': 2908, 'fits': 2909, 'bird': 2910, 'sexually': 2911, 'homophobic': 2912, 'immigration': 2913, 'recovery': 2914, 'handled': 2915, 'bias': 2916, 'measure': 2917, 'evening': 2918, 'liking': 2919, 'stance': 2920, 'teen': 2921, 'included': 2922, 'spirit': 2923, 'morons': 2924, 'shape': 2925, '😂😂': 2926, 'hurting': 2927, 'dump': 2928, 'shocking': 2929, 'kinds': 2930, 'central': 2931, '2017': 2932, 'require': 2933, 'millennials': 2934, 'burns': 2935, 'starter': 2936, 'hack': 2937, 'embarrassment': 2938, 'franchise': 2939, 'panic': 2940, 'orders': 2941, 'heroes': 2942, 'stronger': 2943, 'consistently': 2944, 'cringy': 2945, 'causing': 2946, 'path': 2947, 'exclusive': 2948, 'grab': 2949, 'ceiling': 2950, 'bones': 2951, 'chest': 2952, 'armor': 2953, 'safety': 2954, 'served': 2955, 'wishes': 2956, 'streak': 2957, 'cleared': 2958, 'accused': 2959, 'ruining': 2960, 'heal': 2961, 'vile': 2962, 'taught': 2963, 'copy': 2964, 'pushed': 2965, 'answers': 2966, 'blaming': 2967, 'mexico': 2968, 'hardcore': 2969, 'causes': 2970, 'laughs': 2971, 'housing': 2972, 'forgotten': 2973, 'max': 2974, 'spell': 2975, 'jerseys': 2976, 'tons': 2977, 'knee': 2978, 'bacon': 2979, 'israel': 2980, 'primary': 2981, 'stretch': 2982, 'disrespect': 2983, 'democratic': 2984, 'ftfy': 2985, 'assaulted': 2986, 'cutest': 2987, 'happily': 2988, 'trailer': 2989, 'romantic': 2990, 'vacation': 2991, 'square': 2992, 'condescending': 2993, 'horny': 2994, 'oc': 2995, 'criticism': 2996, 'passive': 2997, 'aint': 2998, 'sale': 2999, 'awareness': 3000, 'zone': 3001, '300': 3002, 'spreading': 3003, 'syndrome': 3004, 'appearance': 3005, 'mentioning': 3006, 'western': 3007, 'exposed': 3008, 'stage': 3009, 'pee': 3010, 'da': 3011, 'blatant': 3012, 'computer': 3013, 'mac': 3014, 'homes': 3015, 'auto': 3016, 'clown': 3017, 'congress': 3018, 'pounds': 3019, 'apartment': 3020, 'foul': 3021, 'frozen': 3022, 'addition': 3023, 'juice': 3024, 'bills': 3025, 'comfort': 3026, 'bulls': 3027, 'november': 3028, '2012': 3029, 'updated': 3030, 'spread': 3031, 'sadness': 3032, 'citizens': 3033, 'clarify': 3034, 'asks': 3035, 'setting': 3036, 'core': 3037, 'combined': 3038, 'recall': 3039, 'reveal': 3040, 'outcome': 3041, 'scare': 3042, 'appear': 3043, 'cult': 3044, 'significantly': 3045, 'fallen': 3046, 'arrow': 3047, 'miracle': 3048, 'aged': 3049, 'clock': 3050, 'arrest': 3051, 'snap': 3052, 'ups': 3053, 'dates': 3054, 'retail': 3055, 'maga': 3056, 'dies': 3057, 'basket': 3058, 'mommy': 3059, 'leaning': 3060, 'fa': 3061, 'clueless': 3062, 'recommendation': 3063, 'belt': 3064, 'stated': 3065, 'direct': 3066, 'kitchen': 3067, 'flames': 3068, 'logical': 3069, 'supports': 3070, 'reads': 3071, 'audio': 3072, 'screams': 3073, 'overrated': 3074, 'nsfw': 3075, 'economic': 3076, 'various': 3077, 'references': 3078, 'bump': 3079, 'thru': 3080, 'eggs': 3081, 'signs': 3082, 'fam': 3083, 'factor': 3084, 'invisible': 3085, 'oddly': 3086, 'responded': 3087, 'believes': 3088, 'removing': 3089, 'finger': 3090, 'translation': 3091, 'highest': 3092, 'industry': 3093, 'pp': 3094, 'afterwards': 3095, 'boots': 3096, 'panel': 3097, 'blessed': 3098, 'creep': 3099, 'boston': 3100, 'italian': 3101, 'chocolate': 3102, 'disaster': 3103, 'spanish': 3104, 'tickets': 3105, 'washington': 3106, 'puck': 3107, 'raw': 3108, 'convert': 3109, 'toast': 3110, 'hats': 3111, 'sucked': 3112, 'sugar': 3113, '7th': 3114, 'thin': 3115, 'vague': 3116, 'corrupt': 3117, 'catching': 3118, 'officially': 3119, 'item': 3120, 'expectations': 3121, 'emotionally': 3122, 'moms': 3123, \"should've\": 3124, 'pal': 3125, '31': 3126, 'device': 3127, 'flip': 3128, 'product': 3129, 'therefore': 3130, 'unbelievable': 3131, 'victory': 3132, 'backwards': 3133, 'platform': 3134, 'sunday': 3135, 'beating': 3136, 'nailed': 3137, 'dealing': 3138, 'desire': 3139, 'reward': 3140, 'unattractive': 3141, 'colors': 3142, 'engage': 3143, 'typically': 3144, 'searching': 3145, 'benefits': 3146, 'leads': 3147, 'jumping': 3148, 'dope': 3149, 'opens': 3150, 'quoting': 3151, 'controlling': 3152, 'coward': 3153, 'behaviour': 3154, 'boobs': 3155, 'receiving': 3156, 'pun': 3157, 'circumstances': 3158, 'beans': 3159, 'rarely': 3160, 'limited': 3161, 'wikipedia': 3162, 'stereotype': 3163, 'vibes': 3164, 'donald': 3165, 'hundreds': 3166, 'cure': 3167, 'lad': 3168, 'blast': 3169, \"wife's\": 3170, 'mama': 3171, 'fav': 3172, 'kissing': 3173, 'burgers': 3174, 'googled': 3175, 'nicer': 3176, 'license': 3177, 'intelligence': 3178, 'bully': 3179, 'weapons': 3180, 'react': 3181, 'cycle': 3182, 'reporting': 3183, 'filthy': 3184, 'statements': 3185, 'minds': 3186, 'hop': 3187, 'input': 3188, 'upper': 3189, 'handling': 3190, 'forgive': 3191, 'gear': 3192, 'flowers': 3193, 'headline': 3194, 'commitment': 3195, 'solved': 3196, 'remains': 3197, 'southern': 3198, 'drafted': 3199, 'existence': 3200, 'genocide': 3201, 'relatively': 3202, 'ours': 3203, 'clarifying': 3204, 'proves': 3205, 'trap': 3206, 'defeat': 3207, 'stolen': 3208, 'inches': 3209, 'blown': 3210, 'gen': 3211, 'families': 3212, 'sin': 3213, 'pen': 3214, 'noise': 3215, 'spoken': 3216, 'wolves': 3217, 'praise': 3218, 'turd': 3219, 'backup': 3220, '23': 3221, 'hall': 3222, 'abandoned': 3223, 'pets': 3224, 'penalty': 3225, 'realistic': 3226, 'san': 3227, 'incorrect': 3228, 'mint': 3229, 'previously': 3230, 'privilege': 3231, 'tasty': 3232, 'leaves': 3233, 'pills': 3234, 'envy': 3235, 'pr': 3236, 'comrade': 3237, 'hook': 3238, 'compare': 3239, 'beast': 3240, 'raping': 3241, 'poverty': 3242, 'whatsoever': 3243, 'rooting': 3244, 'chef': 3245, 'umm': 3246, 'rounds': 3247, 'texting': 3248, 'received': 3249, 'ap': 3250, 'hella': 3251, 'improved': 3252, 'monday': 3253, 'they’ll': 3254, '😅': 3255, 'applied': 3256, 'shooter': 3257, 'asian': 3258, 'crew': 3259, 'fascist': 3260, 'shout': 3261, 'lifetime': 3262, 'root': 3263, 'december': 3264, 'unnecessary': 3265, 'translate': 3266, 'meanwhile': 3267, 'friday': 3268, '¯': 3269, 'desperately': 3270, 'latest': 3271, 'followed': 3272, 'growth': 3273, 'dated': 3274, 'streets': 3275, 'interests': 3276, 'spoiled': 3277, 'subreddits': 3278, 'whoops': 3279, 'y': 3280, 'clothing': 3281, 'manager': 3282, 'critical': 3283, 'rifle': 3284, 'evolution': 3285, 'lions': 3286, 'cnn': 3287, 'eastern': 3288, 'healing': 3289, 'moderate': 3290, 'gang': 3291, 'influence': 3292, 'cod': 3293, 'consequences': 3294, 'deeply': 3295, 'racists': 3296, 'shared': 3297, 'neighborhood': 3298, 'hunt': 3299, 'tested': 3300, 'burger': 3301, 'hanging': 3302, 'feature': 3303, 'amazingly': 3304, 'bi': 3305, 'accounts': 3306, 'connection': 3307, 'dancing': 3308, 'cousin': 3309, 'couples': 3310, 'holes': 3311, 'library': 3312, 'ab': 3313, 'shaming': 3314, 'subscribed': 3315, 'replies': 3316, 'screwed': 3317, 'legitimately': 3318, 'balance': 3319, 'squad': 3320, 'creating': 3321, 'marvel': 3322, \"man's\": 3323, 'selling': 3324, 'requires': 3325, 'excuses': 3326, 'sorts': 3327, 'shave': 3328, 'items': 3329, 'bigot': 3330, 'logo': 3331, 'advance': 3332, 'jets': 3333, 'bites': 3334, 'leading': 3335, 'goodbye': 3336, 'storm': 3337, 'fights': 3338, 'sigh': 3339, 'immigrants': 3340, 'underestimate': 3341, 'supporter': 3342, 'soooo': 3343, 'politicians': 3344, 'investigation': 3345, 'sentiment': 3346, 'pig': 3347, 'shake': 3348, 'scares': 3349, 'exchange': 3350, 'counts': 3351, 'fella': 3352, 'imagining': 3353, 'messing': 3354, 'mood': 3355, 'intolerant': 3356, 'imagined': 3357, 'cunt': 3358, 'steelers': 3359, 'neighbors': 3360, 'bastards': 3361, 'rice': 3362, 'handed': 3363, 'abused': 3364, 'bingo': 3365, 'charity': 3366, 'acceptable': 3367, 'calories': 3368, 'rant': 3369, 'alternative': 3370, 'visible': 3371, 'hotel': 3372, 'management': 3373, 'leftists': 3374, 'percent': 3375, 'guarantee': 3376, 'nerve': 3377, 'charges': 3378, 'dramatic': 3379, 'execution': 3380, '90s': 3381, 'satisfying': 3382, 'biology': 3383, 'amen': 3384, 'sore': 3385, 'artists': 3386, 'referendum': 3387, 'refer': 3388, 'genuine': 3389, 'favorites': 3390, 'destruction': 3391, 'bout': 3392, 'mafia': 3393, 'washed': 3394, 'assholes': 3395, 'co': 3396, 'label': 3397, 'movement': 3398, 'fb': 3399, 'clicked': 3400, 'punishment': 3401, 'harm': 3402, 'continues': 3403, 'convenient': 3404, 'electric': 3405, 'nerd': 3406, 'touched': 3407, 'cases': 3408, 'preferred': 3409, 'mutual': 3410, 'equality': 3411, 'ego': 3412, 'biased': 3413, 'adopt': 3414, 'depending': 3415, 'commie': 3416, 'correlation': 3417, 'guaranteed': 3418, 'houses': 3419, 'sue': 3420, 'crossing': 3421, 'cart': 3422, 'rated': 3423, 'doors': 3424, 'events': 3425, 'identify': 3426, 'thankful': 3427, '34': 3428, '😆': 3429, 'bubble': 3430, 'outfit': 3431, 'snack': 3432, 'farm': 3433, 'hateful': 3434, 'happier': 3435, 'belly': 3436, 'dodgers': 3437, 'receive': 3438, 'complicated': 3439, 'delusion': 3440, 'expert': 3441, '“what': 3442, 'stadium': 3443, 'development': 3444, 'supposedly': 3445, 'vaccinate': 3446, 'ohio': 3447, 'activities': 3448, 'bonus': 3449, 'crypto': 3450, 'fashion': 3451, 'knees': 3452, 'rumor': 3453, 'denial': 3454, 'sweaty': 3455, 'hobby': 3456, 'award': 3457, 'controller': 3458, 'hip': 3459, 'mah': 3460, 'sec': 3461, 'diet': 3462, 'unlucky': 3463, 'weirdo': 3464, 'funding': 3465, 'bold': 3466, 'sunny': 3467, 'habits': 3468, 'opposition': 3469, 'speculation': 3470, 'suggesting': 3471, 'clearing': 3472, 'capitalist': 3473, 'mavs': 3474, 'terrorists': 3475, 'worship': 3476, 'inappropriate': 3477, 'zombie': 3478, 'immature': 3479, 'paint': 3480, 'tanks': 3481, 'letter': 3482, 'treatment': 3483, 'host': 3484, 'hers': 3485, 'discrimination': 3486, 'occasionally': 3487, 'ps4': 3488, 'buff': 3489, 'choked': 3490, '😭': 3491, 'ghosted': 3492, '🙄': 3493, 'naive': 3494, 'treats': 3495, 'serial': 3496, 'sticking': 3497, 'attempted': 3498, 'slap': 3499, 'cards': 3500, 'brothers': 3501, 'souls': 3502, 'streaming': 3503, 'colts': 3504, 'correction': 3505, 'succeed': 3506, 'retirement': 3507, 'artifact': 3508, 'greater': 3509, 'emergency': 3510, 'blade': 3511, 'chip': 3512, 'traded': 3513, 'theories': 3514, 'muscle': 3515, 'grinding': 3516, 'courts': 3517, 'legendary': 3518, 'rolls': 3519, 'misread': 3520, 'awe': 3521, 'struggling': 3522, 'nude': 3523, 'peak': 3524, 'vomit': 3525, 'republicans': 3526, 'teenagers': 3527, 'notes': 3528, 'kindness': 3529, 'department': 3530, 'poop': 3531, 'owe': 3532, 'hulu': 3533, 'arsenal': 3534, 'alabama': 3535, 'inevitable': 3536, 'waited': 3537, 'thursday': 3538, 'films': 3539, 'itt': 3540, 'fishing': 3541, 'bipolar': 3542, 'hots': 3543, 'deny': 3544, 'flesh': 3545, 'wages': 3546, 'ordinary': 3547, 'breed': 3548, 'lifestyle': 3549, 'hiding': 3550, 'pistons': 3551, 'administration': 3552, 'funded': 3553, 'fart': 3554, 'bedroom': 3555, 'unicorn': 3556, 'naturally': 3557, 'preference': 3558, 'camp': 3559, 'donuts': 3560, 'print': 3561, 'pocket': 3562, 'iowa': 3563, 'guide': 3564, 'advocating': 3565, 'grammar': 3566, 'redditor': 3567, 'nightmares': 3568, 'shown': 3569, 'beard': 3570, 'constant': 3571, 'letters': 3572, 'bags': 3573, 'superbowl': 3574, 'wire': 3575, 'unethical': 3576, 'controlled': 3577, 'bone': 3578, 'flop': 3579, 'amendment': 3580, 'examples': 3581, 'cared': 3582, 'eaten': 3583, 'height': 3584, 'korea': 3585, 'timeline': 3586, 'submit': 3587, 'straw': 3588, \"else's\": 3589, 'subjective': 3590, 'sooner': 3591, 'pool': 3592, 'acid': 3593, 'tournament': 3594, 'offered': 3595, 'wet': 3596, 'answering': 3597, 'he’ll': 3598, 'severe': 3599, 'schedule': 3600, 'schools': 3601, 'territory': 3602, 'entered': 3603, 'regarding': 3604, 'mission': 3605, 'cough': 3606, 'reached': 3607, 'popped': 3608, 'judges': 3609, 'shitposting': 3610, 'threats': 3611, 'ouch': 3612, 'educated': 3613, 'believed': 3614, 'aspect': 3615, 'fried': 3616, 'impression': 3617, 'statistics': 3618, 'tech': 3619, 'inspired': 3620, 'objective': 3621, 'customer': 3622, 'revolution': 3623, 'communities': 3624, 'jack': 3625, 'signals': 3626, 'informed': 3627, 'crown': 3628, 'actor': 3629, 'messages': 3630, 'opposed': 3631, '101': 3632, 'cancelled': 3633, 'cancel': 3634, 'existing': 3635, 'lick': 3636, 'hundred': 3637, 'anarchist': 3638, 'understandable': 3639, 'arizona': 3640, 'visiting': 3641, 'lineup': 3642, 'mistaken': 3643, 'upsetting': 3644, 'northern': 3645, 'mmmm': 3646, \"where's\": 3647, 'nhl': 3648, 'hm': 3649, 'rumors': 3650, 'obnoxious': 3651, 'package': 3652, 'built': 3653, 'could’ve': 3654, 'realised': 3655, 'parliament': 3656, \"one's\": 3657, 'communication': 3658, 'mic': 3659, 'hired': 3660, 'siblings': 3661, 'claimed': 3662, 'potato': 3663, 'bars': 3664, 'feminists': 3665, 'proving': 3666, 'riding': 3667, 'shits': 3668, 'subject': 3669, 'coke': 3670, 'vikings': 3671, 'panties': 3672, 'minecraft': 3673, 'colour': 3674, 'chain': 3675, 'horrific': 3676, 'pillow': 3677, 'county': 3678, 'ignored': 3679, 'bothers': 3680, 'focused': 3681, 'hahahaha': 3682, 'espn': 3683, 'questionable': 3684, 'bow': 3685, 'rabbit': 3686, 'drove': 3687, 'treason': 3688, 'bros': 3689, 'detailed': 3690, 'terrified': 3691, 'upside': 3692, 'mvp': 3693, 'marked': 3694, 'figures': 3695, 'dash': 3696, 'cam': 3697, 'default': 3698, 'sydney': 3699, 'nc': 3700, 'sensible': 3701, 'fouls': 3702, 'determined': 3703, 'chips': 3704, 'warned': 3705, 'attacking': 3706, 'contracts': 3707, 'vent': 3708, 'transfer': 3709, 'yr': 3710, 'vision': 3711, 'captain': 3712, 'poly': 3713, 'region': 3714, 'protection': 3715, 'razor': 3716, 'gillette': 3717, 'semi': 3718, 'trucks': 3719, 'radical': 3720, 'frustration': 3721, 'condoms': 3722, 'sb': 3723, 'voters': 3724, 'deeper': 3725, 'lip': 3726, 'knock': 3727, 'division': 3728, 'discovered': 3729, 'breathing': 3730, 'intentional': 3731, 'contributing': 3732, 'sheep': 3733, 'curb': 3734, 'resource': 3735, 'soldiers': 3736, 'fed': 3737, 'dragon': 3738, 'expression': 3739, 'obsession': 3740, 'symptoms': 3741, 'sincerely': 3742, 'tagged': 3743, 'fiction': 3744, 'habit': 3745, 'tragic': 3746, 'incident': 3747, 'applies': 3748, '😂😂😂': 3749, 'grand': 3750, 'gosh': 3751, 'mp': 3752, 'lightning': 3753, 'programs': 3754, 'dlc': 3755, 'relatable': 3756, 'household': 3757, 'code': 3758, 'chemistry': 3759, 'sets': 3760, 'az': 3761, 'ghost': 3762, 'fourth': 3763, 'clever': 3764, 'poll': 3765, 'regularly': 3766, 'hahah': 3767, 'actors': 3768, 'wallet': 3769, 'refreshing': 3770, 'props': 3771, 'harassing': 3772, 'discussing': 3773, 'oppression': 3774, 'booze': 3775, 'weirdly': 3776, 'misunderstood': 3777, 'river': 3778, 'signing': 3779, 'variety': 3780, 'hun': 3781, 'paranoid': 3782, 'employee': 3783, 'sink': 3784, 'trend': 3785, 'steel': 3786, 'directed': 3787, 'twins': 3788, 'tribute': 3789, '29': 3790, 'exception': 3791, 'desperation': 3792, 'rational': 3793, 'axe': 3794, 'pi': 3795, 'teenager': 3796, 'maps': 3797, 'dialogue': 3798, 'painting': 3799, 'sites': 3800, 'refusing': 3801, 'terminal': 3802, 'lake': 3803, 'ridiculously': 3804, 'oooh': 3805, 'midwest': 3806, 'additional': 3807, 'yankees': 3808, 'yah': 3809, 'wasted': 3810, 'admitting': 3811, 'basement': 3812, 'failing': 3813, 'dem': 3814, 'confident': 3815, 'fragile': 3816, 'unable': 3817, 'ideology': 3818, 'trashy': 3819, 'cheated': 3820, 'prior': 3821, 'al': 3822, 'shorts': 3823, 'mature': 3824, 'outright': 3825, 'owo': 3826, 'rural': 3827, 'providing': 3828, 'passion': 3829, 'drinks': 3830, 'announced': 3831, 'skinny': 3832, 'friendship': 3833, 'ages': 3834, 'blonde': 3835, 'patriots': 3836, 'reviews': 3837, 'mercy': 3838, 'philly': 3839, 'ol': 3840, 'arc': 3841, 'bodies': 3842, 'controversial': 3843, 'billions': 3844, 'safer': 3845, 'shall': 3846, 'hyped': 3847, 'trapped': 3848, 'medicine': 3849, 'advertising': 3850, 'religions': 3851, 'nation': 3852, 'delight': 3853, 'thick': 3854, 'trees': 3855, 'fascists': 3856, 'educate': 3857, '😁': 3858, 'feedback': 3859, 'rely': 3860, 'ohhhhh': 3861, 'twitch': 3862, 'protest': 3863, 'googling': 3864, 'cleaning': 3865, 'ot': 3866, 'concert': 3867, 'sexuality': 3868, 'pods': 3869, 'toward': 3870, 'nerf': 3871, '400': 3872, 'switched': 3873, 'gta': 3874, 'condolences': 3875, 'pork': 3876, 'naked': 3877, 'gimme': 3878, 'engaged': 3879, 'opponent': 3880, 'socialists': 3881, 'worlds': 3882, 'unhappy': 3883, 'thankfully': 3884, 'doggo': 3885, 'terribly': 3886, 'breakfast': 3887, 'communists': 3888, 'hideous': 3889, 'youve': 3890, 'servers': 3891, 'appropriate': 3892, 'task': 3893, 'users': 3894, 'slavery': 3895, 'spider': 3896, 'plug': 3897, 'seattle': 3898, 'ping': 3899, 'spring': 3900, 'devastating': 3901, 'surprisingly': 3902, 'passionate': 3903, 'proved': 3904, 'era': 3905, 'bull': 3906, 'larger': 3907, 'transit': 3908, 'frustrated': 3909, 'serving': 3910, 'knocked': 3911, 'creates': 3912, 'encouraging': 3913, 'screwing': 3914, 'studies': 3915, 'interaction': 3916, 'bright': 3917, 'replacement': 3918, 'sequel': 3919, 'consideration': 3920, 'vaccines': 3921, 'dominance': 3922, 'wink': 3923, 'fries': 3924, 'saddest': 3925, 'gem': 3926, 'patience': 3927, 'creatures': 3928, 'writers': 3929, 'regrets': 3930, 'savage': 3931, 'emoji': 3932, 'td': 3933, 'packers': 3934, 'phoenix': 3935, 'pat': 3936, 'xbox': 3937, 'boom': 3938, 'walmart': 3939, 'hypocrite': 3940, 'minnesota': 3941, 'timing': 3942, 'republican': 3943, 'pit': 3944, '00': 3945, 'threatening': 3946, 'committing': 3947, 'pos': 3948, 'kitty': 3949, 'fate': 3950, 'attempts': 3951, 'shift': 3952, 'championship': 3953, 'mls': 3954, 'caption': 3955, 'nerves': 3956, 'rating': 3957, 'soo': 3958, 'ca': 3959, '2009': 3960, 'receiver': 3961, 'glue': 3962, 'function': 3963, 'description': 3964, 'candidates': 3965, 'rick': 3966, 'bucket': 3967, 'projection': 3968, 'agency': 3969, 'sized': 3970, 'tbf': 3971, 'guessed': 3972, 'teaching': 3973, 'demand': 3974, 'bb': 3975, 'spark': 3976, 'pie': 3977, 'positions': 3978, 'beings': 3979, 'paragraph': 3980, 'starving': 3981, \"women's\": 3982, 'curse': 3983, 'overly': 3984, 'openly': 3985, 'mock': 3986, \"ol'\": 3987, 'gladly': 3988, 'ruins': 3989, 'headache': 3990, 'grandmother': 3991, 'ty': 3992, 'rates': 3993, 'immoral': 3994, 'lame': 3995, 'amounts': 3996, 'desktop': 3997, 'holidays': 3998, 'authoritarian': 3999, 'comp': 4000, 'craft': 4001, 'projecting': 4002, 'bigotry': 4003, 'subtle': 4004, 'scoring': 4005, 'ads': 4006, '250': 4007, 'strongly': 4008, 'misogyny': 4009, 'rocket': 4010, 'airport': 4011, 'trophy': 4012, 'smooth': 4013, 'knicks': 4014, 'policies': 4015, 'minded': 4016, 'cartoon': 4017, 'bullying': 4018, 'grandparents': 4019, 'atm': 4020, 'messy': 4021, 'jumped': 4022, 'couch': 4023, 'ho': 4024, 'sometime': 4025, 'vehicle': 4026, 'landlord': 4027, 'natty': 4028, 'route': 4029, 'financially': 4030, 'spouse': 4031, 'humble': 4032, 'weigh': 4033, 'coal': 4034, 'dedicated': 4035, 'orlando': 4036, 'method': 4037, 'tear': 4038, 'visited': 4039, 'mouse': 4040, 'closely': 4041, 'homework': 4042, 'masterpiece': 4043, 'returned': 4044, '4chan': 4045, 'worthy': 4046, 'california': 4047, 'forth': 4048, 'backed': 4049, 'identifying': 4050, 'capitalists': 4051, 'nap': 4052, 'narc': 4053, 'vancouver': 4054, 'outraged': 4055, 'highlight': 4056, 'typed': 4057, 'stays': 4058, 'spots': 4059, 'damaging': 4060, 'neo': 4061, 'loans': 4062, 'whataboutism': 4063, 'dumped': 4064, 'commute': 4065, 'prank': 4066, 'essential': 4067, 'noted': 4068, 'betting': 4069, 'generations': 4070, 'consistent': 4071, 'warrant': 4072, 'ni': 4073, 'intj': 4074, 'hadn’t': 4075, 'reduced': 4076, 'soap': 4077, 'smiling': 4078, 'psycho': 4079, 'delay': 4080, 'uncommon': 4081, 'hail': 4082, 'treating': 4083, 'puppy': 4084, 'neighbor': 4085, 'dust': 4086, 'deliberately': 4087, 'earn': 4088, 'eats': 4089, 'tacos': 4090, 'opportunities': 4091, 'ikr': 4092, 'flow': 4093, 'represent': 4094, 'german': 4095, 'miles': 4096, 'duck': 4097, 'furniture': 4098, 'exercise': 4099, 'lore': 4100, 'doom': 4101, 'breakup': 4102, 'touches': 4103, 'morals': 4104, 'ik': 4105, 'sketchy': 4106, 'request': 4107, 'cringey': 4108, 'unfair': 4109, 'irish': 4110, 'trading': 4111, 'survived': 4112, 'maintain': 4113, 'limits': 4114, 'profits': 4115, 'interviews': 4116, 'finishing': 4117, 'cracked': 4118, '—': 4119, 'arse': 4120, 'throughout': 4121, 'relaxing': 4122, 'rats': 4123, 'shark': 4124, 'moon': 4125, 'we’d': 4126, 'rose': 4127, 'sober': 4128, 'efficient': 4129, 'approve': 4130, 'london': 4131, 'meaningless': 4132, 'soda': 4133, 'armour': 4134, 'angle': 4135, 'constitution': 4136, 'raptors': 4137, 'replied': 4138, 'sloppy': 4139, 'gloves': 4140, 'recognized': 4141, 'crash': 4142, 'approach': 4143, 'doc': 4144, 'cocaine': 4145, 'furry': 4146, 'roasting': 4147, 'oblivion': 4148, 'mud': 4149, 'preach': 4150, 'sane': 4151, 'posters': 4152, 'shipping': 4153, 'publicly': 4154, 'chiefs': 4155, 'outrage': 4156, 'queens': 4157, 'pepper': 4158, 'dna': 4159, 'unusual': 4160, 'sight': 4161, 'intended': 4162, 'qbs': 4163, 'shove': 4164, 'pursue': 4165, 'sample': 4166, 'breathe': 4167, 'blowing': 4168, 'acknowledge': 4169, 'boot': 4170, 'trained': 4171, 'placed': 4172, 'divided': 4173, 'struggles': 4174, 'incapable': 4175, 'enjoys': 4176, 'rep': 4177, 'dozens': 4178, 'visa': 4179, 'homie': 4180, '10k': 4181, 'bugs': 4182, 'redditors': 4183, 'festival': 4184, 'ww2': 4185, 'detail': 4186, 'abusing': 4187, 'morally': 4188, 'hood': 4189, 'pleased': 4190, 'recover': 4191, 'fluid': 4192, 'teachers': 4193, 'childish': 4194, 'asexual': 4195, 'fo': 4196, 'korean': 4197, 'bio': 4198, 'spiritual': 4199, 'mentality': 4200, 'gentle': 4201, 'android': 4202, 'smelling': 4203, 'practically': 4204, 'responses': 4205, 'highschool': 4206, 'closing': 4207, 'libertarian': 4208, 'ammo': 4209, 'ships': 4210, 'endless': 4211, 'attorney': 4212, 'concussion': 4213, 'weaker': 4214, 'jam': 4215, 'coverage': 4216, 'odds': 4217, 'alpha': 4218, '😢': 4219, 'rat': 4220, \"guy's\": 4221, 'differences': 4222, 'stoked': 4223, 'kicking': 4224, 'boner': 4225, 'hc': 4226, 'emblem': 4227, 'mall': 4228, 'perk': 4229, 'plain': 4230, 'wood': 4231, 'correcting': 4232, 'utter': 4233, 'followers': 4234, '43': 4235, 'wwe': 4236, 'trilogy': 4237, 'combination': 4238, 'cook': 4239, 'yard': 4240, 'diagnosed': 4241, 'handy': 4242, '☺️': 4243, 'syria': 4244, 'professionals': 4245, 'funds': 4246, 'periods': 4247, 'frequently': 4248, 'coaches': 4249, 'underground': 4250, 'autistic': 4251, 'sharp': 4252, '2014': 4253, 'belief': 4254, 'smashed': 4255, 'bpd': 4256, 'monkeys': 4257, 'dip': 4258, 'powers': 4259, 'rooms': 4260, 'resources': 4261, 'trips': 4262, 'spoiler': 4263, 'lasted': 4264, 'er': 4265, 'greedy': 4266, '🙃': 4267, 'tl': 4268, 'alien': 4269, 'wave': 4270, 'toss': 4271, 'officials': 4272, 'produced': 4273, 'begins': 4274, 'wednesday': 4275, 'afternoon': 4276, 'ptsd': 4277, 'paranoia': 4278, 'misery': 4279, '95': 4280, 'pipe': 4281, 'fps': 4282, 'cousins': 4283, 'doomed': 4284, 'typo': 4285, 'triple': 4286, 'cowards': 4287, 'heels': 4288, 'beats': 4289, 'reflection': 4290, 'updates': 4291, 'valley': 4292, 'commentary': 4293, 'yell': 4294, 'capital': 4295, 'lpt': 4296, 'safely': 4297, 'cooked': 4298, 'validation': 4299, 'brah': 4300, 'tripping': 4301, 'mates': 4302, 'seven': 4303, 'africa': 4304, 'scale': 4305, 'harsh': 4306, 'ruling': 4307, 'gee': 4308, 'thai': 4309, 'harass': 4310, 'practices': 4311, 'mail': 4312, 'mainstream': 4313, 'malicious': 4314, 'chelsea': 4315, 'esteem': 4316, 'legion': 4317, 'representation': 4318, 'dose': 4319, \"person's\": 4320, 'spamming': 4321, 'metro': 4322, 'murdering': 4323, 'folk': 4324, 'grave': 4325, 'admitted': 4326, 'roles': 4327, 'labor': 4328, '48': 4329, 'arguably': 4330, 'recipe': 4331, 'gatekeeping': 4332, 'yourselves': 4333, 'np': 4334, 'reject': 4335, 'ancient': 4336, 'parking': 4337, 'baking': 4338, 'fee': 4339, 'lanes': 4340, 'should’ve': 4341, 'threaten': 4342, 'reflect': 4343, 'finest': 4344, 'ultra': 4345, 'heh': 4346, 'demanding': 4347, 'miami': 4348, 'belong': 4349, 'unreasonable': 4350, 'salad': 4351, 'dependent': 4352, 'emotion': 4353, 'conversations': 4354, 'liver': 4355, 'jaw': 4356, 'willfully': 4357, 'boiled': 4358, 'prob': 4359, 'ohhh': 4360, 'responsibility': 4361, 'quotes': 4362, 'secretly': 4363, 'tires': 4364, 'roast': 4365, 'hopeful': 4366, 'virgins': 4367, 'dat': 4368, 'kissed': 4369, 'temperature': 4370, 'canon': 4371, 'tire': 4372, 'happiest': 4373, 'comforting': 4374, 'iphone': 4375, 'grasp': 4376, 'morty': 4377, 'ref': 4378, 'asia': 4379, 'claiming': 4380, 'ar': 4381, 'production': 4382, 'buzz': 4383, 'bravo': 4384, 'attraction': 4385, 'digging': 4386, 'bbc': 4387, 'director': 4388, 'weirder': 4389, 'systems': 4390, 'collection': 4391, 'homo': 4392, 'eagles': 4393, 'venezuela': 4394, 'starbucks': 4395, '20k': 4396, 'disappoint': 4397, 'reasoning': 4398, 'predator': 4399, 'gawd': 4400, 'furious': 4401, 'basis': 4402, 'cries': 4403, 'survey': 4404, 'victims': 4405, 'listed': 4406, 'underwear': 4407, 'listens': 4408, 'slang': 4409, 'theft': 4410, 'citizen': 4411, 'burst': 4412, 'wut': 4413, 'she’ll': 4414, 'popping': 4415, 'length': 4416, 'gig': 4417, 'doll': 4418, 'ideal': 4419, 'paris': 4420, 'keys': 4421, 'cage': 4422, 'retire': 4423, 'register': 4424, 'sanity': 4425, 'nets': 4426, 'fare': 4427, 'destroying': 4428, 'israeli': 4429, 'string': 4430, 'lottery': 4431, 'ultimately': 4432, 'keen': 4433, 'jeans': 4434, 'shaped': 4435, 'ed': 4436, 'tail': 4437, 'anarchy': 4438, 'bolt': 4439, 'dd': 4440, 'informative': 4441, 'dun': 4442, 'stacked': 4443, 'flash': 4444, 'insert': 4445, 'allows': 4446, 'expand': 4447, 'experts': 4448, 'hypocrisy': 4449, 'usage': 4450, 'document': 4451, 'grandpa': 4452, 'intimacy': 4453, '38': 4454, 'fees': 4455, 'languages': 4456, 'hearts': 4457, 'pointed': 4458, 'essentially': 4459, 'consistency': 4460, 'mets': 4461, 'stroke': 4462, 'offers': 4463, 'affected': 4464, 'sidebar': 4465, 'rescue': 4466, 'nails': 4467, 'defensively': 4468, 'lab': 4469, 'choosing': 4470, 'stabbed': 4471, 'firing': 4472, 'rewatch': 4473, 'clubs': 4474, 'wrap': 4475, 'discussed': 4476, 'fur': 4477, 'hypothetical': 4478, 'vagina': 4479, \"'em\": 4480, 'corn': 4481, 'occurred': 4482, 'sandwich': 4483, 'section': 4484, 'incompetent': 4485, 'tolerance': 4486, 'relieved': 4487, 'knights': 4488, 'spit': 4489, 'ahhhh': 4490, 'choke': 4491, 'tipped': 4492, 'foundation': 4493, 'parenting': 4494, 'indian': 4495, 'ct': 4496, 'tracking': 4497, '8th': 4498, 'highway': 4499, 'reactions': 4500, 'unrelated': 4501, 'woooosh': 4502, 'tattoo': 4503, 'grass': 4504, 'adhd': 4505, 'continuing': 4506, 'someone’s': 4507, 'jk': 4508, 'brigading': 4509, 'icing': 4510, 'elections': 4511, 'volunteer': 4512, 'subtitles': 4513, 'develop': 4514, 'lib': 4515, 'twin': 4516, 'gag': 4517, 'bore': 4518, 'signal': 4519, 'mild': 4520, 'ownership': 4521, 'writes': 4522, 'inspiration': 4523, 'desk': 4524, 'tlj': 4525, 'cognitive': 4526, 'dissonance': 4527, 'tracks': 4528, 'audience': 4529, 'mildly': 4530, 'express': 4531, 'automatically': 4532, 'scroll': 4533, 'closest': 4534, 'anal': 4535, 'steals': 4536, 'lookin': 4537, 'excitement': 4538, 'rubber': 4539, 'sc': 4540, 'scope': 4541, 'relative': 4542, 'boil': 4543, 'tsa': 4544, '“it’s': 4545, 'refuses': 4546, 'knight': 4547, 'flaming': 4548, 'peers': 4549, 'retired': 4550, 'jan': 4551, 'comprehend': 4552, 'someday': 4553, 'muh': 4554, 'coworker': 4555, 'atleast': 4556, 'yt': 4557, 'devs': 4558, 'successfully': 4559, 'tb': 4560, 'appeal': 4561, 'frank': 4562, 'braves': 4563, 'speaker': 4564, 'repeatedly': 4565, 'phew': 4566, 'dumbest': 4567, 'fabricated': 4568, 'touching': 4569, 'shopping': 4570, 'coat': 4571, 'comics': 4572, 'misses': 4573, 'ace': 4574, 'allowing': 4575, 'welfare': 4576, 'reduce': 4577, 'jab': 4578, 'radio': 4579, 'pity': 4580, 'nations': 4581, 'oilers': 4582, 'includes': 4583, 'beforehand': 4584, 'shill': 4585, 'flashbacks': 4586, 'stating': 4587, 'primaries': 4588, 'ankle': 4589, '👍': 4590, 'spoilers': 4591, 'jerking': 4592, 'patients': 4593, 'solves': 4594, 'naughty': 4595, 'junk': 4596, 'pumped': 4597, 'restaurants': 4598, 'frightening': 4599, 'sympathy': 4600, 'caps': 4601, 'assert': 4602, 'verse': 4603, 'network': 4604, 'connect': 4605, 'closure': 4606, 'walks': 4607, 'crappy': 4608, 'april': 4609, 'condom': 4610, 'ole': 4611, 'padres': 4612, 'pages': 4613, 'demons': 4614, 'confirmation': 4615, 'vpn': 4616, 'hr': 4617, 'criteria': 4618, 'initial': 4619, 'blocking': 4620, 'cameras': 4621, 'capable': 4622, 'geez': 4623, 'ranked': 4624, 'explore': 4625, 'sued': 4626, 'skewed': 4627, 'potatoes': 4628, 'command': 4629, 'vegas': 4630, 'melts': 4631, 'censoring': 4632, 'pile': 4633, 'crop': 4634, 'ohhhh': 4635, 'unemployment': 4636, 'agreeing': 4637, 'shorter': 4638, 'heartbreak': 4639, 'japanese': 4640, 'accomplish': 4641, 'unacceptable': 4642, 'opponents': 4643, 'muscles': 4644, 'organs': 4645, 'anarchism': 4646, 'gullible': 4647, 'beneficial': 4648, 'amazes': 4649, 'invited': 4650, 'twenty': 4651, 'riddance': 4652, 'jazz': 4653, 'marijuana': 4654, 'opposing': 4655, 'lean': 4656, 'peoples': 4657, 'noo': 4658, 'flirting': 4659, 'broad': 4660, 'recognizing': 4661, 'technology': 4662, 'quietly': 4663, 'scratch': 4664, 'nauseous': 4665, 'diversity': 4666, 'filter': 4667, 'champion': 4668, 'pregnancy': 4669, 'chemicals': 4670, 'contain': 4671, '😉': 4672, 'chunk': 4673, 'horrendous': 4674, 'bois': 4675, 'nevermind': 4676, '“not': 4677, '41': 4678, 'embrace': 4679, 'amend': 4680, 'backing': 4681, '2010': 4682, 'symbol': 4683, 'kat': 4684, 'graphics': 4685, 'blamed': 4686, 'ep': 4687, 'animation': 4688, 'sword': 4689, 'monkey': 4690, '28': 4691, 'seal': 4692, 'shaving': 4693, 'cells': 4694, 'ocean': 4695, 'mrs': 4696, 'enjoyable': 4697, 'centre': 4698, 'motherfucking': 4699, 'wherever': 4700, 'chargers': 4701, 'imaginary': 4702, 'garden': 4703, 'transportation': 4704, 'qualified': 4705, 'underage': 4706, 'waking': 4707, 'literal': 4708, 'intp': 4709, 'cycling': 4710, 'carried': 4711, 'tampa': 4712, 'origins': 4713, 'costume': 4714, 'broncos': 4715, '2015': 4716, 'sexism': 4717, 'define': 4718, 'est': 4719, 'kfc': 4720, 'phd': 4721, 'cracking': 4722, 'playthrough': 4723, 'shops': 4724, 'values': 4725, 'wreck': 4726, 'spoke': 4727, 'sack': 4728, 'borderline': 4729, 'perceived': 4730, 'misunderstanding': 4731, 'subscribe': 4732, 'contradict': 4733, 'royal': 4734, 'bands': 4735, 'walls': 4736, 'math': 4737, 'pale': 4738, 'challenging': 4739, 'guitar': 4740, 'seed': 4741, 'dinosaur': 4742, 'snacks': 4743, 'shoulders': 4744, 'ordering': 4745, 'whale': 4746, 'improvement': 4747, 'scoop': 4748, 'mans': 4749, 'pressing': 4750, 'entertained': 4751, 'passes': 4752, 'colorado': 4753, 'dish': 4754, 'leftist': 4755, 'darn': 4756, 'pill': 4757, 'manipulation': 4758, 'competent': 4759, 'bp': 4760, \"c'mon\": 4761, '2003': 4762, 'enter': 4763, 'cis': 4764, 'typing': 4765, 'dumpster': 4766, 'bee': 4767, 'spare': 4768, 'nuclear': 4769, 'sounded': 4770, 'philosophies': 4771, 'denying': 4772, 'rambling': 4773, 'crossed': 4774, 'hint': 4775, 'bath': 4776, 'mmm': 4777, 'prayer': 4778, 'assumption': 4779, 'traveling': 4780, 'breast': 4781, 'payments': 4782, '♥️': 4783, 'avatar': 4784, 'behalf': 4785, 'brick': 4786, 'centrist': 4787, 'clutch': 4788, 'encourage': 4789, 'shield': 4790, 'revealed': 4791, 'cows': 4792, 'classes': 4793, 'kindly': 4794, 'waist': 4795, 'subway': 4796, 'buddies': 4797, 'bin': 4798, 'rapid': 4799, 'haired': 4800, 'affairs': 4801, 'cigarettes': 4802, 'morality': 4803, 'voter': 4804, 'compete': 4805, 'lawn': 4806, 'itll': 4807, 'represents': 4808, 'distress': 4809, 'healthier': 4810, 'watches': 4811, 'advanced': 4812, 'aoc': 4813, 'oldest': 4814, 'overwhelming': 4815, 'remembering': 4816, 'cw': 4817, 'austin': 4818, 'universal': 4819, 'interpretation': 4820, 'australian': 4821, 'compassion': 4822, 'constitutional': 4823, 'bullied': 4824, 'balanced': 4825, 'rb': 4826, '“oh': 4827, 'spotify': 4828, 'uploaded': 4829, 'isolated': 4830, 'conscious': 4831, 'harry': 4832, 'potter': 4833, 'shootout': 4834, 'bombs': 4835, 'amirite': 4836, 'elect': 4837, 'format': 4838, 'elaborate': 4839, 'polite': 4840, 'environment': 4841, 'resident': 4842, 'socks': 4843, 'rapists': 4844, 'involve': 4845, 'setup': 4846, 'furries': 4847, 'summary': 4848, 'firm': 4849, 'viewers': 4850, '33': 4851, 'dreaming': 4852, 'spicy': 4853, 'bounce': 4854, 'irrational': 4855, 'flight': 4856, 'hormones': 4857, 'regard': 4858, 'bullies': 4859, 'protein': 4860, 'j': 4861, 'presented': 4862, 'pod': 4863, 'worded': 4864, 'portion': 4865, 'delivered': 4866, 'singing': 4867, 'edition': 4868, 'survival': 4869, 'they’d': 4870, 'drops': 4871, 'stepped': 4872, 'trans': 4873, 'kingdom': 4874, 'ofc': 4875, 'unlikely': 4876, 'intro': 4877, 'defender': 4878, 'sing': 4879, 'aye': 4880, 'oblivious': 4881, 'wisconsin': 4882, 'meaningful': 4883, 'clouds': 4884, 'bottles': 4885, 'survivor': 4886, 'fitting': 4887, 'bid': 4888, 'resolution': 4889, 'fame': 4890, 'faced': 4891, 'banging': 4892, 'sisters': 4893, 'seahawks': 4894, 'dumber': 4895, 'extent': 4896, 'importance': 4897, 'rotation': 4898, 'na': 4899, 'prostitute': 4900, 'chase': 4901, 'dreadful': 4902, 'gum': 4903, 'cow': 4904, 'disrespectful': 4905, 'untrue': 4906, 'arrived': 4907, 'communist': 4908, 'fallout': 4909, 'bama': 4910, 'filth': 4911, 'believable': 4912, 'spends': 4913, '42': 4914, 'shade': 4915, 'payment': 4916, 'contacting': 4917, 'replaced': 4918, 'chicks': 4919, 'wa': 4920, 'hairs': 4921, 'orientation': 4922, 'dxm': 4923, 'harmful': 4924, 'disgust': 4925, 'concerning': 4926, 'unsure': 4927, 'insanely': 4928, 'distant': 4929, 'lego': 4930, 'citizenship': 4931, 'shy': 4932, 'smelly': 4933, 'ai': 4934, 'toe': 4935, \"everyone's\": 4936, 'michigan': 4937, 'mini': 4938, 'shady': 4939, 'temple': 4940, 'nephew': 4941, 'reaching': 4942, 'apps': 4943, 'relatives': 4944, 'resent': 4945, 'locker': 4946, 'wives': 4947, 'angel': 4948, '20s': 4949, 'rounder': 4950, 'introduce': 4951, 'infuriating': 4952, \"world's\": 4953, 'chronic': 4954, 'italy': 4955, 'beg': 4956, 'seeking': 4957, 'laying': 4958, 'darling': 4959, 'deaths': 4960, 'tied': 4961, 'nonetheless': 4962, 'woosh': 4963, 'cell': 4964, 'serves': 4965, 'kit': 4966, 'gentlemen': 4967, 'platforms': 4968, 'outrageous': 4969, 'pays': 4970, 'spoil': 4971, 'ish': 4972, 'confirms': 4973, 'hollywood': 4974, 'effectively': 4975, 'inherently': 4976, 'donation': 4977, 'counting': 4978, 'predictable': 4979, 'foods': 4980, 'vice': 4981, 'sons': 4982, 'noooo': 4983, 'adore': 4984, 'pedophile': 4985, 'upgrade': 4986, 'prospect': 4987, 'factors': 4988, 'dictator': 4989, 'buzzfeed': 4990, 'turkish': 4991, 'houston': 4992, 'granted': 4993, 'avoiding': 4994, 'script': 4995, 'showering': 4996, 'raising': 4997, 'strategy': 4998, 'invest': 4999, 'beautifully': 5000, '͡°': 5001, 'vulnerable': 5002, 'boop': 5003, 'kong': 5004, 'tobacco': 5005, 'tissue': 5006, 'boundaries': 5007, 'electrical': 5008, 'overwatch': 5009, 'toothpaste': 5010, 'mil': 5011, \"dude's\": 5012, 'vr': 5013, 'france': 5014, 'taco': 5015, 'brainwashed': 5016, 'pillows': 5017, 'halfway': 5018, 'witch': 5019, 'ribs': 5020, 'blah': 5021, 'ohh': 5022, 'suits': 5023, 'battles': 5024, 'turnover': 5025, 'multi': 5026, 'losses': 5027, 'savings': 5028, 'toes': 5029, 'mainly': 5030, 'sibling': 5031, 'cheaters': 5032, 'peeps': 5033, 'forgetting': 5034, 'downhill': 5035, 'distract': 5036, 'journalist': 5037, 'sales': 5038, 'jewelry': 5039, 'gov': 5040, \"ma'am\": 5041, 'og': 5042, 'everyone’s': 5043, 'threes': 5044, 'woo': 5045, 'features': 5046, 'goalie': 5047, 'personalities': 5048, 'poison': 5049, 'weekly': 5050, 'chart': 5051, 'wisdom': 5052, 'employed': 5053, 'latter': 5054, 'steer': 5055, 'hysterical': 5056, 'addicted': 5057, 'intention': 5058, 'inconsistent': 5059, 'qualify': 5060, 'complaint': 5061, 'conditions': 5062, 'facial': 5063, 'pew': 5064, 'beef': 5065, 'emails': 5066, 'superior': 5067, 'expired': 5068, 'loaded': 5069, 'blanket': 5070, 'gays': 5071, 'joined': 5072, 'disregard': 5073, 'applying': 5074, 'peta': 5075, 'largely': 5076, 'repent': 5077, 'bake': 5078, 'ama': 5079, 'el': 5080, 'convo': 5081, 'sum': 5082, 'forbid': 5083, 'observation': 5084, 'premier': 5085, 'ops': 5086, 'orthodox': 5087, 'prequels': 5088, 'yum': 5089, 'charming': 5090, 'clone': 5091, 'sonic': 5092, 'cheeky': 5093, 'veganism': 5094, 'involving': 5095, 'ranch': 5096, 'bound': 5097, 'buildings': 5098, 'secular': 5099, 'mystery': 5100, 'marxist': 5101, 'jacket': 5102, 'graduated': 5103, 'september': 5104, 'magnificent': 5105, 'assets': 5106, 'banks': 5107, 'chili': 5108, 'warriors': 5109, 'writer': 5110, 'sperm': 5111, 'allergic': 5112, 'comprehension': 5113, 'owning': 5114, 'records': 5115, 'upload': 5116, 'commentator': 5117, 'rim': 5118, 'mtv': 5119, 'georgia': 5120, 'strongest': 5121, 'turtles': 5122, 'cape': 5123, 'existent': 5124, 'jealousy': 5125, 'sushi': 5126, 'toys': 5127, 'incest': 5128, 'circlejerk': 5129, 'occasions': 5130, 'burden': 5131, 'cowboy': 5132, 'cc': 5133, '47': 5134, 'creeped': 5135, 'trial': 5136, 'refers': 5137, '10x': 5138, 'nvm': 5139, 'wore': 5140, 'virginia': 5141, 'bleeding': 5142, 'rationale': 5143, 'wig': 5144, 'eliminate': 5145, 'headed': 5146, 'iron': 5147, 'saves': 5148, 'cave': 5149, '😤': 5150, 'sweater': 5151, 'vodka': 5152, 'casting': 5153, 'intrigued': 5154, 'lyrics': 5155, 'fooled': 5156, 'implied': 5157, 'subbed': 5158, 'ss': 5159, 'bits': 5160, 'grader': 5161, 'accusation': 5162, 'prick': 5163, 'communicate': 5164, 'domestic': 5165, 'robot': 5166, 'invested': 5167, 'debating': 5168, 'cynical': 5169, 'freaky': 5170, 'carrying': 5171, 'inch': 5172, 'corporations': 5173, 'stepping': 5174, 'cracks': 5175, 'expectation': 5176, 'trope': 5177, 'snapchat': 5178, '“you': 5179, 'gifts': 5180, 'implies': 5181, 'deer': 5182, 'visual': 5183, 'ew': 5184, 'justification': 5185, 'woods': 5186, 'aggressively': 5187, 'minister': 5188, 'secure': 5189, 'reports': 5190, 'establishment': 5191, 'fifth': 5192, 'stable': 5193, 'nonexistent': 5194, 'tune': 5195, 'wheel': 5196, 'chair': 5197, 'democrat': 5198, 'intentionally': 5199, 'baseless': 5200, 'greece': 5201, 'supported': 5202, 'statistical': 5203, 'goofy': 5204, 'queue': 5205, 'tasted': 5206, 'pedo': 5207, 'ma': 5208, 'alternate': 5209, 'murderous': 5210, 'carefully': 5211, 'launch': 5212, 'flags': 5213, 'gut': 5214, 'plz': 5215, 'yknow': 5216, 'symptom': 5217, 'devil': 5218, 'apt': 5219, 'favs': 5220, 'audible': 5221, 'busted': 5222, 'yards': 5223, 'unicorns': 5224, 'candy': 5225, 'brag': 5226, 'happyfriendlybot': 5227, \"must've\": 5228, 'accuses': 5229, 'skeptical': 5230, 'deadly': 5231, 'flipped': 5232, 'semitism': 5233, 'vets': 5234, 'obese': 5235, 'purely': 5236, 'bch': 5237, 'balloon': 5238, 'z': 5239, 'multiplayer': 5240, 'perception': 5241, 'disgusted': 5242, 'coolest': 5243, 'fears': 5244, 'managers': 5245, 'promote': 5246, 'alternatives': 5247, 'torn': 5248, 'percentage': 5249, 'announcers': 5250, 'shameless': 5251, 'pan': 5252, 'waves': 5253, 'tube': 5254, 'overpriced': 5255, 'stores': 5256, 'mysterious': 5257, 'skyrim': 5258, 'classy': 5259, 'maximum': 5260, 'libs': 5261, 'trains': 5262, 'wack': 5263, 'oils': 5264, 'scheme': 5265, 'motion': 5266, 'damned': 5267, 'btc': 5268, 'coin': 5269, 'judgement': 5270, 'mcdonald’s': 5271, 'dealer': 5272, 'dammit': 5273, 'stuffed': 5274, 'gap': 5275, 'scrolling': 5276, 'fashioned': 5277, 'casual': 5278, 'roof': 5279, 'dishes': 5280, 'assists': 5281, 'understands': 5282, 'scorer': 5283, 'digital': 5284, 'speaks': 5285, 'fetus': 5286, 'metaphor': 5287, 'laughter': 5288, 'dragged': 5289, 'lighter': 5290, 'relations': 5291, 'ambulance': 5292, 'cautious': 5293, 'eternal': 5294, 'indiana': 5295, 'roommate': 5296, 'wooosh': 5297, 'controls': 5298, 'diseases': 5299, 'lacking': 5300, 'vanity': 5301, '150': 5302, 'slight': 5303, 'zones': 5304, 'isles': 5305, 'grace': 5306, 'inaccurate': 5307, 'licking': 5308, 'complaints': 5309, 'grip': 5310, 'manila': 5311, '2k': 5312, 'pockets': 5313, 'liberty': 5314, 'troops': 5315, 'brooklyn': 5316, 'psychology': 5317, 'remembered': 5318, 'museum': 5319, 'blitz': 5320, 'toxicity': 5321, 'inspiring': 5322, 'fuel': 5323, 'exploding': 5324, '05': 5325, '2000': 5326, 'gameplay': 5327, 'politician': 5328, 'oregon': 5329, 'pa': 5330, 'laziness': 5331, 'addressed': 5332, 'unrealistic': 5333, 'discover': 5334, 'diss': 5335, 'motherfucker': 5336, 'disgrace': 5337, 'bees': 5338, 'custom': 5339, 'secondary': 5340, 'veins': 5341, 'stupidly': 5342, 'ツ': 5343, 'musical': 5344, 'millionaire': 5345, 'wicked': 5346, 'describes': 5347, 'mi': 5348, 'stones': 5349, 'theater': 5350, 'automatic': 5351, 'agrees': 5352, 'youth': 5353, 'bummer': 5354, \"tonight's\": 5355, 'windshield': 5356, 'willingly': 5357, 'sticks': 5358, 'covers': 5359, 'landed': 5360, 'physique': 5361, 'interact': 5362, 'hears': 5363, 'blizzard': 5364, 'deals': 5365, 'newborn': 5366, 'fundamentally': 5367, 'matching': 5368, 'nicest': 5369, 'doubting': 5370, 'leaf': 5371, 'internal': 5372, 'sleepy': 5373, 'exam': 5374, 'edmonton': 5375, 'hiv': 5376, 'application': 5377, 'agents': 5378, 'thankyou': 5379, 'stink': 5380, 'mlk': 5381, '😔': 5382, 'morbid': 5383, 'frankly': 5384, 'bases': 5385, 'dayz': 5386, 'polish': 5387, '600': 5388, 'gb': 5389, 'beers': 5390, 'presidency': 5391, 'wounds': 5392, 'stan': 5393, 'vanilla': 5394, 'quad': 5395, 'brew': 5396, 'forehead': 5397, 'ties': 5398, 'primarily': 5399, 'polls': 5400, 'originally': 5401, 'ncaa': 5402, '2005': 5403, 'pharma': 5404, 'sunset': 5405, 'van': 5406, 'wound': 5407, 'soggy': 5408, 'vehicles': 5409, 'cuck': 5410, 'giants': 5411, 'ladder': 5412, 'ayyy': 5413, 'continued': 5414, 'supply': 5415, 'campus': 5416, 'columbus': 5417, 'conference': 5418, 'terminology': 5419, 'technical': 5420, 'adopted': 5421, '2011': 5422, 'kudos': 5423, 'baked': 5424, 'squirrel': 5425, 'bachelor': 5426, 'hammer': 5427, 'indicate': 5428, 'newspaper': 5429, 'q': 5430, 'bond': 5431, 'adds': 5432, 'ethnic': 5433, 'sticker': 5434, 'collapse': 5435, 'closet': 5436, 'rushed': 5437, 'conveniently': 5438, 'permanent': 5439, 'divorced': 5440, 'sjw': 5441, 'skull': 5442, 'orgasm': 5443, 'cos': 5444, 'browsing': 5445, 'eager': 5446, 'facing': 5447, 'grief': 5448, 'floating': 5449, 'sooooo': 5450, 'humour': 5451, 'motivation': 5452, 'marginal': 5453, 'similarly': 5454, 'misinformed': 5455, 'nerfed': 5456, 'bf1': 5457, 'purse': 5458, 'whom': 5459, 'darkness': 5460, 'tanking': 5461, 'discovering': 5462, 'shallow': 5463, \"we'd\": 5464, 'shortly': 5465, 'nurses': 5466, 'pricks': 5467, 'tekken': 5468, 'actress': 5469, 'offering': 5470, 'weakness': 5471, 'trillion': 5472, 'ranking': 5473, 'palestine': 5474, 'sufficient': 5475, 'hangs': 5476, 'relaxed': 5477, 'possession': 5478, 'withdrawal': 5479, 'blog': 5480, 'immortal': 5481, 'testing': 5482, 'fools': 5483, 'adventure': 5484, 'individuals': 5485, 'it’d': 5486, 'illegals': 5487, 'mechanics': 5488, 'pole': 5489, 'shouldnt': 5490, 'began': 5491, 'cereal': 5492, 'guidance': 5493, 'prepare': 5494, 'partisan': 5495, 'poking': 5496, 'harassed': 5497, 'fanbase': 5498, 'wat': 5499, 'astounding': 5500, 'fields': 5501, 'resolved': 5502, 'leaks': 5503, 'memorable': 5504, 'bum': 5505, 'whip': 5506, 'posse': 5507, 'committed': 5508, 'tide': 5509, 'hostile': 5510, 'cbd': 5511, 'gaining': 5512, 'xp': 5513, 'craving': 5514, 'momma': 5515, 'legislation': 5516, 'defended': 5517, 'tourney': 5518, 'sa': 5519, 'collusion': 5520, 'lacks': 5521, 'legends': 5522, 'sunk': 5523, 'performing': 5524, 'fallacy': 5525, 'selection': 5526, 'rewatching': 5527, 'objectively': 5528, 'raging': 5529, 'binge': 5530, 'suburban': 5531, 'spiders': 5532, 'gl': 5533, 'rack': 5534, 'european': 5535, 'strip': 5536, '30k': 5537, 'approved': 5538, 'epitome': 5539, 'nine': 5540, 'lawsuit': 5541, 'dynamite': 5542, '75': 5543, 'answered': 5544, 'suspicious': 5545, 'implications': 5546, 'sandwiches': 5547, 'shadow': 5548, 'scenarios': 5549, 'practicing': 5550, 'forum': 5551, 'principle': 5552, 'pad': 5553, 'membership': 5554, 'remake': 5555, 'resume': 5556, \"ex's\": 5557, 'aids': 5558, 'shitpost': 5559, 'client': 5560, 'tradition': 5561, 'topics': 5562, 'whore': 5563, 'physics': 5564, 'apology': 5565, 'reckon': 5566, 'warn': 5567, 'rubbish': 5568, 'directions': 5569, 'coworkers': 5570, '😐': 5571, 'detective': 5572, '911': 5573, '120': 5574, 'boo': 5575, 'durr': 5576, 'swim': 5577, 'chin': 5578, 'exes': 5579, 'blindly': 5580, 'protected': 5581, '3x': 5582, 'introvert': 5583, 'troubles': 5584, 'insightful': 5585, 'clients': 5586, 'medium': 5587, 'trinity': 5588, 'noob': 5589, 'artificial': 5590, 'chosen': 5591, 'thot': 5592, 'myth': 5593, 'upfront': 5594, 'accurately': 5595, 'taxed': 5596, 'stare': 5597, 'pound': 5598, 'texts': 5599, 'yall': 5600, 'grandmas': 5601, \"girl's\": 5602, 'shithole': 5603, 'encountered': 5604, 'sends': 5605, 'throat': 5606, 'earned': 5607, 'dirt': 5608, 'lowkey': 5609, '6th': 5610, 'applaud': 5611, 'pup': 5612, '🤷\\u200d♀️': 5613, 'refund': 5614, 'stack': 5615, 'romance': 5616, 'rental': 5617, 'chubby': 5618, 'plat': 5619, 'dmc': 5620, 'washing': 5621, 'skyline': 5622, 'dentist': 5623, 'produce': 5624, 'extended': 5625, 'scotch': 5626, 'grey': 5627, 'guards': 5628, 'potentially': 5629, 'nj': 5630, 'hobbies': 5631, 'tuned': 5632, 'loan': 5633, 'grateful': 5634, 'arena': 5635, 'salon': 5636, 'shoulda': 5637, 'kings': 5638, 'senate': 5639, 'rocky': 5640, 'appalled': 5641, 'equipment': 5642, 'unite': 5643, 'tendencies': 5644, 'rainbow': 5645, 'allegedly': 5646, 'referenced': 5647, 'decline': 5648, 'silent': 5649, 'chills': 5650, 'satisfaction': 5651, 'ez': 5652, 'historically': 5653, 'flavor': 5654, 'aid': 5655, 'cultural': 5656, 'chamber': 5657, 'activity': 5658, 'terror': 5659, 'sis': 5660, 'mexican': 5661, 'magical': 5662, 'optimism': 5663, 'restrictions': 5664, 'unhinged': 5665, 'libertarians': 5666, 'simultaneously': 5667, 'bat': 5668, 'atheists': 5669, 'unnatural': 5670, 'shred': 5671, 'hut': 5672, 'legalize': 5673, 'introduced': 5674, 'wr': 5675, 'installing': 5676, 'reacting': 5677, 'models': 5678, '👏': 5679, '2008': 5680, 'robots': 5681, \"time's\": 5682, 'institution': 5683, 'copyright': 5684, 'external': 5685, 'expects': 5686, 'object': 5687, 'quarters': 5688, 'stunt': 5689, 'web': 5690, '90’s': 5691, 'punched': 5692, 'mlms': 5693, 'haircut': 5694, 'deck': 5695, 'manipulate': 5696, 'reckless': 5697, 'boiling': 5698, 'slippery': 5699, 'sneak': 5700, 'scamming': 5701, 'bribe': 5702, 'accepting': 5703, 'footage': 5704, 'orleans': 5705, 'brink': 5706, 'returning': 5707, 'diarrhea': 5708, 'torture': 5709, 'elo': 5710, 'pokemon': 5711, 'confession': 5712, 'trivial': 5713, 'unhealthy': 5714, 'delta': 5715, 'alarm': 5716, 'pleasant': 5717, 'realizes': 5718, 'shrooms': 5719, 'bland': 5720, 'doordash': 5721, 'uneducated': 5722, 'policing': 5723, 'settle': 5724, 'tuesday': 5725, 'blatantly': 5726, 'hoped': 5727, 'stew': 5728, 'hoarding': 5729, 'tipping': 5730, 'con': 5731, 'traitor': 5732, 'devils': 5733, 'greasy': 5734, 'hospitals': 5735, 'jpg': 5736, 'biological': 5737, 'fist': 5738, 'babe': 5739, 'credible': 5740, 'journalists': 5741, 'dictatorship': 5742, 'prizes': 5743, 'rings': 5744, 'teammate': 5745, 'disingenuous': 5746, 'sided': 5747, 'racial': 5748, 'unbiased': 5749, 'refused': 5750, 'strangely': 5751, 'flies': 5752, 'forest': 5753, 'leaked': 5754, 'eight': 5755, 'scripted': 5756, 'anniversary': 5757, '❤': 5758, 'darker': 5759, 'twelve': 5760, 'partly': 5761, 'flower': 5762, 'engineer': 5763, 'sessions': 5764, 'dedication': 5765, 'perth': 5766, 'med': 5767, 'promised': 5768, 'wingers': 5769, 'onion': 5770, 'hooked': 5771, 'aa': 5772, 'completed': 5773, 'dps': 5774, '4k': 5775, 'thoughtful': 5776, 'uplifting': 5777, 'snowflakes': 5778, 'freezing': 5779, 'senator': 5780, 'punishing': 5781, 'aimed': 5782, 'referencing': 5783, 'slurs': 5784, 'pinky': 5785, 'metric': 5786, 'established': 5787, 'lift': 5788, 'highs': 5789, 'tools': 5790, 'alas': 5791, 'awake': 5792, 'psychiatrist': 5793, 'platinum': 5794, 'mc': 5795, 'teleport': 5796, 'pedophilia': 5797, 'reaper': 5798, 'spelled': 5799, 'yuck': 5800, 'dev': 5801, 'staring': 5802, 'champ': 5803, '1k': 5804, 'quirky': 5805, 'enthusiasm': 5806, 'nationalism': 5807, \"sub's\": 5808, 'melee': 5809, 'horrid': 5810, 'investigate': 5811, 'scientist': 5812, 'conclusion': 5813, 'gamer': 5814, 'metallica': 5815, 'holds': 5816, 'underweight': 5817, 'pace': 5818, 'papa': 5819, '39': 5820, 'contacts': 5821, 'brands': 5822, 'ethnicity': 5823, 'semester': 5824, 'tends': 5825, 'duty': 5826, 'sweetest': 5827, 'locks': 5828, 'devoid': 5829, 'manga': 5830, 'hows': 5831, 'tryna': 5832, 'salary': 5833, 'indie': 5834, 'cleveland': 5835, 'indoctrinated': 5836, 'flavour': 5837, 'forums': 5838, 'swallow': 5839, 'governments': 5840, 'slept': 5841, 'respects': 5842, 'rolled': 5843, 'hog': 5844, 'shutting': 5845, 'laptop': 5846, 'economy': 5847, 'mines': 5848, 'yer': 5849, 'peach': 5850, 'fridge': 5851, 'ceases': 5852, 'liverpool': 5853, 'cheeks': 5854, 'repeated': 5855, 'port': 5856, 'nominated': 5857, 'thousands': 5858, 'vet': 5859, 'dealt': 5860, 'barriers': 5861, 'sammy': 5862, 'hagar': 5863, 'beijing': 5864, 'notorious': 5865, 'residents': 5866, 'ooo': 5867, 'enabling': 5868, 'armed': 5869, 'monitor': 5870, 'rofl': 5871, 'designers': 5872, 'grain': 5873, 'mere': 5874, 'tearing': 5875, 'realization': 5876, '😒': 5877, '😬': 5878, 'engine': 5879, 'nicely': 5880, 'tenant': 5881, 'bbq': 5882, 'soccer': 5883, 'haircuts': 5884, 'fortunately': 5885, 'operate': 5886, 'drones': 5887, 'shirtless': 5888, 'honorable': 5889, 'signaling': 5890, 'slam': 5891, 'announcement': 5892, 'tweeted': 5893, 'manually': 5894, 'lion': 5895, 'accomplishments': 5896, 'smarter': 5897, 'rethink': 5898, 'suggested': 5899, 'wider': 5900, 'fathers': 5901, 'assumes': 5902, 'dishonest': 5903, 'partners': 5904, 'tad': 5905, 'vanished': 5906, 'routine': 5907, 'fails': 5908, 'freeze': 5909, 'prep': 5910, 'hypocritical': 5911, 'mutually': 5912, 'fighter': 5913, 'nd': 5914, 'wears': 5915, 'promo': 5916, 'mount': 5917, 'unbreakable': 5918, 'virtue': 5919, 'exclusively': 5920, 'demonstrate': 5921, '61': 5922, 'explosion': 5923, 'snowflake': 5924, 'couldnt': 5925, 'pornography': 5926, 'kawhi': 5927, 'valve': 5928, 'checkers': 5929, 'accuracy': 5930, '2002': 5931, 'hacks': 5932, 'denver': 5933, 'childfree': 5934, 'realistically': 5935, 'integrated': 5936, 'whew': 5937, '“we': 5938, 'investments': 5939, 'operating': 5940, '51': 5941, 'stalker': 5942, 'powder': 5943, 'stark': 5944, 'motivated': 5945, 'accents': 5946, 'sacks': 5947, 'alliance': 5948, 'fl': 5949, \"ya'll\": 5950, 'srs': 5951, 'cameo': 5952, 'permanently': 5953, 'singapore': 5954, 'layup': 5955, 'unfamiliar': 5956, 'peed': 5957, 'lightly': 5958, 'douchebag': 5959, 'cubs': 5960, 'contributed': 5961, '🙏': 5962, 'genitals': 5963, 'degenerate': 5964, 'guts': 5965, 'pikachu': 5966, 'towing': 5967, 'crushed': 5968, 'demonize': 5969, 'gp': 5970, 'dank': 5971, 'shotgun': 5972, 'stem': 5973, 'pearl': 5974, 'intensifies': 5975, 'collected': 5976, 'hid': 5977, 'neutrality': 5978, 'prey': 5979, 'portal': 5980, 'altogether': 5981, 'scar': 5982, 'instinct': 5983, 'blunder': 5984, 'novel': 5985, 'alligator': 5986, \"'s\": 5987, 'tab': 5988, 'proportion': 5989, 'splits': 5990, 'mattress': 5991, 'saga': 5992, 'expenses': 5993, 'broccoli': 5994, 'tm': 5995, 'concise': 5996, 'stressful': 5997, 'accomplishment': 5998, 'disagreement': 5999, 'trauma': 6000, 'loneliness': 6001, 'exposing': 6002, 'cuteness': 6003, 'innovative': 6004, 'pitch': 6005, 'dishonesty': 6006, 'funeral': 6007, 'puns': 6008, 'shouting': 6009, 'luxury': 6010, 'mosquito': 6011, 'transition': 6012, 'conservatism': 6013, 'jones': 6014, 'yoga': 6015, 'heading': 6016, 'oooo': 6017, 'empowered': 6018, 'ameen': 6019, '82': 6020, 'fence': 6021, 'drown': 6022, 'diesel': 6023, 'siege': 6024, 'seemingly': 6025, 'lvl': 6026, 'hyper': 6027, 'stud': 6028, 'baker': 6029, 'waitress': 6030, 'tds': 6031, \"y'know\": 6032, 'severity': 6033, 'slide': 6034, 'loads': 6035, 'chaos': 6036, 'pitcher': 6037, 'iv': 6038, 'edibles': 6039, 'gms': 6040, 'filler': 6041, 'antisocial': 6042, 'crab': 6043, 'recreational': 6044, 'recorded': 6045, 'dnc': 6046, 'dive': 6047, 'forms': 6048, 'removal': 6049, 'gangster': 6050, 'me”': 6051, 'dj': 6052, 'migrant': 6053, 'apples': 6054, 'bartender': 6055, 'gesture': 6056, 'fab': 6057, 'slightest': 6058, 'boycott': 6059, 'spinning': 6060, 'poke': 6061, 'mister': 6062, '100k': 6063, 'cali': 6064, 'spray': 6065, 'atheism': 6066, 'mountains': 6067, 'lifelong': 6068, 'cosplay': 6069, 'rangers': 6070, 'britain': 6071, 'loot': 6072, 'boxes': 6073, 'warming': 6074, 'tummy': 6075, 'identical': 6076, 'battlefield': 6077, 'catholicism': 6078, 'ounce': 6079, 'haunting': 6080, 'kittens': 6081, 'politically': 6082, \"children's\": 6083, 'operation': 6084, 'screenshotted': 6085, 'pigs': 6086, 'clubhouse': 6087, 'banter': 6088, 'attract': 6089, 'sneaky': 6090, 'inevitably': 6091, 'galaxy': 6092, 'inner': 6093, 'meantime': 6094, 'ripping': 6095, 'shitposts': 6096, 'brazil': 6097, 'subscribers': 6098, 'studio': 6099, 'inherent': 6100, 'reserved': 6101, 'panthers': 6102, 'que': 6103, 'matchup': 6104, '3000': 6105, 'camps': 6106, 'temporary': 6107, 'instincts': 6108, 'promises': 6109, 'princess': 6110, 'immunity': 6111, 'overweight': 6112, 'stunned': 6113, 'violated': 6114, 'whiny': 6115, 'qcx': 6116, 'funniest': 6117, 'nz': 6118, 'viability': 6119, 'disdain': 6120, 'disappear': 6121, 'facility': 6122, 'tie': 6123, 'pairs': 6124, '19th': 6125, 'structure': 6126, 'pencil': 6127, 'fought': 6128, 'faked': 6129, 'theirs': 6130, 'tougher': 6131, 'extremist': 6132, 'ult': 6133, 'owns': 6134, 'nazis': 6135, 'surrounded': 6136, 'cameraman': 6137, 'theyre': 6138, 'daughters': 6139, 'achieve': 6140, 'corporation': 6141, 'numerous': 6142, 'ccp': 6143, 'acute': 6144, 'indication': 6145, 'hustle': 6146, 'bliss': 6147, 'trustworthy': 6148, 'lover': 6149, 'declare': 6150, 'fil': 6151, 'carbon': 6152, 'zion': 6153, 'ms': 6154, 'treasure': 6155, 'prone': 6156, 'pops': 6157, 'concrete': 6158, 'eve': 6159, 'lb': 6160, 'essays': 6161, 'hawaiian': 6162, 'socialize': 6163, 'trailers': 6164, 'migration': 6165, 'barring': 6166, 'intensity': 6167, 'battery': 6168, 'attend': 6169, 'log': 6170, 'venting': 6171, 'locals': 6172, 'cannon': 6173, 'wouldve': 6174, 'pk': 6175, 'up”': 6176, '“and': 6177, 'where’s': 6178, 'suburbs': 6179, 'commonly': 6180, 'spurs': 6181, 'coyotes': 6182, 'asf': 6183, 'choking': 6184, 'soviet': 6185, 'authoritarianism': 6186, 'gray': 6187, 'decides': 6188, 'remainers': 6189, 'stat': 6190, 'hassle': 6191, 'duel': 6192, 'bamboozled': 6193, 'norm': 6194, 'stubborn': 6195, 'dictionary': 6196, 'unaware': 6197, 'graduate': 6198, 'abroad': 6199, 'themed': 6200, 'ethical': 6201, 'corners': 6202, 'extension': 6203, 'honour': 6204, 'daydream': 6205, 'industrial': 6206, 'ratio': 6207, 'ps': 6208, 'ditto': 6209, 'randomly': 6210, 'cgi': 6211, '2d': 6212, 'tattoos': 6213, 'crashing': 6214, '1200': 6215, 'unanswered': 6216, 'goth': 6217, 'pleasantly': 6218, 'businesses': 6219, 'cotton': 6220, 'admittedly': 6221, 'thumb': 6222, 'gymnastics': 6223, 'protesting': 6224, 'sweat': 6225, 'tour': 6226, 'duh': 6227, 'developing': 6228, '89': 6229, 'intermittent': 6230, 'fasting': 6231, 'jumps': 6232, '1995': 6233, 'overlap': 6234, 'oppose': 6235, 'mcdonalds': 6236, 'drafting': 6237, 'tims': 6238, 'concur': 6239, 'inspire': 6240, 'hay': 6241, 'rides': 6242, 'cycles': 6243, 'fatal': 6244, 'sorted': 6245, 'experiencing': 6246, 'minorities': 6247, 'fathom': 6248, 'osu': 6249, 'invent': 6250, 'leap': 6251, 'insecurities': 6252, 'bragging': 6253, 'fixing': 6254, 'bash': 6255, 'aka': 6256, 'mps': 6257, 'os': 6258, 'swiss': 6259, 'tale': 6260, 'bronze': 6261, 'medication': 6262, 'saudi': 6263, 'laundry': 6264, 'holder': 6265, 'bahaha': 6266, 'mortgage': 6267, 'intimidating': 6268, 'countless': 6269, 'repulsive': 6270, 'apocalypse': 6271, '2006': 6272, 'nye': 6273, 'solely': 6274, '\\u200d♀️': 6275, 'palace': 6276, 'appealing': 6277, 'tumblr': 6278, 'balcony': 6279, 'bengals': 6280, 'liquor': 6281, 'outdated': 6282, 'thirty': 6283, 'threatened': 6284, 'fireworks': 6285, 'losers': 6286, 'scumbag': 6287, 'cord': 6288, 'nut': 6289, 'oppressed': 6290, 'rewind': 6291, 'recovering': 6292, 'scrub': 6293, 'hawks': 6294, 'regarded': 6295, 'analysis': 6296, 'tub': 6297, 'glove': 6298, 'liberate': 6299, 'quest': 6300, 'promotion': 6301, 'intolerance': 6302, 'casually': 6303, 'deja': 6304, 'drew': 6305, 'fiancé': 6306, 'omfg': 6307, 'aliens': 6308, 'gorilla': 6309, 'sliding': 6310, 'wipe': 6311, 'john': 6312, 'profiles': 6313, 'clap': 6314, 'cheering': 6315, 'swollen': 6316, 'theaters': 6317, 'consensus': 6318, 'turtle': 6319, 'apartheid': 6320, 'presents': 6321, 'missouri': 6322, 'occur': 6323, '1996': 6324, 'unreal': 6325, 'cowboys': 6326, 'champions': 6327, 'blasting': 6328, 'dessert': 6329, 'contractors': 6330, 'cannabis': 6331, 'ne': 6332, 'productive': 6333, 'vaccinated': 6334, 'picky': 6335, 'greens': 6336, 'sheesh': 6337, 'recording': 6338, 'freely': 6339, 'agenda': 6340, 'incentive': 6341, 'sudden': 6342, 'ward': 6343, 'nra': 6344, 'duties': 6345, 'trendy': 6346, 'whilst': 6347, 'vested': 6348, 'donations': 6349, 'basics': 6350, 'premise': 6351, '☺': 6352, 'mlm': 6353, 'craziest': 6354, 'worn': 6355, 'burnt': 6356, 'rumble': 6357, 'august': 6358, 'revolve': 6359, 'soup': 6360, 'renting': 6361, 'skinned': 6362, 'recommended': 6363, 'lowest': 6364, 'october': 6365, 'phrasing': 6366, 'ponder': 6367, 'poo': 6368, 'pupper': 6369, 'packed': 6370, 'kansas': 6371, 'valued': 6372, 'liars': 6373, 'champagne': 6374, 'hmmmmm': 6375, 'idiotic': 6376, 'increased': 6377, 'reproduce': 6378, 'processes': 6379, 'horses': 6380, 'singer': 6381, 'gifs': 6382, 'dunk': 6383, 'witnesses': 6384, 'frenzy': 6385, 'leaking': 6386, 'cans': 6387, 'bats': 6388, 'cuddle': 6389, 'responds': 6390, '3s': 6391, 'rebound': 6392, 'pains': 6393, 'ludicrous': 6394, 'intimate': 6395, 'crosspost': 6396, 'grossed': 6397, '😎': 6398, 'shhhh': 6399, '👀': 6400, 'facetious': 6401, 'travesty': 6402, 'speculate': 6403, 'pissy': 6404, 'jordan': 6405, 'fort': 6406, 'remarkably': 6407, 'stfu': 6408, 'wholeheartedly': 6409, 'that’d': 6410, 'crust': 6411, 'owl': 6412, 'mistaking': 6413, 'panicked': 6414, 'consumption': 6415, 'pancakes': 6416, 'pastor': 6417, 'editing': 6418, 'sens': 6419, 'associate': 6420, 'specialists': 6421, 'genre': 6422, 'performances': 6423, 'vampire': 6424, 'islanders': 6425, 'hooray': 6426, 'hof': 6427, 'deserving': 6428, 'minion': 6429, 'peasant': 6430, 'flavors': 6431, 'butts': 6432, 'glow': 6433, 'associated': 6434, 'clemson': 6435, 'stitches': 6436, 'magically': 6437, 'chrome': 6438, 'begone': 6439, 'posing': 6440, '“my': 6441, 'timed': 6442, 'sjws': 6443, 'witness': 6444, 'psychic': 6445, 'avocado': 6446, 'rehab': 6447, 'hipster': 6448, 'resistance': 6449, 'dominate': 6450, 'mayo': 6451, 'stalking': 6452, 'poker': 6453, 'sustainable': 6454, 'seafood': 6455, 'picturing': 6456, 'lap': 6457, 'fighters': 6458, 'purposely': 6459, 'propel': 6460, 'affair': 6461, '“i’m': 6462, 'charts': 6463, 'teammates': 6464, 'risks': 6465, 'ins': 6466, 'rad': 6467, 'raiders': 6468, 'esports': 6469, 'mario': 6470, 'glance': 6471, 'massachusetts': 6472, 'measles': 6473, 'cricket': 6474, 'cafe': 6475, 'exempt': 6476, 'lefty': 6477, 'ga': 6478, 'angels': 6479, 'guardian': 6480, 'le': 6481, 'despise': 6482, 'factions': 6483, 'suggestions': 6484, 'algorithm': 6485, 'faint': 6486, 'sneeze': 6487, 'parallel': 6488, 'apparent': 6489, '36': 6490, 'humiliation': 6491, 'motivate': 6492, 'missions': 6493, 'sideways': 6494, 'imply': 6495, 'steak': 6496, 'momentum': 6497, '70s': 6498, 'initially': 6499, 'asylum': 6500, 'pilot': 6501, 'belfast': 6502, 'cater': 6503, 'tyranny': 6504, 'entitlement': 6505, 'hurr': 6506, 'cruise': 6507, 'bugged': 6508, 'hostage': 6509, 'wished': 6510, 'skeleton': 6511, 'promoting': 6512, 'disco': 6513, 'celebrity': 6514, 'grounds': 6515, 'branches': 6516, 'merely': 6517, 'warmer': 6518, 'pissing': 6519, 'crass': 6520, 'submission': 6521, 'disconnect': 6522, 'immediate': 6523, 'pirate': 6524, 'amusing': 6525, 'tuition': 6526, 'predict': 6527, 'studying': 6528, 'garlic': 6529, 'ml': 6530, 'paypal': 6531, 'remarkable': 6532, 'processed': 6533, 'upcoming': 6534, 'mmo': 6535, 'wrestling': 6536, 'whores': 6537, \"'i\": 6538, 'dawg': 6539, 'meals': 6540, 'censored': 6541, 'fork': 6542, 'oven': 6543, 'rightful': 6544, 'agreement': 6545, 'disheartening': 6546, 'tiddy': 6547, 'sniff': 6548, 'scrubs': 6549, '💕': 6550, 'thesaurus': 6551, 'upsets': 6552, 'connected': 6553, 'lists': 6554, 'righteous': 6555, 'unsee': 6556, 'caliber': 6557, 'jelly': 6558, 'questioning': 6559, 'abortions': 6560, 'belligerent': 6561, 'ow': 6562, 'flame': 6563, 'outdoor': 6564, 'virtual': 6565, 'assured': 6566, 'commercials': 6567, 'seizure': 6568, 'mo': 6569, 'layers': 6570, 'affection': 6571, 'aus': 6572, 'naming': 6573, 'hurry': 6574, 'bagel': 6575, 'tsm': 6576, 'casino': 6577, 'grim': 6578, 'deprecating': 6579, 'disabled': 6580, 'lessons': 6581, 'reposted': 6582, 'encouragement': 6583, 'construct': 6584, 'infrastructure': 6585, 'realm': 6586, 'approaching': 6587, 'jar': 6588, 'aired': 6589, 'probs': 6590, 'convenience': 6591, 'spewing': 6592, 'smashing': 6593, 'bricks': 6594, 'needle': 6595, 'longest': 6596, 'contains': 6597, 'weekends': 6598, 'tooth': 6599, '10th': 6600, 'loyal': 6601, 'delayed': 6602, 'focusing': 6603, 'manhattan': 6604, 'sits': 6605, 'quicker': 6606, 'soil': 6607, 'niece': 6608, 'barf': 6609, 'timeless': 6610, 'beacon': 6611, 'carries': 6612, 'sayin': 6613, 'february': 6614, 'echo': 6615, 'hive': 6616, 'grandfather': 6617, 'outlets': 6618, 'org': 6619, 'voices': 6620, 'manly': 6621, 'aaa': 6622, 'hoo': 6623, 'speedy': 6624, 'yrs': 6625, 'cruz': 6626, 'azul': 6627, 'exposure': 6628, 'specified': 6629, 'council': 6630, 'global': 6631, '01': 6632, 'entertainment': 6633, 'assassin': 6634, 'category': 6635, 'kinky': 6636, 'moderators': 6637, 'icecream': 6638, 'cone': 6639, 'installed': 6640, 'stinks': 6641, 'poisoning': 6642, 'spouting': 6643, 'confront': 6644, 'reconciliation': 6645, \"op's\": 6646, 'emphasize': 6647, 'stupidest': 6648, 'presidents': 6649, 'munchak': 6650, 'dragons': 6651, 'nutjob': 6652, 'listing': 6653, 'affecting': 6654, 'slice': 6655, 'imperialism': 6656, 'colonialism': 6657, 'birthdays': 6658, 'scammed': 6659, 'conclusions': 6660, 'follows': 6661, 'cooler': 6662, 'nagging': 6663, 'versions': 6664, 'largest': 6665, 'sunglasses': 6666, 'lemon': 6667, 'tables': 6668, 'mayhem': 6669, 'consume': 6670, 'consult': 6671, 'reliable': 6672, 'oppressive': 6673, 'hmmmm': 6674, 'adjust': 6675, 'rhetorical': 6676, 'ft': 6677, 'grind': 6678, 'fascinated': 6679, 'prescription': 6680, 'virginity': 6681, 'distinguish': 6682, 'selfie': 6683, 'mob': 6684, 'exhausting': 6685, 'survivors': 6686, 'versa': 6687, 'vicious': 6688, 'frog': 6689, 'shitting': 6690, 'elses': 6691, 'exploited': 6692, 'erased': 6693, 'stamp': 6694, 's1': 6695, 'vegetables': 6696, 'enslave': 6697, 'iran': 6698, 'statistic': 6699, 'overcome': 6700, 'branch': 6701, 'samsung': 6702, 'repeating': 6703, 'tom': 6704, 'enemies': 6705, 'pkk': 6706, 'cope': 6707, '58': 6708, 'targets': 6709, 'legalized': 6710, 'rust': 6711, 'purposeful': 6712, 'doubled': 6713, 'fml': 6714, 'stale': 6715, 'rejection': 6716, 'packs': 6717, 'unconditional': 6718, 'integrity': 6719, 'courageous': 6720, 'catches': 6721, 'savior': 6722, 'tastes': 6723, 'mighty': 6724, 'bmi': 6725, 'punchline': 6726, 'downside': 6727, 'profitable': 6728, 'suggests': 6729, 'trusting': 6730, '“why': 6731, '͜ʖ': 6732, 'rightfully': 6733, 'hong': 6734, 'ironman': 6735, 'anecdote': 6736, 'winnipeg': 6737, 'clips': 6738, 'unlimited': 6739, 'purchase': 6740, 'meats': 6741, 'norms': 6742, 'manner': 6743, 'beam': 6744, 'legacy': 6745, 'ottawa': 6746, 'compromise': 6747, 'nfc': 6748, 'pens': 6749, 'millennial': 6750, 'dodgy': 6751, 'presidential': 6752, 'slower': 6753, 'rocks': 6754, 'commenter': 6755, 'disbelief': 6756, 'cruelty': 6757, 'dsj': 6758, 'prompt': 6759, 'heals': 6760, 'rebel': 6761, 'changer': 6762, 'grocery': 6763, 'contempt': 6764, 'tickle': 6765, 'dlo': 6766, '2013': 6767, 'bra': 6768, 'consuming': 6769, 'arch': 6770, 'deciding': 6771, 'teens': 6772, 'village': 6773, 'citation': 6774, 'representative': 6775, 'worldwide': 6776, 'panther': 6777, 'dunking': 6778, 'aight': 6779, 'silence': 6780, 'titles': 6781, 'athlete': 6782, 'dangerously': 6783, 'stockholm': 6784, 'twisted': 6785, 'pros': 6786, 'practical': 6787, 'blocks': 6788, 'transactions': 6789, '55': 6790, 'relapse': 6791, 'pac': 6792, 'irresponsible': 6793, 'profanity': 6794, 'podcasts': 6795, 'steamed': 6796, 'oklahoma': 6797, 'centrists': 6798, 'reposting': 6799, 'traditional': 6800, 'bam': 6801, 'dairy': 6802, 'fond': 6803, 'ndp': 6804, 'resisting': 6805, 'ws': 6806, 'farther': 6807, 'har': 6808, 'illegally': 6809, 'updoots': 6810, 'lit': 6811, 'aswell': 6812, 'banged': 6813, 'sf': 6814, 'breakdown': 6815, 'slave': 6816, 'falcons': 6817, 'alert': 6818, 'jumper': 6819, 'protecting': 6820, 'witty': 6821, 'revisit': 6822, 'supreme': 6823, 'terrific': 6824, 'diverse': 6825, 'lease': 6826, 'exhibit': 6827, 'shoots': 6828, 'tories': 6829, 'naivety': 6830, 'naw': 6831, 'destiny': 6832, 'resting': 6833, 'posed': 6834, \"woman's\": 6835, 'june': 6836, 'bundle': 6837, 'gc': 6838, 'tower': 6839, 'restraining': 6840, 'neglect': 6841, '32': 6842, 'fever': 6843, 'increases': 6844, 'wonders': 6845, 'ford': 6846, 'snorting': 6847, 'wrapped': 6848, 'headlines': 6849, 'whiskey': 6850, 'isis': 6851, 'describing': 6852, 'sweeter': 6853, 'ruled': 6854, 'libtard': 6855, 'annoys': 6856, 'thorough': 6857, 'registered': 6858, 'threesome': 6859, 'freakin': 6860, 'priest': 6861, 'males': 6862, 'castle': 6863, 'tennis': 6864, 'm8': 6865, 'fury': 6866, 'priceless': 6867, 'giggle': 6868, 'rugby': 6869, 'respectful': 6870, 'moronic': 6871, 'promising': 6872, 'searched': 6873, 'gud': 6874, 'dreaded': 6875, 'annoy': 6876, 'dota': 6877, 'signature': 6878, 'scars': 6879, 'it‘s': 6880, 'stressing': 6881, \"friend's\": 6882, 'seconded': 6883, 'heated': 6884, '350': 6885, 'illegitimate': 6886, 'va': 6887, 'vaccination': 6888, 'temporarily': 6889, 'millionaires': 6890, 'ketchup': 6891, 'wolf': 6892, 'drum': 6893, '72': 6894, 'defeated': 6895, 'chanting': 6896, 'gamers': 6897, 'runner': 6898, 'damning': 6899, 'lbs': 6900, 'oxford': 6901, 'syrup': 6902, '🤗': 6903, 'shining': 6904, 'thanking': 6905, 'farmers': 6906, 'prize': 6907, 'tp': 6908, 'alexa': 6909, 'youtuber': 6910, 'summers': 6911, 'lmaoooo': 6912, 'slot': 6913, 'asses': 6914, 'appointment': 6915, 'brawl': 6916, 'ahah': 6917, 'expose': 6918, 'priests': 6919, 'notion': 6920, 'channels': 6921, 'capture': 6922, 'needing': 6923, 'celtic': 6924, 'stressed': 6925, 'leash': 6926, 'arrows': 6927, '3d': 6928, 'bald': 6929, 'expense': 6930, 'lands': 6931, 'thirsty': 6932, 'sucking': 6933, 'popularity': 6934, 'contest': 6935, 'retain': 6936, 'bleed': 6937, 'wrecks': 6938, 'hash': 6939, 'kicker': 6940, 'pause': 6941, 'announce': 6942, 'capacity': 6943, 'helmet': 6944, 'formal': 6945, 'coffin': 6946, 'constructive': 6947, 'goblin': 6948, 'doses': 6949, 'nominate': 6950, \"how's\": 6951, 'academy': 6952, 'insanity': 6953, 'boxing': 6954, 'implement': 6955, 'bashing': 6956, \"father's\": 6957, 'immigrant': 6958, 'polio': 6959, 'targeting': 6960, 'violation': 6961, 'storyline': 6962, 'activist': 6963, 'jokingly': 6964, 'dense': 6965, 'mentions': 6966, 'cursive': 6967, 'pattern': 6968, 'haters': 6969, 'withdrawals': 6970, 'vocabulary': 6971, 'villain': 6972, 'rooted': 6973, 'extraordinary': 6974, 'tribe': 6975, \"'cause\": 6976, 'behave': 6977, 'expansion': 6978, 'convicted': 6979, 'lawyers': 6980, 'mocking': 6981, 'donut': 6982, 'penny': 6983, 'indigenous': 6984, 'stinky': 6985, 'thicc': 6986, 'psych': 6987, 'slip': 6988, 'pronounce': 6989, 'sins': 6990, 'froze': 6991, 'phase': 6992, 'stranded': 6993, 'accidents': 6994, 'lyft': 6995, 'nursing': 6996, 'headshot': 6997, 'twilight': 6998, 'author': 6999, 'gtfo': 7000, 'dime': 7001, 'slur': 7002, 'okcupid': 7003, \"'im\": 7004, 'elderly': 7005, 'scottish': 7006, 'crippling': 7007, 'midnight': 7008, 'distraction': 7009, 'serenity': 7010, 'swedish': 7011, '1999': 7012, 'dread': 7013, 'delighted': 7014, 'nyxl': 7015, 'hartford': 7016, 'classified': 7017, 'chucking': 7018, 'menace': 7019, \"dad's\": 7020, 'vaginal': 7021, 'involves': 7022, 'slum': 7023, 'stretched': 7024, 'rodeo': 7025, 'brigade': 7026, 'approval': 7027, 'rewarded': 7028, '1500': 7029, 'fantasies': 7030, 'sentient': 7031, 'continuous': 7032, 'transphobes': 7033, 'transphobe': 7034, 'vegans': 7035, 'greek': 7036, 'terrorism': 7037, 'civilians': 7038, 'excluding': 7039, 'begging': 7040, 'intervention': 7041, 'untouchable': 7042, 'afloat': 7043, 'mg': 7044, 'implication': 7045, 'mixups': 7046, 'bestof': 7047, 'supremacist': 7048, 'vax': 7049, 'mtg': 7050, 'beside': 7051, 'triggering': 7052, 'feasible': 7053, 'separation': 7054, \"show's\": 7055, 'versus': 7056, 'dodgeball': 7057, 'cooks': 7058, 'unionist': 7059, 'weirdest': 7060, 'athens': 7061, 'cinema': 7062, 'nt': 7063, 'admin': 7064, 'stoped': 7065, 'beaten': 7066, 'bacteria': 7067, 'tore': 7068, 'labeled': 7069, 'stereotypical': 7070, 'fairfield': 7071, 'backlash': 7072, 'shouldve': 7073, 'awkwardness': 7074, 'sweden': 7075, 'shattered': 7076, 'scythe': 7077, 'broom': 7078, 'pt': 7079, 'abnormal': 7080, 'judged': 7081, 'jury': 7082, 'derogatory': 7083, 'misogynistic': 7084, 'narcissists': 7085, 'meddling': 7086, 'rebuild': 7087, \"mcdonald's\": 7088, 'enforced': 7089, 'participants': 7090, 'ufc': 7091, 'harmless': 7092, 'covington': 7093, 'healer': 7094, 'warlord': 7095, 'warden': 7096, 'alaska': 7097, 'garage': 7098, 'residency': 7099, 'wiki': 7100, 'wobble': 7101, 'doritos': 7102, 'aspects': 7103, 'contrast': 7104, 'unsettling': 7105, 'appetite': 7106, 'dell': 7107, '88': 7108, 'entities': 7109, 'limitations': 7110, 'assist': 7111, 'unwanted': 7112, 'flashing': 7113, 'obscene': 7114, 'brigaded': 7115, 'fandom': 7116, 'acronym': 7117, 'proceed': 7118, 'bantz': 7119, 'statist': 7120, 'economics': 7121, 'homeland': 7122, 'rly': 7123, 'transgender': 7124, 'intriguing': 7125, 'comical': 7126, 'sponsored': 7127, 'dads': 7128, 'sorrow': 7129, 'housewives': 7130, 'skipped': 7131, 'lizard': 7132, 'dominated': 7133, 'speechless': 7134, 'scat': 7135, 'stickers': 7136, 'ooooh': 7137, 'slime': 7138, 'discipline': 7139, 'hominem': 7140, '70’s': 7141, 'slowing': 7142, 'intermission': 7143, 'provincial': 7144, 'outlaw': 7145, 'shaking': 7146, 'strikes': 7147, 'workplace': 7148, 'explicitly': 7149, 'airpods': 7150, 'debacle': 7151, 'unfunny': 7152, 'transphobic': 7153, 'negativity': 7154, 'yawn': 7155, 'misstep': 7156, '450': 7157, 'shameful': 7158, 'taper': 7159, 'paperwork': 7160, 'penguins': 7161, 'suing': 7162, 'woulda': 7163, 'arctic': 7164, 'shields': 7165, 'sacked': 7166, 'offend': 7167, 'mermaids': 7168, 'forks': 7169, 'vengeance': 7170, 'mouthy': 7171, 'masochist': 7172, 's2': 7173, 'skits': 7174, 'reeks': 7175, 'offence': 7176, 'evolved': 7177, 'se': 7178, 'whisper': 7179, 'discard': 7180, 'unlocking': 7181, 'trusted': 7182, 'fax': 7183, 'feminine': 7184, 'presentation': 7185, 'rendering': 7186, 'remaining': 7187, 'ghosting': 7188, 'meditation': 7189, 'crybaby': 7190, 'rework': 7191, 'sock': 7192, 'yesssss': 7193, 'hitler': 7194, 'shocker': 7195, \"today's\": 7196, 'bromance': 7197, 'chickens': 7198, 'cuts': 7199, 'recourse': 7200, 'ufa': 7201, 'clicks': 7202, 'must’ve': 7203, 'degrees': 7204, 'liners': 7205, 'partially': 7206, 'generous': 7207, 'meritocracy': 7208, 'adopting': 7209, 'statue': 7210, 'ramblings': 7211, 'unemployed': 7212, 'leprechaun': 7213, 'beal': 7214, 'overrate': 7215, 'jv': 7216, 'tubes': 7217, 'inferior': 7218, 'facetime': 7219, 'dinosaurs': 7220, 'petulant': 7221, 'crisp': 7222, 'floss': 7223, 'chasing': 7224, 'spectrum': 7225, 'plow': 7226, 'licensed': 7227, 'expelled': 7228, 'pulls': 7229, 'evergreen': 7230, 'jamming': 7231, 'oppress': 7232, 'nashville': 7233, 'judgemental': 7234, 'goddess': 7235, 'cucked': 7236, 'maker': 7237, 'euphemism': 7238, 'impeached': 7239, 'ox': 7240, 'strawberry': 7241, 'rave': 7242, 'peg': 7243, 'arsed': 7244, 'grades': 7245, 'swears': 7246, 'carb': 7247, 'c’mon': 7248, 'beloved': 7249, 'exceptions': 7250, 'worthwhile': 7251, 'inconsiderate': 7252, 'capita': 7253, 'daytime': 7254, 'rub': 7255, 'needles': 7256, '80’s': 7257, 'advices': 7258, 'surrounding': 7259, 'viewing': 7260, 'rotations': 7261, 'conditioning': 7262, 'pelvic': 7263, 'normies': 7264, 'disconcerting': 7265, 'baller': 7266, 'today’s': 7267, 'relentless': 7268, 'bffs': 7269, 'resort': 7270, 'opt': 7271, 'tryed': 7272, 'complex': 7273, 'formed': 7274, 'incompatible': 7275, 'titled': 7276, 'psychologist': 7277, 'brazilian': 7278, 'airbender': 7279, 'tribes': 7280, 'psychedelics': 7281, 'interfere': 7282, 'unlocked': 7283, 'infantry': 7284, 'employer': 7285, 'hornets': 7286, 'roses': 7287, 'goosebumps': 7288, 'marks': 7289, 'pistol': 7290, 'strict': 7291, 'infinite': 7292, 'effortless': 7293, 'concentration': 7294, 'noed': 7295, 'apologizing': 7296, \"cat's\": 7297, 'sovereign': 7298, 'scumbags': 7299, 'spotted': 7300, 'remastered': 7301, 'crybabies': 7302, 'functional': 7303, 'binged': 7304, 'handful': 7305, 'accusations': 7306, 'smear': 7307, 'expressing': 7308, 'tis': 7309, 'coordination': 7310, 'philadelphia': 7311, 'tossed': 7312, 'redeeming': 7313, 'flavours': 7314, 'activists': 7315, 'acknowledging': 7316, 'substance': 7317, 'offset': 7318, 'alcoholics': 7319, 'gal': 7320, 'pricing': 7321, 'antibiotics': 7322, 'infection': 7323, 'assassins': 7324, 'considers': 7325, 'abysmal': 7326, 'sacred': 7327, 'hips': 7328, 'walnut': 7329, 'discount': 7330, 'heartbreaking': 7331, 'niceguys': 7332, 'bolts': 7333, 'bearing': 7334, 'calorie': 7335, 'rockets': 7336, 'chemo': 7337, 'affects': 7338, 'dms': 7339, 'deceptive': 7340, 'violate': 7341, '125': 7342, 'paywall': 7343, 'deadline': 7344, 'hike': 7345, 'beards': 7346, 'stimulating': 7347, 'permit': 7348, 'whatnot': 7349, 'linux': 7350, 'discomfort': 7351, 'hd': 7352, 'boats': 7353, 'opener': 7354, 'chainsaw': 7355, 'farts': 7356, 'peacefully': 7357, 'continuously': 7358, 'dakota': 7359, 'preseason': 7360, 'succeeded': 7361, 'fastest': 7362, 'deleting': 7363, 'jest': 7364, 'crushing': 7365, 'christ': 7366, 'immensely': 7367, 'straws': 7368, 'paintings': 7369, 'rotten': 7370, 'cinematic': 7371, 'kc': 7372, 'diazepam': 7373, 'xanax': 7374, 'drool': 7375, 'smackdown': 7376, 'peaked': 7377, 'encounter': 7378, 'exp': 7379, 'payroll': 7380, 'exaggeration': 7381, 'th': 7382, 'fiance': 7383, 'origin': 7384, 'shine': 7385, 'pessimistic': 7386, 'nukes': 7387, 'overpaid': 7388, 'parody': 7389, 'reversed': 7390, 'unlock': 7391, 'backstop': 7392, 'disposable': 7393, 'neckbeard': 7394, 'zoo': 7395, 'atlanta': 7396, 'bucs': 7397, 'criticised': 7398, 'chalk': 7399, 'journal': 7400, 'advised': 7401, 'funhaus': 7402, 'advocates': 7403, 'periodically': 7404, 'circa': 7405, 'poetry': 7406, 'floyd': 7407, 'honored': 7408, 'desires': 7409, '😕': 7410, 'latin': 7411, 'odyssey': 7412, 'sundays': 7413, 'breeders': 7414, 'tesla': 7415, 'supremacists': 7416, 'brush': 7417, 'hubby': 7418, 'kombat': 7419, 'admirable': 7420, 'logged': 7421, 'sucker': 7422, 'mma': 7423, 'sorta': 7424, 'pacific': 7425, \"who'd\": 7426, 'chipper': 7427, 'it”': 7428, 'bane': 7429, 'monstrosity': 7430, 'precisely': 7431, 'triggers': 7432, 'dynasty': 7433, 'mortal': 7434, 'yelp': 7435, 'navy': 7436, 'tame': 7437, 'animated': 7438, 'favourites': 7439, 'snuggle': 7440, 'cemetery': 7441, 'snapped': 7442, 'adoption': 7443, 'cheetos': 7444, 'butthead': 7445, 'wrench': 7446, 'oligarchs': 7447, 'shamed': 7448, 'contradictory': 7449, 'petting': 7450, 'endangered': 7451, 'populist': 7452, '85': 7453, 'cents': 7454, 'globalism': 7455, 'messaging': 7456, 'ridicule': 7457, 'satisfied': 7458, 'hunters': 7459, 'circumstance': 7460, 'speakers': 7461, 'megaphone': 7462, 'parroting': 7463, 'wardrobe': 7464, 'denomination': 7465, 'skating': 7466, 'dirk': 7467, 'ahaha': 7468, 'sniper': 7469, 'pronounced': 7470, 'chuck': 7471, 'reboot': 7472, 'firefly': 7473, 'tfa': 7474, 'finale': 7475, 'buys': 7476, 'rivals': 7477, 'blowout': 7478, 'psychological': 7479, 'uhhhh': 7480, 'punish': 7481, 'doxxing': 7482, 'incoherent': 7483, 'spinach': 7484, 'motto': 7485, 'dup': 7486, 'tory': 7487, 'shocks': 7488, 'cups': 7489, 'creator': 7490, 'vault': 7491, 'vendor': 7492, 'buffed': 7493, 'passages': 7494, 'trim': 7495, 'deliver': 7496, 'prophet': 7497, 'imho': 7498, 'achieved': 7499, 'heyyy': 7500, 'qualities': 7501, 'hamster': 7502, 'nifty': 7503, 'joys': 7504, 'reconsider': 7505, 'semitic': 7506, 'undone': 7507, 'presses': 7508, 'alps': 7509, 'kid’s': 7510, 'regards': 7511, 'trait': 7512, 'parrot': 7513, 'slut': 7514, 'pickles': 7515, 'conduct': 7516, 'insist': 7517, 'crow': 7518, 'presume': 7519, 'weezer': 7520, 'squeeze': 7521, 'hospitalized': 7522, 'efficiently': 7523, 'richest': 7524, 'humorous': 7525, 'admire': 7526, 'purchased': 7527, 'fend': 7528, 'revolt': 7529, 'overlords': 7530, 'howling': 7531, 'endgame': 7532, 'jedi': 7533, 'designer': 7534, 'solar': 7535, 'rewards': 7536, 'void': 7537, 'consoles': 7538, 'sobriety': 7539, 'treyarch': 7540, 'blackout': 7541, 'matchmaking': 7542, 'plugs': 7543, 'laser': 7544, 'booty': 7545, 'segment': 7546, 'documenting': 7547, 'grabbed': 7548, 'mandatory': 7549, 'enforcement': 7550, 'discovery': 7551, \"90's\": 7552, 'gutted': 7553, 'traumatized': 7554, 'wankers': 7555, 'monopolies': 7556, 'coma': 7557, 'swastika': 7558, 'joints': 7559, \"mcd's\": 7560, 'favour': 7561, 'dictate': 7562, 'enormous': 7563, 'crashed': 7564, 'mains': 7565, 'manages': 7566, 'homer': 7567, 'colored': 7568, 'uhh': 7569, 'candies': 7570, 'herpes': 7571, 'spite': 7572, 'rants': 7573, 'lousy': 7574, 'autonomous': 7575, 'unsafe': 7576, '69': 7577, 'coupon': 7578, 'biscuit': 7579, 'opera': 7580, 'carlton': 7581, 'stocks': 7582, 'advisors': 7583, 'pander': 7584, 'jackass': 7585, 'loophole': 7586, 'bf4': 7587, 'werk': 7588, 'belgian': 7589, 'noble': 7590, 'ranks': 7591, 'lens': 7592, 'mortified': 7593, 'classmates': 7594, 'pumps': 7595, 'bloated': 7596, '“but': 7597, 'blasphemy': 7598, 'definitly': 7599, 'mics': 7600, 'keeper': 7601, 'champs': 7602, 'exploiting': 7603, 'soooooo': 7604, 'coup': 7605, 'perpetuate': 7606, 'vegetarian': 7607, 'incoming': 7608, 'insignificant': 7609, 'surroundings': 7610, 'yardstick': 7611, 'experimental': 7612, 'majestic': 7613, 'vietnam': 7614, 'july': 7615, 'illinois': 7616, 'dislikes': 7617, 'bullets': 7618, 'tuck': 7619, 'alcoholic': 7620, 'mustache': 7621, 'taunt': 7622, 'bournemouth': 7623, 'shockingly': 7624, 'wrecking': 7625, 'verbal': 7626, 'arrive': 7627, 'crushes': 7628, 'contrary': 7629, 'politely': 7630, 'assembly': 7631, 'kiddo': 7632, 'canary': 7633, 'pairing': 7634, 'ought': 7635, 'touchy': 7636, 'ingredients': 7637, 'backbone': 7638, 'sliders': 7639, 'srsly': 7640, 'beatles': 7641, 'explode': 7642, 'fucken': 7643, 'privacy': 7644, 'distinction': 7645, 'sells': 7646, 'mug': 7647, 'blinders': 7648, 'contribute': 7649, 'forgiving': 7650, 'distribution': 7651, 'amd': 7652, 'ducks': 7653, 'clowns': 7654, 'rile': 7655, 'dummies': 7656, 'condemned': 7657, 'clinging': 7658, 'appeared': 7659, 'burner': 7660, 'rfa': 7661, 'thos': 7662, 'gofundme': 7663, 'commission': 7664, 'combos': 7665, 'firearms': 7666, 'decks': 7667, 'weplay': 7668, 'tacky': 7669, 'mnf': 7670, 'monsters': 7671, 'newspapers': 7672, 'slaughter': 7673, 'crotch': 7674, 'yummy': 7675, 'aaaaaand': 7676, 'bouts': 7677, 'flood': 7678, 'usps': 7679, 'ted': 7680, 'lifting': 7681, 'matrix': 7682, 'betrayal': 7683, 'cicada': 7684, 'reservations': 7685, 'poof': 7686, 'retards': 7687, 'simpler': 7688, 'ashes': 7689, 'audibly': 7690, 'devout': 7691, 'gdt': 7692, 'ocd': 7693, 'ph': 7694, 'pins': 7695, 'pickup': 7696, 'daycare': 7697, 'infested': 7698, 'lmk': 7699, 'thots': 7700, 'photoshop': 7701, 'angrily': 7702, 'mt': 7703, 'saug': 7704, 'essay': 7705, 'efforts': 7706, 'prisoners': 7707, 'wisely': 7708, 'trail': 7709, 'soviets': 7710, 'plague': 7711, 'wee': 7712, 'cattle': 7713, 'grandson': 7714, 'venom': 7715, 'goddamnit': 7716, 'shifted': 7717, 'packages': 7718, 'ensure': 7719, 'violating': 7720, 'zoom': 7721, 'unbelievably': 7722, 'lackluster': 7723, 'blindfolds': 7724, 'definetly': 7725, 'notch': 7726, 'codes': 7727, 'awkwardly': 7728, 'flew': 7729, 'outlet': 7730, 'strain': 7731, 'disability': 7732, 'lemme': 7733, 'tiring': 7734, 'penetration': 7735, 'hugging': 7736, 'inconvenient': 7737, '2500': 7738, 'wavy': 7739, 'peep': 7740, 'bloke': 7741, 'gate': 7742, 'skate': 7743, 'wacky': 7744, 'races': 7745, 'cheer': 7746, 'allegations': 7747, 'personnel': 7748, 'ally': 7749, 'tender': 7750, 'noticeable': 7751, 'banana': 7752, 'passenger': 7753, '😑': 7754, 'viewpoint': 7755, 'newly': 7756, 'announces': 7757, 'decay': 7758, 'bigoted': 7759, 'sheltered': 7760, 'enforce': 7761, 'spotlight': 7762, 'cropped': 7763, '–': 7764, '😭😭': 7765, 'oxygen': 7766, 'replay': 7767, 'outsiders': 7768, 'firearm': 7769, '3k': 7770, 'struggled': 7771, 'artwork': 7772, 'noped': 7773, 'infinitely': 7774, 'masturbate': 7775, '9th': 7776, 'sw': 7777, 'conjure': 7778, 'toughest': 7779, 'faq': 7780, 'owes': 7781, 'ankles': 7782, 'brazen': 7783, 'declined': 7784, 'discourage': 7785, 'subjected': 7786, 'stances': 7787, 'drawn': 7788, 'endearing': 7789, 'suffers': 7790, 'authority': 7791, 'despair': 7792, 'gently': 7793, 'swimming': 7794, 'adjusted': 7795, 'progression': 7796, 'overthink': 7797, 'dozen': 7798, 'exit': 7799, 'slack': 7800, 'thoroughly': 7801, 'ethics': 7802, 'laughable': 7803, 'glucose': 7804, 'fwiw': 7805, 'categories': 7806, 'fantasize': 7807, 'oatmeal': 7808, 'representatives': 7809, 'mold': 7810, 'imagination': 7811, 'intestines': 7812, 'waaaaay': 7813, 'recruit': 7814, 'unclear': 7815, 'sidewalk': 7816, 'entity': 7817, 'spectate': 7818, 'munchkin': 7819, 'thrilled': 7820, 'ding': 7821, 'ie': 7822, 'canes': 7823, 'rapist': 7824, 'leans': 7825, 'cf': 7826, 'punk': 7827, 'apathy': 7828, 'reps': 7829, 'payer': 7830, 'towns': 7831, 'carolina': 7832, 'merge': 7833, 'progressives': 7834, 'kindergarten': 7835, 'betrayed': 7836, 'starring': 7837, 'sheet': 7838, '140': 7839, 'butterflies': 7840, 'atlantic': 7841, 'gummy': 7842, 'endorse': 7843, 'bulk': 7844, 'ritual': 7845, 'poops': 7846, 'maths': 7847, 'regulated': 7848, 'packaging': 7849, 'interstate': 7850, 'unchecked': 7851, 'dried': 7852, 'websites': 7853, 'bean': 7854, 'entp': 7855, 'prospects': 7856, \"team's\": 7857, 'intellectually': 7858, 'noone': 7859, 'elf': 7860, 'steaming': 7861, 'ooof': 7862, 'builder': 7863, 'lyrical': 7864, 'downed': 7865, 'subscription': 7866, 'ck': 7867, 'arts': 7868, 'pint': 7869, 'buried': 7870, 'attachment': 7871, 'shovel': 7872, 'chairs': 7873, 'bass': 7874, 'congratulate': 7875, '❤️❤️❤️': 7876, 'unsolicited': 7877, 'mart': 7878, 'gains': 7879, 'absence': 7880, 'cavs': 7881, 'thief': 7882, 'pigeons': 7883, 'hooking': 7884, 'purge': 7885, 'iconic': 7886, 'mute': 7887, 'pickle': 7888, 'forwards': 7889, 'import': 7890, 'genji': 7891, 'sobbing': 7892, 'wizards': 7893, 'embracing': 7894, 'kidnapped': 7895, 'significance': 7896, 'chungus': 7897, 'starters': 7898, 'swings': 7899, 'fade': 7900, 'mascot': 7901, 'cheats': 7902, 'bleh': 7903, 'cps': 7904, 'agony': 7905, 'poles': 7906, 'pope': 7907, 'misremembering': 7908, '3pt': 7909, 'shuffle': 7910, 'republic': 7911, 'escalated': 7912, 'totalitarian': 7913, '♥': 7914, 'fierce': 7915, 'unpredictable': 7916, 'mongering': 7917, 'basing': 7918, 'nickname': 7919, 'md': 7920, 'dodge': 7921, 'clumsy': 7922, 'boyo': 7923, 'verb': 7924, 'masculine': 7925, 'brainwashing': 7926, 'riverdale': 7927, 'viewed': 7928, 'architecture': 7929, '5000': 7930, 'disagrees': 7931, \"canada's\": 7932, 'roasted': 7933, 'advertisement': 7934, 'quitting': 7935, 'shitlord': 7936, 'turds': 7937, 'staggering': 7938, 'historical': 7939, 'infected': 7940, 'traits': 7941, 'nerdy': 7942, 'lighten': 7943, 'emperor': 7944, 'quo': 7945, 'stans': 7946, 'hilariously': 7947, 'trae': 7948, 'offs': 7949, 'dilemma': 7950, 'blurred': 7951, 'suns': 7952, 'accuse': 7953, 'diabetes': 7954, 'pouring': 7955, 'dv': 7956, 'frugal': 7957, 'abusers': 7958, 'db': 7959, 'choir': 7960, 'amused': 7961, 'bare': 7962, 'buck': 7963, '44': 7964, 'emailed': 7965, '3am': 7966, '37': 7967, 'madness': 7968, 'kink': 7969, 'behold': 7970, 'abyss': 7971, 'widow': 7972, 'conflating': 7973, 'windsor': 7974, 'dutch': 7975, 'peeing': 7976, 'corruption': 7977, 'labels': 7978, 'genders': 7979, 'cus': 7980, 'linking': 7981, 'internally': 7982, 'indulge': 7983, '2001': 7984, 'planned': 7985, 'reduction': 7986, 'rail': 7987, 'yankee': 7988, 'sociopath': 7989, 'bitches': 7990, 'entirety': 7991, '🤢': 7992, 'cb': 7993, 'blending': 7994, 'delivering': 7995, 'parade': 7996, 'ick': 7997, 'flaccid': 7998, 'chad': 7999, 'dopamine': 8000, 'tile': 8001, 'lobsters': 8002, \"men's\": 8003, 'liberalism': 8004, 'producers': 8005, 'inequality': 8006, 'colombian': 8007, 'demonstration': 8008, '👌': 8009, 'tx': 8010, 'styles': 8011, \"anyone's\": 8012, \"husband's\": 8013, '1980': 8014, 'ac': 8015, 'demise': 8016, 'tylenol': 8017, 'screens': 8018, 'testicles': 8019, 'collect': 8020, 'jesus': 8021, 'accessed': 8022, 'deposit': 8023, 'authors': 8024, 'adrenaline': 8025, 'determination': 8026, 'compatibility': 8027, 'entry': 8028, 'conquer': 8029, 'moderation': 8030, 'cleaner': 8031, 'fellowkids': 8032, 'reign': 8033, '😄': 8034, 'wretched': 8035, 'hierarchy': 8036, 'discourse': 8037, 'hung': 8038, 'engagement': 8039, 'distorted': 8040, 'wil': 8041, 'medicare': 8042, 'roundabouts': 8043, 'objects': 8044, 'solving': 8045, 'praised': 8046, 'cloth': 8047, 'zelda': 8048, 'euro': 8049, 'stbx': 8050, 'protects': 8051, 'graves': 8052, 'lefties': 8053, 'verge': 8054, 'wth': 8055, 'interference': 8056, 'azz': 8057, 'ngl': 8058, 'controllers': 8059, 'stairs': 8060, 'chess': 8061, 'faze': 8062, 'andromeda': 8063, 'botched': 8064, 'ssd': 8065, 'nugget': 8066, 'sweats': 8067, 'phenomenal': 8068, 'publicity': 8069, 'playlist': 8070, 'regretted': 8071, 'sony': 8072, 'dull': 8073, 'located': 8074, 'glory': 8075, 'paste': 8076, \"occam's\": 8077, 'demo': 8078, 'vests': 8079, 'throats': 8080, 'shitshow': 8081, 'libido': 8082, 'weeb': 8083, '🎂': 8084, '5k': 8085, '80s': 8086, 'scientific': 8087, 'pushers': 8088, 'pvp': 8089, '65': 8090, 'abhorrent': 8091, 'escaping': 8092, 'irritated': 8093, 'template': 8094, 'hesitant': 8095, 'reader': 8096, 'erect': 8097, 'improvements': 8098, 'entps': 8099, 'nearby': 8100, 'kabhi': 8101, 'fleshy': 8102, 'panicking': 8103, 'youngest': 8104, 'slope': 8105, 'occasion': 8106, 'pea': 8107, 'edges': 8108, 'defence': 8109, 'inject': 8110, 'fairy': 8111, 'backfired': 8112, 'pancake': 8113, 'aaaand': 8114, 'sat': 8115, 'crocodile': 8116, 'sd': 8117, 'doubtful': 8118, 'friggin': 8119, 'dunked': 8120, 'consensual': 8121, 'announcer': 8122, 'irritating': 8123, 'civilized': 8124, 'parental': 8125, 'liner': 8126, 'experiment': 8127, 'decapitated': 8128, 'departments': 8129, 'sos': 8130, 'remote': 8131, 'redundant': 8132, 'aquaria': 8133, 'easter': 8134, 'squint': 8135, 'collapsing': 8136, 'coordinator': 8137, 'invalid': 8138, 'pretentious': 8139, 'cable': 8140, 'superpower': 8141, 'slapping': 8142, 'ned': 8143, 'circulation': 8144, 'elites': 8145, 'measures': 8146, 'desert': 8147, 'breeze': 8148, 'ecstatic': 8149, 'this’ll': 8150, 'mdma': 8151, 'allergy': 8152, 'rabid': 8153, 'fedora': 8154, 'whichever': 8155, 'ninja': 8156, \"baby's\": 8157, 'bo4': 8158, 'goaltender': 8159, 'tantrum': 8160, 'apologist': 8161, 'thrive': 8162, 'poisoned': 8163, 'dodger': 8164, 'staged': 8165, 'homophobia': 8166, 'nooo': 8167, 'billionaires': 8168, 'redemption': 8169, 'fleeting': 8170, 'banning': 8171, 'fiat': 8172, 'merry': 8173, 'clapping': 8174, 'roy': 8175, '64': 8176, 'precise': 8177, 'imperial': 8178, 'encouraged': 8179, 'anarcho': 8180, 'resulted': 8181, 'procedure': 8182, 'diamond': 8183, 'grumps': 8184, 'falcon': 8185, 'clench': 8186, 'boob': 8187, 'eliminated': 8188, 'tryin': 8189, 'tagging': 8190, 'cia': 8191, 'char': 8192, 'hl': 8193, 'dodges': 8194, '“your': 8195, 'developers': 8196, 'claw': 8197, 'pressuring': 8198, 'compensation': 8199, 'saint': 8200, 'pewdiepie': 8201, 'helperbot': 8202, 'undeniably': 8203, 'graphic': 8204, 'curve': 8205, 'shirts': 8206, 'addressing': 8207, 'drying': 8208, 'estimate': 8209, '2x': 8210, 'undoubtedly': 8211, 'wealthy': 8212, 'nicknames': 8213, 'greatly': 8214, 'rebuttal': 8215, 'participating': 8216, 'tricky': 8217, 'optics': 8218, 'inability': 8219, 'might’ve': 8220, 'sworn': 8221, 'determines': 8222, 'dances': 8223, 'portugal': 8224, 'greetings': 8225, 'everyones': 8226, 'acne': 8227, 'irritates': 8228, 'paralyzed': 8229, 'mediocrity': 8230, 'grad': 8231, 'pleasing': 8232, 'defenders': 8233, 'vomiting': 8234, 'sm': 8235, 'pudding': 8236, 'betray': 8237, 'reporter': 8238, 'unfollowed': 8239, 'enjoyment': 8240, 'sinister': 8241, 'heights': 8242, 'crucified': 8243, 'explosive': 8244, 'lumped': 8245, 'widespread': 8246, 'regulations': 8247, 'douchy': 8248, 'lurking': 8249, 'hiking': 8250, 'uphill': 8251, 'sham': 8252, 'concussions': 8253, 'thee': 8254, 'rachel': 8255, 'appeals': 8256, 'guest': 8257, 'pennsylvania': 8258, 'headphones': 8259, 'dominant': 8260, 'nips': 8261, 'inform': 8262, 'construction': 8263, 'blaze': 8264, 'oz': 8265, 'shhh': 8266, 'homage': 8267, 'amongst': 8268, 'profession': 8269, 'repercussions': 8270, 'asd': 8271, 'beggars': 8272, 'kisses': 8273, 'bayless': 8274, 'maniac': 8275, 'insensitive': 8276, 'aggression': 8277, 'girly': 8278, 'prequel': 8279, 'borrow': 8280, 'cal': 8281, 'grows': 8282, 'confrontation': 8283, 'extend': 8284, 'ded': 8285, 'despises': 8286, 'sassy': 8287, 'tendies': 8288, 'movements': 8289, 'crispy': 8290, 'pilots': 8291, 'insulin': 8292, 'increasing': 8293, 'charisma': 8294, 'curry': 8295, '😥': 8296, 'tackle': 8297, 'ditch': 8298, 'tricked': 8299, 'flu': 8300, 'fiend': 8301, 'broth': 8302, '11am': 8303, 'mayor': 8304, 'advocate': 8305, 'relic': 8306, 'drastically': 8307, 'nola': 8308, 'tops': 8309, 'markets': 8310, 'barn': 8311, 'roasts': 8312, 'bonding': 8313, 'lecture': 8314, 'progressively': 8315, 'recycling': 8316, 'selfies': 8317, 'salmonella': 8318, 'complexity': 8319, 'happend': 8320, 'bleach': 8321, 'goofed': 8322, 'biblical': 8323, 'unwatchable': 8324, 'sting': 8325, 'chains': 8326, 'overcoming': 8327, 'bo': 8328, 'syrian': 8329, 'unbalanced': 8330, 'athletic': 8331, 'twat': 8332, 'stability': 8333, 'velvet': 8334, 'obscure': 8335, 'spirits': 8336, 'collab': 8337, 'taiwan': 8338, 'nipple': 8339, 'dayum': 8340, 'bent': 8341, 'goose': 8342, 'sausage': 8343, 'monetary': 8344, 'witnessing': 8345, 'apologised': 8346, 'lobby': 8347, 'hairy': 8348, 'winded': 8349, 'playboy': 8350, 'mansion': 8351, 'bah': 8352, 'nk': 8353, 'bison': 8354, 'fifteen': 8355, 'resign': 8356, 'fkn': 8357, 'hopping': 8358, 'camping': 8359, 'learnt': 8360, 'relying': 8361, 'succinct': 8362, 'mermaid': 8363, 'halloween': 8364, 'melbourne': 8365, 'sadder': 8366, 'knuckle': 8367, 'rider': 8368, 'kneecap': 8369, 'pedantic': 8370, 'wheels': 8371, 'tfw': 8372, 'blank': 8373, 'zombies': 8374, 'ra': 8375, 'landing': 8376, 'patterns': 8377, 'lucasfilm': 8378, 'horn': 8379, '2am': 8380, 'spa': 8381, 'arbitrary': 8382, 'foreigners': 8383, 'sunshine': 8384, 'shakes': 8385, 'lactose': 8386, 'awaits': 8387, 'recycle': 8388, 'obs': 8389, '40k': 8390, 'vids': 8391, 'solidarity': 8392, 'smallest': 8393, 'reccomend': 8394, 'bankrupt': 8395, 'regretting': 8396, 'invasive': 8397, 'psychos': 8398, 'enfp': 8399, 'trace': 8400, 'crossover': 8401, 'accidental': 8402, 'unheard': 8403, 'selected': 8404, 'reposts': 8405, 'senators': 8406, 'stocking': 8407, 'harms': 8408, 'moot': 8409, 'toll': 8410, 'perspectives': 8411, 'perpetrator': 8412, 'misuse': 8413, '8pm': 8414, 'artery': 8415, 'turnovers': 8416, 'ditching': 8417, 'janitor': 8418, 'magazine': 8419, 'journalism': 8420, 'mississippi': 8421, 'legality': 8422, 'crayons': 8423, 'sacrifices': 8424, 'initiate': 8425, 'tension': 8426, 'uninformed': 8427, \"brother's\": 8428, 'mocks': 8429, 'institutions': 8430, 'refugee': 8431, 'promoted': 8432, 'foreplay': 8433, 'lifespan': 8434, 'rival': 8435, 'vegetable': 8436, 'regulars': 8437, 'massively': 8438, 'brotha': 8439, 'compelling': 8440, 'troop': 8441, 'surprises': 8442, 'neutral': 8443, 'dmt': 8444, 'blurry': 8445, 'dressed': 8446, 'participation': 8447, 'suckers': 8448, 'investment': 8449, 'swap': 8450, 'pakistan': 8451, 'spine': 8452, '“to': 8453, 'transphobia': 8454, 'eachother': 8455, '62': 8456, 'junior': 8457, 'climb': 8458, 'pin': 8459, 'poems': 8460, 'originated': 8461, 'corrupted': 8462, 'musicians': 8463, 'cuddles': 8464, 'lining': 8465, 'govt': 8466, 'fave': 8467, 'sitcom': 8468, 'unhelpful': 8469, 'deranged': 8470, 'gh': 8471, 'shoveling': 8472, 'wheres': 8473, 'wrecked': 8474, 'noises': 8475, 'decently': 8476, 'backpedal': 8477, 'discussions': 8478, 'paints': 8479, 'woken': 8480, 'motorcycle': 8481, 'concede': 8482, 'purged': 8483, 'visibility': 8484, '“if': 8485, 'frosty': 8486, 'frogs': 8487, 'improving': 8488, 'pbr': 8489, 'foremost': 8490, 'foreskin': 8491, 'lamp': 8492, 'dae': 8493, 'tofu': 8494, 'fuk': 8495, 'dame': 8496, 'kenpom': 8497, 'females': 8498, 'psyche': 8499, 'hazard': 8500, 'salesmen': 8501, 'bracelets': 8502, 'traps': 8503, 'placement': 8504, 'yessss': 8505, 'mill': 8506, 'governor': 8507, 'jerks': 8508, 'fcking': 8509, 'enact': 8510, 'tomato': 8511, 'definite': 8512, '800': 8513, 'align': 8514, 'mag': 8515, \"joke's\": 8516, 'monogamous': 8517, 'consciousness': 8518, 'contradicts': 8519, 'albums': 8520, 'chests': 8521, 'mis': 8522, 'lung': 8523, 'prolly': 8524, 'temp': 8525, 'dispensary': 8526, 'thc': 8527, 'trades': 8528, 'voluntarily': 8529, 'cancerous': 8530, 'oily': 8531, 'crowded': 8532, 'bj': 8533, 'meetings': 8534, 'noun': 8535, 'celtics': 8536, 'smurf': 8537, 'lookout': 8538, 'manipulative': 8539, 'courage': 8540, 'itching': 8541, 'chaotic': 8542, 'bystander': 8543, 'benzos': 8544, 'addictive': 8545, 'numb': 8546, 'porno': 8547, 'articulate': 8548, 'rope': 8549, 'sundae': 8550, 'redhead': 8551, 'commies': 8552, 'punching': 8553, 'lighting': 8554, 'joining': 8555, 'psa': 8556, 'te': 8557, '30s': 8558, 'sync': 8559, 'widely': 8560, 'introducing': 8561, '27th': 8562, 'juul': 8563, 'drawer': 8564, 'orgs': 8565, '“she': 8566, 'assumptions': 8567, 'goodnight': 8568, 'obsess': 8569, 'crosses': 8570, 'yelled': 8571, 'indoor': 8572, 'remained': 8573, 'playground': 8574, 'pimple': 8575, 'that’ll': 8576, 'badge': 8577, 'marines': 8578, 'she’d': 8579, 'trolled': 8580, 'bolton': 8581, 'canceled': 8582, 'buns': 8583, 'pits': 8584, 'accepts': 8585, 'frauded': 8586, 'splitting': 8587, 'gasp': 8588, 'waifu': 8589, 'whales': 8590, 'dmg': 8591, 'cherry': 8592, 'dbs': 8593, 'massage': 8594, 'people”': 8595, 'coins': 8596, 'emergencies': 8597, 'bathrooms': 8598, 'puddle': 8599, 'infatuation': 8600, \"kid's\": 8601, 'banner': 8602, 'neon': 8603, 'shooters': 8604, 'idiocy': 8605, 'starvation': 8606, 'scientists': 8607, 'palette': 8608, 'necessity': 8609, 'rake': 8610, 'hooker': 8611, 'custody': 8612, 'daze': 8613, 'vaccine': 8614, 'macaroni': 8615, 'imported': 8616, 'nicotine': 8617, 'predicted': 8618, 'intent': 8619, 'vocal': 8620, 'anthem': 8621, 'performed': 8622, 'evaporate': 8623, 'reap': 8624, '“they': 8625, 'prettiest': 8626, 'duo': 8627, 'timeout': 8628, 'prostate': 8629, 'venti': 8630, 'embarassed': 8631, 'derived': 8632, 'sneezing': 8633, 'hahahah': 8634, 'civilization': 8635, 'broadcast': 8636, 'spiderman': 8637, 'portland': 8638, 'avoided': 8639, 'maryland': 8640, 'normie': 8641, 'sheer': 8642, 'brutally': 8643, 'cookie': 8644, 'crows': 8645, 'bipod': 8646, 'stains': 8647, 'protocol': 8648, 'disadvantaged': 8649, 'lul': 8650, 'rum': 8651, '“i’ll': 8652, 'urge': 8653, 'debut': 8654, 'paws': 8655, 'coding': 8656, 'blunt': 8657, 'agencies': 8658, 'tainted': 8659, 'demon': 8660, 'voluntary': 8661, '76': 8662, 'ee': 8663, 'icon': 8664, 'debatable': 8665, 'carrot': 8666, 'images': 8667, 'lunatic': 8668, 'propose': 8669, 'hebrew': 8670, 'guy’s': 8671, 'struck': 8672, 'unarmed': 8673, 'america’s': 8674, 'nipples': 8675, 'astonishing': 8676, 'vein': 8677, 'senses': 8678, 'furloughed': 8679, 'pinch': 8680, 'soulless': 8681, 'wigs': 8682, 'dictatorships': 8683, 'questioned': 8684, 'precedent': 8685, 'gendered': 8686, 'sharks': 8687, 'techniques': 8688, 'tap': 8689, 'machines': 8690, 'circles': 8691, 'rhymes': 8692, 'hysteria': 8693, 'dignity': 8694, 'participate': 8695, 'fry': 8696, 'enforcing': 8697, 'consenting': 8698, 'surviving': 8699, 'outspoken': 8700, 'narcissistic': 8701, 'handles': 8702, 'texture': 8703, 'feb': 8704, 'wizard': 8705, 'cheek': 8706, 'delightful': 8707, 'tuna': 8708, 'groceries': 8709, 'plates': 8710, 'thunder': 8711, 'unsub': 8712, 'standpoint': 8713, 'insecurity': 8714, 'madrid': 8715, 'matchups': 8716, 'murderer': 8717, 'imma': 8718, '1987': 8719, 'yells': 8720, 'aligning': 8721, 'sank': 8722, 'gdp': 8723, 'dysfunction': 8724, 'paparazzi': 8725, 'fractured': 8726, 'batch': 8727, 'imminent': 8728, 'dabs': 8729, 'landslide': 8730, 'seoul': 8731, 'factual': 8732, 'pedestrians': 8733, 'draining': 8734, 'swamp': 8735, 'returns': 8736, 'ru': 8737, 'mm': 8738, 'lice': 8739, 'perform': 8740, 'chapotraphouse': 8741, 'superhero': 8742, 'kettle': 8743, 'criticize': 8744, 'vaping': 8745, 'dumbasses': 8746, 'brownies': 8747, 'ebay': 8748, '‘': 8749, 'grant': 8750, 'xoxo': 8751, 'damaged': 8752, 'unh': 8753, 'cork': 8754, 'harmed': 8755, 'adulthood': 8756, 'palms': 8757, 'misunderstand': 8758, 'shenanigans': 8759, 'smoked': 8760, 'snp': 8761, 'overestimate': 8762, 'proposing': 8763, 'petition': 8764, '3rds': 8765, 'consumed': 8766, 'tunnel': 8767, 'feeds': 8768, 'authentic': 8769, 'antique': 8770, 'brass': 8771, 'felony': 8772, 'radiation': 8773, 'dipshit': 8774, 'harvard': 8775, 'bourbon': 8776, 'restrict': 8777, 'immune': 8778, 'insta': 8779, 'revisionist': 8780, 'deflects': 8781, 'rhetoric': 8782, 'bitching': 8783, 'hotter': 8784, 'uniform': 8785, 'limb': 8786, 'cuddling': 8787, 'turf': 8788, 'birthed': 8789, 'comparable': 8790, 'ir': 8791, 'heartless': 8792, 'intellectual': 8793, 'urges': 8794, 'dom': 8795, 'centrism': 8796, 'respectable': 8797, 'fog': 8798, 'meets': 8799, 'drank': 8800, 'wimp': 8801, 'estate': 8802, 'advisor': 8803, 'thyroid': 8804, 'gene': 8805, 'silently': 8806, 'uwu': 8807, 'hahahahaha': 8808, 'dec': 8809, 'knobs': 8810, 'dynamic': 8811, 'dicked': 8812, 'ram': 8813, 'brows': 8814, 'lump': 8815, 'urine': 8816, 'problematic': 8817, 'knocks': 8818, 'unsubscribe': 8819, 'scandal': 8820, 'burrito': 8821, 'shanghai': 8822, 'observing': 8823, 'polling': 8824, 'ults': 8825, 'influenced': 8826, 'phantom': 8827, 'ethiopian': 8828, 'royale': 8829, 'clotting': 8830, 'tenants': 8831, 'roommates': 8832, 'dyslexia': 8833, 'streaks': 8834, 'sadistic': 8835, 'conflict': 8836, 'catered': 8837, 'creeper': 8838, 'skiing': 8839, 'outgoing': 8840, 'reaches': 8841, 'procreate': 8842, 'outbreak': 8843, 'chickenpox': 8844, 'hedgehog': 8845, 'flipping': 8846, 'corny': 8847, 'ayee': 8848, 'iit': 8849, 'revolver': 8850, 'rhino': 8851, 'towers': 8852, 'sept': 8853, 'napalm': 8854, 'youths': 8855, 'shotguns': 8856, 'disclose': 8857, \"'not\": 8858, 'brakes': 8859, 'appearances': 8860, 'achievement': 8861, 'braincels': 8862, 'adverts': 8863, 'spoon': 8864, 'terrorist': 8865, 'soulmate': 8866, 'priorities': 8867, 'pub': 8868, 'virus': 8869, 'squirm': 8870, 'notification': 8871, 'seize': 8872, 'mothers': 8873, 'fleas': 8874, 'backs': 8875, 'secretary': 8876, 'deletes': 8877, 'gon': 8878, '😀': 8879, 'shifts': 8880, 'exasperated': 8881, 'metaphorical': 8882, 'generational': 8883, 'obstacle': 8884, 'beatiful': 8885, 'love”': 8886, 'fiancee': 8887, 'pnr': 8888, 'jok': 8889, 'swell': 8890, 'reelected': 8891, 'transmission': 8892, 'battlefront': 8893, 'grounded': 8894, 'stoner': 8895, 'zealand': 8896, 'definately': 8897, 'scorched': 8898, 'silicone': 8899, 'suck”': 8900, 'prejudiced': 8901, 'sup': 8902, 'vpr': 8903, 'halftime': 8904, 'inflated': 8905, 'faults': 8906, '🤷': 8907, 'pupils': 8908, 'havin': 8909, 'costly': 8910, 'switching': 8911, 'blades': 8912, 'trumps': 8913, 'voodoo': 8914, 'swinging': 8915, 'throwback': 8916, 'endeavors': 8917, 'examination': 8918, 'contested': 8919, 'planting': 8920, 'reactable': 8921, 'shinobi': 8922, 'conq': 8923, 'exploitative': 8924, 'china’s': 8925, 'darkest': 8926, 'dungeon': 8927, 'mia': 8928, 'stamkos': 8929, 'chippy': 8930, 'goin': 8931, 'palpatine': 8932, 'spitting': 8933, 'tactical': 8934, 'pyd': 8935, 'characterization': 8936, 'hashtag': 8937, 'complained': 8938, 'employment': 8939, 'rec': 8940, 'subconsciously': 8941, '78': 8942, 'doorstep': 8943, 'hq': 8944, 'gestures': 8945, 'separated': 8946, '💓': 8947, 'inflate': 8948, '90df': 8949, 'variation': 8950, 'mkx': 8951, 'embarassing': 8952, 'connoisseur': 8953, 'women’s': 8954, 'gloom': 8955, 'scousers': 8956, 'op’s': 8957, 'merit': 8958, 'newcastle': 8959, 'comfy': 8960, 'rebellion': 8961, 'clash': 8962, 'glued': 8963, 'chemical': 8964, 'lmfaoooooo': 8965, 'dislocated': 8966, 'busses': 8967, 'shilling': 8968, 'mmmmm': 8969, 'hahahahahahaha': 8970, 'grey’s': 8971, 'lovers': 8972, 'k9': 8973, 'mn': 8974, 'distasteful': 8975, 'clutching': 8976, 'physician': 8977, 'alias': 8978, 'nonononoyes': 8979, 'predatory': 8980, 'properties': 8981, 'definitions': 8982, 'juve': 8983, 'checkout': 8984, 'figuring': 8985, 'counterpoint': 8986, 'handing': 8987, 'gasping': 8988, 'tickles': 8989, 'batted': 8990, 'eyelid': 8991, 'grams': 8992, 'nazism': 8993, 'icky': 8994, 'bulge': 8995, 'sections': 8996, 'awfully': 8997, 'tremendous': 8998, 'leftover': 8999, 'bluff': 9000, 'luv': 9001, '😝': 9002, 'hiring': 9003, 'deputy': 9004, '12th': 9005, 'yanking': 9006, 'pleasures': 9007, 'baptism': 9008, 'conception': 9009, 'pressured': 9010, 'polly': 9011, 'recovered': 9012, 'ample': 9013, 'nutrients': 9014, 'vigilante': 9015, 'glossed': 9016, 'hangry': 9017, 'effortlessly': 9018, 'rowdy': 9019, 'systematic': 9020, 'exploitation': 9021, 'worm': 9022, 'reasoned': 9023, 'unfounded': 9024, 'amateur': 9025, 'occupation': 9026, 'badges': 9027, 'cunts': 9028, 'goober': 9029, 'mumkey': 9030, 'undo': 9031, 'distinctly': 9032, 'testament': 9033, 'disregarding': 9034, 'exercising': 9035, 'od': 9036, 'incredibilis': 9037, 'yuh': 9038, 'brethren': 9039, 'dregs': 9040, 'bangs': 9041, 'straights': 9042, 'generate': 9043, 'remarks': 9044, 'switzerland': 9045, 'ease': 9046, 'tithing': 9047, 'ftw': 9048, 'factories': 9049, 'eb': 9050, 'neet': 9051, 'presenting': 9052, 'goldfish': 9053, 'blacklist': 9054, 'underrate': 9055, '😇': 9056, 'pierce': 9057, 'cheered': 9058, 'aging': 9059, 'secks': 9060, 'whereas': 9061, 'mile': 9062, 'whoosh': 9063, 'seinfeld': 9064, 'argentina': 9065, 'finals': 9066, 'fellas': 9067, 'ds': 9068, 'bend': 9069, 'bargain': 9070, 'offender': 9071, 'soundcloud': 9072, 'cespedes': 9073, 'unranked': 9074, 'fringe': 9075, '175': 9076, 'sellers': 9077, 'hungover': 9078, 'metoo': 9079, 'geniuses': 9080, 'pov': 9081, 'sly': 9082, 'refugees': 9083, 'url': 9084, 'dreading': 9085, 'rambo': 9086, 'charismatic': 9087, 'earnest': 9088, 'conviction': 9089, 'methodology': 9090, 'pathway': 9091, 'popper': 9092, 'pleading': 9093, 'surreal': 9094, \"sayin'\": 9095, 'iwobi': 9096, 'woof': 9097, 'music”': 9098, 'frick': 9099, 'oranges': 9100, 'pb': 9101, 'expertise': 9102, 'yiu': 9103, 'eloquent': 9104, 'sinner': 9105, 'voicing': 9106, 'defeatist': 9107, 'moan': 9108, 'moose': 9109, 'robin': 9110, 'tim': 9111, 'hortons': 9112, 'fires': 9113, 'wishful': 9114, 'vape': 9115, 'containment': 9116, 'drunken': 9117, 'pickling': 9118, 'haystack': 9119, 'reviewing': 9120, 'doggy': 9121, 'substantially': 9122, 'tropical': 9123, 'oasis': 9124, 'liquid': 9125, 'seasoned': 9126, 'werent': 9127, 'backups': 9128, 'douches': 9129, 'restraint': 9130, 'defenseless': 9131, 'fished': 9132, 'asuelu': 9133, 'quarry': 9134, 'urethra': 9135, 'finland': 9136, 'stir': 9137, 'heresy': 9138, 'buffer': 9139, 'ensuring': 9140, 'jimmy': 9141, 'bombed': 9142, 'quran': 9143, 'knob': 9144, 'gottem': 9145, 'atmosphere': 9146, 'jihadi': 9147, 'softer': 9148, 'crackers': 9149, 'dam': 9150, 'financing': 9151, 'maintaining': 9152, 'numerical': 9153, 'stealth': 9154, 'vaxxer': 9155, 'consecutive': 9156, 'density': 9157, 'abstract': 9158, 'marrying': 9159, 'spaghetti': 9160, 'gaydar': 9161, 'dnd': 9162, 'profoundly': 9163, 'quotation': 9164, 'memorize': 9165, 'hatch': 9166, 'belpedio': 9167, 'hahahahahahahahaha': 9168, 'limiting': 9169, 'storytelling': 9170, 'royals': 9171, 'prosecuted': 9172, 'formula': 9173, 'worldnews': 9174, 'barca': 9175, 'iii': 9176, 'cleanup': 9177, 'rpgs': 9178, 'drained': 9179, 'pine': 9180, 'kidnap': 9181, 'forces': 9182, 'housewife': 9183, 'tldr': 9184, '🤔🤔🤔': 9185, 'yearolds': 9186, 'carving': 9187, 'initials': 9188, 'toothbrush': 9189, 'subtly': 9190, 'requests': 9191, 'pandering': 9192, 'rephrase': 9193, 'buffet': 9194, \"buddy's\": 9195, 'vuc': 9196, 'dibs': 9197, 'processing': 9198, 'overpowering': 9199, 'deed': 9200, 'installation': 9201, 'maintenance': 9202, 'resistant': 9203, 'interventions': 9204, 'tuscaloosa': 9205, 'striker': 9206, 'fund': 9207, \"everything's\": 9208, 'ummm': 9209, 'pesky': 9210, 'handicapped': 9211, 'torb': 9212, 'skirt': 9213, 'collaborated': 9214, 'pubg': 9215, 'flirt': 9216, 'liability': 9217, 'ergo': 9218, 'demands': 9219, 'ctrl': 9220, 'supplements': 9221, 'receptors': 9222, 'blocker': 9223, 'sage': 9224, 'huns': 9225, 'pretends': 9226, 'toner': 9227, 'elastic': 9228, 'serum': 9229, 'vitamin': 9230, 'anticipating': 9231, 'overreaction': 9232, 'delightfully': 9233, 'dm’s': 9234, 'tweaks': 9235, 'printer': 9236, 'roman': 9237, 'kkk': 9238, 'independently': 9239, 'verify': 9240, 'grail': 9241, 'do”': 9242, 'photographer': 9243, 'stresses': 9244, '2007': 9245, 'robbery': 9246, 'arkansas': 9247, 'colt': 9248, 'psychopath': 9249, 'nineteen': 9250, 'unfinished': 9251, 'vaccinations': 9252, 'indirectly': 9253, 'paw': 9254, 'frames': 9255, 'favorable': 9256, 'videogames': 9257, 'cultures': 9258, 'qualifications': 9259, 'zippers': 9260, 'damm': 9261, 'debit': 9262, 'critics': 9263, 'cd': 9264, 'tails': 9265, 'reactionary': 9266, 'vernon': 9267, 'braces': 9268, 'heartbeat': 9269, 'column': 9270, 'lebron': 9271, 'comedic': 9272, 'justifiable': 9273, 'amendments': 9274, 'strawmen': 9275, 'requested': 9276, 'infidelity': 9277, 'delusions': 9278, 'psychosis': 9279, 'earliest': 9280, 'wooden': 9281, 'lungs': 9282, 'gunpoint': 9283, 'bew': 9284, 'lone': 9285, 'fictional': 9286, 'septic': 9287, 'utopia': 9288, 'montreal': 9289, 'philosophy': 9290, 'chore': 9291, 'stipulations': 9292, 'appreciates': 9293, 'overgrown': 9294, 'safest': 9295, 'cargo': 9296, 'oceans': 9297, 'democratically': 9298, 'buyer': 9299, 'beware': 9300, 'impersonating': 9301, 'emulator': 9302, 'connections': 9303, 'brightened': 9304, 'valium': 9305, 'opiate': 9306, 'jungle': 9307, 'rev': 9308, 'teabags': 9309, 'token': 9310, 'arbitrarily': 9311, 'annihilation': 9312, 'verdugo': 9313, 'trucker': 9314, 'caffe': 9315, 'hectic': 9316, 'gasped': 9317, 'beds': 9318, 'hyperbolic': 9319, 'tequila': 9320, 'diagnoses': 9321, 'overreacting': 9322, 'jungler': 9323, 'converted': 9324, 'edits': 9325, 'sequitur': 9326, 'dsa': 9327, 'exhausted': 9328, 'greet': 9329, 'marine': 9330, 'dignified': 9331, 'cackled': 9332, 'vicinity': 9333, 'photograph': 9334, 'endings': 9335, 'overtly': 9336, 'hamberders': 9337, 'awakening': 9338, 'hampton': 9339, 'divergence': 9340, 'narcissism': 9341, 'bfv': 9342, 'fingernails': 9343, 'arkham': 9344, 'stamps': 9345, 'silk': 9346, 'auld': 9347, 'harvest': 9348, 'racialized': 9349, 'nonchalant': 9350, 'errr': 9351, 'corrects': 9352, 'ao': 9353, 'florence': 9354, 'racked': 9355, 'grazed': 9356, 'dresses': 9357, 'eventual': 9358, 'supplement': 9359, 'messes': 9360, 'abs': 9361, 'sim': 9362, 'buyers': 9363, 'hides': 9364, 'bets': 9365, 'tackling': 9366, 'certified': 9367, 'accomplished': 9368, 'theatre': 9369, 'aav': 9370, 'entertains': 9371, 'laurel': 9372, 'unsatisfied': 9373, 'disqualified': 9374, 'minnesotan': 9375, 'backtrack': 9376, 'grinder': 9377, 'pretzel': 9378, 'pish': 9379, 'strategies': 9380, 'reclining': 9381, 'hormone': 9382, 'sizes': 9383, 'chased': 9384, 'scorpion': 9385, 'capitol': 9386, 'alchohol': 9387, 'opiates': 9388, 'declining': 9389, '56': 9390, 'characatures': 9391, 'ancap': 9392, 'instructed': 9393, 'instructions': 9394, 'cranking': 9395, 'slid': 9396, 'activision': 9397, 'freaked': 9398, 'ww3': 9399, \"40's\": 9400, 'foster': 9401, 'hellscape': 9402, 'abilities': 9403, 'purging': 9404, 'assad': 9405, 'subjects': 9406, 'cuter': 9407, 'modest': 9408, 'rhythms': 9409, '🤠': 9410, 'relates': 9411, 'suburb': 9412, 'protective': 9413, 'doublethink': 9414, 'pusher': 9415, 'purchasing': 9416, 'lithium': 9417, 'minke': 9418, 'berlin': 9419, '84': 9420, 'costco': 9421, 'strengths': 9422, 'pawed': 9423, 'filling': 9424, 'pension': 9425, 'preferring': 9426, 'comedycemetery': 9427, 'responsibilities': 9428, 'spain': 9429, 'sums': 9430, 'protector': 9431, 'indicator': 9432, 'pedal': 9433, 'lifeless': 9434, 'negotiation': 9435, 'focuses': 9436, 'heavies': 9437, 'recommends': 9438, 'intros': 9439, '“are': 9440, 'fest': 9441, 'teamwork': 9442, 'soos': 9443, 'siri': 9444, 'menstrual': 9445, 'margin': 9446, 'reelection': 9447, 'charities': 9448, 'astroturf': 9449, 'executive': 9450, 'piano': 9451, 'bedtime': 9452, 'attire': 9453, 'retro': 9454, 'waxed': 9455, 'contenders': 9456, 'smelled': 9457, 'grants': 9458, 'dickish': 9459, 'ripoff': 9460, 'boneless': 9461, 'foden': 9462, 'goodie': 9463, 'intrinsically': 9464, 'charitable': 9465, 'melo': 9466, 'f5': 9467, 'kr': 9468, 'spotting': 9469, 'yepp': 9470, 'bush': 9471, 'nbcsn': 9472, 'imam': 9473, 'companion': 9474, 'squeak': 9475, 'renewing': 9476, 'rescued': 9477, 'despacito': 9478, 'bjj': 9479, 'overdose': 9480, 'marker': 9481, 'sparked': 9482, 'antifa': 9483, 'sincere': 9484, '1918': 9485, 'purity': 9486, 'copying': 9487, 'tigres': 9488, 'curls': 9489, 'fusion': 9490, 'cubbies': 9491, 'overturn': 9492, 'projections': 9493, 'retreat': 9494, 'malachor': 9495, 'nepotism': 9496, 'ant': 9497, 'hitman': 9498, 'coastal': 9499, 'gatekeep': 9500, 'mlp': 9501, 'hurdle': 9502, 'negotiations': 9503, 'considerably': 9504, 'inclined': 9505, 'bandaid': 9506, 'prius': 9507, 'allways': 9508, 'ld': 9509, 'pwbpd': 9510, 'concentrate': 9511, 'braindead': 9512, 'bannable': 9513, 'riot': 9514, 'smite': 9515, 'terrors': 9516, '🎵': 9517, 'brokeback': 9518, 'banquet': 9519, 'kidney': 9520, 'inhaling': 9521, 'rejuvenated': 9522, 'penetrated': 9523, 'gnarly': 9524, 'cultists': 9525, 'islands': 9526, 'commited': 9527, 'witnessed': 9528, 'annoyingly': 9529, 'humid': 9530, 'whipped': 9531, 'stateless': 9532, 'fouled': 9533, 'tyl': 9534, '30th': 9535, 'flights': 9536, 'persons': 9537, 'mastermind': 9538, 'clears': 9539, 'fleece': 9540, 'foodie': 9541, 'pneumonia': 9542, 'shudders': 9543, 'neoliberal': 9544, 'amuse': 9545, 'fillers': 9546, 'warrior': 9547, 'ralph': 9548, 'miner': 9549, 'eth': 9550, 'fertilize': 9551, 'lawns': 9552, '500lb': 9553, 'circus': 9554, 'fills': 9555, 'digits': 9556, 'bleached': 9557, 'flour': 9558, 'statistically': 9559, 'stairway': 9560, 'fracture': 9561, 'visits': 9562, 'pressed': 9563, 'eliminations': 9564, 'gunst': 9565, 'shed': 9566, 'ambiguous': 9567, 'confuses': 9568, 'pnw': 9569, 'mono': 9570, 'sparse': 9571, 'societies': 9572, 'hotels': 9573, 'satan': 9574, 'bloom': 9575, 'protesters': 9576, 'deadass': 9577, 'mom’s': 9578, 'shoving': 9579, 'ba': 9580, 'erase': 9581, 'powell': 9582, 'coolio': 9583, 'wonderfully': 9584, '…': 9585, 'institute': 9586, 'litter': 9587, 'zebras': 9588, 'mascara': 9589, '“how': 9590, 'fu': 9591, 'killin': 9592, 'habitat': 9593, 'attach': 9594, 'barbed': 9595, 'botw': 9596, 'proudly': 9597, 'thieves': 9598, 'bouncing': 9599, 'marking': 9600, 'nooooo': 9601, 'trollgc': 9602, 'suspensions': 9603, 'bourgeoisie': 9604, 'stumbling': 9605, 'shabbat': 9606, 'promotes': 9607, 'kroger': 9608, 'persistent': 9609, 'pending': 9610, 'beige': 9611, \"who'll\": 9612, 'whooshed': 9613, 'wit': 9614, 'poisonous': 9615, 'hallucination': 9616, 'toyota': 9617, 'mornings': 9618, 'marketed': 9619, 'mushy': 9620, '2020’s': 9621, 'batman': 9622, 'awed': 9623, 'biography': 9624, 'laced': 9625, 'fentanyl': 9626, 'ire': 9627, 'chariot': 9628, 'margaritas': 9629, 'smartly': 9630, 'rocketed': 9631, 'matched': 9632, 'delve': 9633, 'cheeseburger': 9634, 'whataburger': 9635, 'retains': 9636, 'humping': 9637, 'frightened': 9638, 'plasma': 9639, 'pencils': 9640, 'dfac': 9641, 'hints': 9642, 'guides': 9643, 'killie': 9644, 'aussies': 9645, 'ramp': 9646, 'awfulness': 9647, 'mistyped': 9648, 'errands': 9649, 'industries': 9650, 'eyeballing': 9651, 'battalion': 9652, \"mom's\": 9653, 'etsy': 9654, 'dubbed': 9655, 'bork': 9656, 'led': 9657, 'frighteningly': 9658, 'imprisoned': 9659, 'preschool': 9660, 'coherent': 9661, 'scripture': 9662, 'lfg': 9663, 'aches': 9664, 'scarred': 9665, 'incentives': 9666, 'underpaid': 9667, 'mindfulness': 9668, 'infinity': 9669, 'reflex': 9670, 'pff': 9671, 'haphazard': 9672, 'flailing': 9673, 'psychopaths': 9674, 'willpower': 9675, '👍🏻': 9676, 'medications': 9677, 'literacy': 9678, 'diabetic': 9679, 'confirming': 9680, \"fuckin'\": 9681, 'schemes': 9682, 'sonny': 9683, 'timestamp': 9684, 'chants': 9685, 'fleeing': 9686, 'wes': 9687, 'ikea': 9688, 'challenges': 9689, 'decisively': 9690, 'stylist': 9691, 'observe': 9692, 'elegant': 9693, 'respective': 9694, 'hehe': 9695, 'livin': 9696, 'neurotypical': 9697, 'modes': 9698, 'complains': 9699, 'compliance': 9700, 'rapes': 9701, 'protests': 9702, 'boosted': 9703, 'eg': 9704, 'skype': 9705, 'butterfly': 9706, 'unworthy': 9707, 'granddaughter': 9708, 'reminiscent': 9709, 'breach': 9710, '“right”': 9711, 'cv': 9712, 'debaters': 9713, 'prejudice': 9714, 'homemade': 9715, 'gates': 9716, 'statute': 9717, 'pms': 9718, 'wipers': 9719, 'appendix': 9720, '“no': 9721, 'teaches': 9722, 'divine': 9723, 'sodas': 9724, \"pittsburgh's\": 9725, 'daylight': 9726, 'doorbell': 9727, 'sorcery': 9728, 'peaky': 9729, 'interacting': 9730, 'ira': 9731, 'seeker': 9732, 'slogans': 9733, 'flowing': 9734, 'corpses': 9735, 'trout': 9736, 'robs': 9737, 'tkachuk': 9738, 'scarf': 9739, 'tenure': 9740, 'bowling': 9741, 'rewarding': 9742, 'swept': 9743, \"00's\": 9744, 'lasts': 9745, 'shelters': 9746, '🤷🏼\\u200d♀️': 9747, 'teriyaki': 9748, 'boooo': 9749, 'philosophical': 9750, 'hitachi': 9751, 'wand': 9752, 'abathur': 9753, 'accordingly': 9754, 'bootcamp': 9755, 'flock': 9756, 'cautiously': 9757, 'bff': 9758, 'thathappened': 9759, 'warmth': 9760, 'distraught': 9761, 'espousing': 9762, 'goddamned': 9763, 'flashback': 9764, 'counseling': 9765, 'misheard': 9766, 'halls': 9767, 'pony': 9768, 'saddens': 9769, 'jokic': 9770, 'demisexual': 9771, 'texted': 9772, 'amigo': 9773, 'tourist': 9774, 'destination': 9775, 'groped': 9776, 'deffo': 9777, 'hotdog': 9778, '240': 9779, 'defenses': 9780, 'stretching': 9781, 'formulate': 9782, 'lapse': 9783, 'obamacare': 9784, 'stepmom': 9785, 'java': 9786, 'verses': 9787, 'cliche': 9788, 'farce': 9789, 'dfs': 9790, 'hoot': 9791, 'uselessness': 9792, 'yoda': 9793, 'compares': 9794, 'metaphors': 9795, 'interior': 9796, 'gardens': 9797, 'crossfire': 9798, \"6'\": 9799, 'bitterness': 9800, 'tattooed': 9801, 'trek': 9802, 'openings': 9803, 'mf': 9804, 'defect': 9805, 'sticky': 9806, 'ropes': 9807, 'voila': 9808, 'futures': 9809, 'trench': 9810, 'choosy': 9811, 'dashy': 9812, 'scump': 9813, 'polygamous': 9814, 'unsubscribed': 9815, 'uncharacteristic': 9816, 'aesthetics': 9817, 'unrepresentative': 9818, 'weebs': 9819, 'copypasta': 9820, 'twas': 9821, 'liable': 9822, 'roach': 9823, 'complications': 9824, 'ignores': 9825, 'horrified': 9826, 'drone': 9827, 'keto': 9828, 'rusty': 9829, 'logging': 9830, 'scepter': 9831, 'referee': 9832, 'traumatic': 9833, 'relating': 9834, 'transport': 9835, 'represented': 9836, 'medieval': 9837, 'spool': 9838, 'lurked': 9839, 'cliff': 9840, 'historic': 9841, 'vasectomy': 9842, 'compensate': 9843, 'mist': 9844, '😏': 9845, 'creation': 9846, 'comedown': 9847, 'snitches': 9848, '😭😭😭': 9849, 'offside': 9850, 'anecdotally': 9851, 'pedophiles': 9852, 'browser': 9853, 'rivalry': 9854, 'exclusives': 9855, 'chem': 9856, 'shortest': 9857, 'redirect': 9858, 'gurl': 9859, 'funk': 9860, 'believer': 9861, 'dimension': 9862, 'rainy': 9863, 'onions': 9864, 'toad': 9865, 'hotdogs': 9866, 'synonymous': 9867, 'bail': 9868, 'lucid': 9869, 'nofap': 9870, 'thj': 9871, 'remembers': 9872, 'gruesome': 9873, 'limp': 9874, 'retardation': 9875, 'bootlicking': 9876, 'interfered': 9877, 'pushback': 9878, 'workout': 9879, 'venezuelan': 9880, 'singling': 9881, 'hearsay': 9882, 'pervert': 9883, 'demonstrated': 9884, 'smartest': 9885, 'et': 9886, 'torah': 9887, 'flaws': 9888, 'doorway': 9889, 'banker': 9890, 'extremism': 9891, 'postage': 9892, 'muster': 9893, 'ginger': 9894, 'sunrise': 9895, 'hosts': 9896, 'behaviors': 9897, 'temperatures': 9898, 'approximately': 9899, '4000': 9900, 'maternal': 9901, 'finite': 9902, 'cockles': 9903, 'goooo': 9904, 'campuses': 9905, 'fiscal': 9906, 'choosingbeggars': 9907, 'proclaimed': 9908, 'nationalists': 9909, 'specify': 9910, 'proverb': 9911, 'meltdown': 9912, 'rampant': 9913, 'increasingly': 9914, 'populations': 9915, 'bubbling': 9916, 'surface': 9917, 'railing': 9918, 'polluters': 9919, 'verbally': 9920, 'mercury': 9921, 'spilled': 9922, 'relapsing': 9923, 'waze': 9924, 'off’': 9925, 'vintage': 9926, 'competing': 9927, 'prolonged': 9928, 'payback': 9929, 'hostess': 9930, 'redesign': 9931, 'adamant': 9932, 'therapists': 9933, 'hallucinations': 9934, 'outweigh': 9935, 'vaccinating': 9936, 'unleashed': 9937, 'smoothie': 9938, 'recipes': 9939, 'chaplain': 9940, 'unconditionally': 9941, 'afc': 9942, 'chefs': 9943, 'fixes': 9944, 'hosting': 9945, 'morocco': 9946, 'rosa': 9947, 'tread': 9948, '▫️': 9949, 'iso': 9950, 'interracial': 9951, 'niche': 9952, 'compilation': 9953, 'dh': 9954, 'scientifically': 9955, 'rockin': 9956, 'obsessively': 9957, 'upvoting': 9958, '1970s': 9959, 'deformed': 9960, 'headbutt': 9961, 'updoot': 9962, 'loosing': 9963, 'accounting': 9964, 'metrics': 9965, 'praises': 9966, 'snag': 9967, 'paired': 9968, 'debunked': 9969, 'whips': 9970, 'shoe': 9971, 'buttcoin': 9972, 'troo': 9973, 'dan': 9974, 'flattering': 9975, 'sanctuary': 9976, 'solly': 9977, 'contents': 9978, 'packet': 9979, 'dreamed': 9980, 'presumably': 9981, 'patrol': 9982, 'dasher': 9983, 'lipstick': 9984, 'collecting': 9985, 'restore': 9986, 'livepd': 9987, 'kpop': 9988, 'bedside': 9989, 'eagle': 9990, 'nair': 9991, 'globally': 9992, 'corpus': 9993, 'glitch': 9994, 'defencemen': 9995, 'sounding': 9996, 'petrified': 9997, 'biting': 9998, 'drags': 9999, 'illnesses': 10000, 'fatness': 10001, 'detached': 10002, 'restart': 10003, 'founder': 10004, 'mastered': 10005, 'atlantica': 10006, 'rising': 10007, 'swipe': 10008, 'tasteful': 10009, 'sharply': 10010, 'publix': 10011, 'fetishists': 10012, 'asbestos': 10013, 'mtn': 10014, 'roam': 10015, 'vitamins': 10016, 'sucka': 10017, 'keemstar': 10018, 'pornstars': 10019, 'invade': 10020, 'achievements': 10021, 'wander': 10022, 'outlandish': 10023, 'supernatural': 10024, 'iamverysmart': 10025, 'fluent': 10026, 'johns': 10027, 'tracer': 10028, 'brig': 10029, 'peaceful': 10030, \"year's\": 10031, 'y2k': 10032, 'husbands': 10033, 'peanuts': 10034, 'dortmund': 10035, 'scrolled': 10036, 'arrives': 10037, 'insights': 10038, 'wetv': 10039, 'tlc': 10040, 'nothing’s': 10041, 'pillars': 10042, 'lotion': 10043, 'aff': 10044, 'chameleon': 10045, 'ligament': 10046, 'medals': 10047, 'doxing': 10048, 'shudder': 10049, 'parked': 10050, 'antinatalist': 10051, 'xo': 10052, 'litre': 10053, 'apron': 10054, 'brownie': 10055, 'legions': 10056, 'bigots': 10057, '6am': 10058, 'swf': 10059, 'unleash': 10060, 'chu': 10061, 'taxation': 10062, '💖': 10063, 'tunneling': 10064, 'sms': 10065, 'wield': 10066, 'rbg': 10067, 'wedlock': 10068, 'stoning': 10069, 'abductions': 10070, 'avalanche': 10071, 'adjustments': 10072, 'contradicted': 10073, 'barbecue': 10074, 'snitch': 10075, 'o7': 10076, 'pitched': 10077, 'crowds': 10078, 'happen”': 10079, 'positivity': 10080, 'suspicions': 10081, 'wana': 10082, 'folding': 10083, 'virtually': 10084, 'fraud': 10085, 'fash': 10086, 'heretics': 10087, 'waterproof': 10088, 'knickers': 10089, 'joint': 10090, 'tilt': 10091, 'attendant': 10092, 'everloving': 10093, 'queensland': 10094, 'measuring': 10095, 'sour': 10096, 'boye': 10097, 'scoreboard': 10098, 'comin': 10099, 'tights': 10100, 'submitted': 10101, 'resignation': 10102, '“fuck': 10103, 'grandmaster': 10104, \"arby's\": 10105, 'ahl': 10106, 'urban': 10107, 'sugars': 10108, 'ploy': 10109, 'hugely': 10110, 'mushroom': 10111, 'pumping': 10112, '09': 10113, 'truer': 10114, 'bloopers': 10115, 'outlook': 10116, 'tines': 10117, \"state's\": 10118, 'manipulated': 10119, 'applicants': 10120, 'penpal': 10121, 'downloading': 10122, 'danced': 10123, 'depictions': 10124, 'disturb': 10125, 'obligation': 10126, 'ancestors': 10127, 'nuke': 10128, 'msm': 10129, 'winterfell': 10130, 'targeted': 10131, 'crusade': 10132, 'dye': 10133, 'traveler': 10134, 'hacking': 10135, 'dedmon': 10136, 'dishwasher': 10137, 'argh': 10138, 'translates': 10139, 'bpa': 10140, 'smearing': 10141, 'ulster': 10142, 'punctuation': 10143, 'projected': 10144, '92': 10145, 'mythology': 10146, 'convincing': 10147, \"turkey's\": 10148, 'nxt': 10149, 'publicize': 10150, 'multiplying': 10151, \"girl'\": 10152, 'stabbing': 10153, 'intimidated': 10154, 'travelling': 10155, 'feint': 10156, 'baths': 10157, 'dex': 10158, 'captured': 10159, 'imposing': 10160, 'claps': 10161, 'dismiss': 10162, 'anchor': 10163, 'demographic': 10164, 'accountability': 10165, 'journalistic': 10166, 'association': 10167, 'kitties': 10168, 'commenters': 10169, 'objecting': 10170, 'apathetic': 10171, 'flashlight': 10172, 'censorship': 10173, 'tumour': 10174, 'mutations': 10175, 'schadenfreude': 10176, 'bun': 10177, 'omelette': 10178, 'errors': 10179, 'horcruxes': 10180, 'eyesight': 10181, 'vaseline': 10182, 'zipper': 10183, 'diner': 10184, 'thr': 10185, 'freaks': 10186, 'renew': 10187, 'dragging': 10188, 'wagon': 10189, 'stacies': 10190, 'verified': 10191, 'exploits': 10192, 'cad': 10193, 'surgeries': 10194, 'immersive': 10195, 'honeslty': 10196, 'dyin': 10197, 'heaps': 10198, 'payday': 10199, 'shitload': 10200, 'criticisms': 10201, 'godlike': 10202, 'cider': 10203, 'vinegar': 10204, 'sovereignty': 10205, 'forgettable': 10206, 'crunch': 10207, 'screenings': 10208, 'releases': 10209, 'unconstitutional': 10210, 'facilities': 10211, 'streams': 10212, 'olympics': 10213, 'masturbating': 10214, 'shredded': 10215, 'acquaintance': 10216, 'fran': 10217, 'netherlands': 10218, 'bec': 10219, 'ep4': 10220, 'granny': 10221, 'mania': 10222, 'mason': 10223, 'neigh': 10224, 'nitpick': 10225, 'thereof': 10226, 'accessories': 10227, 'settings': 10228, '“so': 10229, 'overeating': 10230, 'scores': 10231, 'cords': 10232, 'syndicalism': 10233, 'amusement': 10234, 'collision': 10235, 'byte': 10236, 'fortune': 10237, 'ranger': 10238, 'strangest': 10239, 'peanut': 10240, 'extravagant': 10241, 'persuasion': 10242, 'ambient': 10243, 'aligned': 10244, 'retrieve': 10245, 'portraits': 10246, 'correlated': 10247, 'nuxia': 10248, '77': 10249, 'scariest': 10250, 'twd': 10251, 'jabbing': 10252, 'sofa': 10253, 'doggos': 10254, 'slaves': 10255, 'sh': 10256, 'kool': 10257, 'rotting': 10258, 'beckons': 10259, 'bowls': 10260, 'crabtree': 10261, 'vertical': 10262, 'ala': 10263, 'prosecute': 10264, 'comrades': 10265, 'cvs': 10266, 'barstool': 10267, 'unblockable': 10268, 'ect': 10269, 'luckiest': 10270, 'narcissist': 10271, 'madison': 10272, 'thailand': 10273, 'salute': 10274, 'schedules': 10275, 'quantity': 10276, 'sheets': 10277, 'moody': 10278, 'finkle': 10279, 'einhorn': 10280, 'thrash': 10281, 'ink': 10282, 'restricts': 10283, 'accessing': 10284, 'stunted': 10285, 'impulse': 10286, 'mondays': 10287, 'perfection': 10288, 'cunning': 10289, 'yoghurt': 10290, 'announcing': 10291, 'digestive': 10292, 'tsn': 10293, 'manageable': 10294, 'sauerkraut': 10295, 'broner': 10296, 'jags': 10297, 'suv': 10298, 'dwelling': 10299, 'walker': 10300, 'neocons': 10301, 'indulged': 10302, 'software': 10303, 'engineering': 10304, 'portrayed': 10305, '31st': 10306, 'assure': 10307, 'labeling': 10308, 'obesity': 10309, 'countrymen': 10310, '🤷\\u200d♂️': 10311, 'continually': 10312, 'tomatoes': 10313, 'anon': 10314, 'representing': 10315, 'okogie': 10316, 'estimation': 10317, 'scandinavia': 10318, 'melted': 10319, 'maid': 10320, 'aloof': 10321, 'fournier': 10322, 'crossposts': 10323, 'girlfriends': 10324, 'wayyyy': 10325, 'feds': 10326, 'unknown': 10327, '52': 10328, 'beep': 10329, 'inhumane': 10330, 'dhs': 10331, 'senior': 10332, '“that’s': 10333, 'oneself': 10334, 'exposes': 10335, 'viva': 10336, 'hesitate': 10337, 'headaches': 10338, 'tasting': 10339, 'shrek': 10340, 'weddings': 10341, 'offsides': 10342, 'fewer': 10343, 'lamest': 10344, 'violin': 10345, 'inflating': 10346, 'lus': 10347, 'douchebags': 10348, 'rogue': 10349, 'daunting': 10350, 'chewing': 10351, 'δ': 10352, 'bucca': 10353, 'shaggy': 10354, 'vaxxed': 10355, 'skater': 10356, 'overnight': 10357, 'wooshed': 10358, 'summerside': 10359, 'implicitly': 10360, 'ii': 10361, 'ejected': 10362, 'liga': 10363, 'fled': 10364, 'reddits': 10365, 'differ': 10366, 'african': 10367, 'replacing': 10368, 'foresee': 10369, 'ridiculed': 10370, 'usc': 10371, 'companionship': 10372, '3ds': 10373, 'shortcomings': 10374, 'cussing': 10375, 'flick': 10376, 'translucent': 10377, 'jpeg': 10378, 'enchanted': 10379, 'sfw': 10380, 'releasing': 10381, '50mg': 10382, 'paradox': 10383, 'transitioning': 10384, 'feral': 10385, 'skillfully': 10386, 'matte': 10387, 'parse': 10388, 'someway': 10389, 'painfully': 10390, 'gel': 10391, 'atl': 10392, 'auschwitz': 10393, '666': 10394, 'bananas': 10395, 'sloths': 10396, 'fraction': 10397, 'favorability': 10398, 'rationalist': 10399, 'bracket': 10400, 'addresses': 10401, 'unsuspecting': 10402, 'clinic': 10403, 'tscc': 10404, 'attachments': 10405, 'prog': 10406, 'lobster': 10407, \"freakin'\": 10408, 'cmv': 10409, 'intentions': 10410, 'universities': 10411, 'jewel': 10412, 'centralized': 10413, 'suspended': 10414, 'heroic': 10415, 'smacked': 10416, 'chunky': 10417, 'district': 10418, 'applicable': 10419, 'tortilla': 10420, 'oml': 10421, 'embedded': 10422, 'asg': 10423, 'leeches': 10424, 'billionaire': 10425, 'investigations': 10426, 'puppies': 10427, 'webpages': 10428, 'nostalgic': 10429, 'shiny': 10430, 'familiarity': 10431, 'initiated': 10432, 'simplistic': 10433, 'kangaroo': 10434, 'cheque': 10435, 'phrases': 10436, 'poem': 10437, 'conversion': 10438, 'elk': 10439, 'fold': 10440, 'aks': 10441, 'scratches': 10442, 'worms': 10443, 'sleeve': 10444, 'speculating': 10445, 'borders': 10446, 'astrology': 10447, 'renamed': 10448, 'myspace': 10449, 'savvy': 10450, 'scissors': 10451, 'queer': 10452, 'arcade': 10453, 'possum': 10454, 'gayest': 10455, 'trainwreck': 10456, 'swoon': 10457, 'optimal': 10458, 'r1': 10459, 'alcoholism': 10460, 'lunatics': 10461, 'damp': 10462, 'hover': 10463, 'graduates': 10464, 'salaries': 10465, 'belive': 10466, 'unborn': 10467, 'baffling': 10468, 'butcher': 10469, 'assistant': 10470, 'wannabe': 10471, '“too': 10472, 'interrupting': 10473, 'cent': 10474, 'standalone': 10475, 'nerfs': 10476, 'cramps': 10477, 'unconventional': 10478, 'assessment': 10479, 'noticing': 10480, 'sg12': 10481, 'titan': 10482, 'bunk': 10483, 'deprived': 10484, 'adept': 10485, 'dot': 10486, 'foil': 10487, '“retarded”': 10488, 'fillings': 10489, 'drip': 10490, 'wtaf': 10491, 'coping': 10492, 'mechanism': 10493, 'sideburns': 10494, 'heaviest': 10495, 'bust': 10496, '538': 10497, 'flairs': 10498, 'amiright': 10499, 'arrogant': 10500, 'mueller': 10501, 'crate': 10502, 'demonized': 10503, 'brewery': 10504, 'kinks': 10505, 'dysmorphia': 10506, '21st': 10507, 'brained': 10508, 'jacked': 10509, 'disappoints': 10510, 'violations': 10511, 'rudeness': 10512, 'fester': 10513, 'leo': 10514, 'nudity': 10515, \"'have\": 10516, 'kilter': 10517, 'deflecting': 10518, 'broader': 10519, 'selfless': 10520, 'puke': 10521, 'milquetoast': 10522, 'marxism': 10523, 'demonic': 10524, 'nomination': 10525, 'convict': 10526, 'snows': 10527, 'calves': 10528, 'booth': 10529, '81': 10530, 'pubes': 10531, 'television': 10532, 'pledge': 10533, 'peeves': 10534, '97': 10535, 'doctored': 10536, 'pooping': 10537, 'docs': 10538, 'weighted': 10539, 'ave': 10540, 'mojo': 10541, 'testimony': 10542, 'bitrate': 10543, 'retard': 10544, 'highkey': 10545, 'memer': 10546, 'addict': 10547, 'bitchy': 10548, 'occured': 10549, 'cutie': 10550, 'reno': 10551, 'obj': 10552, 'slump': 10553, 'rome': 10554, 'neatly': 10555, 'manners': 10556, 'par': 10557, 'mamma': 10558, 'scholars': 10559, 'tags': 10560, 'affiliate': 10561, 'assessments': 10562, 'strung': 10563, 'fatlogic': 10564, 'ctr': 10565, 'nick': 10566, 'neglected': 10567, 'balling': 10568, 'hmb': 10569, 'tng': 10570, 'counselor': 10571, 'kayaking': 10572, 'lurkers': 10573, 'shafted': 10574, 'cigars': 10575, 'he‘s': 10576, 'tricking': 10577, 'internalized': 10578, 'slob': 10579, 'wheelchair': 10580, 'complicit': 10581, 'debates': 10582, 'heavier': 10583, 'gambling': 10584, '23andme': 10585, 'hee': 10586, 'dared': 10587, 'currency': 10588, 'haunt': 10589, 'riders': 10590, '59': 10591, 'slick': 10592, 'dummy': 10593, 'rigged': 10594, 'alberta': 10595, '1mg': 10596, 'satisfy': 10597, 'du': 10598, 'greener': 10599, 'pastures': 10600, 'rainbows': 10601, \"church's\": 10602, 'empathize': 10603, 'acl': 10604, 'barcelona': 10605, 'psg': 10606, 'sahara': 10607, 'thay': 10608, 'tankies': 10609, 'alley': 10610, 'camaraderie': 10611, 'commented': 10612, 'b4': 10613, 'diamonds': 10614, 'geology': 10615, 'centuries': 10616, 'peer': 10617, 'bribes': 10618, 'charm': 10619, 'reflective': 10620, 'knowitall': 10621, 'destructive': 10622, 'drowns': 10623, 'stereotypes': 10624, 'tosh': 10625, 'murderedbywords': 10626, 'mashing': 10627, 'palm': 10628, 'cheater': 10629, 'badger': 10630, '🤕': 10631, 'refrigerator': 10632, 'mrw': 10633, 'completly': 10634, 'blackmail': 10635, 'betrays': 10636, 'ape': 10637, 'amygdala': 10638, 'confuse': 10639, 'orb': 10640, 'aboard': 10641, 'pies': 10642, 'crusts': 10643, 'dodging': 10644, 'cbs': 10645, 'dictators': 10646, 'manifest': 10647, 'collective': 10648, 'contribution': 10649, 'psychologically': 10650, 'removes': 10651, 'lid': 10652, 'unimportant': 10653, 'powerhouse': 10654, 'slumping': 10655, 'depend': 10656, 'spanking': 10657, 'purposefully': 10658, 'debunking': 10659, 'fc5': 10660, 'brisbane': 10661, 'endorsed': 10662, 'winger': 10663, 'routinely': 10664, 'innit': 10665, 'innings': 10666, 'steroids': 10667, 'scooter': 10668, 'upholding': 10669, 'interchange': 10670, 'habitats': 10671, 'nutter': 10672, 'organizations': 10673, 'norway': 10674, 'belgium': 10675, 'diets': 10676, 'runescape': 10677, 'heretic': 10678, 'learns': 10679, 'reminders': 10680, 'chilli': 10681, 'combine': 10682, 'montage': 10683, 'compilations': 10684, 'chats': 10685, 'studied': 10686, 'stench': 10687, 'infants': 10688, 'eyelashes': 10689, 'surveillance': 10690, 'quantities': 10691, 'pushes': 10692, 'atrocious': 10693, 'confined': 10694, 'nudged': 10695, 'denies': 10696, '3pm': 10697, 'tense': 10698, 'malaise': 10699, 'swore': 10700, 'organ': 10701, 'fatty': 10702, 'stg': 10703, 'favoured': 10704, 'cringed': 10705, 'poppy': 10706, 'porto': 10707, 'surgeon': 10708, 'referred': 10709, 'lingo': 10710, 'classroom': 10711, 'float': 10712, 'franchises': 10713, 'gathered': 10714, 'longtime': 10715, \"president's\": 10716, 'jurassic': 10717, 'papers': 10718, 'restoring': 10719, 'gems': 10720, 'lance': 10721, 'snatch': 10722, 'nudes': 10723, 'pisses': 10724, 'nurk': 10725, 'tru': 10726, 'justifying': 10727, 'hoax': 10728, 'ppv': 10729, 'reread': 10730, 'issur': 10731, 'broadway': 10732, 'receivers': 10733, 'prostitutes': 10734, 'overblown': 10735, 'breasts': 10736, 'victimless': 10737, 'benched': 10738, 'bicycle': 10739, 'hotspots': 10740, 'reciprocate': 10741, 'secured': 10742, 'modeling': 10743, 'plastics': 10744, 'eternity': 10745, 'griefing': 10746, 'smokes': 10747, 'smoker': 10748, 'photography': 10749, 'cigar': 10750, 'glitter': 10751, 'abuser': 10752, 'earthquake': 10753, 'occurs': 10754, 'climbing': 10755, 'mourning': 10756, 'offending': 10757, 'driven': 10758, 'quadruple': 10759, 'scratching': 10760, 'objectifying': 10761, 'milan': 10762, 'breeds': 10763, 'ifunny': 10764, 'seduction': 10765, 'conformity': 10766, 'rollercoaster': 10767, 'ibiteyou': 10768, 'clinch': 10769, '1v1': 10770, 'campaigns': 10771, 'canisters': 10772, 'lgd': 10773, 'forgiveness': 10774, 'skit': 10775, 'guffawed': 10776, 'flooding': 10777, 'dublin': 10778, 'swift': 10779, 'organize': 10780, 'container': 10781, 'survives': 10782, 'explodes': 10783, 'sceptical': 10784, 'purposes': 10785, 'exploded': 10786, 'furiously': 10787, '7am': 10788, 'lovable': 10789, '11th': 10790, 'insidious': 10791, 'blogs': 10792, 'attached': 10793, 'globalists': 10794, 'invoking': 10795, 'dwarfs': 10796, 'summed': 10797, 'childbirth': 10798, 'wittle': 10799, 'dweller': 10800, 'births': 10801, 'dbt': 10802, 'wept': 10803, 'int': 10804, 'elitists': 10805, 'prohibited': 10806, 'feared': 10807, 'cowardice': 10808, 'spacing': 10809, 'quarantine': 10810, 'limes': 10811, 'royalty': 10812, 'unis': 10813, 'snipe': 10814, 'stoic': 10815, 'fulfill': 10816, 'del': 10817, 'hallways': 10818, 'contemplate': 10819, 'differing': 10820, 'imbecile': 10821, 'ooohhh': 10822, 'cfb': 10823, 'traditions': 10824, 'ahem': 10825, 'activated': 10826, 'harden': 10827, 'derangement': 10828, 'slander': 10829, 'checklist': 10830, 'romania': 10831, 'occasional': 10832, 'gained': 10833, 'distracted': 10834, 'bob': 10835, 'ren': 10836, 'headquarters': 10837, 'transported': 10838, 'sk': 10839, 'haven': 10840, 'progresses': 10841, 'infuriated': 10842, 'trajectory': 10843, 'achilles': 10844, 'upstairs': 10845, 'feits': 10846, 'empathetic': 10847, 'loops': 10848, 'contentious': 10849, 'tiers': 10850, 'rav': 10851, 'webcams': 10852, 'shrug': 10853, 'procedures': 10854, 'quits': 10855, 'bisexual': 10856, 'pansexual': 10857, 'boggling': 10858, 'meeeee': 10859, 'vans': 10860, 'fallacious': 10861, 'stripper': 10862, 'dui': 10863, 'cowardly': 10864, 'expiring': 10865, 'sniffing': 10866, 'connotation': 10867, 'cravings': 10868, \"poe's\": 10869, 'satirical': 10870, 'nop': 10871, 'upgraded': 10872, 'hills': 10873, 'gather': 10874, 'mmorpg': 10875, 'cowgirls': 10876, 'witten': 10877, 'subscriber': 10878, 'kia': 10879, 'itd': 10880, 'dbd': 10881, 'butler': 10882, 'homicidal': 10883, 'subsidized': 10884, 'mantra': 10885, 'alphabet': 10886, 'slug': 10887, 'documents': 10888, 'rifles': 10889, 'hokey': 10890, 'vandalized': 10891, 'indifferent': 10892, 'knot': 10893, 'tasteless': 10894, 'creamer': 10895, 'handheld': 10896, 'sizzle': 10897, 'featuring': 10898, 'lololol': 10899, '😍😍😍': 10900, 'sophisticated': 10901, 'baron': 10902, 'croissants': 10903, 'foolish': 10904, \"x'd\": 10905, 'news”': 10906, 'indicative': 10907, 'polar': 10908, 'vortex': 10909, 'spongebob': 10910, 'submissive': 10911, 'tifu': 10912, 'audit': 10913, 'dod': 10914, 'pitching': 10915, 'whaaat': 10916, 'squads': 10917, 'haul': 10918, 'otter': 10919, '3b': 10920, 'exaggerating': 10921, 'hindsight': 10922, 'downplay': 10923, 'plants': 10924, 'mash': 10925, 'howdy': 10926, 'denied': 10927, 'inexperienced': 10928, 'inept': 10929, 'toothless': 10930, 'bali': 10931, 'tweeting': 10932, 'yolk': 10933, 'verifying': 10934, 'hippo': 10935, 'germans': 10936, '🙈': 10937, 'tumor': 10938, 'ussr': 10939, 'diffrence': 10940, 'libtards': 10941, 'crops': 10942, 'unto': 10943, 'grindr': 10944, 'transfers': 10945, 'modeled': 10946, 'cardboard': 10947, 'doh': 10948, 'lucrative': 10949, 'occurrence': 10950, 'compliant': 10951, 'neighbourhood': 10952, 'segwit': 10953, 'pixel': 10954, 'springs': 10955, 'appreciation': 10956, 'burnout': 10957, 'teaming': 10958, 'bmw': 10959, 'swat': 10960, 'ttk': 10961, 'hairline': 10962, 'contracting': 10963, 'cpa': 10964, 'trippy': 10965, 'thriving': 10966, '£10': 10967, 'barista': 10968, 'redeemed': 10969, 'abt': 10970, \"yesterday's\": 10971, 'itches': 10972, 'kratz': 10973, 'glasgow': 10974, 'underwater': 10975, 'albany': 10976, 'realises': 10977, 'evaluate': 10978, 'icu': 10979, 'escort': 10980, 'trusts': 10981, 'dual': 10982, 'lineman': 10983, 'indica': 10984, 'spirited': 10985, 'darwin': 10986, 'select': 10987, 'whispers': 10988, 'pied': 10989, 'photoshopped': 10990, 'reopen': 10991, 'implementation': 10992, 'feud': 10993, 'elevator': 10994, 'breathtaking': 10995, 'trier': 10996, 'brainwash': 10997, 'usable': 10998, 'assemble': 10999, 'itchy': 11000, 'scratchy': 11001, 'polyamory': 11002, 'underneath': 11003, 'wha': 11004, '57': 11005, 'crowns': 11006, 'wording': 11007, 'covert': 11008, 'panda': 11009, 'punisher': 11010, '66': 11011, 'dildo': 11012, 'proudest': 11013, 'boomers': 11014, 'pact': 11015, 'hawk': 11016, 'seeds': 11017, 'creme': 11018, 'tweaked': 11019, 'nostalgia': 11020, 'shipped': 11021, 'customization': 11022, 'sera': 11023, 'stl': 11024, 'starfish': 11025, 'clogged': 11026, 'thinkers': 11027, 'cuffs': 11028, 'tempt': 11029, 'needy': 11030, 'withdrawl': 11031, 'the—': 11032, 'emasculating': 11033, 'layer': 11034, 'humility': 11035, 'adjustment': 11036, '1985': 11037, 'blindfold': 11038, 'squat': 11039, 'chub': 11040, 'enlighten': 11041, 'shuts': 11042, 'scammer': 11043, 'hindi': 11044, 'hangover': 11045, 'creeps': 11046, '185': 11047, 'cringeworthy': 11048, 'boyfriends': 11049, 'outcomes': 11050, 'beaver': 11051, 'apropos': 11052, 'flats': 11053, 'positioning': 11054, 'lube': 11055, 'corgis': 11056, '🙌': 11057, 'wii': 11058, 'spun': 11059, 'fumble': 11060, 'cabbage': 11061, 'fluffy': 11062, 'cosy': 11063, 'underused': 11064, 'quoth': 11065, 'storing': 11066, 'hahahahahaha': 11067, 'thrashers': 11068, 'explored': 11069, 'dvd': 11070, 'ray': 11071, 'fanatical': 11072, 'horde': 11073, 'subhuman': 11074, 'span': 11075, 'cozy': 11076, 'keyboard': 11077, 'canuck': 11078, 'lhw': 11079, 'barren': 11080, '205': 11081, 'merced': 11082, 'dashed': 11083, 'cosplayer': 11084, 'ja': 11085, 'watermelon': 11086, 'rappers': 11087, 'novels': 11088, 'independence': 11089, 'noodles': 11090, 'definitively': 11091, 'credited': 11092, 'homies': 11093, 'tactic': 11094, \"man'\": 11095, 'bearer': 11096, 'critique': 11097, '83rd': 11098, 'percentile': 11099, 'similiar': 11100, 'ryan': 11101, 'easiest': 11102, 'contractor': 11103, 'nono': 11104, 'dealers': 11105, 'justified': 11106, 'cesspool': 11107, 'export': 11108, 'premiums': 11109, 'archive': 11110, 'natal': 11111, 'nervousness': 11112, 'evidently': 11113, 'shivers': 11114, '≠': 11115, 'congressional': 11116, 'allstar': 11117, 'spiteful': 11118, 'fp': 11119, 'charging': 11120, 'servants': 11121, 'swtor': 11122, 'rex': 11123, 'communicating': 11124, 'overdrive': 11125, 'piracy': 11126, 'pd': 11127, 'rushing': 11128, 'lust': 11129, 'trunk': 11130, 'bettering': 11131, 'lifes': 11132, 'biker': 11133, 'apes': 11134, 'ea': 11135, 'printed': 11136, 'nmom': 11137, 'peppers': 11138, 'pdfs': 11139, 'puzzle': 11140, 'reopening': 11141, 'madden': 11142, '67': 11143, 'wronged': 11144, 'charger': 11145, 'priced': 11146, 'truckstop': 11147, 'percentages': 11148, 'sanders': 11149, 'graduation': 11150, 'backyard': 11151, 'stoners': 11152, 'memorial': 11153, 'trails': 11154, 'wireless': 11155, 'balloons': 11156, 'extinction': 11157, 'mars': 11158, 'stood': 11159, '420': 11160, 'swearing': 11161, 'sole': 11162, 'diablo': 11163, 'starcraft': 11164, 'copper': 11165, 'leaky': 11166, \"who've\": 11167, 'doink': 11168, 'winds': 11169, '1600': 11170, '200k': 11171, 'initiative': 11172, 'sidewalks': 11173, 'portfolio': 11174, 'amin': 11175, 'noobs': 11176, 'baited': 11177, 'loony': 11178, 'panels': 11179, 'immunocompromised': 11180, 'weights': 11181, \"artist's\": 11182, '🦈': 11183, 'grill': 11184, 'consciously': 11185, 'cakes': 11186, 'flawed': 11187, 'dental': 11188, '2004': 11189, 'hoodie': 11190, 'halifax': 11191, 'attempting': 11192, '45th': 11193, '100m': 11194, 'investigator': 11195, 'constructed': 11196, 's7': 11197, 'jonesing': 11198, 'grin': 11199, 'reform': 11200, 'hed': 11201, 'saskatoon': 11202, 'baffles': 11203, 'rabbids': 11204, 'pulp': 11205, 'infections': 11206, 'scarlet': 11207, 'circumcision': 11208, 'comps': 11209, 'strategic': 11210, 'applause': 11211, 'thug': 11212, 'embarrasing': 11213, 'dfw': 11214, 'digitally': 11215, 'executed': 11216, 'caesar': 11217, 'deliberate': 11218, 'musk': 11219, 'notre': 11220, 'difficulty': 11221, 'prop': 11222, 'unconscious': 11223, 'saver': 11224, 'wakes': 11225, 'lesbian': 11226, 'reveling': 11227, 'mmos': 11228, 'mindful': 11229, 'hum': 11230, 'smiles': 11231, 'heroin': 11232, 'formally': 11233, 'offline': 11234, 'moco': 11235, \"justno's\": 11236, 'drooling': 11237, 'oscars': 11238, 'crumbles': 11239, 'oo': 11240, 'strq': 11241, 'nominees': 11242, 'melting': 11243, 'pts': 11244, 'outfits': 11245, 'regulation': 11246, 'costing': 11247, 'hmc': 11248, 'winners': 11249, 'escalate': 11250, 'spy': 11251, 'spreads': 11252, 'biases': 11253, 'overlooked': 11254, 'disgusts': 11255, \"livin'\": 11256, 'sub”': 11257, 'inbox': 11258, 'ubi': 11259, 'anus': 11260, 'patronising': 11261, 'confronted': 11262, 'bixby': 11263, 'luggage': 11264, 'slash': 11265, 'comedian': 11266, 'anyhow': 11267, 'limewire': 11268, 'normalize': 11269, 'nooooooo': 11270, 'nevertheless': 11271, 'facto': 11272, 'nearest': 11273, 'farting': 11274, 'wifi': 11275, 'tarp': 11276, 'prescribed': 11277, 'obligated': 11278, 'thou': 11279, 'leadership': 11280, 'relies': 11281, 'tmor': 11282, 'masses': 11283, 'broadcaster': 11284, 'punches': 11285, 'chabad': 11286, 'semichah': 11287, 'sats': 11288, 'standardized': 11289, '2mm': 11290, 'rally': 11291, 'slipped': 11292, 'citadel': 11293, 'gatekeepers': 11294, 'selective': 11295, 'generalization': 11296, 'sector': 11297, 'babes': 11298, 'scout': 11299, 'kiki': 11300, 'droves': 11301, 'undeveloped': 11302, 'james': 11303, 'wb': 11304, 'sox': 11305, '2022': 11306, 'loosely': 11307, 'catcher': 11308, 'askreddit': 11309, 'kimono': 11310, 'gasoline': 11311, 'eliminates': 11312, 'shrink': 11313, 'lawful': 11314, 'placing': 11315, 'subnautica': 11316, 'freshman': 11317, 'turret': 11318, 'strictly': 11319, '🎶': 11320, 'tiger': 11321, 'encounters': 11322, 'bing': 11323, 'reactor': 11324, 'shoutout': 11325, 'measured': 11326, 'prosecution': 11327, 'blinked': 11328, 'districts': 11329, 'supermarket': 11330, 'rocking': 11331, 'positional': 11332, 'faux': 11333, 'stickied': 11334, 'tj': 11335, 'crabbe': 11336, 'playtime': 11337, 'tunnels': 11338, 'squidward': 11339, 'deuce': 11340, 'viable': 11341, 'rekt': 11342, 'earthers': 11343, 'oversized': 11344, 'suspects': 11345, 'sneaking': 11346, \"peoples'\": 11347, 'nylander': 11348, 'deployment': 11349, 'leather': 11350, 'basterisk': 11351, 'anf': 11352, 'province': 11353, 'populism': 11354, 'chuckling': 11355, 'reduces': 11356, 'cheesecake': 11357, 'factory': 11358, 'ultimatums': 11359, 'hams': 11360, 'indicating': 11361, 'uncles': 11362, 'attributes': 11363, 'churches': 11364, 'remix': 11365, 'gwent': 11366, 'witcher': 11367, '“your”': 11368, 'donkey': 11369, 'murmur': 11370, 'exceedingly': 11371, 'fuckkkkk': 11372, 'asst': 11373, 'boomer': 11374, 'boobies': 11375, 'wallow': 11376, 'tidbit': 11377, 'boost': 11378, 'how’d': 11379, 'bankruptcy': 11380, 'contraception': 11381, 'invented': 11382, 'tapes': 11383, 'shag': 11384, 'rite': 11385, 'yhea': 11386, 'minions': 11387, 'idf': 11388, 'slips': 11389, 'shook': 11390, 'negotiate': 11391, 'smarts': 11392, 'doubts': 11393, 'reliant': 11394, 'minors': 11395, 'disinterested': 11396, 'uyu': 11397, '😋': 11398, 'audiobook': 11399, 'repeal': 11400, 'sealed': 11401, 'turbo': 11402, 'overreacted': 11403, 'untreated': 11404, 'gettin': 11405, 'effin': 11406, 'executing': 11407, 'sexualized': 11408, 'plausible': 11409, 'arthouse': 11410, 'phenomenon': 11411, 'nevada': 11412, 'statism': 11413, 'miserably': 11414, 'concepts': 11415, 'cyst': 11416, 'rubbed': 11417, 'integration': 11418, 'grats': 11419, 'stump': 11420, 'camo': 11421, 'pipeline': 11422, 'severely': 11423, 'creativity': 11424, 'eyebrow': 11425, 'prominent': 11426, 'paddles': 11427, 'teamyoutube': 11428, 'starch': 11429, 'imperialist': 11430, '€': 11431, '🤷🏻\\u200d♂️': 11432, 'baloney': 11433, 'cornish': 11434, 'lw': 11435, 'effected': 11436, 'paychecks': 11437, 'slaughtered': 11438, \"5'1\": 11439, 'prisoner': 11440, 'disappears': 11441, 'interprets': 11442, 'snuck': 11443, 'feefees': 11444, 'coordinated': 11445, 'ing': 11446, 'sled': 11447, 'kaede': 11448, 'imaging': 11449, \"shit's\": 11450, 'locking': 11451, 'belittling': 11452, 'playmaker': 11453, 'stove': 11454, 'spice': 11455, 'buh': 11456, '😪': 11457, 'eardrums': 11458, '‘em': 11459, 'spidey': 11460, 'euthanasia': 11461, 'imgur': 11462, 'escaped': 11463, \"family's\": 11464, 'demeaning': 11465, 'brains': 11466, 'porch': 11467, 'woooshed': 11468, 'dissapointed': 11469, 'millenials': 11470, 'maximize': 11471, '“good': 11472, 'you”': 11473, 'buckles': 11474, 'ethereum': 11475, 'enchantress': 11476, 'demolition': 11477, 'damnnnn': 11478, 'slacking': 11479, 'overlay': 11480, 'haunted': 11481, 'pharmacy': 11482, 'chapter': 11483, 'slaving': 11484, 'richmond': 11485, 'flamed': 11486, 'whiff': 11487, 'scorers': 11488, 'majoring': 11489, 'display': 11490, 'excess': 11491, 'meeeeee': 11492, 'pcs': 11493, 'validating': 11494, 'invincible': 11495, 'grease': 11496, 'shampoo': 11497, 'mullet': 11498, 'heap': 11499, \"go'\": 11500, \"character's\": 11501, 'ttigers': 11502, 'blues': 11503, 'kotaku': 11504, 'cronies': 11505, 'taunting': 11506, 'brotherly': 11507, 'thang': 11508, 'righteousness': 11509, 'exceed': 11510, 'grumpy': 11511, 'i‘m': 11512, 'rookies': 11513, 'comically': 11514, 'soundtrack': 11515, 'generalizations': 11516, 'guzzling': 11517, 'skinnier': 11518, 'soulmates': 11519, 'premiere': 11520, 'renaissance': 11521, 'developer': 11522, 'p3': 11523, 'sabres': 11524, 'belts': 11525, 'casuals': 11526, 'forgiven': 11527, 'prince': 11528, 'unbearable': 11529, 'generalized': 11530, 'looted': 11531, 'enslaved': 11532, 'sighting': 11533, 'whyyyyy': 11534, 'respecting': 11535, \"other's\": 11536, \"'no\": 11537, 'is”': 11538, 'schlock': 11539, 'misspell': 11540, 'rainforest': 11541, 'shootings': 11542, 'gras': 11543, 'secondly': 11544, 'blackhawks': 11545, 'duff': 11546, 'declaration': 11547, 'pond': 11548, 'ballroom': 11549, 'screening': 11550, 'bride': 11551, '900': 11552, 'looooot': 11553, 'destroys': 11554, 'braid': 11555, 'pubic': 11556, 'newest': 11557, 'judgment': 11558, 'mixer': 11559, 'gooooo': 11560, 'robbed': 11561, 'deodorant': 11562, 'illustrate': 11563, 'dressing': 11564, 'loli': 11565, 'otacon': 11566, 'incompetence': 11567, 'swt': 11568, 'immense': 11569, 'vaguely': 11570, 'compromises': 11571, 'rampage': 11572, 'overworked': 11573, 'coalition': 11574, 'nonsensical': 11575, 'perfume': 11576, 'combust': 11577, 'iphones': 11578, 'diagnosis': 11579, 'detect': 11580, 'appropriation': 11581, 'habs': 11582, 'microsoft': 11583, \"''\": 11584, 'grabbing': 11585, 'hispanics': 11586, 'rva': 11587, 'pming': 11588, 'hometown': 11589, 'arrangement': 11590, 'stomping': 11591, 'titans': 11592, 'butthole': 11593, 'salah': 11594, 'inspection': 11595, 'reddit’s': 11596, 'monthly': 11597, 'mortals': 11598, 'glint': 11599, 'ketamine': 11600, 'globes': 11601, 'interviewing': 11602, 'expansions': 11603, 'makers': 11604, 'distinct': 11605, 'pear': 11606, 'betraying': 11607, 'lesser': 11608, 'obsessions': 11609, 'unconvincing': 11610, 'katana': 11611, 'specializes': 11612, 'antisemitism': 11613, 'aiming': 11614, 'ruler': 11615, 'xl': 11616, 'giggles': 11617, 'tankie': 11618, 'inherited': 11619, 'divide': 11620, 'parkour': 11621, 'pdx': 11622, 'guidelines': 11623, 'texan': 11624, 'bulwark': 11625, 'nuggs': 11626, 'las': 11627, 'venues': 11628, 'upgrading': 11629, 'caffeine': 11630, 'unfiltered': 11631, 'cpc': 11632, 'rockstar': 11633, 'therm': 11634, 'chic': 11635, 'ukrainian': 11636, 'bumps': 11637, '4head': 11638, 'cannibal': 11639, '170': 11640, 'likewise': 11641, 'joins': 11642, 'tulsi': 11643, 'presenter': 11644, 'transplant': 11645, '49ers': 11646, 'sickness': 11647, 'tourists': 11648, 'definitive': 11649, 'prodigy': 11650, 'asterisks': 11651, 'immidiately': 11652, 'conforming': 11653, 'creed': 11654, 'browse': 11655, 'vermont': 11656, 'interrupted': 11657, 'scaring': 11658, 'tirade': 11659, 'fluids': 11660, 'welding': 11661, \"son's\": 11662, 'timer': 11663, 'git': 11664, 'tying': 11665, 'bdsm': 11666, 'juniors': 11667, 'her”': 11668, 'safari': 11669, 'nts': 11670, 'eligible': 11671, 'nb': 11672, 'instruct': 11673, 'addicts': 11674, 'improvise': 11675, 'uj': 11676, 'memphis': 11677, 'cyclist': 11678, 'shadowy': 11679, 'pubs': 11680, 'nea': 11681, 'pinned': 11682, 'ruthless': 11683, 'probation': 11684, 'someones': 11685, 'scummy': 11686, 'noticable': 11687, 'lag': 11688, 'loner': 11689, 'recreate': 11690, 'checkmate': 11691, 'starwars': 11692, 'header': 11693, 'snd': 11694, 'tease': 11695, 'concentrating': 11696, 'hamsters': 11697, 'hovering': 11698, 'nacho': 11699, 'intersection': 11700, 'hydrated': 11701, 'glimpses': 11702, 'fickle': 11703, 'demographics': 11704, 'confound': 11705, 'hormonal': 11706, 'viral': 11707, 'markers': 11708, 'frequent': 11709, 'mega': 11710, 'retiring': 11711, 'randoms': 11712, 'invariably': 11713, 'phrased': 11714, 'legged': 11715, 'ofcourse': 11716, 'reliever': 11717, 'meeee': 11718, 'illiterate': 11719, 'wi': 11720, 'malevolent': 11721, 'okc': 11722, 'praxis': 11723, 'infatuated': 11724, 'scrims': 11725, 'gunna': 11726, 'dwarves': 11727, 'crafty': 11728, 'hmu': 11729, 'connecticut': 11730, 'prefers': 11731, 'shrugs': 11732, 'mumble': 11733, 'lovingly': 11734, 'gnc': 11735, 'closeted': 11736, 'prevailing': 11737, 'dankmemes': 11738, 'aircraft': 11739, 'scammers': 11740, 'tourneys': 11741, 'juju': 11742, 'session': 11743, 'bard': 11744, 'belonged': 11745, 'amway': 11746, 'asshat': 11747, 'strokes': 11748, 'applauded': 11749, 'criticized': 11750, 'mbti': 11751, 'slim': 11752, 'ajax': 11753, 'samples': 11754, 'aftershow': 11755, 'amaze': 11756, 'beverage': 11757, 'mocked': 11758, '“thank': 11759, 'vices': 11760, 'dolls': 11761, 'carrier': 11762, 'prevents': 11763, 'backhanded': 11764, 'craigslist': 11765, 'nationwide': 11766, 'lockup': 11767, 'bailed': 11768, 'rambles': 11769, 'outkast': 11770, 'tyler': 11771, 'coconut': 11772, 'frequency': 11773, 'prageru': 11774, 'reset': 11775, 'structural': 11776, 'produces': 11777, 'mockery': 11778, 'heritage': 11779, '155': 11780, 'manufactured': 11781, 'suprised': 11782, 'polyamorous': 11783, 'additionally': 11784, 'vibrating': 11785, '͡o': 11786, 'drought': 11787, 'goalpost': 11788, 'firstly': 11789, 'lucio': 11790, 'unabashedly': 11791, 'qld': 11792, 'wrongdoing': 11793, 'defecation': 11794, 'uprights': 11795, 'paused': 11796, 'masturbated': 11797, 'ln': 11798, 'unconfirmed': 11799, '😣': 11800, 'deeds': 11801, 'packing': 11802, 'suppress': 11803, 'corinthians': 11804, 'megathread': 11805, 'shaved': 11806, 'impatient': 11807, 'alarming': 11808, 'decency': 11809, 'defined': 11810, 'crave': 11811, 'gulp': 11812, 'closes': 11813, 'environmental': 11814, 'breaded': 11815, 'diva': 11816, 'shore': 11817, 'crews': 11818, 'homelessness': 11819, 'fixated': 11820, 'gangs': 11821, 'organized': 11822, 'obtain': 11823, 'persona': 11824, 'ziip': 11825, 'bans': 11826, '500ms': 11827, 'acceptance': 11828, '🤮': 11829, 'wyoming': 11830, 'calmest': 11831, 'strawman': 11832, 'madman': 11833, 'thrashed': 11834, '“wait': 11835, 'outs': 11836, 'healed': 11837, 'battered': 11838, 'index': 11839, 'bloodthirsty': 11840, 'golf': 11841, 'drinkwater': 11842, 'bakayoko': 11843, 'theyd': 11844, 'lo': 11845, 'obsessing': 11846, 'pedestal': 11847, 'cured': 11848, 'devoted': 11849, 'palpable': 11850, 'bunnies': 11851, 'tourism': 11852, 'fulfilling': 11853, 'dutchy': 11854, 'whiter': 11855, 'iud': 11856, 'assistance': 11857, 'coercive': 11858, 'altercation': 11859, 'belle': 11860, 'appliances': 11861, 'graffiti': 11862, 'dawn': 11863, 'fibre': 11864, 'technique': 11865, 'enable': 11866, 'daredevil': 11867, 'pahhh': 11868, 'deduction': 11869, 'knocking': 11870, 'radar': 11871, 'molotov': 11872, 'dean': 11873, 'saddle': 11874, 'banked': 11875, 'recommendations': 11876, 'refrain': 11877, 'meow': 11878, 'pricey': 11879, 'untrained': 11880, 'detectives': 11881, 'stinger': 11882, 'plank': 11883, 'permission': 11884, 'deafening': 11885, 'offices': 11886, 'deluded': 11887, 'fyre': 11888, 'indistinguishable': 11889, 'pessimism': 11890, 'password': 11891, 'electing': 11892, 'fptp': 11893, \"gov't\": 11894, 'tablets': 11895, 'okie': 11896, 'politicalhumor': 11897, 'glaring': 11898, 'textures': 11899, 'disciplined': 11900, 'mourn': 11901, 'weirdos': 11902, 'yare': 11903, 'stitch': 11904, 'leak': 11905, 'incremental': 11906, '49': 11907, 'coups': 11908, 'nostril': 11909, 'relevance': 11910, 'crook': 11911, 'nasal': 11912, 'disadvantage': 11913, 'goats': 11914, 'cutters': 11915, 'anonymous': 11916, 'criminally': 11917, 'applauding': 11918, 'wildly': 11919, 'suspension': 11920, 'bridges': 11921, 'isolation': 11922, '💜': 11923, 'eyeball': 11924, 'taliban': 11925, 'promotional': 11926, \"debtor's\": 11927, 'unprofessional': 11928, 'conductors': 11929, 'conductor': 11930, 'splyce': 11931, 'drift': 11932, 'genes': 11933, 'differentiate': 11934, 'barber': 11935, 'egos': 11936, 'womp': 11937, 'kpins': 11938, 'truely': 11939, 'resenting': 11940, 'screenshots': 11941, 'dissenting': 11942, 'weirdness': 11943, 'barrier': 11944, 'spells': 11945, 'writings': 11946, 'tweaking': 11947, 'attribute': 11948, 'malice': 11949, 'dis': 11950, 'munt': 11951, 'veggies': 11952, 'sheeple': 11953, 'tunes': 11954, 'panned': 11955, 'sawed': 11956, 'inserted': 11957, 'toasting': 11958, 'alike': 11959, 'gase': 11960, 'regime': 11961, 'biscuits': 11962, 'tragedy': 11963, 'wta': 11964, 'grunge': 11965, 'abomination': 11966, 'infertile': 11967, 'grilled': 11968, 'blooming': 11969, 'goods': 11970, 'fishy': 11971, 'mayday': 11972, 'scraps': 11973, 'couldve': 11974, 'gratzy': 11975, 'hon': 11976, 'confessing': 11977, 'gauge': 11978, 'phx': 11979, 'showcase': 11980, 'adventures': 11981, 'cho': 11982, '1400': 11983, 'medic': 11984, 'teddy': 11985, 'professor': 11986, 'slate': 11987, 'passionately': 11988, 'inadvertently': 11989, 'nutshell': 11990, 'uncaring': 11991, 'sociopathic': 11992, 'acted': 11993, 'fanmade': 11994, 'contrived': 11995, 'yas': 11996, 'framing': 11997, 'bestest': 11998, 'reasonably': 11999, 'acknowledged': 12000, 'begged': 12001, 'uncool': 12002, 'strap': 12003, 'implode': 12004, 'doxxed': 12005, 'iw': 12006, 'hijab': 12007, 'gaps': 12008, 'seperate': 12009, 'displayed': 12010, 'readily': 12011, 'mary': 12012, 'nexus': 12013, 'dwellers': 12014, 'soldier': 12015, 'retires': 12016, 'genetics': 12017, 'tren': 12018, 'grossly': 12019, 'grooming': 12020, 'scapegoat': 12021, 'chips”': 12022, 'peeve': 12023, 'washes': 12024, 'untimely': 12025, 'masturbation': 12026, 'attendance': 12027, 'men’s': 12028, 'migraines': 12029, 'mk9': 12030, 'fi': 12031, 'iunno': 12032, 'bloating': 12033, 'spectacular': 12034, '😮': 12035, 'destruct': 12036, 'zinger': 12037, 'poured': 12038, 'chlorine': 12039, 'dour': 12040, 'mlb': 12041, 'sociopaths': 12042, 'crafting': 12043, 'welsh': 12044, 'plq': 12045, 'beatable': 12046, 'devo': 12047, 'designated': 12048, 'provides': 12049, 'transformation': 12050, 'sling': 12051, 'eczema': 12052, 'factually': 12053, 'disprove': 12054, 'greed': 12055, 'guided': 12056, 'psychiatric': 12057, 'griffin': 12058, 'batches': 12059, 'deaf': 12060, 'zebra': 12061, 'traumatizing': 12062, 'tractor': 12063, 'shattering': 12064, 'daft': 12065, 'clarified': 12066, 'dooku': 12067, 'cryptocurrency': 12068, 'psst': 12069, 'mofo': 12070, 'rubbing': 12071, 'mixing': 12072, 'spreadsheeters': 12073, 'one’s': 12074, 'slinky': 12075, \"somebody's\": 12076, 'poppin': 12077, 'interrupt': 12078, 'rbs': 12079, 'dtr': 12080, 'overwhelmed': 12081, 'suspected': 12082, 'unload': 12083, 'contention': 12084, 'strive': 12085, 'duis': 12086, 'gib': 12087, 'deadlift': 12088, 'gs': 12089, 'kindle': 12090, 'embarrass': 12091, 'abram': 12092, 'olicity': 12093, 'theyll': 12094, 'seriousness': 12095, 'submissions': 12096, 'reducing': 12097, \"od's\": 12098, 'hurling': 12099, 'designs': 12100, 'stages': 12101, 'baffled': 12102, 'isco': 12103, 'nier': 12104, 'automated': 12105, 'elbow': 12106, 'proletariat': 12107, 'snowy': 12108, 'yeesh': 12109, 'candle': 12110, 'blames': 12111, 'nebraska': 12112, 'contaminated': 12113, 'thigh': 12114, 'leftovers': 12115, 'quarantined': 12116, 'compelled': 12117, 'bury': 12118, 'incorrectly': 12119, 'blazers': 12120, 'ness': 12121, 'irrationally': 12122, 'draws': 12123, 'rob': 12124, 'haraam': 12125, 'frosted': 12126, 'voiced': 12127, '“sorry': 12128, 'tremendously': 12129, 'cpr': 12130, 'dominion': 12131, 'dehumanizing': 12132, 'sicko': 12133, 'buds': 12134, 'trader': 12135, 'disclaimer': 12136, 'fuckton': 12137, 'tbm': 12138, 'cools': 12139, 'proxy': 12140, 'giveaway': 12141, 'wayne’s': 12142, 'pester': 12143, 'obtuse': 12144, 'villains': 12145, 'piercings': 12146, 'what’d': 12147, 'rushes': 12148, 'supremacy': 12149, '🤦': 12150, '7pm': 12151, 'wellington': 12152, 'nbc': 12153, 'departure': 12154, \"daughter's\": 12155, 'burial': 12156, 'editorials': 12157, 'lingering': 12158, 'elitist': 12159, 'rny': 12160, 'queuing': 12161, 'frown': 12162, 'usl': 12163, 'gfa': 12164, 'n64': 12165, 'signatures': 12166, 'furthest': 12167, 'suspicion': 12168, 'skelth': 12169, 'triangle': 12170, 'halakhically': 12171, '1782': 12172, 'minus': 12173, 'nonstop': 12174, 'shinys': 12175, 'tolerable': 12176, 'everything’s': 12177, 'masala': 12178, 'plastique': 12179, 'speeding': 12180, 'respected': 12181, 'multicultural': 12182, 'wooshing': 12183, 'flamingo': 12184, 'uncanny': 12185, 'shell': 12186, 'veteran': 12187, 'creature': 12188, 'hoop': 12189, 'npr': 12190, 'grandfathers': 12191, 'variations': 12192, '15mg': 12193, 'eugenics': 12194, 'mk11': 12195, 'download': 12196, 'playlists': 12197, 'blockade': 12198, 'vogue': 12199, 'jello': 12200, 'shitbird': 12201, '96': 12202, 'mistress': 12203, 'bombay': 12204, 'parole': 12205, 'neighbours': 12206, '1682': 12207, 'probable': 12208, 'misinformation': 12209, 'los': 12210, 'socket': 12211, 'obligatory': 12212, 'copies': 12213, 'resigned': 12214, 'settled': 12215, 'youd': 12216, 'bishop': 12217, 'scaled': 12218, 'parries': 12219, 'nascar': 12220, 'tangent': 12221, 'theocracy': 12222, 'ehhh': 12223, 'effecting': 12224, 'shh': 12225, 'telegram': 12226, 'untouched': 12227, 'compliments': 12228, 'ridiculousness': 12229, '1b': 12230, 'pitchforks': 12231, 'stanley': 12232, 'zim': 12233, '“snowflake”': 12234, 'stomp': 12235, 'iraq': 12236, 'celebs': 12237, 'spouses': 12238, 'gritty': 12239, 'colder': 12240, '💗': 12241, 'chivas': 12242, 'louis': 12243, 'sweety': 12244, 'conspiracies': 12245, 'holocaust': 12246, 'fdr': 12247, 'handbook': 12248, 'insomniac': 12249, 'jobless': 12250, 'framed': 12251, 'painted': 12252, 'centers': 12253, 'vic': 12254, 'secrets': 12255, 'aneurysm': 12256, 'pour': 12257, 'alts': 12258, 'observant': 12259, 'hahhaha': 12260, 'aggravating': 12261, 'drowned': 12262, 'anecdotes': 12263, 'hunger': 12264, 'ranting': 12265, 'poses': 12266, 'fifa': 12267, 'swiped': 12268, 'perma': 12269, 'madridista': 12270, 'fiddle': 12271, 'louder': 12272, '😳': 12273, 'roller': 12274, 'coaster': 12275, 'tests': 12276, '♫': 12277, 'frack': 12278, 'ebt': 12279, 'hurty': 12280, 'garfield': 12281, 'premature': 12282, 'busting': 12283, 'await': 12284, 'pier': 12285, 'desired': 12286, 'notices': 12287, 'sweetie': 12288, '😫': 12289, 'hindered': 12290, 'thrones': 12291, 'asuka': 12292, 'giggling': 12293, 'undercover': 12294, 'wildlife': 12295, 'meryn': 12296, 'aquaman': 12297, 'varies': 12298, 'tolerant': 12299, 'warped': 12300, 'determine': 12301, 'cheddar': 12302, 'kombucha': 12303, 'mitigate': 12304, 'secrecy': 12305, 'imperfect': 12306, 'showers': 12307, 'outlier': 12308, 'genetic': 12309, 'guild': 12310, 'funky': 12311, 'exert': 12312, 'legalised': 12313, 'professionally': 12314, 'misinterpret': 12315, 'declares': 12316, 'sponsors': 12317, 'disgustingly': 12318, 'compatible': 12319, 'expanding': 12320, 'pecker': 12321, 'x200b': 12322, 'pleb': 12323, 'railed': 12324, 'polygon': 12325, 'daughter’s': 12326, 'remorse': 12327, 'bucko': 12328, 'necrophilia': 12329, 'asthma': 12330, 'ay': 12331, 'lowered': 12332, 'toppings': 12333, 'outlive': 12334, 'cons': 12335, 'piggy': 12336, 'uninteresting': 12337, 'ughhh': 12338, 'noodle': 12339, 'acdc': 12340, 'predators': 12341, 'athletes': 12342, 'reel': 12343, 'kraft': 12344, 'beheading': 12345, 'tutorial': 12346, 'tablet': 12347, 'mike': 12348, 'woot': 12349, 'razer': 12350, 'polarized': 12351, 'psychopathic': 12352, 'deus': 12353, 'gentleman': 12354, 'confronting': 12355, 'stirs': 12356, 'ineffectual': 12357, 'murders': 12358, 'seasoning': 12359, 'franklin': 12360, 'pedes': 12361, 'snoke': 12362, 'ls': 12363, 'homepage': 12364, 'homophobes': 12365, 'tennessee': 12366, 'adversary': 12367, 'jabba': 12368, 'bojangles': 12369, '‘needs': 12370, 'fc': 12371, 'jfc': 12372, 'crooked': 12373, 'routing': 12374, 'humidity': 12375, 'classless': 12376, 'scrum': 12377, 'antis': 12378, 'planes': 12379, 'cummies': 12380, 'asain': 12381, 'depraved': 12382, 'crawfish': 12383, 'wallpaper': 12384, 'angles': 12385, 'powered': 12386, 'blacked': 12387, 'loooong': 12388, 'troom': 12389, 'khajit': 12390, 'pepsi': 12391, 'fatter': 12392, 'patriarchy': 12393, 'snu': 12394, 'ff': 12395, 'sdlp': 12396, 'rosetta': 12397, 'dekalb': 12398, 'pardons': 12399, 'robberies': 12400, 'ascend': 12401, 'playful': 12402, 'divert': 12403, 'bargaining': 12404, 'matinee': 12405, 'tulia': 12406, 'disagreeing': 12407, 'lapd': 12408, 'mistrust': 12409, 'nonwhite': 12410, 'mousepire': 12411, 'pyre': 12412, 'customizable': 12413, 'css': 12414, 'firefoxcss': 12415, 'rein': 12416, 'yeahhhh': 12417, 'konami': 12418, 'bamboo': 12419, 'dim': 12420, 'spear': 12421, 'graders': 12422, 'rags': 12423, 'stern': 12424, 'n’keal': 12425, 'wastebasket': 12426, 'nightstand': 12427, 'buffering': 12428, 'caved': 12429, 'mesh': 12430, 'queef': 12431, 'mumbles': 12432, \"std's\": 12433, 'indestructible': 12434, 'mcfucking': 12435, 'gmod': 12436, 'wonderworld': 12437, 'htown': 12438, 'curiousity': 12439, 'miners': 12440, \"them's\": 12441, \"fightin'\": 12442, 'fthumb': 12443, 'cartoons': 12444, 'pigeon': 12445, 'fierljeppen': 12446, 'possess': 12447, 'presence': 12448, 'gregarious': 12449, 'observers': 12450, 'schooling': 12451, 'defenintly': 12452, 'gathering': 12453, 'explicit': 12454, \"'your\": 12455, \"reflecting'\": 12456, 'appreciative': 12457, '💎': 12458, 'reappear': 12459, 'freed': 12460, 'dnps': 12461, 'varied': 12462, 'sods': 12463, 'sadist': 12464, 'hahahahshshajsha': 12465, 'admired': 12466, 'axis': 12467, 'kimber': 12468, 'k6s': 12469, 'innovating': 12470, 'uniforms': 12471, 'pagers': 12472, 'emitter': 12473, 'cellphone': 12474, 'ohiooooooooo': 12475, 'ianamolly': 12476, 'deregulate': 12477, 'defibs': 12478, 'synonym': 12479, 'mildest': 12480, 'condones': 12481, 'courting': 12482, 'redefine': 12483, 'azmo': 12484, 'ringtone': 12485, 'revolves': 12486, 'smacking': 12487, 'limo': 12488, 'drugged': 12489, 'leach': 12490, 'too😂': 12491, \"constantinople'\": 12492, 'abruptly': 12493, 'accommodate': 12494, 'teaser': 12495, 'magnificast': 12496, 'academic': 12497, 'lenninism': 12498, 'hamsad': 12499, 'pullover': 12500, 'trintellix': 12501, 'vraylar': 12502, 'aloha': 12503, 'rian': 12504, 'ceremony': 12505, 'render': 12506, 'limber': 12507, 'gazelle': 12508, 'tiktok': 12509, 'nodoby': 12510, 'blm': 12511, 'licker': 12512, 'windex': 12513, 'fetishizes': 12514, 'idealists': 12515, 'researched': 12516, 'dashes': 12517, 'unapologetic': 12518, 'outlandishness': 12519, 'herpies': 12520, 'netrunner': 12521, 'westworld': 12522, 'boulogne': 12523, '1940': 12524, 'dandy': 12525, 'gloss': 12526, 'elements': 12527, 'redistribute': 12528, 'camels': 12529, 'infest': 12530, 'armpits': 12531, 'pucker': 12532, 'motivational': 12533, 'weber': 12534, 'quack': 12535, 'comatose': 12536, 'mistruths': 12537, 'transgression': 12538, 'forthcoming': 12539, 'ancestor': 12540, 'simmer': 12541, 'tasks': 12542, 'boro': 12543, 'spermatozoid': 12544, '31q': 12545, 'forbidden': 12546, '“lawyer': 12547, 'crock': 12548, 'flier': 12549, 'caretaker’s': 12550, 'gifted': 12551, 'buffalos': 12552, 'unionism': 12553, 'cheeeifffff': 12554, 'eroding': 12555, 'subpoena': 12556, 'modelled': 12557, 'theqtvain': 12558, 'trance': 12559, 'techno': 12560, '242': 12561, 'koracick': 12562, 're5': 12563, 'freezes': 12564, 'butchers': 12565, 'magazines': 12566, 'boogaloo': 12567, 'dial': 12568, 'barley': 12569, 'sparingly': 12570, \"generation's\": 12571, 'disavowed': 12572, 'explantation': 12573, 'areal': 12574, 'pormotions': 12575, 'acctually': 12576, 'tiddly': 12577, 'oclock': 12578, 'taranaki': 12579, 'tram': 12580, '“curse': 12581, 'vwp': 12582, 'despicable': 12583, 'conventionally': 12584, \"reddit's\": 12585, 'larrisa': 12586, 'scheming': 12587, 'arising': 12588, 'announcements': 12589, 'tabloid': 12590, 'fonts': 12591, 'fjb': 12592, 'trumbul': 12593, 'stratford': 12594, 'bridgeport': 12595, 'mop': 12596, 'frazzles': 12597, 'ostracising': 12598, 'bypass': 12599, 'ticked': 12600, 'polyam': 12601, 'conserving': 12602, 'dart': 12603, \"partner's\": 12604, 'scarry': 12605, 'angie': 12606, 'tribeca': 12607, 'encyclopedia': 12608, 'shadowbanning': 12609, 'barrels': 12610, '✌🌈': 12611, 'benoni': 12612, 'fleshlite': 12613, 'undertones': 12614, 'chrt': 12615, 'busty': 12616, 'masks': 12617, 'vaxxhappened': 12618, \"does't\": 12619, 'relocation': 12620, 'otherly': 12621, 'worldy': 12622, 'hoodoo': 12623, 'crude': 12624, '“mets': 12625, 'pitches': 12626, 'croc': 12627, 'gamethreads': 12628, 'heres': 12629, 'fuckyoukaren': 12630, 'yuppy': 12631, 'developent': 12632, 'hellz': 12633, 'truest': 12634, 'journo': 12635, 'rlc': 12636, 'specs': 12637, 'insurgency': 12638, 'sandstorm': 12639, 'coop': 12640, 'getaway': 12641, 'kensei': 12642, 'uncharged': 12643, 'liz': 12644, '90k': 12645, 'carbine': 12646, 'susceptibility': 12647, 'minimize': 12648, 'tebow': 12649, 'unintentionally': 12650, 'ferrari': 12651, 'bowser': 12652, 'theee': 12653, 'deconstructed': 12654, 'unassembled': 12655, 'catsup': 12656, 'slugging': 12657, \"whitlow's\": 12658, 'kicks': 12659, 'causation': 12660, 'bi—': 12661, 'schlomo': 12662, '111': 12663, 'afaik': 12664, 'hahahahahahha': 12665, 'familes': 12666, 'layering': 12667, 'duration': 12668, 'parks': 12669, 'newt': 12670, 'gingrich': 12671, 'bermuda': 12672, 'caribbean': 12673, 'enhanced': 12674, 'edinburghs': 12675, '540': 12676, 'hampshire': 12677, 'good2go': 12678, 'world”': 12679, '‘crying’': 12680, 'slacks': 12681, 'boggles': 12682, 'theorist': 12683, 'trumpland': 12684, 'flipper': 12685, 'superficially': 12686, 'substantively': 12687, 'capslock': 12688, \"'mixup'\": 12689, 'ramifications': 12690, 'rigorous': 12691, 'uprising': 12692, 'tailing': 12693, 'kotal': 12694, 'platoon': 12695, 'peter': 12696, 'thiel': 12697, 'foam': 12698, 'gaatt': 12699, 'fush': 12700, 'chups': 12701, 'vowelled': 12702, 'annhilation': 12703, 'tonic': 12704, 'yaw': 12705, 'leathal': 12706, 'papercut': 12707, 'cookbook': 12708, 'showcasing': 12709, 'kai': 12710, 'ksana': 12711, 'allh': 12712, 'fora': 12713, 'depreciate': 12714, 'inspected': 12715, 'ghg': 12716, 'emissions': 12717, 'sect': 12718, 'cnbc': 12719, 'identifies': 12720, \"kilda's\": 12721, '2meirl4meirl': 12722, 'pique': 12723, 'newlands': 12724, 'flyover': 12725, 'ix': 12726, 'phasma': 12727, 'adjacent': 12728, 'imitated': 12729, 'laaaaaand': 12730, '“twas': 12731, 'democide': 12732, 'aderal': 12733, 'hyperthyroidism': 12734, 'bloodwork': 12735, 'weakened': 12736, 'authorised': 12737, '15l': 12738, 'snug': 12739, '2b': 12740, 'kapusta': 12741, 'arab': 12742, 'welcoming': 12743, 'zubac': 12744, 'averages': 12745, 'sunday’s': 12746, 'homemaker': 12747, 'anatomy': 12748, 'eeeeexcellent': 12749, 'slomo': 12750, 'duluth': 12751, 'handler': 12752, 'pugnacoins': 12753, 'pebbles': 12754, 'carton': 12755, 'kck': 12756, 'conundrum': 12757, '“yes”': 12758, 'towed': 12759, 'embarrassingly': 12760, 'fella”': 12761, 'ekia': 12762, 'redontherail': 12763, 'portals': 12764, 'impractical': 12765, 'jokers': 12766, 'chá': 12767, 'qīng': 12768, '查清': 12769, 'pronoinced': 12770, 'cha': 12771, 'ching': 12772, 'affirms': 12773, 'organically': 12774, 'toothpick': 12775, 'entree': 12776, 'drowning': 12777, '😎😎': 12778, 'yuuuuuuuuuup': 12779, 'fiths': 12780, 'sheathed': 12781, 'sunburn': 12782, 'thighs': 12783, 'wtsstadamit': 12784, 'signups': 12785, 'tera': 12786, 'unlees': 12787, 'jiggle': 12788, 'normandy': 12789, 'mills': 12790, '😍🤤': 12791, 'doi': 12792, 'refresh': 12793, 'thngs': 12794, 'freeing': 12795, '“where': 12796, 'alligators': 12797, 'muscular': 12798, 'evenly': 12799, 'proportional': 12800, 'lineage': 12801, 'purview': 12802, 'horrifically': 12803, 'coraline': 12804, 'rdx': 12805, 'turner': 12806, 'wm': 12807, 'testicular': 12808, 'torsion': 12809, 'huey': 12810, 'likable': 12811, 'lifelike': 12812, 'ashton': 12813, 'staffer': 12814, 'afters': 12815, 'tomorow': 12816, 'skyboundian': 12817, 'logan': 12818, 'juvenile': 12819, 'agsin': 12820, 'phonetic': 12821, 'alphabets': 12822, 'gram': 12823, \"hoplites'\": 12824, 'immaculate': 12825, 'scanner': 12826, 'imc': 12827, 'rows': 12828, 'overkill': 12829, '😭❤️': 12830, 'dropback': 12831, 'pleaded': 12832, 'reproducing': 12833, 'poached': 12834, 'regaining': 12835, 'kicky': 12836, 'mightily': 12837, 'dia': 12838, 'allergic”': 12839, 'simulation': 12840, 'coerced': 12841, 'boyos': 12842, 'ech': 12843, 'trademark': 12844, 'wv': 12845, 'phlebotomist': 12846, 'udfa': 12847, 'positively': 12848, 'mmhmm': 12849, 'indictable': 12850, 'verbatim': 12851, 'pricked': 12852, 'spines': 12853, 'flamer': 12854, 'ocp': 12855, 'everton': 12856, 'leicester': 12857, 'aftv': 12858, 'napolean': 12859, 'kip': 12860, 'tina': 12861, 'apa': 12862, 'sensationalize': 12863, 'alarmed': 12864, 'pierced': 12865, 'kittle': 12866, 'nokias': 12867, 'hellooo': 12868, 'queueing': 12869, 'agggggggggghhhhhhhhhhhhhhhhhhhhhhh': 12870, 'jehovah': 12871, 'quieter': 12872, 'sensationalized': 12873, 'tache': 12874, 'masochism': 12875, 'partying': 12876, 'unwilling': 12877, 'alll': 12878, 'downnnn': 12879, 'democratspf': 12880, 'jannah': 12881, 'umma': 12882, 'preggers': 12883, 'concealed': 12884, 'tla': 12885, 'overload': 12886, 'mistreatment': 12887, 'employers': 12888, 'randomized': 12889, 'sims': 12890, 'singular': 12891, 'capfriendly': 12892, 'nuraphones': 12893, 'summarizes': 12894, 'spry': 12895, 'buttnoodle': 12896, '“their”': 12897, 'sculpted': 12898, 'todsy': 12899, 'crips': 12900, 'narrowly': 12901, 'bloods': 12902, 'offerings': 12903, 'nepal': 12904, 'sneaker': 12905, 'cite': 12906, 'infographics': 12907, 'collarbone': 12908, 'plymouth': 12909, 'confederate': 12910, 'endurance': 12911, 'ksg': 12912, 'titlegore': 12913, 'nextfuckinglevel': 12914, 'masochistic': 12915, '🤩': 12916, 'filipino': 12917, 'boah': 12918, 'draaaaaaged': 12919, 'dooooooown': 12920, 'byyy': 12921, 'stoooooone': 12922, 'unclog': 12923, 'patient’s': 12924, 'sheridan': 12925, 'pinning': 12926, 'lend': 12927, 'tapped': 12928, 'brontosaurus': 12929, 'borderlands': 12930, 'undateable': 12931, 'dateable': 12932, 'dunks': 12933, 'airballs': 12934, 'shallower': 12935, 'garmfield': 12936, 'nord': 12937, 'denier': 12938, 'pecans': 12939, '⚔️🛡': 12940, 'inspector': 12941, 'snri': 12942, 'desvenlafexine': 12943, 'ssris': 12944, 'chipotle': 12945, \"others'\": 12946, 'aaron': 12947, 'dino': 12948, 'nauseating': 12949, 'whooshing': 12950, 'manure': 12951, 'congratulation': 12952, 'reunion': 12953, 'restrain': 12954, 'bruised': 12955, '105': 12956, 'donor': 12957, 'benefactor': 12958, 'farted': 12959, 'japandroids': 12960, 'nona': 12961, 'mia’s': 12962, 'esplanade': 12963, 'photogenic': 12964, '133': 12965, 'eextendedthe': 12966, '8d': 12967, 'baseket': 12968, 'latex': 12969, 'registry': 12970, 'rte': 12971, 'testifying': 12972, 'networks': 12973, 'astoundingly': 12974, 'classist': 12975, 'fellows': 12976, 'doorknob': 12977, 'minimal': 12978, 'livonia': 12979, 'pax': 12980, 'feelins': 12981, \"get's\": 12982, 'hp': 12983, 'libellous': 12984, 'protagonists': 12985, 'yuk': 12986, 'repaid': 12987, '“well': 12988, '“guys': 12989, 'jenko': 12990, 'commanders': 12991, 'pyrite': 12992, 'matcha': 12993, 'frapps': 12994, 'inception': 12995, 'titanic': 12996, 'onsessibg': 12997, 'paced': 12998, 'facepalmed': 12999, 'shard': 13000, 'fray': 13001, 'prospector': 13002, 'router': 13003, 'stork': 13004, 'damnnn': 13005, 'wendell': 13006, 'willed': 13007, 'punchy': 13008, 'revelation': 13009, 'spastics': 13010, 'goddddd': 13011, 'itty': 13012, 'bitty': 13013, 'damce': 13014, '“wii': 13015, 'dunning': 13016, 'kruger': 13017, 'estimating': 13018, 'proposed': 13019, 'proposal': 13020, 'politicising': 13021, 'abcds': 13022, 'laughably': 13023, 'eureka': 13024, '🍍✌': 13025, 'directors': 13026, 'unlearn': 13027, 'karmastate': 13028, 'girlfriend’s': 13029, 'queues': 13030, 'barnsley': 13031, 'unexpectedspiderman': 13032, 'unhave': 13033, 'ticketing': 13034, 'detour': 13035, 'earring': 13036, 'complacent': 13037, 'slammed': 13038, 'stupor': 13039, 'agnosticism': 13040, 'okra': 13041, 'waitaminute': 13042, '2018–': 13043, 'snuff': 13044, 'flaired': 13045, 'whitetail': 13046, 'multivitamin': 13047, 'misandry': 13048, 'impacting': 13049, 'sensing': 13050, 'muggings': 13051, 'boycotted': 13052, \"barber's\": 13053, 'ruckus': 13054, 'rareinsults': 13055, 'fussing': 13056, '“it’s”': 13057, '“its”': 13058, 'bathtub': 13059, 'sinking': 13060, 'balms': 13061, 'repressed': 13062, 'crafted': 13063, '“retired”': 13064, 'beefy': 13065, 'legalisation': 13066, 'unfathomably': 13067, 'reeeeeeeee': 13068, 'helpfull': 13069, 'tlic': 13070, 'tongs': 13071, 'subbreddit': 13072, 'advertisements': 13073, 'smut': 13074, 'bts': 13075, 'exo': 13076, 'collabed': 13077, 'rapping': 13078, 'agitating': 13079, 'desearved': 13080, 'uneasy': 13081, '50k': 13082, 'manic': 13083, 'tempo': 13084, 'chouteau': 13085, 'greenway': 13086, 'narrowing': 13087, 'width': 13088, 'buc': 13089, 'ees': 13090, 'carter': 13091, 'zoomed': 13092, 'mosque': 13093, \"shaa'allah\": 13094, 'mickey': 13095, 'cervezas': 13096, 'jimmies': 13097, 'rustled': 13098, 'desist': 13099, 'homecourt': 13100, 'blockbuster': 13101, 'fatalities': 13102, 'madrasah': 13103, 'wafer': 13104, 'flexible': 13105, '“boring”': 13106, 'archers': 13107, 'ancapistan': 13108, 'upstate': 13109, 'mcdavid': 13110, 'draisatl': 13111, 'matey': 13112, 'kotake': 13113, 'koume': 13114, 'clockwise': 13115, 'agressive': 13116, 'teemo': 13117, 'hallelujah': 13118, 'ginch': 13119, 'copenhagen': 13120, \"francisco's\": 13121, 'laogai': 13122, 'macabre': 13123, 'abit': 13124, 'environmentalism': 13125, 'casinos': 13126, 'merlinus': 13127, 'x2': 13128, 'stirring': 13129, 'kinder': 13130, 'henny': 13131, 'throes': 13132, 'othrr': 13133, 'rosenbrook': 13134, 'mg‘s': 13135, 'combinations': 13136, 'sonics': 13137, 'citrus': 13138, 'lavender': 13139, 'emploie': 13140, 'emploiier': 13141, 'satanic': 13142, 'edmunds': 13143, 'trascendental': 13144, 'ludicrously': 13145, 'thinki': 13146, 'genderless': 13147, 'bluepundit': 13148, 'sog': 13149, 'downloaded': 13150, 'wealthify': 13151, 'narcotic': 13152, 'fuq': 13153, 'emphasis': 13154, 'motorcyclist': 13155, '“endangering”': 13156, 'handgift': 13157, 'skinning': 13158, \"'resourceful'\": 13159, 'ethnonationalism': 13160, 'rapper': 13161, 'lesk': 13162, 'beagle': 13163, 'stray': 13164, 'had—everything': 13165, '💙': 13166, 'looch': 13167, 'berth': 13168, 'whippet': 13169, 'wubwubwubwubwubwubwubwubwubwubwubwubwubwubwubwubwubwubwubwubwubwubwubwubwubwubwubwubwubwubwubwubwubwubwubwubwubwubwubwubwubwubwubwubwubwubwubwubwubwubwubwubwubwubwubwubwubwubwubwubwubwubwubwubwubwubwubwubwubwubwubwubwubwubwubwubwubwubwubwubwubwubwubwubwubwubwubwubwubwub': 13170, 'gunshot': 13171, 'tinnitus': 13172, 'heckin': 13173, 'monarch': 13174, '13yr': 13175, 'rotates': 13176, 'quandong': 13177, 'mansplainers': 13178, 'mansplaining': 13179, 'uninstall': 13180, 'chained': 13181, 'drunks': 13182, 'hsppening': 13183, 'sasuke': 13184, 'herring': 13185, 'anesthetic': 13186, 'ukip': 13187, 'tym': 13188, 'meniscus': 13189, 'eve😍': 13190, 'warged': 13191, 'cryptofacists': 13192, 'ditsy': 13193, 'resurfaced': 13194, 'motel': 13195, 'outskirts': 13196, 'albuquerque': 13197, 'blasé': 13198, 'lala': 13199, 'finna': 13200, 'lashing': 13201, 'followup': 13202, 'feigning': 13203, 'pathos': 13204, 'uninspired': 13205, 'premium': 13206, 'sub’s': 13207, 'mmk': 13208, 'forbids': 13209, 'castes': 13210, 'didt': 13211, 'orgies': 13212, 'domain': 13213, 'circlejerking': 13214, 'courted': 13215, 'palp': 13216, \"100's\": 13217, 'swinger': 13218, 'pl’s': 13219, '“them’s': 13220, 'debatably': 13221, 'rumour': 13222, 'bein': 13223, 'gamestop': 13224, \"'gifted'\": 13225, 'haitian': 13226, 'aws': 13227, 'storefront': 13228, 'restored': 13229, 'snek': 13230, 'discrepancy': 13231, 'negligent': 13232, 'antibiotic': 13233, 'bacterial': 13234, 'undertaken': 13235, 'permissible': 13236, 'gentrification': 13237, 'indulging': 13238, '“thrive': 13239, 'child’s': 13240, 'control—': 13241, 'looping': 13242, 'schmucks': 13243, 'rarity': 13244, 'baptized': 13245, 'cremated': 13246, 'daaaaamn': 13247, 'howl': 13248, 'coffeewhore17': 13249, 'slit': 13250, 'swishy': 13251, 'chromie': 13252, 'bab': 13253, 'cantons': 13254, 'cr50': 13255, '⚡️': 13256, 'speedwagon': 13257, 'nihilism': 13258, 'ravaged': 13259, 'nuance': 13260, 'fitness': 13261, 'lavvo': 13262, 'gatorade': 13263, 'rapport': 13264, 'dl': 13265, 'hooman': 13266, 'ashwagandha': 13267, 'gaba': 13268, 'gabapentin': 13269, 'ounces': 13270, '3xl': 13271, 'supermodel': 13272, 'cth': 13273, 'knockoff': 13274, 'resorting': 13275, 'denali': 13276, 'inmates': 13277, \"'someone\": 13278, 'niagara': 13279, 'rez': 13280, 'tenets': 13281, 'gatling': 13282, 'physicians': 13283, 'purdue': 13284, 'reductionism': 13285, 'feeble': 13286, 'xsara': 13287, 'picassos': 13288, 'bloggers': 13289, 'precarious': 13290, 'disastrous': 13291, 'abdomen': 13292, 'informal': 13293, 'synonyms': 13294, 'archived': 13295, 'nyt': 13296, 'cleansed': 13297, 'feuding': 13298, 'seabass': 13299, \"seattle's\": 13300, 'travelled': 13301, 'auditor': 13302, 'passports': 13303, 'smallpox': 13304, 'pirated': 13305, 'prints': 13306, 'meaty': 13307, 'oki': 13308, 'posibilities': 13309, 'serene': 13310, 'horray': 13311, 'invit': 13312, 'tourettes': 13313, 'install': 13314, 'legalization': 13315, 'consumers': 13316, 'vendors': 13317, 'looting': 13318, 'insides': 13319, 'pinched': 13320, 'corsi': 13321, 'salvation': 13322, 'riiiiight': 13323, \"sfist's\": 13324, 'developments': 13325, 'wince': 13326, 'nudge': 13327, 'misspoke': 13328, 'difficulties': 13329, \"gf's\": 13330, 'polarvortex': 13331, 'reverend': 13332, 'interstellar': 13333, 'mays': 13334, 'unliked': 13335, 'thingy': 13336, 'marquee': 13337, 'dolphinetly': 13338, 'porpoise': 13339, 'resembling': 13340, 'truths': 13341, 'pertinent': 13342, '❤️❤️🦵🏼': 13343, 'obssesed': 13344, 'crib': 13345, 'covcath': 13346, 'psyop': 13347, 'riots': 13348, \"trinity's\": 13349, 'spiel': 13350, 'xenophobic': 13351, 'llama': 13352, \"'multicultural'\": 13353, \"billboard's\": 13354, 'dismissed': 13355, 'sullo': 13356, 'abstain': 13357, 'ingests': 13358, 'sophomore': 13359, 'immerse': 13360, 'engraze': 13361, 'rougher': 13362, 'restuarants': 13363, 'humblebrags': 13364, 'beelzebambi': 13365, 'trannies': 13366, 'feminsts': 13367, 'cornwall': 13368, 'realism': 13369, 'simulator': 13370, 'mobs': 13371, 'dunce': 13372, 'stretches': 13373, 'hunts': 13374, 'bays': 13375, 'precision': 13376, 'dioxide': 13377, 'convoys': 13378, 'vertigo': 13379, 'cinnamon': 13380, 'cockatoo': 13381, '”the': 13382, 'palestinian': 13383, 'cds': 13384, 'ported': 13385, 'darned': 13386, 'apophenia': 13387, 'smacks': 13388, 'wheeled': 13389, 'zapper': 13390, 'alprazolam': 13391, 'relaxation': 13392, 'suspense': 13393, 'heerengracht': 13394, '8000': 13395, 'mauled': 13396, 'ocular': 13397, 'raunchy': 13398, 'rt': 13399, 'handouts': 13400, 'contributor': 13401, 'mother’s': 13402, '“unspeakable': 13403, 'scientifical': 13404, 'horrors”': 13405, 'george': 13406, 'levelling': 13407, 'signee': 13408, 'garner': 13409, 'crunk': 13410, 'donated': 13411, 'quips': 13412, 'rek': 13413, 'trumpist': 13414, 'muted': 13415, 'awarded': 13416, 'dissolves': 13417, 'malvern': 13418, 'olive': 13419, 'shrew': 13420, 'requirement': 13421, 'justifications': 13422, 'eightroundsrapid': 13423, \"dm's\": 13424, '2v2': 13425, 'aladdin': 13426, 'hydraulic': 13427, 'streamlining': 13428, 'legislators': 13429, 'boogie': 13430, 'giddy': 13431, 'fortaleza': 13432, 'moicano': 13433, 'tones': 13434, 'repacked': 13435, 'disrupter': 13436, 'stryfe': 13437, 'succulents': 13438, \"scrollin'\": 13439, 'cane': 13440, 'volcanic': 13441, 'volcanoes': 13442, 'apologizes': 13443, 'biologist': 13444, '“pain': 13445, 'ass”': 13446, 'enamoured': 13447, 'esthestician': 13448, 'spelt': 13449, '6ft': 13450, '1in': 13451, '160s': 13452, 'whhhaaa': 13453, 'kfann': 13454, 'kyber': 13455, 'postion': 13456, '“gamers': 13457, 'pasty': 13458, 'nastification': 13459, 'cray': 13460, 'ouchie': 13461, 'septa': 13462, 'trenton': 13463, 'pornshit': 13464, 'dormant': 13465, 'casey': 13466, \"ngo's\": 13467, 'counterparts': 13468, 'qa': 13469, 'jvg': 13470, 'redirected': 13471, '720': 13472, 'fortuitous': 13473, 'robber': 13474, \"'emotionally\": 13475, \"attached'\": 13476, 'inkling': 13477, 'molecular': 13478, 'baler': 13479, 'fouling': 13480, 'soooooooooo': 13481, 'cammy': 13482, 'anyone’s': 13483, 'ufo': 13484, 'nevvvvveeeerrrrr': 13485, 'oohhooo': 13486, 'proclaiming': 13487, 'jurisprudence': 13488, 'fetishist': 13489, 'technicality': 13490, 'megagrindr': 13491, 'tribalism': 13492, 'philange': 13493, 'ingame': 13494, 'aram': 13495, 'chafe': 13496, 'dee': 13497, 'alloweddddd': 13498, 'disarmament': 13499, 'peyton': 13500, 'academia': 13501, 'misquote': 13502, 'karate': 13503, 'subro': 13504, \"d'l❄\": 13505, 'underworld': 13506, 'persist': 13507, 'vacay': 13508, 'genious': 13509, 'gooses': 13510, 'deuces': 13511, 'whoomp': 13512, '“next': 13513, \"manly's\": 13514, 'pathetically': 13515, 'willy': 13516, '“trade': 13517, 'nylander”': 13518, 'fridays': 13519, 'saturdays': 13520, 'ack': 13521, 'replays': 13522, 'septuple': 13523, 'watn': 13524, 'zach': 13525, 'magnesium': 13526, 'methinks': 13527, 'unorginal': 13528, 'mispronounces': 13529, 'grammatically': 13530, 'northerners': 13531, 'unregistered': 13532, 'payg': 13533, 'deceiving': 13534, 'fudd': 13535, 'stubbornly': 13536, 'weeaboo': 13537, 'motor': 13538, 'tapers': 13539, 'faceless': 13540, 'assassinated': 13541, 'warlocks': 13542, 'valyria': 13543, 'hwo': 13544, \"farmer's\": 13545, 'connecting': 13546, 'padi': 13547, 'mlr': 13548, 'colleges': 13549, 'unnattached': 13550, 'libcuck': 13551, 'gollum': 13552, 'temps': 13553, 'oligarchy': 13554, \"mekkkah's\": 13555, 'pitfall': 13556, \"subreddit's\": 13557, 'globe': 13558, 'preller': 13559, 'vezinas': 13560, 'putas': 13561, 'qué': 13562, 'eres': 13563, 'untraceable': 13564, 'blockchain': 13565, 'transaction': 13566, 'rumbling': 13567, 'limbretrieval': 13568, 'defunct': 13569, 'competed': 13570, 'instrumentation': 13571, 'deflated': 13572, 'avail': 13573, 'yanny': 13574, 'hpv': 13575, 'careless': 13576, 'ballot': 13577, 'hamburger': 13578, \"o'\": 13579, '“someone': 13580, \"nvidia's\": 13581, 'freesyinc': 13582, 'adhered': 13583, 'hahha': 13584, 'posturing': 13585, 'accomplishes': 13586, 'toenail': 13587, 'refreshingly': 13588, 'lassaire': 13589, 'gemologists': 13590, 'glassy': 13591, 'bovine': 13592, 'shd': 13593, 'strategist': 13594, 'sweatshirts': 13595, 'tkl': 13596, 'numpad': 13597, 'calamari': 13598, 'erotic': 13599, 'heed': 13600, 'kinsler': 13601, 'harbinger': 13602, 'cosmic': 13603, 'cz': 13604, 'evo': 13605, '“whoa': 13606, 'clu': 13607, 'sive': 13608, 'kombaaaaat': 13609, 'cpo': 13610, \"tps's\": 13611, 'cr': 13612, 'mounted': 13613, 'retardism': 13614, 'instramentals': 13615, 'juuls': 13616, 'satans': 13617, 'usb': 13618, \"b'day\": 13619, 'ganging': 13620, 'dabble': 13621, 'augment': 13622, 'scribbled': 13623, 'dracula': 13624, 'examined': 13625, \"gp's\": 13626, 'salmon': 13627, '“instagram': 13628, 'gravel': 13629, '“oooh': 13630, 'bhahaha': 13631, 'il': 13632, 'absolutes': 13633, '‘for': 13634, 'season’': 13635, '‘in': 13636, 'our’': 13637, 'snail': 13638, 'baddies': 13639, 'ambitions': 13640, 'jsimms': 13641, 'allesandrostien': 13642, 'mismanaged': 13643, 'olympic': 13644, 'nurseries': 13645, 'leggings': 13646, 'fanboyism': 13647, 'pronouncedbooty': 13648, 'anout': 13649, 'substances': 13650, 'entering': 13651, 'sanitary': 13652, 'wd40': 13653, 'thedonald': 13654, 'snerk': 13655, 'cheesesaurus': 13656, 'aphex': 13657, 'melodies': 13658, 'assaulters': 13659, 'kilt': 13660, \"ucf's\": 13661, 'compensated': 13662, 'salaried': 13663, 'knots': 13664, 'pretoria': 13665, 'hnic': 13666, 'sensor': 13667, 'subordinates': 13668, 'cloud': 13669, 'h265': 13670, 'yifi': 13671, 'acs': 13672, 'eztv': 13673, 'meadowvale': 13674, 'carpaccio': 13675, 'affiliation': 13676, 'vegreville': 13677, 'hep': 13678, 'whirl': 13679, 'locationbot': 13680, '31977192': 13681, 'gst': 13682, 'mace': 13683, 'evangelicals': 13684, 'categorically': 13685, 'ideologies': 13686, 'orochi': 13687, 'flashpoint': 13688, 'reggaeton': 13689, \"'twat\": 13690, \"waffle'\": 13691, 'marvellously': 13692, '“tiddies”': 13693, 'caresses': 13694, 'energetic': 13695, 'stafford': 13696, 'starford': 13697, 'starlord': 13698, 'devalue': 13699, 'multitask': 13700, 'alhave': 13701, 'arses': 13702, '“you’ll': 13703, 'forfeit': 13704, 'then”': 13705, 'winne': 13706, 'pooh': 13707, 'underachieves': 13708, 'genocides': 13709, 'centurion': 13710, 'amazinguk': 13711, 'casters': 13712, 'fuckin’': 13713, 'brexiteers': 13714, 'amended': 13715, 'chirotown': 13716, 'deepity': 13717, 'wronger': 13718, 'individualistic': 13719, 'communal': 13720, 'incumbency': 13721, \"developer's\": 13722, 'disengagement': 13723, 'pianist': 13724, 'phases': 13725, 'spinster': 13726, '4eva': 13727, 'managing': 13728, 'chia': 13729, 'milestone': 13730, 'digit': 13731, 'recalling': 13732, 'pnp': 13733, 'veg': 13734, 'tooting': 13735, 'talkin’': 13736, 'hyperbole': 13737, 'producer': 13738, 'empirical': 13739, 'gentile': 13740, 'coopted': 13741, 'mfer': 13742, 'shortage': 13743, 'cowering': 13744, 'militaristic': 13745, 'aspd': 13746, 'aweso': 13747, 'warlords': 13748, 'overtaking': 13749, 'armedforcesupdate': 13750, 'endangerment': 13751, 'prepping': 13752, 'trio': 13753, 'camper': 13754, 'selections': 13755, 'jeopardy': 13756, 'ge': 13757, 'sacrafice': 13758, 'yaaaay': 13759, 'pcmasterrace': 13760, '63': 13761, 'sag': 13762, 'veggie': 13763, 'patty': 13764, \"jean's\": 13765, 'deagle': 13766, 'human’s': 13767, 'catastrophize': 13768, 'noire': 13769, 'reputable': 13770, 'yiss': 13771, 'bushes': 13772, 'dikke': 13773, 'toeter': 13774, 'libdems': 13775, 'pantyliners': 13776, 'odor': 13777, 'seeping': 13778, 'nhs': 13779, 'dwp': 13780, 'destitute': 13781, 'humbly': 13782, 'broadcasters': 13783, 'understatement': 13784, 'telomeres': 13785, 'cadillac': 13786, 'shades': 13787, 'juggalette': 13788, 'muhahahah': 13789, 'stall': 13790, 'ghetto': 13791, 'corps': 13792, 'sedation': 13793, 'wallen': 13794, 'orgasms': 13795, '100years': 13796, '73': 13797, 'unionizing': 13798, 'gammer': 13799, 'integral': 13800, 'mine’s': 13801, 'cymbalta': 13802, 'lamictal': 13803, 'ativan': 13804, \"'bug'\": 13805, '️ig': 13806, 'shlong': 13807, 'piloting': 13808, 'incapacitated': 13809, 'ethtrader': 13810, 'semantics': 13811, 'incitement': 13812, '5’8ish': 13813, 'pro’s': 13814, 'unwritten': 13815, 'chuckles': 13816, 'fearmongering': 13817, 'heartbroken': 13818, 'yey': 13819, 'mystero': 13820, '“willfully': 13821, 'dt': 13822, 'snip': 13823, 'veteran’s': 13824, 'supper': 13825, 'certify': 13826, 'woth': 13827, 'vapor': 13828, 'kalmas': 13829, 'douzy': 13830, 'cartels': 13831, 'spins': 13832, 'clapped”': 13833, 'consisting': 13834, 'abby': 13835, 'wabbies': 13836, '❤❤☺': 13837, 'yahoo': 13838, 'weaboo': 13839, 'croatia': 13840, 'sidepiece': 13841, 'expeditious': 13842, 'hazzah': 13843, '“world': 13844, 'worlds”': 13845, \"g'day\": 13846, \"arvo's\": 13847, 'manufacturers': 13848, 'tvs': 13849, 'nutty': 13850, 'taipan': 13851, 'bumpkins': 13852, 'muscly': 13853, 'obtrusion': 13854, '“stack': 13855, 'norse': 13856, '“study”': 13857, 'saber': 13858, \"suns'\": 13859, 'bur': 13860, 'zeitgeist': 13861, 'engulfed': 13862, 'hvac': 13863, 'bigheart': 13864, 'soar': 13865, 'checkline': 13866, 'singed': 13867, 'jungling': 13868, 'powerlessness': 13869, 'teamlemoncreams': 13870, 'visually': 13871, 'bugger': 13872, '👏👏': 13873, 'gutsy': 13874, 'lsc': 13875, 'daggerfall': 13876, 'carded': 13877, 'omit': 13878, 'unfulfilled': 13879, \"'wave'\": 13880, 'downvite': 13881, 'wayyyyyy': 13882, 'lovegod': 13883, 'conor': 13884, 'khabib': 13885, 'ghoul': 13886, '20mm': 13887, 'ballsack': 13888, 'mythologised': 13889, 'nightingale': 13890, 'crerpypasta': 13891, 'femboys': 13892, 'furs': 13893, 'clem': 13894, 'bind': 13895, 'incarnations': 13896, 'plo8': 13897, 'fiver': 13898, 'constraints': 13899, 'crescent': 13900, 'paunch': 13901, 'soak': 13902, 'toxin': 13903, 'redact': 13904, 'indiginous': 13905, 'dares': 13906, 'umbilical': 13907, 'technica': 13908, 'ar3bt': 13909, 'poorest': 13910, 'enviorment': 13911, 'hittable': 13912, 'headkick': 13913, 'scent': 13914, 'decaying': 13915, 'videocassettes': 13916, 'dorion': 13917, 'ign': 13918, 'kaep': 13919, 'mems': 13920, 'lauren': 13921, 'embittered': 13922, 'chlamydia': 13923, 'deploying': 13924, 'strategically': 13925, 'pronoun': 13926, 'somenbjorn': 13927, 'aotc': 13928, 'puffing': 13929, 'excludes': 13930, 'lebronsexual': 13931, '299': 13932, 'mulberry': 13933, 'deniieed': 13934, 'lollipop': 13935, 'catman': 13936, \"lol'd\": 13937, 'bigly': 13938, 'atempted': 13939, 'downdoots': 13940, 'conjugal': 13941, 'difinitely': 13942, 'filmed': 13943, 'sharkies': 13944, 'insinuating': 13945, 'reunification': 13946, 'evacuate': 13947, 'continent': 13948, 'debbie': 13949, 'downer': 13950, 'pedalled': 13951, 'junkrat': 13952, 'overprepared': 13953, 'why’d': 13954, 'latrice': 13955, 'breastfeed': 13956, \"boy's\": 13957, 'rl': 13958, '8x8': 13959, 'frustrate': 13960, 'abouts': 13961, 'jd': 13962, 'harridan': 13963, 'ans': 13964, 'blondes': 13965, 'brunettes': 13966, 'hahaan00b': 13967, 'apollo': 13968, 'shoook': 13969, 'y’s': 13970, 'tendon': 13971, 'bedfellows': 13972, 'lobbies': 13973, 'steady': 13974, 'outline': 13975, \"wes'\": 13976, 'amped': 13977, 'cmon': 13978, 'cheapens': 13979, 'aig': 13980, 'yessir': 13981, 'freefreebradshaw': 13982, 'striped': 13983, 'mcallen': 13984, 'child”': 13985, 'penguin': 13986, 'ramtard': 13987, 'pliers': 13988, \"don'\": 13989, '“internship”': 13990, \"thing's\": 13991, 'carapace': 13992, 'violates': 13993, 'commonwealth': 13994, 'swayed': 13995, 'bitchmade': 13996, 'babyman': 13997, 'blount': 13998, 'martin': 13999, 'luthur': 14000, '“everything': 14001, 'okay”': 14002, 'rode': 14003, 'fehduhp': 14004, 'sherriff': 14005, 'bunnell': 14006, 'rails': 14007, 'stripe': 14008, 'harris': 14009, '“his': 14010, 'pigeoness”': 14011, 'amenable': 14012, 'cromulent': 14013, 'remainiacs': 14014, 'lesbonim': 14015, 'goodnewsforwomen': 14016, 'spastically': 14017, 'writhing': 14018, 'agonized': 14019, 'hamburgers': 14020, 'unwelcome': 14021, 'reforms': 14022, 'hyuck': 14023, 'agghh': 14024, 'shalom': 14025, 'burdening': 14026, 'dunder': 14027, 'mifflin': 14028, 'fredmeyer': 14029, 'azwel': 14030, 'rugged': 14031, 'missing”': 14032, 'duke': 14033, 'swapped': 14034, 'sanwa': 14035, 'hori': 14036, 'duplicates': 14037, 'whatchu': 14038, \"raptors'\": 14039, \"3's\": 14040, 'fleetwood': 14041, 'spacial': 14042, 'amarillo': 14043, 'billboard': 14044, 'unnaturally': 14045, \"culver's\": 14046, 'pane': 14047, 'ehhhhhh': 14048, 'ovens': 14049, 'unevenly': 14050, 'bendelacreme': 14051, 'relvant': 14052, 'lince': 14053, 'dorado': 14054, 'kowtows': 14055, 'ima': 14056, 'dorcos': 14057, 'razors': 14058, 'almonds': 14059, 'cashews': 14060, 'cooker': 14061, '20’s': 14062, 'shrewd': 14063, 'superman': 14064, 'rumours': 14065, 'firefighter': 14066, 'subtlety': 14067, 'geezus': 14068, 'educators': 14069, 'disabilities': 14070, 'forthwith': 14071, 'unnamed': 14072, 'verily': 14073, 'beastmen': 14074, 'octane': 14075, 'anthros': 14076, 'cooinbase': 14077, 'mastercard': 14078, 'gab': 14079, 'bandaging': 14080, 'ambitious': 14081, 'grinded': 14082, 'homeowner': 14083, 'yidish': 14084, 'councilors': 14085, 'alphabetically': 14086, 'gto': 14087, 'starved': 14088, 'watchable': 14089, 'beeping': 14090, 'deride': 14091, 'caters': 14092, 'spooners': 14093, 'dwight': 14094, 'probiotics': 14095, 'serendipitous': 14096, 'frees': 14097, 'relegation': 14098, 'hamilton': 14099, 'flushed': 14100, 'biotch': 14101, 'kiwis': 14102, 'banking': 14103, 'depay': 14104, 'disinvited': 14105, 'encampment': 14106, 'timberwolves': 14107, 'playerwise': 14108, 'zinfandel': 14109, 'honeymoon': 14110, 'paraphilia': 14111, 'amein': 14112, 'bogged': 14113, 'maori': 14114, 'refrigerate': 14115, 'gronk': 14116, 'mutate': 14117, 'deadpan': 14118, 'emo': 14119, 'depress': 14120, 'jaxons': 14121, 'damit': 14122, 'fulfills': 14123, 'jannist': 14124, 'suitcase': 14125, 'dumho': 14126, 'pewds': 14127, 'fastball': 14128, 'functioning': 14129, 'incidents': 14130, 'governed': 14131, 'tribal': 14132, 'taboos': 14133, 'gx': 14134, 'retaining': 14135, 'ovaries': 14136, 'insists': 14137, 'dieting': 14138, 'optic': 14139, 'thomas': 14140, 'perverse': 14141, 'rehabilitating': 14142, 'bungie': 14143, 'foiled': 14144, 'it😂😂😂😂': 14145, 'holographic': 14146, '1523648856': 14147, 'dojo': 14148, 'whiney': 14149, 'compulsions': 14150, '“song': 14151, '2”': 14152, 'ipcam': 14153, 'whoring': 14154, 'investor': 14155, 'guava': 14156, 'insulate': 14157, 'incendiary': 14158, 'controversy': 14159, 'mudede': 14160, 'autobiography': 14161, 'perks': 14162, 'lp': 14163, 'televangelists': 14164, 'adorbs': 14165, 'organic': 14166, 'frappa': 14167, 'latte': 14168, 'woman’s': 14169, 'antimigration': 14170, 'bravado': 14171, 'belltower': 14172, 'tern': 14173, 'frisky': 14174, 'dubious': 14175, 'tousles': 14176, 'mating': 14177, 'planted': 14178, 'autumn': 14179, 'unnecessarily': 14180, 'daesh': 14181, 'yeet': 14182, 'tailoring': 14183, 'aspergers': 14184, 'privileges': 14185, 'odell': 14186, \"saquon's\": 14187, 'bloodbath': 14188, 'beauties': 14189, 'sasha': 14190, 'velour': 14191, 'swiping': 14192, 'leftie': 14193, 'forex': 14194, 'haste': 14195, '“cheat': 14196, 'list”': 14197, 'celebrities': 14198, 'vanish': 14199, 'indonesia': 14200, '180': 14201, 'ventriloqy': 14202, 'tlwgas': 14203, 'leveled': 14204, 'supernova': 14205, 'umph': 14206, 'toles': 14207, '95th': 14208, 'frp': 14209, 'goalies': 14210, 'tdee': 14211, 'spontaneous': 14212, 'dreds': 14213, 'annulled': 14214, 'petitioner': 14215, 'confessedly': 14216, 'haggard': 14217, 'abandon': 14218, 'floored': 14219, 'checher': 14220, 'wizardry': 14221, 'tsas': 14222, 'cinemax': 14223, 'revel': 14224, 'pedantry': 14225, 'discretion': 14226, 'penalties': 14227, 'heifers': 14228, 'cisphobic': 14229, \"smithsonian's\": 14230, 'oliver': 14231, 'meps': 14232, 'depper': 14233, 'moralizing': 14234, 'harasses': 14235, 'reassuring': 14236, 'persuasive': 14237, 'preservatives': 14238, 'callus': 14239, 'warthog': 14240, '25000': 14241, 'portioning': 14242, 'canopy': 14243, 'usd': 14244, 'bunting': 14245, 'farded': 14246, 'shidded': 14247, 'baddest': 14248, 'sigs': 14249, '34k': 14250, 'better”': 14251, 'whelmed': 14252, '“go': 14253, 'cream”': 14254, 'rag': 14255, 'disrespecting': 14256, 'veal': 14257, 'stomped': 14258, 'kerb': 14259, 'albies': 14260, 'stadiums': 14261, 'hypocrites': 14262, 'outstandingly': 14263, 'clutterfuckedd': 14264, 'sudoku': 14265, 'uploader': 14266, 'beatings': 14267, 'ecourage': 14268, 'renewable': 14269, 'grøh': 14270, 'troubled': 14271, 'pasts': 14272, 'chokes': 14273, 'extinct': 14274, 'meltzer': 14275, 'nlf': 14276, 'wooshes': 14277, 'barefoot': 14278, 'dysfunctional': 14279, 'stockpiling': 14280, 'demograohic': 14281, 'hellfire': 14282, 'impediment': 14283, 'pageau': 14284, 'broomfield': 14285, 'cumbersome': 14286, 'oline': 14287, 'communications': 14288, 'setups': 14289, 'hatter': 14290, 'ouat': 14291, 'storey': 14292, 'mysteries': 14293, 'cmmon': 14294, 'elders': 14295, 'institutional': 14296, 'donnybrook': 14297, '“now': 14298, 'job”': 14299, 'disenfranchisement': 14300, 'socioeconomic': 14301, 'meter': 14302, 'verifiable': 14303, '💩': 14304, 'pedos': 14305, 'completey': 14306, 'hapas': 14307, 'pediatric': 14308, \"rn's\": 14309, '100t': 14310, 'vigil': 14311, 'fruits': 14312, 'breadline': 14313, 'hodad': 14314, 'intoxicated': 14315, 'crazy‽': 14316, 'rules‽': 14317, 'pj': 14318, 'folky': 14319, 'contemporary': 14320, 'songwriter': 14321, '“cat': 14322, \"policeman's\": 14323, 'rye': 14324, 'rhubarb': 14325, 'outlay': 14326, 'humbled': 14327, 'cardinals': 14328, \"coulter's\": 14329, 's2g': 14330, 'squirming': 14331, 'unfathomable': 14332, 'textless': 14333, 'originates': 14334, 'imageboards': 14335, 'blackmailers': 14336, 'skeletor': 14337, 'ottoman': 14338, 'clockwork': 14339, 'capabilities': 14340, 'imitates': 14341, 'hisss': 14342, 'loath': 14343, 'dissociation': 14344, 'derealization': 14345, 'hurked': 14346, 'notasci': 14347, 't5': 14348, 'ttt2': 14349, 'sbmm': 14350, '“second': 14351, 'experience”': 14352, 'cranked': 14353, 'mango': 14354, 'att': 14355, 'woodhaven': 14356, '25min': 14357, 'blanketed': 14358, 'unlawful': 14359, 'eviction': 14360, 'capcom': 14361, 'diagnose': 14362, \"hashimoto's\": 14363, 'malls': 14364, 'obsolete': 14365, 'armpit': 14366, '“fleek”': 14367, \"'deal'\": 14368, \"'meal'\": 14369, 'haze': 14370, 'you´re': 14371, 'malaysia': 14372, 'characterize': 14373, 'hiss': 14374, 'nickelback': 14375, 'thielen': 14376, 'youngish': 14377, 'hollowed': 14378, '40’s': 14379, 'liers': 14380, 'trotting': 14381, 'retained': 14382, 'scrap': 14383, 'wholesale': 14384, 'unsettled': 14385, 'napster': 14386, 'din': 14387, 'indicted': 14388, 'embraces': 14389, 'occam': 14390, 'abort': 14391, 'ringer': 14392, '3mnths': 14393, 'pinhole': 14394, 'spinabifida': 14395, 'postpartum': 14396, 'loool': 14397, 'smurfing': 14398, 'granville': 14399, 'saltiest': 14400, 'sadcringe': 14401, 'venerate': 14402, 'icons': 14403, 'latch': 14404, 'anchors': 14405, 'thooooose': 14406, 'fertile': 14407, 'clop': 14408, 'remedy': 14409, 'rattling': 14410, 'guesses': 14411, 'oooops': 14412, '“people': 14413, 'lobe': 14414, 'impotent': 14415, 'foriegners': 14416, 'xans': 14417, 'hordes': 14418, 'authorized': 14419, 'malware': 14420, 'priesthood': 14421, 'holders': 14422, 'mislintat': 14423, 'puma': 14424, 'verysmart': 14425, 'nervously': 14426, 'firecracker': 14427, 'lemmon': 14428, 'tucson': 14429, '“poop”': 14430, 'integrating': 14431, 'midichlorian': 14432, 'advertised': 14433, 'legalistic': 14434, 'snark': 14435, 'northbridg': 14436, 'shouldvcount': 14437, 'skripal': 14438, 'pataweo': 14439, 'boy😂': 14440, 'iu': 14441, 'ery': 14442, 'piz': 14443, 'zah': 14444, 'trime': 14445, 'thankless': 14446, 'fruitless': 14447, 'hmmmhmmm': 14448, 'nod': 14449, 'bantam': 14450, 'breakouts': 14451, 'avi': 14452, 'natgeo': 14453, 'decorating': 14454, 'inspo': 14455, 'saucing': 14456, 'damnation': 14457, '5019': 14458, 'dumbster': 14459, 'meeeehhhh': 14460, 'deluxe': 14461, 'ingest': 14462, 'operators': 14463, 'lasso': 14464, '“was”': 14465, '“had': 14466, 'manufacturer': 14467, 'chew': 14468, 'bubblegum': 14469, 'dicky': 14470, 'perpetually': 14471, 'inspires': 14472, 'photoshopping': 14473, '304': 14474, 'smileyboye': 14475, 'wallah': 14476, 'tiggers': 14477, 'hgc': 14478, 'severance': 14479, 'executives': 14480, 'rods': 14481, 'yawnn': 14482, 'sayyyy': 14483, 'atronach': 14484, 'grappler': 14485, 'crimsix': 14486, 'riveting': 14487, 'councils': 14488, 'tehehehehehehe': 14489, '🤪🤩🤠': 14490, 'abstaining': 14491, 'relieve': 14492, 'trespassed': 14493, \"stranger's\": 14494, 'spoons': 14495, 'oooooooooo': 14496, 'faygo': 14497, \"m'excuse\": 14498, 'ballboy': 14499, 'mehenjo': 14500, 'daro': 14501, 'formatting': 14502, 'roid': 14503, 'melb': 14504, 'respectability': 14505, 'spooks': 14506, 'darwinism': 14507, 'suicide': 14508, 'pooch': 14509, 'somthing': 14510, 'detrimental': 14511, 'livelihood': 14512, '👩👩👩': 14513, '💄': 14514, '💄💋': 14515, '🌟✨': 14516, '🚫🚫🚫🚫': 14517, 'filters': 14518, '💯💯💯💯💯': 14519, 'skywalkers': 14520, 'imbalance”': 14521, 'fgm': 14522, 'uncut': 14523, 'tenth': 14524, 'lungies': 14525, 'puha': 14526, 'clearer': 14527, 'skittles': 14528, 'stiff': 14529, 'ahuahuasca': 14530, 'newborns': 14531, 'whammy': 14532, 'tr': 14533, 'wards': 14534, 'tableware': 14535, 'inverted': 14536, 'castrate': 14537, 'spawns': 14538, 'yawning': 14539, 'sealion': 14540, 'millworks': 14541, 'scarier': 14542, 'shins': 14543, 'presser': 14544, 'swaying': 14545, 'gracefully': 14546, 'wilderbeast': 14547, 'patches': 14548, 'cleabed': 14549, 'crypts': 14550, 'uncertain': 14551, 'mole': 14552, 'leagueoflegends': 14553, 'creations': 14554, 'myths': 14555, 'ucp': 14556, 'tantrums': 14557, '0”': 14558, '29k': 14559, 'elbows': 14560, 'yates': 14561, '😾': 14562, '👉': 14563, '🤚': 14564, '🖐️': 14565, 'subredditdrama': 14566, '👋': 14567, '👐': 14568, '☝️': 14569, 'oooooooo': 14570, 'dollops': 14571, 'pimples': 14572, 'smeared': 14573, 'hummingbird': 14574, 'houseguest': 14575, 'heeaaaaad': 14576, 'pesto': 14577, 'faucet': 14578, '179mbps': 14579, \"'hello\": 14580, 'innovation': 14581, 'pridefully': 14582, 'cyborg': 14583, 'forecast': 14584, 'bitesize': 14585, 'tesco': 14586, 'weee': 14587, 'whiteoids': 14588, 'perjury': 14589, 'squashed': 14590, 'retract': 14591, 'grr': 14592, 'dipo': 14593, 'coincidental': 14594, 'camouflage': 14595, 'uproar': 14596, 'escalation': 14597, 'thinner': 14598, 'aspirin': 14599, 'sourced': 14600, 'ply': 14601, 'unsatisfying': 14602, 'maneuver': 14603, 'strangled': 14604, 'igs': 14605, 'moronphobia': 14606, 'distaste': 14607, 'thumbs': 14608, 'socialised': 14609, 'bestfriend': 14610, 'cherish': 14611, 'phallic': 14612, 'cheapen': 14613, 'resemblance': 14614, 'feces': 14615, 'exhortation': 14616, 'risked': 14617, 'prole': 14618, 'concorde': 14619, 'weewee': 14620, 'weenie': 14621, 'maa': 14622, 'endlessly': 14623, 'rab': 14624, 'octopus': 14625, 'voicepack': 14626, 'inland': 14627, 'booters': 14628, 'adolescents': 14629, 'rebinge': 14630, 'vilify': 14631, 'bangin': 14632, 'traverse': 14633, 'wastes': 14634, 'genealogy': 14635, 'bounds': 14636, 'abuses': 14637, 'eugh': 14638, 'locations': 14639, 'nicollet': 14640, 'minneapolis': 14641, 'mernda': 14642, 'clifton': 14643, 'pulse': 14644, 'secret”': 14645, 'omniscum': 14646, 'deficancy': 14647, 'ideally': 14648, 'lmaoo': 14649, 'mixes': 14650, 'cimmunity': 14651, 'ale': 14652, 'huges': 14653, 'destined': 14654, 'bamas': 14655, 'him🤣': 14656, 'cropping': 14657, 'bridesmaids': 14658, \"wong's\": 14659, 'leagues': 14660, 'adjectives': 14661, 'embodiment': 14662, 'fotc': 14663, 'discharge': 14664, 'stopper': 14665, 'tripped': 14666, \"either's\": 14667, 'whim': 14668, 'sheilds': 14669, '3800': 14670, '玛雅': 14671, 'chabanais': 14672, 'affirmative': 14673, 'crosswalk': 14674, 'lowries': 14675, 'punpatrol': 14676, 'ooooooo': 14677, '🔥🔥': 14678, 'brandishing': 14679, 'egged': 14680, 'dnp': 14681, '35k': 14682, 'shellfish': 14683, 'oysters': 14684, 'clams': 14685, 'gotham': 14686, 'yeeeeee': 14687, 'comebacks': 14688, 'trumpkin': 14689, '16m': 14690, 'competence': 14691, 'educator': 14692, 'caneco': 14693, \"'right'\": 14694, \"'left'\": 14695, 'wakeup': 14696, 'formation': 14697, 'lobbed': 14698, 'sniffling': 14699, 'buffoon': 14700, 'teleprompter': 14701, 'brainlet': 14702, 'bollocks': 14703, 'disingenuousness': 14704, 'fetlife': 14705, 'denounce': 14706, '“trxps”': 14707, 'fiire': 14708, 'studded': 14709, \"'eternal\": 14710, \"adolescent'\": 14711, 'gtage': 14712, 'commendation': 14713, 'soyboy': 14714, 'waaaaaaallllll': 14715, 'minnows': 14716, 'inning': 14717, 'chilled': 14718, 'spaghettis': 14719, 'infj': 14720, 'caustic': 14721, 'huffed': 14722, 'formaldehyde': 14723, 'backstabbing': 14724, '🍿': 14725, 'grading': 14726, 'whomever': 14727, 'beckton': 14728, 'element': 14729, 'corrie': 14730, 'prepaid': 14731, 'barking': 14732, '‘night': 14733, 'tactically': 14734, 'safeco': 14735, 'kabobs': 14736, 'vb': 14737, 'foooooooor': 14738, 'shadowing': 14739, 'trussing': 14740, 'leviticus': 14741, 'tahiti': 14742, 'conceptions': 14743, 'koan': 14744, 'dives': 14745, 'memeable': 14746, 'metlife': 14747, 'mb3': 14748, 'replaces': 14749, 'wcs': 14750, 'pastes': 14751, 'steakhouse': 14752, 'gradually': 14753, 'lads': 14754, 'coexistence': 14755, '“cow': 14756, 'house”': 14757, 'shotting': 14758, '22lr': 14759, 'ether': 14760, 'shotty': 14761, 'herd': 14762, 'fetches': 14763, 'cliffhanger': 14764, 'lsu': 14765, 'epileptic': 14766, 'supa': 14767, 'brothas': 14768, 'itgetsthroughboner': 14769, 'waiste': 14770, 'trumpcare': 14771, 'gayborhood': 14772, \"'wrong'\": 14773, 'pluses': 14774, 'minuses': 14775, 'googles': 14776, 'geeze': 14777, '5v5': 14778, 'wipeboard': 14779, 'downvoters': 14780, 'surrendered': 14781, 'mesosphere': 14782, 'groaned': 14783, 'tfm': 14784, 'commiserate': 14785, 'caleb': 14786, 'tabletop': 14787, '12k': 14788, 'viewership': 14789, 'rooosaa': 14790, 'rosaa': 14791, 'fock': 14792, 'monaca': 14793, 'wooow': 14794, 'fetishize': 14795, 'fuss': 14796, '5d': 14797, 'sigma': 14798, '600mm': 14799, 'cucks': 14800, 'vpd': 14801, 'mounties': 14802, 'mathematically': 14803, 'rudy': 14804, 'dkr': 14805, 'bonfire': 14806, 'decriminalization': 14807, 'legislature': 14808, 'kotakuinaction': 14809, 'administrators': 14810, 'enema': 14811, 'hillbilly': 14812, 'preeetty': 14813, 'kmt': 14814, 'surd': 14815, 'denotation': 14816, 'subtext': 14817, 'cbo': 14818, 'retrospect': 14819, \"paddy's\": 14820, 'reliving': 14821, 'published': 14822, 'sunfan': 14823, 'caster': 14824, 'trumpet': 14825, 'duped': 14826, 'whitewash': 14827, 'libertarianism’s': 14828, 'roots': 14829, 'dur': 14830, 'on😂😂': 14831, 'mastification': 14832, 'cornerstone': 14833, 'aries': 14834, 'alderman': 14835, 'eban': 14836, 'wif': 14837, 'aht': 14838, 'ferk': 14839, 'additions': 14840, '💲💸': 14841, '🎂🎉': 14842, 'boxers': 14843, 'playboi': 14844, 'carti': 14845, 'dsm': 14846, 'bofo': 14847, 'sturdy': 14848, \"gop's\": 14849, 'subcultural': 14850, 'mobbish': 14851, 'oakland': 14852, 'fattened': 14853, 'empower': 14854, 'abolish': 14855, 'prostitution': 14856, 'sixstringersoldier': 14857, 'pogram': 14858, 'targ': 14859, 'targs': 14860, 'scuba': 14861, 'diving': 14862, 'optimist': 14863, 'landlady': 14864, 'discriminated': 14865, 'vomitting': 14866, 'typhoon': 14867, 'catastrophic': 14868, 'pareto': 14869, \"oblivion's\": 14870, \"morrowind's\": 14871, '❤❤': 14872, 'hotwheels': 14873, 'zigzagzigal': 14874, 'suggeestions': 14875, 'clutched': 14876, 'vindication': 14877, 'unlikable': 14878, 'divekick': 14879, 'militias': 14880, 'uninterested': 14881, 'hell’s': 14882, 'tailed': 14883, 'leduc': 14884, 'backwoods': 14885, 'mummied': 14886, 'hardware': 14887, 'menat': 14888, 'enraged': 14889, 'boneappletea': 14890, 'crimson': 14891, 'skies': 14892, 'paternity': 14893, 'economically': 14894, 'punchbowl': 14895, 'fcs': 14896, 'afflicted': 14897, '‘dm': 14898, 'id’': 14899, '‘please': 14900, 'ticket’': 14901, '5mm': 14902, 'jeck': 14903, 'promet': 14904, 'resets': 14905, 'gaslighting': 14906, 'hoss': 14907, '😻': 14908, 'omnialternative': 14909, '07': 14910, 'pouliot': 14911, 'insistent': 14912, 'ment': 14913, '112': 14914, 'poorer': 14915, 'browner': 14916, 'skates': 14917, 'musicals': 14918, 'geek': 14919, 'purported': 14920, 'clobber': 14921, 'snooki': 14922, 'haes': 14923, 'setpoints': 14924, 'normalizing': 14925, 'comfortably': 14926, 'marginalization': 14927, 'gluttonophobia': 14928, 'farewell': 14929, \"bro's\": 14930, 'brb': 14931, 'balding': 14932, 'tolerances': 14933, 'biggie': 14934, 'reeeally': 14935, 'retinas': 14936, 'herculean': 14937, 'phonetics': 14938, 'requesting': 14939, 'cataclysm': 14940, 'anarchists': 14941, 'defendant': 14942, 'presumed': 14943, 'corporately': 14944, 'rightward': 14945, 'frinkiac': 14946, 'rages': 14947, 'iy': 14948, 'woild': 14949, 'distancing': 14950, 'suppressing': 14951, 'dissipate': 14952, 'incantation': 14953, 'futurama': 14954, 'mor': 14955, 'boreign': 14956, 'arkund': 14957, 'grindy': 14958, 'disapearing': 14959, 'kqly': 14960, 'forhonor': 14961, 'forhonormemes': 14962, '333': 14963, 'fingered': 14964, 'reupload': 14965, \"story's\": 14966, \"observer's\": 14967, 'calendar': 14968, 'thog': 14969, 'suspecting': 14970, 'thotaudit': 14971, 'padding': 14972, '1940s': 14973, 'ellsworth': 14974, 'guadalupe': 14975, '🔪🔪🔪🔪🔪🔪': 14976, 'vodacom': 14977, 'resonates': 14978, 'lacked': 14979, 'ams': 14980, 'dildos': 14981, '308': 14982, 'heinous': 14983, 'rescuing': 14984, 'criticises': 14985, 'beetlejuice': 14986, \"player's\": 14987, 'hawick': 14988, 'ideals': 14989, 'fe': 14990, 'negates': 14991, 'ratting': 14992, 'kate': 14993, 'spade': 14994, '🤤😭': 14995, 'astrophysics': 14996, 'ticklish': 14997, 'herre': 14998, 'rediculously': 14999, 'auch': 15000, 'accentuates': 15001, 'lgbt': 15002, 'knoxville': 15003, 'taped': 15004, 'firework': 15005, 'mortar': 15006, 'dude’s': 15007, 'educating': 15008, 'buckingham': 15009, 'prohormones': 15010, 'superhighway': 15011, 'connects': 15012, '“richtofen': 15013, 'turrets': 15014, 'objectives': 15015, 'koop': 15016, 'overpowered': 15017, 'whiteboard': 15018, 'caled': 15019, 'nn19': 15020, 'essex': 15021, 'usurp': 15022, 'spirituality': 15023, 'tammy': 15024, 'buyback': 15025, 'kraken': 15026, 'sails': 15027, 'sillyness': 15028, 'diploma': 15029, 'trampled': 15030, 'stormy': 15031, 'noms': 15032, 'nominating': 15033, 'akhad': 15034, 'patellar': 15035, '91': 15036, 'instrumental': 15037, 'pleasantries': 15038, 'co2': 15039, 'carbonation': 15040, 'eucalyptus': 15041, 'mam': 15042, 'repostcemetery': 15043, 'thrust': 15044, 'crys': 15045, 'shg': 15046, 'gushed': 15047, 'kroc': 15048, 'garrosh': 15049, 'moo': 15050, \"tiernan's\": 15051, 'coo': 15052, 'oncrici': 15053, 'summon': 15054, 'elder': 15055, 'truereddit': 15056, 'catchy': 15057, 'sterilized': 15058, 'nectar': 15059, \"youtube's\": 15060, 'krg': 15061, 'martial': 15062, 'fadom': 15063, 'putin': 15064, 'budgie': 15065, 'moralising': 15066, 'hospitalisation': 15067, 'denmark': 15068, 'sawing': 15069, 'aghast': 15070, 'national—': 15071, 'averaged': 15072, '261': 15073, '323': 15074, '473': 15075, '797': 15076, '102': 15077, 'equivalence': 15078, 'inle': 15079, 'gigs': 15080, 'deductions': 15081, 'durability': 15082, '2h': 15083, 'mannequins': 15084, '69k': 15085, 'doubloons': 15086, 'poshmark': 15087, '162': 15088, 'endangering': 15089, 'disturbs': 15090, 'cosplays': 15091, 'inceltears': 15092, 'samsquatch': 15093, 'redeem': 15094, 'kickers': 15095, 'arrg': 15096, 'aces': 15097, 'danvsstu': 15098, 'son’s': 15099, 'cl': 15100, 'marital': 15101, 'dept': 15102, 'reywalker': 15103, 'foreseeable': 15104, 'lsat': 15105, 'stalked': 15106, 'marrow': 15107, 'rockies': 15108, 'like‘em': 15109, 'rehabilitated': 15110, 'debateme': 15111, 'babyhitler': 15112, 'otherpeoplesbabies': 15113, 'waffles': 15114, 'corroborated': 15115, 'witnesses’s': 15116, 'necessities': 15117, 'hurtful': 15118, 'portrayal': 15119, 'braver': 15120, \"russia's\": 15121, 'actally': 15122, 'selfs': 15123, 'bunging': 15124, 'egregious': 15125, 'schooler': 15126, 'pseudopenis': 15127, 'chemtrails': 15128, 'softest': 15129, 'uncorrupted': 15130, 'wal': 15131, 'orbit': 15132, 'publicized': 15133, '“just': 15134, 'kek': 15135, 'footballs': 15136, 'grasse': 15137, 'asymmetry': 15138, 'bursts': 15139, 'somone': 15140, 'rol': 15141, 'ovr': 15142, \"months'\": 15143, 'pube': 15144, 'romances': 15145, 'amlooking': 15146, 'gump’s': 15147, 'farming': 15148, \"fan's\": 15149, 'playmaking': 15150, 'fasci': 15151, 'fashy': 15152, 'fæ': 15153, 'shē': 15154, 'undercut': 15155, 'tafe': 15156, 'yearns': 15157, 'densely': 15158, 'machinery': 15159, 'vol': 15160, 'wrongs': 15161, '1994': 15162, 'dhl': 15163, 'cleanse': 15164, 'fling': 15165, 'engines': 15166, 'ignition': 15167, \"shepherd's\": 15168, 'chinatown': 15169, 'brian': 15170, 'joes': 15171, 'helvetica': 15172, 'omw': 15173, 'canthal': 15174, \"lil'\": 15175, 'notified': 15176, 'bejeesus': 15177, 'hindutva': 15178, 'booming': 15179, \"6'9\": 15180, '215': 15181, \"gm'ing\": 15182, 'vast': 15183, 'semesters': 15184, 'bearings': 15185, 'kief': 15186, 'bidets': 15187, 'plumbing': 15188, 'unsustainable': 15189, 'racking': 15190, 'memed': 15191, 'straightforward': 15192, 'blasphemous': 15193, 'finnish': 15194, 'spitz': 15195, 'trashed': 15196, 'waving': 15197, '👀😐🙄': 15198, 'lika': 15199, 'giveaway—though': 15200, 'fabric': 15201, 'predictably': 15202, 'repairing': 15203, 'boiii”': 15204, 'silvers': 15205, 'bern': 15206, 'uncontrollably': 15207, 'pantomime': 15208, 'mammals': 15209, 'kinkaid': 15210, 'trewdat': 15211, 'creek': 15212, 'quartet': 15213, 'relabeling': 15214, 'beeb': 15215, 'henderson': 15216, 'flocking': 15217, 'fireflies': 15218, 'synchronizing': 15219, 'relove': 15220, 'dinged': 15221, 'smurfs': 15222, 'harness': 15223, 'reflects': 15224, 'scrape': 15225, 'rendered': 15226, 'youngstown': 15227, '“it': 15228, 'worse”': 15229, 'tolerate': 15230, '160': 15231, 'bdn': 15232, 'sob': 15233, 'fukkin': 15234, 'trumpdown': 15235, 'astute': 15236, 'descendants': 15237, 'allying': 15238, 'involvement': 15239, 'visitors': 15240, 'homosapien': 15241, 'cynic': 15242, 'aroused': 15243, 'hatet': 15244, '“yeah': 15245, 'guess”': 15246, 'genocidal': 15247, 'slovenian': 15248, 'clique': 15249, 'creepers': 15250, 'tke': 15251, 'tau': 15252, 'kappa': 15253, 'epsilon': 15254, 'unrestricted': 15255, 'chappelle': 15256, 'grasps': 15257, 'oooff': 15258, '😰😨😰': 15259, 'cylon': 15260, 'orgy': 15261, 'sexytimes': 15262, 't4': 15263, '360': 15264, 'gamed': 15265, 'programer': 15266, 'possessions': 15267, 'jumpers': 15268, 'smokescreen': 15269, 'fromm': 15270, 'motherfukers': 15271, \"carson's\": 15272, 'tithings': 15273, 'eòrapaidh': 15274, 'domesticate': 15275, 'fluff': 15276, 'hamada’s': 15277, 'negligible': 15278, 'jordanhill': 15279, 'phytoestrogen': 15280, 'fuckasses': 15281, 'sprinkle': 15282, 'diatomaceous': 15283, 'whoores': 15284, 'equate': 15285, 'bozos': 15286, 'remini': 15287, 'indignation': 15288, 'gilded': 15289, 'rg': 15290, 'ysts': 15291, 'squints': 15292, 'sandlot': 15293, 'prototypical': 15294, 'momentarily': 15295, '“out”': 15296, 'skirts': 15297, 'nato': 15298, 'vows': 15299, 'uberman': 15300, '65d': 15301, 'prego': 15302, 'blissfully': 15303, 'courtyard': 15304, 'spades': 15305, 'judo': 15306, 'exercises': 15307, 'sould': 15308, 'assissted': 15309, 'ceasar': 15310, 'stab': 15311, 'oak': 15312, 'electronic': 15313, 'canoe': 15314, 'exec': 15315, 'shaky': 15316, 'boyfie': 15317, 'backdodged': 15318, 'duels': 15319, 'avoids': 15320, 'timings': 15321, '‘rag’': 15322, 'flashiest': 15323, \"ak's\": 15324, 'kombatants': 15325, 'ugliness': 15326, 'tc': 15327, 'smudges': 15328, 'foreheads': 15329, 'ash': 15330, 'otps': 15331, 'hehehe': 15332, 'neh': 15333, \"i'ts\": 15334, 'dx': 15335, 'narrowed': 15336, 'spidery': 15337, 'shucci': 15338, 'murderino': 15339, 'westside': 15340, 'remainer': 15341, 'hommage': 15342, 'unfashionable': 15343, 'crowder': 15344, 'fuuuuck': 15345, 'ulcer': 15346, 'canker': 15347, 'tastebud': 15348, 'carriers': 15349, 'feminization': 15350, 'belittle': 15351, 'sha': 15352, \"at'cha\": 15353, 'dancer': 15354, 'advertise': 15355, 'treasured': 15356, 'conserve': 15357, 'slaphead': 15358, \"'days\": 15359, \"steelers'\": 15360, 'trough': 15361, 'immunities': 15362, 'eclipse': 15363, '2hrs': 15364, 'disrespected': 15365, 'kpw': 15366, 'mecha': 15367, 'tai': 15368, 'chi': 15369, 'concerted': 15370, 'demoralization': 15371, '‘my': 15372, 'shirt’': 15373, 'frizzle': 15374, 'bobs': 15375, 'vagene': 15376, 'clam': 15377, 'arabian': 15378, 'rosé': 15379, 'infuriates': 15380, 'bino': 15381, 'spoiling': 15382, 'perfect”': 15383, 'disappointments': 15384, 'replicate': 15385, 'aunts': 15386, 'soy': 15387, 'aaaaah': 15388, 'brawlhalla': 15389, 'blashphemous': 15390, 'sigil': 15391, 'derivative': 15392, 'scrapheap': 15393, 'royalties': 15394, 'disconnects': 15395, 'hiyoko': 15396, 'midlaner': 15397, 'vincentown': 15398, '206': 15399, 'desserts': 15400, 'sesta': 15401, 'fosta': 15402, 'censor': 15403, 'phishing': 15404, 'anticipated': 15405, 'dumps': 15406, 'cellulite': 15407, 'eyebleacher': 15408, 'jetpacker': 15409, \"60's\": 15410, 'bigs': 15411, 'conjecture': 15412, 'colloidal': 15413, 'dumpy': 15414, '293': 15415, 'hoopin': 15416, 'thibking': 15417, 'principal': 15418, 'fingerprint': 15419, 'securing': 15420, 'zionist': 15421, 'gentrifiers': 15422, 'apostrophe': 15423, \"'galaxy\": 15424, \"brain'\": 15425, \"'park\": 15426, \"want'\": 15427, 'trtl': 15428, 'molesting': 15429, 'trainees': 15430, 'voats': 15431, 'reich': 15432, 'kobolds': 15433, 'corolla': 15434, 'adaptive': 15435, 'palpatine’s': 15436, 'screech': 15437, 'narratives': 15438, 'bending': 15439, 'glorius': 15440, 'toplaner': 15441, 'ignorable': 15442, 'schlenk': 15443, 'cancellation': 15444, 'ungodly': 15445, 'concoctions': 15446, 'piling': 15447, 'disservice': 15448, 'paraded': 15449, 'formats': 15450, 'pacifiers': 15451, 'quantum': 15452, 'disk': 15453, 'qrt': 15454, 'tiananmen': 15455, 'tempting': 15456, '£250m': 15457, 'murky': 15458, 'gigantic': 15459, 'supercuts': 15460, 'schmancy': 15461, 'cdl': 15462, 'rot': 15463, 'assisted': 15464, 'adc': 15465, 'chaox': 15466, 'dominatrix': 15467, 'iconography': 15468, 'straightaway': 15469, 'bol': 15470, 'watercolour': 15471, 'finishes': 15472, 'awoken': 15473, 'snubbed': 15474, 'ep1': 15475, 'rc': 15476, 'helicopter': 15477, \"coloradon't\": 15478, 'lowpoint': 15479, 'enhancing': 15480, 'tabs': 15481, 'she”': 15482, '“uhhhhhhh': 15483, 'manlets': 15484, 'tetris': 15485, 'obligates': 15486, 'gestate': 15487, 'indiscretion': 15488, 'unsubstantiated': 15489, 'puerto': 15490, 'rican': 15491, 'swerve': 15492, 'swere': 15493, 'lifts': 15494, 'eea': 15495, 'pathfinder': 15496, 'clanging': 15497, '6969': 15498, 'ruck': 15499, 'burdon': 15500, 'aboleth': 15501, 'campaigning': 15502, 'impress': 15503, 'amputee': 15504, 'fellar': 15505, 'unproductive': 15506, 'definatly': 15507, 'preaching': 15508, '💰': 15509, 'strapon': 15510, 'premarital': 15511, 'ancoms': 15512, 'masterbating': 15513, 'summoning': 15514, 'nazguls': 15515, '10iar': 15516, 'cushion': 15517, 'talons': 15518, 'kleenex': 15519, 'traction': 15520, 'empath': 15521, 'outings': 15522, 'smugglers': 15523, \"anybody's\": 15524, 'frat': 15525, 'birdy': 15526, 'aho': 15527, 'separately': 15528, 'magnetize': 15529, \"'06\": 15530, 'bahahaha': 15531, 'accord': 15532, 'blubber': 15533, 'dynamics': 15534, 'xtravision': 15535, 'cherrybomb': 15536, 'misfits': 15537, 'iamatotalpieceofshit': 15538, 'clapz': 15539, 'airplane': 15540, 'coments': 15541, 'bleep': 15542, 'bloop': 15543, 'xkcd': 15544, 'weaned': 15545, 'radius': 15546, 'unnerving': 15547, 'pressence': 15548, 'shutters': 15549, 'sandwiching': 15550, 'destructible': 15551, 'gunslinging': 15552, 'oppressions': 15553, 'world’s': 15554, 'woes': 15555, 'grinderdates': 15556, 'descriminate': 15557, 'endzone': 15558, 'ashtray': 15559, 'amateurs': 15560, 'cultured': 15561, 'aumf': 15562, 'deader': 15563, '👊': 15564, \"doink'n\": 15565, 'penises': 15566, '“kindness': 15567, 'compassion”': 15568, 'hai': 15569, 'yun': 15570, 'daieee': 15571, 'routes': 15572, 'cracker': 15573, 'molcajete': 15574, 'flashy': 15575, 'plating': 15576, 'michelin': 15577, 'pres': 15578, 'domination': 15579, 'permabanned': 15580, 'anoying': 15581, 'ambien': 15582, 'favortist': 15583, 'banished': 15584, 'susceptible': 15585, 'chillis': 15586, 'idolize': 15587, 'uom': 15588, 'msu': 15589, 'genderfluid': 15590, 'agender': 15591, 'reinforce': 15592, 'vanced': 15593, 'ios': 15594, 'shai': 15595, 'hulud': 15596, 'cla': 15597, 'lol’d': 15598, 'cole': 15599, 'chipped': 15600, 'wylin': 15601, 'congratulates': 15602, 'excel': 15603, '190': 15604, 'discorded': 15605, 'undebated': 15606, 'yyyeeaaahhhh': 15607, 'robbing': 15608, 'tenfold': 15609, '“real': 15610, 'men”': 15611, 'austria': 15612, 'right”': 15613, 'aversion': 15614, 'jewry': 15615, 'folkestone': 15616, 'potion': 15617, 'afterargument': 15618, 'espionage': 15619, 'strenght': 15620, 'morep': 15621, 'bronx': 15622, \"id'd\": 15623, 'trivia': 15624, 'twitt': 15625, 'classssssy': 15626, '1s': 15627, 'laurels': 15628, 'overarching': 15629, 'philanthropist': 15630, 'maaan': 15631, 'blindfolded': 15632, 'blackadder': 15633, 'sn': 15634, 'we‘re': 15635, 'brushed': 15636, 'reverted': 15637, 'takeaway': 15638, 'rancid': 15639, 'jwong': 15640, 'controversal': 15641, 'jalen': 15642, 'predicting': 15643, 'brake': 15644, 'ids': 15645, 'precursor': 15646, '1984': 15647, 'haredi': 15648, 'jolly': 15649, 'rancher': 15650, 'marathon': 15651, 'occupant': 15652, 'shrimps': 15653, 'gritz': 15654, 'betcha': 15655, 'tempted': 15656, 'protruding': 15657, 'stomachs': 15658, 'samsies': 15659, 'kemba': 15660, 'kor': 15661, 'rwp': 15662, 'palecons': 15663, 'classiclibs': 15664, 'commodities': 15665, 'incepcion': 15666, 'playtest': 15667, 'knack': 15668, 'oust': 15669, 'mavericks': 15670, 'danggit': 15671, 'disturbed': 15672, 'fleet': 15673, 'sternum': 15674, 'sharpened': 15675, 'eternally': 15676, 'ididnotvoteforthisclown': 15677, 'similarities': 15678, 'reaaaaaaaaaaally': 15679, 'cuckery': 15680, 'underlying': 15681, 'tal': 15682, 'liberia': 15683, 'fda': 15684, 'festus': 15685, 'inalanon': 15686, 'olaplex': 15687, 'choruses': 15688, 'isla': 15689, '🇵🇷': 15690, 'ayton': 15691, 'eeew': 15692, 'dmc2': 15693, 'methods': 15694, 'pl': 15695, 'iceland': 15696, 'sufficiently': 15697, 'unsalted': 15698, '£227': 15699, '912': 15700, 'booboo': 15701, 'planing': 15702, 'ofnbeing': 15703, 'var': 15704, 'recommending': 15705, 'livid': 15706, 'thanksshaw': 15707, 'communicates': 15708, 'goggle': 15709, 'hygiene': 15710, 'dini': 15711, 'durant': 15712, 'silliness': 15713, 'dissonant': 15714, 'pondered': 15715, '442': 15716, 'tryjng': 15717, 'highline': 15718, 'unprepared': 15719, 'bloodborne': 15720, 'sickest': 15721, 'soulread': 15722, 'loaned': 15723, 'quid': 15724, 'nosferatu': 15725, 'aspiration': 15726, 'monopolize': 15727, 'aarp': 15728, 'staking': 15729, 'gtfoh': 15730, 'companys': 15731, 'employies': 15732, 'recirculated': 15733, 'fiasco': 15734, 'mendoza': 15735, 'shortens': 15736, 'emetophobic': 15737, 'negoiate': 15738, 'lolt': 15739, 'subbanator': 15740, '“muscles': 15741, 'brussels”': 15742, 'machete': 15743, 'thonk': 15744, 'swarmin': 15745, 'dayyuuummm': 15746, 'tottenham': 15747, 'trashier': 15748, 'proceeds': 15749, 'tiniest': 15750, 'azusa': 15751, 'ots': 15752, 'gangly': 15753, 'cocktail': 15754, 'lolpics': 15755, 'missour': 15756, 'natives': 15757, 'ozil': 15758, 'sven': 15759, 'concentrates': 15760, 'feudalist': 15761, 'exile': 15762, 'prisons': 15763, 'bumpy': 15764, 'mutt': 15765, 'autoimmune': 15766, '“see': 15767, 'existentialism': 15768, 'existentialist': 15769, 'fron': 15770, 'arabic': 15771, 'hashishiyyin': 15772, 'assassinus': 15773, 'calculated': 15774, 'replayed': 15775, 'scans': 15776, 'watchers': 15777, 'suctioning': 15778, \"now's\": 15779, 'hanukkah': 15780, 'yeeesss': 15781, 'icels': 15782, 'tobin': 15783, 'cherished': 15784, 'woodshed': 15785, 'preliminary': 15786, 'tretinoin': 15787, 'retin': 15788, 'envious': 15789, 'ehh': 15790, '4m': 15791, 'arbitration': 15792, 'polos': 15793, 'crochet': 15794, 'wrestle': 15795, 'hf': 15796, 'villainy': 15797, 'woodchipper': 15798, 'dehydrated': 15799, 'exausted': 15800, 'yore': 15801, 'ewe': 15802, 'impactful': 15803, 'adhere': 15804, 'outlines': 15805, 'prophesies': 15806, 'nfp': 15807, 'overseas': 15808, 'bypassing': 15809, 'biometrics': 15810, 'william': 15811, 'subscriptions': 15812, \"'snowflakes'\": 15813, 'jeeem': 15814, 'archetypes': 15815, 'flaps': 15816, 'pbese': 15817, 'gravity': 15818, 'cwl': 15819, 'somalia': 15820, 'wary': 15821, 'ennemy': 15822, 'interpreted': 15823, 'unions': 15824, 'wells': 15825, 'fargo': 15826, 'raindrops': 15827, '👌🏽': 15828, 'killmenow': 15829, 'electrician': 15830, 'loathing': 15831, 'polynesian': 15832, 'overdone': 15833, 'lazarus': 15834, 'pythons': 15835, 'reptile': 15836, 'reworks': 15837, 'movesets': 15838, 'upwind': 15839, 'canf': 15840, 'nationally': 15841, 'ukraine': 15842, 'babi': 15843, 'yar': 15844, 'hatful': 15845, 'forcefully': 15846, 'thrussy': 15847, 'narcs': 15848, 'mummy': 15849, 'dining': 15850, 'sustenance': 15851, 'puff': 15852, 'pizzagate': 15853, 'aiding': 15854, 'abetting': 15855, 'rovers': 15856, 'blushing': 15857, 'chevy': 15858, 'incognito': 15859, 'freesync': 15860, 'nvidia': 15861, 'lunchable': 15862, 'excusing': 15863, 'soylent': 15864, 'womb': 15865, 'nerds': 15866, 'gelatin': 15867, 'gimmie': 15868, 'ffffffhh': 15869, 'lisp': 15870, 'nakedly': 15871, 'uplifted': 15872, 'drill': 15873, 'balrog': 15874, 'q12': 15875, 'q70': 15876, 'sololander': 15877, 'poet': 15878, 'stampy': 15879, \"erin's\": 15880, 'fuck’s': 15881, 'potent': 15882, 'knit': 15883, 'turmeric': 15884, 'scan': 15885, 'ptr': 15886, 'sexiest': 15887, 'specializations': 15888, 'boast': 15889, 'marlboro': 15890, 'phasing': 15891, 'njoys': 15892, 'unsightly': 15893, 'lv': 15894, 'exotics': 15895, 'parties’': 15896, 'softies': 15897, 'meowboys': 15898, 'exhausts': 15899, 'blackboard': 15900, 'canvas': 15901, 'madhouse': 15902, 'pleases': 15903, 'themsleves': 15904, 'sway': 15905, 'deflection': 15906, 'brattier': 15907, 'replicated': 15908, 'menthol': 15909, 'negatively': 15910, 'requirements': 15911, 'disliking': 15912, 'mcc': 15913, 'megaman': 15914, 'vaucluse': 15915, 'hapless': 15916, 'framer': 15917, 'sheriff': 15918, 'monitoring': 15919, 'relation': 15920, 'nerdinater': 15921, \"customer's\": 15922, '2029': 15923, 'lodged': 15924, 'pysyk': 15925, 'succession': 15926, 'barry': 15927, 'aud': 15928, 'greenhat': 15929, '😂😂😂😂😂': 15930, 'huffy': 15931, 'ensue': 15932, 'surv': 15933, 'vig': 15934, 'recounter': 15935, 'flea': 15936, 'patently': 15937, 'nonserious': 15938, 'dvoa': 15939, 'unbelieveable': 15940, 'spaniels': 15941, 'methodical': 15942, 'remnants': 15943, 'barricaded': 15944, 'bk': 15945, 'ones👴': 15946, 'boobi': 15947, 'fingerprints': 15948, 'actully': 15949, 'fashion’s': 15950, 'footsteps': 15951, 'emulating': 15952, '00’s': 15953, 'canada’s': 15954, 'rarer': 15955, 'ka': 15956, 'invasion': 15957, 'ahigh': 15958, 'phillies': 15959, 'manning': 15960, 'elimination': 15961, 'theorise': 15962, 'gore': 15963, 'gooooooooood': 15964, 'dq': 15965, 'dumplings': 15966, 'clickin’': 15967, 'soz': 15968, 'there’re': 15969, 'persecution': 15970, 'lawmaker': 15971, 'static': 15972, 'reflectives': 15973, 'v2s': 15974, 'peril': 15975, 'excluded': 15976, 'dsj🙌🏻🙌🏻🙌🏻': 15977, 'sincerity': 15978, 'weakest': 15979, 'epilogue': 15980, 'reframe': 15981, 'voicemail': 15982, \"'best\": 15983, 'zumba': 15984, 'disorientating': 15985, 'wwf': 15986, 'disposal': 15987, 'meatball': 15988, 'asttonomy': 15989, 'diverged': 15990, 'astronomy': 15991, 'confessed': 15992, 'curriculum': 15993, 'combining': 15994, 'insufferability': 15995, 'equity': 15996, '120k': 15997, 'condemn': 15998, 'impressions': 15999, 'raids': 16000, 'pannel': 16001, 'allucinating': 16002, 'canteen': 16003, 'laborious': 16004, 'normalized': 16005, 'surrogacy': 16006, 'ukpolitics': 16007, 'bvs': 16008, 'cowl': 16009, 'guarded': 16010, 'tightly': 16011, '✊': 16012, 'magabomber': 16013, \"5'4\": 16014, 'umeshism': 16015, \"'half\": 16016, \"baked'\": 16017, \"eatin'\": 16018, 'attaboy': 16019, 'ublock': 16020, 'ghostery': 16021, 'inhabited': 16022, 'lords': 16023, 'countdown': 16024, 'rife': 16025, 'craic': 16026, 'heineken': 16027, 'jpeged': 16028, 'turnpike': 16029, 'i95': 16030, 'credentials': 16031, 'yang': 16032, 'unplanned': 16033, 'squib': 16034, 'dinger': 16035, 'looses': 16036, 'rounded': 16037, 'competant': 16038, 'pleasuring': 16039, 'innocence': 16040, 'fo1': 16041, 'circumvent': 16042, 'corrections': 16043, 'propensity': 16044, 'nem': 16045, 'depicts': 16046, 'punchable': 16047, 'yasssss': 16048, 'loathed': 16049, 'facechat': 16050, 'vastly': 16051, 'dating”': 16052, 'roughing': 16053, 'unsportsmanlike': 16054, 'chirp': 16055, 'shaman': 16056, 'undeliverable': 16057, 'perishables': 16058, 'surly': 16059, 'mirena': 16060, 'saucepan': 16061, 'daring': 16062, 'tint': 16063, '”just': 16064, 'confident”': 16065, 'inconvinience': 16066, 'illegitimi': 16067, 'carborundum': 16068, 'proportionately': 16069, 'heeby': 16070, 'jeeby': 16071, 'inducing': 16072, 'congratufuckinglations': 16073, 'enormously': 16074, 'khushi': 16075, 'gam': 16076, 'raichands': 16077, 'pooja': 16078, '“regain': 16079, 'base”': 16080, 'jilliac': 16081, 'concurred': 16082, \"'meh'\": 16083, 'throwaways': 16084, 'sleeves': 16085, 'dustpan': 16086, 'leftism': 16087, 'whooping': 16088, 'phaneuf': 16089, 'grandparent': 16090, 'spitfire': 16091, 'rampart': 16092, 'archer': 16093, 'deters': 16094, 'terraces': 16095, 'blended': 16096, 'ubisoft': 16097, 'xposted': 16098, 'rhinestones': 16099, 'clonazolam': 16100, 'fallacies': 16101, 'dotard': 16102, 'bestgunnit': 16103, 'libel': 16104, 'orthodontist': 16105, 'citynews': 16106, 'antenna': 16107, 'whaaaa': 16108, 'parvo': 16109, 'penultimate': 16110, 'aaaaaaaaaaaah': 16111, 'ragey': 16112, 'stabby': 16113, \"jacob's\": 16114, 'encapsulates': 16115, 'godparents': 16116, '00pm': 16117, 'jornadas': 16118, 'benign': 16119, 'bootstraps': 16120, 'mowed': 16121, 'microplastics': 16122, 'whistler': 16123, 'acres': 16124, 'conversely': 16125, 'intercepted': 16126, \"inflatin'\": 16127, \"laop's\": 16128, 'boundary': 16129, 'babylon': 16130, 'allen': 16131, 'hardship': 16132, 'clyde': 16133, 'broadcasts': 16134, 'preamble': 16135, 'schmuk': 16136, 'leivo': 16137, 'interactive': 16138, 'stumped': 16139, 'hopped': 16140, 'firepower': 16141, 'conform': 16142, 'bovada': 16143, 'tommy': 16144, 'reciprocal': 16145, 'tresspass': 16146, 'notable': 16147, 'comprehensive': 16148, '7’1': 16149, 'scripts': 16150, 'overbooking': 16151, 'financials': 16152, \"casual's\": 16153, 'vulture': 16154, 'kidd': 16155, 'lighthearted': 16156, 'leprechauns': 16157, 'prom': 16158, 'itl': 16159, 'notions': 16160, 'spasms': 16161, 'convulsions': 16162, 'betfair': 16163, \"ruler's\": 16164, 'reception': 16165, 'blinds': 16166, \"thick'\": 16167, \"'overweight'\": 16168, 'subtleties': 16169, 'awry': 16170, 'foid': 16171, 'betabux': 16172, 'bleakness': 16173, 'capitalized': 16174, 'absurdities': 16175, 'atrocities': 16176, 'vox': 16177, 'populi': 16178, \"nba's\": 16179, 'sod': 16180, 'hoooome': 16181, 'aggravated': 16182, 'sro': 16183, 'jailed': 16184, 'chutzpah': 16185, 'rollin’': 16186, 'ahhhhh': 16187, 'pfizer': 16188, '5b': 16189, 'prevnar': 16190, 'poundtown': 16191, 'reoffend': 16192, 'discomforting': 16193, 'anarchist’s': 16194, 'bizarro': 16195, 'gooferton': 16196, 'chatbox': 16197, 'levitate': 16198, \"colliton's\": 16199, 'sadism': 16200, 'stepsister': 16201, 'innocents': 16202, 'edgey': 16203, 'lawd': 16204, 'urgot': 16205, 'lck': 16206, 'milked': 16207, '“mog': 16208, 'explorers': 16209, 'uncontested': 16210, 'tlaib': 16211, 'coven': 16212, 'skimms': 16213, 'resemble': 16214, '146': 16215, 'laporte': 16216, \"'muricans\": 16217, 'crazyideas': 16218, 'sanitizer': 16219, \"deal's\": 16220, 'combs': 16221, 'dood': 16222, 'flush': 16223, 'pneumatic': 16224, 'mantis': 16225, 'dats': 16226, 'splashback': 16227, 'neolib': 16228, 'smoggish': 16229, 'sds': 16230, 'discharging': 16231, 'flanders': 16232, 'winchester': 16233, 'b95': 16234, 'militants': 16235, 'granite': 16236, 'indecent': 16237, 'balo': 16238, 'glancing': 16239, 'magic’s': 16240, 'unclench': 16241, '23m': 16242, 'donaldson': 16243, 'zucchini': 16244, 'whistle': 16245, 'bimbo': 16246, 'hag': 16247, 'monetize': 16248, 'fiverr': 16249, 'delt': 16250, 'patio': 16251, 'osborne': 16252, 'chimi': 16253, 'phi': 16254, 'disparity': 16255, 'utopian': 16256, 'likeable': 16257, 'hypercompetent': 16258, 'slants': 16259, 'thoulsand': 16260, 'gusgasm': 16261, 'gyaru': 16262, 'sniffers': 16263, 'ken': 16264, '🎏': 16265, 'lazily': 16266, \"government's\": 16267, \"iraq's\": 16268, 'riddled': 16269, 'ubiquitous': 16270, 'outweighs': 16271, 'yeeeeaaaaahhhhh': 16272, 'dillard': 16273, 'femininity': 16274, 'penus': 16275, '1981': 16276, '1983': 16277, 'inquisitive': 16278, 'raimi': 16279, 'deactivated': 16280, 'worldviews': 16281, 'sixteen': 16282, 'valour': 16283, 'campfires': 16284, 'pollen': 16285, 'activation': 16286, 'artifacts': 16287, 'underwhelming': 16288, 'moist': 16289, \"newington's\": 16290, 'newsletter': 16291, 'neysayers': 16292, 'tsunderes': 16293, 'pant': 16294, 'spaghettio': 16295, 'cri': 16296, 'sinsegae': 16297, 'insurmountable': 16298, 'patreon': 16299, 'strings': 16300, 'mopeds': 16301, 'teleported': 16302, 'marlins': 16303, 'terial': 16304, 'cardio': 16305, 'territories': 16306, 'coercion': 16307, 'pacience': 16308, 'nickelodeon': 16309, 'fiscally': 16310, 'perm': 16311, 'excite': 16312, 'kato': 16313, 'honorary': 16314, \"counter's\": 16315, 'judah': 16316, 'determining': 16317, 'temper': 16318, \"summer's\": 16319, \"lurkin'\": 16320, 'les': 16321, 'bruns': 16322, 'pooped': 16323, 'ignar': 16324, 'tides': 16325, 'sugma': 16326, 'dril': 16327, 'organise': 16328, 'branded': 16329, 'symphatizers': 16330, 'plead': 16331, 'prerequisite': 16332, 'overwrite': 16333, 'bonkers': 16334, 'annihilate': 16335, 'yaaaaaas': 16336, 'nocontextpics': 16337, 'truegaming': 16338, 'colouring': 16339, 'thickness': 16340, 'watermark': 16341, '31m': 16342, '31f': 16343, 'breather': 16344, 'buncha': 16345, 'blucifer': 16346, 'prudish': 16347, 'penthouse': 16348, 'fourms': 16349, 'atlantis': 16350, 'dlc2': 16351, '1700ish': 16352, '113': 16353, '114': 16354, 'restroom': 16355, 'tremblant': 16356, 'quèbec': 16357, 'protectionism': 16358, 'baidu': 16359, 'monopoly': 16360, 'mosques': 16361, 'truckers': 16362, 'talkative': 16363, 'peppermint': 16364, 'oke': 16365, 'constanly': 16366, 'handfasted': 16367, 'thunderlords': 16368, 'mcnugget': 16369, 'remnant': 16370, 'neu': 16371, 'centred': 16372, 'highscore': 16373, 'cwisis': 16374, 'togs': 16375, 'booo': 16376, 'nontoxic': 16377, 'disagreements': 16378, 'fifo': 16379, 'spitballing': 16380, 'genesis': 16381, 'pelt': 16382, 'jour': 16383, 'kidnapper': 16384, 'dfwpets': 16385, 'sao': 16386, 'fairies': 16387, 'caravan': 16388, 'thems': 16389, 'maintained': 16390, 'adgag': 16391, 'structured': 16392, 'scrunched': 16393, 'shinny': 16394, 'artstyle': 16395, 'unintentional': 16396, 'theatrical': 16397, 'prohibitive': 16398, 'invents': 16399, '80fps': 16400, '1080': 16401, 'alignment': 16402, 'berto': 16403, 'cornered': 16404, '955bsp': 16405, 'undervalue': 16406, 'kepa': 16407, '“us': 16408, 'kids”': 16409, 'slappers': 16410, 'johnny': 16411, 'horns✔️': 16412, 'tail✔️': 16413, 'animal✔️': 16414, 'avatar✔️': 16415, 'collors✔️': 16416, 'sin✔️': 16417, 'skier': 16418, 'huggles': 16419, 'tarot': 16420, 'sous': 16421, 'vide': 16422, 'crumbly': 16423, 'ctj': 16424, 'counteracting': 16425, 'pressurize': 16426, 'cannonball': 16427, 'ramos': 16428, 'robles': 16429, '197k': 16430, 'outages': 16431, 'stotts': 16432, \"nurk's\": 16433, 'laziest': 16434, 'heinz': 16435, 'excommunication': 16436, 'resurface': 16437, '‘staffordshire': 16438, 'terriers’': 16439, 'staffies': 16440, 'ayy': 16441, 'ancaps': 16442, 'supportive😱😱': 16443, 'traffickers': 16444, 'yaaaaaaas': 16445, 'embodies': 16446, 'swipes': 16447, 'shizz': 16448, 'unintended': 16449, 'godddddddddddddd': 16450, 'millennium': 16451, 'osi': 16452, 'yesss': 16453, 'assalamu': 16454, '‘alaykum': 16455, 'akhi': 16456, 'watchlist': 16457, \"death's\": 16458, 'disapointed': 16459, 'anchovies': 16460, 'incalculable': 16461, 'religiosity': 16462, 'eggy': 16463, 'pitying': 16464, 'flexing': 16465, 'tracked': 16466, 'forsaken': 16467, 'inviting': 16468, 'fortunate': 16469, 'kashmiri': 16470, 'punjabi': 16471, 'webos': 16472, 'fisticuffs': 16473, 'deepfakes': 16474, 'jobby': 16475, 'coheights': 16476, 'snarl': 16477, 'chilling': 16478, 'brutality': 16479, 'commentor': 16480, 'fbis': 16481, 'primitive': 16482, 'sequels': 16483, 'infernal': 16484, 'nebulous': 16485, 'ks': 16486, 'progressed': 16487, 'loco': 16488, 'lebanese': 16489, 'sitter': 16490, 'deflected': 16491, 'oversight': 16492, 'subpoenas': 16493, 'raider': 16494, 'plsss': 16495, 'anorexia': 16496, 'legetimacy': 16497, 'eluded': 16498, 'mum”': 16499, 'bong': 16500, 'attributing': 16501, 'fourig': 16502, 'dayton': 16503, \"newton's\": 16504, 'arose': 16505, 'vacuum': 16506, 'tot': 16507, 'henchmen': 16508, 'tormented': 16509, 'undertale': 16510, 'stardew': 16511, 'trevor': 16512, 'picard': 16513, 'kirk': 16514, 'swelled': 16515, 'unashamed': 16516, 'ridden': 16517, 'joystick': 16518, 'greyhounds': 16519, 'dwar': 16520, 'unreleased': 16521, 'misc': 16522, 'smashy': 16523, 'salarians': 16524, 'lifespans': 16525, 'akshon': 16526, 'illustrating': 16527, 'similarity': 16528, 'interviewee': 16529, 'penticton': 16530, 'nestle': 16531, 'syncs': 16532, 'synths': 16533, 'throatfucked': 16534, 'obliviscaris': 16535, 'customise': 16536, 'haggisus': 16537, 'australis': 16538, '“sociopath”': 16539, '231652': 16540, 'carists': 16541, 'hurdles': 16542, 'moderator': 16543, 'year”': 16544, 'wp': 16545, 'impossibly': 16546, 'manu': 16547, 'horseshit': 16548, 'filed': 16549, '🤷🏻\\u200d♀️': 16550, '“high': 16551, 'school”': 16552, 'asexuals': 16553, 'elationship': 16554, 'authorities': 16555, 'vicariously': 16556, 'subterranean': 16557, 'err': 16558, 'fetichism': 16559, 'quatrains': 16560, 'caution': 16561, 'mayhaps': 16562, 'wtfdik': 16563, 'bonkerballs': 16564, 'jj': 16565, '650': 16566, 'instances': 16567, 'distributeur': 16568, 'ibises': 16569, 'scavenging': 16570, 'bins': 16571, '“commitment”': 16572, 'tulo': 16573, 'shortstop': 16574, 'rig': 16575, 'guilted': 16576, '6’0”': 16577, 'libgen': 16578, '“she’s': 16579, 'weeans': 16580, 'notebook': 16581, 'oslo': 16582, 'signage': 16583, 'assignment': 16584, 'goop': 16585, 'grammatical': 16586, 'architect': 16587, 'episoode': 16588, 'shingles': 16589, 'yaaay': 16590, 'aaaaaaaaaaaaand': 16591, '‘the': 16592, 'whisperer’': 16593, '‘30': 16594, '30’': 16595, 'boahs': 16596, 'femenists': 16597, 'splendorinthetrash': 16598, 'touted': 16599, 'motorists': 16600, 'wholesomeness': 16601, 'duping': 16602, 'richardson': 16603, 'punishable': 16604, 'embroidery': 16605, 'booooaaaaat': 16606, 'grizzled': 16607, '4stone': 16608, 'cico': 16609, 'fus': 16610, 'ro': 16611, 'coughing': 16612, 'unbanned': 16613, 'mixup': 16614, 'gritted': 16615, 'coons': 16616, 'fines': 16617, 'lop': 16618, 'seattlewa': 16619, 'processtm': 16620, 'messier': 16621, 'nokia': 16622, 'lancing': 16623, 'bored”': 16624, 'layabout': 16625, 'claimants': 16626, 'whaaaaaaat': 16627, 'unnoticable': 16628, 'horsing': 16629, 'buttons': 16630, 'encourages': 16631, 'scape': 16632, 'gurps': 16633, 'wiggle': 16634, 'bumping': 16635, 'rynair': 16636, 'bahhhhh': 16637, 'ofcoursethatsathing': 16638, 'smouii': 16639, 'paladins': 16640, 'pettier': 16641, '“stay': 16642, 'still”': 16643, 'timely': 16644, 'philosophers': 16645, 'ticks': 16646, 'pewdiepie’s': 16647, 'recast': 16648, 'oooooow': 16649, '23rd': 16650, 'slooper': 16651, 'smiley': 16652, 'malfunction': 16653, 'calzone': 16654, 'famine': 16655, 'tarts': 16656, 'loudly': 16657, 'congresswoman': 16658, 'comstock': 16659, 'melodramatically': 16660, 'soppy': 16661, 'chord': 16662, 'progressions': 16663, 'francesinha': 16664, 'worsens': 16665, 'hud': 16666, 'surpass': 16667, 'airline': 16668, 'libertine': 16669, 'interviewer': 16670, 'barça': 16671, 'penalized': 16672, 'etl': 16673, \"moreyolo's\": 16674, 'uoft': 16675, 'throttle': 16676, 'infacy': 16677, 'gosples': 16678, 'wimminfolk': 16679, 'oogle': 16680, 'hilarity': 16681, '“do': 16682, 'process”': 16683, 'ballsy': 16684, 'tactless': 16685, 'cornflakes': 16686, 'geometric': 16687, 'patters': 16688, 'hiya': 16689, '😃': 16690, 'parity': 16691, \"steam's\": 16692, 'hqgs': 16693, 'awakes': 16694, 'cowhers': 16695, 'sbs': 16696, 'ponging': 16697, 'stooges': 16698, '30minutes': 16699, 'chamionship': 16700, 'battlefornt': 16701, 'boulder': 16702, 'barnes': 16703, 'aesthetically': 16704, 'lbp': 16705, 'rattles': 16706, 'neglects': 16707, 'reacted': 16708, 'lovee': 16709, 'mazzy': 16710, 'yeqpnsaved': 16711, 'reeeeeeeeeeeeeeee': 16712, 'heir': 16713, 'beavis': 16714, 'loooooove': 16715, 'tiff': 16716, 'panama': 16717, 'armies': 16718, 'navies': 16719, 'tyrants': 16720, 'remorseless': 16721, 'walkers': 16722, 'immaterial': 16723, 'giga': 16724, 'binance': 16725, 'hacked': 16726, 'cryptopia': 16727, 'chads': 16728, 'swb': 16729, 'cyberbully': 16730, 'sceen': 16731, 'wonderd': 16732, 'young‘ns': 16733, 'suss': 16734, 'drake': 16735, 'groomed': 16736, 'yeezys': 16737, 'freddy’s': 16738, 'ahhhhhh': 16739, 'baffler': 16740, 'crackpot': 16741, 'wellmeaning': 16742, 'toto': 16743, 'greiss': 16744, 'burgess': 16745, 'worthing': 16746, 'curtis': 16747, 'squishy': 16748, 'leslie': 16749, '😤😤😤': 16750, 'folds': 16751, 'smack': 16752, '69turds': 16753, '“270': 16754, 'person”': 16755, 'alliteration': 16756, 'brittle': 16757, '🙌🏿': 16758, 'puddles': 16759, '‘big’': 16760, \"tuma'ah\": 16761, 'nada': 16762, 'rationalizing': 16763, 'yupp': 16764, 'sobro': 16765, 'spraypainted': 16766, 'chonky': 16767, 'yrd': 16768, 'perceptions': 16769, 'distances': 16770, 'kepner': 16771, 'dimple': 16772, 'jibe': 16773, 'fining': 16774, 'gouge': 16775, 'njo': 16776, 'popsicles': 16777, 'bucharest': 16778, 'baffle': 16779, 'workingwa': 16780, 'okaaaay': 16781, '😂😂😂😂😂😂😂you': 16782, '😅😅😅😅😅😂😂😂😂😂😂': 16783, 'kneel': 16784, 'engrained': 16785, '“lol': 16786, 'buzzfeed”': 16787, 'devientart': 16788, 'lafc': 16789, 'concerns': 16790, 'tortured': 16791, 'figment': 16792, \"earnin'\": 16793, \"burnin'\": 16794, \"snappin'\": 16795, 'necks': 16796, \"cashin'\": 16797, 'mountaineering': 16798, 'atacking': 16799, 'fishes': 16800, 'euphemisms': 16801, 'iest': 16802, \"vex'd\": 16803, 'pineapple': 16804, 'totaling': 16805, 'tweak': 16806, 'ejection': 16807, 'delegates': 16808, \"cass's\": 16809, 'vending': 16810, 'snac': 16811, '„liberal': 16812, 'democracy”': 16813, 'unconsitional': 16814, 'propably': 16815, 'qaida': 16816, 'ahrar': 16817, 'highlighting': 16818, 'daca': 16819, 'conceived': 16820, \"moment's\": 16821, 'whamen': 16822, 'respecc': 16823, '“break': 16824, 'saviors': 16825, 'huddersfield': 16826, 'inexcusable': 16827, 'sentiments': 16828, 'moccasins': 16829, 'intervened': 16830, 'passengers': 16831, 'negatives': 16832, \"michigan's\": 16833, 'swag': 16834, 'ello': 16835, 'hbxxx': 16836, 'cs': 16837, 'inter': 16838, 'ovation': 16839, 'distain': 16840, 'grado': 16841, 'sr80e': 16842, 'racoon': 16843, 'mog': 16844, 'lawsuits': 16845, \"opponent's\": 16846, 'fuckthealtright': 16847, 'nosoulcels': 16848, 'bouncer': 16849, 'sweeps': 16850, 'snopes': 16851, 'hags': 16852, 'ghouls': 16853, 'ahhhhhhh': 16854, 'craftsmanship': 16855, 'evading': 16856, 'hatchet': 16857, 'phuck': 16858, 'buggy': 16859, '1858': 16860, 'selloboy': 16861, 'temperance': 16862, 'wildfire': 16863, 'haaaaa': 16864, '🙈😂': 16865, 'barbers': 16866, 'nundah': 16867, 'trav': 16868, 'pulisic': 16869, 'lurker': 16870, 'deiced': 16871, 'foxes': 16872, 'oatley': 16873, 'auger': 16874, 'keypuncher': 16875, 'runoff': 16876, 'cleaners': 16877, 'egotistical': 16878, 'frankfurt': 16879, 'metabolisms': 16880, 'crusty': 16881, 'recked': 16882, 'bby': 16883, '😘': 16884, '“wtf': 16885, 'cleverness': 16886, 'transvestite': 16887, 'restricted': 16888, 'stocker': 16889, 'mined': 16890, 'orphaned': 16891, 'unsuccessful': 16892, 'txns': 16893, '🙂': 16894, 'tiramisu': 16895, 'layered': 16896, 'unstoppable': 16897, 'ridiculing': 16898, 'explaine': 16899, 'fecal': 16900, 'barly': 16901, 'implicit': 16902, 'spurred': 16903, 'dictatorial': 16904, 'extraction': 16905, 'valor': 16906, '2030': 16907, 'sockets': 16908, 'guac': 16909, 'whinging': 16910, 'brexshitter': 16911, 'etcetera': 16912, 'gt': 16913, 'lamzy': 16914, '👌👌': 16915, 'charcuterie': 16916, 'nest': 16917, 'driscoll': 16918, 'discoroll': 16919, 'hub': 16920, 'choosers': 16921, 'kiddos': 16922, 'lit🔥🔥🔥😂😂💦💦💦': 16923, '👏👏👏💦💦💦👏💦👏💦👏💦👏💦👏💦👏💦👏😘😘': 16924, 'verbose': 16925, 'grieving': 16926, 'reeeeaaaaaally': 16927, 'protested': 16928, 'aca': 16929, 'endorses': 16930, 'seiko': 16931, 'everythingggggg': 16932, 'maribyrnong': 16933, \"cane's\": 16934, 'dic': 16935, 'sugarplums': 16936, 'understated': 16937, 'smushing': 16938, 'fuzzy': 16939, 'sentimental': 16940, 'televangelist': 16941, \"eu's\": 16942, \"'red\": 16943, \"lines'\": 16944, 'treaty': 16945, \"uk's\": 16946, \"may's\": 16947, 'moomen': 16948, 'sars': 16949, 'loo': 16950, 'oversimplification': 16951, 'geopolitics': 16952, 'whistling': 16953, 'slipping': 16954, '£14': 16955, 'wrongly': 16956, 'emthamused': 16957, 'mmr': 16958, 'seams': 16959, 'neeto': 16960, 'platonic': 16961, 'accustomed': 16962, 'melon': 16963, 'smith': 16964, \"4'10\": 16965, \"6'2\": 16966, 'jaundiced': 16967, 'springfield': 16968, 'ilguns': 16969, \"'publicity\": 16970, \"stunt'\": 16971, 'murrayfield': 16972, 'optimum': 16973, 'miscarriage': 16974, 'npc': 16975, 'peope': 16976, 'gemologist': 16977, 'universally': 16978, 'onerous': 16979, 'moods': 16980, 'snoopydog': 16981, 'tomboy': 16982, 'wtfr': 16983, 'collectivists': 16984, \"asperger's\": 16985, 'fixates': 16986, \"'state'\": 16987, 'neverland': 16988, 'middlebury': 16989, 'resumé': 16990, \"mate's\": 16991, 'h2k': 16992, 'clowney': 16993, 'smdh': 16994, 'shoveled': 16995, 'adversity': 16996, 'ocs': 16997, 'shithousery': 16998, 'outda': 16999, \"da's\": 17000, 'dividing': 17001, '4mil': 17002, '“sisters”': 17003, 'impaired': 17004, \"chichatronco's\": 17005, 'gated': 17006, 'expo': 17007, 'gdc': 17008, 'rumps': 17009, 'fortitude': 17010, 'licked': 17011, 'clincher': 17012, 'thriller': 17013, 'favors': 17014, 'bikes': 17015, 'outt': 17016, 'madina': 17017, 'masjid': 17018, 'uhhhhhhhhh': 17019, 'mou': 17020, 'epcor': 17021, '🎶living': 17022, 'america🎶': 17023, 'arseholes': 17024, 'macomb': 17025, 'lgbts': 17026, 'peoples’': 17027, 'verbs': 17028, 'guerrilla': 17029, 'coonhound': 17030, 'induced': 17031, 'hse': 17032, 'lukes': 17033, 'trama': 17034, 'frigan': 17035, 'eap': 17036, 'combinaison': 17037, 'poeple': 17038, 'cronometer': 17039, 'squeals': 17040, 'goofballs': 17041, 'ornery': 17042, 'shoofta': 17043, 'monico': 17044, 'echr': 17045, 'wh': 17046, \"m'goodboy\": 17047, 'mussy': 17048, 'passage': 17049, 'ccw': 17050, '🙄🐊': 17051, 'philanthropy': 17052, 'jupiter': 17053, 'ringleader': 17054, 'championships': 17055, 'patched': 17056, 'furies': 17057, 'hushed': 17058, 'scrutinize': 17059, 'traveled': 17060, 'ahch': 17061, 'cantonica': 17062, 'grads': 17063, 'wielding': 17064, 'axes': 17065, 'avocados': 17066, 'pick6': 17067, 'antivaxxers': 17068, 'gad': 17069, 'nan': 17070, 'pagan': 17071, 'horrors': 17072, 'aimless': 17073, 'mou’s': 17074, 'dollarstore': 17075, 'condiments': 17076, 'gunless': 17077, 'arcitys': 17078, 'lonzo': 17079, 'deregulating': 17080, 'thaaaaaat': 17081, 'coffe': 17082, 'organisations': 17083, 'specifics': 17084, 'obstruction': 17085, 'coupledom': 17086, 'renegotiate': 17087, 'seasonals': 17088, 'trickster': 17089, 'singalong': 17090, 'diarrhoea': 17091, 'uncalled': 17092, 'roost': 17093, 'consensually': 17094, 'kremlin': 17095, 'trop': 17096, 'kms': 17097, 'invincibility': 17098, 'parry': 17099, 'homepod': 17100, 'saget': 17101, '💦👌': 17102, 'canning': 17103, 'prenup': 17104, 'earhole': 17105, 'devoin': 17106, 'sulphuric': 17107, 'sphincter': 17108, \"what'd\": 17109, 'acrylic': 17110, '“enjoy': 17111, 'dinner”': 17112, 'footballers': 17113, 'anzac': 17114, 'kylo': 17115, 'langage': 17116, 'polarizing': 17117, 'amazon’s': 17118, 'taxidermised': 17119, 'collapsible': 17120, 'clans': 17121, 'pardon': 17122, \"devil's\": 17123, 'nueur': 17124, 'kayfabe': 17125, 'superfund': 17126, 'topsoil': 17127, 'phony': 17128, 'buch': 17129, 'predominantly': 17130, 'lewd': 17131, 'gubment': 17132, 'toothache': 17133, 'postb': 17134, 'quickest': 17135, 'wallstreetbets': 17136, 'friendo': 17137, 'slc': 17138, 'ballooned': 17139, 'brandon': 17140, 'sipping': 17141, 'flask': 17142, 'bowness': 17143, 'jocasta': 17144, 'adlersbrunn': 17145, 'zooming': 17146, \"'light'\": 17147, 'balances': 17148, 'hokay': 17149, 'oooohwee': 17150, 'tbph': 17151, 'weeps': 17152, 'tik': 17153, 'tok': 17154, 'actually😂': 17155, 'fiddish': 17156, 'commentators': 17157, 'ballet': 17158, 'tampering': 17159, 'anticipate': 17160, 'dependet': 17161, 'sponsoring': 17162, '“sad': 17163, 'parm': 17164, 'kosher': 17165, 'cpusa': 17166, 'alpro': 17167, 'puffs': 17168, 'stinking': 17169, 'quickmatch': 17170, '5makes10fm': 17171, 'muzzle': 17172, 'overwrought': 17173, 'negotiated': 17174, 'forking': 17175, 'shirtballs': 17176, 'robomod': 17177, 'bullshort': 17178, 'ovulation': 17179, '💔': 17180, 'goalkeeper': 17181, 'minivan': 17182, 'ion': 17183, 'dislocation': 17184, 'heroine': 17185, 'glimmer': 17186, 'amy': 17187, 'manchester': 17188, 'reloader': 17189, '2000rpm': 17190, '30mm': 17191, 'shells': 17192, 'hooters': 17193, 'adultery': 17194, 'hecking': 17195, 'dbags': 17196, 'handfuls': 17197, 'cheeto': 17198, 'kratom': 17199, 'atleti': 17200, \"m'lady\": 17201, '12hours': 17202, 'lowry': 17203, 'shootaround': 17204, 'unisex': 17205, 'veganuary': 17206, 'dictionaries': 17207, 'nouns': 17208, 'sdgksadgdklsg': 17209, 'podracing': 17210, 'tacklebox': 17211, '69xxwidowmakerxx69': 17212, 'matress': 17213, 'lolis': 17214, '50ish': 17215, 'fuse': 17216, 'bicorn': 17217, 'frost': 17218, 'dio': 17219, 'dolt': 17220, 'heavens': 17221, 'scriptedasiangifs': 17222, '“little': 17223, '‘half': 17224, 'unclejokes': 17225, 'impersonation': 17226, \"shangela's\": 17227, 'froot': 17228, 'sidelines': 17229, 'comedies': 17230, 'sorting': 17231, 'buckle': 17232, 'otr': 17233, 'peninsulas': 17234, 'lakeshore': 17235, 'sights': 17236, 'americans': 17237, 'exceeding': 17238, 'homebase': 17239, 'interventionism': 17240, 'toleramce': 17241, '5e': 17242, 'resisted': 17243, 'bulgy': 17244, 'extremists': 17245, 'energizer': 17246, 'bunny': 17247, 'cbc': 17248, 'plissken': 17249, 'francisco': 17250, 'trigglypuff': 17251, 'blanks': 17252, 'simulate': 17253, 'superficial': 17254, 'pectus': 17255, 'excavatum': 17256, 'embiid': 17257, 'manics': 17258, 'chopped': 17259, 'bleak': 17260, 'realising': 17261, 'penínsulas': 17262, 'synced': 17263, 'speeds': 17264, 'bachelors': 17265, 'subbing': 17266, 'shorthand': 17267, 'practiced': 17268, 'visitation': 17269, 'notoriety': 17270, 'occulted': 17271, 'hater': 17272, 'donair': 17273, 'habayis': 17274, 'contextof': 17275, 'psalm': 17276, 'wshl': 17277, 'decry': 17278, 'monochrome': 17279, 'morale': 17280, 'doozy': 17281, 'caspian’s': 17282, 'jitter': 17283, 'absolves': 17284, 'bastion': 17285, 'unc': 17286, 'regress': 17287, 'obama': 17288, 'bullock': 17289, 'warner': 17290, \"'stache\": 17291, 'everybodys': 17292, 'captivating': 17293, 'garrison': 17294, '000x': 17295, 'neurosurgeon': 17296, 'entomologist': 17297, 'radiologist': 17298, 'anesthetist': 17299, 'shouldered': 17300, 'stabilize': 17301, 'lmfaooooo': 17302, 'pokey”': 17303, 'tarantula': 17304, 'mounting': 17305, 'bishops': 17306, 'hasidic': 17307, 'ayyyy': 17308, 'jackpot': 17309, 'nooooooooooo': 17310, 'xylophones': 17311, 'arranging': 17312, 'marriages': 17313, 'reporters': 17314, 'dejong': 17315, 'reels': 17316, 'interestingly': 17317, 'sensitivities': 17318, 'pots': 17319, 'thare': 17320, '병무청': 17321, 'kitten': 17322, '😱': 17323, 'volunteered': 17324, 'thirsts': 17325, 'saliva': 17326, 'eigher': 17327, 'probobly': 17328, 'hadoken': 17329, 'vskill': 17330, 'fireball': 17331, 'zoning': 17332, 'moids': 17333, 'chapel': 17334, 'mot': 17335, 'toasted': 17336, 'incorporated': 17337, 'amatur': 17338, '“citing': 17339, 'downgrade': 17340, 'allianz': 17341, 'me😔': 17342, 'clarifies': 17343, 'goblins': 17344, 'hoboing': 17345, 'ooga': 17346, 'booga': 17347, 'congressman': 17348, 'disfigured': 17349, 'omnipotence': 17350, 'coyote': 17351, 'tyre': 17352, 'regulate': 17353, 'prospering': 17354, 'steven': 17355, 'disoriented': 17356, 'jacking': 17357, 'advertiser': 17358, 'plotforce': 17359, 'tailgate': 17360, 'betas': 17361, 'impose': 17362, 'insipid': 17363, 'traumatised': 17364, 'abraham': 17365, 'santa': 17366, 'monica': 17367, 'attrition': 17368, 'punny': 17369, 'spaceship': 17370, 'choa': 17371, 'tigger': 17372, 'ruis': 17373, 'tantruming': 17374, \"'healty\": 17375, \"mechanism'\": 17376, '☕️': 17377, 'slimmer': 17378, 'lambs': 17379, 'freakin’': 17380, 'diabolical': 17381, 'draggy': 17382, 'doodle': 17383, \"disagree'\": 17384, '3a': 17385, 'disadvantages': 17386, 'oooooooh': 17387, 'jt': 17388, 'publically': 17389, '24hr': 17390, 'churning': 17391, 'junker': 17392, 'reys': 17393, 'turnaround': 17394, 'nourish': 17395, \"truckin'\": 17396, 'hs': 17397, 'transformed': 17398, 'evemtually': 17399, \"elly's\": 17400, 'brunch': 17401, 'possitive': 17402, 'kyrielight': 17403, 'better♥️': 17404, 'doco': 17405, 'honorless': 17406, 'cuckolds': 17407, 'republicanism': 17408, 'evangelism': 17409, 'lod': 17410, 'almight': 17411, 'plez': 17412, 'hubbah': 17413, '62k': 17414, 'frolicked': 17415, 'schiano': 17416, 'den': 17417, 'sg1': 17418, 'discusting': 17419, 'woeful': 17420, 'allllll': 17421, 'intjs': 17422, 'tobaccy': 17423, 'gujarat': 17424, 'karnataka': 17425, '3h': 17426, 'activates': 17427, 'envelope': 17428, 'carl': 17429, 'm72': 17430, 'unrequited': 17431, 'jargon': 17432, 'detract': 17433, 'ce': 17434, 'conditioner': 17435, 'yapping': 17436, 'grinning': 17437, 'newsflash': 17438, 'alfbrushjansbysy': 17439, \"dr's\": 17440, 'instructor': 17441, 'celsius': 17442, 'surgeons': 17443, 'lulac': 17444, 'abnormally': 17445, 'stubby': 17446, 'children’s': 17447, 'immobility': 17448, \"'a\": 17449, \"mp'\": 17450, 'lesnar': 17451, 'bony': 17452, 'bernadino': 17453, \"'17\": 17454, 'godspeed': 17455, 'evolves': 17456, 'longboat': 17457, 'wetland': 17458, 'degraded': 17459, \"'west'\": 17460, 'sofrus': 17461, 'mezuzos': 17462, 'megillah': 17463, 'luciferian': 17464, 'compounded': 17465, 'ewgh': 17466, 'willian': 17467, 'minder': 17468, 'binder': 17469, 'braggable': 17470, 'constipated': 17471, 'strives': 17472, '👓': 17473, \"mtg's\": 17474, 'sumo': 17475, 'deadlifts': 17476, 'bodyweight': 17477, 'bentley': 17478, 'excessive': 17479, 'servant': 17480, 'extinguished': 17481, '“9': 17482, '10”': 17483, 'inta': 17484, '“memes”': 17485, 'climbed': 17486, '60hz': 17487, 'shrimp': 17488, 'algae': 17489, 'fingertip': 17490, 'etched': 17491, 'duct': 17492, 'savor': 17493, 'p2pkh': 17494, 'panting': 17495, 'voncs': 17496, 'contentless': 17497, 'stereotyping': 17498, 'fuckup': 17499, 'symbols': 17500, 'beltran': 17501, 'capsule': 17502, 'binoculars': 17503, 'bootlicker': 17504, 'pisces': 17505, '👅👅💅🏻💅🏻💅🏻💅🏻💅🏻': 17506, 'takedown': 17507, 'condemnation': 17508, 'endearment': 17509, 'swallowing': 17510, 'levy': 17511, 'partywolf': 17512, '178': 17513, 'seeious': 17514, 'badboy': 17515, 'dragonpit': 17516, 'analgesic': 17517, 'oneitis': 17518, 'heaping': 17519, 'shitpile': 17520, 'monzo': 17521, 'sail': 17522, 'bodysuit': 17523, 'kalorie': 17524, 'hv': 17525, 'violnt': 17526, 'exmo': 17527, '“you’re': 17528, 'curiosity’s': 17529, 'lukewarm': 17530, 'relish': 17531, 'nutmeg': 17532, 'tatooing': 17533, 'asp': 17534, 'baton': 17535, 'pasting': 17536, 'gamerghazi': 17537, 'verbiage': 17538, \"grandoozy's\": 17539, 'edm': 17540, 'bort': 17541, 'presentable': 17542, 'tupperware': 17543, 'turbines': 17544, 'lebo': 17545, 'pedaling': 17546, 'extrapolating': 17547, 'reese’s': 17548, 'parlor': 17549, 'crema': 17550, 'humiliated': 17551, 'aggieopoly': 17552, 'nva': 17553, 'woord': 17554, '’s': 17555, '☹☹': 17556, 'mutant': 17557, 'dcfc': 17558, 'supplying': 17559, 'ubi’s': 17560, 'detentions': 17561, 'anxiously': 17562, 'twobestfriendsplay': 17563, 'slovenia': 17564, 'multiply': 17565, 'wellbeing': 17566, 'brace': 17567, 'bellybutton': 17568, 'lint': 17569, 'normansgohome': 17570, 'goner': 17571, 'eighty': 17572, 'newtubers': 17573, \"new's\": 17574, 'watcher': 17575, 'burglars': 17576, 'slices': 17577, 'asphalt': 17578, 'hoarded': 17579, 'insertion': 17580, 'authoritarians': 17581, 'champaign’s': 17582, 'brainstorm': 17583, 'habitability': 17584, 'as4': 17585, 's11': 17586, 'confetti': 17587, 'lifestyles': 17588, 'trams': 17589, 'ledge': 17590, \"parents'\": 17591, 'relapsed': 17592, 'vit': 17593, 'jethro': 17594, 'tenacity': 17595, 'airspace': 17596, 'cog': 17597, 'resentful': 17598, 'observations': 17599, 'advocacy': 17600, 'unionization': 17601, 'evoke': 17602, 'insurrection': 17603, 'diego': 17604, 'gobsmacked': 17605, 'ccu': 17606, 'retracts': 17607, 'moderating': 17608, 'twow': 17609, 'dine': 17610, 'lofi': 17611, 'wielded': 17612, 'linemen': 17613, 'sattiva': 17614, 'lolol': 17615, 'resubmit': 17616, 'hobart': 17617, 'tigers': 17618, 'wagga': 17619, 'bruhhh': 17620, 'sighs': 17621, 'gaza': 17622, 'revoking': 17623, 'mattered': 17624, 'converstaion': 17625, 'territiry': 17626, 'penn': 17627, 'debs': 17628, 'barging': 17629, 'snuggling': 17630, 'dassey': 17631, 'chorizo': 17632, 'tortillas': 17633, 'c1': 17634, 'concurrent': 17635, '000s': 17636, 'headbutting': 17637, \"iitt'ssss\": 17638, 'highhhhh': 17639, 'noooooooonnn': 17640, 'reigimes': 17641, 'disc': 17642, '💀': 17643, 'commentating': 17644, 'exsists': 17645, 'missile': 17646, 'grtting': 17647, 'moscato': 17648, 'importantly': 17649, 'withhold': 17650, 'stranglehold': 17651, 'aristocracy': 17652, 'tenderloin': 17653, 'yesyesyesyesmeh': 17654, 'dryers': 17655, 'hospice': 17656, 'nemesis': 17657, 'oing': 17658, 'candyland': 17659, 'pol': 17660, 'bawlin': 17661, '723': 17662, 'formerly': 17663, 'studios': 17664, '2pac': 17665, 'cupcakes': 17666, 'randalls': 17667, 'outfield': 17668, 'loins': 17669, 'sinews': 17670, 'marta': 17671, 'transits': 17672, '1am': 17673, 'falsely': 17674, 'emotionless': 17675, 'proficient': 17676, 'haked': 17677, 'sayings': 17678, 'guage': 17679, 'patricia': 17680, 'internationalist': 17681, 'brimming': 17682, 'nibbas': 17683, 'mean…': 17684, 'faaar': 17685, 'hhahah': 17686, 'dragopolis': 17687, '‘they': 17688, 'contextualizes': 17689, \"rams'\": 17690, 'helper': 17691, 'assholery': 17692, 'tan': 17693, 'lightening': 17694, 'dana': 17695, 'carvey': 17696, 'comprehensions': 17697, 'sticked': 17698, '6a': 17699, 'slade': 17700, 'ces': 17701, 'ingrowns': 17702, 'klingon': 17703, 'whistles': 17704, 'whack': 17705, 'miracles': 17706, 'bonded': 17707, 'oxo': 17708, '1000ft': 17709, 'ryoma': 17710, 'qualifies': 17711, \"vol'jin\": 17712, 'oos': 17713, '“weird': 17714, 'guys”': 17715, 'handball': 17716, 'arlington': 17717, 'kyle': 17718, \"lvp's\": 17719, 'liscence': 17720, 'fap': 17721, 'sciencebowl': 17722, 'knowledgebowl': 17723, '“grave': 17724, 'worshipping”': 17725, 'acquaintances': 17726, 'overbearing': 17727, 'thinly': 17728, 'veiled': 17729, 'shading': 17730, 'lumps': 17731, 'downward': 17732, 'geocentric': 17733, 'jerkoff': 17734, 'looooooves': 17735, 'reskin': 17736, 'infringe': 17737, 'fgt': 17738, 'hatefully': 17739, 'meditating': 17740, 'eerily': 17741, 'unpacked': 17742, 'jerked': 17743, 'coops': 17744, 'cokes': 17745, 'panthera': 17746, 'expressly': 17747, 'redzone': 17748, 'interception': 17749, 'wsj': 17750, 'puberty': 17751, '‘orwellian’': 17752, '😞': 17753, 'esea': 17754, 'faceit': 17755, 'thi': 17756, 'expound': 17757, '“truth”': 17758, 'qualify😞': 17759, 'backhand': 17760, 'deutschland': 17761, 'unwind': 17762, 'pry': 17763, 'fiind': 17764, '”bad': 17765, 'ai’s': 17766, 'defo': 17767, 'tumbler': 17768, 'hauled': 17769, 'freedoms': 17770, 'precautions': 17771, 'tmc': 17772, 'atbge': 17773, 'valhalla': 17774, 'revelead': 17775, 'convergent': 17776, 'tween': 17777, 'yaaass': 17778, 'venetian': 17779, 'snares': 17780, 'insighting': 17781, 'brigades': 17782, '179': 17783, 'would—fuck': 17784, 'frfr': 17785, 'survivied': 17786, \"'making\": 17787, \"ideas'\": 17788, 'rivendell': 17789, 'elves': 17790, 'sprawl': 17791, 'countryside': 17792, 'hatched': 17793, 'wyrmwood': 17794, 'bee’s': 17795, 'marched': 17796, 'taurus': 17797, 'hauty': 17798, '309': 17799, 'facepalm': 17800, 'infuriation': 17801, 'delving': 17802, 'minutiae': 17803, 'stc': 17804, 'cohorts': 17805, \"'kabhi\": 17806, \"aaditi'\": 17807, 'remindmebot': 17808, 'defaulted': 17809, \"name'\": 17810, 'enjoyphoenix': 17811, 'desi’s': 17812, 'egregiously': 17813, 'huffpost': 17814, 'breitbart': 17815, 'etc—the': 17816, 'erotica': 17817, 'weighing': 17818, '“stormin’': 17819, 'norman': 17820, 'osborn': 17821, 'admires': 17822, '“children': 17823, 'transing': 17824, 'dangers': 17825, 'hrt”': 17826, 'narrow': 17827, 'religiously': 17828, 'viewer': 17829, 'oj': 17830, 'netti': 17831, 'fuzzies': 17832, 'passport': 17833, 'snowing': 17834, 'mr2': 17835, 'fief': 17836, 'antipsychotic': 17837, 'conditons': 17838, 'chafing': 17839, '🐕🥰': 17840, 'dint': 17841, '16ish': 17842, '430': 17843, 'sussidio': 17844, 'maliciously': 17845, 'sc2': 17846, 'ingrate': 17847, 'pitiful': 17848, 'lingers': 17849, 'autoplay': 17850, 'maters': 17851, 'actives': 17852, 'ankh': 17853, 'powerplay': 17854, 'bae': 17855, 'peeled': 17856, 'principles': 17857, 'ralsei': 17858, 'patheticallly': 17859, '35kg': 17860, 'quivering': 17861, 'objection': 17862, 'viagra': 17863, 'codeine': 17864, \"'infant'ry\": 17865, 'whereabouts': 17866, 'croydon': 17867, 'subscribing': 17868, 'fountain': 17869, 'delays': 17870, 'inflamed': 17871, 'otherrrr': 17872, 'underscore': 17873, 'communism101': 17874, 'sweatshirt': 17875, 'judgmental': 17876, 'pinged': 17877, 'com': 17878, 'atrocity': 17879, 'bc’s': 17880, 'lng': 17881, 'doortrash': 17882, '83': 17883, '4now': 17884, \"acl's\": 17885, 'bandersnatching': 17886, 'vhs': 17887, 'blu': 17888, 'worships': 17889, 'hypergamy': 17890, 'footing': 17891, \"human's\": 17892, 'entertain': 17893, 'voiceover': 17894, 'elevated': 17895, 'digg': 17896, '1945': 17897, 'lurk': 17898, 'diffusion': 17899, 'paragon': 17900, 'kraaifontein': 17901, 'antidemoratic': 17902, 'cubo': 17903, 'colony': 17904, 'hmmmmmmmm': 17905, 'lateral': 17906, 'libraries': 17907, 'microwave': 17908, 'governing': 17909, 'shyster': 17910, 'contacted': 17911, 'counsellor': 17912, 'improves': 17913, 'amiodarone': 17914, 'challenged': 17915, 'grownups': 17916, 'lubrica': 17917, 'victorias': 17918, 'fuuuuuuuuuck': 17919, 'budging': 17920, 'clauses': 17921, 'recollection': 17922, 'tininess': 17923, 'tributes': 17924, 'seated': 17925, 'calf': 17926, 'recosnider': 17927, 'kda': 17928, 'plush': 17929, 'cbb': 17930, 'mandarin': 17931, '“notice': 17932, 'hand”': 17933, 'exchanges': 17934, 'nay': 17935, 'potcoin': 17936, 'liabilities': 17937, 'man’s': 17938, 'cabinet': 17939, 'exhibits': 17940, 'diverges': 17941, 'hmrc': 17942, 'counties': 17943, 'tingle': 17944, 'adoptions': 17945, 'realtime': 17946, 'underestimated': 17947, 'fantastically': 17948, 'privately': 17949, 'mixxed': 17950, 'overcooked': 17951, 'primaried': 17952, 'ayyyyyyyyy': 17953, 'oooooooohhhhnnnoooooo': 17954, 'antivax': 17955, 'alienated': 17956, 'don': 17957, 'psp': 17958, 'substitute': 17959, 'spiritually': 17960, 'fruitful': 17961, 'drooled': 17962, 'translations': 17963, 'guideline': 17964, 'undertone': 17965, 'fw': 17966, 'attentive': 17967, 'chucklefuck': 17968, 'mishap': 17969, 'tashy': 17970, 'cizikas': 17971, 'optimized': 17972, 'sths': 17973, 'desegregate': 17974, 'ligt': 17975, 'fackin': 17976, 'missionaries': 17977, 'rebels': 17978, 'preists': 17979, '🖤💜': 17980, 'hornier': 17981, 'virtues': 17982, 'drunkenly': 17983, 'stanky': 17984, 'paygo': 17985, 'deficit': 17986, \"'made\": 17987, \"'unfireable'\": 17988, 'appearing': 17989, 'powerpoint': 17990, 'waddle': 17991, 'ganking': 17992, 'ganks': 17993, '15yo': 17994, 'novak': 17995, 'colours': 17996, 'greatness': 17997, 'goons': 17998, 'inexplicably': 17999, 'responsebility': 18000, 'natalist': 18001, 'perversion': 18002, '👊💦': 18003, 'meyers': 18004, 'brewers': 18005, \"pizza'd\": 18006, 'ayr': 18007, 'talbot': 18008, '12pm': 18009, 'quesadillas': 18010, 'losion': 18011, 'diamondbacks': 18012, 'backfire': 18013, 'hogs': 18014, 'healers': 18015, 'healing”': 18016, 'reeeeeeing': 18017, 'highspeed': 18018, 'monokuma': 18019, 'blackened': 18020, '30g': 18021, 'innocuous': 18022, 'unadulterated': 18023, '100th': 18024, 'dickee': 18025, '10s': 18026, '5s': 18027, 'telltale': 18028, '“beta”': 18029, 'streamgate': 18030, 'individually': 18031, \"'under\": 18032, '‘18': 18033, '‘19': 18034, 'oldey': 18035, 'goodey': 18036, 'inflict': 18037, 'reconnected': 18038, \"focus'\": 18039, 'offences': 18040, 'taskforce': 18041, 'demi': 18042, 'nooption': 18043, 'mayonnaise': 18044, '🐢': 18045, 'jeeze': 18046, 'deiaa': 18047, 'stomachable': 18048, 'dif': 18049, 'arnt': 18050, 'argonians': 18051, 'simpsons': 18052, 'corporal': 18053, '1700s': 18054, 'massivelyop': 18055, '😢😢😢': 18056, 'aspen': 18057, 'seizing': 18058, 'founded': 18059, 'threading': 18060, 'spaces': 18061, 'cumosaurusgaysex': 18062, 'americanism': 18063, 'lawnmower': 18064, 'protectionsim': 18065, 'here😖': 18066, 'psh': 18067, 'severson': 18068, 'g6': 18069, 'ngga': 18070, 'doubted': 18071, 'amnesia': 18072, 'godlish': 18073, 'watson': 18074, 'furnished': 18075, 'granddaddy': 18076, 'rom': 18077, 'distribute': 18078, 'sunscreen': 18079, 'pundits': 18080, 'rightly': 18081, 'criticising': 18082, 'refereeing': 18083, 'buckaroo': 18084, 'gf’s': 18085, 'will…': 18086, 'scarcity': 18087, 'prioritizing': 18088, 'andújar': 18089, 'pants”': 18090, '“hehe': 18091, 'werewolves': 18092, 'mainsource': 18093, 'wantsyou': 18094, 'rugsweep': 18095, 'patronizing': 18096, 'nremt': 18097, '212': 18098, 'lopez': 18099, 'mcribs': 18100, '😥😭': 18101, 'ditched': 18102, 'creeperson': 18103, 'rouge': 18104, 'sufferer': 18105, 'halal': 18106, 'marshmallow': 18107, 'comply': 18108, 'ppd': 18109, 'mommies': 18110, 'formidable': 18111, 'blechdel': 18112, 'recognizes': 18113, 'layout': 18114, 'enamel': 18115, 'polished': 18116, 'jabronis': 18117, 'priso': 18118, 'gilette': 18119, 'peoole': 18120, 'lawtistic': 18121, 'schnoodledoodledo': 18122, 'longboard': 18123, 'lex': 18124, 'rubs': 18125, 'extraterrestrial': 18126, 'soooooooooooooooooooooooooooooooooooooooooooooooooo': 18127, 'reinstatement': 18128, 'licensure': 18129, 'ballerina': 18130, 'northwestern': 18131, 'moonwolf1': 18132, '799': 18133, 'vain': 18134, 'wax': 18135, 'crosscut': 18136, 'wheezed': 18137, 'jugular': 18138, 'ud': 18139, 'noahide': 18140, 'advocated': 18141, 'evacuated': 18142, 'precaution': 18143, 'wether': 18144, 'saxy': 18145, 'postal': 18146, 'sightreading': 18147, 'proceeding': 18148, 'naah': 18149, 'scrutiny': 18150, 'avery': 18151, 'brt': 18152, 'mopey': 18153, 'droopy': 18154, 'fainting': 18155, 'wel': 18156, 'query': 18157, 'porsche': 18158, 'cleaned': 18159, 'tweezer': 18160, 'bernie': 18161, 'hairbrush': 18162, 'anthropology': 18163, 'moped': 18164, 'mph': 18165, 'afab': 18166, 'brazillian': 18167, 'boomeranged': 18168, 'immeasurably': 18169, 'spiraling': 18170, 'lodger': 18171, 'deemed': 18172, 'despondency': 18173, 'flyers': 18174, 'foreshadowing': 18175, 'sings': 18176, 'rationalize': 18177, 'judiasm': 18178, 'biohazard': 18179, 'w00t': 18180, 'hidilly': 18181, 'neighbourino': 18182, 'agility': 18183, \"'keep\": 18184, \"simple'\": 18185, 'yakuza': 18186, 'warcraft': 18187, 'tbc': 18188, 'ensuing': 18189, 'fangirls': 18190, 'fttn': 18191, 'rusted': 18192, 'katanas': 18193, \"'cool'\": 18194, 'gallons': 18195, 'stroll': 18196, 'blindsided': 18197, 'foresight': 18198, 'broooo': 18199, 'ouuuuccccchhhhh': 18200, 'redditsmuseumoffilth': 18201, 'flooded': 18202, 'risking': 18203, 'potheads': 18204, 'frigid': 18205, 'bummed': 18206, 'angers': 18207, 'subzero': 18208, 'realest': 18209, 'flaked': 18210, 'exorbitantly': 18211, 'melatonin': 18212, 'gummies': 18213, 'stronk': 18214, 'grocers': 18215, 'specialty': 18216, 'broseph': 18217, 'nikon': 18218, 'd5100': 18219, '300mm': 18220, 'lense': 18221, 'waswas': 18222, 'inmoral': 18223, 'inquire': 18224, 'spm': 18225, 'trafficking': 18226, 'amtrak': 18227, 'discouraged': 18228, 'paternalistic': 18229, 'pointer': 18230, \"zerocarbers'\": 18231, 'crabs': 18232, 'booster': 18233, 'fulfillment': 18234, '“targets”': 18235, 'eichel': 18236, 'ultralord': 18237, 'smuggler': 18238, 'wines': 18239, 'urgh': 18240, \"'learn\": 18241, 'slr': 18242, \"properly'\": 18243, 'median': 18244, 'incomes': 18245, 'pseudo': 18246, 'theielens': 18247, 'morrigan': 18248, 'lacy': 18249, 'evens': 18250, 'unloved': 18251, 'grayscale': 18252, 'kingsish': 18253, 'captained': 18254, 'gw2': 18255, 'gw1': 18256, 'sacraficed': 18257, 'wapo': 18258, 'motherfu': 18259, '144hz': 18260, 'metropolitan': 18261, 'oohhh': 18262, 'launches': 18263, 'manipulating': 18264, 'metahuman': 18265, 'tics': 18266, \"tourettes'\": 18267, 'neurotransmitters': 18268, 'savants': 18269, 'hagen': 18270, 'orchards': 18271, 'bayou': 18272, 'nwa': 18273, 'waterline': 18274, 'hecka': 18275, 'baybeeees': 18276, 'ventura': 18277, 'initiatives': 18278, 'mindblowing': 18279, 'technologie': 18280, 'teenage': 18281, \"daddy's\": 18282, 'trueborn': 18283, 'brandnewsentence': 18284, 'whens': 18285, 'hornsby': 18286, 'clay': 18287, 'pidgeon': 18288, 'lucas': 18289, 'transcended': 18290, 'penmanshipporn': 18291, 'lox': 18292, 'optional': 18293, 'apprehend': 18294, 'impostor': 18295, 'hippie': 18296, 'revere': 18297, 'impacts': 18298, 'celibacy': 18299, 'inhibition': 18300, 'merger': 18301, 'wildrosers': 18302, 'ipart': 18303, 'tabbaco': 18304, 'nasally': 18305, '1500m': 18306, 'abu': 18307, 'dhabi': 18308, 'lamar': 18309, 'margs': 18310, '‘06': 18311, \"'foid'\": 18312, 'midtown': 18313, 'greenspace': 18314, 'mikyoung': 18315, 'kim': 18316, 'agence': 18317, 'ter': 18318, 'highways': 18319, 'mumps': 18320, 'wanes': 18321, 'invalidates': 18322, 'person’s': 18323, '80m': 18324, 'barged': 18325, 'mining': 18326, 'disown': 18327, 'whiteys': 18328, 'terfcide': 18329, 'mayocide': 18330, 'cadians': 18331, 'lizardmen': 18332, 'visable': 18333, 'alter': 18334, '2m': 18335, 'pups': 18336, 'generstion': 18337, 'liberating': 18338, 'booing': 18339, 'lotta': 18340, 'muthafuckah': 18341, 'ng': 18342, 'wonky': 18343, 'enlightnen': 18344, '‘cheap’': 18345, 'beamer': 18346, 'asset': 18347, 'sans': 18348, 'sacrificial': 18349, 'indictments': 18350, 'retroactively': 18351, '“bahahaha”': 18352, 'raving': 18353, 'driveway': 18354, 'osteomyelitis': 18355, 'phalanx': 18356, 'thrombosis': 18357, '“50': 18358, 'shades”': 18359, 'closeteverything69': 18360, 'fetal': 18361, 'hoa': 18362, 'whaaaat': 18363, 'ohhhhhhhhhhhhhhhhhhhhhhhhhhhhhhhhhhhhhhhhhhhhhhhhhhhhhhhhhhhhhhhhhhhhhhhh': 18364, 'ssbbw': 18365, 'marches': 18366, 'dnb': 18367, '95’': 18368, 'attac': 18369, 'pretences': 18370, 'cessna': 18371, 'highland': 18372, 'cathedral': 18373, 'backhoe': 18374, 'dolly': 18375, 'roaring': 18376, 'ipanema': 18377, 'cologne': 18378, 'stings': 18379, 'abortion”': 18380, 'kirkland': 18381, 'rts': 18382, 'gahs': 18383, \"purdue's\": 18384, '93': 18385, '187': 18386, 'cpt': 18387, 'boylen': 18388, 'limpdicked': 18389, 'haemorrhoid': 18390, 'absorbed': 18391, 'spoofed': 18392, 'interpersonal': 18393, '7x04': 18394, 'adversely': 18395, 'himmmmmmmmmmmmmm': 18396, 'peddling': 18397, 'squawking': 18398, 'burdens': 18399, 'fck': 18400, 'pitchers': 18401, 'patrolling': 18402, 'vvv': 18403, 'dispatcher': 18404, 'strangling': 18405, 'frying': 18406, 'personhood': 18407, '“curated': 18408, 'box”': 18409, 'aloud': 18410, 'postmodernism': 18411, 'dva': 18412, 'fawning': 18413, 'fawn': 18414, 'socialister': 18415, 'braving': 18416, 'disgraceful': 18417, 'convention': 18418, 'ser': 18419, 'gpu': 18420, 'gorgon': 18421, 'wurm': 18422, 'compounding': 18423, 'n00b': 18424, 'tosses': 18425, '“normal”': 18426, 'mylk': 18427, 'registering': 18428, 'midfielder': 18429, 'demar': 18430, 'pokes': 18431, 'definetley': 18432, 'ritalin': 18433, '300k': 18434, 'romanced': 18435, 'doods': 18436, 'tans': 18437, 'erupted': 18438, 'ammunition': 18439, 'unhappiness': 18440, 'concluded': 18441, 'schtick': 18442, '‘45': 18443, 'skunk': 18444, 'aroma': 18445, 'fading': 18446, 'exploring': 18447, 'sours': 18448, 'louisana': 18449, 'nfccg': 18450, 'commands': 18451, 'poppers': 18452, 'corporatist': 18453, 'trollbot': 18454, 'prison”': 18455, 'volumes': 18456, 'recessed': 18457, 'fondue': 18458, 'stopgaps': 18459, 'gona': 18460, 'specially': 18461, 'relocate': 18462, 'instinctive': 18463, 'reflexive': 18464, 'spammable': 18465, 'coors': 18466, '‘space': 18467, 'languages’': 18468, 'implementing': 18469, \"john's\": 18470, 'fpta': 18471, 'utilize': 18472, 'vas': 18473, 'deferens': 18474, 'oracle': 18475, 'jinx': 18476, 'slasher': 18477, 'rocked': 18478, 'procter': 18479, 'gamble': 18480, 'literately': 18481, 'anathema': 18482, 'chiche': 18483, 'england’s': 18484, 'salallahualaihi': 18485, 'wasallam': 18486, \"'people'\": 18487, 'choosey': 18488, 'grunt': 18489, \"league's\": 18490, 'objectification': 18491, 'noledge': 18492, 'xterra': 18493, 'palmer': 18494, 'tutorials”': 18495, 'calculating': 18496, 'l3': 18497, 'cache': 18498, 'extol': 18499, 'wifebeaters': 18500, 'malt': 18501, '“men': 18502, 'commendable': 18503, 'wcw': 18504, 'lynwood': 18505, 'achieveable': 18506, '3019': 18507, 'theesomes': 18508, 'swelling': 18509, 'lgbtq': 18510, 'venus': 18511, 'chapchatting': 18512, 'facetiming': 18513, 'popes': 18514, 'premonitions': 18515, 'bronie': 18516, 'impeding': 18517, 'privilges': 18518, 'packets': 18519, 'bnw': 18520, 'scarily': 18521, 'turgeon': 18522, 'socio': 18523, 'specifying': 18524, '🤦\\u200d♂️': 18525, \"samsung's\": 18526, 'diffuser': 18527, 'criticizing': 18528, 'reconnaissance': 18529, 'jetta': 18530, 'flunked': 18531, 'qmos': 18532, 'underlaying': 18533, '25x': 18534, 'ooook': 18535, 'alexneverafter': 18536, 'tippr': 18537, 'jim': 18538, 'fanbois': 18539, 'humanize': 18540, 'wholesomememes': 18541, 'cute”': 18542, 'quaking': 18543, 'supplanted': 18544, 'leaveeee': 18545, 'grav': 18546, 'aimheros': 18547, 'kovaaks': 18548, 'eighteenth': 18549, 'gnostic': 18550, 'cumpoo': 18551, 'amuses': 18552, 'galil': 18553, 'exams': 18554, 'clause': 18555, 'jure': 18556, 'punctured': 18557, 'urinary': 18558, 'implant': 18559, 'bahahahahahaha': 18560, 'clan': 18561, 'winrates': 18562, 'dismisses': 18563, 'boulton': 18564, 'watt': 18565, \"spa's\": 18566, 'sauna': 18567, 'forgets': 18568, 'jousting': 18569, 'soaked': 18570, 'refrigerated': 18571, 'piping': 18572, 'bottomed': 18573, 'sliced': 18574, 'vinyl': 18575, 'environmentally': 18576, 'outwardly': 18577, 'cincy': 18578, 'alcs': 18579, 'kali': 18580, 'ditalite': 18581, 'cartridges': 18582, 'slacked': 18583, 'mysteriously': 18584, 'burnitdown': 18585, 'nobodyissafe': 18586, 'shapeuporshipout': 18587, 'immunosuppressed': 18588, 'ebbets': 18589, 'poignant': 18590, 'debated': 18591, 'redpill': 18592, 'didn”t': 18593, 'it”s': 18594, 'busdriver': 18595, 'straightness': 18596, 'outclassed': 18597, 'bochurim': 18598, 'demoralizing': 18599, '6’2': 18600, 'applications': 18601, 'stossel': 18602, \"ana's\": 18603, 'peek': 18604, 'djt': 18605, 'up😎😎😎💯💯💯💯💯🔥🔥👅': 18606, 'abrupt': 18607, 'transitions': 18608, 'undefined': 18609, 'wiped': 18610, 'reinforces': 18611, '🤪🌹': 18612, 'scrapped': 18613, 'guy”': 18614, 'imprinting': 18615, 'tackled': 18616, '“hey': 18617, 'wam': 18618, '“that': 18619, '“most': 18620, 'bsv': 18621, 'complaine': 18622, '🤔🤔': 18623, 'disliked': 18624, \"'there\": 18625, 'sincerer': 18626, 'gladiators': 18627, 'outfront': 18628, 'grit': 18629, 'pontiac': 18630, 'bonneville': 18631, 'tentative': 18632, 'ˈbɪɡət': 18633, 'janitors': 18634, \"sorry'\": 18635, 'eurasia': 18636, 'unpleasant': 18637, 'jajaja': 18638, 'mommas': 18639, 'back2worksoon': 18640, 'neckbeards': 18641, 'shugos': 18642, 'hamburgler': 18643, 'lunches': 18644, 'wastelands': 18645, 'python2': 18646, 'preschoolers': 18647, 'rosters': 18648, 'handily': 18649, 'trifling': 18650, 'forsure': 18651, 'inconvenienced': 18652, 'snarky': 18653, 'remark': 18654, 'roughly': 18655, 'weighs': 18656, 'gitmo': 18657, 'buffalo': 18658, 'automation': 18659, 'airpod': 18660, 'scalp': 18661, 'preferably': 18662, 'sip': 18663, 'eggman': 18664, 'eesh': 18665, 'dredge': 18666, 'downback': 18667, 'slathered': 18668, 'bustling': 18669, 'millinery': 18670, 'renovate': 18671, 'counselling': 18672, 'insinuate': 18673, 'blockage': 18674, 'frysuspiciouseyes': 18675, 'benadryl': 18676, 'stepdad': 18677, 'eliminating': 18678, \"'just\": 18679, \"meditating'\": 18680, '5aav': 18681, 'autists': 18682, 'awfull': 18683, 'tpm': 18684, 'misconception': 18685, 'mongos': 18686, 'crystalized': 18687, 'sulfur': 18688, 'baddabang': 18689, 'metairie': 18690, 'instrument': 18691, 'capitulate': 18692, 'congressmen': 18693, \"'leadership'\": 18694, 'kneeling': 18695, 'conniving': 18696, 'whatnots': 18697, 'coincidences': 18698, 'crumbled': 18699, 'incompetency': 18700, 'blacks': 18701, 'cogent': 18702, 'shooooulderrrrr': 18703, 'dirrrkkkk': 18704, 'nowitzki': 18705, 'crisps': 18706, 'chiclets': 18707, 'beasts': 18708, 'muchas': 18709, 'icarly': 18710, 'edgelord': 18711, 'deterrent': 18712, 'hokage': 18713, 'firmly': 18714, 'monsanto': 18715, 'recap': 18716, 'programmer': 18717, 'assortment': 18718, 'categorize': 18719, \"'unintentional\": 18720, \"humor'\": 18721, 'sneered': 18722, \"this'\": 18723, 'bested': 18724, \"blake's\": 18725, 'sunflower': 18726, 'jug': 18727, '£2': 18728, '£3': 18729, 'juke': 18730, 'blur': 18731, 'lessened': 18732, 'huskies': 18733, 'loveable': 18734, '♡': 18735, 'beet': 18736, 'strawberries': 18737, 'blob': 18738, 'naa': 18739, 'litterally': 18740, 'pas': 18741, 'realms': 18742, 'dumping': 18743, 'guis': 18744, 'spokane': 18745, 'drafts': 18746, 'groening': 18747, 'asleep——': 18748, 'as5': 18749, 'haksal': 18750, 'happiness”': 18751, 'amnesiac': 18752, 'nuggets': 18753, 'ponytail': 18754, 'gards': 18755, 'grossness': 18756, 'academies': 18757, 'rotated': 18758, 'realllyyyy': 18759, 'deeprekt': 18760, 'backhands': 18761, '1749485': 18762, 'unfaithful': 18763, 'ferry': 18764, 'glitching': 18765, 'ruse': 18766, 'candlestick': 18767, 'narcos': 18768, 'caterer': 18769, 'extortion': 18770, 'nissan': 18771, 'fuga': 18772, '450gt': 18773, 'firstborn': 18774, 'blobs': 18775, 'bds': 18776, 'conflated': 18777, 'pucks': 18778, 'hyman': 18779, 'vasectomies': 18780, 'sandals': 18781, '2021': 18782, 'toned': 18783, 'basilisk': 18784, 'drowsy': 18785, 'outstanding': 18786, 'lazyman': 18787, 'uncontroversial': 18788, \"6'3\": 18789, 'efficiency': 18790, 'sympathetic': 18791, '2019’s': 18792, 'lolz': 18793, 'colorful': 18794, 'tfws': 18795, 'tattling': 18796, 'highmountain': 18797, \"randazzo's\": 18798, \"haydel's\": 18799, 'reproduction': 18800, 'rips': 18801, 'revealing': 18802, 'right😂😂': 18803, 'proverbial': 18804, 'legroom': 18805, 'reclines': 18806, 'chuckled': 18807, 'fidlar': 18808, '“parties”': 18809, '😖': 18810, 'controller’s': 18811, 'nes': 18812, '5’10': 18813, 'kaskade': 18814, 'gothenburg': 18815, 'kasbo': 18816, 'jenny': 18817, 'morgan': 18818, 'minigame': 18819, 'idiocracy': 18820, 'briefcases': 18821, 'underappreciated': 18822, 'mitt': 18823, 'trickle': 18824, 'inevitability': 18825, 'nakamoto': 18826, 'splaining': 18827, 'suffocation': 18828, 'cc’s': 18829, 'ifs': 18830, 'hbomb': 18831, 'powerups': 18832, 'pox': 18833, 'penalised': 18834, 'ageist': 18835, 'hitreg': 18836, \"smokin'\": 18837, 'deplorable': 18838, 'traitorous': 18839, 'trumptards': 18840, 'nighttime': 18841, \"'weird\": 18842, \"time'\": 18843, 'debateable': 18844, 'beneath': 18845, 'recruiter': 18846, 'communicator': 18847, 'apprehension': 18848, 'shamelessly': 18849, 'cornetto': 18850, 'dice': 18851, 'fernandas': 18852, '3rd”world': 18853, 'abled': 18854, 'robocop': 18855, 'prosthetic': 18856, 'oppressing': 18857, 'drizzle': 18858, 'circuits': 18859, 'ambivalent': 18860, 'outshot': 18861, 'scoreless': 18862, 'kuwtk': 18863, 'youtubers': 18864, 'eyelids': 18865, 'monks': 18866, 'clinics': 18867, 'quests': 18868, 'exploration': 18869, 'burried': 18870, 'tyvm': 18871, 'consumer': 18872, 'hybrid': 18873, 'stickshift': 18874, 'alerted': 18875, 'kuss': 18876, 'ciao': 18877, 'deathcore': 18878, 'aviator': 18879, 'loll': 18880, 'pho': 18881, 'belated': 18882, '“imaginary”': 18883, '“social': 18884, 'construct”': 18885, \"'upstairs\": 18886, \"'between\": 18887, 'selam': 18888, 'aleikum': 18889, 'arrahmatulla': 18890, 'baraktu': 18891, 'iman': 18892, 'inshalla': 18893, 'pajamas': 18894, 'sweatpants': 18895, 'weekday': 18896, 'dosage': 18897, 'youll': 18898, '1900s': 18899, 'baby’s': 18900, 'researchers': 18901, '182': 18902, 'turquoise': 18903, 'brighter': 18904, 'pounding': 18905, 'minn': 18906, 'shawn': 18907, 'redpiller': 18908, 'rewatched': 18909, 'fooking': 18910, 'fockin': 18911, 'japester': 18912, 'erection': 18913, '5’8': 18914, '“youre”': 18915, 'seth': 18916, 'underpants': 18917, 'pouch': 18918, 'saggy': 18919, 'burkina': 18920, 'faso': 18921, 'libya': 18922, 'cheekbones': 18923, \"doctor's\": 18924, 'lipsync': 18925, 'shantay': 18926, 'horsie': 18927, 'enlightened': 18928, 'wiggly': 18929, 'idolized': 18930, 'gametime': 18931, 'orthodoxy': 18932, 'tяeasonous': 18933, 'tяump': 18934, 'marquis': 18935, 'nobility': 18936, 'ckth': 18937, 'discontinued': 18938, \"manager's\": 18939, \"mildlyinteresting's\": 18940, 'beets': 18941, 'neve': 18942, 'accompany': 18943, 'phobia': 18944, 'redistribution': 18945, 'organisers': 18946, 'brazenly': 18947, \"sex's\": 18948, 'wires': 18949, 'rousing': 18950, 'etiquette': 18951, 'mayfields': 18952, 'birthright': 18953, 'tard': 18954, 'flail': 18955, '“ahhh': 18956, 'danger”': 18957, 'doxies': 18958, 'petite': 18959, 'dundee': 18960, 'strangulation': 18961, 'predictors': 18962, 'sealioning': 18963, 'fetishistic': 18964, 'situationally': 18965, 'lollll': 18966, 'hhaaha': 18967, 'cheapness': 18968, '10907th': 18969, 'teased': 18970, 'diabetus': 18971, 'reconsidering': 18972, 'angelic': 18973, 'manequin': 18974, 'wasteful': 18975, 'nsp': 18976, 'barbarism': 18977, 'procrastinates': 18978, \"tenko's\": 18979, 'bday': 18980, 'mudcrabs': 18981, 'fearsome': 18982, 'heteronormativity': 18983, 'apologising': 18984, 'foots': 18985, 'stamped': 18986, 'problemo': 18987, 'emotipns': 18988, 'emojis': 18989, 'likr': 18990, 'ajd': 18991, 'entwined': 18992, 'hydrocortisone': 18993, \"countries'\": 18994, 'blessings': 18995, 'fashionable': 18996, 'strippers': 18997, 'somebody’s': 18998, 'it🤫': 18999, 'linebacker': 19000, 'xfl': 19001, 'animations': 19002, 'skulls': 19003, 'phrenology': 19004, 'reviewed': 19005, 'moonlight': 19006, '“would': 19007, 'rb1': 19008, 'blinker': 19009, 'capes': 19010, \"jp's\": 19011, \"i'ma\": 19012, 'fatshame': 19013, 'intimidation': 19014, 'gatekepping': 19015, 'vocab': 19016, 'bball': 19017, 'fresno': 19018, 'xoxx': 19019, 'claymation': 19020, 'avengers': 19021, '“highly': 19022, 'unlikely”': 19023, 'italics': 19024, 'stoicism': 19025, 'professors': 19026, 'etfsec': 19027, 'cfn': 19028, 'zookeeper”': 19029, 'drawers': 19030, 'blowed': 19031, 'civility': 19032, 'secreatary': 19033, 'academical': 19034, 'dearest': 19035, 'maggo': 19036, 'bankrupted': 19037, '2400': 19038, 'knitting': 19039, 'reeaaaal': 19040, 'ooooo': 19041, 'chooses': 19042, 'airmen': 19043, 'reijka92': 19044, 'kung': 19045, 'radford': 19046, 'cff': 19047, 'invertebrates': 19048, 'zits': 19049, 'fanclub': 19050, 'smth': 19051, 'foreground': 19052, \"how'd\": 19053, 'aaahhhhhh': 19054, 'amoeba': 19055, 'motivating': 19056, 'gaslit': 19057, 'ffed': 19058, 'sooooooooo': 19059, 'chillin': 19060, 'lode': 19061, 'weho': 19062, 'picnic': 19063, 'alpaca': 19064, 'shitstuation': 19065, 'devour': 19066, \"'high'\": 19067, 'kontrol': 19068, 'freeks': 19069, 'hhhhhh': 19070, 'bulks': 19071, 'brainless': 19072, 'wackos': 19073, '9k': 19074, 'piercer': 19075, 'piercing': 19076, 'sprint': 19077, 'podium': 19078, '10mcg': 19079, 'cyanocobalamin': 19080, 'celulose': 19081, 'too”': 19082, 'derailing': 19083, 'detention': 19084, 'exiting': 19085, 'bouquet': 19086, 'usm': 19087, 'yakking': 19088, 'pawnstars': 19089, 'storage': 19090, 'airhorn': 19091, 'phoney': 19092, 'wl': 19093, 'deduce': 19094, 'wishlist': 19095, 'comfortcases': 19096, 'advisory': 19097, 'boatcar': 19098, 'vanderpump': 19099, 'woooooooooo': 19100, 'mellinials': 19101, 'sympathize': 19102, 'mentalcels': 19103, 'receptive': 19104, 'zar': 19105, 'tater': 19106, 'trickery': 19107, 'inmediately': 19108, 'bon': 19109, 'voyage': 19110, 'triumphant': 19111, 'snagging': 19112, 'munson’s': 19113, 'simoniz': 19114, 'cooeee': 19115, 'liter': 19116, 'misogynist': 19117, 'aldi': 19118, 'inn': 19119, 'furthermore': 19120, 'drm': 19121, 'circumvented': 19122, 'seizures': 19123, 'benzo': 19124, 'preface': 19125, 'wattpad': 19126, 'reveled': 19127, 'delts': 19128, 'tangled': 19129, 'folksy': 19130, 'skylines': 19131, 'nightclub': 19132, 'novo': 19133, 'mccalisters': 19134, 'shatter': 19135, '49er': 19136, 'rv': 19137, 'marinate': 19138, 'mollycoddle': 19139, '8k': 19140, 'prorevenge': 19141, 'gators': 19142, 'innately': 19143, 'harnesses': 19144, 'makeshift': 19145, 'ladders': 19146, 'pronouns': 19147, 'decarboxylated': 19148, 'helpless': 19149, 'fews': 19150, 'horseback': 19151, 'wuz': 19152, 'abaot': 19153, 'tha': 19154, 'brothur': 19155, 'uncomfy': 19156, 'bubby': 19157, 'suffice': 19158, 'snakier': 19159, 'goon': 19160, 'nsw': 19161, 'mukbang': 19162, 'extrapolate': 19163, '🐇s': 19164, 'oscar': 19165, 'renewed': 19166, 'grille': 19167, 'tonight😊': 19168, 'materialize': 19169, 'feto': 19170, 'apprentice': 19171, 'dindu': 19172, \"nuffin'\": 19173, 'scooting': 19174, 'poot': 19175, 'publicised': 19176, 'claming': 19177, 'dissect': 19178, 'fuckboi': 19179, 'tang': 19180, 'lemons': 19181, 'worcester': 19182, 'derbyshire': 19183, 'chimpanzee': 19184, 'emptiness': 19185, 'reeeeee': 19186, 'tournaments': 19187, 'apostate': 19188, 'junipero': 19189, 'gusto': 19190, 'sensationalism': 19191, 'antwaarps': 19192, 'picasso': 19193, 'bdo': 19194, 'piston': 19195, 'deload': 19196, 'fabulous': 19197, '“right': 19198, 'opinion”': 19199, 'ppg': 19200, 'streamer': 19201, 'commemorating': 19202, 'anuses': 19203, 'milinials': 19204, '20th': 19205, 'tartans': 19206, 'showerer': 19207, 'documented': 19208, 'ww1': 19209, 'first”': 19210, '“we’re': 19211, 'mildlyinfuriating': 19212, 'glowingly': 19213, 'clocking': 19214, 'lodestone': 19215, 'usmc': 19216, 'consumes': 19217, 'crawls': 19218, '60m': 19219, 'botting': 19220, 'sleeps': 19221, 'hissy': 19222, 'immolates': 19223, 'nationals': 19224, 'oodles': 19225, 'grandchildren': 19226, 'gauntlet': 19227, 'plutocracies': 19228, '02': 19229, '“you”': 19230, 'rehearse': 19231, 'improvising': 19232, 'marvin': 19233, \"martian's\": 19234, 'geeked': 19235, 'shit”': 19236, 'poeling': 19237, 'boxy': 19238, 'swill': 19239, 'tempe': 19240, 'instacart': 19241, \"group's\": 19242, '“eats': 19243, 'on”': 19244, 'toulon': 19245, 'stuffs': 19246, 'podesta': 19247, 'nothings': 19248, 'rlly': 19249, 'angina': 19250, 'crease': 19251, 'volantis': 19252, 'nrk': 19253, 'tomahawk': 19254, 'baestok': 19255, 'bighead': 19256, 'cringeworthily': 19257, 'greets': 19258, 'respawn': 19259, '“increasingly': 19260, 'exain': 19261, 'pinkerton': 19262, 'recitation': 19263, 'flummery': 19264, \"guilty'ing\": 19265, 'unparalleled': 19266, 'crytpo': 19267, 'jp': 19268, \"'freedom'\": 19269, 'unpaid': 19270, 'supermarkets': 19271, \"'underprivileged'\": 19272, 'neighborhoods': 19273, 'defenceman': 19274, '3v3': 19275, '8h': 19276, '👍🏼': 19277, '🎣': 19278, 'gammons': 19279, 'tow': 19280, 'wize': 19281, 'oats': 19282, 'proteins': 19283, 'gluten': 19284, 'avenins': 19285, 'ceiliacs': 19286, 'gtav': 19287, 'replayability': 19288, 'unregulated': 19289, 'hogwarts': 19290, '6k': 19291, 'forearm': 19292, 'unrest': 19293, 'trapping': 19294, 'superbowls': 19295, \"o's\": 19296, 'whomst': 19297, 'wales': 19298, 'hardo': 19299, 'posterboy': 19300, 'manchilds': 19301, 'gambol': 19302, 'shroud': 19303, 'gunchucks': 19304, 'llr': 19305, 'dizzy': 19306, 'shames': 19307, 'av': 19308, 'civilian': 19309, 'ostracized': 19310, 'congnitive': 19311, 'jewishness': 19312, 'halakha': 19313, 'megalophobic': 19314, 'sorghum': 19315, 'bravorealhousewives': 19316, 'qwertyuiop': 19317, 'drastic': 19318, 'deservedly': 19319, 'rng': 19320, 'somalian': 19321, '91st': 19322, \"horribly'\": 19323, '“true”': 19324, 'papaoutai': 19325, 'provoking': 19326, 'booted': 19327, '9999': 19328, 'expenditures': 19329, 'revenue': 19330, '£1': 19331, 'dementia': 19332, '750k': 19333, 'punting': 19334, 'prowler': 19335, 'deli': 19336, 'prez': 19337, 'regimen': 19338, 'fgs': 19339, 'paradise': 19340, 'quadrants': 19341, 'utters': 19342, 'wich': 19343, 'psychotic': 19344, 'nuthuggers': 19345, 'ninety': 19346, 'breathed': 19347, 'loooool': 19348, 'xe': 19349, 'layerd': 19350, 'chees': 19351, 'aand': 19352, 'lasagna': 19353, 'resigning': 19354, 'pharisees': 19355, 'opression': 19356, 'eleven': 19357, '52k': 19358, 'techgore': 19359, '🤦🏻\\u200d♀️': 19360, 'geordi': 19361, 'forge': 19362, 'misandrist': 19363, 'counteract': 19364, 'pursuit': 19365, 'shattenkirked': 19366, \"crowd's\": 19367, 'writ': 19368, 'habeas': 19369, 'sophomores': 19370, 'dbpm': 19371, 'obpm': 19372, \"embiid's\": 19373, 'sighed': 19374, 'slumped': 19375, 'fs': 19376, 'sponsorships': 19377, 'catfood': 19378, '“lower': 19379, 'levels”': 19380, 'propoganda': 19381, 'webcam': 19382, 'bish': 19383, 'wheeere': 19384, 'jailor': 19385, 'continously': 19386, 'overground': 19387, 'colby': 19388, 'exaggerated': 19389, '000th': 19390, 'alds': 19391, 'hihihi': 19392, 'saame': 19393, \"hatchet's\": 19394, 'inventory': 19395, 'pasties': 19396, 'cocked': 19397, 'excelerate': 19398, 'outslayed': 19399, 'lashes': 19400, 'vodoo': 19401, 'obtained': 19402, 'diff': 19403, 'hulk': 19404, 'negate': 19405, '👑': 19406, 'glam': 19407, 'abh': 19408, 'you“': 19409, 'albertan': 19410, 'odin': 19411, \"fly's\": 19412, 'madam': 19413, 'yums': 19414, 'stain': 19415, 'mutation': 19416, 'heavysarcasm': 19417, 'coals': 19418, 'rebounds': 19419, 'yank': 19420, '77096': 19421, '‘want’': 19422, 'bleck': 19423, 'wiener': 19424, '“touch': 19425, \"f'n\": 19426, '“contract': 19427, 'hires”': 19428, 'sacrificed': 19429, 'fortunes': 19430, 'awoke': 19431, 'edgewalking': 19432, 'aura': 19433, 'dm’ed': 19434, 'scams': 19435, 'travis': 19436, 'chimp': 19437, 'polyps': 19438, 'enemys': 19439, 'spicey': 19440, 'waaah': 19441, '“wow': 19442, 'sweatie': 19443, 'grits': 19444, 'maple': 19445, \"tim's\": 19446, 'poutine': 19447, 'nanaimo': 19448, \"drummer's\": 19449, 'sotu': 19450, 'uninvite': 19451, 'inhabitants': 19452, 'schnucks': 19453, 'chevron': 19454, 'lynx': 19455, '9pm': 19456, 'nothowlesbianswork': 19457, 'swastikas': 19458, 'footprint': 19459, 'manpower': 19460, 'schmuck': 19461, 'livable': 19462, 'murciélago': 19463, 'cursor': 19464, 'attackers': 19465, 'transferred': 19466, 'ttd': 19467, 'comissar': 19468, 'erm': 19469, '̶d̶u̶t̶c̶h̶': 19470, 'shortsighted': 19471, '€149': 19472, 'fin': 19473, 'uz': 19474, 'lectures': 19475, 'wealthier': 19476, 'puppets': 19477, 'jailable': 19478, 'weebles': 19479, 'afro': 19480, 'samurai': 19481, 'offensively': 19482, \"lifeing'\": 19483, 'derby': 19484, 'harboring': 19485, 'nothingness': 19486, 'dissociated': 19487, 'bf’s': 19488, 'instinctively': 19489, 'deriving': 19490, \"'entertainment'\": 19491, 'bro😭': 19492, 'pinkwashing': 19493, 'repressive': 19494, 'troglodytes': 19495, 'tensions': 19496, 'wireshark': 19497, \"discord's\": 19498, 'to”': 19499, '🤷🏽\\u200d♀️': 19500, 'faggot': 19501, 'sprite': 19502, 'chaser': 19503, 'fraternity': 19504, 'menzingers': 19505, 'thesame': 19506, 'boards': 19507, 'oher': 19508, 'dos': 19509, 'mouthbreathers': 19510, 'pandemic': 19511, 'blockparty': 19512, 'mardis': 19513, '’good’': 19514, 'brianne': 19515, '20mg': 19516, 'munchausen': 19517, 'important”': 19518, 'daddys': 19519, 'else’s': 19520, 'covina': 19521, 'edh': 19522, 'frappuccino': 19523, '“whore”': 19524, 'polygrumps': 19525, 'pompous': 19526, 'botox': 19527, 'fresher': 19528, 'fema': 19529, 'milksmith': 19530, 'griz': 19531, 'zoe': 19532, 'ttgl': 19533, 'fecking': 19534, 'extensively': 19535, 'particulate': 19536, 'humblebrag': 19537, 'conducted': 19538, 'flippant': 19539, 'confiscate': 19540, 'submitter': 19541, 'chalenges': 19542, 'slamming': 19543, 'underlined': 19544, 'squeezed': 19545, 'lime': 19546, 'genoa': 19547, 'sbiii': 19548, 'stim': 19549, 'gged': 19550, 'forty': 19551, 'hiphop': 19552, 'wwes': 19553, 'drain': 19554, 'bazooka': 19555, 'achieving': 19556, 'doug’s': 19557, 'foie': 19558, 'sausages': 19559, '4x': 19560, 'jellies': 19561, 'myslef': 19562, 'jake': 19563, 'soundtracks': 19564, 'fatality': 19565, 'roblox': 19566, 'geriatric': 19567, 'peds': 19568, 'ticking': 19569, 'meepo': 19570, 'chapsticks': 19571, 'lipsticks': 19572, '6lb': 19573, 'kentucky': 19574, 'ached': 19575, '中国人': 19576, 'insisnt': 19577, 'rumored': 19578, 'uhmm': 19579, 'sospaha': 19580, 'harlem': 19581, 'mascots': 19582, 'producing': 19583, 'soray': 19584, 'shr': 19585, 'sprays': 19586, '9999999': 19587, 'soule': 19588, 'littles': 19589, '7grams': 19590, 'lemony': 19591, 'canyons': 19592, 'britsovcit': 19593, '🤢🤢': 19594, 'life😡😡😡😡': 19595, 'pizzeria': 19596, '280': 19597, 'vomited': 19598, 'meadows': 19599, 'darkseid': 19600, 'marred': 19601, 'patiently': 19602, 'afl': 19603, 'mexicare': 19604, 'hopeless': 19605, 'mattresses': 19606, 'museums': 19607, 'delivers': 19608, 'infiltration': 19609, 'bounced': 19610, 'hardwood': 19611, 'fro': 19612, 'generating': 19613, 'vector': 19614, 'latent': 19615, \"beginner's\": 19616, 'vertebrates': 19617, 'lookkit': 19618, 'photergraph': 19619, 'aflw': 19620, 'kidneys': 19621, 'essence': 19622, 'flaw': 19623, 'hammered': 19624, 'greasy”': 19625, 'yayyyy': 19626, 'foray': 19627, 'stos': 19628, 'osrs': 19629, '365': 19630, 'nefarious': 19631, 'organisation': 19632, 'decimate': 19633, 'civilizations': 19634, 'ramble': 19635, 'shortages': 19636, 'tins': 19637, '“dank”': 19638, 'schnee': 19639, 'gatorfan': 19640, 'hawt': 19641, 'stripped': 19642, 'modified': 19643, 'joburg': 19644, 'yanks': 19645, 'spontaneously': 19646, 'hawaii': 19647, 'maui': 19648, 'punt': 19649, '😠': 19650, 'hahahhaha': 19651, '“don’t': 19652, 'dundie': 19653, 'reconcile': 19654, 'explaines': 19655, 'mandy': 19656, 'downsizing': 19657, 'downsizes': 19658, 'attitudes': 19659, 'vilifies': 19660, 'maliciouscompliance': 19661, 'sacrificing': 19662, \"'happiness'\": 19663, 'dreads': 19664, 'colluded': 19665, 'skinner': 19666, 'generously': 19667, 'demanded': 19668, '“metoo”': 19669, 'darude': 19670, 'sixers': 19671, 'gaff': 19672, \"sky's\": 19673, \"''the\": 19674, 'patrols': 19675, 'stainless': 19676, 'grizzlys': 19677, 'parsing': 19678, 'warns': 19679, 'polluted': 19680, 'dookie': 19681, 'artistic': 19682, 'aquemini': 19683, 'collapses': 19684, 'midget': 19685, 'inexpensive': 19686, '👑🔥': 19687, \"salary's\": 19688, 'whites': 19689, 'hahhhaaaaaaa': 19690, 'hoe': 19691, 'flattened': 19692, 'fogerty': 19693, 'axedwarve': 19694, 'combo’s': 19695, 'indoctrination': 19696, 'grouchy': 19697, \"grey's\": 19698, 'rigging': 19699, 'msnbc': 19700, 'braved': 19701, \"farmers'\": 19702, 'nostrils': 19703, 'logos': 19704, 'razz': 19705, 'snowblower': 19706, 'out”': 19707, 'magnitudes': 19708, 'snippets': 19709, 'runningmate': 19710, 'migrants': 19711, 'demean': 19712, 'blameless': 19713, 'onchain': 19714, 'throughput': 19715, 'detatched': 19716, '2healthbars': 19717, 'guntards': 19718, 'enthusiastic': 19719, 'volsksya': 19720, 'mam2': 19721, 'minarchists': 19722, 'brosky': 19723, 'tinker': 19724, 'oughtta': 19725, 'helluva': 19726, '“who': 19727, 'june”': 19728, 'bandwagoner': 19729, 'sneakier': 19730, 'rested': 19731, 'takers': 19732, 'suzuki': 19733, '40’': 19734, 'saigon': 19735, 'orient': 19736, 'r6': 19737, 'ringzzz': 19738, 'pua': 19739, '“huurr': 19740, 'duuur': 19741, 'drumpftard”': 19742, 'aouar': 19743, 'visuals': 19744, 'upong': 19745, 'assertive': 19746, 'rotate': 19747, 'unsheathes': 19748, 'degenerates': 19749, 'subvert': 19750, 'prods': 19751, 'reptilian': 19752, 'manifested': 19753, 'prediction': 19754, 'earths': 19755, 'ogre': 19756, 'fsct': 19757, 'squish': 19758, 'screwball': 19759, 'semite': 19760, 'engaging': 19761, 'emp': 19762, 'murakami': 19763, 'upheld': 19764, 'refunds': 19765, 'virtus': 19766, 'whispered': 19767, 'depressants': 19768, 'quarterly': 19769, 'humiliating': 19770, '“rethuglican”': 19771, 'summarise': 19772, 'plushies': 19773, 'pushy': 19774, 'waiter': 19775, 'derives': 19776, 'retweets': 19777, 'magnum': 19778, 'martyring': 19779, 'ravens': 19780, '“know”': 19781, 'bnever': 19782, 'sweating': 19783, \"rockin'\": 19784, 'boh': 19785, 'omgg': 19786, 'stumbled': 19787, 'youuuuu': 19788, 'imprison': 19789, \"x's\": 19790, \"y's\": 19791, 'barreling': 19792, 'unaffected': 19793, 'stanich’s': 19794, '2019😂': 19795, 'radiotherapy': 19796, '7k': 19797, 'darl': 19798, 'boos': 19799, 'mtl': 19800, 'canine': 19801, 'flatten': 19802, 'much❤': 19803, 'stirred': 19804, 'unblockables': 19805, 'bernabeu': 19806, 'writting': 19807, 'dryer': 19808, 'whit': 19809, 'overhyped': 19810, 'khl': 19811, '“…don’t': 19812, 'pog': 19813, 'hispanic': 19814, 'cita': 19815, 'perlas': 19816, 'cañas': 19817, 'nitro': 19818, 'marbles': 19819, 'hahoo': 19820, 'grownup': 19821, 'gunslinger': 19822, 'yesyeesyesyesnooooo': 19823, 'protocols': 19824, 'columbia': 19825, 'allowance': 19826, '“keep': 19827, 'nothin”': 19828, 'persian': 19829, 'sorosbux': 19830, 'dealerships': 19831, 'snoot': 19832, 'keyboards': 19833, '60€': 19834, 'switches': 19835, 'nkro': 19836, 'suguesstions': 19837, 'badmouthing': 19838, 'lifetimes': 19839, 'broski': 19840, 'psychedelic': 19841, 'compromised': 19842, 'caveman': 19843, 'facetune': 19844, 'usurperrebellion': 19845, 'pothole': 19846, 'inertial': 19847, 'quickness': 19848, 'assignments': 19849, 'feelsbadman': 19850, 'cussed': 19851, '“koons”': 19852, 'lps': 19853, 'agitprop': 19854, 'pivoting': 19855, 'sweetened': 19856, 'shoved': 19857, 'gilmour': 19858, 'sittler': 19859, 'salming': 19860, 'salesperson': 19861, 'pve': 19862, 'celebration': 19863, 'freshly': 19864, 'eros': 19865, 'inserts': 19866, 'breathes': 19867, 'swirling': 19868, 'slaying': 19869, 'cobbobles': 19870, 'canons': 19871, 'whoppers': 19872, 'lma0': 19873, '22tcm': 19874, 'armscor': 19875, '1m': 19876, 'lotteries': 19877, 'collar': 19878, 'spores': 19879, 'dieded': 19880, '“should': 19881, 'baby”': 19882, '😂💛': 19883, 'noveau': 19884, 'riche': 19885, \"'the\": 19886, \"rudest'\": 19887, 'zombey': 19888, 'lasting': 19889, 'collegehumor': 19890, 'slashes': 19891, 'italicize': 19892, 'petunias': 19893, 'bunnings': 19894, 'rpg': 19895, 'clashing': 19896, 'giggled': 19897, 'intersect': 19898, '“hzuh”': 19899, 'vine': 19900, \"'some'\": 19901, 'buttlicker': 19902, 'hoover': 19903, '5l': 19904, 'lambasted': 19905, 'theorists': 19906, 'ag': 19907, 'mgm': 19908, 'volcel': 19909, 'centric': 19910, 'suckle': 19911, 'umpire': 19912, 'why’s': 19913, 'mishearing': 19914, '‘starch’': 19915, '‘staunch’': 19916, 'mooching': 19917, 'freeloader': 19918, 'flagged': 19919, '“meta': 19920, 'femshaming': 19921, 'sociable': 19922, 'chump': 19923, 'weslayan': 19924, 'slaps': 19925, 'slapshots': 19926, 'fts': 19927, '“perhaps': 19928, 'tray': 19929, 'twinkies': 19930, '“park”': 19931, 'comprehending': 19932, 'momforaminute': 19933, 'nothin': 19934, 'das': 19935, '350m': 19936, 'congenital': 19937, 'defects': 19938, 'reek': 19939, 'n8': 19940, 'unionize': 19941, 'torch': 19942, 'ozone': 19943, 'ultraviolet': 19944, 'akot': 19945, 'flight2': 19946, '9er': 19947, 'seduce': 19948, 'bowed': 19949, 'mattifying': 19950, 'termites': 19951, '“ohmygawd': 19952, 'receipt': 19953, 'boiledchickenleg': 19954, 'scrolly': 19955, 'wowwww': 19956, 'insadtinens': 19957, 'robocoughs': 19958, 'robocough': 19959, 'sou': 19960, 'heathen': 19961, 'consolation': 19962, 'fuuuuuuuuuuuuuuuuuuuuuuuuuuuuuuuuuuuuuuuuuuuuuuuuuuuuuuuuuuuuuuuuuuuuuuuuck': 19963, 'swallowed': 19964, 'chug': 19965, 'punking': 19966, 'chloroform': 19967, 'eo': 19968, 'theology': 19969, 'dogma': 19970, '“sis”': 19971, 'beetles': 19972, '60s': 19973, 'beagles': 19974, 'attorneys': 19975, 'glare': 19976, 'jesuschristreddit': 19977, 'brothel': 19978, 'laver': 19979, '😢😭': 19980, 'mauve': 19981, 'alongside': 19982, 'introversion': 19983, 'booooooooom': 19984, \"'76\": 19985, 'consequence': 19986, 'huntch': 19987, \"effin'\": 19988, 'danganronpa': 19989, 'hacker': 19990, 'charas': 19991, '✨': 19992, 'incivility': 19993, 'decorum': 19994, 'ffe': 19995, 'resuscitated': 19996, \"criticize'\": 19997, 'soothing': 19998, 'danm': 19999, 'squeaking': 20000, 'moneys': 20001, 'childbrain': 20002, 'merchant': 20003, 'erc20': 20004, 'papi': 20005, 'chunks': 20006, 'kleber': 20007, 'scalie': 20008, 'gmilf': 20009, 'pease': 20010, \"'h'\": 20011, 'decreasing': 20012, 'burbs': 20013, 'playdespacito': 20014, 'supermax': 20015, 'forfeits': 20016, '“jinkies': 20017, 'unmasking': 20018, 'nyeeeeeeeeh': 20019, 'rimiru': 20020, 'krazym': 20021, 'bulldogs': 20022, \"nephew's\": 20023, \"cousin's\": 20024, 'clg': 20025, 'dunkin': 20026, 'necaxa': 20027, 'postponed': 20028, 'jornada': 20029, '30m': 20030, '7m': 20031, '“apple': 20032, 'yous': 20033, 'extermination': 20034, 'adapt': 20035, 'subban': 20036, '“40': 20037, 'fat”': 20038, '😜': 20039, 'whirlpool': 20040, '3more': 20041, 'qt': 20042, 'cashier': 20043, 'badwomensanatomy': 20044, 'convienently': 20045, 'adapter': 20046, 'headphone': 20047, 'aux': 20048, 'trespass': 20049, 'nirvana': 20050, 'underratedly': 20051, 'seeeee': 20052, 'coloureds': 20053, '🎶hello': 20054, 'contemplating': 20055, 'tlm': 20056, 'massacred': 20057, 'numero': 20058, 'uno': 20059, 'sponge': 20060, 'blurb': 20061, 'quaw': 20062, 'gurr': 20063, 'schottenheimer': 20064, 'cuah': 20065, 'eldery': 20066, 'greats': 20067, \"simon's\": 20068, 'merino': 20069, 'dongphuongdriver': 20070, 'teamates': 20071, 'kiwi': 20072, 'raid': 20073, 'irritant': 20074, 'marries': 20075, '😂😂👸👸👏🙌👏🙌❤❤❤💥💥👑👑💎💎💯💯♀️♀️♀️': 20076, 'hallway': 20077, 'damns': 20078, 'wcape': 20079, \"damn's\": 20080, 'feelsgoodman': 20081, 'ecf': 20082, 'tftfd': 20083, 'laop': 20084, 'askhotel': 20085, 'arghh': 20086, 'tippex': 20087, 'outoftheloop': 20088, 'kirby': 20089, 'grouping': 20090, 'exporters': 20091, 'reverberate': 20092, 'introspection': 20093, \"dio's\": 20094, 'bodily': 20095, 'autonomy': 20096, 'again”': 20097, 'broooooo': 20098, 'earthbound': 20099, \"there'd\": 20100, 'c9': 20101, 'manchildren': 20102, 'shew': 20103, 'fft': 20104, 'gardnier': 20105, 'heath': 20106, 'harper': 20107, 'ensues': 20108, 'understate': 20109, 'cockblocked': 20110, 'guysndont': 20111, 'youand': 20112, 'yaor': 20113, 'nile': 20114, 'hipototam': 20115, 'lanef': 20116, 'soon™': 20117, 'somers': 20118, 'bougie': 20119, 'mansfield': 20120, 'rusher': 20121, 'gothic': 20122, 'panache': 20123, '10m': 20124, 'elsagate': 20125, 'pranks': 20126, 'terrifies': 20127, 'sharer': 20128, 'cloning': 20129, 'sensitivity': 20130, 'cheapskate': 20131, \"lord's\": 20132, 'ladles': 20133, 'scenery': 20134, 'shugoki': 20135, 'nausea': 20136, 'kewpie': 20137, 'makeout': 20138, 'sluts': 20139, 'comforted': 20140, 'dinners': 20141, 'stuns': 20142, 'nades': 20143, 'sacramento': 20144, 'editions': 20145, 'cinder': 20146, \"3'\": 20147, 'wipes': 20148, 'mri': 20149, 'ultrasound': 20150, '4yo': 20151, 'cyperpunk': 20152, 'idealist': 20153, 'iddal': 20154, 'mean”': 20155, '“here': 20156, 'nitwit': 20157, 'luring': 20158, 'diabolic': 20159, 'reasona': 20160, 'kola': 20161, 'sentencing': 20162, 'lacing': 20163, 'moneybags': 20164, 'wool': 20165, '💛': 20166, \"'at\": 20167, \"all'\": 20168, 'curiously': 20169, 'kernel': 20170, 'plowing': 20171, 'fateful': 20172, 'astrokatie': 20173, 'nods': 20174, 'presuming': 20175, 'lenses': 20176, 'grips': 20177, 'applicators': 20178, 'preaches': 20179, 'adheres': 20180, 'shortcuts': 20181, 'gooed': 20182, 'clippings': 20183, 'fessing': 20184, 'unites': 20185, 'grandkids': 20186, 'cup”': 20187, 'flinched': 20188, 'climates': 20189, 'expansive': 20190, 'manufacture': 20191, 'familymembers': 20192, 'back”': 20193, 'wonderlic': 20194, 'rfm': 20195, 'safes': 20196, 'arks': 20197, 'schoolboy': 20198, \"d'oh\": 20199, '1970': 20200, 'babcuck': 20201, 'chatty': 20202, 'bowler': 20203, 'hitter': 20204, 'cant’t': 20205, 'flavored': 20206, 'maiming': 20207, 'uptight': 20208, 'hoes': 20209, 'hov': 20210, 'eyeshield': 20211, 'rudi': 20212, 'contenting': 20213, 'lucked': 20214, 'knotty': 20215, 'tidings': 20216, 'hare': 20217, 'overdramatic': 20218, 'replacements': 20219, 'infuriate': 20220, 'quoted': 20221, 'lightwaves': 20222, 'mover': 20223, 'democracies': 20224, 'overcrowded': 20225, 'fullest': 20226, 'binding': 20227, '700': 20228, 'middleman': 20229, 'xdd': 20230, 'notif': 20231, 'clipping': 20232, 'encountering': 20233, 'lmgs': 20234, 'papillon': 20235, '640': 20236, 'papermill': 20237, 'morbidly': 20238, 'tua': 20239, 'thnx': 20240, '‘centrism’': 20241, 'amount”': 20242, 'dumbstruck': 20243, 'clocked': 20244, 'frothing': 20245, 'husbando': 20246, 'screencap': 20247, 'seaton': 20248, 'okbuddyretard': 20249, 'impulsiveness': 20250, 'craziness': 20251, 'undying': 20252, 'thirst': 20253, 'camela': 20254, 'swordfish': 20255, 'amusingly': 20256, 'descendant': 20257, 'almighty': 20258, 'invaluable': 20259, 'normgod': 20260, 'slay': 20261, 'raditz': 20262, 'debunk': 20263, 'aub': 20264, 'submarine': 20265, 'overflowed': 20266, 'guestomer': 20267, 'showered': 20268, 'molested': 20269, 'sailed': 20270, \"cops'\": 20271, 'ilegal': 20272, 'kaaba': 20273, 'detroyed': 20274, \"'scared\": 20275, \"straight'\": 20276, 'bitten': 20277, 'yellowstone': 20278, 'junko': 20279, 'carcinogens': 20280, 'deathmatch': 20281, 'fallible': 20282, 'pantie': 20283, 'bango': 20284, 'emulate': 20285, 'imitate': 20286, 'cle': 20287, 'listener': 20288, 'urinal': 20289, 'projectile': 20290, 'pensacola': 20291, 'separatism': 20292, 'defer': 20293, 'squeal': 20294, 'kindest': 20295, 'unfit': 20296, 'scandals': 20297, 'distractions': 20298, 'damascus': 20299, 'rented': 20300, 'resonate': 20301, 'succinctly': 20302, 'trager': 20303, 'broaden': 20304, 'assuring': 20305, 'yap': 20306, 'isuka': 20307, '8t': 20308, \"mum's\": 20309, 'filtered': 20310, 'shadowbanned': 20311, 'detest': 20312, \"'glass\": 20313, \"full'\": 20314, \"on't\": 20315, 'ninjas': 20316, 'shelf': 20317, 'polygamy': 20318, '😩😭😭😭🍧': 20319, 'noggin': 20320, 'got😂😂': 20321, 'dosing': 20322, 'filibustered': 20323, 'plagues': 20324, 'bharlie': 20325, 'lounge': 20326, 'lite': 20327, 'buttcoiner': 20328, '❤️🧡💛💚💙💜': 20329, 'invaded': 20330, 'roku': 20331, 'dashers': 20332, 'cultivate': 20333, 'genetically': 20334, 'rantsfromretail': 20335, 'regognize': 20336, 'governance': 20337, 'dribbles': 20338, 'softly': 20339, 'refuel': 20340, '“hurrrr': 20341, 'smh”': 20342, 'erroneous': 20343, 'cevs': 20344, 'obes': 20345, 'reconnect': 20346, 'bloodpoints': 20347, 'prework': 20348, 'nowish': 20349, 'uranium': 20350, 'unscandal': 20351, 'bilingual': 20352, 'dw': 20353, 'vgbc': 20354, 'yearly': 20355, 'umra': 20356, 'haj': 20357, 'mouthful': 20358, 'sweetener': 20359, 'americas': 20360, 'embarrasses': 20361, '“earlier”': 20362, 'fino': 20363, 'vista': 20364, 'dbz': 20365, 'resurrection': 20366, 'freeza': 20367, 'broly': 20368, 'smol': 20369, 'loubs': 20370, 'glee': 20371, 'userbase': 20372, 'roadblocks': 20373, 'scooping': 20374, 'allistic': 20375, 'crank': 20376, 'wealthiest': 20377, '“a': 20378, 'crime”': 20379, 'plumlee': 20380, 'nnevada': 20381, 'nv': 20382, 'curated': 20383, 'aghh': 20384, 'dirtiness': 20385, 'muddy': 20386, 'bluray': 20387, 'menus': 20388, 'spinners': 20389, 'bbw': 20390, 'preconceived': 20391, 'whatapp': 20392, 'heartache': 20393, 'rakes': 20394, '情': 20395, 'choco': 20396, 'heartiest': 20397, 'summoned': 20398, 'ambulances': 20399, 'dent': 20400, 'injected': 20401, 'bloodstream': 20402, 'esl': 20403, 'invites': 20404, 'instil': 20405, 'oncologist': 20406, 'mils': 20407, 'symbolically': 20408, \"'blanket'\": 20409, 'decompose': 20410, 'nutters': 20411, 'cnd': 20412, 'juancho': 20413, 'disbelieve': 20414, 'funwaa': 20415, 'organizing': 20416, 'artic': 20417, 'usernames': 20418, 'dukes': 20419, 'violently': 20420, 'restrained': 20421, 'arbiter': 20422, 'brokenmachine': 20423, 'ahahahahahaha': 20424, 'trashiest': 20425, 'detroit”': 20426, 'drow': 20427, 'explanations': 20428, 'narwahl': 20429, 'enticed': 20430, 'belgrade': 20431, 'stache': 20432, 'uptick': 20433, '50c': 20434, 'errrrr': 20435, 'stacks': 20436, 'ltd': 20437, 'divorcing': 20438, 'tryptan': 20439, 'bfqoe': 20440, 'depiction': 20441, 'famines': 20442, 'brits': 20443, 'constituency': 20444, 'coordinates': 20445, \"bestie's\": 20446, 'rugrat': 20447, 'givining': 20448, 'sweeping': 20449, 'establishes': 20450, 'dead™️': 20451, 'ballistic': 20452, 'tssc': 20453, 'acc': 20454, 'pudge': 20455, 'sarcastically': 20456, 'tgr': 20457, 'fraudedbytlc': 20458, 'proliferation': 20459, 'glider': 20460, '880': 20461, 'xiv': 20462, 'buckhead': 20463, 'mags': 20464, 'praising': 20465, 'busan': 20466, 'exportable': 20467, 'csv': 20468, 'github': 20469, 'contributions': 20470, 'decimated': 20471, 'rotties': 20472, 'frink': 20473, \"where'd\": 20474, 'apologies”': 20475, 'validity': 20476, 'pitchfork': 20477, 'tarred': 20478, 'feathered': 20479, 'sufficed': 20480, 'changemyview': 20481, 'lifted': 20482, 'reigning': 20483, 'gsw': 20484, 'tor': 20485, 'unrighteous': 20486, 'poser': 20487, '“guess': 20488, '“walking”': 20489, 'jaeger': 20490, \"wont'\": 20491, 'symfuhny': 20492, '“social”': 20493, 'tbag': 20494, 'mebtally': 20495, 'pouting': 20496, 'reluctantly': 20497, 'contradiction': 20498, 'buyin': 20499, 'flatter': 20500, 'beaus': 20501, 'diverts': 20502, 'recieved': 20503, 'playerbase': 20504, 'androgynous': 20505, 'fustrated': 20506, 'minoring': 20507, 'beautiful”': 20508, 'comin’': 20509, 'cyvasse': 20510, 'makeupmaxxing': 20511, 'rapporteur': 20512, 'gloat': 20513, \"stanley's\": 20514, 'womens': 20515, 'arousal': 20516, 'pervasive': 20517, 'antisemetism': 20518, 'childcare': 20519, 'flung': 20520, 'offhand': 20521, '350k': 20522, 'groan': 20523, 'perfects': 20524, 'eggshells': 20525, 'credibility': 20526, 'scissor': 20527, 'loonbag': 20528, 'grove': 20529, 'aficionado': 20530, 'majors': 20531, 'gholston': 20532, 'whitehouse': 20533, 'coats': 20534, 'oversharing': 20535, 'stape': 20536, 'inshot': 20537, 'disbelieved': 20538, 'reassigned': 20539, '839': 20540, 'jse': 20541, 'cantttt😭😭😭': 20542, 'oldpeoplereddit': 20543, 'likebigbuttons': 20544, '🇲🇫': 20545, 'napkin': 20546, 'catnip': 20547, 'hibernate': 20548, 'justifies': 20549, 'adulterers': 20550, 'barron': 20551, 'citing': 20552, 'fecker': 20553, 'pe': 20554, 'hahahhahahaha': 20555, 'worcestershire': 20556, 'cinemas': 20557, 'smoky': 20558, 'cm': 20559, 'rectum': 20560, 'waits': 20561, 'soundly': 20562, 'frye': 20563, 'styro': 20564, 'hannibal': 20565, 'cooper': 20566, '511': 20567, 'delsym': 20568, 'ideological': 20569, 'cheezit': 20570, 'slw': 20571, 'exited': 20572, 'acuity': 20573, 'analogues': 20574, 'epoxy': 20575, 'prefix': 20576, 'kaigai': 20577, '🔥🚒': 20578, 'sthaaaaap': 20579, 'glassdoor': 20580, 'alones': 20581, 'pregame': 20582, 'stilling': 20583, \"'dynasties'\": 20584, 'marsh': 20585, 'knooooow': 20586, 'splashes': 20587, 'girlyboy': 20588, 'pll': 20589, 'whooo': 20590, 'oooooohhhh': 20591, 'pushit': 20592, 'earning': 20593, 'commuting': 20594, 'tiara': 20595, 'shivering': 20596, 'methed': 20597, 'gulf': 20598, 'supposes': 20599, 'weltham': 20600, 'txs': 20601, 'deserted': 20602, 'fitter': 20603, 'futurescope': 20604, 'floats': 20605, 'brasileiro': 20606, 'notoriously': 20607, 'smeegle': 20608, '“since': 20609, 'who’d': 20610, 'cyclones': 20611, 'aggressiveness': 20612, 'memo': 20613, 'electricity': 20614, 'stoned\\u200d♂️': 20615, 'lunchbreak': 20616, 'rebuilt': 20617, 'annihilated': 20618, 'sharpen': 20619, 'mohaa': 20620, 'fluoro': 20621, 'goody': 20622, 'hagelin': 20623, 'tetch·y': 20624, 'ˈtechē': 20625, 'adjective': 20626, 'tempered': 20627, 'irritable': 20628, 'tetchy': 20629, 'coached': 20630, 'daaaaannnnnggggg': 20631, 'baba': 20632, 'yaga': 20633, 'saturation': 20634, 'displaying': 20635, \"'wall\": 20636, \"text'\": 20637, 'inert': 20638, 'barge': 20639, 'hauling': 20640, 'pupil': 20641, 'determination💪💯': 20642, 'jumpscare': 20643, 'startling': 20644, 'defensemen': 20645, 'sauced': 20646, 'dill': 20647, 'dipping': 20648, 'meeeeeeeee': 20649, 'stutter': 20650, 'mistype': 20651, 'autobreaking': 20652, 'autobraking': 20653, 'flora': 20654, 'fauna': 20655, 'nonpaywalled': 20656, 'curves': 20657, 'newsroom': 20658, 'da’ts': 20659, 'sniped': 20660, 'auction': 20661, 'semiauto': 20662, 'persuade': 20663, 'dubai': 20664, 'negotiating': 20665, 'cambodian': 20666, 'soundbytes': 20667, '“fiancé': 20668, 'cabs': 20669, 'simplest': 20670, 'evennabout': 20671, \"tonight'\": 20672, 'goodest': 20673, 'jellyjellyspace': 20674, 'loitering': 20675, 'stu': 20676, 'fq': 20677, 'pob': 20678, 'sifu': 20679, 'bitchass': 20680, \"jet's\": 20681, 'hypes': 20682, '“rivalry': 20683, 'game”': 20684, 'doobie': 20685, 'buffett': 20686, 'benz': 20687, 'downstairs': 20688, '👏love': 20689, '👏pat': 20690, '👏c': 20691, '👏and': 20692, '👏we': 20693, '👏don’t': 20694, '👏care': 20695, '👏who': 20696, '👏knows': 20697, 'guendouzi': 20698, 'brilliantly': 20699, 'weirds': 20700, 'aussie': 20701, 'enlisted': 20702, '‘lol': 20703, 'right’': 20704, 'shonan': 20705, 'one”': 20706, 'swimmer': 20707, '🏊\\u200d♂️🏊\\u200d♂️🏊\\u200d♂️🏊\\u200d♂️💪🏼': 20708, 'revlon': 20709, 'cuticle': 20710, 'jojoba': 20711, '💁': 20712, 'incorporate': 20713, 'buting': 20714, 'strang': 20715, 'squeezing': 20716, 'thlassaphobia': 20717, \"want's\": 20718, 'squeeky': 20719, 'rasty': 20720, 'grungy': 20721, 'f3': 20722, '개인면허': 20723, '1억': 20724, 'schoolers': 20725, 'plotting': 20726, 'dichotomy': 20727, 'freezer': 20728, 'tmz': 20729, 'gtao': 20730, 'sleepovers': 20731, '“technically': 20732, 'today”': 20733, '01am': 20734, 'coonowrin': 20735, 'repo': 20736, 'hockeymod': 20737, 'arresting': 20738, 'u2': 20739, 'worshipped': 20740, 'thankkks': 20741, 'whatsapp': 20742, 'dday': 20743, 'argentinian': 20744, 'ut': 20745, 'pawnshop': 20746, 'sdas': 20747, 'dealings': 20748, 'rhi': 20749, 'porcelain': 20750, 'shaven': 20751, 'wowing': 20752, 'gibbed': 20753, 'extractor': 20754, 'files': 20755, 'philebus': 20756, 'generals': 20757, 'entre': 20758, 'comedians': 20759, 'dug': 20760, 'stepchild’s': 20761, 'pg': 20762, 'mpg': 20763, 'bumbling': 20764, 'emigrant': 20765, 'lvp': 20766, 'propping': 20767, \"beetle's\": 20768, 'scarecrow': 20769, 'absolueltey': 20770, 'prioritize': 20771, 'scrolls': 20772, 'gatherers': 20773, 'endured': 20774, 'scaredy': 20775, 'outvalue': 20776, 'output': 20777, 'rallying': 20778, 'outfielder': 20779, 'calmed': 20780, \"typo'd\": 20781, '“10”': 20782, 'artosis': 20783, 'incipient': 20784, 'antivaxx': 20785, 'lobbying': 20786, '😹': 20787, 'lucidity': 20788, 'verizon': 20789, 'cringing': 20790, 'whippersnappers': 20791, 'gapping': 20792, 'rateme': 20793, 'dashboard': 20794, 'zappacosta': 20795, 'whitey': 20796, 'shaun': 20797, 'blot': 20798, 'bartend': 20799, 'hijacking': 20800, 'llike': 20801, 'candles': 20802, 'cod4': 20803, 'qualifiers': 20804, 'neato': 20805, '30yo': 20806, 'dire': 20807, 'straits': 20808, 'prooobably': 20809, 'porthole': 20810, 'feline': 20811, 'defective': 20812, 'sssssssssssssssssssssssssssss': 20813, 'cutthroat': 20814, 'bunny’s': 20815, 'gagging': 20816, 'fuuuuuuuck': 20817, 'realisation': 20818, 'ds9': 20819, 'loaning': 20820, 'unqualified': 20821, 'all’s': 20822, 'ginormous': 20823, 'thump': 20824, 'bartending': 20825, 'roadcam': 20826, 'hikes': 20827, 'camelback': 20828, 'prophesy': 20829, 'rod': 20830, 'aphro': 20831, 'tba': 20832, 'rupaul': 20833, 'contestant': 20834, 'dayssssss': 20835, '1954': 20836, 'bagsy': 20837, 'residences': 20838, 'templates': 20839, 'chabot': 20840, 'unengaging': 20841, 'gw': 20842, 'fg': 20843, 'brightest': 20844, 'tumble': 20845, 'cushy': 20846, 'probaby': 20847, 'diety': 20848, 'marginalize': 20849, 'spooked': 20850, 'daaaamn': 20851, 'tenure…ridiculous': 20852, 'hamstering': 20853, 'invitation': 20854, 'gsc': 20855, 'lighthouses': 20856, 'ornaments': 20857, 'conceive': 20858, 'prosecutor': 20859, 'mmh': 20860, 'binders': 20861, 'streamlabs': 20862, 'nl': 20863, 'bluuuuuururrrrrrrghhhhh': 20864, 'whyyyyyyy': 20865, 'snowbank': 20866, 'termination': 20867, 'epoch': 20868, 'fir': 20869, 'crating': 20870, 'roomates': 20871, 'opposes': 20872, \"west's\": 20873, 'regimes': 20874, 'maddox': 20875, 'niice': 20876, 'haaaa': 20877, 'alamogordo': 20878, 'criminals': 20879, 'insofar': 20880, 'sapphic': 20881, 'enrolled': 20882, 'bowser’s': 20883, 'mu': 20884, 'fakenews': 20885, 'decorate': 20886, 'jamaica': 20887, 'meade': 20888, 'highlands': 20889, 'therapeutic': 20890, 'toaster': 20891, 'hahaahahaaha': 20892, 'hunter': 20893, \"thank's\": 20894, 'wuts': 20895, 'soooooooooooooooooooooooooooooooooooooooooon': 20896, 'psi': 20897, 'kitkats': 20898, 'sortable': 20899, 'sycamore': 20900, 'ux': 20901, '😭i': 20902, 'scraggly': 20903, 'cruiser': 20904, 'misrepresenting': 20905, 'publication': 20906, 'indecisive': 20907, 'rang': 20908, 'pokebugs': 20909, 'maut': 20910, \"'you'\": 20911, 'affiant': 20912, 'credentialing': 20913, 'relieving': 20914, 'consist': 20915, 'shaker': 20916, 'parmesan': 20917, 'recognised': 20918, 'gyroball': 20919, '“habit”': 20920, 'obvs': 20921, 'naxxramas': 20922, 'wotlk': 20923, 'craftsmen': 20924, 'kettles': 20925, '“old': 20926, 'lady”': 20927, 'proclaim': 20928, 'watchmen': 20929, 'vancomycin': 20930, 'capitalize': 20931, 'rivals’': 20932, 'weeds': 20933, 'artistically': 20934, 'canal': 20935, 'hinting': 20936, 'sheikh': 20937, 'creepily': 20938, 'wed': 20939, 'reproduced': 20940, 'ae': 20941, 'carbs': 20942, 'ehhhh': 20943, 'embargo': 20944, '“fans”': 20945, 'jackin’': 20946, 'useable': 20947, 'dinnnner': 20948, 'whines': 20949, 'brogressive': 20950, 'ncaaw': 20951, 'hooks': 20952, 'pubescent': 20953, 'progressivism': 20954, 'slavers': 20955, '79k': 20956, 'part🤣': 20957, 'killem': 20958, 'nyy': 20959, 'charlkboard': 20960, 'ratfucked': 20961, 'propagandists': 20962, 'pretry': 20963, 'actualize': 20964, 'subversion': 20965, 'disgraced': 20966, 'dunedin': 20967, 'probe': 20968, 'cyrillic': 20969, 'giveaways': 20970, 'geuss': 20971, 'shitttt': 20972, 'urgency': 20973, 'gridlock': 20974, 'govern': 20975, 'others’': 20976, 'dodo': 20977, 'entrepreneurship': 20978, 'condos': 20979, 'soaring': 20980, 'registration': 20981, 'reallly': 20982, 'motherland': 20983, 'aaaaand': 20984, 'youareapooptard': 20985, 'retested': 20986, 'revaccinated': 20987, 'monte': 20988, 'skyrocketed': 20989, '“allergic”': 20990, 'motherloving': 20991, 'blower': 20992, 'wiser': 20993, 'gdmnit': 20994, 'skyzone': 20995, 'schizophrenic': 20996, 'medley': 20997, 'suddenlytrans': 20998, 'fright': 20999, 'abults': 21000, 'resulting': 21001, 'fuckballs': 21002, 'monk': 21003, 'baggage': 21004, 'calligraphy': 21005, 'inerrancy': 21006, 'invalidate': 21007, 'pinot': 21008, 'grigio': 21009, 'deliriously': 21010, 'gainfully': 21011, 'societal': 21012, 'ssp': 21013, '505': 21014, 'vamos': 21015, 'perceive': 21016, 'honking': 21017, 'hulp': 21018, 'concentrations': 21019, 'dealership': 21020, 'surname': 21021, '003': 21022, 'hoody': 21023, 'ri': 21024, 'atypical': 21025, 'expressive': 21026, 'settles': 21027, 'tiles': 21028, 'circumcized': 21029, 'bashed': 21030, 'moustache': 21031, '17hmr': 21032, 'sriracha': 21033, 'gochujang': 21034, 'avatars': 21035, 'millsbury': 21036, 'tribalistic': 21037, 'averaging': 21038, 'dystopian': 21039, 'electoral': 21040, 'strongholds': 21041, 'disobey': 21042, 'westbank': 21043, 'edd': 21044, 'eddy': 21045, 'wrestlemania': 21046, 'sudbury': 21047, 'nipigon': 21048, 'ferrah': 21049, 'shafting': 21050, 'tellius': 21051, 'epidemic': 21052, 'contributes': 21053, 'teva': 21054, 'itch': 21055, 'io': 21056, 'gog': 21057, 'minefield': 21058, 'kerastase': 21059, 'redken': 21060, 'siwa': 21061, 'diddy': 21062, 'racing': 21063, 'wraps': 21064, 'gd': 21065, '😁😁': 21066, '“carpenter': 21067, 'awful”': 21068, '“literally”': 21069, '“big': 21070, 'word”': 21071, 'decoder': 21072, 'taboo': 21073, 'hypergamous': 21074, 'nalgene': 21075, 'seating': 21076, 'regions': 21077, 'vary': 21078, 'frummies': 21079, 'overpayment': 21080, 'beverages': 21081, 'helplessly': 21082, 'cro': 21083, 'magnons': 21084, 'neanderthal': 21085, 'spouted': 21086, 'arrowverse': 21087, 'mow': 21088, 'streets”': 21089, 'perioded': 21090, 'crayfish': 21091, 'detector': 21092, '6000€': 21093, 'toupee': 21094, 'thissss': 21095, 'dbfz': 21096, 'coulda': 21097, 'toomeirlformeirl': 21098, 'looooong': 21099, '1926': 21100, 'falafel': 21101, 'dearborn': 21102, 'butterflied': 21103, 'nora': 21104, 'satellite': 21105, 'margins': 21106, \"3200'ish\": 21107, 'unalienable': 21108, \"w'all\": 21109, 'ramadan': 21110, 'sunnah': 21111, 'bojack': 21112, 'horseman': 21113, 'bf3': 21114, 'strafe': 21115, 'allegation': 21116, 'journaling': 21117, 'anecdotal': 21118, '🔑': 21119, 'estranged': 21120, 'midol': 21121, 'mapping': 21122, 'frend': 21123, 'covergirl': 21124, 'sts': 21125, 'thronebreaker': 21126, 'singeplayer': 21127, 'particles': 21128, 'infiltrated': 21129, 'impersonification': 21130, 'mmmmmmm': 21131, 'chemlights': 21132, 'exhilirating': 21133, 'pinnacle': 21134, 'untethered': 21135, 'indiscriminately': 21136, '68': 21137, 'sew': 21138, 'cockholster': 21139, 'blackweb': 21140, 'protectors': 21141, 'ocarina': 21142, 'coiffeuse': 21143, 'smashmouth': 21144, 'onward': 21145, 'upward': 21146, 'crazies': 21147, 'maserati': 21148, 'lilo': 21149, 'dater': 21150, 'riiiicchhh': 21151, 'byyiiitttcchhh': 21152, 'broadcasting': 21153, 'talkshow': 21154, 'rattle': 21155, 'molester': 21156, 'prepares': 21157, 'ma’am': 21158, 'nationalist': 21159, 'disputatious': 21160, 'inclement': 21161, 'autocorret': 21162, 'browsed': 21163, 'instance': 21164, 'hemisphere': 21165, 'kobach': 21166, 'waxing': 21167, 'motivations': 21168, 'chatting': 21169, 'somemormonasshooe': 21170, \"neighbor's\": 21171, 'brushing': 21172, '👍🏾👍🏾': 21173, 'damsel': 21174, 'hereafter': 21175, 'cancering': 21176, 'deans': 21177, 'nagito': 21178, 'pullout': 21179, 'std': 21180, 'governs': 21181, 'reserve': 21182, 'icicle': 21183, 'weld': 21184, 'enclosed': 21185, 'goldmines': 21186, 'demonstrates': 21187, 'adobe': 21188, 'screencaps': 21189, 'delucional': 21190, 'hippies': 21191, 'fmri': 21192, 'neurofeedback': 21193, 'hagrid': 21194, 'galt': 21195, 'louisville': 21196, 'differential': 21197, 'heff': 21198, 'exhalation': 21199, 'infamous': 21200, 'introduction': 21201, \"demon's\": 21202, 'hubris': 21203, 'perverted': 21204, 'funnel': 21205, 'woodsticks': 21206, 'moreover': 21207, 'nooooooooooooooooooooooooooooooooooooooooooooooooooooooooooooooo': 21208, 'yoooooooooooooooooooooooooooooooooooooooooo': 21209, 'ooohh': 21210, 'wnw': 21211, 'rewriting': 21212, 'footfall': 21213, 'pressures': 21214, 'bran': 21215, 'flakes': 21216, '‘motivator’': 21217, 'wooooshes': 21218, 'wooooshable': 21219, 'wooooshpaganda': 21220, 'oymyakon': 21221, 'slowed': 21222, 'allies': 21223, 'khan': 21224, 'moji': 21225, 'unathletic': 21226, 'spawned': 21227, '‘twas': 21228, 'mrsa': 21229, 'southwest': 21230, 'idaho': 21231, 'wilderness': 21232, 'draw’s': 21233, 'insisting': 21234, 'bartenders': 21235, 'bask': 21236, 'mutated': 21237, 'brackets': 21238, 'tihi': 21239, 'conman': 21240, 'shares': 21241, 'scorned': 21242, 'lf': 21243, 'self😢': 21244, \"trippin'\": 21245, 'iowa’s': 21246, 'maternity': 21247, 'outer': 21248, 'nonwhites': 21249, 'mayweather': 21250, 'rideshare': 21251, 'teases': 21252, 'there😂': 21253, 'dowmvoted': 21254, 'feelingnyour': 21255, \"2017's\": 21256, 'expanded': 21257, 'mineral': 21258, 'shoplifters': 21259, 'nuisance': 21260, 'updooted': 21261, 'phantasia': 21262, 'henry': 21263, 'jheez': 21264, 'yeaaaahh': 21265, 'yeaaaahhh': 21266, 'di': 21267, 'suffocated': 21268, 'superfluous': 21269, 'environmentalist': 21270, 'judgements': 21271, 'sterilization': 21272, 'voldo': 21273, 'afterlife': 21274, 'pursuing': 21275, 'accessible': 21276, 'sellable': 21277, 'hunkish': 21278, 'magaboys': 21279, 'xer': 21280, 'xedz': 21281, '“failed': 21282, 'movie”': 21283, 'lotr': 21284, 'solids': 21285, 'altered': 21286, 'disruption': 21287, 'decreed': 21288, 'sickle': 21289, 'dilaudid': 21290, 'unloaded': 21291, 'homeslice': 21292, 'redacted': 21293, 'participatory': 21294, 'cuban': 21295, 'needlessly': 21296, 'hunch': 21297, 'initialism': 21298, 'unblinking': 21299, 'ey': 21300, 'buzzer': 21301, '⠀⠀⠀⠀⠀⣤⣶⣶⡶⠦⠴⠶⠶⠶⠶⡶⠶⠦⠶⠶⠶⠶⠶⠶⠶⣄⠀⠀⠀⠀': 21302, '⠀⠀⠀⠀⠀⣿⣀⣀⣀⣀⠀⢀⣤⠄⠀⠀⣶⢤⣄⠀⠀⠀⣤⣤⣄⣿⠀⠀⠀⠀': 21303, '⠀⠀⠀⠀⠀⠿⣿⣿⣿⣿⡷⠋⠁⠀⠀⠀⠙⠢⠙⠻⣿⡿⠿⠿⠫⠋⠀⠀⠀⠀': 21304, '⠀⠀⠀⠀⠀⠀⢀⣤⠞⠉⠀⠀⠀⠀⣴⣶⣄⠀⠀⠀⢀⣕⠦⣀⠀⠀⠀⠀⠀⠀': 21305, '⠀⠀⠀⢀⣤⠾⠋⠁⠀⠀⠀⠀⢀⣼⣿⠟⢿⣆⠀⢠⡟⠉⠉⠊⠳⢤⣀⠀⠀⠀': 21306, '⠀⣠⡾⠛⠁⠀⠀⠀⠀⠀⢀⣀⣾⣿⠃⠀⡀⠹⣧⣘⠀⠀⠀⠀⠀⠀⠉⠳⢤⡀': 21307, '⠀⣿⡀⠀⠀⢠⣶⣶⣿⣿⣿⣿⡿⠁⠀⣼⠃⠀⢹⣿⣿⣿⣶⣶⣤⠀⠀⠀⢰⣷': 21308, '⠀⢿⣇⠀⠀⠈⠻⡟⠛⠋⠉⠉⠀⠀⡼⠃⠀⢠⣿⠋⠉⠉⠛⠛⠋⠀⢀⢀⣿⡏': 21309, '⠀⠘⣿⡄⠀⠀⠀⠈⠢⡀⠀⠀⠀⡼⠁⠀⢠⣿⠇⠀⠀⡀⠀⠀⠀⠀⡜⣼⡿⠀': 21310, '⠀⠀⢻⣷⠀⠀⠀⠀⠀⢸⡄⠀⢰⠃⠀⠀⣾⡟⠀⠀⠸⡇⠀⠀⠀⢰⢧⣿⠃⠀': 21311, '⠀⠀⠘⣿⣇⠀⠀⠀⠀⣿⠇⠀⠇⠀⠀⣼⠟⠀⠀⠀⠀⣇⠀⠀⢀⡟⣾⡟⠀⠀': 21312, '⠀⠀⠀⢹⣿⡄⠀⠀⠀⣿⠀⣀⣠⠴⠚⠛⠶⣤⣀⠀⠀⢻⠀⢀⡾⣹⣿⠃⠀⠀': 21313, '⠀⠀⠀⠀⢿⣷⠀⠀⠀⠙⠊⠁⠀⢠⡆⠀⠀⠀⠉⠛⠓⠋⠀⠸⢣⣿⠏⠀⠀⠀': 21314, '⠀⠀⠀⠀⠘⣿⣷⣦⣤⣤⣄⣀⣀⣿⣤⣤⣤⣤⣤⣄⣀⣀⣀⣀⣾⡟⠀⠀⠀⠀': 21315, '⠀⠀⠀⠀⠀⢹⣿⣿⣿⣻⣿⣿⣿⣿⣿⣿⣿⣿⣿⣿⣿⣿⣿⣿⣿⠁⠀⠀⠀⠀': 21316, '⠀⠀⠀⠀⠀⠀⠛⠛⠛⠛⠛⠛⠛⠛⠛⠛⠛⠛⠛⠛⠛⠛⠛⠛⠃': 21317, 'lickin': 21318, 'tee': 21319, 'swbf2': 21320, '🤦🏼\\u200d♀️': 21321, 'moisture': 21322, 'disjointed': 21323, 'disturbance': 21324, 'silenced': 21325, 'cringiest': 21326, 'spiderverses': 21327, 'husband’s': 21328, 'blowup': 21329, 'conflicted': 21330, \"yes'\": 21331, 'unscathed': 21332, '“deforestation”': 21333, 'brilliance': 21334, 'blossom': 21335, '😂😂😂👌👌👌🤲🤲🙏🙏🙏🔥🔥🔥😎😎': 21336, 'unfairly': 21337, 'subsidies': 21338, 'malignant': 21339, 'palliative': 21340, 'surrender': 21341, \"dev's\": 21342, 'groove': 21343, 'adequately': 21344, 'historians': 21345, 'ts': 21346, '12000': 21347, 'ohhhhhhh': 21348, 'now’s': 21349, 'testers': 21350, 'fluently': 21351, 'celebrating': 21352, 'fleshlight': 21353, '“interesting”': 21354, 'istanbul': 21355, 'ankara': 21356, 'outsider': 21357, 'thermal': 21358, 'flopping': 21359, 'murderers': 21360, 'biding': 21361, 'solidifying': 21362, 'expunge': 21363, 'recursion': 21364, 'chap': 21365, 'unsocialized': 21366, 'permitted': 21367, \"assaulters'\": 21368, 'identities': 21369, 'waaaaaaah': 21370, 'looney': 21371, 'outro': 21372, 'wiping': 21373, 'especislly': 21374, 'savages': 21375, 'kage': 21376, 'rbf': 21377, 'moid': 21378, 'fawned': 21379, 'consciousn': 21380, 'habaneros': 21381, 'aborigine': 21382, \"'isn't\": 21383, \"colonialism'\": 21384, \"u23's\": 21385, 'hasnt': 21386, '🎉🎉💃': 21387, 'clicking': 21388, 'constitutes': 21389, 'power”': 21390, 'tremor': 21391, 'ermac': 21392, '“of”': 21393, '“off”': 21394, 'tyranus': 21395, 'lows': 21396, 'elitism': 21397, 'cheesy': 21398, 'avoidance': 21399, 'affectionate': 21400, 'implants': 21401, 'attributed': 21402, 'recomend': 21403, 'jasikevicius': 21404, 'litva': 21405, 'backers': 21406, 'patsy': 21407, 'blissful': 21408, 'costumes': 21409, \"spinnin'\": 21410, 'protect’em': 21411, 'shelved': 21412, 'packaged': 21413, 'overanalyzing': 21414, 'thrift': 21415, 'achilios': 21416, 'thrill': 21417, \"karl's\": 21418, 'vip': 21419, 'afar': 21420, 'excusable': 21421, 'douchey': 21422, 'musta': 21423, 'horsewomen': 21424, 'pals': 21425, 'antonio': 21426, 'cheesing': 21427, 'divinity': 21428, 'maduro': 21429, 'boe': 21430, 'venuzuela': 21431, 'exploitable': 21432, 'demolished': 21433, 'paratrooper': 21434, 'ponies': 21435, 'gnats': 21436, 'flatters': 21437, 'celes': 21438, 'half”': 21439, 'logs': 21440, 'hails': 21441, 'saban': 21442, 'parra': 21443, 'behaving': 21444, 'muffin': 21445, 'doctor’s': 21446, '🤢🤮': 21447, 'phrasal': 21448, 'informal•north': 21449, 'mismanage': 21450, 'mishandle': 21451, 'mishandling': 21452, \"6'4\": 21453, 'denim': 21454, 'lathe': 21455, '610': 21456, 'slows': 21457, 'crawl': 21458, '“cracking': 21459, 'boarded': 21460, 'kneejerk': 21461, 'vengeful': 21462, 'taxpayer': 21463, 'toilets': 21464, 'shucks': 21465, 'lamb': 21466, 'alledge': 21467, 'colludes': 21468, 'emeralds': 21469, 'unavailable': 21470, 'msdn': 21471, 'victors': 21472, 'maxed': 21473, 'taller': 21474, \"sixer's\": 21475, 'swatted': 21476, 'micro': 21477, 'mums': 21478, '5x5': 21479, 'certificate': 21480, 'encryption': 21481, 'igolder': 21482, 'looming': 21483, 'floated': 21484, 'chuds': 21485, 'raises': 21486, 'wonderfulness': 21487, 'fuuuck': 21488, 'guyz': 21489, 't2': 21490, 'checkin': 21491, 'desks': 21492, 'footpath': 21493, 'twitches': 21494, 'leppo': 21495, 'materials': 21496, 'valuation': 21497, 'perpetuated': 21498, 'horned': 21499, 'destinations': 21500, '110km': 21501, 'cheaply': 21502, 'homestar': 21503, 'liftoff': 21504, 'tagger': 21505, 'defining': 21506, 'puttin': 21507, 'iike': 21508, 'haircut😉': 21509, 'privatized': 21510, \"promo's\": 21511, 'welder': 21512, 'plumber': 21513, 'innuendo': 21514, 'deflect': 21515, 'artemis': 21516, 'mailing': 21517, 'duder': 21518, 'pancreatic': 21519, \"'breast\": 21520, \"awareness'\": 21521, 'inclusive': 21522, 'aborted': 21523, 'zip': 21524, 'sheeting': 21525, 'gags': 21526, 'prodders': 21527, 'daming': 21528, 'getty': 21529, \"why'd\": 21530, \"'bungle'\": 21531, 'beak': 21532, 'beaks': 21533, 'capitals': 21534, 'lumbering': 21535, 'vampires': 21536, 'appropriating': 21537, 'methhead': 21538, 'coup’d': 21539, 'jockey': 21540, 'katy': 21541, 'cypress': 21542, 'fr': 21543, 'banger': 21544, 'trumpie': 21545, 'cancels': 21546, 'sm4': 21547, 'qvc': 21548, 'hoarders': 21549, 'argan': 21550, 'curbed': 21551, 'pejorative': 21552, 'identified': 21553, 'rowdies': 21554, 'mobilization': 21555, 'orisa': 21556, 'comparability': 21557, 'paddle': 21558, 'imaginable': 21559, '15”': 21560, 'provoked': 21561, 'reliably': 21562, 'lest': 21563, 'restricting': 21564, 'docuseries': 21565, 'nineties': 21566, 'aemt': 21567, 'comedyheaven': 21568, 'stbxmil': 21569, 'besties': 21570, 'vod': 21571, 'wounded': 21572, 'apprehensive': 21573, 'staining': 21574, 'lorries': 21575, 'uni': 21576, 'portray': 21577, 'starwarsleaks': 21578, 'starwarsspeculation': 21579, 'reaping': 21580, 'sowed': 21581, 'flexibility': 21582, 'fermented': 21583, 'rightist': 21584, 'idealogies': 21585, 'peaches': 21586, '😡this': 21587, 'radiance': 21588, 'penfed': 21589, 'ouija': 21590, 'cahoots': 21591, 'notify': 21592, 'rinsing': 21593, 'sunni': 21594, 'vermin': 21595, 'dietary': 21596, 'restriction': 21597, 'emmys': 21598, 'eyepatch': 21599, 'hillsong': 21600, 'sugary': 21601, 'hoist': 21602, 'crowding': 21603, 'hillary': 21604, 'intercourse': 21605, 'stonewall': 21606, 'lively': 21607, '🖤': 21608, 'investigated': 21609, 'wj': 21610, 'tmake': 21611, 'sese': 21612, 'happpen': 21613, 'breaker': 21614, 'derp': 21615, 'derpy': 21616, 'beaters': 21617, 'boxed': 21618, 'cockiness': 21619, 'flippancy': 21620, 'grudge': 21621, 'uary': 21622, 'tix': 21623, 'puddy': 21624, \"did'nt\": 21625, 'tapping': 21626, 'impatiently': 21627, 'mgtowness': 21628, 'breweries': 21629, 'buenos': 21630, 'aires': 21631, 'dorm': 21632, 'delphine': 21633, 'soaking': 21634, 'mbs': 21635, 'arrests': 21636, 'ospreys': 21637, 'heartening': 21638, 'dispenser': 21639, 'productivity': 21640, 'monogamy': 21641, 'trenches': 21642, 'pentagon': 21643, 'cringes': 21644, 'recieve': 21645, 'freelance': 21646, 'megatron': 21647, 'hugger': 21648, 'lifesite': 21649, '“news”': 21650, 'distilled': 21651, 'robbers': 21652, 'swindlers': 21653, 'approves': 21654, 'lan': 21655, 'mandated': 21656, 'tdagarim': 21657, 'mindless': 21658, 'reload': 21659, '“teen': 21660, 'kisser': 21661, 'number”': 21662, 'moss': 21663, 'gow': 21664, 'inegrated': 21665, 'seemlessly': 21666, '“deep”': 21667, 'pinecones': 21668, 'wikihow': 21669, 'suspiciously': 21670, 'refreshed': 21671, 'vls': 21672, 'trouser': 21673, 'maidens': 21674, 'spill': 21675, 'residencies': 21676, 'increment': 21677, 'lifers': 21678, 'worldview': 21679, 'pipes': 21680, 'decend': 21681, 'voidless': 21682, 'scarfs': 21683, 'sweatervest': 21684, '1111': 21685, 'wraith': 21686, 'camped': 21687, 'moto': 21688, 'cannibalistic': 21689, 'humanoid': 21690, 'lakes': 21691, 'nucleotides': 21692, 'rebuilding': 21693, '“ashamed': 21694, 'pessimist': 21695, 'unanimous': 21696, 'stupidmancostume': 21697, 'isst': 21698, 'snorted': 21699, 'l1': 21700, 'r2': 21701, 'l2': 21702, 'thumbnail': 21703, 'balm': 21704, 'honked': 21705, 'stridulating': 21706, '390': 21707, 'twinsies': 21708, 'sahm': 21709, 'midst': 21710, 'mech': 21711, 'tomlin': 21712, '“spite': 21713, 'untalented': 21714, 'jericho': 21715, 'siren': 21716, 'stuka': 21717, 'invoice': 21718, 'pdice': 21719, '12am': 21720, '🤞': 21721, 'felons': 21722, '7’': 21723, '“with': 21724, 'exception”': 21725, 'bittersweet': 21726, 'emmisions': 21727, 'entwives': 21728, 'pmd': 21729, 'mos': 21730, '“hot': 21731, 'oct': 21732, \"warden's\": 21733, 'joyous': 21734, 'brooks': 21735, \"5'\": 21736, 'nyaw': 21737, 'hypothyroidism': 21738, 'synthroid': 21739, 'sequence': 21740, 'davis': 21741, 'werner': 21742, 'lima': 21743, 'boyhood': 21744, 'bgs': 21745, 'outplaying': 21746, 'qwandor': 21747, 'cartons': 21748, 'elementary': 21749, 'beachtown': 21750, 'blackkklansman': 21751, 'stun': 21752, 'cannonballs': 21753, 'ethos': 21754, 'originals': 21755, '50th': 21756, 'mystic': 21757, 'salted': 21758, 'troy': 21759, \"tmor's\": 21760, 'snoo': 21761, \"randall's\": 21762, 'mewing': 21763, 'todays': 21764, 'mustard': 21765, 'tokyo': 21766, 'preposterously': 21767, 'evade': 21768, 'deducting': 21769, 'depreciation': 21770, 'lola': 21771, 'steeler': 21772, 'waaat': 21773, 'sci': 21774, 'pacing': 21775, 'tooooo': 21776, 'ignorantly': 21777, 'wendy’s': 21778, 'helicopters': 21779, 'rotj': 21780, 'ep7': 21781, 'degrassi': 21782, 'attest': 21783, 'disappearances': 21784, 'owen’s': 21785, 'charlie': 21786, 'naïve': 21787, 'plantation': 21788, 'yunnan': 21789, 'espresso': 21790, 'singularity': 21791, 'slag': 21792, 'squatting': 21793, 'ecophiles': 21794, 'ecosexuals': 21795, \"'can't\": 21796, \"easily'\": 21797, 'grabs': 21798, 'commemoration': 21799, 'visions': 21800, 'baptist': 21801, 'wasters': 21802, 'theeeeeese': 21803, 'dongs': 21804, 'who’ve': 21805, '“looking': 21806, 'chillingly': 21807, 'articulacy': 21808, \"twau2's\": 21809, 'me3': 21810, 'emerging': 21811, 'robo': 21812, 'partial': 21813, 'geographic': 21814, 'flashed': 21815, 'knotting': 21816, 'scraped': 21817, 'cocky': 21818, 'gnoming': 21819, 'induction': 21820, 'dislodged': 21821, \"'my\": 21822, \"hurts'\": 21823, \"'it'll\": 21824, \"practice'\": 21825, 'retention': 21826, 'hmo': 21827, 'compulsive': 21828, 'impulsive': 21829, 'disassociated': 21830, 'paralysis': 21831, 'imitating': 21832, 'fists': 21833, 'addidas': 21834, 'maturity': 21835, 'asimov': 21836, 'preserved': 21837, 'spalding': 21838, 'convington': 21839, 'fievel': 21840, 'ambassador': 21841, 'im14andnothingisdeep': 21842, 'receipts': 21843, 'specials': 21844, 'eeeek': 21845, '“screaming': 21846, 'outrage”': 21847, 'beerus': 21848, 'eft': 21849, 'educations': 21850, 'groin': 21851, 'pledged': 21852, 'ot3': 21853, 'sanctimony': 21854, 'suxs': 21855, 'reuse': 21856, 'absorb': 21857, 'pctc': 21858, 'glans': 21859, 'sib': 21860, 'phsyically': 21861, 'meatballs': 21862, 'hmph': 21863, 'faceee': 21864, 'peregrine': 21865, 'beeline': 21866, 'alphas': 21867, 'fag': 21868, 'boozer': 21869, 'boet': 21870, 'resc': 21871, 'diddle': 21872, 'bothering': 21873, 'bubbles': 21874, 'labia': 21875, 'bathe': 21876, \"dm'ed\": 21877, 'relive': 21878, 'phoned': 21879, 'synergies': 21880, 'crit': 21881, 'builds': 21882, 'lifesteal': 21883, 'breeding': 21884, 'inbred': 21885, 'goeth': 21886, 'haughty': 21887, 'biopic': 21888, 'leek': 21889, 'r3': 21890, 'telephone': 21891, 'geeks': 21892, '404': 21893, 'daoc': 21894, '6’10”': 21895, '152': 21896, 'litigation': 21897, 'two😂': 21898, 'jellyfish': 21899, 'stung': 21900, 'perecuelse': 21901, 'doorknobs': 21902, 'leasing': 21903, '😉🍁🔥😗💨☁️💯☁️🤙🏻': 21904, 'frankie': 21905, 'straps': 21906, 'ziggy': 21907, 'informing': 21908, 'grubs': 21909, 'completeanarchy': 21910, '🤣🤣🤣': 21911, 'qol': 21912, 'phds': 21913, 'tobias': 21914, 'aaaagghhh': 21915, 'insolvent': 21916, 'dep3end': 21917, 'obtainable': 21918, 'segments': 21919, 'anamie': 21920, 'dimensional': 21921, 'legislatively': 21922, 'meata': 21923, 'balle': 21924, 'bog': 21925, 'resuscitation': 21926, 'waiters': 21927, 'gynolette': 21928, '‘safe’': 21929, 'eliminaysh': 21930, 'ions': 21931, 'shaq': 21932, 'cactus': 21933, 'arriving': 21934, 'flamewar': 21935, 'tadger': 21936, 'sinus': 21937, 'xxxx': 21938, \"happy's\": 21939, 'skinnu': 21940, 'untill': 21941, 'crackin': 21942, 'telescope': 21943, 'brussels': 21944, 'licence': 21945, 'nonbinary': 21946, 'devices': 21947, 'maintains': 21948, 'mutilations': 21949, 'entendre': 21950, 'unsavory': 21951, 'relaxes': 21952, 'grrrrrrr': 21953, 'strengthened': 21954, 'muuuuuch': 21955, 'clingy': 21956, 'multiples': 21957, 'softballs': 21958, 'raddus': 21959, 'autopilot': 21960, 'prevented': 21961, \"holdo's\": 21962, 'porgs': 21963, 'uptown': 21964, 'claiborne': 21965, 'modmail': 21966, 'illiberalism': 21967, 'centeredness': 21968, 'forreal': 21969, '2000s': 21970, 'mammoth': 21971, 'ruff': 21972, 'arffice': 21973, 'offends': 21974, 'ghoulish': 21975, 'pallor': 21976, 'omnibus': 21977, 'unpack': 21978, 'canonization': 21979, \"midnight's\": 21980, 'fking': 21981, 'nul': 21982, 'byfar': 21983, 'reinhart': 21984, 'lever': 21985, 'sfgate': 21986, 'systemic': 21987, 'scribbles': 21988, '“yeahno”': 21989, \"mustn't\": 21990, 'fullstop': 21991, 'immersion': 21992, 'clamato': 21993, 'wonderbars': 21994, 'premises': 21995, 'primetime': 21996, 'hardens': 21997, \"mixin'\": 21998, 'god’s': 21999, 'dusty': 22000, 'anel': 22001, 'adorkable': 22002, 'hideouts': 22003, 'neko': 22004, 'atsume': 22005, 'fuzz': 22006, 'slimey': 22007, 'noses': 22008, 'cinematographer': 22009, 'ackchyually': 22010, 'stumblinbear': 22011, 'subsequently': 22012, 'gagged': 22013, 'unwashed': 22014, 'fundraisers': 22015, 'crawled': 22016, 'coq': 22017, 'spammy': 22018, 'rejoining': 22019, 'workforce': 22020, 'marmalade': 22021, 'crunching': 22022, 'mindboggling': 22023, 'representations': 22024, \"drama's\": 22025, 'kitchens': 22026, 'yet👍👍👍': 22027, '🙌🏻': 22028, 'you‘re': 22029, 'borrowed': 22030, 'tswift': 22031, 'villians': 22032, 'bladder': 22033, 'napoli': 22034, 'barbeque': 22035, 'multikill': 22036, 'manxplain': 22037, 'sseason': 22038, 'nieces': 22039, 'mumbling': 22040, '3yr': 22041, 'obey': 22042, 'captures': 22043, 'whhat': 22044, 'rene': 22045, 'peng': 22046, 'throne': 22047, 'friend’s': 22048, 'justices': 22049, '💡': 22050, \"'white'\": 22051, \"'cracker'\": 22052, 'hollow': 22053, '‘men’': 22054, 'usda': 22055, 'fades': 22056, 'isn': 22057, 'uscg': 22058, 'narudo': 22059, 'mashed': 22060, 'gravy': 22061, 'bioavailability': 22062, 'emulsifier': 22063, 'reinvent': 22064, 'vandalism': 22065, 'handcuffs': 22066, 'eeason': 22067, 'gopher': 22068, 'uncertainty': 22069, 'martini': 22070, 'esp': 22071, 'hackysack': 22072, 'casing': 22073, '‘you’re': 22074, 'smart’': 22075, 'accudentally': 22076, 'twists': 22077, 'flinches': 22078, 'paraprofessionals': 22079, 'cliches': 22080, 'impolite': 22081, 'thirteen': 22082, 'adaptation': 22083, 'borrows': 22084, 'dwights': 22085, 'lanky': 22086, 'insanepeoplefacebook': 22087, 'nauseated': 22088, 'scheißer': 22089, 'ruveal': 22090, 'oilymama': 22091, 'parasite': 22092, 'consented': 22093, 'rahway': 22094, 'mechanical': 22095, 'llc': 22096, 'heartfelt': 22097, 'insecurely': 22098, 'ritz': 22099, 'casket': 22100, 'inventors': 22101, 'sash': 22102, 'faucets': 22103, 'confection': 22104, 'twatwaffle': 22105, 'snapchats': 22106, 'ales': 22107, 'dulls': 22108, 'thinning': 22109, 'bled': 22110, 'fluctuations': 22111, 'beefing': 22112, \"wallmark's\": 22113, 'shaver': 22114, 'fanfics': 22115, 'uninstalled': 22116, 'laggy': 22117, 'eta': 22118, 'alway': 22119, 'nix': 22120, 'hygienic': 22121, 'inaction': 22122, 'rapp': 22123, 'transcendent': 22124, 'fethish': 22125, 'aaahhh': 22126, 'name’s': 22127, 'toasters': 22128, 'seminary': 22129, 'byu': 22130, 'dankest': 22131, 'scurry': 22132, 'wishm': 22133, 'senseless': 22134, 'heavenphone': 22135, '“make”': 22136, 'slobber': 22137, 'pursued': 22138, 'neeeeeews': 22139, 'xmen': 22140, 'otters': 22141, 'realmuto': 22142, 'redwings': 22143, 'fer': 22144, 'hbk': 22145, 'surrogates': 22146, 'squashing': 22147, 'guam': 22148, 'roofs': 22149, 'carted': 22150, 'dobt': 22151, 'assassination': 22152, 'sinuses': 22153, 'incase': 22154, 'capricious': 22155, 'offenders': 22156, 'rump': 22157, 'cheerfulness': 22158, '“hail': 22159, 'satan”': 22160, 'meming': 22161, 'svu': 22162, 'blueberry': 22163, 'fify': 22164, 'custodian': 22165, 'stantler': 22166, 'colleagues': 22167, '216': 22168, 'chapters': 22169, 'ms3': 22170, 'enforcer': 22171, 'acuna': 22172, 'commits': 22173, '696': 22174, 'barkley': 22175, 'owopen': 22176, 'powice': 22177, 'lemonade': 22178, 'morse': 22179, 'crouching': 22180, 'oponent': 22181, 'sportz': 22182, 'repeater': 22183, 'automata': 22184, 'vewy': 22185, 'pwoud': 22186, 'weightloss': 22187, 'nitara': 22188, 'alienation': 22189, 'weep': 22190, 'newcomer': 22191, 'justforyouthlogic': 22192, 'infantilism': 22193, 'v0': 22194, 'preserves': 22195, '1rn': 22196, 'coral': 22197, 'antivenom': 22198, 'dots': 22199, '😏😏😏😏': 22200, 'radiohead': 22201, 'bends': 22202, 'waaaaayy': 22203, 'cockroaches': 22204, 'medschoolgate': 22205, 'stormfront': 22206, 'conan': 22207, 'haiti': 22208, 'hermes': 22209, 'numberwang': 22210, 'workd': 22211, 'ministry': 22212, 'ministries': 22213, 'punished': 22214, 'yeeaah': 22215, 'apartments': 22216, 'faggots': 22217, 'joyful': 22218, 'auba': 22219, 'depreciated': 22220, 'icy': 22221, 'twdg': 22222, 'lis': 22223, 'revoked': 22224, 'oath': 22225, 'sputnik': 22226, 'fakes': 22227, 'lds': 22228, 'inc': 22229, 'simmonds': 22230, 'highball': 22231, 'unsubbed': 22232, 'projectiles': 22233, '1l': 22234, 'cylinders': 22235, 'spheres': 22236, 'sommelier': 22237, 'endorsing': 22238, 'indisputable': 22239, 'manafort': 22240, 'terrifiying': 22241, 'spastic': 22242, 'stardom': 22243, 'avgn’s': 22244, 'smelt': 22245, 'rdr': 22246, 'singleplayer': 22247, \"america's\": 22248, 'scooby': 22249, 'shagster': 22250, 'overshadowed': 22251, 'topper': 22252, 'nandos': 22253, 'mandem': 22254, 'rendition': 22255, 'runza': 22256, 'moly': 22257, 'federation': 22258, 'strep': 22259, 'antisemitic': 22260, 'lans': 22261, 'edamame': 22262, '“watch': 22263, 'inside”': 22264, 'lauded': 22265, 'jdk': 22266, 'oder': 22267, 'absolution': 22268, '640x480': 22269, '“homework”': 22270, 'erratic': 22271, 'adventurously': 22272, 'retributionist': 22273, 'rbed': 22274, 'cripples': 22275, 'invokes': 22276, 'dishy': 22277, 'mocap': 22278, 'nuce': 22279, 'clarity': 22280, \"eagles'\": 22281, 'gaelic': 22282, 'hackers': 22283, 'possibilities': 22284, 'bangle': 22285, 'imatotalpieceofshit': 22286, 'hazelnut': 22287, 'kindered': 22288, 'aalll': 22289, '‘cool': 22290, 'experiment’': 22291, 'donteee': 22292, 'blowee': 22293, 'coveree': 22294, 'buckeyes': 22295, 'spiral': 22296, 'scavenger': 22297, '“uh': 22298, 'hardiest': 22299, 'shithousing': 22300, 'rand': 22301, 'paul': 22302, 'tart': 22303, 'custard': 22304, '🍀': 22305, '“love”': 22306, \"greens'\": 22307, 'riles': 22308, 'vanillas': 22309, 'cegep': 22310, 'raccoon': 22311, 'cannibalised': 22312, 'reversing': 22313, 'tricks': 22314, 'donkeys': 22315, 'couple’s': 22316, '💆🏽\\u200d♀️': 22317, 'guitars': 22318, 'arguement': 22319, 'clog': 22320, 'arteries': 22321, 'catswithjobs': 22322, 'asirt': 22323, 'argued': 22324, 'lineups': 22325, 'pkayers': 22326, \"'suh\": 22327, \"lad'\": 22328, 'wank': 22329, 'foursentencehorror': 22330, 'coned': 22331, 'fortress': 22332, '“america’s': 22333, 'sweetheart”': 22334, 'doomfist': 22335, 'ichigo': 22336, 'nero': 22337, 'exsplain': 22338, 'computers': 22339, 'homing': 22340, 'rigidity': 22341, 'binging': 22342, 'analyze': 22343, \"a's\": 22344, 'mukbangs': 22345, \"5'9\": 22346, 'qr': 22347, 'paragraphs': 22348, 'misled': 22349, \"y'famous\": 22350, 'manger': 22351, 'cisgendered': 22352, 'iguanas': 22353, 'pioneer': 22354, 'woe': 22355, 'gallon': 22356, 'ranch”': 22357, \"'word\": 22358, \"hella'\": 22359, 'hush': 22360, 'resilient': 22361, 'balled': 22362, 'pings': 22363, 'maddening': 22364, 'siphon': 22365, 'terimuns': 22366, 'clamity': 22367, 'team’s': 22368, 'bussy': 22369, 'fanboys': 22370, 'haaaaay': 22371, 'nagr': 22372, '😢😢': 22373, 'colossally': 22374, 'pimento': 22375, 'pimentaco': 22376, 'noticeably': 22377, 's5': 22378, 's3': 22379, 's4': 22380, 'noodlebox': 22381, 'nit': 22382, 'pastry': 22383, 'preventing': 22384, 'memery': 22385, 'farthest': 22386, 'pronouncing': 22387, \"blowin'\": 22388, 'kiddan': 22389, '🤣🤣': 22390, 'shuffles': 22391, 'frankness': 22392, 'fuckkkkkkkk': 22393, 'yoooouuuuu': 22394, 'beserker': 22395, 'wrinkly': 22396, 'hobo': 22397, 'fixable': 22398, 'rug': 22399, 'nerdier': 22400, 'scouts': 22401, 'favored': 22402, 'converting': 22403, 'theist': 22404, 'rushers': 22405, 'unjustifiable': 22406, 'unfixably': 22407, 'bingemas': 22408, 'sodaman': 22409, 'atwater': 22410, 'bookluvr83': 22411, 'bandwagon': 22412, 'trunks': 22413, 'indented': 22414, 'welt': 22415, 'crossbow': 22416, 'mcd’s': 22417, 'banh': 22418, 'cincinnati': 22419, 'devilish': 22420, 'yeaaahhh': 22421, 'blushes': 22422, 'halving': 22423, 'conclude': 22424, 'saquon': 22425, 'bw': 22426, 'webb': 22427, 'booked': 22428, 'cockends': 22429, 'braking': 22430, 'bumped': 22431, 'elephant': 22432, 'doe': 22433, '√9': 22434, 'jinxed': 22435, '🤞🏽': 22436, 'hubs': 22437, 'dogmatic': 22438, 'implantation': 22439, 'twit': 22440, 'briscoe': 22441, 'withdraw': 22442, 'lindt': 22443, 'expensive—even': 22444, 'uncontrolled': 22445, \"college's\": 22446, 'brock': 22447, 'beaches': 22448, 'transpired': 22449, \"'let\": 22450, 'journals': 22451, 'mineswept': 22452, 'hairdresser': 22453, '“there': 22454, 'ravers': 22455, 'superstar': 22456, 'regrettable': 22457, 'cardinals’': 22458, 'boobytrapping': 22459, 'endure': 22460, '“family': 22461, 'unders': 22462, 'fics': 22463, 'ohtani': 22464, 'unverified': 22465, 'clipped': 22466, 'repealed': 22467, \"hell's\": 22468, 'inhuman': 22469, 'orang': 22470, 'utan': 22471, 'lim': 22472, 'insensitivity': 22473, '😍😍': 22474, 'celery': 22475, 'snl': 22476, '“mainstream”': 22477, 'bohemian': 22478, 'rhapsody': 22479, 'charted': 22480, 'ok”': 22481, 'italicizing': 22482, 'skimmed': 22483, 'commiting': 22484, 'traversing': 22485, 'actresses': 22486, 'carpet': 22487, 'cinders': 22488, 'nigeria': 22489, 'angola': 22490, 'mirotic': 22491, \"isen't\": 22492, \"girlfriend's\": 22493, 'cdcs': 22494, 'tortures': 22495, 'ooft': 22496, 'formatted': 22497, 'appliance': 22498, \"'used\": 22499, '401': 22500, '327': 22501, 'vaxer': 22502, 'franxx': 22503, 'ants': 22504, 'won‘t': 22505, 'becoz': 22506, \"addison's\": 22507, 'uw': 22508, 'valet': 22509, 'af”': 22510, 'humiliate': 22511, 'recruits': 22512, 'adderrall': 22513, 'suppressant': 22514, 'crumble': 22515, 'latency': 22516, 'saddened': 22517, 'kap45': 22518, 'stalingrad': 22519, 'catgirl': 22520, '4d': 22521, 'humorstically': 22522, 'resta': 22523, 'teleporting': 22524, 'graphical': 22525, 'nucks': 22526, 'disobeyed': 22527, 'congestion': 22528, 'fairness': 22529, 'macy’s': 22530, 'filmmakers': 22531, 'brachiosaurus': 22532, 'fk': 22533, 'pettiness': 22534, 'flds': 22535, '“sister': 22536, 'wives”': 22537, \"trapper's\": 22538, \"wraith's\": 22539, 'resist': 22540, 'lure': 22541, 'hahahahah': 22542, 'intuitive': 22543, 'gobget': 22544, 'tweezers': 22545, 'standoff': 22546, 'stared': 22547, 'coolered': 22548, 'haves': 22549, 'wooooshed': 22550, '🤢🤢🤢🤢': 22551, 'bahamas': 22552, 'garfunkel': 22553, 'oates': 22554, 'emotes': 22555, 'cabin': 22556, '💕❤️💕': 22557, 'brogress': 22558, 'dyel': 22559, 'earner': 22560, 'idgaf': 22561, 'enlightenment': 22562, 'protections': 22563, 'freefolk': 22564, \"'first\": 22565, '1534': 22566, \"takedown's\": 22567, 'seedy': 22568, 'insincere': 22569, 'homealone': 22570, 'inebriated': 22571, 'ratshit': 22572, 'approached': 22573, 'greenday': 22574, 'utc': 22575, 'huawei': 22576, 'devote': 22577, 'burlesque': 22578, '2018”': 22579, 'rehabilitation': 22580, 'recidvism': 22581, 'cowpoke': 22582, 'kidfu': 22583, 'hungary': 22584, 'harmlessly': 22585, 'gru': 22586, 'fluky': 22587, 'quakes': 22588, 'headass': 22589, 'dissociating': 22590, 'invetory': 22591, 'ncaaf': 22592, 'ross': 22593, 'separating': 22594, \"journalist's\": 22595, 'scw': 22596, 'dong': 22597, \"monkeys'\": 22598, \"'favourite\": 22599, \"nightmare'\": 22600, 'massacre': 22601, 'expressways': 22602, 'biden': 22603, 'gropes': 22604, 'node': 22605, 'experimentation': 22606, 'decentralization': 22607, 'ebrats': 22608, 'lawbreakers': 22609, 'andy': 22610, 'kaufman': 22611, 'temperaments': 22612, 'libertarianism': 22613, 'bioshock': 22614, '167': 22615, 'ceo': 22616, 'surecwhat': 22617, 'tumours': 22618, 'affiliated': 22619, 'beads': 22620, 'bodice': 22621, 'spices': 22622, 'backpack': 22623, 'thugpug': 22624, 'hashtags': 22625, 'wahroonga': 22626, 'rumblings': 22627, 'res': 22628, \"friggin'\": 22629, 'sickburns': 22630, 'gateway': 22631, 'pundit': 22632, 'legitimise': 22633, 'disconnected': 22634, 'inglorious': 22635, 'basterds': 22636, 'propelled': 22637, 'pmo': 22638, 'apostolic': 22639, 'snooty': 22640, 'longmont': 22641, 'destenay': 22642, 'prolong': 22643, 'bari’s': 22644, 'letterkenny': 22645, 'talents': 22646, 'masters': 22647, 'klick': 22648, 'gleeful': 22649, 'pragerurine': 22650, 'erected': 22651, 'anaheim': 22652, 'tw': 22653, 'broskies': 22654, 'lsfyl': 22655, 'telemarketers': 22656, '‘volunteers’': 22657, 'royally': 22658, 'misguided': 22659, 'joi': 22660, 'stunk': 22661, 'deathbed': 22662, 'gots': 22663, 'equalizer': 22664, 'python': 22665, 'autograt': 22666, 'vsauce': 22667, '“edgy”': 22668, 'extracts': 22669, 'shelfie': 22670, 'pike': 22671, 'petted': 22672, 'korrk': 22673, 'lable': 22674, 'indecipherable': 22675, 'poppycock': 22676, 'slipknot': 22677, 'bizkit': 22678, 'korn': 22679, 'primer': 22680, 'attainable': 22681, 'parents’': 22682, 'idek': 22683, 'v7': 22684, 'chinise': 22685, \"sbarro's\": 22686, 'thermometers': 22687, 'trampoline': 22688, 'ex’s': 22689, 'overthrow': 22690, 'yeeeet': 22691, 'drumpf': 22692, 'wilder': 22693, 'medicate': 22694, 'defrosting': 22695, \"judge's\": 22696, 'touristy': 22697, 'diazies': 22698, 'uppa': 22699, 'erps': 22700, 'cleavage': 22701, \"nature's\": 22702, 'drenched': 22703, 'uga': 22704, 'falsify': 22705, 'powerless': 22706, \"'belly\": 22707, \"racing'\": 22708, 'underwhelmed': 22709, 'apologise': 22710, 'neg': 22711, 'tradable': 22712, 'retool': 22713, 'insomnia': 22714, 'meditations': 22715, 'kinsman': 22716, 'ásáheill': 22717, 'lke': 22718, 'pffft': 22719, 'monarchy': 22720, 'pita': 22721, 'jacobin': 22722, 'shooked': 22723, 'mesmer': 22724, 'chrono': 22725, 'mirage': 22726, 'onboard': 22727, 'acab': 22728, 'grammqr': 22729, 'fuckerized': 22730, 'airflow': 22731, 'bombing': 22732, 'needless': 22733, 'readers': 22734, 'lunacy': 22735, '2028': 22736, '10f': 22737, 'canny': 22738, 'coziness': 22739, 'unnerved': 22740, 'leftwing': 22741, \"whats's\": 22742, 'donating': 22743, 'internalised': 22744, 'nashors': 22745, 'lich': 22746, 'hourglass': 22747, 'pouns': 22748, '229126': 22749, 'timelines': 22750, 'unsigned': 22751, 'quadfather': 22752, 'flagellation': 22753, '“this': 22754, 'epsom': 22755, 'ringing': 22756, 'gong': 22757, 'reviewable': 22758, 'groudons': 22759, 'overdue': 22760, 'mineable': 22761, '4g': 22762, 'microwaves': 22763, 'll': 22764, 'submerge': 22765, 'mothafuckas': 22766, 'cheapest': 22767, 'twitching': 22768, '😩': 22769, 'unironcally': 22770, '“kicks': 22771, 'trash”': 22772, 'unavoidable': 22773, 'posture': 22774, 'slouching': 22775, 'hadnt': 22776, 'woodwork': 22777, 'bachelorette': 22778, 'narcoleptic': 22779, 'shelter': 22780, '“legal”': 22781, '“real”': 22782, \"mantis'\": 22783, 'curtains': 22784, 'snagglepuss': 22785, 'skipping': 22786, 'lg': 22787, 'worldstarred': 22788, 'cube': 22789, 'shitpostbot': 22790, 'yeaaaaa': 22791, 'futon': 22792, 'zeros': 22793, 'tac': 22794, 'faithful': 22795, 'emotionl': 22796, 'abel': 22797, 'closures': 22798, 'priority': 22799, 'beignet': 22800, 'dogpatch': 22801, 'expressions': 22802, 'tikka': 22803, 'marinaded': 22804, 'garam': 22805, 'modernity': 22806, 'sardonicast': 22807, 'pollution': 22808, 'catagory': 22809, 'hyde': 22810, \"makeup'\": 22811, 'settlers': 22812, 'battlestar': 22813, 'galactica': 22814, 'lenient': 22815, '🤰🏼': 22816, 'tage': 22817, 'milania': 22818, 'spawn': 22819, '“bigotry': 22820, 'bigotryer': 22821, 'calculator': 22822, 'calculates': 22823, 'accelerating': 22824, 'yayyy': 22825, 'trainer': 22826, 'mouths': 22827, 'ensued': 22828, '490': 22829, 'theological': 22830, 'srd': 22831, 'defeats': 22832, 'rollerskates': 22833, 'zucker': 22834, 'prosser': 22835, 'ndas': 22836, 'comunity': 22837, 'upbringing': 22838, 'hasbro': 22839, 'influential': 22840, 'worrier': 22841, 'striving': 22842, 'forcibly': 22843, 'adcs': 22844, 'photoshoot': 22845, 'milford': 22846, 'displays': 22847, 'explictly': 22848, 'remaster': 22849, 'dlcs': 22850, 'x4': 22851, 'innovate': 22852, 'obscenely': 22853, 'neoprene': 22854, '25k': 22855, 'woooo': 22856, 'fuckety': 22857, 'bitchhhhh': 22858, 'waaay': 22859, 'woooooooahahhohohohohho': 22860, 'bembry': 22861, 'sky”': 22862, 'wordplay': 22863, 'lolicon': 22864, '¦': 22865, 'whoopin': 22866, 'unluckiest': 22867, 'life’s': 22868, 'wd': 22869, 'potentialy': 22870, 'bulgaria': 22871, 'roger': 22872, 'repainted': 22873, 'stakeholders': 22874, 'hoas': 22875, 'condo': 22876, '“when': 22877, 'adamsmith': 22878, 'clickbate': 22879, 'superbike': 22880, 'delirium': 22881, 'facemask': 22882, 'breakthrough': 22883, 'ak': 22884, 'ventriloquist': 22885, '‘rap’': 22886, 'c’s': 22887, 'kino': 22888, 'kebab': 22889, \"shop's\": 22890, 'hahahahahahahahahahahahahahahahahahahahahahahahahahhahahahhahahaa': 22891, 'conversing': 22892, 'nephews': 22893, '1776': 22894, 'inbev': 22895, 'mankind': 22896, 'inpaired': 22897, 'dtf': 22898, 'othr': 22899, 'torque': 22900, 'mesmerising': 22901, 'gripping': 22902, 'hairspray': 22903, 'tks': 22904, 'relics': 22905, 'montrose': 22906, 'charedim': 22907, 'crutch': 22908, 'earbuds': 22909, 'bountygate': 22910, 'joop': 22911, 'aftershave': 22912, 'stooooop': 22913, 'sry': 22914, 'contender': 22915, 'pfas': 22916, 'pdf': 22917, 'warms': 22918, '5mg': 22919, 'gucci': 22920, 'bm': 22921, 'cannibalize': 22922, '1440': 22923, 'bernout': 22924, 'potomac': 22925, 'fastmine': 22926, 'prompts': 22927, 'emailing': 22928, 'nate': 22929, 'superhot': 22930, 'introverts': 22931, '😘😘😘': 22932, 'manufacturing': 22933, 'immaturity': 22934, 'starve': 22935, 'iggles': 22936, 'splashing': 22937, 'jn': 22938, 'raleigh': 22939, 'veracruz': 22940, 'prominence': 22941, 'recoveries': 22942, 'fracking': 22943, 'diy': 22944, 'crafts': 22945, 'robe': 22946, 'blasters': 22947, 'suffocate': 22948, 'pecks': 22949, 'mouthed': 22950, 'benevolent': 22951, 'rugs': 22952, 'tmobile': 22953, 'ultimative': 22954, 'wery': 22955, 'gweat': 22956, 'frwiend': 22957, 'wome': 22958, 'stochastic': 22959, 'rsi': 22960, 'staffing': 22961, 'ˈsatʌɪə': 22962, 'patron': 22963, '5c': 22964, 'alibaba': 22965, 'sosial': 22966, 'antennas': 22967, 'ada': 22968, 'puritanism': 22969, 'fcc': 22970, 'flipflopping': 22971, \"'incel\": 22972, \"worldview'\": 22973, 'smegging': 22974, 'examining': 22975, 'sensibility': 22976, 'reflexes': 22977, 'uninspiring': 22978, \"comin'\": 22979, 'compute': 22980, 'complainers': 22981, 'preemptively': 22982, 'malai': 22983, 'kofta': 22984, 'balaji': 22985, 'moderates': 22986, 'g2': 22987, 'slots': 22988, 'transformers': 22989, \"filmgob's\": 22990, 'rename': 22991, 'alphabetical': 22992, 'nutritional': 22993, 'yeast': 22994, 'ricotta': 22995, 'outfielders': 22996, 'wouldst': 22997, 'floof': 22998, 'psychiatrists': 22999, 'mds': 23000, 'psychologists': 23001, 'prescribe': 23002, \"schotty's\": 23003, 'resistent': 23004, 'cretin': 23005, 'they‘re': 23006, '“let': 23007, 'dtw': 23008, 'thingies': 23009, 'astralis': 23010, 'david': 23011, \"cameron's\": 23012, 'turnip': 23013, 'parachuting': 23014, 'mechanic': 23015, 'ogs': 23016, 'unitegaming': 23017, 'atonement': 23018, 'sush': 23019, 'clones': 23020, 'humane': 23021, 'euthanizes': 23022, 'pardoning': 23023, 'gazes': 23024, 'ssbu': 23025, 'butch': 23026, 'pert': 23027, 'catty': 23028, 'delude': 23029, 'dreamy': 23030, 'wordpress': 23031, 'spotify’s': 23032, 'rhyme': 23033, 'leaders': 23034, 'ragnarok': 23035, 'hallettsville': 23036, 'chuseok': 23037, 'forensic': 23038, 'reaaaaally': 23039, 'verry': 23040, '😍😂': 23041, 'forkdelta': 23042, 'overwheming': 23043, 'raining': 23044, 'gaaahhh': 23045, 'diapers': 23046, 'tuning': 23047, 'dismantling': 23048, 'flirts': 23049, \"75'\": 23050, 'curly': 23051, 'subluxation': 23052, 'chiropractor': 23053, 'thy': 23054, 'robinhood': 23055, 'libertyx': 23056, 'licenses': 23057, 'diggle': 23058, 'cheerleader': 23059, 'victimized': 23060, 'hahahaahhhahahahahahaaaaaa': 23061, 'declaring': 23062, 'whory': 23063, 'whiteouts': 23064, 'fatten': 23065, 'ak’s': 23066, 'handguns': 23067, 'bsn': 23068, '169743': 23069, 'woodsy': 23070, 'change❤': 23071, 'geared': 23072, 'intimidate': 23073, '14930': 23074, 'isoing': 23075, '😸': 23076, 'berkeley': 23077, 'cummunist': 23078, 'championing': 23079, 'banshee': 23080, 'mangled': 23081, 'hazing': 23082, 'tolerated': 23083, 'casanova': 23084, 'charters': 23085, 'angeles': 23086, 'admissions': 23087, 'stagediving': 23088, 'nosebleeds': 23089, 'almond': 23090, 'cdm': 23091, 'eastside': 23092, 'timid': 23093, 'harbour': 23094, 'pfft': 23095, 'mickster19': 23096, 'cfa': 23097, 'contagious': 23098, '“owning': 23099, 'libs”': 23100, '“intellectually': 23101, 'bankrupt”': 23102, 'coked': 23103, 'cues': 23104, 'intelligences': 23105, 'foreseen': 23106, 'unorganized': 23107, 'nuglettes': 23108, 'infusions': 23109, 'dissociative': 23110, 'smallville': 23111, 'peyote': 23112, 'refrigerators': 23113, 'existential': 23114, 'projects': 23115, 'ghosts': 23116, 'suffered': 23117, 'hhh': 23118, 'indecency': 23119, 'parlay': 23120, 'preferable': 23121, 'predictions': 23122, 'lool': 23123, 'iberville': 23124, 'airstrikes': 23125, 'careeningdirigibug': 23126, '£20': 23127, 'chiro': 23128, 'boggle': 23129, 'porzingod': 23130, 'tutilage': 23131, 'eichenwald': 23132, 'wilson': 23133, 'unselfish': 23134, 'tenured': 23135, 'vulnerability': 23136, 'douchebusters': 23137, 'noteworthy': 23138, 'governors': 23139, 'centralize': 23140, 'totalitarians': 23141, 'retcon': 23142, 'buttwallace': 23143, 'tragedies': 23144, 'discribed': 23145, 'pixelation': 23146, 'mice': 23147, 'makings': 23148, 'utkar22': 23149, 'securely': 23150, 'spellings': 23151, 'undercrackers': 23152, 'eww': 23153, 'kadri': 23154, 'scrambled': 23155, 'chevre': 23156, 'roomie': 23157, 'posion': 23158, 'crickets': 23159, '🦗': 23160, 'comradely': 23161, 'represses': 23162, 'cages': 23163, 'rickets': 23164, '208': 23165, 'investigative': 23166, 'assembling': 23167, 'morphed': 23168, 'riled': 23169, 'baby😍': 23170, 'alvalade': 23171, 'serbian': 23172, 'tamburitzans': 23173, 'fruitcart': 23174, 'oughta': 23175, 'orc': 23176, 'barbarian': 23177, 'platypus': 23178, 'mombies': 23179, 'regretful': 23180, 'daddicts': 23181, 'uncover': 23182, \"'til\": 23183, 'geocities': 23184, 'okish': 23185, 'guarenteed': 23186, 'volley': 23187, 'heartwarming': 23188, 'officiate': 23189, 'noisy': 23190, 'cockroach': 23191, 'skyshout': 23192, 'paramedic': 23193, 'frustrations': 23194, 'mgtow': 23195, 'hentaipoon': 23196, 'shrimpy': 23197, 'assery': 23198, '“scarlet': 23199, 'girflriend': 23200, 'aaf': 23201, 'feasting': 23202, 'pampered': 23203, 'altar': 23204, 'revolved': 23205, 'brawls': 23206, 'diminishing': 23207, \"dog's\": 23208, '1990': 23209, 'spike': 23210, 'flown': 23211, 'snowman': 23212, 'wonderland': 23213, 'adipose': 23214, 'flammable': 23215, 'reeeeeeeeeeee': 23216, 'martyr': 23217, '3oh': 23218, 'desis': 23219, 'europhilic': 23220, 'googlin': 23221, 'synagogue': 23222, 'solos': 23223, 'unplayable': 23224, 'duos': 23225, 'rapidly': 23226, 'boiii': 23227, 'mast': 23228, 'daddddyyy': 23229, 'omgz': 23230, 'brandy': 23231, 'participated': 23232, 'discolored': 23233, 'cookware': 23234, 'gey': 23235, '😊🍻': 23236, 'scrutinised': 23237, 'franku': 23238, 'considerable': 23239, 'skilled': 23240, 'loa': 23241, 'reusing': 23242, 'dealth': 23243, 'moveset': 23244, 'videogame': 23245, 'danbo': 23246, 'songwriters': 23247, 'dr2': 23248, 'v3': 23249, 'outsourced': 23250, \"hellman's\": 23251, 'intps': 23252, 'overabundance': 23253, 'fudge': 23254, 'breakbot': 23255, 'shoppers': 23256, 'chillicothe': 23257, 'tomboys': 23258, '💪🏼💪🏼💪🏼': 23259, 'dab': 23260, 'mandate”': 23261, 'whangarei': 23262, 'lactating': 23263, 'virility': 23264, 'backboard': 23265, 'guarding': 23266, 'goff': 23267, 'brees': 23268, 'cuuuute': 23269, 'disproven': 23270, 'warnings': 23271, 'aggressor': 23272, 'ti': 23273, 'constituencies': 23274, 'vite': 23275, 'heater': 23276, '110': 23277, \"tyreal's\": 23278, 'd2': 23279, 'disagreed': 23280, 'paarrn': 23281, 'moans': 23282, 'wld': 23283, 'snowed': 23284, 'iced': 23285, 'planners': 23286, 'fininte': 23287, 'hospitalised': 23288, 'handout': 23289, 'inconsequential': 23290, 'dealbreaker': 23291, 'devise': 23292, 'distributed': 23293, '“orange': 23294, 'bad”': 23295, 'cadre': 23296, 'gears': 23297, 'invader': 23298, 'rup': 23299, 'ratheists': 23300, 'fedoras': 23301, 'vacant': 23302, 'getting😂': 23303, 'unmemorable': 23304, 'stylish': 23305, 'mudhole': 23306, 'fbs': 23307, 'ferals': 23308, 'textbooks': 23309, 'competitiveness': 23310, 'carte': 23311, 'blanche': 23312, 'kurdistan': 23313, '330': 23314, '460': 23315, 'tex': 23316, 'curled': 23317, 'mua': 23318, 'obv': 23319, 'novelty': 23320, 'crackhead': 23321, 'zany': 23322, 'compatriote': 23323, 'buttfor': 23324, 'emao': 23325, 'fats': 23326, 'au': 23327, 'pitbulls': 23328, 'chihuahua': 23329, 'disposed': 23330, 'clung': 23331, \"no's\": 23332, 'squealed': 23333, 'grieve': 23334, '15c': 23335, 'analog': 23336, '‘baby': 23337, '17f': 23338, 'congratulatioins': 23339, '“shield': 23340, 'tomorrow”': 23341, 'bravolebs': 23342, 'magnitude': 23343, 'deport': 23344, 'seekers': 23345, 'whimp': 23346, 'prosthetics': 23347, 'beastly': 23348, 'idealogues': 23349, 'me🤪': 23350, 'unchanged': 23351, 'witches': 23352, '‘hanging': 23353, 'bros’': 23354, 'playable': 23355, 'js': 23356, 'spiked': 23357, 'mammas': 23358, 'blech': 23359, '“alcoholism': 23360, 'addiction”': 23361, 'functions': 23362, 'tasso': 23363, 'spiced': 23364, 'clickbait': 23365, 'roshi': 23366, 'lawdaddy': 23367, 'dadturion': 23368, 'shitbag': 23369, '🤣that': 23370, 'tots': 23371, 'fookin': 23372, 'paraguard': 23373, 'yeeees': 23374, 'ottavino': 23375, 'strenuous': 23376, 'rotary': 23377, 'oscillating': 23378, 'atmospheric': 23379, 'lalalalala': 23380, 'distrust': 23381, 'lausd': 23382, '✊🏼': 23383, 'danganrompa': 23384, 'sewing': 23385, 'graded': 23386, 'passrusher': 23387, 'prevention': 23388, 'renters': 23389, 'sda': 23390, \"nazi's\": 23391, 'ger': 23392, 'guests': 23393, 'showtime': 23394, 'televised': 23395, 'inting': 23396, \"'old\": 23397, \"school'\": 23398, 'manual': 23399, 'contraindicated': 23400, 'straightened': 23401, 'perp': 23402, 'oy': 23403, 'vey': 23404, '🗑': 23405, 'sewed': 23406, 'gluing': 23407, 'resize': 23408, 'dandelions': 23409, 'yisrael': 23410, 'chai': 23411, 'lovings': 23412, 'committee': 23413, 'audentes': 23414, 'fortuna': 23415, 'iuvat': 23416, 'parrots': 23417, 'hoarder': 23418, 'inshallah': 23419, 'slayer': 23420, 'vini': 23421, 'asinine': 23422, \"dictator's\": 23423, 'blasted': 23424, 'acura': 23425, 'intergul': 23426, 'dyslexic': 23427, 'spirt': 23428, 'permadeath': 23429, 'bums': 23430, 'underaged': 23431, 'ephemeral': 23432, 'deteriorates': 23433, '“unconditional': 23434, 'knewe': 23435, 'aaaaaaaaaaaaaahhh': 23436, 'refuge': 23437, 'serous': 23438, 'endometriotic': 23439, 'nasties': 23440, 'slayed': 23441, 'arouse': 23442, 'decrease': 23443, 'irreparably': 23444, 'lando': 23445, 'vader': 23446, \"'somehow'\": 23447, 'repair': 23448, 'stoppin': 23449, 'outlaws': 23450, 'sheriffs': 23451, 'massif': 23452, '‘everywhere': 23453, 'esta': 23454, 'thooorin': 23455, 'dismantle': 23456, 'costumize': 23457, 'jade': 23458, 'detergent': 23459, '80k': 23460, 'checkup': 23461, 'twizzler': 23462, 'canceling': 23463, 'coachella': 23464, 'gov’s': 23465, 'unwavy': 23466, 'provocative': 23467, 'ilb': 23468, 'annnnd': 23469, 'midfield': 23470, 'dyson': 23471, 'rippled': 23472, 'sandy': 23473, 'arbroath': 23474, 'meltdowns': 23475, 'burglar': 23476, 'sueing': 23477, 'videotapes': 23478, '❤✌': 23479, 'injustices': 23480, 'boise': 23481, 'honduras': 23482, 'rounding': 23483, 'affordable': 23484, '2hs': 23485, 'expansión': 23486, 'vu': 23487, 'chastise': 23488, 'hardness': 23489, 'presumptiveness': 23490, 'garments': 23491, 'huhhhh': 23492, '“somethin”': 23493, 'woozy': 23494, \"head's\": 23495, 'autopsy': 23496, 'turvy': 23497, 'streamlight': 23498, 'strion': 23499, 'fenix': 23500, 'pd35': 23501, 'aaaaaaaaaaaaaaand': 23502, 'shipt': 23503, 'mispropaganda': 23504, 'monologue': 23505, 'exacerbated': 23506, 'ooooof': 23507, 'goto': 23508, 'rdr2': 23509, 'transmitted': 23510, 'bo3': 23511, \"frank's\": 23512, \"luigi's\": 23513, 'piola': 23514, 'comedia': 23515, 'arte': 23516, 'squading': 23517, 'bf5': 23518, 'demented': 23519, 'sockpuppets': 23520, '“ministry”': 23521, '“general': 23522, 'overseer”': 23523, 'auntie': 23524, 'abbreviated': 23525, 'puzzled': 23526, 'squandered': 23527, 'perpetual': 23528, 'ps1': 23529, 'blake': 23530, 'splice': 23531, 'much❤️': 23532, 'exterminated': 23533, 'bigliest': 23534, 'macs': 23535, 'gimmick': 23536, 'disputes': 23537, 'relived': 23538, 'reposti’s': 23539, 'vegetarians': 23540, 'cholesterol': 23541, 'jackie': 23542, 'enfamil': 23543, 'stargazing': 23544, 'vi': 23545, 'chakras': 23546, 'impending': 23547, 'inexperience': 23548, 'comparisons': 23549, 'assigned': 23550, 'thibs': 23551, 'stubbornness': 23552, 'semblance': 23553, 'counsel': 23554, 'faxing': 23555, 'sketch': 23556, 'lcr': 23557, '“australia': 23558, 'merc': 23559, 'hammond': 23560, 'loveless': 23561, 'proably': 23562, 'cockatoos': 23563, 'rhythmic': 23564, 'maxi': 23565, 'unmusical': 23566, 'breakaways': 23567, 'mmeeeee': 23568, 'vanderbilt': 23569, 'mixtures': 23570, 'scrubbing': 23571, 'desensitised': 23572, 'batteries': 23573, 'danites': 23574, 'ooofffhh': 23575, 'turbographix16': 23576, 'dismissal': 23577, 'meight': 23578, 'ethereal': 23579, 'oi': 23580, 'mortality': 23581, '\\u202astill': 23582, '4am': 23583, 'possessive': 23584, 'eus': 23585, \"n's\": 23586, 'trex': 23587, '3m': 23588, 'mispronounce': 23589, 'gra': 23590, 'chassidus': 23591, 'whos': 23592, 'chonkers': 23593, 'wiretaps': 23594, 'bosses': 23595, 'conspirators': 23596, 'crossposting': 23597, 'stepmother': 23598, 'eso': 23599, 'bruiser': 23600, 'sylvanus': 23601, 'preds': 23602, 'looove': 23603, \"vegas'\": 23604, 'cottage': 23605, 'gooner': 23606, 'poe': 23607, 'longshot': 23608, 'chantel': 23609, \"patent's\": 23610, 'tents': 23611, 'lebanon': 23612, 'goyteamsix': 23613, 'mamzer': 23614, 'adulterous': 23615, 'nuked': 23616, 'dyed': 23617, 'methy': 23618, 'oilfield': 23619, 'snuggled': 23620, 'plaster': 23621, 'homewrecker': 23622, \"lookin'\": 23623, 'potts': 23624, 'versatile': 23625, 'volibear': 23626, 'thunderlord': 23627, 'voli': 23628, 'thunderstruck': 23629, 'lined': 23630, 'livioosa': 23631, 'liviosaa': 23632, 'illegally…': 23633, 'indescribably': 23634, '“nobody”': 23635, 'backstory': 23636, 'roadway': 23637, 'city’s': 23638, 'jurisdiction': 23639, 'oooooffff': 23640, 'schizophrenia': 23641, 'tmi': 23642, 'breastfeeding': 23643, 'descriptions': 23644, 'badmouthed': 23645, 'tldw': 23646, '“start': 23647, 'downvotes”': 23648, 'olde': 23649, 'wordy': 23650, 'goatta': 23651, 'visioned': 23652, 'uservoice': 23653, 'ecologist': 23654, 'anthropological': 23655, '☺️☺️☺️': 23656, 'doubles': 23657, 'acre': 23658, 'reacts': 23659, 'occupied': 23660, 'occupies': 23661, 'responder': 23662, 'muy': 23663, 'gorda': 23664, 'chica': 23665, 'hershey': 23666, 'ownage': 23667, 'rbi': 23668, 'bungles': 23669, 'compleatly': 23670, 'littlest': 23671, 'refractory': 23672, 'mondawggg': 23673, 'pictured': 23674, '3”': 23675, 'dude🙎🏻\\u200d♀️': 23676, 'dormatory': 23677, 'purifier': 23678, 'artanis': 23679, 'agreements': 23680, 'sensation': 23681, 'fracks': 23682, 'messaged': 23683, 'fec': 23684, 'tithed': 23685, 'premisis': 23686, 'iasip': 23687, 'refernece': 23688, 'denims': 23689, 'appendages': 23690, '“almost': 23691, 'class”': 23692, 'definelty': 23693, 'hitchhiking': 23694, 'enslaving': 23695, 'stuff🙄': 23696, 'sewage': 23697, 'whhhattttt': 23698, 'apparenlty': 23699, 'incriminating': 23700, 'paralegal': 23701, 'enticing': 23702, 'interacted': 23703, '“muh': 23704, 'saturn': 23705, 'youtubes': 23706, 'loves💕': 23707, 'justiceforshangeia': 23708, 'dmc3': 23709, 'poa': 23710, 'cooperate': 23711, 'wardens': 23712, 'diggers': 23713, 'approximate': 23714, 'irs': 23715, 'undesirables': 23716, 'infant': 23717, 'zangief': 23718, 'spd': 23719, 'scowls': 23720, 'sow': 23721, 'eva': 23722, 'cuzin': 23723, 'tolders': 23724, 'dialectics': 23725, 'songwriting': 23726, 'stoned': 23727, 'recapture': 23728, 'bitcoins': 23729, 'mayfield': 23730, 'hamburg': 23731, 'dork': 23732, 'slop': 23733, 'yarn': 23734, 'lightborn': 23735, 'gungrabbers': 23736, 'decompress': 23737, 'cushioning': 23738, 'pepperoni': 23739, 'schnapps': 23740, 'teamed': 23741, 'bellevue': 23742, 'flamboyant': 23743, 'grimes': 23744, 'fluoride': 23745, 'uhhh': 23746, 'bri': 23747, 'selfishness': 23748, 'intolerable': 23749, 'eagerly': 23750, '“test': 23751, 'salary”': 23752, 'ethically': 23753, 'troopers': 23754, 'counterfeit': 23755, 'intensely': 23756, 'shapes': 23757, '“shade”': 23758, 'antiquated': 23759, 'desirable': 23760, 'òwó': 23761, '“can’t': 23762, 'host”': 23763, 'speeders': 23764, 'dumbledoor': 23765, '‘open': 23766, 'border’': 23767, 'badminton': 23768, 'impersonators': 23769, 'nuttier': 23770, '🦀🦀🦀🦀🦀🦀🦀🦀🦀i’m': 23771, 'game🦀🦀🦀🦀🦀🦀🦀🦀🦀🦀🦀🦀🦀🦀🦀🦀🦀🦀🦀🦀': 23772, 'subterfuge': 23773, 'proportionally': 23774, 'fined': 23775, 'trp': 23776, 'liquids': 23777, 'dumpling': 23778, 'pizzas': 23779, 'fived': 23780, 'gcs': 23781, 'salmonblue': 23782, '1900': 23783, 'wooooshiety': 23784, 'unarchived': 23785, 'metabolism': 23786, '1080ti': 23787, 'i7': 23788, '8700k': 23789, 'cpu': 23790, 'wubalubadubdub': 23791, 'intruder': 23792, 'wwii': 23793, 'jointly': 23794, 'implausible': 23795, 'boondoggle': 23796, 'whachu': 23797, 'annoyance': 23798, 'jogs': 23799, 'collars': 23800, 'napoleon': 23801, 'slumbishop': 23802, 'nascarist': 23803, 'memorized': 23804, 'contortionist': 23805, 'sporting': 23806, 'avocado™️': 23807, 'cjjjjjjjj': 23808, 'boredom': 23809, \"oh'\": 23810, '200m': 23811, 'assign': 23812, 'beatin’': 23813, 'bangin’': 23814, '‘n’': 23815, 'scratchin’': 23816, 'andrews': 23817, 'allll': 23818, 'failures': 23819, 'cheapskates': 23820, 'millport': 23821, 'tbs': 23822, 'réalize': 23823, 'dysgenics': 23824, 'minites': 23825, 'coherence': 23826, '“wants': 23827, 'denver”': 23828, 'inroads': 23829, 'tossup': 23830, 'havr': 23831, 'hys': 23832, 'gardeners': 23833, 'charecter': 23834, 'fisherman': 23835, 'confidential': 23836, 'welded': 23837, 'absurdity': 23838, 'consists': 23839, '😂🤣': 23840, 'fags': 23841, 'firefox': 23842, 'extensions': 23843, '400mb': 23844, 'gigabyte': 23845, 'ensures': 23846, 'utica': 23847, 'dahlen': 23848, 'captioning': 23849, 'xcept': 23850, 'smurt': 23851, 'exceptional': 23852, 'exemptions': 23853, 'acquiring': 23854, 'engineered': 23855, 'fanfare': 23856, '30ish': 23857, 'crossfit': 23858, 'lmaooo': 23859, '“as': 23860, 'assures': 23861, 'chronicles': 23862, 'elyria': 23863, 'sire': 23864, 'asmr': 23865, 'uneventfully': 23866, 'digger': 23867, 'maxes': 23868, 'ornacia': 23869, 'pepperidge': 23870, '“hahahahha': 23871, 'diem': 23872, \"'cool\": 23873, \"worries'\": 23874, 'dramatically': 23875, 'streaky': 23876, 'pounder': 23877, 'elephants': 23878, '999': 23879, 'trant': 23880, 'trants': 23881, 'semis': 23882, 'ipad': 23883, \"vatican's\": 23884, 'jock': 23885, 'aaaaaaand': 23886, 'ooooooh': 23887, 'ope': 23888, 'gooooood': 23889, 'basejump': 23890, 'downwoted': 23891, 'binch': 23892, 'terrify': 23893, '😰': 23894, 'albeit': 23895, 'mana': 23896, 'multiclass': 23897, 'rephrased': 23898, 'certifications': 23899, 'coursera': 23900, 'udemy': 23901, 'generically': 23902, 'sussex': 23903, 'depresses': 23904, 'carousel': 23905, 'revamp': 23906, 'tolling': 23907, 'imax': 23908, 'breathtakingly': 23909, 'fluctuates': 23910, 'pipebomb': 23911, '10eth': 23912, 'hedonism': 23913, 'icr': 23914, 'pst': 23915, 'feather': 23916, 'renders': 23917, 'carbonated': 23918, 'burps': 23919, 'forts': 23920, 'whaaa': 23921, 'mitigation': 23922, 'detained': 23923, 'veered': 23924, 'worryingly': 23925, 'minigames': 23926, 'decisive': 23927, \"'n'\": 23928, 'foetus': 23929, 'descusting': 23930, 'shia': 23931, 'api': 23932, 'uploads': 23933, 'plagiarism': 23934, 'researching': 23935, 'limbs': 23936, 'peripheral': 23937, 'stealable': 23938, 'flayed': 23939, 'hada': 23940, 'morphe': 23941, 'salem': 23942, '999999999999999999999999999999999999999999999999999999999999999999999999999999999999999991000000000000000000000000000000000000000000000000000000000000000000000000000000000000000000000000000000000000000000000000000000000000000000000000000000000000000000000000000000000000000000000000000000000000000000000000000000000000000000000000000000000000000000000000001234567898765432345676543345678987654345678909876543234567898765432345678909876543234567898765432345678987654323456787654345676543456543456434543434343434323456765434567654323454323456543345678987654323456789876565656565656565656565656565454545654565454323456765432345678765456': 23943, 'predicament': 23944, 'heartened': 23945, 'prestigious': 23946, 'socialized': 23947, 'compulsory': 23948, 'subsist': 23949, 'clergy': 23950, '86': 23951, 'thts': 23952, 'donnie': 23953, 'scoops': 23954, 'businessman': 23955, 'pretense': 23956, 'chancellor': 23957, 'zapped': 23958, 'slytherin': 23959, \"'er\": 23960, 'boness': 23961, 'advantages': 23962, 'subsithoughtifellfor': 23963, 'asari': 23964, 'deformity': 23965, 'shepherd': 23966, 'siberian': 23967, 'husky': 23968, 'richer': 23969, 'gigiddy': 23970, \"'fuckin''\": 23971, 'archaic': 23972, 'decals': 23973, 'homosexuality': 23974, 'painter': 23975, 'mawma': 23976, 'okur': 23977, 'chappie': 23978, 'sufferers': 23979, '“learning”': 23980, 'physiotherapy': 23981, 'dpts': 23982, 'rui': 23983, 'gks': 23984, 'transparency': 23985, 'instigated': 23986, \"'excuse\": 23987, \"me'\": 23988, \"'sorry'\": 23989, 'jamal': 23990, 'pokerstars': 23991, 'puny': 23992, 'unsurprising': 23993, \"ebay's\": 23994, 'lefts': 23995, 'cornbread': 23996, 'muffins': 23997, 'estee': 23998, 'lauder': 23999, 'thrives': 24000, 'futile': 24001, 'waaaaaay': 24002, 'gemara': 24003, 'blackberries': 24004, 'rubus': 24005, 'ursinus': 24006, 'grandmotherly': 24007, 'enabled': 24008, 'quirk': 24009, 'idealized': 24010, 'exemplary': 24011, 'routines': 24012, 'follower': 24013, '“jaywalking': 24014, \"fruition's\": 24015, 'hoooo': 24016, \"plano's\": 24017, 'directory': 24018, 'p4': 24019, 'cusp': 24020, 'molecule': 24021, 'dairies': 24022, 'grenades': 24023, '“cover': 24024, 'name”': 24025, 'ananarchist': 24026, 'ssi': 24027, 'otc': 24028, 'ackbar': 24029, 'retriever': 24030, 'neccbeard': 24031, \"masculinity'\": 24032, \"'gangrenous\": 24033, \"arm'\": 24034, 'teh': 24035, 'gol': 24036, 'straingr': 24037, 'vermintide': 24038, 'chastity': 24039, 'dethroned': 24040, 'npcs': 24041, 'wishhhh': 24042, 'unfollowing': 24043, 'sendddinggg': 24044, 'undermining': 24045, 'multitasking': 24046, 'holland': 24047, 'frisia': 24048, 'milton': 24049, 'undefeated': 24050, 'unequivocal': 24051, 'grimsby': 24052, 'crawling': 24053, 'york”': 24054, 'lololll': 24055, 'boondock': 24056, 'mrs—mr': 24057, 'pelicans': 24058, 'mutts': 24059, 'breds': 24060, 'bred': 24061, 'skillset': 24062, 'kidnapping': 24063, 'hebephilia': 24064, 'disneyland': 24065, '‘school': 24066, 'spirit’': 24067, 'blackface': 24068, '“hi': 24069, 'now”': 24070, 'redditminusmods': 24071, 'cur': 24072, 'kindred': 24073, 'jtt': 24074, 'watersports': 24075, 'whyy': 24076, 'smalls': 24077, 'aspies': 24078, 'joseph': 24079, 'vincent': 24080, 'saquads': 24081, 'nemo': 24082, 'tickety': 24083, 'begets': 24084, 'despot': 24085, 'franz': 24086, 'ferdinand': 24087, 'solicitor': 24088, 'newstalk': 24089, 'pacers': 24090, 'tolerates': 24091, 'nordics': 24092, 'foggiest': 24093, 'overridden': 24094, 'surpassed': 24095, 'nog': 24096, 'intend': 24097, 'boycotting': 24098, 'hydro': 24099, 'venice': 24100, 'macos': 24101, 'snarkiness': 24102, '🎉🎉': 24103, 'obstruct': 24104, 'antsy': 24105, 'merits': 24106, 'vacate': 24107, 'facilitate': 24108, 'snappy': 24109, 'urgent': 24110, 'utis': 24111, 'mi5': 24112, 'grandmothers': 24113, 'primal': 24114, 'typos': 24115, 'convey': 24116, 'suitable': 24117, 'recklessness': 24118, 'snot': 24119, 'nosed': 24120, 'brat': 24121, 'croissant': 24122, 'crumbs': 24123, 'snobby': 24124, \"ca't\": 24125, 'facilitating': 24126, 'cleric': 24127, 'cred': 24128, \"'this\": 24129, \"year'\": 24130, 'toons': 24131, 'ejaculator': 24132, 'affiliations': 24133, 'deteriorate': 24134, 'dystopia': 24135, 'vauxhall': 24136, \"'all\": 24137, \"in'\": 24138, 'harvestmen': 24139, \"harvestmen'\": 24140, 'annnnnnd': 24141, 'hunni': 24142, \"gold's\": 24143, 'nrcan': 24144, 'whitepapers': 24145, 'frbs': 24146, 'harasser': 24147, 'standstill': 24148, 'fattening': 24149, 'yield': 24150, 'psychs': 24151, 'iss': 24152, \"'pick\": 24153, \"battles'\": 24154, 'aimlessly': 24155, 'customs': 24156, 'pluck': 24157, 'strand': 24158, 'panzy': 24159, 'hal': 24160, 'abandonment': 24161, 'chemist': 24162, 'goddamit': 24163, 'bedrock': 24164, 'astounded': 24165, 'phl': 24166, 'synopsis': 24167, 'prudishness': 24168, 'recker': 24169, 'pinkie': 24170, 'darth': 24171, 'plagueis': 24172, 'kotor': 24173, 'midlands': 24174, 'benavidez': 24175, 'femcels': 24176, 'repossessed': 24177, 'supplicant': 24178, 'footnote': 24179, 'loui': 24180, 'slender': 24181, '‘kiddy': 24182, 'fiddler’': 24183, 'cliché': 24184, 'bedrooms': 24185, 'darndest': 24186, 'ttc': 24187, 'raking': 24188, 'cribs': 24189, 'captivated': 24190, '06': 24191, 'mulligan': 24192, 'profound': 24193, 'rafters': 24194, 'rinds': 24195, 'dropouts': 24196, 'nanny': 24197, 'networth': 24198, 'hangovers': 24199, '54': 24200, 'tincan': 24201, 'tin': 24202, 'laker': 24203, 'funsies': 24204, 'loon': 24205, 'sorrows': 24206, 'joe’s': 24207, 'cdjr': 24208, 'financed': 24209, 'campo': 24210, 'unilaterally': 24211, 'su': 24212, 'blouse': 24213, 'courtesy': 24214, 'slurps': 24215, '“food': 24216, 'bro”': 24217, 'antichrist': 24218, 'abduct': 24219, 'windy': 24220, '“retards”': 24221, 'fyh': 24222, '‘get': 24223, 'know’': 24224, 'uncoordinated': 24225, 'plots': 24226, 'careers': 24227, '“thrill': 24228, 'chase”': 24229, '40c': 24230, '🔥😊': 24231, 'n’t': 24232, 'caving': 24233, 'raided': 24234, 'aipac': 24235, '“overreacting”': 24236, 'animosity': 24237, '🖕': 24238, 'orrrrr': 24239, 'tangie': 24240, 'bristles': 24241, 'rotfl': 24242, '“nah': 24243, 'ahead”': 24244, '💨': 24245, '1978': 24246, 'bugatti': 24247, 'ramps': 24248, 'cluster': 24249, 'unstable': 24250, 'bossfight': 24251, 'tighten': 24252, 'sapiens': 24253, 'bioware': 24254, 'fanboy': 24255, 'lethal': 24256, 'absorbs': 24257, 'resell': 24258, 'gourds': 24259, 'gin': 24260, 'ballarat': 24261, '“beautiful': 24262, 'story”': 24263, 'estimated': 24264, 'deceptively': 24265, 'foreveralone': 24266, 'camel': 24267, 'ponzi': 24268, 'apologized': 24269, 'expressed': 24270, 'infact': 24271, 'violins': 24272, 'aaaaaaaaaaah': 24273, 'breed😱': 24274, 'tremble': 24275, 'rupple': 24276, 'poopels': 24277, \"unity's\": 24278, '🧛\\u200d♀️💜': 24279, 'gis': 24280, 'podunk': 24281, 'farfetched': 24282, 'sameee': 24283, 'freckles': 24284, 'nimmo': 24285, 'infectious': 24286, 'salinas': 24287, 'officers': 24288, 'credits': 24289, 'rests': 24290, 'woh': 24291, 'concerete': 24292, 'bellletstalk': 24293, 'letstalk': 24294, 'banal': 24295, '1911': 24296, 'rummages': 24297, 'legitimize': 24298, 'russiagate': 24299, 'whistleblower': 24300, 'magnetism': 24301, 'blisters': 24302, 'shines': 24303, 'aptly': 24304, 'fuuuuuuuuck': 24305, 'dislocates': 24306, 'sirvortivask': 24307, 'pomeranian': 24308, '2lbs': 24309, \"starter's\": 24310, 'caressing': 24311, 'intervene': 24312, 'marketers': 24313, \"mother's\": 24314, '25th': 24315, 'gobert': 24316, 'housemate': 24317, 'officiant': 24318, '🤭😳🤣': 24319, 'stirrers': 24320, 'pisstaking': 24321, '‘h’': 24322, 'devotion': 24323, 'halves': 24324, 'ricefield': 24325, 'modding': 24326, 'uc': 24327, 'drummed': 24328, 'nutrition': 24329, 'wah': 24330, 'wahooooo': 24331, 'wiggins': 24332, 'awil': 24333, 'ideologically': 24334, \"'algebra'\": 24335, 'chimichanga': 24336, 'pussycat': 24337, 'seventh': 24338, 'thwarted': 24339, \"'bitch\": 24340, \"lasagna'\": 24341, 'coasts': 24342, 'affording': 24343, 'vanguardism': 24344, 'discusses': 24345, 'pertain': 24346, 'abc’s': 24347, 'peko': 24348, '270': 24349, 'incredibles': 24350, 'fizzle': 24351, 'darkfall': 24352, 'nex': 24353, 'slippy': 24354, '･ω': 24355, '☆': 24356, 'brietbart': 24357, 'cleansing': 24358, 'views”': 24359, 'dub': 24360, 'macro': 24361, 'godfather': 24362, 'transcripts': 24363, 'unopened': 24364, 'substitutes': 24365, 'forging': 24366, \"harry's\": 24367, 'slexie': 24368, 'overloaded': 24369, 'insulted': 24370, 'facecamped': 24371, 'nos': 24372, 'canister': 24373, 'parenthesis': 24374, 'spectator': 24375, 'isle': 24376, '”contextttt': 24377, 'bb20': 24378, 'geocache': 24379, 'romanceable': 24380, 'protag': 24381, 'neutered': 24382, 'narcissist”': 24383, 'ouchy': 24384, 'inaccuracies': 24385, 'impacted': 24386, 'breakers': 24387, 'crestwood': 24388, 'dastardly': 24389, 'genital': 24390, 'zepellin': 24391, 'displacing': 24392, 'soundboard': 24393, 'operator': 24394, 'quacks': 24395, 'amsterdam': 24396, 'dvr': 24397, 'celebratory': 24398, 'underprivileged': 24399, 'skewing': 24400, 'erroneously': 24401, '“no”': 24402, 'customer’s': 24403, '“zealotry': 24404, 'other’s': 24405, 'gayness': 24406, 'avers': 24407, 'literary': 24408, 'enmeshed': 24409, 'scrogg': 24410, 'lian': 24411, 'yu': 24412, 'kev': 24413, 'allocates': 24414, 'intricacies': 24415, 'sativa': 24416, 'calms': 24417, 'translated': 24418, 'feasms': 24419, 'berners': 24420, 'swarm': 24421, 'sneakarchy': 24422, 'doggie': 24423, 'xıs': 24424, 'ɹǝʍsuɐ': 24425, 'engineers': 24426, 'barometer': 24427, 'yeezus': 24428, 'krist': 24429, 'kobe': 24430, 'jatt': 24431, 'anourism': 24432, 'yoohoo': 24433, 'dismember': 24434, '🎉': 24435, 'slandering': 24436, 'crocheted': 24437, 'romper': 24438, 'perseverance': 24439, 'breakdance': 24440, 'capoeira': 24441, 'drawbacks': 24442, 'clamshell': 24443, 'clamp': 24444, 'contraindication': 24445, 'resuscitative': 24446, 'thoracotomy': 24447, 'gedmatch': 24448, 'fal': 24449, \"jerk's\": 24450, 'veronicas': 24451, 'sweetly': 24452, 'distressed': 24453, 'shreds': 24454, 'lecturing': 24455, 'dwig': 24456, 'cardiac': 24457, 'featured': 24458, 'transformer': 24459, 'prompted': 24460, 'tinge': 24461, 'perfectionism': 24462, 'pirates': 24463, 'impeachment': 24464, 'theoretically': 24465, 'meee': 24466, 'dipped': 24467, '🙏🏽': 24468, 'taylor': 24469, \"taylor's\": 24470, 'brussell': 24471, 'sprouts': 24472, \"director's\": 24473, 'unquestionable': 24474, 'diversion': 24475, 'damages': 24476, 'irreparable': 24477, '20min': 24478, 'lifesum': 24479, 'atlantahawks': 24480, 'sleeper': 24481, 'flirtationships': 24482, 'dagger': 24483, 'helix': 24484, 'whiffed': 24485, 'farmer': 24486, 'roundup': 24487, 'oligarch': 24488, '“defend”': 24489, 'exhaust': 24490, 'clearance': 24491, 'apostle': 24492, 'audacity': 24493, 'superpowers': 24494, 'knowledgeable': 24495, 'boogyman': 24496, 'experimenting': 24497, 'rebranded': 24498, '‘quarter': 24499, 'hotel’': 24500, 'fatigued': 24501, 'omgsh': 24502, 'crystals': 24503, 'bathed': 24504, 'godsey': 24505, 'subset': 24506, 'year’s': 24507, 'babybel': 24508, 'lebronlover23': 24509, 'agrew': 24510, 'skynet': 24511, 'overreact': 24512, 'funking': 24513, 'mildlyinteresting': 24514, 'loser”': 24515, 'multitudes': 24516, 'loading': 24517, 'auctions': 24518, 'plastered': 24519, 'notifications': 24520, 'worshiping': 24521, 'ivan': 24522, 'alyosha': 24523, 'relent': 24524, 'larceny': 24525, 'fundy': 24526, \"'natural'\": 24527, 'tiredness': 24528, 'resection': 24529, \"i'da\": 24530, 'incredulous': 24531, 'euros': 24532, '“breathe”': 24533, 'astros': 24534, 'torturing': 24535, '⚰️': 24536, 'recession': 24537, 'proclamations': 24538, 'rosy': 24539, 'transient': 24540, 'scabies': 24541, 'cliffs': 24542, 'rollies': 24543, 'ataae': 24544, 'girlscout': 24545, 'merrill': 24546, \"imo's\": 24547, 'peering': 24548, 'pose': 24549, 'truffled': 24550, 'copied': 24551, 'pasted': 24552, 'saaaaame': 24553, '💖💖💖': 24554, 'fluke': 24555, 'lawmakers': 24556, 'dismembering': 24557, 'rlm': 24558, 'extrapolation': 24559, 'plebs': 24560, 'crus': 24561, 'plural': 24562, 'heroically': 24563, 'eli': 24564, 'seroquel': 24565, 'deductible': 24566, 'fellatio': 24567, 'edinburgh': 24568, 'dingy': 24569, '“feeling': 24570, 'thankz': 24571, 'beggar': 24572, 'thrills': 24573, 'idolizing': 24574, '30pm': 24575, 'lowering': 24576, 'ooooooooh': 24577, '🤣🤣🤣🤣🤣🤣🤣': 24578, 'crusted': 24579, 'aspiring': 24580, 'monoxide': 24581, 'displaces': 24582, 'packard': 24583, 'wqs': 24584, 'explqining': 24585, 'there¡': 24586, 'usp': 24587, 'haskins': 24588, 'bartered': 24589, 'glock': 24590, '5933': 24591, 'barcode': 24592, 'wewantplates': 24593, 'screamed': 24594, '“benchys”': 24595, 'prerecorded': 24596, 'kerbango': 24597, 'flips': 24598, 'responsibilty': 24599, 'exclamation': 24600, 'toktomi': 24601, 'fringes': 24602, 'aj': 24603, 'jakurton': 24604, 'seagull': 24605, 'tripple': 24606, 'bewildering': 24607, 'troomtroom': 24608, 'thumbnails': 24609, 'quarterback': 24610, 'bayern': 24611, 'skul': 24612, 'slav': 24613, 'bicker': 24614, 'dispatch': 24615, 'backlog': 24616, 'unprotected': 24617, 'shockeeeeeeeeeeeer': 24618, 'printing': 24619, 'underpaying': 24620, 'ironclad': 24621, 'wilpons': 24622, 'meteor': 24623, 'hancock': 24624, \"'miss\": 24625, \"more'\": 24626, 'mancs': 24627, 'yoir': 24628, 'abstraction': 24629, 'mongoose': 24630, 'waived': 24631, 'famer': 24632, \"driver's\": 24633, 'shep': 24634, 'me2': 24635, 'femshep': 24636, 'maaaan': 24637, 'straightjacket': 24638, 'richness': 24639, 'ea’s': 24640, \"dj's\": 24641, 'caveat': 24642, 'offyear': 24643, 'remmmers': 24644, 'sendejo': 24645, 'wellness': 24646, 'callout': 24647, 'hurricane': 24648, 'overt': 24649, 'discreet': 24650, \"6'0''\": 24651, 'ico': 24652, 'silicon': 24653, '311': 24654, 'obsessive': 24655, 'mallone': 24656, 'repetitive': 24657, 'conditioned': 24658, 'orientations': 24659, 'wtf”': 24660, 'ip': 24661, 'ranges': 24662, 'stateside': 24663, 'dyscalculia': 24664, 'crippled': 24665, '60gal': 24666, 'craven': 24667, 'brule': 24668, 'jasper': 24669, 'showerthoughts': 24670, 'cybersex': 24671, 'snowpack': 24672, 'iremindme': 24673, 'clarifications': 24674, 'lullaby': 24675, 'diary': 24676, 'reliability': 24677, 'honda': 24678, 'asperger': 24679, 'housekeeper': 24680, 'sellout': 24681, 'truthful': 24682, 'aaahahahha': 24683, '😂😂❤️': 24684, 'commentaries': 24685, 'hereby': 24686, 'provoke': 24687, 'suiderstrand': 24688, 'aghulas': 24689, 'guatemala': 24690, 'grizzly': 24691, 'fetishes': 24692, 'ben': 24693, 'ghazi': 24694, 'oldies': 24695, 'sweets': 24696, 'wednesday’s': 24697, 'steering': 24698, 'traetors': 24699, 'sri': 24700, 'lanka': 24701, 'reevaluate': 24702, 'scientism': 24703, 'idiology': 24704, 'doctrine': 24705, 'baku': 24706, '1919': 24707, 'alliances': 24708, 'severed': 24709, 'familar': 24710, 'lard': 24711, 'unbridled': 24712, 'in2019': 24713, 'laycount': 24714, 'iamthesmoothoperator': 24715, 'hangul': 24716, 'to’': 24717, 'sterilised’': 24718, 'snickers': 24719, 'gumbo': 24720, 'somatotypes': 24721, 'consulted': 24722, 'dietician': 24723, 'tapas': 24724, 'lololololol': 24725, '“okay': 24726, 'pets”': 24727, '‘musician': 24728, 'structures': 24729, 'environments': 24730, 'gorgeousss': 24731, 'plagued': 24732, 'refurbished': 24733, 'alliance05': 24734, 'vita': 24735, 'storybook': 24736, 'gahhhd': 24737, 'taxi': 24738, 'mgs': 24739, 'paula': 24740, 'curl': 24741, 'abbreviation': 24742, 'misinterpreted': 24743, 'in2': 24744, 'figuratively': 24745, 'imām': 24746, 'zanadiqa': 24747, 'chunkers': 24748, 'wcj': 24749, 'corsets': 24750, '“he': 24751, 'drunk”': 24752, '9b': 24753, 'applebees': 24754, 'cleanly': 24755, 'oot': 24756, 'mercenary': 24757, 'alimony': 24758, 'snarkball': 24759, 'trimmed': 24760, 'truthers': 24761, 'hipsters': 24762, 'boned': 24763, 'laundered': 24764, 'gospel': 24765, 'ruth': 24766, 'somethinged': 24767, 'plutocrats': 24768, 'wealthcare': 24769, 'copping': 24770, 'babysitting': 24771, 'playgirl': 24772, 'boners': 24773, '“wood': 24774, 'scrape”': 24775, 'rodsmen': 24776, 'ac1': 24777, 'dman': 24778, \"taco's\": 24779, 'flawless': 24780, 'nfused': 24781, 'uffda': 24782, 'spacedicks': 24783, 'tankathon': 24784, 'sliiiiick': 24785, 'posit': 24786, 'generalised': 24787, 'wastefully': 24788, 'rased': 24789, 'gangsta': 24790, 'givem': 24791, 'arrogance': 24792, 'agitators': 24793, 'disseminate': 24794, 'hassling': 24795, 'solicitation': 24796, 'manipulator': 24797, 'confiscated': 24798, 'skele': 24799, 'yens': 24800, 'lynching': 24801, \"footballer's\": 24802, 'ablation': 24803, 'lasik': 24804, 'etiz': 24805, 'flualp': 24806, 'intact': 24807, 'literaly': 24808, 'anarchopulco': 24809, 'guice': 24810, 'brolobo': 24811, 'iww': 24812, 'nipping': 24813, 'commerce': 24814, 'rhode': 24815, 'maining': 24816, 'nm': 24817, 'minimalist': 24818, 'uggggghhhhh': 24819, 'palo': 24820, 'alto': 24821, 'sonar': 24822, 'excessively': 24823, 'aberrant': 24824, 'aspirations': 24825, 'chapo': 24826, 'whine': 24827, 'trophies': 24828, 'fathomed': 24829, 'subbredit': 24830, 'skeptic': 24831, 'intervening': 24832, 'evenings': 24833, 'seventies': 24834, 'eighties': 24835, 'spartan': 24836, 'harpies': 24837, 'snakes': 24838, 'lithuanian': 24839, 'kursenai': 24840, 'telsiai': 24841, '1930s': 24842, 'forehand': 24843, 'backpedaling': 24844, 'copycat': 24845, 'thousandth': 24846, 'astroturfing': 24847, 'cataracts': 24848, 'assess': 24849, 'filet': 24850, 'mignon': 24851, 'threshold': 24852, 'alternating': 24853, 'emphysema': 24854, 'faction': 24855, 'donagal': 24856, 'jetpacking': 24857, 'wanker': 24858, 'wrists': 24859, '☹️': 24860, 'mugging': 24861, 'enters': 24862, 'tarnish': 24863, 'flattered': 24864, 'performer': 24865, 'goodmeme': 24866, 'edging': 24867, 'obscurity': 24868, 'spermanent': 24869, 'bawled': 24870, 'midseason': 24871, 'clowned': 24872, 'backseat': 24873, 'pinkers': 24874, 'examole': 24875, 'lgtv': 24876, 'blocker’s': 24877, 'breadtube': 24878, 'snoop': 24879, \"chappelle's\": 24880, 'nutmegger': 24881, 'taxis': 24882, \"duper's\": 24883, 'king5': 24884, 'shouts': 24885, '“cam': 24886, 'models”': 24887, 'galleria': 24888, 'unkind': 24889, 'ticketable': 24890, 'massaging': 24891, 'booooooyz': 24892, 'dominating': 24893, 'starred': 24894, 'predated': 24895, 'chillest': 24896, 'mensrights': 24897, \"stinkin'\": 24898, 'screenshake': 24899, 'motm': 24900, 'goaltending': 24901, 'chechnya': 24902, 'hospitality': 24903, 'uhhhhhhhh': 24904, '88mm': 24905, 'krabs': 24906, 'unsurprised': 24907, 'shredding': 24908, 'poultry': 24909, 'dependency': 24910, 'dissmissive': 24911, 'showgirls': 24912, '10001': 24913, 'freestyle': 24914, 'wc': 24915, 'ohk': 24916, 'horrendously': 24917, 'cherrrryyyyy': 24918, 'bajoran': 24919, 'canucks': 24920, 'bulky': 24921, 'unremarkable': 24922, 'practice…': 24923, 'appalachia': 24924, 'pows': 24925, 'sprayed': 24926, 'me4': 24927, 'reapers': 24928, 'age”': 24929, 'synthesis': 24930, 'overconfident': 24931, 'fuckbois': 24932, 'valyrian': 24933, 'daenerys': 24934, 'finalized': 24935, 'pointers': 24936, 'buster': 24937, 'patent': 24938, 'viewings': 24939, 'lols': 24940, 'rewording': 24941, 'pardner': 24942, 'bandana': 24943, 'paraphrasing': 24944, 'insisted': 24945, 'charlotsvile': 24946, 'attacker': 24947, 'daytona': 24948, 'tanked': 24949, 'giver': 24950, 'taker': 24951, 'kerbal': 24952, 'volvo': 24953, 'spell😂': 24954, 'autocorrect': 24955, 'lte': 24956, '2weeks': 24957, 'primates': 24958, 'ps5': 24959, 'ps3': 24960, '1936': 24961, 'baconator': 24962, 'peculiar': 24963, 'maroon': 24964, 'xbone': 24965, 'derry': 24966, 'tyrone': 24967, 'marginalia': 24968, \"billy's\": 24969, 'ragecomic': 24970, 'airborne': 24971, 'rodents': 24972, 'validates': 24973, 'lengths': 24974, 'painlessly': 24975, 'extremes': 24976, 'materialized': 24977, 'therapies': 24978, 'grappling': 24979, \"boo's\": 24980, 'paraphrased': 24981, 'distracting': 24982, 'overjoyed': 24983, 'spans': 24984, 'woodfield': 24985, 'sc6': 24986, 'colourful': 24987, 'rhonj': 24988, 'protectiveness': 24989, 'hiiden': 24990, 'motives': 24991, 'fappingpedant': 24992, 'unexpectedjokers': 24993, 'fhe': 24994, \"nanaimo's\": 24995, 'saddos': 24996, 'gypsies': 24997, '970': 24998, 'sv': 24999, 'dangnabbit': 25000, 'curds': 25001, 'stp': 25002, 'execute': 25003, '“conspiracy': 25004, 'crimes”': 25005, 'riverside': 25006, '1993': 25007, 'aah': 25008, 'decoration': 25009, 'robb': 25010, 'en': 25011, 'riverrun': 25012, 'freys': 25013, 'tanned': 25014, 'mras': 25015, 'hellseashell': 25016, 'abv': 25017, '20ish': 25018, 'bigoteering': 25019, 'penmanship': 25020, \"'selective'\": 25021, 'jamskater': 25022, 'dislodge': 25023, 'swansons': 25024, 'wallingford': 25025, 'janky': 25026, 'slogan': 25027, '😟': 25028, 'carny': 25029, 'fossil': 25030, 'geological': 25031, '40th': 25032, 'sunrises': 25033, 'sunsets': 25034, 'experiments': 25035, 'pug': 25036, 'mechwarrior': 25037, 'louisiana': 25038, 'stations': 25039, '16oz’s': 25040, 'daiquiris': 25041, 'talker': 25042, '⭐️': 25043, 'actuallly': 25044, 'unlit': 25045, 'totem': 25046, 'profiting': 25047, \"ideology's\": 25048, 'fueles': 25049, 'darwinist': 25050, 'proccess': 25051, 'succeded': 25052, 'craves': 25053, 'ruffles': 25054, 'escalator': 25055, 'crumb': 25056, 'evaders': 25057, 'brodie': 25058, 'calgary': 25059, 'herald': 25060, 'batting': 25061, 'equation': 25062, 'fuckload': 25063, 'biometric': 25064, 'jarring': 25065, 'nesquick': 25066, 'tamaki': 25067, 'hazy': 25068, 'withdrawn': 25069, 'cults': 25070, 'rituals': 25071, 'tpusa': 25072, 'snaps': 25073, 'criticizes': 25074, 'jane': 25075, 'scouring': 25076, 'peninsula': 25077, 'shopko': 25078, 'economies': 25079, 'requiring': 25080, 'galloway': 25081, 'griii': 25082, 'milwaukee': 25083, 'charlotte': 25084, 'hb': 25085, 'caucus': 25086, 'iiii': 25087, 'blessss': 25088, 'eeggsss': 25089, 'femicide': 25090, 'smarty': 25091, 'employ': 25092, 'scarce': 25093, 'overlook': 25094, 'funerals': 25095, 'benefited': 25096, 'lerfect': 25097, 'lunchpine': 25098, 'nutrient': 25099, 'scientology': 25100, \"paleho's\": 25101, 'anxieties': 25102, 'units': 25103, '🔥': 25104, 'alleged': 25105, 'equating': 25106, 'defections': 25107, 'operational': 25108, 'hearns': 25109, '🙄😏🤷\\u200d♀️': 25110, 'tgif': 25111, 'undermined': 25112, '15mph': 25113, '30mph': 25114, 'mugged': 25115, 'vigalantes': 25116, 'endometriosis': 25117, 'accidently': 25118, 'hookup': 25119, 'ukpol': 25120, 'ayyyyyyyyyy': 25121, 'zoetrope': 25122, '‘wouldn’t': 25123, 'ironic’': 25124, '16k': 25125, 'ssssssh': 25126, 'tranna': 25127, 'sadden': 25128, 'hex': 25129, 'commen': 25130, 'parachute': 25131, 'walled': 25132, '£25': 25133, 'loaf': 25134, 'devastated': 25135, 'anywho': 25136, 'defectives': 25137, 'critic': 25138, 'menacing': 25139, 'caul': 25140, 'spar': 25141, 'shitstorm': 25142, 'truthtoirony': 25143, 'hmm🤔': 25144, 'hymen': 25145, 'malfunctioned': 25146, '600hr': 25147, 'sombra': 25148, 'messageme': 25149, 'creepypost': 25150, '231714': 25151, 'miked': 25152, 'benghazi': 25153, 'companions': 25154, 'thor': 25155, 'ulted': 25156, 'womands': 25157, 'invading': 25158, 'westeros': 25159, 'sleeptrain': 25160, 'venture': 25161, 'barbaric': 25162, 'seeig': 25163, 'overhead': 25164, 'geezer': 25165, 'accusing': 25166, 'tenancy': 25167, 'clues': 25168, 'herr': 25169, 'breakout': 25170, 'tsundere': 25171, 'yiddish': 25172, 'hypnosis': 25173, 'nbastreams': 25174, 'deface': 25175, 'shabby': 25176, 'pokimane’s': 25177, 'uplay': 25178, 'nodinputpad': 25179, 'athiest': 25180, 'idc': 25181, 'relateable': 25182, 'pcos': 25183, 'gorguis': 25184, '“nugget”': 25185, 'corgi': 25186, 'demoted': 25187, 'sfo': 25188, 'generalizing': 25189, 'encourave': 25190, 'babbling': 25191, 'leavers': 25192, 'copped': 25193, 'barboza': 25194, 'undisputed': 25195, 'bagels': 25196, 'psyched': 25197, 'grossm': 25198, 'woulndt': 25199, 'mccree': 25200, 'pandora': 25201, 'leakage': 25202, 'alleviate': 25203, 'cleanser': 25204, 'boba': 25205, 'grubhub': 25206, 'deliveries': 25207, 'frego': 25208, 'magnets': 25209, '7eth': 25210, 'ist': 25211, 'ecj': 25212, 'unilateral': 25213, 'a50': 25214, 'revocation': 25215, 'buildup': 25216, 'hespect': 25217, 'hurricanes': 25218, 'shifting': 25219, 'degrom': 25220, '17m': 25221, 'indignant': 25222, 'proactive': 25223, '9gag': 25224, 'multiplication': 25225, \"republic's\": 25226, 'mercedes': 25227, 'notetaking': 25228, 'nhl19': 25229, 'hrc': 25230, 'tpp': 25231, 'atrociously': 25232, 'cliffhangers': 25233, \"'thanks\": 25234, '👻': 25235, 'irretrievably': 25236, 'huzzah': 25237, 'youuuuuuu': 25238, 'sippinthatminttea': 25239, 'monumentally': 25240, 'mk': 25241, 'suited': 25242, 'profusely': 25243, 'playin': 25244, 'seep': 25245, 'weeping': 25246, 'xx': 25247, 'congratulatory': 25248, '❄💙': 25249, '😵': 25250, '🤨': 25251, '🅱️endies': 25252, '🔥🔥🔥': 25253, 'lovejoy': 25254, 'depths': 25255, 'sta': 25256, 'ninjutsu': 25257, 'homestead': 25258, 'crater': 25259, 'crystal': 25260, 'ochils': 25261, 'clackmannanshire': 25262, 'outrageously': 25263, 'comms': 25264, 'grudges': 25265, 'dehydrates': 25266, 'volkswagen': 25267, 'volition': 25268, 'scurrying': 25269, 'baseboards': 25270, 'probabilistic': 25271, 'cert': 25272, 'certs': 25273, 'jobseeker': 25274, 'deferral': 25275, 'electronically': 25276, 'winz': 25277, 'dragonstone': 25278, 'yyyy': 25279, 'allowances': 25280, 'returnable': 25281, 'oncology': 25282, 'osaka': 25283, 'cue': 25284, 'lineout': 25285, 'tpn': 25286, 'mori': 25287, \"nurse's\": 25288, 'factorio': 25289, 'modded': 25290, 'probabaly': 25291, 'informs': 25292, 'mispronounced': 25293, 'misspelled': 25294, 'marshmallows': 25295, 'akron': 25296, 'elijah': 25297, 'mistakenly': 25298, 'shaft': 25299, 'trifecta': 25300, 'sgtsoyboy': 25301, 'qweefs': 25302, 'successfull': 25303, 'resistance©': 25304, \"50's\": 25305, \"school's\": 25306, 'referrals': 25307, 'establishing': 25308, '2100': 25309, 'how’s': 25310, 'magamers': 25311, 'injure': 25312, 'chiaroscuro': 25313, 'mades': 25314, 'dogmatics': 25315, 'forwardsfromgrandma': 25316, 'scandinavian': 25317, 'condemning': 25318, 'ppr': 25319, \"y'our\": 25320, 'pout': 25321, 'bathing': 25322, 'waying': 25323, 'cuteee': 25324, 'disparage': 25325, 'raptor': 25326, '🎶❣️': 25327, 'branding': 25328, 'lawless': 25329, 'hhhh': 25330, 'mutton': 25331, 'chop': 25332, 'austinite': 25333, 'inflicted': 25334, 'klutz': 25335, 'justing': 25336, 'humming': 25337, 'rediting': 25338, 'craptastic': 25339, 'macron': 25340, 'exlcuding': 25341, 'celebrations': 25342, 'whipping': 25343, \"bernie's\": 25344, 'ooooonnn': 25345, 'woofer': 25346, 'plummeting': 25347, 'faaaaarrrr': 25348, 'tearful': 25349, 'unfriend': 25350, 'dissapointing': 25351, 'cherokee': 25352, 'garris': 25353, 'rollerblades': 25354, 'andalsothat': 25355, 'mentalhealth': 25356, 'buffs': 25357, 'zen': 25358, 'midge’s': 25359, 'misleads': 25360, 'gremlins': 25361, 'coupons': 25362, 'wacom': 25363, 'animator': 25364, '“things': 25365, 'persistence': 25366, 'enquiring': 25367, 'appointing': 25368, 'gonn': 25369, 'takeout': 25370, 'karts': 25371, '600ms': 25372, 'hydration': 25373, 'geolibertarianism': 25374, 'sissy': 25375, 'regional': 25376, 'centrifugal': 25377, 'bumblepuppy': 25378, 'publish': 25379, 'skirmish': 25380, 'disregarded': 25381, 'jama211': 25382, 'chinaman': 25383, 'millionth': 25384, 'yuan': 25385, 'oopsdidntmeantoo': 25386, 'lbr': 25387, 'benders': 25388, 'gank': 25389, 'storylines': 25390, 'palling': 25391, 'hereticals': 25392, 'plunk': 25393, 'you🤘🏽🙏🏼': 25394, 'barracks': 25395, 'gah': 25396, 'tov': 25397, 'scaly': 25398, 'moba': 25399, 'mobas': 25400, 'staples': 25401, 'genres': 25402, 'petrol': 25403, 'gomenasai': 25404, 'brow': 25405, 'reformism': 25406, 'narration': 25407, '🇦🇺': 25408, 'federally': 25409, 'fmcsa': 25410, 'chartreuse': 25411, 'wankfest': 25412, 'legislative': 25413, 'communicated': 25414, 'lrs': 25415, 'lagging': 25416, 'downright': 25417, 'deflections': 25418, 'caller': 25419, 'eyesocket': 25420, 'blacklock': 25421, 'mailman': 25422, '“corruption”': 25423, 'settling': 25424, 'jog': 25425, 'segregation': 25426, 'sund': 25427, 'looool': 25428, '350b': 25429, 'freebie': 25430, 'purgatory': 25431, 'jolex': 25432, 'grated': 25433, 'staffers': 25434, 'sap': 25435, 'pip': 25436, 'shootouts': 25437, 'garbagepailgrrrl': 25438, 'tronco': 25439, 'otro': 25440, 'athleticism': 25441, \"coach's\": 25442, 'cabaret': 25443, 'insufferable': 25444, 'processor': 25445, 'maxcellcomics': 25446, \"disney's\": 25447, 'takeover': 25448, 'oreos': 25449, 'lethals': 25450, 'clawed': 25451, 'hitbox': 25452, 'disorders': 25453, 'ameliorate': 25454, 'programmers': 25455, 'rundown': 25456, 'mx9': 25457, 'associating': 25458, 'untucked': 25459, 'funkos': 25460, 'carts': 25461, 'tb12': 25462, 'ponds': 25463, 'markings': 25464, 'bobby': 25465, 'wbc': 25466, 'unification': 25467, '0mg': 25468, 'maggot': 25469, 'daaaaang': 25470, 'greggs': 25471, 'scholomance': 25472, 'noctis': 25473, \"5'6\": 25474, 'thier': 25475, 'basking': 25476, 'finances': 25477, 'newbie': 25478, 'initiates': 25479, 'mercenaries': 25480, 'nerfing': 25481, 'hudna': 25482, 'alludes': 25483, 'quranic': 25484, 'truces': 25485, 'flimsy': 25486, 'pretenses': 25487, 'cobras': 25488, 'wimbledon’s': 25489, 'jogfrey': 25490, 'ghostbusters': 25491, 'deforestation': 25492, 'alice': 25493, 'inflammatory': 25494, 'hoard': 25495, 'lsd': 25496, 'rector': 25497, 'dilf': 25498, 'fearing': 25499, 'cahpters': 25500, 'preserving': 25501, 'admits': 25502, 'uniting': 25503, 'surmount': 25504, 'puriod': 25505, 'pebble': 25506, '2se': 25507, '500mg': 25508, 'redose': 25509, 'differentiating': 25510, 'normalization': 25511, 'coconuts': 25512, 'django': 25513, 'medicaid': 25514, 'rammed': 25515, \"crackin'\": 25516, \"'1000\": 25517, \"slap'\": 25518, 'unbunch': 25519, '“tripolar”': 25520, 'oleander': 25521, 'sows': 25522, 'rescind': 25523, 'innie': 25524, 'aby': 25525, 'escrow': 25526, 'doohickey': 25527, 'truechristian': 25528, 'truechristianity': 25529, 'dishearteningly': 25530, 'impeachments': 25531, 'credential': 25532, 'joaquin': 25533, 'dep': 25534, 'tutorials': 25535, 'peterson': 25536, 'yesturday': 25537, 'easly': 25538, 'recharge': 25539, '5mins': 25540, 'addicting': 25541, 'paganism': 25542, 'viking': 25543, 'hellenism': 25544, 'decifer': 25545, 'ouh': 25546, 'shittt': 25547, 'dew': 25548, 'nova': 25549, 'disarm': 25550, 'wooah': 25551, 'postseason': 25552, 'unrepentant': 25553, 'alchoholic': 25554, 'raisedbyborderlines': 25555, 'tendency': 25556, 'fooling': 25557, 'penquin': 25558, 'sleazy': 25559, 'surge': 25560, 'squares': 25561, 'pumpkin': 25562, 'lattes': 25563, \"uva's\": 25564, 'idles': 25565, 'baclground': 25566, 'theyve': 25567, 'risqué': 25568, 'feat': 25569, 'whaddaya': 25570, 'huntington': 25571, 'es': 25572, 'carne': 25573, 'burro': 25574, \"name's\": 25575, 'gardener': 25576, 'thins': 25577, 'splinters': 25578, 'jumpshot': 25579, 'stair': 25580, 'disordered': 25581, 'polo': 25582, 'alrdy': 25583, 'combover': 25584, 'suitor': 25585, 'characteristic': 25586, 'nae': 25587, 'jojo': 25588, 'modifier': 25589, 'affirmation': 25590, 'meddlesome': 25591, 'mitzvot': 25592, 'basks': 25593, 'candlelight': 25594, 'spellbound': 25595, 'hannukah': 25596, 'evan': 25597, 'honies': 25598, 'mandle': 25599, 'downplaying': 25600, 'guys’': 25601, 'lubrication': 25602, 'redo': 25603, '😴😴': 25604, 'mikans': 25605, 'aforementioned': 25606, '“tin': 25607, 'conspiracy”': 25608, 'rappees': 25609, 'travels': 25610, 'helm': 25611, 'armored': 25612, 'blessing': 25613, 'testify': 25614, 'feign': 25615, 'sepsis': 25616, 'yeha': 25617, 'unfortnatwly': 25618, 'rebuttals': 25619, 'naiveté': 25620, 'glitched': 25621, 'lightsaber': 25622, 'renowned': 25623, 'versatility': 25624, 'bourgeoning': 25625, 'grampians': 25626, 'demagoguery': 25627, 'euphoric': 25628, 'tipbot': 25629, 'casted': 25630, 'doin': 25631, 'cobbler': 25632, 'portrait': 25633, 'oceania': 25634, 'pumpkins': 25635, 'portaboobies': 25636, 'revive': 25637, 'smfh': 25638, 'gbs': 25639, 'acsended': 25640, 'fakecels': 25641, 'truecels': 25642, 'goodlooking': 25643, 'ascended': 25644, 'severally': 25645, '72hrs': 25646, 'druer': 25647, 'tuesdays': 25648, 'meatless': 25649, 'meatcycling': 25650, '“down': 25651, 'kidz”': 25652, 'hires': 25653, 'jessistyles': 25654, 'tact': 25655, '😂😂😂😂': 25656, 'indentured': 25657, 'laborer': 25658, '😂😂😂😂😂😂👌🏼👌🏼👌🏼👌🏼👌🏼': 25659, '4x4': 25660, 'poors': 25661, 'dow': 25662, 'entitlements': 25663, 'reformed': 25664, 'vigilantes': 25665, '737s': 25666, 'lmaoooooooooo': 25667, 'elated': 25668, '467': 25669, 'peodphile': 25670, 'necrophiliac': 25671, 'gba': 25672, 'abandonned': 25673, '🥀🥀🥀': 25674, '🚓🍩🚓🍩🚓': 25675, 'lulz': 25676, 'hanoi': 25677, '🤗🤗': 25678, 'summer’s': 25679, 'orators': 25680, \"goin'\": 25681, 'ducker': 25682, 'mate😂': 25683, 'windbreakers': 25684, 'diligence': 25685, 'part”': 25686, 'lynch': 25687, 'backward': 25688, 'defecit': 25689, '‘m16': 25690, 'maravich’': 25691, 'siamese': 25692, 'pounces': 25693, 'telus': 25694, 'koodo': 25695, 'fido': 25696, 'ecosystem': 25697, 'adaptor': 25698, 'hdmi': 25699, 'pfffft': 25700, 'cakewalk': 25701, 'shined': 25702, 'wifey': 25703, 'clinical': 25704, 'chambers': 25705, '15mins': 25706, 'ahhhhhhhhghghhh': 25707, 'christine': 25708, 'interceptions': 25709, 'requiem': 25710, 'deformities': 25711, 'prophecies': 25712, 'sparing': 25713, 'blabbering': 25714, 'warfare': 25715, 'sanctions': 25716, 'misconceptions': 25717, 'motherfuckers': 25718, 'observator': 25719, 'pulju': 25720, 'pretended': 25721, 'hav': 25722, \"ya'\": 25723, 'alternately': 25724, 'overvalued': 25725, 'shorted': 25726, 'sundogs': 25727, 'thebstreet': 25728, '22pm': 25729, \"that'\": 25730, 'baltimore': 25731, 'fortnitecompetitive': 25732, 'zeppelin': 25733, 'holdem': 25734, 'shifty': 25735, 'pauses': 25736, 'foyer': 25737, 'salaam': 25738, 'shaitan': 25739, 'steadfastness': 25740, 'mid20s': 25741, 'provider': 25742, 'sconsin': 25743, 'goshdarn': 25744, 'pulitzer': 25745, '“inaccurate”': 25746, '2001st': 25747, 'omgggg': 25748, 'stassi': 25749, 'pores': 25750, 'volleyball': 25751, 'unimaginable': 25752, 'morton': 25753, 'snaked': 25754, 'surround': 25755, 'sickening': 25756, 'dirtbag': 25757, 'fuckstick': 25758, 'checkouts': 25759, 'douching': 25760, 'acknowledges': 25761, 'timmy': 25762, 'lawlessness—“the': 25763, 'phone”': 25764, 'tariff': 25765, 'rivet': 25766, 'budge': 25767, 'quota': 25768, 'attending': 25769, 'nonchalantly': 25770, 'swatting': 25771, '000k': 25772, 'conquest': 25773, '“siri': 25774, 'unreliable': 25775, 'rises': 25776, 'irrelevance': 25777, 'skew': 25778, 'espouse': 25779, 'libtad': 25780, 'seabiscuit': 25781, 'flabbergasted': 25782, 'dogger': 25783, 'glowing': 25784, 'provision': 25785, 'soythress': 25786, 'thumping': 25787, 'w4': 25788, 'stasis': 25789, 'nize': 25790, 'eloquently': 25791, 'specialist': 25792, 'refusal': 25793, 'butchered': 25794, 'sharpton': 25795, 'righty': 25796, 'endlines': 25797, 'agaaain”': 25798, 'juicing': 25799, \"jimmy's\": 25800, \"sheriff's\": 25801, 'columbine': 25802, 'chantex': 25803, \"'quit\": 25804, \"smoking'\": 25805, 'atf': 25806, 'mapgen': 25807, 'labyrinth': 25808, 'pyrocynical': 25809, 'akin': 25810, '“friend”': 25811, 'compton': 25812, 'nypd': 25813, 'squeaked': 25814, 'oversell': 25815, 'snowballs': 25816, \"limmy's\": 25817, 'sketches': 25818, 'gmc': 25819, \"mercy's\": 25820, 'bops': 25821, 'gramatik': 25822, 'bocce': 25823, 'cucumber': 25824, 'parayko': 25825, 'amusementparkshenanigans': 25826, 'storyteller': 25827, 'fornicate': 25828, 'rabbits': 25829, \"'fun'\": 25830, 'halved': 25831, 'organizers': 25832, 'aquarium': 25833, 'shorty': 25834, 'gigacope': 25835, '🤣😂': 25836, 'memeing': 25837, 'incentivise': 25838, 'skypeia': 25839, 'coincidentally': 25840, 'gdpr': 25841, 'qp': 25842, 'inbetween': 25843, 'stressors': 25844, 'showy': 25845, 'yoooo': 25846, 'intends': 25847, 'outlast': 25848, 'vortiger': 25849, 'yeste': 25850, 'saod': 25851, 'isil': 25852, 'tiaras': 25853, 'izzy': 25854, 'noriega': 25855, 'seafoam': 25856, '16c': 25857, 'nudists': 25858, 'hardy': 25859, 'micklethwait': 25860, 'twoxchromosomes': 25861, 'armada': 25862, 'propagating': 25863, 'lehner': 25864, 'insurances': 25865, 'emote': 25866, 'septum': 25867, 'composed': 25868, '5pm': 25869, 'lisburn': 25870, 'aesthetic': 25871, 'militarized': 25872, 'cross”': 25873, 'zullily': 25874, 'buzzkill': 25875, 'vampired': 25876, 'inapropriate': 25877, 'brownlow': 25878, 'jiggy': 25879, 'goldmine': 25880, 'diagonal': 25881, 'trickiest': 25882, 'fiona': 25883, 'activism': 25884, 'intersects': 25885, 'midday': 25886, 'mmmmmm': 25887, 'semper': 25888, 'nerdalis': 25889, 'peppered': 25890, 'moth': 25891}\n"
          ],
          "name": "stdout"
        }
      ]
    },
    {
      "cell_type": "code",
      "metadata": {
        "id": "aPg8ECwF_RLM",
        "colab": {
          "base_uri": "https://localhost:8080/"
        },
        "outputId": "f28d8388-66fc-4f3c-ca40-aea2a18e13f8"
      },
      "source": [
        "print(x_train_fin.shape)"
      ],
      "execution_count": null,
      "outputs": [
        {
          "output_type": "stream",
          "text": [
            "(36308, 60)\n"
          ],
          "name": "stdout"
        }
      ]
    },
    {
      "cell_type": "code",
      "metadata": {
        "id": "qn03ryi_4pjm"
      },
      "source": [
        ""
      ],
      "execution_count": null,
      "outputs": []
    },
    {
      "cell_type": "code",
      "metadata": {
        "colab": {
          "base_uri": "https://localhost:8080/"
        },
        "id": "RYYMSS6k86fG",
        "outputId": "3a28d127-82d4-4916-8000-cbc0e0ff4a09"
      },
      "source": [
        "\n",
        "print(x_test_fin[3])"
      ],
      "execution_count": null,
      "outputs": [
        {
          "output_type": "stream",
          "text": [
            "[   0    0    0    0    0    0    0    0    0    0    0    0    0    0\n",
            "   22  905   26    4 2703  321]\n"
          ],
          "name": "stdout"
        }
      ]
    },
    {
      "cell_type": "code",
      "metadata": {
        "id": "y-96KAWF-lAv"
      },
      "source": [
        "y_train_fin = np.asarray(ay_train).astype('float32')\n",
        "y_test_fin = np.asarray(ay_test).astype('float32')\n",
        "y_val_fin = np.asarray(ay_val).astype('float32')"
      ],
      "execution_count": null,
      "outputs": []
    },
    {
      "cell_type": "code",
      "metadata": {
        "colab": {
          "base_uri": "https://localhost:8080/"
        },
        "id": "JKidXrFp_6by",
        "outputId": "8e62da83-ad38-4749-ef60-69c1c26cb937"
      },
      "source": [
        "ay_train[0]"
      ],
      "execution_count": null,
      "outputs": [
        {
          "output_type": "execute_result",
          "data": {
            "text/plain": [
              "array([0., 0., 0., 0., 0., 0., 0., 0., 0., 0., 0., 0., 0., 0., 0., 0., 0.,\n",
              "       0., 0., 0., 1., 0., 0., 0., 0., 0., 0., 0.], dtype=float32)"
            ]
          },
          "metadata": {
            "tags": []
          },
          "execution_count": 55
        }
      ]
    },
    {
      "cell_type": "code",
      "metadata": {
        "colab": {
          "base_uri": "https://localhost:8080/"
        },
        "id": "Erz4yAvf9UfC",
        "outputId": "14e074f7-cada-482c-bb07-47ec557d495e"
      },
      "source": [
        "from keras.models import Sequential\n",
        "from keras.layers import Flatten, Dense, Embedding,Dropout\n",
        "model=Sequential()\n",
        "model.add(Embedding(10000,95,input_length=30))\n",
        "model.add(Flatten())\n",
        "model.add(Dropout(0.5))\n",
        "model.add(Dense(128))\n",
        "model.add(Dropout(0.2))\n",
        "model.add(Dense(28, activation='softmax'))\n",
        "model.summary()"
      ],
      "execution_count": null,
      "outputs": [
        {
          "output_type": "stream",
          "text": [
            "Model: \"sequential_6\"\n",
            "_________________________________________________________________\n",
            "Layer (type)                 Output Shape              Param #   \n",
            "=================================================================\n",
            "embedding_6 (Embedding)      (None, 30, 95)            950000    \n",
            "_________________________________________________________________\n",
            "flatten_6 (Flatten)          (None, 2850)              0         \n",
            "_________________________________________________________________\n",
            "dropout_6 (Dropout)          (None, 2850)              0         \n",
            "_________________________________________________________________\n",
            "dense_12 (Dense)             (None, 128)               364928    \n",
            "_________________________________________________________________\n",
            "dropout_7 (Dropout)          (None, 128)               0         \n",
            "_________________________________________________________________\n",
            "dense_13 (Dense)             (None, 28)                3612      \n",
            "=================================================================\n",
            "Total params: 1,318,540\n",
            "Trainable params: 1,318,540\n",
            "Non-trainable params: 0\n",
            "_________________________________________________________________\n"
          ],
          "name": "stdout"
        }
      ]
    },
    {
      "cell_type": "code",
      "metadata": {
        "colab": {
          "base_uri": "https://localhost:8080/"
        },
        "id": "GQb5NQg56tjb",
        "outputId": "edd4a21a-11ab-401b-bd5c-d0c3c11bb6ce"
      },
      "source": [
        "from keras.models import Sequential\n",
        "from keras.layers import Flatten, Dense, Embedding,Dropout, BatchNormalization, LSTM, SimpleRNN\n",
        "from tensorflow.keras import regularizers, initializers\n",
        "model=Sequential()\n",
        "model.add(Embedding(10000,95,input_length=50))\n",
        "model.add(BatchNormalization(momentum=0.999))\n",
        "model.add(Dropout(0.3))\n",
        "model.add(Flatten())\n",
        "model.add(Dense(128,activation='relu',kernel_initializer='he_normal'))\n",
        "model.add(Dropout(0.3))\n",
        "model.add(Dense(28, activation='softmax',kernel_regularizer=regularizers.l1(0.0001)))\n",
        "model.summary()"
      ],
      "execution_count": null,
      "outputs": [
        {
          "output_type": "stream",
          "text": [
            "Model: \"sequential_1\"\n",
            "_________________________________________________________________\n",
            "Layer (type)                 Output Shape              Param #   \n",
            "=================================================================\n",
            "embedding_1 (Embedding)      (None, 50, 95)            950000    \n",
            "_________________________________________________________________\n",
            "batch_normalization_1 (Batch (None, 50, 95)            380       \n",
            "_________________________________________________________________\n",
            "dropout_2 (Dropout)          (None, 50, 95)            0         \n",
            "_________________________________________________________________\n",
            "flatten_1 (Flatten)          (None, 4750)              0         \n",
            "_________________________________________________________________\n",
            "dense_2 (Dense)              (None, 128)               608128    \n",
            "_________________________________________________________________\n",
            "dropout_3 (Dropout)          (None, 128)               0         \n",
            "_________________________________________________________________\n",
            "dense_3 (Dense)              (None, 28)                3612      \n",
            "=================================================================\n",
            "Total params: 1,562,120\n",
            "Trainable params: 1,561,930\n",
            "Non-trainable params: 190\n",
            "_________________________________________________________________\n"
          ],
          "name": "stdout"
        }
      ]
    },
    {
      "cell_type": "code",
      "metadata": {
        "colab": {
          "base_uri": "https://localhost:8080/"
        },
        "id": "aYQXK5SZO302",
        "outputId": "88ffb2ec-adc4-49a2-addd-660eb9722281"
      },
      "source": [
        "from keras.models import Sequential\n",
        "from keras.layers import Flatten, Dense, Embedding,Dropout, BatchNormalization, LSTM\n",
        "from tensorflow.keras import regularizers, initializers\n",
        "m_lstm=Sequential()\n",
        "m_lstm.add(Embedding(10000,32,input_length=30))\n",
        "m_lstm.add(BatchNormalization())\n",
        "m_lstm.add(LSTM(32))\n",
        "m_lstm.add(Dropout(0.2))\n",
        "m_lstm.add(Dense(28,activation='softmax',kernel_regularizer=regularizers.l1(0.01)))\n",
        "m_lstm.summary()"
      ],
      "execution_count": null,
      "outputs": [
        {
          "output_type": "stream",
          "text": [
            "Model: \"sequential_8\"\n",
            "_________________________________________________________________\n",
            "Layer (type)                 Output Shape              Param #   \n",
            "=================================================================\n",
            "embedding_8 (Embedding)      (None, 30, 32)            320000    \n",
            "_________________________________________________________________\n",
            "batch_normalization_1 (Batch (None, 30, 32)            128       \n",
            "_________________________________________________________________\n",
            "lstm_1 (LSTM)                (None, 32)                8320      \n",
            "_________________________________________________________________\n",
            "dropout_10 (Dropout)         (None, 32)                0         \n",
            "_________________________________________________________________\n",
            "dense_15 (Dense)             (None, 28)                924       \n",
            "=================================================================\n",
            "Total params: 329,372\n",
            "Trainable params: 329,308\n",
            "Non-trainable params: 64\n",
            "_________________________________________________________________\n"
          ],
          "name": "stdout"
        }
      ]
    },
    {
      "cell_type": "code",
      "metadata": {
        "colab": {
          "base_uri": "https://localhost:8080/"
        },
        "id": "ACOCBATAPTmX",
        "outputId": "4855858c-ab5e-47c3-deac-83aef1622963"
      },
      "source": [
        "model.compile(loss=\"categorical_crossentropy\", optimizer='adam',metrics=[\"accuracy\"])\n",
        "result=model.fit(x_train_fin, y_train_fin, epochs=7, batch_size=32, validation_data=(x_val_fin,y_val_fin))\n"
      ],
      "execution_count": null,
      "outputs": [
        {
          "output_type": "stream",
          "text": [
            "Epoch 1/7\n",
            "1135/1135 [==============================] - 26s 22ms/step - loss: 2.6091 - accuracy: 0.3815 - val_loss: 2.8407 - val_accuracy: 0.3505\n",
            "Epoch 2/7\n",
            "1135/1135 [==============================] - 25s 22ms/step - loss: 1.8063 - accuracy: 0.5234 - val_loss: 2.6205 - val_accuracy: 0.3701\n",
            "Epoch 3/7\n",
            "1135/1135 [==============================] - 24s 22ms/step - loss: 1.3705 - accuracy: 0.6094 - val_loss: 2.2898 - val_accuracy: 0.4096\n",
            "Epoch 4/7\n",
            "1135/1135 [==============================] - 24s 21ms/step - loss: 1.0715 - accuracy: 0.6867 - val_loss: 1.9797 - val_accuracy: 0.4769\n",
            "Epoch 5/7\n",
            "1135/1135 [==============================] - 24s 22ms/step - loss: 0.8546 - accuracy: 0.7485 - val_loss: 2.0091 - val_accuracy: 0.4934\n",
            "Epoch 6/7\n",
            "1135/1135 [==============================] - 25s 22ms/step - loss: 0.7371 - accuracy: 0.7815 - val_loss: 2.0960 - val_accuracy: 0.5145\n",
            "Epoch 7/7\n",
            "1135/1135 [==============================] - 24s 21ms/step - loss: 0.6414 - accuracy: 0.8129 - val_loss: 2.3220 - val_accuracy: 0.4857\n"
          ],
          "name": "stdout"
        }
      ]
    },
    {
      "cell_type": "code",
      "metadata": {
        "colab": {
          "base_uri": "https://localhost:8080/"
        },
        "id": "FRpGuwfd-YbN",
        "outputId": "8b33700d-1580-434d-bac1-ea53cdf8e981"
      },
      "source": [
        "model.evaluate(x_train_fin,y_train_fin)\n",
        "model.evaluate(x_test_fin,y_test_fin)"
      ],
      "execution_count": null,
      "outputs": [
        {
          "output_type": "stream",
          "text": [
            "1135/1135 [==============================] - 3s 3ms/step - loss: 0.3062 - accuracy: 0.9397\n",
            "144/144 [==============================] - 0s 2ms/step - loss: 2.3157 - accuracy: 0.4869\n"
          ],
          "name": "stdout"
        },
        {
          "output_type": "execute_result",
          "data": {
            "text/plain": [
              "[2.315670967102051, 0.4869281053543091]"
            ]
          },
          "metadata": {
            "tags": []
          },
          "execution_count": 21
        }
      ]
    },
    {
      "cell_type": "code",
      "metadata": {
        "colab": {
          "base_uri": "https://localhost:8080/",
          "height": 545
        },
        "id": "eAhRQxpTGtKq",
        "outputId": "ceeb04e7-c543-4f0b-d713-5e9d8954366b"
      },
      "source": [
        "import matplotlib.pyplot as plt\n",
        "acc=result.history['accuracy']\n",
        "val_acc=result.history['val_accuracy']\n",
        "loss=result.history['loss']\n",
        "val_loss=result.history['val_loss']\n",
        "epochs=range(1,len(acc)+1)\n",
        "plt.plot(epochs,acc,'b',label='training acc')\n",
        "plt.plot(epochs,val_acc,'bo',label='validation acc')\n",
        "plt.title('training and validation accuracy')\n",
        "plt.legend()\n",
        "plt.figure()\n",
        "plt.plot(epochs,loss,'b',label='training loss')\n",
        "plt.plot(epochs,val_loss,'bo',label='validation loss')\n",
        "plt.title('training and validation loss')\n",
        "plt.legend()\n",
        "plt.show()"
      ],
      "execution_count": null,
      "outputs": [
        {
          "output_type": "display_data",
          "data": {
            "image/png": "[encoded data removed]",
            "text/plain": [
              "<Figure size 432x288 with 1 Axes>"
            ]
          },
          "metadata": {
            "tags": [],
            "needs_background": "light"
          }
        },
        {
          "output_type": "display_data",
          "data": {
            "image/png": "[encoded data removed]",
            "text/plain": [
              "<Figure size 432x288 with 1 Axes>"
            ]
          },
          "metadata": {
            "tags": [],
            "needs_background": "light"
          }
        }
      ]
    },
    {
      "cell_type": "code",
      "metadata": {
        "colab": {
          "base_uri": "https://localhost:8080/"
        },
        "id": "aEiW_M5-bHAp",
        "outputId": "879f419d-253c-4327-8441-9e0a02a28a3a"
      },
      "source": [
        "import os\n",
        "glove_dir='/content/drive/MyDrive/colab/glove'\n",
        "embedding_index={}\n",
        "f=open(os.path.join(glove_dir,'glove.6B.100d.txt'),encoding='UTF8')\n",
        "for line in f:\n",
        "    values=line.split()\n",
        "    word=values[0]\n",
        "    seq=np.asarray(values[1:],dtype='float32')\n",
        "    embedding_index[word]=seq\n",
        "f.close\n",
        "print(len(embedding_index))"
      ],
      "execution_count": null,
      "outputs": [
        {
          "output_type": "stream",
          "text": [
            "400000\n"
          ],
          "name": "stdout"
        }
      ]
    },
    {
      "cell_type": "code",
      "metadata": {
        "id": "myVPAMdL040C"
      },
      "source": [
        "embedding_dim=100\n",
        "embedding_matrix=np.zeros((10000,embedding_dim))\n",
        "for word,i in word_id.items():\n",
        "    if i<10000:\n",
        "        embedding_vector=embedding_index.get(word)\n",
        "        if embedding_vector is not None:\n",
        "            embedding_matrix[i]=embedding_vector"
      ],
      "execution_count": null,
      "outputs": []
    },
    {
      "cell_type": "code",
      "metadata": {
        "colab": {
          "base_uri": "https://localhost:8080/"
        },
        "id": "zIVt5F-X2Rpt",
        "outputId": "d450d454-689b-44de-8db8-6cf07b08f347"
      },
      "source": [
        "modelgl=Sequential()\n",
        "modelgl.add(Embedding(10000,100,input_length=20))\n",
        "modelgl.add(Flatten())\n",
        "modelgl.add(Dense(128, activation='sigmoid'))\n",
        "modelgl.add(Dropout(0.2))\n",
        "modelgl.add(Dense(28, activation='sigmoid'))\n",
        "modelgl.summary()"
      ],
      "execution_count": null,
      "outputs": [
        {
          "output_type": "stream",
          "text": [
            "Model: \"sequential_1\"\n",
            "_________________________________________________________________\n",
            "Layer (type)                 Output Shape              Param #   \n",
            "=================================================================\n",
            "embedding_1 (Embedding)      (None, 20, 100)           1000000   \n",
            "_________________________________________________________________\n",
            "flatten_1 (Flatten)          (None, 2000)              0         \n",
            "_________________________________________________________________\n",
            "dense_2 (Dense)              (None, 128)               256128    \n",
            "_________________________________________________________________\n",
            "dropout_1 (Dropout)          (None, 128)               0         \n",
            "_________________________________________________________________\n",
            "dense_3 (Dense)              (None, 28)                3612      \n",
            "=================================================================\n",
            "Total params: 1,259,740\n",
            "Trainable params: 1,259,740\n",
            "Non-trainable params: 0\n",
            "_________________________________________________________________\n"
          ],
          "name": "stdout"
        }
      ]
    },
    {
      "cell_type": "code",
      "metadata": {
        "id": "-PNMGL842ms7"
      },
      "source": [
        "modelgl.layers[0].set_weights([embedding_matrix])\n",
        "modelgl.layers[0].trainable=False"
      ],
      "execution_count": null,
      "outputs": []
    },
    {
      "cell_type": "code",
      "metadata": {
        "colab": {
          "base_uri": "https://localhost:8080/"
        },
        "id": "npyd2o8w2s7d",
        "outputId": "9f9faa6e-9913-4821-c40b-b92098d98c24"
      },
      "source": [
        "modelgl.compile(optimizer='rmsprop',loss='binary_crossentropy',metrics=['acc'])\n",
        "gl_result=modelgl.fit(x_train_fin,y_train,epochs=20,batch_size=32,validation_data=(x_val_fin,y_val)) "
      ],
      "execution_count": null,
      "outputs": [
        {
          "output_type": "stream",
          "text": [
            "Epoch 1/20\n",
            "1357/1357 [==============================] - 19s 4ms/step - loss: 0.1631 - acc: 0.3049 - val_loss: 0.1301 - val_acc: 0.3773\n",
            "Epoch 2/20\n",
            "1357/1357 [==============================] - 5s 4ms/step - loss: 0.1279 - acc: 0.3843 - val_loss: 0.1261 - val_acc: 0.3964\n",
            "Epoch 3/20\n",
            "1357/1357 [==============================] - 5s 4ms/step - loss: 0.1220 - acc: 0.4078 - val_loss: 0.1253 - val_acc: 0.4008\n",
            "Epoch 4/20\n",
            "1357/1357 [==============================] - 5s 4ms/step - loss: 0.1180 - acc: 0.4242 - val_loss: 0.1253 - val_acc: 0.4062\n",
            "Epoch 5/20\n",
            "1357/1357 [==============================] - 5s 4ms/step - loss: 0.1147 - acc: 0.4367 - val_loss: 0.1265 - val_acc: 0.4012\n",
            "Epoch 6/20\n",
            "1357/1357 [==============================] - 6s 4ms/step - loss: 0.1107 - acc: 0.4563 - val_loss: 0.1290 - val_acc: 0.4097\n",
            "Epoch 7/20\n",
            "1357/1357 [==============================] - 6s 4ms/step - loss: 0.1084 - acc: 0.4675 - val_loss: 0.1284 - val_acc: 0.4020\n",
            "Epoch 8/20\n",
            "1357/1357 [==============================] - 5s 4ms/step - loss: 0.1060 - acc: 0.4783 - val_loss: 0.1294 - val_acc: 0.3985\n",
            "Epoch 9/20\n",
            "1357/1357 [==============================] - 5s 4ms/step - loss: 0.1019 - acc: 0.4974 - val_loss: 0.1329 - val_acc: 0.4032\n",
            "Epoch 10/20\n",
            "1357/1357 [==============================] - 6s 4ms/step - loss: 0.0986 - acc: 0.5134 - val_loss: 0.1338 - val_acc: 0.3962\n",
            "Epoch 11/20\n",
            "1357/1357 [==============================] - 6s 4ms/step - loss: 0.0966 - acc: 0.5263 - val_loss: 0.1359 - val_acc: 0.3953\n",
            "Epoch 12/20\n",
            "1357/1357 [==============================] - 6s 4ms/step - loss: 0.0939 - acc: 0.5400 - val_loss: 0.1397 - val_acc: 0.4008\n",
            "Epoch 13/20\n",
            "1357/1357 [==============================] - 5s 4ms/step - loss: 0.0907 - acc: 0.5537 - val_loss: 0.1412 - val_acc: 0.3892\n",
            "Epoch 14/20\n",
            "1357/1357 [==============================] - 5s 4ms/step - loss: 0.0882 - acc: 0.5643 - val_loss: 0.1425 - val_acc: 0.3909\n",
            "Epoch 15/20\n",
            "1357/1357 [==============================] - 5s 4ms/step - loss: 0.0871 - acc: 0.5728 - val_loss: 0.1478 - val_acc: 0.3913\n",
            "Epoch 16/20\n",
            "1357/1357 [==============================] - 6s 4ms/step - loss: 0.0845 - acc: 0.5829 - val_loss: 0.1521 - val_acc: 0.3865\n",
            "Epoch 17/20\n",
            "1357/1357 [==============================] - 5s 4ms/step - loss: 0.0826 - acc: 0.5955 - val_loss: 0.1531 - val_acc: 0.3867\n",
            "Epoch 18/20\n",
            "1357/1357 [==============================] - 5s 4ms/step - loss: 0.0807 - acc: 0.6054 - val_loss: 0.1572 - val_acc: 0.3778\n",
            "Epoch 19/20\n",
            "1357/1357 [==============================] - 6s 4ms/step - loss: 0.0782 - acc: 0.6158 - val_loss: 0.1588 - val_acc: 0.3732\n",
            "Epoch 20/20\n",
            "1357/1357 [==============================] - 6s 4ms/step - loss: 0.0772 - acc: 0.6236 - val_loss: 0.1624 - val_acc: 0.3762\n"
          ],
          "name": "stdout"
        }
      ]
    },
    {
      "cell_type": "code",
      "metadata": {
        "colab": {
          "base_uri": "https://localhost:8080/"
        },
        "id": "8bX1lBwq01Kt",
        "outputId": "a89e2798-47f5-4d79-9ee6-fe67cd050bc9"
      },
      "source": [
        "modelgl.evaluate(x_train_fin,y_train)\n",
        "modelgl.evaluate(x_test_fin,y_test)"
      ],
      "execution_count": null,
      "outputs": [
        {
          "output_type": "stream",
          "text": [
            "1357/1357 [==============================] - 2s 1ms/step - loss: 0.0645 - acc: 0.6943\n",
            "170/170 [==============================] - 0s 1ms/step - loss: 0.1581 - acc: 0.3717\n"
          ],
          "name": "stdout"
        },
        {
          "output_type": "execute_result",
          "data": {
            "text/plain": [
              "[0.15814156830310822, 0.3716602027416229]"
            ]
          },
          "metadata": {
            "tags": []
          },
          "execution_count": 26
        }
      ]
    },
    {
      "cell_type": "markdown",
      "metadata": {
        "id": "t5W2NcOULPDt"
      },
      "source": [
        "빼고하는거"
      ]
    },
    {
      "cell_type": "code",
      "metadata": {
        "id": "3C57eXvdLpsP"
      },
      "source": [
        "ny_train= y_train1.to_numpy()"
      ],
      "execution_count": null,
      "outputs": []
    },
    {
      "cell_type": "code",
      "metadata": {
        "colab": {
          "base_uri": "https://localhost:8080/",
          "height": 164
        },
        "id": "SOSpmVyUMApZ",
        "outputId": "9bf9c38c-42b6-45a1-aee9-fc1ccff91373"
      },
      "source": [
        "sum(y_test[1])"
      ],
      "execution_count": null,
      "outputs": [
        {
          "output_type": "error",
          "ename": "TypeError",
          "evalue": "ignored",
          "traceback": [
            "\u001b[0;31m---------------------------------------------------------------------------\u001b[0m",
            "\u001b[0;31mTypeError\u001b[0m                                 Traceback (most recent call last)",
            "\u001b[0;32m<ipython-input-128-6cf1ae81a4d5>\u001b[0m in \u001b[0;36m<module>\u001b[0;34m()\u001b[0m\n\u001b[0;32m----> 1\u001b[0;31m \u001b[0msum\u001b[0m\u001b[0;34m(\u001b[0m\u001b[0my_test\u001b[0m\u001b[0;34m[\u001b[0m\u001b[0;36m1\u001b[0m\u001b[0;34m]\u001b[0m\u001b[0;34m)\u001b[0m\u001b[0;34m\u001b[0m\u001b[0;34m\u001b[0m\u001b[0m\n\u001b[0m",
            "\u001b[0;31mTypeError\u001b[0m: 'list' object is not callable"
          ]
        }
      ]
    },
    {
      "cell_type": "code",
      "metadata": {
        "colab": {
          "base_uri": "https://localhost:8080/",
          "height": 164
        },
        "id": "4jxzEf81LSRD",
        "outputId": "c5b72026-dad2-4571-e5a7-9304b2ee9f27"
      },
      "source": [
        "x=0\n",
        "for i in range(0,5426):\n",
        "  if sum(y_test[i])>=2:\n",
        "    x = x+1"
      ],
      "execution_count": null,
      "outputs": [
        {
          "output_type": "error",
          "ename": "TypeError",
          "evalue": "ignored",
          "traceback": [
            "\u001b[0;31m---------------------------------------------------------------------------\u001b[0m",
            "\u001b[0;31mTypeError\u001b[0m                                 Traceback (most recent call last)",
            "\u001b[0;32m<ipython-input-119-695ea5598867>\u001b[0m in \u001b[0;36m<module>\u001b[0;34m()\u001b[0m\n\u001b[0;32m----> 1\u001b[0;31m \u001b[0msum\u001b[0m\u001b[0;34m(\u001b[0m\u001b[0my_train\u001b[0m\u001b[0;34m[\u001b[0m\u001b[0;36m0\u001b[0m\u001b[0;34m]\u001b[0m\u001b[0;34m)\u001b[0m\u001b[0;34m\u001b[0m\u001b[0;34m\u001b[0m\u001b[0m\n\u001b[0m",
            "\u001b[0;31mTypeError\u001b[0m: 'list' object is not callable"
          ]
        }
      ]
    }
  ]
}