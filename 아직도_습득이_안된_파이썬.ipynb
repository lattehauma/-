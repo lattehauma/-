{
  "nbformat": 4,
  "nbformat_minor": 0,
  "metadata": {
    "colab": {
      "provenance": [],
      "collapsed_sections": [],
      "authorship_tag": "ABX9TyPb0qyui/AzshlVLCo5lMaO",
      "include_colab_link": true
    },
    "kernelspec": {
      "name": "python3",
      "display_name": "Python 3"
    },
    "language_info": {
      "name": "python"
    }
  },
  "cells": [
    {
      "cell_type": "markdown",
      "metadata": {
        "id": "view-in-github",
        "colab_type": "text"
      },
      "source": [
        "<a href=\"https://colab.research.google.com/github/lattehauma/-/blob/main/%EC%95%84%EC%A7%81%EB%8F%84_%EC%8A%B5%EB%93%9D%EC%9D%B4_%EC%95%88%EB%90%9C_%ED%8C%8C%EC%9D%B4%EC%8D%AC.ipynb\" target=\"_parent\"><img src=\"https://colab.research.google.com/assets/colab-badge.svg\" alt=\"Open In Colab\"/></a>"
      ]
    },
    {
      "cell_type": "code",
      "execution_count": null,
      "metadata": {
        "colab": {
          "base_uri": "https://localhost:8080/"
        },
        "id": "LaCJUxoboaf0",
        "outputId": "a1e5f2dc-2442-4117-80b6-f3cb75b2c556"
      },
      "outputs": [
        {
          "output_type": "stream",
          "name": "stdout",
          "text": [
            "[2, 3, 4]\n"
          ]
        }
      ],
      "source": [
        "list1=[2,3,4,53]\n",
        "list1.remove(53)\n",
        "print(list1)"
      ]
    },
    {
      "cell_type": "code",
      "source": [
        "#list의 순서값과 내용을 모두 출력하는 enumerate 함수\n",
        "mu=['kwangho','soho','eunsung']\n",
        "for i, name in enumerate(mu):\n",
        "  print('{}번째는 {}'.format(i+1, name))"
      ],
      "metadata": {
        "colab": {
          "base_uri": "https://localhost:8080/"
        },
        "id": "dYK0Mfr4ogr0",
        "outputId": "295dc711-4657-4ae1-a3f4-d1c931fcd7c8"
      },
      "execution_count": null,
      "outputs": [
        {
          "output_type": "stream",
          "name": "stdout",
          "text": [
            "1번째는 kwagho\n",
            "2번째는 soho\n",
            "3번째는 eunsung\n"
          ]
        }
      ]
    },
    {
      "cell_type": "code",
      "source": [
        "import math\n",
        "math.pi"
      ],
      "metadata": {
        "colab": {
          "base_uri": "https://localhost:8080/"
        },
        "id": "u_RTo-GzqGFi",
        "outputId": "4bd1b2f1-360b-440c-ca0e-bdce129ecf70"
      },
      "execution_count": null,
      "outputs": [
        {
          "output_type": "execute_result",
          "data": {
            "text/plain": [
              "3.141592653589793"
            ]
          },
          "metadata": {},
          "execution_count": 4
        }
      ]
    },
    {
      "cell_type": "code",
      "source": [
        "import datetime\n",
        "print(datetime.date.today())\n",
        "print(datetime.datetime.now())\n",
        "now=datetime.datetime.now()\n",
        "print(now.hour)\n",
        "print(datetime.datetime.now().second)"
      ],
      "metadata": {
        "colab": {
          "base_uri": "https://localhost:8080/"
        },
        "id": "6qBlL9XGqwPG",
        "outputId": "d63f95e1-4d8e-4b07-f92e-37c9d562bd61"
      },
      "execution_count": null,
      "outputs": [
        {
          "output_type": "stream",
          "name": "stdout",
          "text": [
            "2022-09-07\n",
            "2022-09-07 02:05:18.591920\n",
            "2\n",
            "18\n"
          ]
        }
      ]
    },
    {
      "cell_type": "code",
      "source": [
        "import datetime\n",
        "\n",
        "hundred_after = datetime.datetime.now().replace(hour=9, minute=0, second=0)+datetime.timedelta(days=100)\n",
        "\n",
        "print(\"{}/{}/{}  {}:{}:{}\".format(hundred_after.year,hundred_after.month, hundred_after.day, hundred_after.hour, hundred_after.minute, hundred_after.second))"
      ],
      "metadata": {
        "colab": {
          "base_uri": "https://localhost:8080/"
        },
        "id": "1m2XzUrM6CFE",
        "outputId": "213fd74d-f9b6-4558-92ac-86d4a571f2f4"
      },
      "execution_count": null,
      "outputs": [
        {
          "output_type": "stream",
          "name": "stdout",
          "text": [
            "2022/12/16  9:0:0\n"
          ]
        }
      ]
    },
    {
      "cell_type": "code",
      "source": [
        "import random\n",
        "print(random.choice(mu))\n",
        "print(random.randint(1,10))"
      ],
      "metadata": {
        "colab": {
          "base_uri": "https://localhost:8080/"
        },
        "id": "8dbRcGYNq90W",
        "outputId": "ae2e983c-ea79-42ce-bc28-21ede55c7505"
      },
      "execution_count": null,
      "outputs": [
        {
          "output_type": "stream",
          "name": "stdout",
          "text": [
            "eunsung\n",
            "1\n",
            "None\n"
          ]
        }
      ]
    },
    {
      "cell_type": "code",
      "source": [
        "from random import shuffle\n",
        "shuffle(mu)\n",
        "print(mu)"
      ],
      "metadata": {
        "colab": {
          "base_uri": "https://localhost:8080/"
        },
        "id": "bcT1CYQTsio9",
        "outputId": "48c41f10-ae66-4575-c7fc-cf689cc592d0"
      },
      "execution_count": null,
      "outputs": [
        {
          "output_type": "stream",
          "name": "stdout",
          "text": [
            "['soho', 'eunsung', 'kwagho']\n"
          ]
        }
      ]
    },
    {
      "cell_type": "code",
      "source": [
        "#딕셔너리\n",
        "cast={'라이토':1,'엘':2,'미사':3}\n",
        "print(cast)\n",
        "print(cast['라이토'])"
      ],
      "metadata": {
        "colab": {
          "base_uri": "https://localhost:8080/"
        },
        "id": "BLJUYYhwxr0O",
        "outputId": "c27e5154-1c8f-4e72-c7ee-ccde025f7b36"
      },
      "execution_count": null,
      "outputs": [
        {
          "output_type": "stream",
          "name": "stdout",
          "text": [
            "{'라이토': 1, '엘': 2, '미사': 3}\n",
            "1\n"
          ]
        }
      ]
    },
    {
      "cell_type": "code",
      "source": [
        "for i in cast.keys():\n",
        "  print(i)\n",
        "for i in cast.values():\n",
        "  print(i)\n",
        "for i,j in cast.items():\n",
        "  print('{}는 {}번쨰 이다'.format(i,j))"
      ],
      "metadata": {
        "colab": {
          "base_uri": "https://localhost:8080/"
        },
        "id": "3T1FX8SPyhCP",
        "outputId": "9a33479c-0bd1-4dcb-e456-ba02cf0a5a87"
      },
      "execution_count": null,
      "outputs": [
        {
          "output_type": "stream",
          "name": "stdout",
          "text": [
            "라이토\n",
            "엘\n",
            "미사\n",
            "1\n",
            "2\n",
            "3\n",
            "라이토는 1번쨰 이다\n",
            "엘는 2번쨰 이다\n",
            "미사는 3번쨰 이다\n"
          ]
        }
      ]
    },
    {
      "cell_type": "code",
      "source": [
        "cast.clear()\n",
        "print(cast)"
      ],
      "metadata": {
        "colab": {
          "base_uri": "https://localhost:8080/"
        },
        "id": "A3Bzyoz_z0OA",
        "outputId": "4fe390b6-36d2-4311-b207-12d9af8f1ae6"
      },
      "execution_count": null,
      "outputs": [
        {
          "output_type": "stream",
          "name": "stdout",
          "text": [
            "{}\n"
          ]
        }
      ]
    },
    {
      "cell_type": "code",
      "source": [
        "death={'노트':1,'칼':2,'총':3}\n",
        "cast.update(death)\n",
        "print(cast)"
      ],
      "metadata": {
        "colab": {
          "base_uri": "https://localhost:8080/"
        },
        "id": "D7afUcs31rLQ",
        "outputId": "22982b07-e586-4f15-ef17-b70b7f2b4c17"
      },
      "execution_count": null,
      "outputs": [
        {
          "output_type": "stream",
          "name": "stdout",
          "text": [
            "{'노트': 1, '칼': 2, '총': 3}\n"
          ]
        }
      ]
    },
    {
      "cell_type": "code",
      "source": [
        "for i in death.items():\n",
        "  print('{}는 {}개 필요하다'.format(*i))"
      ],
      "metadata": {
        "colab": {
          "base_uri": "https://localhost:8080/"
        },
        "id": "aWcHHXgVaLuJ",
        "outputId": "49ca91cd-4b6d-4be8-e761-1be18c5e8fd0"
      },
      "execution_count": null,
      "outputs": [
        {
          "output_type": "stream",
          "name": "stdout",
          "text": [
            "노트는 1개 필요하다\n",
            "칼는 2개 필요하다\n",
            "총는 3개 필요하다\n"
          ]
        }
      ]
    },
    {
      "cell_type": "markdown",
      "source": [
        "튜플데이터\n"
      ],
      "metadata": {
        "id": "q_W-1UKI2lMB"
      }
    },
    {
      "cell_type": "code",
      "source": [
        "t1=(3,4,5)\n",
        "a,b,c=t1\n",
        "a,c=b,c\n",
        "print(a,b,c)"
      ],
      "metadata": {
        "colab": {
          "base_uri": "https://localhost:8080/"
        },
        "id": "xZskmz042C_H",
        "outputId": "e9e40b5d-3caa-4c7e-972a-bc6acec20c5c"
      },
      "execution_count": null,
      "outputs": [
        {
          "output_type": "stream",
          "name": "stdout",
          "text": [
            "4 4 5\n"
          ]
        }
      ]
    },
    {
      "cell_type": "code",
      "source": [
        "#try except\n",
        "try: a=3/0\n",
        "except Exception as ex:\n",
        "  print('잘못된 계산입니다: {}'.format(ex))"
      ],
      "metadata": {
        "colab": {
          "base_uri": "https://localhost:8080/"
        },
        "id": "t2DMEJxTZWIy",
        "outputId": "ba758056-941f-4d27-e400-3832e1896df6"
      },
      "execution_count": null,
      "outputs": [
        {
          "output_type": "stream",
          "name": "stdout",
          "text": [
            "잘못된 계산입니다: division by zero\n"
          ]
        }
      ]
    },
    {
      "cell_type": "code",
      "source": [
        "try:\n",
        "  for i, j in death.items():\n",
        "    if '칼' in i:\n",
        "      print('칼이있다')\n",
        "      raise StopIteration\n",
        "except StopIteration:\n",
        "  print('정상종료')"
      ],
      "metadata": {
        "colab": {
          "base_uri": "https://localhost:8080/"
        },
        "id": "YwsTTMZLgiVA",
        "outputId": "f82e844c-47c1-4465-9cb6-e374e7f0f67c"
      },
      "execution_count": null,
      "outputs": [
        {
          "output_type": "stream",
          "name": "stdout",
          "text": [
            "칼이있다\n",
            "정상종료\n"
          ]
        }
      ]
    },
    {
      "cell_type": "markdown",
      "source": [],
      "metadata": {
        "id": "7jYUQunZnc0r"
      }
    },
    {
      "cell_type": "markdown",
      "source": [
        "리스트"
      ],
      "metadata": {
        "id": "VbK-fA6cl57G"
      }
    },
    {
      "cell_type": "code",
      "source": [
        "list1=['홍','윤','고','김','이']\n",
        "list1.index('윤')"
      ],
      "metadata": {
        "colab": {
          "base_uri": "https://localhost:8080/"
        },
        "id": "8eoEIIEgkU8z",
        "outputId": "6a6b0f36-6aa6-46b7-a26d-fef2a3053cbb"
      },
      "execution_count": null,
      "outputs": [
        {
          "output_type": "execute_result",
          "data": {
            "text/plain": [
              "1"
            ]
          },
          "metadata": {},
          "execution_count": 60
        }
      ]
    },
    {
      "cell_type": "code",
      "source": [
        "list1.insert(5,'최')\n",
        "list1.sort()\n",
        "print(list1)\n",
        "list1.reverse()\n",
        "print(list1)\n"
      ],
      "metadata": {
        "colab": {
          "base_uri": "https://localhost:8080/"
        },
        "id": "xyujjXJamKCU",
        "outputId": "1269cfe0-94d2-40ba-b211-e57405deda53"
      },
      "execution_count": null,
      "outputs": [
        {
          "output_type": "stream",
          "name": "stdout",
          "text": [
            "['고', '김', '윤', '이', '최', '홍']\n",
            "['홍', '최', '이', '윤', '김', '고']\n"
          ]
        }
      ]
    },
    {
      "cell_type": "markdown",
      "source": [
        "단어 저장"
      ],
      "metadata": {
        "id": "rW1mWEbyngXw"
      }
    },
    {
      "cell_type": "code",
      "source": [
        "word='배가,고프,것,같기,도,하고,잘,모르,겠다'\n",
        "#Split 단어 나누기(스페이스 바도 활용 가능함)\n",
        "word=word.split(',')\n",
        "i=word.index('모르')\n",
        "word[i]='알'\n",
        "#Join(괄호 기준으로 글자를 결합)\n",
        "new_word=','.join(word)\n",
        "print(new_word)\n"
      ],
      "metadata": {
        "colab": {
          "base_uri": "https://localhost:8080/"
        },
        "id": "n1MXgkSGmxFT",
        "outputId": "032f91c1-a844-4584-c243-a48f811585e8"
      },
      "execution_count": null,
      "outputs": [
        {
          "output_type": "stream",
          "name": "stdout",
          "text": [
            "배가,고프,것,같기,도,하고,잘,알,겠다\n"
          ]
        }
      ]
    },
    {
      "cell_type": "code",
      "source": [
        "list1 = [1, 2, 3, 4, 5, 6, 7, 8, 9]\n",
        "list1[2:9:2]"
      ],
      "metadata": {
        "colab": {
          "base_uri": "https://localhost:8080/"
        },
        "id": "nm75F8zYn_92",
        "outputId": "27c8aaba-194f-4b30-fd2b-1c2b18ffc8f5"
      },
      "execution_count": null,
      "outputs": [
        {
          "output_type": "execute_result",
          "data": {
            "text/plain": [
              "[3, 5, 7, 9]"
            ]
          },
          "metadata": {},
          "execution_count": 72
        }
      ]
    },
    {
      "cell_type": "code",
      "source": [
        "#데이터 타입 파악하기\n",
        "print(type(list1))\n",
        "print(isinstance(list1,tuple))"
      ],
      "metadata": {
        "colab": {
          "base_uri": "https://localhost:8080/"
        },
        "id": "E5_LjCpVpdXH",
        "outputId": "4d4c553e-3135-4e02-91c8-d77741b6654b"
      },
      "execution_count": null,
      "outputs": [
        {
          "output_type": "stream",
          "name": "stdout",
          "text": [
            "<class 'list'>\n",
            "False\n"
          ]
        }
      ]
    },
    {
      "cell_type": "code",
      "source": [
        "list1=['광호','소호','재웅','형균']\n",
        "list2=['홍','윤','최','조']\n",
        "mu={x:y for x,y in zip(list1,list2)}\n",
        "print(mu)"
      ],
      "metadata": {
        "colab": {
          "base_uri": "https://localhost:8080/"
        },
        "id": "zFgP8HYitNyG",
        "outputId": "7a3351d4-a671-43cb-9c85-1a615bc0c64f"
      },
      "execution_count": null,
      "outputs": [
        {
          "output_type": "stream",
          "name": "stdout",
          "text": [
            "{'광호': '홍', '소호': '윤', '재웅': '최', '형균': '조'}\n"
          ]
        }
      ]
    },
    {
      "cell_type": "code",
      "source": [
        "a=7; b=3\n",
        "print(*divmod(a,b))\n",
        "#*: 튜플 형태를 unpacking 해주는 함수\n",
        "#divmod 몫과 나머지를 튜플 형태로 출력하는 함수"
      ],
      "metadata": {
        "colab": {
          "base_uri": "https://localhost:8080/"
        },
        "id": "JY6RJKWF7WTI",
        "outputId": "eabd22ec-7368-4590-ac32-398c393fa46b"
      },
      "execution_count": null,
      "outputs": [
        {
          "name": "stdout",
          "output_type": "stream",
          "text": [
            "3 5\n"
          ]
        }
      ]
    },
    {
      "cell_type": "code",
      "source": [
        "num = '3212'\n",
        "base=5\n",
        "\n",
        "answer = 0\n",
        "for idx, number in enumerate(num[::-1]):\n",
        "    answer += int(number) * (base ** idx)\n",
        "\n",
        "## enumerate는 위치랑 내용을 같이 출력하는 함수\n",
        "\n",
        "#>> 다른 방법으로 해결 <<\n",
        "#pyhton은 진법 변환을 지원한다\n",
        "answer=int(num,base)\n",
        "print(answer)"
      ],
      "metadata": {
        "colab": {
          "base_uri": "https://localhost:8080/"
        },
        "id": "wmEXoR_pAclW",
        "outputId": "c45234c6-cde7-44f5-bbf9-910ca5a2b51b"
      },
      "execution_count": null,
      "outputs": [
        {
          "output_type": "stream",
          "name": "stdout",
          "text": [
            "432\n"
          ]
        }
      ]
    },
    {
      "cell_type": "code",
      "source": [
        "##공백을 채우는 방법\n",
        "s = '가나다라'\n",
        "n = 7\n",
        "\n",
        "print(s.ljust(n)) # 좌측 정렬\n",
        "print(s.center(n)) # 가운데 정렬\n",
        "print(s.rjust(n)) # 우측 정렬"
      ],
      "metadata": {
        "colab": {
          "base_uri": "https://localhost:8080/",
          "height": 36
        },
        "id": "kt6N9B3aBOmo",
        "outputId": "8431f054-d183-497b-cb81-e899160a1089"
      },
      "execution_count": null,
      "outputs": [
        {
          "output_type": "execute_result",
          "data": {
            "text/plain": [
              "'   가나다라'"
            ],
            "application/vnd.google.colaboratory.intrinsic+json": {
              "type": "string"
            }
          },
          "metadata": {},
          "execution_count": 59
        }
      ]
    },
    {
      "cell_type": "code",
      "source": [
        "##원본을 유지한 채로 정렬하기\n",
        "list1=[3,5,6,1,2]\n",
        "list2=sorted(list1)\n",
        "print(list1)\n",
        "print(list2)"
      ],
      "metadata": {
        "colab": {
          "base_uri": "https://localhost:8080/"
        },
        "id": "oPGXOIHoDdSI",
        "outputId": "264aa587-dc3e-40d1-fc7c-cce12bb7b2e8"
      },
      "execution_count": null,
      "outputs": [
        {
          "output_type": "stream",
          "name": "stdout",
          "text": [
            "[3, 5, 6, 1, 2]\n",
            "[1, 2, 3, 5, 6]\n"
          ]
        }
      ]
    },
    {
      "cell_type": "code",
      "source": [
        "### python Zip 내장함수\n",
        "\n",
        "#양측의 데이터를 자동으로 짝지어주는 함수\n",
        "first=['홍','윤','최','조']\n",
        "last=['광호','소호','재웅','형균']\n",
        "list1=list(zip(first,last))\n",
        "print(list1)\n",
        "#unpacking\n",
        "a, b=zip(*list1)\n",
        "print(a,b)\n",
        "\n",
        "#길이가 같지 않은 경우 나머지 데이터는 버려진다\n",
        "\n",
        "#딕셔너리도 활용할 수 있음\n",
        "answer=dict(zip(first,last))\n",
        "print(answer)"
      ],
      "metadata": {
        "colab": {
          "base_uri": "https://localhost:8080/"
        },
        "id": "j382HhHxsJFK",
        "outputId": "63edbdc3-7d4e-4e19-93d5-d557b7c8e1cd"
      },
      "execution_count": null,
      "outputs": [
        {
          "output_type": "stream",
          "name": "stdout",
          "text": [
            "[('홍', '광호'), ('윤', '소호'), ('최', '재웅'), ('조', '형균')]\n",
            "('홍', '윤', '최', '조') ('광호', '소호', '재웅', '형균')\n",
            "{'홍': '광호', '윤': '소호', '최': '재웅', '조': '형균'}\n"
          ]
        }
      ]
    },
    {
      "cell_type": "code",
      "source": [],
      "metadata": {
        "id": "cjCEQBcczgqK"
      },
      "execution_count": null,
      "outputs": []
    },
    {
      "cell_type": "code",
      "source": [
        "### map 함수 (map(함수, 개체))\n",
        "# 개체를 함수를 활용하여 변환할 수 있음\n",
        "\n",
        "mylist = [[1, 2, 3], [4, 5, 6], [7, 8, 9]]\n",
        "new_list = list(map(list, zip(*mylist)))\n",
        "#unpack했다가 다시 list로 묶어냄 \n",
        "print(new_list)"
      ],
      "metadata": {
        "colab": {
          "base_uri": "https://localhost:8080/"
        },
        "id": "DWE9wHSlw5DX",
        "outputId": "6a760743-476c-4fb0-eb76-46ee8b619b21"
      },
      "execution_count": null,
      "outputs": [
        {
          "output_type": "stream",
          "name": "stdout",
          "text": [
            "[[1, 4, 7], [2, 5, 8], [3, 6, 9]]\n"
          ]
        }
      ]
    },
    {
      "cell_type": "code",
      "source": [
        "### str 활용하기\n",
        "list1=['ny','zt','oi']\n",
        "answer=''.join(list1)\n",
        "print(answer)"
      ],
      "metadata": {
        "colab": {
          "base_uri": "https://localhost:8080/"
        },
        "id": "8LciV24exiIm",
        "outputId": "9ce8675d-4f31-45d1-a496-6d706c03a6ea"
      },
      "execution_count": null,
      "outputs": [
        {
          "output_type": "stream",
          "name": "stdout",
          "text": [
            "nyztoi\n"
          ]
        }
      ]
    },
    {
      "cell_type": "code",
      "source": [
        "## 곱집합 구하기\n",
        "import itertools\n",
        "\n",
        "a='ABCD'\n",
        "b='xy'\n",
        "c='1234'\n",
        "print(list(itertools.product(a,b,c)))"
      ],
      "metadata": {
        "colab": {
          "base_uri": "https://localhost:8080/"
        },
        "id": "hcfcP9oh2_6-",
        "outputId": "3b373c51-31dd-4bcb-cf6a-e53ee3e7bfe4"
      },
      "execution_count": null,
      "outputs": [
        {
          "output_type": "stream",
          "name": "stdout",
          "text": [
            "[('A', 'x', '1'), ('A', 'x', '2'), ('A', 'x', '3'), ('A', 'x', '4'), ('A', 'y', '1'), ('A', 'y', '2'), ('A', 'y', '3'), ('A', 'y', '4'), ('B', 'x', '1'), ('B', 'x', '2'), ('B', 'x', '3'), ('B', 'x', '4'), ('B', 'y', '1'), ('B', 'y', '2'), ('B', 'y', '3'), ('B', 'y', '4'), ('C', 'x', '1'), ('C', 'x', '2'), ('C', 'x', '3'), ('C', 'x', '4'), ('C', 'y', '1'), ('C', 'y', '2'), ('C', 'y', '3'), ('C', 'y', '4'), ('D', 'x', '1'), ('D', 'x', '2'), ('D', 'x', '3'), ('D', 'x', '4'), ('D', 'y', '1'), ('D', 'y', '2'), ('D', 'y', '3'), ('D', 'y', '4')]\n"
          ]
        }
      ]
    },
    {
      "cell_type": "code",
      "source": [
        "#### 순열 함수\n",
        "import itertools\n",
        "\n",
        "pool = ['A', 'B', 'C']\n",
        "print(list(map(''.join, itertools.permutations(pool)))) # 3개의 원소로 순열 만들기\n",
        "print(list(map(''.join, itertools.permutations(pool, 2)))) # 2개의 원소로 순열 만들기"
      ],
      "metadata": {
        "colab": {
          "base_uri": "https://localhost:8080/"
        },
        "id": "DaVRHh9u4MSP",
        "outputId": "cc592b46-950c-44a2-8540-6f68c0f2fb45"
      },
      "execution_count": null,
      "outputs": [
        {
          "output_type": "stream",
          "name": "stdout",
          "text": [
            "['ABC', 'ACB', 'BAC', 'BCA', 'CAB', 'CBA']\n",
            "['AB', 'AC', 'BA', 'BC', 'CA', 'CB']\n"
          ]
        }
      ]
    },
    {
      "cell_type": "code",
      "source": [
        "import bisect\n",
        "mylist = [1, 2, 3, 7, 9, 11, 33]\n",
        "print(bisect.bisect(mylist, 3))"
      ],
      "metadata": {
        "colab": {
          "base_uri": "https://localhost:8080/"
        },
        "id": "mY9keRN04kSc",
        "outputId": "a535a54e-63c5-44ab-93f5-7c5496ac0f9f"
      },
      "execution_count": null,
      "outputs": [
        {
          "output_type": "stream",
          "name": "stdout",
          "text": [
            "3\n"
          ]
        }
      ]
    },
    {
      "cell_type": "code",
      "source": [],
      "metadata": {
        "id": "8krdnNZRTMI4"
      },
      "execution_count": null,
      "outputs": []
    }
  ]
}