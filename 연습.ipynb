{
  "nbformat": 4,
  "nbformat_minor": 0,
  "metadata": {
    "colab": {
      "name": "Untitled2.ipynb",
      "provenance": [],
      "collapsed_sections": [
        "dOQrRUZWVMzH",
        "DaXFSUljMcIT"
      ],
      "authorship_tag": "ABX9TyNolExeC9l1u7mmiB2QmbdR"
    },
    "kernelspec": {
      "name": "python3",
      "display_name": "Python 3"
    },
    "language_info": {
      "name": "python"
    }
  },
  "cells": [
    {
      "cell_type": "markdown",
      "source": [
        "파일 저장과 활용 방법"
      ],
      "metadata": {
        "id": "Abp9HRVq_1oy"
      }
    },
    {
      "cell_type": "code",
      "source": [
        "#colab 파일 연동 방법\n",
        "from google.colab import drive\n",
        "drive.mount('/content/gdrive/My_Drive')"
      ],
      "metadata": {
        "id": "gaUjyBHP_1IM"
      },
      "execution_count": null,
      "outputs": []
    },
    {
      "cell_type": "code",
      "source": [
        "######파일 생성####"
      ],
      "metadata": {
        "id": "esEmrRJfABQG"
      },
      "execution_count": null,
      "outputs": []
    },
    {
      "cell_type": "markdown",
      "source": [
        "##리스트 자료"
      ],
      "metadata": {
        "id": "IfqjSH7mDg1S"
      }
    },
    {
      "cell_type": "code",
      "source": [
        "num=[7,2,4,7]\n",
        "num.append(5) #!새로운 변수에 넣으면 리스트 성격이 사라짐\n",
        "print(num)\n",
        "num.sort()\n",
        "num.reverse\n",
        "print(num)\n",
        "num.index(7) #7의 인덱스 출력\n",
        "num.count(7)  #7의 빈도 출력"
      ],
      "metadata": {
        "colab": {
          "base_uri": "https://localhost:8080/"
        },
        "id": "rtAx7v9jDkKZ",
        "outputId": "bd512aee-5529-422c-fc81-91403a988b4e"
      },
      "execution_count": null,
      "outputs": [
        {
          "output_type": "stream",
          "name": "stdout",
          "text": [
            "[7, 2, 4, 7, 5]\n",
            "[2, 4, 5, 7, 7]\n"
          ]
        },
        {
          "output_type": "execute_result",
          "data": {
            "text/plain": [
              "2"
            ]
          },
          "metadata": {},
          "execution_count": 19
        }
      ]
    },
    {
      "cell_type": "code",
      "source": [
        "num.remove(7) #첫번째 7을 삭제함\n",
        "print(num)\n",
        "num.pop()\n",
        "print(num)\n",
        "num.insert(2,9) #두번 째 자리에 삽입\n",
        "print(num)\n",
        "print(num*5)"
      ],
      "metadata": {
        "id": "XU4FUQ_PI7ga"
      },
      "execution_count": null,
      "outputs": []
    },
    {
      "cell_type": "code",
      "source": [
        "num2=[1,5,4,8]\n",
        "num2_1=[1,5,4,8]\n",
        "num3=[5,7]\n",
        "num2.append(num3)\n",
        "print(num2)\n",
        "num2_1.extend(num3)\n",
        "print(num2_1)"
      ],
      "metadata": {
        "colab": {
          "base_uri": "https://localhost:8080/"
        },
        "id": "1ay22GfOJrY6",
        "outputId": "dfae0373-29bc-4bd6-da93-224d165c6a21"
      },
      "execution_count": null,
      "outputs": [
        {
          "output_type": "stream",
          "name": "stdout",
          "text": [
            "[1, 5, 4, 8, [5, 7]]\n",
            "[1, 5, 4, 8, 5, 7]\n"
          ]
        }
      ]
    },
    {
      "cell_type": "markdown",
      "source": [
        "##튜플 자료\n",
        "값 변경이 불가능함\n",
        "묶음기호는 ()"
      ],
      "metadata": {
        "id": "IyEf4zOXJYvK"
      }
    },
    {
      "cell_type": "code",
      "source": [
        "sen='a','b','c'\n",
        "k1,k2,k3=sen\n",
        "print(k1)"
      ],
      "metadata": {
        "colab": {
          "base_uri": "https://localhost:8080/"
        },
        "id": "DJ-0S97DJbTK",
        "outputId": "ddb1d873-e03a-4543-dd94-f0aa3b61fb30"
      },
      "execution_count": null,
      "outputs": [
        {
          "output_type": "stream",
          "name": "stdout",
          "text": [
            "a\n"
          ]
        }
      ]
    },
    {
      "cell_type": "markdown",
      "source": [
        "##딕셔너리"
      ],
      "metadata": {
        "id": "koVUtT3hK6hX"
      }
    },
    {
      "cell_type": "markdown",
      "source": [
        "key 와 value로 구성됨"
      ],
      "metadata": {
        "id": "EP7gA5ZDLRPp"
      }
    },
    {
      "cell_type": "code",
      "source": [
        "dict1={}\n",
        "dict1['name']='sena'\n",
        "dict1[11]='location'\n",
        "print(dict1)\n",
        "print(dict1.keys())  #values, items\n",
        "del(dict1[11])\n",
        "print(dict1)\n",
        "print('name' in dict1)\n",
        "print('sena' in dict1) #value존재 여부는 확인이 안됨"
      ],
      "metadata": {
        "colab": {
          "base_uri": "https://localhost:8080/"
        },
        "id": "QCaFKZkdLDHm",
        "outputId": "2bc9bd68-12f7-4ebd-ffd5-cc4c86c257b1"
      },
      "execution_count": null,
      "outputs": [
        {
          "output_type": "stream",
          "name": "stdout",
          "text": [
            "{'name': 'sena', 11: 'location'}\n",
            "dict_keys(['name', 11])\n",
            "{'name': 'sena'}\n",
            "True\n",
            "False\n"
          ]
        }
      ]
    },
    {
      "cell_type": "code",
      "source": [
        "dict2={'name':'izu'}\n",
        "x=dict2.get('name')\n",
        "print(x)"
      ],
      "metadata": {
        "colab": {
          "base_uri": "https://localhost:8080/"
        },
        "id": "s9K9-cdBMCsG",
        "outputId": "d32a0ed5-a039-44f3-c288-e4f96a670143"
      },
      "execution_count": null,
      "outputs": [
        {
          "output_type": "stream",
          "name": "stdout",
          "text": [
            "izu\n"
          ]
        }
      ]
    },
    {
      "cell_type": "code",
      "source": [
        "cars =[1.097,2.2634,3.235]\n",
        "nations = ['Korea', 'Japan', 'America']\n",
        "#zip:자료값을 이어주는 함수\n",
        "for c, n in zip(cars, nations):\n",
        "\tprint('%.2f is made in %s' %(c,n))\n",
        " #정수형일 때는 %d, 실수 일 때는 %.2f, 문자일 때는 %s"
      ],
      "metadata": {
        "colab": {
          "base_uri": "https://localhost:8080/"
        },
        "id": "XJZIGAzSK-kb",
        "outputId": "ea5db1e4-377d-44e1-926f-17f85ca4184c"
      },
      "execution_count": null,
      "outputs": [
        {
          "output_type": "stream",
          "name": "stdout",
          "text": [
            "1.10 is made in Korea\n",
            "2.26 is made in Japan\n",
            "3.23 is made in America\n"
          ]
        }
      ]
    },
    {
      "cell_type": "markdown",
      "source": [
        "##집합"
      ],
      "metadata": {
        "id": "VnLZB45FIj0Y"
      }
    },
    {
      "cell_type": "code",
      "source": [
        "a={1,2,3}; b={2,3,4}\n",
        "print(a|b) \n",
        "print(a&b) \n",
        "print(a-b)\n",
        "a.add(4)\n",
        "print(a)\n",
        "a.update([5,6])\n",
        "print(a)\n",
        "a.remove(2)\n",
        "print(a)"
      ],
      "metadata": {
        "id": "-PSTT95zImVT",
        "outputId": "f2a53ae5-037e-445a-b262-b97a4c34d8dc",
        "colab": {
          "base_uri": "https://localhost:8080/"
        }
      },
      "execution_count": null,
      "outputs": [
        {
          "output_type": "stream",
          "name": "stdout",
          "text": [
            "{1, 2, 3, 4}\n",
            "{2, 3}\n",
            "{1}\n",
            "{1, 2, 3, 4}\n",
            "{1, 2, 3, 4, 5, 6}\n",
            "{1, 3, 4, 5, 6}\n"
          ]
        }
      ]
    },
    {
      "cell_type": "markdown",
      "source": [
        "##문자 데이터"
      ],
      "metadata": {
        "id": "LMv0RLBnAlf2"
      }
    },
    {
      "cell_type": "code",
      "source": [
        "letter=\"에그타르트 먹고 싶다.\"\n",
        "print(letter[3])\n",
        "print(letter[4:7])\n",
        "print(letter[9:-1])\n",
        "print(letter[::2])\n",
        "print(letter.count(\"\"))"
      ],
      "metadata": {
        "colab": {
          "base_uri": "https://localhost:8080/"
        },
        "id": "t4ImiyCJAnfe",
        "outputId": "5b4a407a-7040-4c0a-da3e-3f7f8ee54bd3"
      },
      "execution_count": null,
      "outputs": [
        {
          "output_type": "stream",
          "name": "stdout",
          "text": [
            "르\n",
            "트 먹\n",
            "싶다\n",
            "에타트먹 다\n",
            "13\n"
          ]
        }
      ]
    },
    {
      "cell_type": "code",
      "source": [
        "print('라라랄\\'')"
      ],
      "metadata": {
        "id": "cGQCzx8wJ5nh",
        "outputId": "f4b31361-a12e-496b-803d-aa48bcca93ea",
        "colab": {
          "base_uri": "https://localhost:8080/"
        }
      },
      "execution_count": null,
      "outputs": [
        {
          "output_type": "stream",
          "name": "stdout",
          "text": [
            "라라랄'\n"
          ]
        }
      ]
    },
    {
      "cell_type": "code",
      "source": [
        "word=\"  hungr y \"\n",
        "print(word)\n",
        "print(word.strip()) #공백제거\n",
        "word2=word.replace(\"h\",\"o\") #문자 바꾸기\n",
        "print(word2)\n",
        "print(word.split(\"g\")) #문자 나누기"
      ],
      "metadata": {
        "colab": {
          "base_uri": "https://localhost:8080/"
        },
        "id": "jmYIkvtcBdrL",
        "outputId": "e62c5b8a-480f-41c5-9b29-43ce35dfd7a5"
      },
      "execution_count": null,
      "outputs": [
        {
          "output_type": "stream",
          "name": "stdout",
          "text": [
            "  hungr y \n",
            "hungr y\n",
            "  oungr y \n",
            "['  hun', 'r y ']\n"
          ]
        }
      ]
    },
    {
      "cell_type": "markdown",
      "source": [
        "format 함수"
      ],
      "metadata": {
        "id": "cshPbJvVCm1n"
      }
    },
    {
      "cell_type": "code",
      "source": [
        "sen=\"오늘의 주가는 {lat}원이다.\"\n",
        "sen.format(lat=2600)"
      ],
      "metadata": {
        "colab": {
          "base_uri": "https://localhost:8080/",
          "height": 35
        },
        "id": "y2pI30V7CeRS",
        "outputId": "0ad3fc84-c270-4ecf-9bed-f034f994d6c7"
      },
      "execution_count": null,
      "outputs": [
        {
          "output_type": "execute_result",
          "data": {
            "application/vnd.google.colaboratory.intrinsic+json": {
              "type": "string"
            },
            "text/plain": [
              "'오늘의 주가는 2600원이다.'"
            ]
          },
          "metadata": {},
          "execution_count": 33
        }
      ]
    },
    {
      "cell_type": "markdown",
      "source": [
        "##연산자"
      ],
      "metadata": {
        "id": "_34cXsRyQpsG"
      }
    },
    {
      "cell_type": "code",
      "source": [
        "print(1e7)\n",
        "print(0.3+0.6==0.9)\n",
        "#실수 계산에서 오차 발생"
      ],
      "metadata": {
        "colab": {
          "base_uri": "https://localhost:8080/"
        },
        "id": "3P5CGn4jQrz8",
        "outputId": "853d7b7c-1582-4fa2-b39a-7a4e3290e317"
      },
      "execution_count": null,
      "outputs": [
        {
          "output_type": "stream",
          "name": "stdout",
          "text": [
            "10000000.0\n",
            "False\n"
          ]
        }
      ]
    },
    {
      "cell_type": "markdown",
      "source": [
        "조건문 연산자"
      ],
      "metadata": {
        "id": "xqSIWbW5RTmd"
      }
    },
    {
      "cell_type": "code",
      "source": [
        "a='b'\n",
        "b='c'\n",
        "c='b'\n",
        "print(a is b)\n",
        "print(a is c)\n",
        "print(a is not b)\n",
        "print('b' in a)"
      ],
      "metadata": {
        "colab": {
          "base_uri": "https://localhost:8080/"
        },
        "id": "ZepwDmSHRVi3",
        "outputId": "1914416c-9ff9-4fb9-dad7-dd120f225d02"
      },
      "execution_count": null,
      "outputs": [
        {
          "output_type": "stream",
          "name": "stdout",
          "text": [
            "False\n",
            "True\n",
            "True\n",
            "True\n"
          ]
        }
      ]
    },
    {
      "cell_type": "code",
      "source": [
        "if a == 'b':\n",
        "  print(\"a is equal to {}\".format(a))"
      ],
      "metadata": {
        "colab": {
          "base_uri": "https://localhost:8080/"
        },
        "id": "xWcy9MaBR5IQ",
        "outputId": "69c66e5f-fe99-49e7-ab8b-ee5451b9d903"
      },
      "execution_count": null,
      "outputs": [
        {
          "output_type": "stream",
          "name": "stdout",
          "text": [
            "a is equal to b\n"
          ]
        }
      ]
    },
    {
      "cell_type": "markdown",
      "source": [
        "반복문"
      ],
      "metadata": {
        "id": "zksF8DL-SMiO"
      }
    },
    {
      "cell_type": "code",
      "source": [
        "for num in range(0,5):\n",
        "  print(num)\n",
        "a=[1,2,4,5]\n",
        "print('___')\n",
        "##\n",
        "for i in a:\n",
        "  print(i)\n",
        "\n",
        "print('___')\n",
        "##\n",
        "num=0\n",
        "numa=[]\n",
        "while(num<5):\n",
        "  numa.append(num)\n",
        "  num+=1\n",
        "\n",
        "print(numa)\n",
        "\n",
        "##\n",
        "for i in 'iloveyou':\n",
        "  print(str(i))"
      ],
      "metadata": {
        "colab": {
          "base_uri": "https://localhost:8080/"
        },
        "id": "BCycV_gWSLXA",
        "outputId": "56e3ad52-a7b1-47e3-9c0a-84fc729fc10e"
      },
      "execution_count": null,
      "outputs": [
        {
          "output_type": "stream",
          "name": "stdout",
          "text": [
            "0\n",
            "1\n",
            "2\n",
            "3\n",
            "4\n",
            "___\n",
            "1\n",
            "2\n",
            "4\n",
            "5\n",
            "___\n",
            "[0, 1, 2, 3, 4]\n",
            "i\n",
            "l\n",
            "o\n",
            "v\n",
            "e\n",
            "y\n",
            "o\n",
            "u\n"
          ]
        }
      ]
    },
    {
      "cell_type": "code",
      "source": [
        "con=0\n",
        "while(con<=10):\n",
        "  if(con>3):\n",
        "    break\n",
        "  else:\n",
        "    print(con)\n",
        "  con+=1"
      ],
      "metadata": {
        "colab": {
          "base_uri": "https://localhost:8080/"
        },
        "id": "BJmr82BrSjWg",
        "outputId": "273eb18d-6dfd-4182-945e-d7eb63d42ff9"
      },
      "execution_count": null,
      "outputs": [
        {
          "output_type": "stream",
          "name": "stdout",
          "text": [
            "0\n",
            "1\n",
            "2\n",
            "3\n"
          ]
        }
      ]
    },
    {
      "cell_type": "code",
      "source": [
        "con=0\n",
        "while(con<=10):\n",
        "  con+=1\n",
        "  if(con<5):\n",
        "    continue\n",
        "  else:\n",
        "    print(con)"
      ],
      "metadata": {
        "colab": {
          "base_uri": "https://localhost:8080/"
        },
        "id": "0mLArEJvTGXi",
        "outputId": "94157888-ca05-4184-e994-f79b88a96e9f"
      },
      "execution_count": null,
      "outputs": [
        {
          "output_type": "stream",
          "name": "stdout",
          "text": [
            "5\n",
            "6\n",
            "7\n",
            "8\n",
            "9\n",
            "10\n",
            "11\n"
          ]
        }
      ]
    },
    {
      "cell_type": "code",
      "source": [
        "##혜린선생님의 가르침\n",
        "print([i+2 for i in range(10) if i%2])\n",
        "m,n=2,3\n",
        "ar1=[[1,2]*m for _ in range(n) ]\n",
        "print(ar1)\n",
        "ar2=[[1,2]*2]*3\n",
        "print(ar2)\n",
        "ar1[0][0]=5\n",
        "ar2[0][0]=5\n",
        "print(ar1)\n",
        "print(ar2)"
      ],
      "metadata": {
        "id": "DZkm5qVS_AW1",
        "outputId": "bf2cd54b-8de8-4c47-aa00-a64f948e6d7e",
        "colab": {
          "base_uri": "https://localhost:8080/"
        }
      },
      "execution_count": null,
      "outputs": [
        {
          "output_type": "stream",
          "name": "stdout",
          "text": [
            "[3, 5, 7, 9, 11]\n",
            "[[1, 2, 1, 2], [1, 2, 1, 2], [1, 2, 1, 2]]\n",
            "[[1, 2, 1, 2], [1, 2, 1, 2], [1, 2, 1, 2]]\n",
            "[[5, 2, 1, 2], [1, 2, 1, 2], [1, 2, 1, 2]]\n",
            "[[5, 2, 1, 2], [5, 2, 1, 2], [5, 2, 1, 2]]\n"
          ]
        }
      ]
    },
    {
      "cell_type": "markdown",
      "source": [
        "##함수"
      ],
      "metadata": {
        "id": "XPfkGtOkTycO"
      }
    },
    {
      "cell_type": "code",
      "source": [
        "def add(a,b):\n",
        "  result=a+b\n",
        "  return result"
      ],
      "metadata": {
        "id": "dcAmBe06TsDY"
      },
      "execution_count": null,
      "outputs": []
    },
    {
      "cell_type": "code",
      "source": [
        "#매개변수\n",
        "x= lambda a:a*3\n",
        "x(5)\n",
        "#내부 람다 함수\n",
        "def fun(n):\n",
        "  return lambda a: (a*n)+n\n",
        "double=fun(2)\n",
        "print(double(6))\n"
      ],
      "metadata": {
        "colab": {
          "base_uri": "https://localhost:8080/"
        },
        "id": "-HreCErtT9IR",
        "outputId": "9a41cf18-bca4-47b5-fa1e-7a2308845f03"
      },
      "execution_count": null,
      "outputs": [
        {
          "output_type": "stream",
          "name": "stdout",
          "text": [
            "14\n"
          ]
        }
      ]
    },
    {
      "cell_type": "code",
      "source": [
        "#전역변수\n",
        "a=0\n",
        "def plus():\n",
        "  global a\n",
        "  a+=1\n",
        "plus()\n",
        "plus()\n",
        "print(a)"
      ],
      "metadata": {
        "id": "0KyOrTICLFx_",
        "outputId": "7a227da5-c49b-4362-82c1-04a2943292bc",
        "colab": {
          "base_uri": "https://localhost:8080/"
        }
      },
      "execution_count": null,
      "outputs": [
        {
          "output_type": "stream",
          "name": "stdout",
          "text": [
            "2\n"
          ]
        }
      ]
    },
    {
      "cell_type": "code",
      "source": [
        "sam=['진짜 배가 고프다', '이제는 저녁을 먹어야 할 것 같다']\n",
        "token={}\n",
        "for s in sam:\n",
        "  print(s)\n",
        "  for word in s.split():\n",
        "    if word not in token:\n",
        "      token[word]=len(token)+1\n",
        "print(token)"
      ],
      "metadata": {
        "colab": {
          "base_uri": "https://localhost:8080/"
        },
        "id": "U8sphS79aFwj",
        "outputId": "58cbe78c-5db6-473e-b18a-13b84cd50472"
      },
      "execution_count": null,
      "outputs": [
        {
          "output_type": "stream",
          "name": "stdout",
          "text": [
            "진짜 배가 고프다\n",
            "이제는 저녁을 먹어야 할 것 같다\n",
            "{'진짜': 1, '배가': 2, '고프다': 3, '이제는': 4, '저녁을': 5, '먹어야': 6, '할': 7, '것': 8, '같다': 9}\n"
          ]
        }
      ]
    },
    {
      "cell_type": "markdown",
      "source": [
        "##입출력"
      ],
      "metadata": {
        "id": "C-YTis1eL7hi"
      }
    },
    {
      "cell_type": "code",
      "source": [
        "data=list(map(int, input().split('-')))\n",
        "print(data)"
      ],
      "metadata": {
        "id": "G_g3G7GnL8sZ",
        "outputId": "995b06bd-9064-4d6c-8cab-cdf69106709b",
        "colab": {
          "base_uri": "https://localhost:8080/"
        }
      },
      "execution_count": null,
      "outputs": [
        {
          "output_type": "stream",
          "name": "stdout",
          "text": [
            "12-53-13\n",
            "[12, 53, 13]\n"
          ]
        }
      ]
    },
    {
      "cell_type": "code",
      "source": [
        "a,b,c=map(int,input().split())\n",
        "print(a-b+c)"
      ],
      "metadata": {
        "id": "ZSDsVYndMjnV",
        "outputId": "2882c828-d380-47d8-c532-ce0ef6c97a41",
        "colab": {
          "base_uri": "https://localhost:8080/"
        }
      },
      "execution_count": null,
      "outputs": [
        {
          "output_type": "stream",
          "name": "stdout",
          "text": [
            "3 2 6\n",
            "7\n"
          ]
        }
      ]
    },
    {
      "cell_type": "markdown",
      "source": [
        "##클래스"
      ],
      "metadata": {
        "id": "dOQrRUZWVMzH"
      }
    },
    {
      "cell_type": "code",
      "source": [
        "class Member:\n",
        "  personal_count=0  #클래스속성\n",
        "  def __init__(self, name, month):  #자동으로 실행되는 기본 함수\n",
        "    self.name = name  #사례속성(변화하는 속성)\n",
        "    self.month = month\n",
        "    Member.personal_count += 1\n",
        "m1=Member(\"세\",12)\n",
        "print(m1.name)"
      ],
      "metadata": {
        "colab": {
          "base_uri": "https://localhost:8080/"
        },
        "id": "-BNKZyv_VOVe",
        "outputId": "3d25338c-d8c6-4ed8-e5aa-0022517a22ff"
      },
      "execution_count": null,
      "outputs": [
        {
          "output_type": "stream",
          "name": "stdout",
          "text": [
            "세\n"
          ]
        }
      ]
    },
    {
      "cell_type": "code",
      "source": [
        "class Food:\n",
        "  def __init__(self, name, year, month):\n",
        "    self.name=name\n",
        "    self.month=month\n",
        "    self.year=year\n",
        "\n",
        "  @property\n",
        "  def month(self):\n",
        "    return self.__month\n",
        "  \n",
        "  @month.setter\n",
        "  def month(self, month):\n",
        "    if month<1:\n",
        "      self.__month =1\n",
        "    elif month>12:\n",
        "      self.__month = 12\n",
        "    else:\n",
        "      self.__month=month\n",
        "  \n",
        "  def exp_date(self):\n",
        "    print('exp date is ' + str(self.month))\n",
        " \n",
        "food1=Food('pizza',20,12)\n",
        "food1.exp_date()"
      ],
      "metadata": {
        "colab": {
          "base_uri": "https://localhost:8080/"
        },
        "id": "41RF9dQ2X608",
        "outputId": "5175bf24-c6ff-46c4-e1eb-b0803a132ace"
      },
      "execution_count": null,
      "outputs": [
        {
          "output_type": "stream",
          "name": "stdout",
          "text": [
            "exp date is 12\n"
          ]
        }
      ]
    },
    {
      "cell_type": "code",
      "source": [
        ""
      ],
      "metadata": {
        "colab": {
          "base_uri": "https://localhost:8080/"
        },
        "id": "3Qkdu9qYXXQr",
        "outputId": "9d652cef-14a1-4e28-a30a-d83480134b2a"
      },
      "execution_count": null,
      "outputs": [
        {
          "output_type": "stream",
          "name": "stdout",
          "text": [
            "exp date is 12\n"
          ]
        }
      ]
    },
    {
      "cell_type": "markdown",
      "source": [
        "##모듈"
      ],
      "metadata": {
        "id": "DaXFSUljMcIT"
      }
    },
    {
      "cell_type": "markdown",
      "source": [
        "numpy"
      ],
      "metadata": {
        "id": "p3qWt7RNMlFB"
      }
    },
    {
      "cell_type": "code",
      "source": [
        "import numpy as np\n",
        "x=np.array([1,2,3])\n",
        "y=np.array([6,3,7])\n",
        "print(x+y)\n",
        "print(type(x))\n",
        "print(x.shape)"
      ],
      "metadata": {
        "colab": {
          "base_uri": "https://localhost:8080/"
        },
        "id": "foRwjFagMki2",
        "outputId": "88bd14be-41fc-4f08-a1d5-71cc72a893c9"
      },
      "execution_count": null,
      "outputs": [
        {
          "output_type": "stream",
          "name": "stdout",
          "text": [
            "[ 7  5 10]\n",
            "<class 'numpy.ndarray'>\n",
            "(3,)\n"
          ]
        }
      ]
    },
    {
      "cell_type": "code",
      "source": [
        "#차원변경\n",
        "ar=np.array([1,2,3,4,5,6,7,8])\n",
        "ar1=ar.reshape(2,4)\n",
        "print(ar1)"
      ],
      "metadata": {
        "colab": {
          "base_uri": "https://localhost:8080/"
        },
        "id": "u8A7kJs-Nqdk",
        "outputId": "cc2beb28-4076-42f5-bfea-2bdfc25360a0"
      },
      "execution_count": null,
      "outputs": [
        {
          "output_type": "stream",
          "name": "stdout",
          "text": [
            "[[1 2 3 4]\n",
            " [5 6 7 8]]\n"
          ]
        }
      ]
    },
    {
      "cell_type": "code",
      "source": [
        "print(np.linspace(0,1,5))\n",
        "print(np.arange(0,10,2))\n",
        "#특정분포를 따르는 확률변수 값 생성\n",
        "print(np.random.normal(0,1,(3,3)))\n",
        "print(np.random.uniform(0,10,3))\n",
        "print(np.random.randint(0,10,3))"
      ],
      "metadata": {
        "colab": {
          "base_uri": "https://localhost:8080/"
        },
        "id": "RzRr5JbSN9YI",
        "outputId": "fac94b2b-c553-4c93-bd7c-0901734424b9"
      },
      "execution_count": null,
      "outputs": [
        {
          "output_type": "stream",
          "name": "stdout",
          "text": [
            "[0.   0.25 0.5  0.75 1.  ]\n",
            "[0 2 4 6 8]\n",
            "[[-0.15731143  0.59620204  0.61137656]\n",
            " [ 1.78757231 -1.17970809 -0.79377562]\n",
            " [-0.9711406  -0.10161405 -0.69749935]]\n",
            "[5.78090398 5.89559066 5.91702185]\n",
            "[0 9 0]\n"
          ]
        }
      ]
    },
    {
      "cell_type": "code",
      "source": [
        "x=np.array([[2,3],[4,0],[4,8]])\n",
        "print(x[0])\n",
        "print(x[0][1])\n",
        "\n",
        "#위치검색\n",
        "print(np.where(x==0))\n",
        "print(np.where(x%2==1))\n",
        "x.flatten"
      ],
      "metadata": {
        "colab": {
          "base_uri": "https://localhost:8080/"
        },
        "id": "IewHsrgfMebg",
        "outputId": "0d911964-b3f5-4644-9907-bb2393e1a51b"
      },
      "execution_count": null,
      "outputs": [
        {
          "output_type": "stream",
          "name": "stdout",
          "text": [
            "[2 3]\n",
            "3\n",
            "(array([1]), array([1]))\n",
            "(array([0]), array([1]))\n"
          ]
        },
        {
          "output_type": "execute_result",
          "data": {
            "text/plain": [
              "array([2, 3, 4, 0, 4, 8])"
            ]
          },
          "metadata": {},
          "execution_count": 29
        }
      ]
    },
    {
      "cell_type": "code",
      "source": [
        "for x in np.nditer(ar[:,::2]):\n",
        "  print(x[x>15])?"
      ],
      "metadata": {
        "colab": {
          "base_uri": "https://localhost:8080/",
          "height": 184
        },
        "id": "VcEnq71eRScQ",
        "outputId": "c9c53145-76cc-4734-e457-5cf6f2a7071b"
      },
      "execution_count": null,
      "outputs": [
        {
          "output_type": "error",
          "ename": "IndexError",
          "evalue": "ignored",
          "traceback": [
            "\u001b[0;31m---------------------------------------------------------------------------\u001b[0m",
            "\u001b[0;31mIndexError\u001b[0m                                Traceback (most recent call last)",
            "\u001b[0;32m<ipython-input-34-74e412ff0fa9>\u001b[0m in \u001b[0;36m<module>\u001b[0;34m()\u001b[0m\n\u001b[0;32m----> 1\u001b[0;31m \u001b[0;32mfor\u001b[0m \u001b[0mx\u001b[0m \u001b[0;32min\u001b[0m \u001b[0mnp\u001b[0m\u001b[0;34m.\u001b[0m\u001b[0mnditer\u001b[0m\u001b[0;34m(\u001b[0m\u001b[0mar\u001b[0m\u001b[0;34m[\u001b[0m\u001b[0;34m:\u001b[0m\u001b[0;34m,\u001b[0m\u001b[0;34m:\u001b[0m\u001b[0;34m:\u001b[0m\u001b[0;36m2\u001b[0m\u001b[0;34m]\u001b[0m\u001b[0;34m)\u001b[0m\u001b[0;34m:\u001b[0m\u001b[0;34m\u001b[0m\u001b[0;34m\u001b[0m\u001b[0m\n\u001b[0m\u001b[1;32m      2\u001b[0m   \u001b[0mprint\u001b[0m\u001b[0;34m(\u001b[0m\u001b[0mx\u001b[0m\u001b[0;34m[\u001b[0m\u001b[0mx\u001b[0m\u001b[0;34m>\u001b[0m\u001b[0;36m15\u001b[0m\u001b[0;34m]\u001b[0m\u001b[0;34m)\u001b[0m\u001b[0;34m\u001b[0m\u001b[0;34m\u001b[0m\u001b[0m\n",
            "\u001b[0;31mIndexError\u001b[0m: too many indices for array: array is 1-dimensional, but 2 were indexed"
          ]
        }
      ]
    },
    {
      "cell_type": "code",
      "source": [
        "ar=np.array([1,2,3,4,5,6,7])\n",
        "print(ar[0:3])\n",
        "print(ar[0:7:2])"
      ],
      "metadata": {
        "colab": {
          "base_uri": "https://localhost:8080/"
        },
        "id": "VpE4tm_1SQCU",
        "outputId": "017424ca-64e0-4688-fb99-0e14c6e29e10"
      },
      "execution_count": null,
      "outputs": [
        {
          "output_type": "stream",
          "name": "stdout",
          "text": [
            "[1 2 3]\n",
            "[1 3 5 7]\n"
          ]
        }
      ]
    },
    {
      "cell_type": "markdown",
      "source": [
        "데이터 타입\n",
        "____\n",
        "i 정수 / b 불린(false, true 형태로 출력) / u 양의 정수 / f 실수 / c 복소수 / m 시간 간격 / M 시간 간격 / O 객체 / S 문자열 / U 유니코드 문자열 / V 미지정"
      ],
      "metadata": {
        "id": "pvsuuzDXTFd2"
      }
    },
    {
      "cell_type": "code",
      "source": [
        "ar1=np.array([1.1,2.31,4.123])\n",
        "dr=ar1.astype(\"i\")\n",
        "print(dr)"
      ],
      "metadata": {
        "colab": {
          "base_uri": "https://localhost:8080/"
        },
        "id": "YWZws_MwTNTz",
        "outputId": "e2a2947e-639d-41f9-e3de-4285df92701b"
      },
      "execution_count": null,
      "outputs": [
        {
          "output_type": "stream",
          "name": "stdout",
          "text": [
            "[1 2 4]\n"
          ]
        }
      ]
    },
    {
      "cell_type": "markdown",
      "source": [
        "배열"
      ],
      "metadata": {
        "id": "FXVOz4vIVOE-"
      }
    },
    {
      "cell_type": "code",
      "source": [
        "ar=np.array([1,4,6,2])\n",
        "ac=ar.copy()\n",
        "av=ar.view()\n",
        "print(ac)\n",
        "print(av)"
      ],
      "metadata": {
        "colab": {
          "base_uri": "https://localhost:8080/"
        },
        "id": "zFmFIPj2U4Iv",
        "outputId": "8267c291-85d4-4875-b3cd-368e65d3d0f9"
      },
      "execution_count": null,
      "outputs": [
        {
          "output_type": "stream",
          "name": "stdout",
          "text": [
            "[1 4 6 2]\n",
            "[1 4 6 2]\n"
          ]
        }
      ]
    },
    {
      "cell_type": "markdown",
      "source": [
        "병합"
      ],
      "metadata": {
        "id": "SrEYQApWVQaw"
      }
    },
    {
      "cell_type": "code",
      "source": [
        "ar1=np.array([1,4,7])\n",
        "ar2=np.array([3,2,9])\n",
        "ar=np.concatenate((ar1,ar2))\n",
        "print(ar)\n",
        "ar3=np.stack((ar1,ar2),axis=1)\n",
        "ar4=np.stack((ar1,ar2),axis=0)\n",
        "print(ar3)\n",
        "print(ar4)\n",
        "ar5=np.hstack((ar1,ar2))\n",
        "ar6=np.vstack((ar1,ar2))\n",
        "print(ar5)\n",
        "print(ar6)\n",
        "ar6=np.dstack((ar1,ar2))\n",
        "print(ar6)"
      ],
      "metadata": {
        "colab": {
          "base_uri": "https://localhost:8080/"
        },
        "id": "dMizRFuCVRXg",
        "outputId": "ec9e5d32-9f61-4a15-f6c5-84d8d0e89e70"
      },
      "execution_count": null,
      "outputs": [
        {
          "output_type": "stream",
          "name": "stdout",
          "text": [
            "[1 4 7 3 2 9]\n",
            "[[1 3]\n",
            " [4 2]\n",
            " [7 9]]\n",
            "[[1 4 7]\n",
            " [3 2 9]]\n",
            "[1 4 7 3 2 9]\n",
            "[[1 4 7]\n",
            " [3 2 9]]\n",
            "[[[1 3]\n",
            "  [4 2]\n",
            "  [7 9]]]\n"
          ]
        }
      ]
    },
    {
      "cell_type": "markdown",
      "source": [
        "분할"
      ],
      "metadata": {
        "id": "SwyuSixiayJh"
      }
    },
    {
      "cell_type": "code",
      "source": [
        "ar=np.array([1,2,3,4,6,5])\n",
        "ar1=np.array_split(ar,3)\n",
        "ar2=np.split(ar,[1,5])\n",
        "print(ar1)\n",
        "print(ar2)\n"
      ],
      "metadata": {
        "colab": {
          "base_uri": "https://localhost:8080/"
        },
        "id": "9ZxcX-tYZKBu",
        "outputId": "4ba6048c-2362-40dc-ed92-3bbe3c3d1c3f"
      },
      "execution_count": null,
      "outputs": [
        {
          "output_type": "stream",
          "name": "stdout",
          "text": [
            "[array([1, 2]), array([3, 4]), array([6, 5])]\n",
            "[array([1]), array([2, 3, 4, 6]), array([5])]\n"
          ]
        }
      ]
    },
    {
      "cell_type": "markdown",
      "source": [
        "정렬"
      ],
      "metadata": {
        "id": "o00AB7DZcGiW"
      }
    },
    {
      "cell_type": "code",
      "source": [
        "ar=np.array([1,8,3,6,5,3])\n",
        "print(np.sort(ar)) #원배열은 그대로 남아있음\n",
        "print(np.argsort(ar)) #위치를 출력함"
      ],
      "metadata": {
        "colab": {
          "base_uri": "https://localhost:8080/"
        },
        "id": "tnDrCaRrcF6v",
        "outputId": "c4c00e51-d565-4289-8e9a-ff3bdab65e94"
      },
      "execution_count": null,
      "outputs": [
        {
          "output_type": "stream",
          "name": "stdout",
          "text": [
            "[1 3 3 5 6 8]\n",
            "[0 2 5 4 3 1]\n"
          ]
        }
      ]
    },
    {
      "cell_type": "markdown",
      "source": [
        "기초통계"
      ],
      "metadata": {
        "id": "LN0yozxZdMuH"
      }
    },
    {
      "cell_type": "code",
      "source": [
        "x=([15,35,72,43,16,42])\n",
        "print(np.mean(x))\n",
        "print(np.sum(x))\n",
        "print(np.std(x))\n",
        "print(np.var(x))\n",
        "print(np.min(x))\n",
        "print(np.argmin(x))  #최소값을 만들어주는 x값\n",
        "print(np.median(x))"
      ],
      "metadata": {
        "colab": {
          "base_uri": "https://localhost:8080/"
        },
        "id": "bBWQCWOUdLDe",
        "outputId": "6361227f-deb2-4f4f-cf4c-6f041c3555b4"
      },
      "execution_count": null,
      "outputs": [
        {
          "output_type": "stream",
          "name": "stdout",
          "text": [
            "37.166666666666664\n",
            "223\n",
            "19.212987505562193\n",
            "369.1388888888889\n",
            "15\n",
            "0\n",
            "38.5\n"
          ]
        }
      ]
    },
    {
      "cell_type": "markdown",
      "source": [
        "필터"
      ],
      "metadata": {
        "id": "Wbalwpkdd_7q"
      }
    },
    {
      "cell_type": "code",
      "source": [
        "ar=np.array([67,2,34,5,35])\n",
        "filter=[True,False,True,False,True]\n",
        "ar1=ar[filter]\n",
        "print(ar1)"
      ],
      "metadata": {
        "colab": {
          "base_uri": "https://localhost:8080/"
        },
        "id": "eWsyILC8eA1l",
        "outputId": "5ab4d188-2e6a-4254-92d5-92ed91be565a"
      },
      "execution_count": null,
      "outputs": [
        {
          "output_type": "stream",
          "name": "stdout",
          "text": [
            "[67 34 35]\n"
          ]
        }
      ]
    },
    {
      "cell_type": "code",
      "source": [
        "ar=np.array([67,2,34,5,35])\n",
        "filter=[]\n",
        "for x in ar:\n",
        "  if x>30:\n",
        "    filter.append(True)\n",
        "  else:\n",
        "    filter.append(False)\n",
        "\n",
        "print(ar[filter])"
      ],
      "metadata": {
        "colab": {
          "base_uri": "https://localhost:8080/"
        },
        "id": "oCCOkefUeU7Z",
        "outputId": "096d5e17-921e-4e9b-e9fb-9fcab3b3c8fa"
      },
      "execution_count": null,
      "outputs": [
        {
          "output_type": "stream",
          "name": "stdout",
          "text": [
            "[67 34 35]\n"
          ]
        }
      ]
    },
    {
      "cell_type": "code",
      "source": [
        "x=np.array([[1,2],[3,4],[5,6],[7,8]])\n",
        "y=np.array([1,0,1,0])\n",
        "print(x[y==1,:])"
      ],
      "metadata": {
        "colab": {
          "base_uri": "https://localhost:8080/"
        },
        "id": "JKBuEErrjQBS",
        "outputId": "e233648e-6ff5-4b3d-a239-968f0cbdde11"
      },
      "execution_count": null,
      "outputs": [
        {
          "output_type": "stream",
          "name": "stdout",
          "text": [
            "[[1 2]\n",
            " [5 6]]\n"
          ]
        }
      ]
    },
    {
      "cell_type": "code",
      "source": [
        "x=np.arange(12).reshape((3,4))\n",
        "ind=np.array([1,3])\n",
        "print(x)\n",
        "print(x[:,~ind])  #~거꾸로"
      ],
      "metadata": {
        "colab": {
          "base_uri": "https://localhost:8080/"
        },
        "id": "GOBbH84MjuRs",
        "outputId": "1fbfded9-597d-4f70-f7a4-be9312ede9e0"
      },
      "execution_count": null,
      "outputs": [
        {
          "output_type": "stream",
          "name": "stdout",
          "text": [
            "[[ 0  1  2  3]\n",
            " [ 4  5  6  7]\n",
            " [ 8  9 10 11]]\n",
            "[[ 2  0]\n",
            " [ 6  4]\n",
            " [10  8]]\n"
          ]
        }
      ]
    },
    {
      "cell_type": "markdown",
      "source": [
        "랜덤"
      ],
      "metadata": {
        "id": "poHpQVpwktvw"
      }
    },
    {
      "cell_type": "code",
      "source": [
        "from numpy import *\n",
        "r=random.randint(100,size=7)\n",
        "print(r)\n",
        "r_1=random.randint(100,size=(3,7))\n",
        "print(r_1)\n",
        "\n",
        "r_2=random.rand(3)\n",
        "print(r_2) ##9자리 실수\n",
        "\n",
        "r_3=random.choice([1,2,3,4,5,6,7],size=(2,5))\n",
        "print(r_3)"
      ],
      "metadata": {
        "colab": {
          "base_uri": "https://localhost:8080/"
        },
        "id": "pxmGuvjikvB4",
        "outputId": "5aa65f1e-c046-4ac7-904d-79e0063fa0ed"
      },
      "execution_count": null,
      "outputs": [
        {
          "output_type": "stream",
          "name": "stdout",
          "text": [
            "[88  9 27 44 74 67 80]\n",
            "[[76 83 26 72 31 90 57]\n",
            " [63 18 47 64 29 69 18]\n",
            " [75 56 20  2 63 40  3]]\n",
            "[0.85776398 0.3610337  0.86007653]\n",
            "[[3 3 7 1 1]\n",
            " [4 7 2 3 4]]\n"
          ]
        }
      ]
    },
    {
      "cell_type": "code",
      "source": [
        "from numpy import *\n",
        "from pandas import *\n",
        "\n",
        "\n",
        "\n",
        "##파일 업로드\n",
        "from google.colab import files\n",
        "uploaded = files.upload()\n",
        "\n",
        "#df=pd.read_csv(‘data.csv’)"
      ],
      "metadata": {
        "colab": {
          "resources": {
            "http://localhost:8080/nbextensions/google.colab/files.js": {
              "data": "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",
              "ok": true,
              "headers": [
                [
                  "content-type",
                  "application/javascript"
                ]
              ],
              "status": 200,
              "status_text": ""
            }
          },
          "base_uri": "https://localhost:8080/",
          "height": 39
        },
        "id": "LcD4NzQfmX1K",
        "outputId": "8bf1e6ff-5eaa-4e15-895e-500f99fda610"
      },
      "execution_count": null,
      "outputs": [
        {
          "output_type": "display_data",
          "data": {
            "text/html": [
              "\n",
              "     <input type=\"file\" id=\"files-f5e35cec-d81d-4ade-93a7-8eee545f921f\" name=\"files[]\" multiple disabled\n",
              "        style=\"border:none\" />\n",
              "     <output id=\"result-f5e35cec-d81d-4ade-93a7-8eee545f921f\">\n",
              "      Upload widget is only available when the cell has been executed in the\n",
              "      current browser session. Please rerun this cell to enable.\n",
              "      </output>\n",
              "      <script src=\"/nbextensions/google.colab/files.js\"></script> "
            ],
            "text/plain": [
              "<IPython.core.display.HTML object>"
            ]
          },
          "metadata": {}
        }
      ]
    },
    {
      "cell_type": "code",
      "source": [
        "import seaborn as sns"
      ],
      "metadata": {
        "id": "3TwWAZQ1nZ5-"
      },
      "execution_count": null,
      "outputs": []
    },
    {
      "cell_type": "code",
      "source": [
        "df=sns.load_dataset('titanic')\n"
      ],
      "metadata": {
        "id": "F8EtgUvMm_mP"
      },
      "execution_count": null,
      "outputs": []
    },
    {
      "cell_type": "markdown",
      "source": [
        "## 꿔바로우씨의 라이브러리 참고하기"
      ],
      "metadata": {
        "id": "DCVjQPI9NPN3"
      }
    },
    {
      "cell_type": "code",
      "source": [
        "eval(\"9/3**2\")"
      ],
      "metadata": {
        "id": "VyLtjpKxNSE5",
        "outputId": "8682f961-e955-460e-977c-93468c19f59c",
        "colab": {
          "base_uri": "https://localhost:8080/"
        }
      },
      "execution_count": null,
      "outputs": [
        {
          "output_type": "execute_result",
          "data": {
            "text/plain": [
              "1.0"
            ]
          },
          "metadata": {},
          "execution_count": 46
        }
      ]
    },
    {
      "cell_type": "code",
      "source": [
        "a=[('A',7,6),('B',5,2),('C',3,4)]\n",
        "sorted(a, key=lambda a: a[2])  #키 설정"
      ],
      "metadata": {
        "id": "lKfP6TB1EF_c",
        "outputId": "2e3af5c9-7f90-4777-8a68-0c5247a2ec36",
        "colab": {
          "base_uri": "https://localhost:8080/"
        }
      },
      "execution_count": 6,
      "outputs": [
        {
          "output_type": "execute_result",
          "data": {
            "text/plain": [
              "[('B', 5, 2), ('C', 3, 4), ('A', 7, 6)]"
            ]
          },
          "metadata": {},
          "execution_count": 6
        }
      ]
    },
    {
      "cell_type": "markdown",
      "source": [
        "순열, 조합"
      ],
      "metadata": {
        "id": "5bHz5VcxFLyV"
      }
    },
    {
      "cell_type": "code",
      "source": [
        "from itertools import permutations as pm #순열\n",
        "from itertools import combinations as cm #조합\n",
        "from itertools import product #중복순열\n",
        "from itertools import combinations_with_replacement as cmr #중복조합"
      ],
      "metadata": {
        "id": "HJSYSxbsFNb4"
      },
      "execution_count": 17,
      "outputs": []
    },
    {
      "cell_type": "code",
      "source": [
        "x=[1,2,3,4]\n",
        "print(list(pm(x,2)))\n",
        "print(list(cm(x,2)))\n",
        "print(list(product(x,repeat=2)))\n",
        "print(list(cmr(x,2)))\n"
      ],
      "metadata": {
        "id": "6ISt4h28FrBl",
        "outputId": "ed9a4fc1-13da-452d-c639-ff3062587cad",
        "colab": {
          "base_uri": "https://localhost:8080/"
        }
      },
      "execution_count": 20,
      "outputs": [
        {
          "output_type": "stream",
          "name": "stdout",
          "text": [
            "[(1, 2), (1, 3), (1, 4), (2, 1), (2, 3), (2, 4), (3, 1), (3, 2), (3, 4), (4, 1), (4, 2), (4, 3)]\n",
            "[(1, 2), (1, 3), (1, 4), (2, 3), (2, 4), (3, 4)]\n",
            "[(1, 1), (1, 2), (1, 3), (1, 4), (2, 1), (2, 2), (2, 3), (2, 4), (3, 1), (3, 2), (3, 3), (3, 4), (4, 1), (4, 2), (4, 3), (4, 4)]\n",
            "[(1, 1), (1, 2), (1, 3), (1, 4), (2, 2), (2, 3), (2, 4), (3, 3), (3, 4), (4, 4)]\n"
          ]
        }
      ]
    },
    {
      "cell_type": "markdown",
      "source": [
        "heapq"
      ],
      "metadata": {
        "id": "rQ9rRrWuLM1K"
      }
    },
    {
      "cell_type": "code",
      "source": [
        "import heapq\n",
        "\n",
        "\n",
        "nums = [4, 1, 7, 3, 8, 5]\n",
        "\n",
        "heap1=[]\n",
        "heap2=[]\n",
        "heapr=[]\n",
        "\n",
        "for num in nums:\n",
        "  heapq.heappush(heap1, num)\n",
        "\n",
        "while heap1:\n",
        "  heapq.heappop(heap1)\n",
        "  print(heap1)\n",
        "\n",
        "\n",
        "for num in nums:\n",
        "  heapq.heappush(heap2, (-num, num))  # (우선 순위, 값)\n",
        "\n",
        "while heap2:\n",
        "  heapr.append(heapq.heappop(heap2)[1])  # index 1\n",
        "\n",
        "print(heapr)\n",
        "\n"
      ],
      "metadata": {
        "id": "zPEyT-SmJSpg",
        "outputId": "e113878f-9c60-4f77-fd98-223762dd2b4e",
        "colab": {
          "base_uri": "https://localhost:8080/"
        }
      },
      "execution_count": 28,
      "outputs": [
        {
          "output_type": "stream",
          "name": "stdout",
          "text": [
            "[3, 4, 5, 7, 8]\n",
            "[4, 7, 5, 8]\n",
            "[5, 7, 8]\n",
            "[7, 8]\n",
            "[8]\n",
            "[]\n",
            "[8, 7, 5, 4, 3, 1]\n"
          ]
        }
      ]
    },
    {
      "cell_type": "markdown",
      "source": [
        "bisect"
      ],
      "metadata": {
        "id": "xP3HTMrsLOgR"
      }
    },
    {
      "cell_type": "code",
      "source": [
        "from bisect import bisect_left, bisect_right\n",
        "\n",
        "nums = [0,0,3,5,5,5,7,8]\n",
        "print(bisect_left(nums,5))\n",
        "print(bisect_right(nums,5))"
      ],
      "metadata": {
        "id": "Wc7OM7hzLPkt",
        "outputId": "2fe447cd-ed8f-48ce-87af-7064a0a323df",
        "colab": {
          "base_uri": "https://localhost:8080/"
        }
      },
      "execution_count": 40,
      "outputs": [
        {
          "output_type": "stream",
          "name": "stdout",
          "text": [
            "3\n",
            "6\n"
          ]
        }
      ]
    },
    {
      "cell_type": "markdown",
      "source": [
        "collections"
      ],
      "metadata": {
        "id": "tAdBPIlVPtMC"
      }
    },
    {
      "cell_type": "code",
      "source": [
        "from collections import deque\n",
        "x=deque([1,5,7,8,33])\n",
        "\n",
        "x.appendleft('dk')\n",
        "x.append(9)\n",
        "\n",
        "print(x)\n",
        "\n",
        "x.popleft()\n",
        "x.pop()\n",
        "print(x)"
      ],
      "metadata": {
        "id": "zQ5bRRbDPqlH",
        "outputId": "9a1d4a7e-6357-4a5a-8295-425b92a5b510",
        "colab": {
          "base_uri": "https://localhost:8080/"
        }
      },
      "execution_count": 44,
      "outputs": [
        {
          "output_type": "stream",
          "name": "stdout",
          "text": [
            "deque(['dk', 1, 5, 7, 8, 33, 9])\n",
            "deque([1, 5, 7, 8, 33])\n"
          ]
        }
      ]
    },
    {
      "cell_type": "code",
      "source": [
        "#빈도 계산\n",
        "from collections import Counter\n",
        "c=Counter([1,1,1,1,1,3,3,2,5,7,7,7])\n",
        "c"
      ],
      "metadata": {
        "id": "OqMJZdYVQOQh",
        "outputId": "bd517254-ab2a-4aa1-97ea-81be7f3dc75e",
        "colab": {
          "base_uri": "https://localhost:8080/"
        }
      },
      "execution_count": 45,
      "outputs": [
        {
          "output_type": "execute_result",
          "data": {
            "text/plain": [
              "Counter({1: 5, 2: 1, 3: 2, 5: 1, 7: 3})"
            ]
          },
          "metadata": {},
          "execution_count": 45
        }
      ]
    },
    {
      "cell_type": "code",
      "source": [
        "import math\n",
        "print(math.factorial(5))\n",
        "print(math.sqrt(25))\n",
        "math.gcd(5,15) #최대공약수\n",
        "print(math.pi)\n",
        "print(math.e)\n"
      ],
      "metadata": {
        "id": "dmKUoOgaQWyW",
        "outputId": "afda803b-1e44-46d3-cb90-0aec6da2c9ff",
        "colab": {
          "base_uri": "https://localhost:8080/"
        }
      },
      "execution_count": 49,
      "outputs": [
        {
          "output_type": "stream",
          "name": "stdout",
          "text": [
            "120\n",
            "5.0\n",
            "3.141592653589793\n",
            "2.718281828459045\n"
          ]
        }
      ]
    }
  ]
}